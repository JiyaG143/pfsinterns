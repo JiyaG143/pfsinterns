{
  "cells": [
    {
      "cell_type": "code",
      "source": "import pandas as pd\nimport numpy as np\nimport matplotlib.pyplot as plt\nimport seaborn as sns\nimport scipy as sc\nimport sklearn as sk",
      "metadata": {
        "source_hash": "19927863",
        "execution_start": 1726976517077,
        "execution_millis": 1473,
        "deepnote_to_be_reexecuted": false,
        "cell_id": "2ca20b0d61b243b6a1992571ac1ee6b6",
        "deepnote_cell_type": "code"
      },
      "outputs": [],
      "outputs_reference": null,
      "execution_count": 1,
      "block_group": "2ca20b0d61b243b6a1992571ac1ee6b6",
      "content_dependencies": null
    },
    {
      "cell_type": "code",
      "source": "input_1 = 'file_input_uploads/heart_disease_uci.csv'",
      "metadata": {
        "source_hash": "2cde6386",
        "execution_start": 1726976518552,
        "execution_millis": 68,
        "deepnote_variable_name": "input_1",
        "deepnote_variable_value": "file_input_uploads/heart_disease_uci.csv",
        "deepnote_to_be_reexecuted": false,
        "cell_id": "5442c02470ec4809969cb0ae44aaca8f",
        "deepnote_cell_type": "input-file"
      },
      "outputs": [],
      "outputs_reference": null,
      "execution_count": 2,
      "block_group": "8fa51700a78044a082e2751f49ad3da6"
    },
    {
      "cell_type": "code",
      "source": "!pip install pyreadstat",
      "metadata": {
        "source_hash": "b3e9d8af",
        "execution_start": 1726976518552,
        "execution_millis": 3878,
        "deepnote_to_be_reexecuted": false,
        "cell_id": "a12890d880974a3289dd83ed0f70dec3",
        "deepnote_cell_type": "code"
      },
      "outputs": [
        {
          "name": "stdout",
          "text": "Collecting pyreadstat\n  Downloading pyreadstat-1.2.7-cp39-cp39-manylinux_2_17_x86_64.manylinux2014_x86_64.whl (2.8 MB)\n\u001b[2K     \u001b[90m━━━━━━━━━━━━━━━━━━━━━━━━━━━━━━━━━━━━━━━━\u001b[0m \u001b[32m2.8/2.8 MB\u001b[0m \u001b[31m59.8 MB/s\u001b[0m eta \u001b[36m0:00:00\u001b[0m\n\u001b[?25hRequirement already satisfied: pandas>=1.2.0 in /shared-libs/python3.9/py/lib/python3.9/site-packages (from pyreadstat) (2.1.4)\nRequirement already satisfied: pytz>=2020.1 in /shared-libs/python3.9/py/lib/python3.9/site-packages (from pandas>=1.2.0->pyreadstat) (2022.5)\nRequirement already satisfied: tzdata>=2022.1 in /shared-libs/python3.9/py/lib/python3.9/site-packages (from pandas>=1.2.0->pyreadstat) (2022.5)\nRequirement already satisfied: numpy<2,>=1.22.4 in /shared-libs/python3.9/py/lib/python3.9/site-packages (from pandas>=1.2.0->pyreadstat) (1.23.4)\nRequirement already satisfied: python-dateutil>=2.8.2 in /shared-libs/python3.9/py-core/lib/python3.9/site-packages (from pandas>=1.2.0->pyreadstat) (2.8.2)\nRequirement already satisfied: six>=1.5 in /shared-libs/python3.9/py-core/lib/python3.9/site-packages (from python-dateutil>=2.8.2->pandas>=1.2.0->pyreadstat) (1.16.0)\nInstalling collected packages: pyreadstat\nSuccessfully installed pyreadstat-1.2.7\n\n\u001b[1m[\u001b[0m\u001b[34;49mnotice\u001b[0m\u001b[1;39;49m]\u001b[0m\u001b[39;49m A new release of pip is available: \u001b[0m\u001b[31;49m23.0.1\u001b[0m\u001b[39;49m -> \u001b[0m\u001b[32;49m24.2\u001b[0m\n\u001b[1m[\u001b[0m\u001b[34;49mnotice\u001b[0m\u001b[1;39;49m]\u001b[0m\u001b[39;49m To update, run: \u001b[0m\u001b[32;49mpip install --upgrade pip\u001b[0m\n",
          "output_type": "stream"
        }
      ],
      "outputs_reference": null,
      "execution_count": 3,
      "block_group": "083fa21a0ceb477c8fc394ceca2b56f0",
      "content_dependencies": null
    },
    {
      "cell_type": "markdown",
      "source": "### Data Aquisition",
      "metadata": {
        "cell_id": "16ac82803f8c4861987f16ae0fc6f2a7",
        "deepnote_cell_type": "markdown"
      },
      "block_group": "16d3c772cbf54b5cac454ec6ee4a1721"
    },
    {
      "cell_type": "code",
      "source": "# Update the file path to the correct one provided earlier\n\ndf = pd.read_csv(input_1)\ndf.head()",
      "metadata": {
        "source_hash": "c80e2884",
        "execution_start": 1726976658799,
        "execution_millis": 194,
        "deepnote_to_be_reexecuted": false,
        "cell_id": "8f364387593a49ef9ab55fdc44d29e45",
        "deepnote_cell_type": "code"
      },
      "outputs": [
        {
          "output_type": "execute_result",
          "execution_count": 5,
          "data": {
            "application/vnd.deepnote.dataframe.v3+json": {
              "column_count": 16,
              "row_count": 5,
              "columns": [
                {
                  "name": "id",
                  "dtype": "int64",
                  "stats": {
                    "unique_count": 5,
                    "nan_count": 0,
                    "min": "1",
                    "max": "5",
                    "histogram": [
                      {
                        "bin_start": 1,
                        "bin_end": 1.4,
                        "count": 1
                      },
                      {
                        "bin_start": 1.4,
                        "bin_end": 1.8,
                        "count": 0
                      },
                      {
                        "bin_start": 1.8,
                        "bin_end": 2.2,
                        "count": 1
                      },
                      {
                        "bin_start": 2.2,
                        "bin_end": 2.6,
                        "count": 0
                      },
                      {
                        "bin_start": 2.6,
                        "bin_end": 3,
                        "count": 0
                      },
                      {
                        "bin_start": 3,
                        "bin_end": 3.4000000000000004,
                        "count": 1
                      },
                      {
                        "bin_start": 3.4000000000000004,
                        "bin_end": 3.8000000000000003,
                        "count": 0
                      },
                      {
                        "bin_start": 3.8000000000000003,
                        "bin_end": 4.2,
                        "count": 1
                      },
                      {
                        "bin_start": 4.2,
                        "bin_end": 4.6,
                        "count": 0
                      },
                      {
                        "bin_start": 4.6,
                        "bin_end": 5,
                        "count": 1
                      }
                    ]
                  }
                },
                {
                  "name": "age",
                  "dtype": "int64",
                  "stats": {
                    "unique_count": 4,
                    "nan_count": 0,
                    "min": "37",
                    "max": "67",
                    "histogram": [
                      {
                        "bin_start": 37,
                        "bin_end": 40,
                        "count": 1
                      },
                      {
                        "bin_start": 40,
                        "bin_end": 43,
                        "count": 1
                      },
                      {
                        "bin_start": 43,
                        "bin_end": 46,
                        "count": 0
                      },
                      {
                        "bin_start": 46,
                        "bin_end": 49,
                        "count": 0
                      },
                      {
                        "bin_start": 49,
                        "bin_end": 52,
                        "count": 0
                      },
                      {
                        "bin_start": 52,
                        "bin_end": 55,
                        "count": 0
                      },
                      {
                        "bin_start": 55,
                        "bin_end": 58,
                        "count": 0
                      },
                      {
                        "bin_start": 58,
                        "bin_end": 61,
                        "count": 0
                      },
                      {
                        "bin_start": 61,
                        "bin_end": 64,
                        "count": 1
                      },
                      {
                        "bin_start": 64,
                        "bin_end": 67,
                        "count": 2
                      }
                    ]
                  }
                },
                {
                  "name": "sex",
                  "dtype": "object",
                  "stats": {
                    "unique_count": 2,
                    "nan_count": 0,
                    "categories": [
                      {
                        "name": "Male",
                        "count": 4
                      },
                      {
                        "name": "Female",
                        "count": 1
                      }
                    ]
                  }
                },
                {
                  "name": "dataset",
                  "dtype": "object",
                  "stats": {
                    "unique_count": 1,
                    "nan_count": 0,
                    "categories": [
                      {
                        "name": "Cleveland",
                        "count": 5
                      }
                    ]
                  }
                },
                {
                  "name": "cp",
                  "dtype": "object",
                  "stats": {
                    "unique_count": 4,
                    "nan_count": 0,
                    "categories": [
                      {
                        "name": "asymptomatic",
                        "count": 2
                      },
                      {
                        "name": "typical angina",
                        "count": 1
                      },
                      {
                        "name": "2 others",
                        "count": 2
                      }
                    ]
                  }
                },
                {
                  "name": "trestbps",
                  "dtype": "float64",
                  "stats": {
                    "unique_count": 4,
                    "nan_count": 0,
                    "min": "120.0",
                    "max": "160.0",
                    "histogram": [
                      {
                        "bin_start": 120,
                        "bin_end": 124,
                        "count": 1
                      },
                      {
                        "bin_start": 124,
                        "bin_end": 128,
                        "count": 0
                      },
                      {
                        "bin_start": 128,
                        "bin_end": 132,
                        "count": 2
                      },
                      {
                        "bin_start": 132,
                        "bin_end": 136,
                        "count": 0
                      },
                      {
                        "bin_start": 136,
                        "bin_end": 140,
                        "count": 0
                      },
                      {
                        "bin_start": 140,
                        "bin_end": 144,
                        "count": 0
                      },
                      {
                        "bin_start": 144,
                        "bin_end": 148,
                        "count": 1
                      },
                      {
                        "bin_start": 148,
                        "bin_end": 152,
                        "count": 0
                      },
                      {
                        "bin_start": 152,
                        "bin_end": 156,
                        "count": 0
                      },
                      {
                        "bin_start": 156,
                        "bin_end": 160,
                        "count": 1
                      }
                    ]
                  }
                },
                {
                  "name": "chol",
                  "dtype": "float64",
                  "stats": {
                    "unique_count": 5,
                    "nan_count": 0,
                    "min": "204.0",
                    "max": "286.0",
                    "histogram": [
                      {
                        "bin_start": 204,
                        "bin_end": 212.2,
                        "count": 1
                      },
                      {
                        "bin_start": 212.2,
                        "bin_end": 220.4,
                        "count": 0
                      },
                      {
                        "bin_start": 220.4,
                        "bin_end": 228.6,
                        "count": 0
                      },
                      {
                        "bin_start": 228.6,
                        "bin_end": 236.8,
                        "count": 2
                      },
                      {
                        "bin_start": 236.8,
                        "bin_end": 245,
                        "count": 0
                      },
                      {
                        "bin_start": 245,
                        "bin_end": 253.2,
                        "count": 1
                      },
                      {
                        "bin_start": 253.2,
                        "bin_end": 261.4,
                        "count": 0
                      },
                      {
                        "bin_start": 261.4,
                        "bin_end": 269.6,
                        "count": 0
                      },
                      {
                        "bin_start": 269.6,
                        "bin_end": 277.8,
                        "count": 0
                      },
                      {
                        "bin_start": 277.8,
                        "bin_end": 286,
                        "count": 1
                      }
                    ]
                  }
                },
                {
                  "name": "fbs",
                  "dtype": "object",
                  "stats": {
                    "unique_count": 2,
                    "nan_count": 0,
                    "categories": [
                      {
                        "name": "False",
                        "count": 4
                      },
                      {
                        "name": "True",
                        "count": 1
                      }
                    ]
                  }
                },
                {
                  "name": "restecg",
                  "dtype": "object",
                  "stats": {
                    "unique_count": 2,
                    "nan_count": 0,
                    "categories": [
                      {
                        "name": "lv hypertrophy",
                        "count": 4
                      },
                      {
                        "name": "normal",
                        "count": 1
                      }
                    ]
                  }
                },
                {
                  "name": "thalch",
                  "dtype": "float64",
                  "stats": {
                    "unique_count": 5,
                    "nan_count": 0,
                    "min": "108.0",
                    "max": "187.0",
                    "histogram": [
                      {
                        "bin_start": 108,
                        "bin_end": 115.9,
                        "count": 1
                      },
                      {
                        "bin_start": 115.9,
                        "bin_end": 123.8,
                        "count": 0
                      },
                      {
                        "bin_start": 123.8,
                        "bin_end": 131.7,
                        "count": 1
                      },
                      {
                        "bin_start": 131.7,
                        "bin_end": 139.6,
                        "count": 0
                      },
                      {
                        "bin_start": 139.6,
                        "bin_end": 147.5,
                        "count": 0
                      },
                      {
                        "bin_start": 147.5,
                        "bin_end": 155.4,
                        "count": 1
                      },
                      {
                        "bin_start": 155.4,
                        "bin_end": 163.3,
                        "count": 0
                      },
                      {
                        "bin_start": 163.3,
                        "bin_end": 171.2,
                        "count": 0
                      },
                      {
                        "bin_start": 171.2,
                        "bin_end": 179.10000000000002,
                        "count": 1
                      },
                      {
                        "bin_start": 179.10000000000002,
                        "bin_end": 187,
                        "count": 1
                      }
                    ]
                  }
                },
                {
                  "name": "exang",
                  "dtype": "object",
                  "stats": {
                    "unique_count": 2,
                    "nan_count": 0,
                    "categories": [
                      {
                        "name": "False",
                        "count": 3
                      },
                      {
                        "name": "True",
                        "count": 2
                      }
                    ]
                  }
                },
                {
                  "name": "oldpeak",
                  "dtype": "float64",
                  "stats": {
                    "unique_count": 5,
                    "nan_count": 0,
                    "min": "1.4",
                    "max": "3.5",
                    "histogram": [
                      {
                        "bin_start": 1.4,
                        "bin_end": 1.6099999999999999,
                        "count": 2
                      },
                      {
                        "bin_start": 1.6099999999999999,
                        "bin_end": 1.8199999999999998,
                        "count": 0
                      },
                      {
                        "bin_start": 1.8199999999999998,
                        "bin_end": 2.0300000000000002,
                        "count": 0
                      },
                      {
                        "bin_start": 2.0300000000000002,
                        "bin_end": 2.24,
                        "count": 0
                      },
                      {
                        "bin_start": 2.24,
                        "bin_end": 2.45,
                        "count": 1
                      },
                      {
                        "bin_start": 2.45,
                        "bin_end": 2.66,
                        "count": 1
                      },
                      {
                        "bin_start": 2.66,
                        "bin_end": 2.87,
                        "count": 0
                      },
                      {
                        "bin_start": 2.87,
                        "bin_end": 3.08,
                        "count": 0
                      },
                      {
                        "bin_start": 3.08,
                        "bin_end": 3.29,
                        "count": 0
                      },
                      {
                        "bin_start": 3.29,
                        "bin_end": 3.5,
                        "count": 1
                      }
                    ]
                  }
                },
                {
                  "name": "slope",
                  "dtype": "object",
                  "stats": {
                    "unique_count": 3,
                    "nan_count": 0,
                    "categories": [
                      {
                        "name": "downsloping",
                        "count": 2
                      },
                      {
                        "name": "flat",
                        "count": 2
                      },
                      {
                        "name": "upsloping",
                        "count": 1
                      }
                    ]
                  }
                },
                {
                  "name": "ca",
                  "dtype": "float64",
                  "stats": {
                    "unique_count": 3,
                    "nan_count": 0,
                    "min": "0.0",
                    "max": "3.0",
                    "histogram": [
                      {
                        "bin_start": 0,
                        "bin_end": 0.3,
                        "count": 3
                      },
                      {
                        "bin_start": 0.3,
                        "bin_end": 0.6,
                        "count": 0
                      },
                      {
                        "bin_start": 0.6,
                        "bin_end": 0.8999999999999999,
                        "count": 0
                      },
                      {
                        "bin_start": 0.8999999999999999,
                        "bin_end": 1.2,
                        "count": 0
                      },
                      {
                        "bin_start": 1.2,
                        "bin_end": 1.5,
                        "count": 0
                      },
                      {
                        "bin_start": 1.5,
                        "bin_end": 1.7999999999999998,
                        "count": 0
                      },
                      {
                        "bin_start": 1.7999999999999998,
                        "bin_end": 2.1,
                        "count": 1
                      },
                      {
                        "bin_start": 2.1,
                        "bin_end": 2.4,
                        "count": 0
                      },
                      {
                        "bin_start": 2.4,
                        "bin_end": 2.6999999999999997,
                        "count": 0
                      },
                      {
                        "bin_start": 2.6999999999999997,
                        "bin_end": 3,
                        "count": 1
                      }
                    ]
                  }
                },
                {
                  "name": "thal",
                  "dtype": "object",
                  "stats": {
                    "unique_count": 3,
                    "nan_count": 0,
                    "categories": [
                      {
                        "name": "normal",
                        "count": 3
                      },
                      {
                        "name": "fixed defect",
                        "count": 1
                      },
                      {
                        "name": "reversable defect",
                        "count": 1
                      }
                    ]
                  }
                },
                {
                  "name": "num",
                  "dtype": "int64",
                  "stats": {
                    "unique_count": 3,
                    "nan_count": 0,
                    "min": "0",
                    "max": "2",
                    "histogram": [
                      {
                        "bin_start": 0,
                        "bin_end": 0.2,
                        "count": 3
                      },
                      {
                        "bin_start": 0.2,
                        "bin_end": 0.4,
                        "count": 0
                      },
                      {
                        "bin_start": 0.4,
                        "bin_end": 0.6000000000000001,
                        "count": 0
                      },
                      {
                        "bin_start": 0.6000000000000001,
                        "bin_end": 0.8,
                        "count": 0
                      },
                      {
                        "bin_start": 0.8,
                        "bin_end": 1,
                        "count": 0
                      },
                      {
                        "bin_start": 1,
                        "bin_end": 1.2000000000000002,
                        "count": 1
                      },
                      {
                        "bin_start": 1.2000000000000002,
                        "bin_end": 1.4000000000000001,
                        "count": 0
                      },
                      {
                        "bin_start": 1.4000000000000001,
                        "bin_end": 1.6,
                        "count": 0
                      },
                      {
                        "bin_start": 1.6,
                        "bin_end": 1.8,
                        "count": 0
                      },
                      {
                        "bin_start": 1.8,
                        "bin_end": 2,
                        "count": 1
                      }
                    ]
                  }
                },
                {
                  "name": "_deepnote_index_column",
                  "dtype": "int64"
                }
              ],
              "rows": [
                {
                  "id": 1,
                  "age": 63,
                  "sex": "Male",
                  "dataset": "Cleveland",
                  "cp": "typical angina",
                  "trestbps": 145,
                  "chol": 233,
                  "fbs": "True",
                  "restecg": "lv hypertrophy",
                  "thalch": 150,
                  "exang": "False",
                  "oldpeak": 2.3,
                  "slope": "downsloping",
                  "ca": 0,
                  "thal": "fixed defect",
                  "num": 0,
                  "_deepnote_index_column": 0
                },
                {
                  "id": 2,
                  "age": 67,
                  "sex": "Male",
                  "dataset": "Cleveland",
                  "cp": "asymptomatic",
                  "trestbps": 160,
                  "chol": 286,
                  "fbs": "False",
                  "restecg": "lv hypertrophy",
                  "thalch": 108,
                  "exang": "True",
                  "oldpeak": 1.5,
                  "slope": "flat",
                  "ca": 3,
                  "thal": "normal",
                  "num": 2,
                  "_deepnote_index_column": 1
                },
                {
                  "id": 3,
                  "age": 67,
                  "sex": "Male",
                  "dataset": "Cleveland",
                  "cp": "asymptomatic",
                  "trestbps": 120,
                  "chol": 229,
                  "fbs": "False",
                  "restecg": "lv hypertrophy",
                  "thalch": 129,
                  "exang": "True",
                  "oldpeak": 2.6,
                  "slope": "flat",
                  "ca": 2,
                  "thal": "reversable defect",
                  "num": 1,
                  "_deepnote_index_column": 2
                },
                {
                  "id": 4,
                  "age": 37,
                  "sex": "Male",
                  "dataset": "Cleveland",
                  "cp": "non-anginal",
                  "trestbps": 130,
                  "chol": 250,
                  "fbs": "False",
                  "restecg": "normal",
                  "thalch": 187,
                  "exang": "False",
                  "oldpeak": 3.5,
                  "slope": "downsloping",
                  "ca": 0,
                  "thal": "normal",
                  "num": 0,
                  "_deepnote_index_column": 3
                },
                {
                  "id": 5,
                  "age": 41,
                  "sex": "Female",
                  "dataset": "Cleveland",
                  "cp": "atypical angina",
                  "trestbps": 130,
                  "chol": 204,
                  "fbs": "False",
                  "restecg": "lv hypertrophy",
                  "thalch": 172,
                  "exang": "False",
                  "oldpeak": 1.4,
                  "slope": "upsloping",
                  "ca": 0,
                  "thal": "normal",
                  "num": 0,
                  "_deepnote_index_column": 4
                }
              ]
            },
            "text/plain": "   id  age     sex    dataset               cp  trestbps   chol    fbs  \\\n0   1   63    Male  Cleveland   typical angina     145.0  233.0   True   \n1   2   67    Male  Cleveland     asymptomatic     160.0  286.0  False   \n2   3   67    Male  Cleveland     asymptomatic     120.0  229.0  False   \n3   4   37    Male  Cleveland      non-anginal     130.0  250.0  False   \n4   5   41  Female  Cleveland  atypical angina     130.0  204.0  False   \n\n          restecg  thalch  exang  oldpeak        slope   ca  \\\n0  lv hypertrophy   150.0  False      2.3  downsloping  0.0   \n1  lv hypertrophy   108.0   True      1.5         flat  3.0   \n2  lv hypertrophy   129.0   True      2.6         flat  2.0   \n3          normal   187.0  False      3.5  downsloping  0.0   \n4  lv hypertrophy   172.0  False      1.4    upsloping  0.0   \n\n                thal  num  \n0       fixed defect    0  \n1             normal    2  \n2  reversable defect    1  \n3             normal    0  \n4             normal    0  ",
            "text/html": "<div>\n<style scoped>\n    .dataframe tbody tr th:only-of-type {\n        vertical-align: middle;\n    }\n\n    .dataframe tbody tr th {\n        vertical-align: top;\n    }\n\n    .dataframe thead th {\n        text-align: right;\n    }\n</style>\n<table border=\"1\" class=\"dataframe\">\n  <thead>\n    <tr style=\"text-align: right;\">\n      <th></th>\n      <th>id</th>\n      <th>age</th>\n      <th>sex</th>\n      <th>dataset</th>\n      <th>cp</th>\n      <th>trestbps</th>\n      <th>chol</th>\n      <th>fbs</th>\n      <th>restecg</th>\n      <th>thalch</th>\n      <th>exang</th>\n      <th>oldpeak</th>\n      <th>slope</th>\n      <th>ca</th>\n      <th>thal</th>\n      <th>num</th>\n    </tr>\n  </thead>\n  <tbody>\n    <tr>\n      <th>0</th>\n      <td>1</td>\n      <td>63</td>\n      <td>Male</td>\n      <td>Cleveland</td>\n      <td>typical angina</td>\n      <td>145.0</td>\n      <td>233.0</td>\n      <td>True</td>\n      <td>lv hypertrophy</td>\n      <td>150.0</td>\n      <td>False</td>\n      <td>2.3</td>\n      <td>downsloping</td>\n      <td>0.0</td>\n      <td>fixed defect</td>\n      <td>0</td>\n    </tr>\n    <tr>\n      <th>1</th>\n      <td>2</td>\n      <td>67</td>\n      <td>Male</td>\n      <td>Cleveland</td>\n      <td>asymptomatic</td>\n      <td>160.0</td>\n      <td>286.0</td>\n      <td>False</td>\n      <td>lv hypertrophy</td>\n      <td>108.0</td>\n      <td>True</td>\n      <td>1.5</td>\n      <td>flat</td>\n      <td>3.0</td>\n      <td>normal</td>\n      <td>2</td>\n    </tr>\n    <tr>\n      <th>2</th>\n      <td>3</td>\n      <td>67</td>\n      <td>Male</td>\n      <td>Cleveland</td>\n      <td>asymptomatic</td>\n      <td>120.0</td>\n      <td>229.0</td>\n      <td>False</td>\n      <td>lv hypertrophy</td>\n      <td>129.0</td>\n      <td>True</td>\n      <td>2.6</td>\n      <td>flat</td>\n      <td>2.0</td>\n      <td>reversable defect</td>\n      <td>1</td>\n    </tr>\n    <tr>\n      <th>3</th>\n      <td>4</td>\n      <td>37</td>\n      <td>Male</td>\n      <td>Cleveland</td>\n      <td>non-anginal</td>\n      <td>130.0</td>\n      <td>250.0</td>\n      <td>False</td>\n      <td>normal</td>\n      <td>187.0</td>\n      <td>False</td>\n      <td>3.5</td>\n      <td>downsloping</td>\n      <td>0.0</td>\n      <td>normal</td>\n      <td>0</td>\n    </tr>\n    <tr>\n      <th>4</th>\n      <td>5</td>\n      <td>41</td>\n      <td>Female</td>\n      <td>Cleveland</td>\n      <td>atypical angina</td>\n      <td>130.0</td>\n      <td>204.0</td>\n      <td>False</td>\n      <td>lv hypertrophy</td>\n      <td>172.0</td>\n      <td>False</td>\n      <td>1.4</td>\n      <td>upsloping</td>\n      <td>0.0</td>\n      <td>normal</td>\n      <td>0</td>\n    </tr>\n  </tbody>\n</table>\n</div>"
          },
          "metadata": {}
        }
      ],
      "outputs_reference": null,
      "execution_count": 5,
      "block_group": "3fcc7380f5934d919c343b01fda10b72",
      "content_dependencies": null
    },
    {
      "cell_type": "markdown",
      "source": "<a style='text-decoration:none;line-height:16px;display:flex;color:#5B5B62;padding:10px;justify-content:end;' href='https://deepnote.com?utm_source=created-in-deepnote-cell&projectId=0e222dd4-00a3-4786-aa8b-a269f7a7f431' target=\"_blank\">\n<img alt='Created in deepnote.com' style='display:inline;max-height:16px;margin:0px;margin-right:7.5px;' src='data:image/svg+xml;base64,PD94bWwgdmVyc2lvbj0iMS4wIiBlbmNvZGluZz0iVVRGLTgiPz4KPHN2ZyB3aWR0aD0iODBweCIgaGVpZ2h0PSI4MHB4IiB2aWV3Qm94PSIwIDAgODAgODAiIHZlcnNpb249IjEuMSIgeG1sbnM9Imh0dHA6Ly93d3cudzMub3JnLzIwMDAvc3ZnIiB4bWxuczp4bGluaz0iaHR0cDovL3d3dy53My5vcmcvMTk5OS94bGluayI+CiAgICA8IS0tIEdlbmVyYXRvcjogU2tldGNoIDU0LjEgKDc2NDkwKSAtIGh0dHBzOi8vc2tldGNoYXBwLmNvbSAtLT4KICAgIDx0aXRsZT5Hcm91cCAzPC90aXRsZT4KICAgIDxkZXNjPkNyZWF0ZWQgd2l0aCBTa2V0Y2guPC9kZXNjPgogICAgPGcgaWQ9IkxhbmRpbmciIHN0cm9rZT0ibm9uZSIgc3Ryb2tlLXdpZHRoPSIxIiBmaWxsPSJub25lIiBmaWxsLXJ1bGU9ImV2ZW5vZGQiPgogICAgICAgIDxnIGlkPSJBcnRib2FyZCIgdHJhbnNmb3JtPSJ0cmFuc2xhdGUoLTEyMzUuMDAwMDAwLCAtNzkuMDAwMDAwKSI+CiAgICAgICAgICAgIDxnIGlkPSJHcm91cC0zIiB0cmFuc2Zvcm09InRyYW5zbGF0ZSgxMjM1LjAwMDAwMCwgNzkuMDAwMDAwKSI+CiAgICAgICAgICAgICAgICA8cG9seWdvbiBpZD0iUGF0aC0yMCIgZmlsbD0iIzAyNjVCNCIgcG9pbnRzPSIyLjM3NjIzNzYyIDgwIDM4LjA0NzY2NjcgODAgNTcuODIxNzgyMiA3My44MDU3NTkyIDU3LjgyMTc4MjIgMzIuNzU5MjczOSAzOS4xNDAyMjc4IDMxLjY4MzE2ODMiPjwvcG9seWdvbj4KICAgICAgICAgICAgICAgIDxwYXRoIGQ9Ik0zNS4wMDc3MTgsODAgQzQyLjkwNjIwMDcsNzYuNDU0OTM1OCA0Ny41NjQ5MTY3LDcxLjU0MjI2NzEgNDguOTgzODY2LDY1LjI2MTk5MzkgQzUxLjExMjI4OTksNTUuODQxNTg0MiA0MS42NzcxNzk1LDQ5LjIxMjIyODQgMjUuNjIzOTg0Niw0OS4yMTIyMjg0IEMyNS40ODQ5Mjg5LDQ5LjEyNjg0NDggMjkuODI2MTI5Niw0My4yODM4MjQ4IDM4LjY0NzU4NjksMzEuNjgzMTY4MyBMNzIuODcxMjg3MSwzMi41NTQ0MjUgTDY1LjI4MDk3Myw2Ny42NzYzNDIxIEw1MS4xMTIyODk5LDc3LjM3NjE0NCBMMzUuMDA3NzE4LDgwIFoiIGlkPSJQYXRoLTIyIiBmaWxsPSIjMDAyODY4Ij48L3BhdGg+CiAgICAgICAgICAgICAgICA8cGF0aCBkPSJNMCwzNy43MzA0NDA1IEwyNy4xMTQ1MzcsMC4yNTcxMTE0MzYgQzYyLjM3MTUxMjMsLTEuOTkwNzE3MDEgODAsMTAuNTAwMzkyNyA4MCwzNy43MzA0NDA1IEM4MCw2NC45NjA0ODgyIDY0Ljc3NjUwMzgsNzkuMDUwMzQxNCAzNC4zMjk1MTEzLDgwIEM0Ny4wNTUzNDg5LDc3LjU2NzA4MDggNTMuNDE4MjY3Nyw3MC4zMTM2MTAzIDUzLjQxODI2NzcsNTguMjM5NTg4NSBDNTMuNDE4MjY3Nyw0MC4xMjg1NTU3IDM2LjMwMzk1NDQsMzcuNzMwNDQwNSAyNS4yMjc0MTcsMzcuNzMwNDQwNSBDMTcuODQzMDU4NiwzNy43MzA0NDA1IDkuNDMzOTE5NjYsMzcuNzMwNDQwNSAwLDM3LjczMDQ0MDUgWiIgaWQ9IlBhdGgtMTkiIGZpbGw9IiMzNzkzRUYiPjwvcGF0aD4KICAgICAgICAgICAgPC9nPgogICAgICAgIDwvZz4KICAgIDwvZz4KPC9zdmc+' > </img>\nCreated in <span style='font-weight:600;margin-left:4px;'>Deepnote</span></a>",
      "metadata": {
        "created_in_deepnote_cell": true,
        "deepnote_cell_type": "markdown"
      }
    }
  ],
  "nbformat": 4,
  "nbformat_minor": 0,
  "metadata": {
    "deepnote_notebook_id": "d73357e5a14246c0bc82a513f1ecdcae",
    "deepnote_execution_queue": []
  }
}