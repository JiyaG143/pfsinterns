{
  "cells": [
    {
      "cell_type": "code",
      "source": "import pandas as pd\nimport numpy as np\nimport matplotlib.pyplot as plt\nimport seaborn as sns\nimport scipy as sc\nimport sklearn as sk",
      "metadata": {
        "source_hash": "19927863",
        "execution_start": 1727025055473,
        "execution_millis": 1710,
        "deepnote_to_be_reexecuted": false,
        "cell_id": "2ca20b0d61b243b6a1992571ac1ee6b6",
        "deepnote_cell_type": "code"
      },
      "outputs": [],
      "outputs_reference": null,
      "execution_count": 1,
      "block_group": "2ca20b0d61b243b6a1992571ac1ee6b6",
      "content_dependencies": null
    },
    {
      "cell_type": "code",
      "source": "input_1 = 'file_input_uploads/heart_disease_uci.csv'",
      "metadata": {
        "source_hash": "2cde6386",
        "execution_start": 1727025057201,
        "execution_millis": 106,
        "deepnote_variable_name": "input_1",
        "deepnote_variable_value": "file_input_uploads/heart_disease_uci.csv",
        "deepnote_to_be_reexecuted": false,
        "cell_id": "5442c02470ec4809969cb0ae44aaca8f",
        "deepnote_cell_type": "input-file"
      },
      "outputs": [],
      "outputs_reference": null,
      "execution_count": 2,
      "block_group": "8fa51700a78044a082e2751f49ad3da6"
    },
    {
      "cell_type": "code",
      "source": "!pip install pyreadstat",
      "metadata": {
        "source_hash": "b3e9d8af",
        "execution_start": 1727025057219,
        "execution_millis": 3969,
        "deepnote_to_be_reexecuted": false,
        "cell_id": "a12890d880974a3289dd83ed0f70dec3",
        "deepnote_cell_type": "code"
      },
      "outputs": [
        {
          "name": "stdout",
          "text": "Collecting pyreadstat\n  Downloading pyreadstat-1.2.7-cp39-cp39-manylinux_2_17_x86_64.manylinux2014_x86_64.whl (2.8 MB)\n\u001b[2K     \u001b[90m━━━━━━━━━━━━━━━━━━━━━━━━━━━━━━━━━━━━━━━━\u001b[0m \u001b[32m2.8/2.8 MB\u001b[0m \u001b[31m38.8 MB/s\u001b[0m eta \u001b[36m0:00:00\u001b[0m\n\u001b[?25hRequirement already satisfied: pandas>=1.2.0 in /shared-libs/python3.9/py/lib/python3.9/site-packages (from pyreadstat) (2.1.4)\nRequirement already satisfied: python-dateutil>=2.8.2 in /shared-libs/python3.9/py-core/lib/python3.9/site-packages (from pandas>=1.2.0->pyreadstat) (2.8.2)\nRequirement already satisfied: tzdata>=2022.1 in /shared-libs/python3.9/py/lib/python3.9/site-packages (from pandas>=1.2.0->pyreadstat) (2022.5)\nRequirement already satisfied: pytz>=2020.1 in /shared-libs/python3.9/py/lib/python3.9/site-packages (from pandas>=1.2.0->pyreadstat) (2022.5)\nRequirement already satisfied: numpy<2,>=1.22.4 in /shared-libs/python3.9/py/lib/python3.9/site-packages (from pandas>=1.2.0->pyreadstat) (1.23.4)\nRequirement already satisfied: six>=1.5 in /shared-libs/python3.9/py-core/lib/python3.9/site-packages (from python-dateutil>=2.8.2->pandas>=1.2.0->pyreadstat) (1.16.0)\nInstalling collected packages: pyreadstat\nSuccessfully installed pyreadstat-1.2.7\n\n\u001b[1m[\u001b[0m\u001b[34;49mnotice\u001b[0m\u001b[1;39;49m]\u001b[0m\u001b[39;49m A new release of pip is available: \u001b[0m\u001b[31;49m23.0.1\u001b[0m\u001b[39;49m -> \u001b[0m\u001b[32;49m24.2\u001b[0m\n\u001b[1m[\u001b[0m\u001b[34;49mnotice\u001b[0m\u001b[1;39;49m]\u001b[0m\u001b[39;49m To update, run: \u001b[0m\u001b[32;49mpip install --upgrade pip\u001b[0m\n",
          "output_type": "stream"
        }
      ],
      "outputs_reference": null,
      "execution_count": 3,
      "block_group": "083fa21a0ceb477c8fc394ceca2b56f0",
      "content_dependencies": null
    },
    {
      "cell_type": "markdown",
      "source": "### Data Aquisition",
      "metadata": {
        "cell_id": "16ac82803f8c4861987f16ae0fc6f2a7",
        "deepnote_cell_type": "markdown"
      },
      "block_group": "16d3c772cbf54b5cac454ec6ee4a1721"
    },
    {
      "cell_type": "code",
      "source": "# Update the file path to the correct one provided earlier\n\ndf = pd.read_csv(input_1)\ndf.head()",
      "metadata": {
        "source_hash": "c80e2884",
        "execution_start": 1727025061192,
        "execution_millis": 432,
        "deepnote_to_be_reexecuted": false,
        "cell_id": "8f364387593a49ef9ab55fdc44d29e45",
        "deepnote_cell_type": "code"
      },
      "outputs": [
        {
          "output_type": "execute_result",
          "execution_count": 4,
          "data": {
            "application/vnd.deepnote.dataframe.v3+json": {
              "column_count": 16,
              "row_count": 5,
              "columns": [
                {
                  "name": "id",
                  "dtype": "int64",
                  "stats": {
                    "unique_count": 5,
                    "nan_count": 0,
                    "min": "1",
                    "max": "5",
                    "histogram": [
                      {
                        "bin_start": 1,
                        "bin_end": 1.4,
                        "count": 1
                      },
                      {
                        "bin_start": 1.4,
                        "bin_end": 1.8,
                        "count": 0
                      },
                      {
                        "bin_start": 1.8,
                        "bin_end": 2.2,
                        "count": 1
                      },
                      {
                        "bin_start": 2.2,
                        "bin_end": 2.6,
                        "count": 0
                      },
                      {
                        "bin_start": 2.6,
                        "bin_end": 3,
                        "count": 0
                      },
                      {
                        "bin_start": 3,
                        "bin_end": 3.4000000000000004,
                        "count": 1
                      },
                      {
                        "bin_start": 3.4000000000000004,
                        "bin_end": 3.8000000000000003,
                        "count": 0
                      },
                      {
                        "bin_start": 3.8000000000000003,
                        "bin_end": 4.2,
                        "count": 1
                      },
                      {
                        "bin_start": 4.2,
                        "bin_end": 4.6,
                        "count": 0
                      },
                      {
                        "bin_start": 4.6,
                        "bin_end": 5,
                        "count": 1
                      }
                    ]
                  }
                },
                {
                  "name": "age",
                  "dtype": "int64",
                  "stats": {
                    "unique_count": 4,
                    "nan_count": 0,
                    "min": "37",
                    "max": "67",
                    "histogram": [
                      {
                        "bin_start": 37,
                        "bin_end": 40,
                        "count": 1
                      },
                      {
                        "bin_start": 40,
                        "bin_end": 43,
                        "count": 1
                      },
                      {
                        "bin_start": 43,
                        "bin_end": 46,
                        "count": 0
                      },
                      {
                        "bin_start": 46,
                        "bin_end": 49,
                        "count": 0
                      },
                      {
                        "bin_start": 49,
                        "bin_end": 52,
                        "count": 0
                      },
                      {
                        "bin_start": 52,
                        "bin_end": 55,
                        "count": 0
                      },
                      {
                        "bin_start": 55,
                        "bin_end": 58,
                        "count": 0
                      },
                      {
                        "bin_start": 58,
                        "bin_end": 61,
                        "count": 0
                      },
                      {
                        "bin_start": 61,
                        "bin_end": 64,
                        "count": 1
                      },
                      {
                        "bin_start": 64,
                        "bin_end": 67,
                        "count": 2
                      }
                    ]
                  }
                },
                {
                  "name": "sex",
                  "dtype": "object",
                  "stats": {
                    "unique_count": 2,
                    "nan_count": 0,
                    "categories": [
                      {
                        "name": "Male",
                        "count": 4
                      },
                      {
                        "name": "Female",
                        "count": 1
                      }
                    ]
                  }
                },
                {
                  "name": "dataset",
                  "dtype": "object",
                  "stats": {
                    "unique_count": 1,
                    "nan_count": 0,
                    "categories": [
                      {
                        "name": "Cleveland",
                        "count": 5
                      }
                    ]
                  }
                },
                {
                  "name": "cp",
                  "dtype": "object",
                  "stats": {
                    "unique_count": 4,
                    "nan_count": 0,
                    "categories": [
                      {
                        "name": "asymptomatic",
                        "count": 2
                      },
                      {
                        "name": "typical angina",
                        "count": 1
                      },
                      {
                        "name": "2 others",
                        "count": 2
                      }
                    ]
                  }
                },
                {
                  "name": "trestbps",
                  "dtype": "float64",
                  "stats": {
                    "unique_count": 4,
                    "nan_count": 0,
                    "min": "120.0",
                    "max": "160.0",
                    "histogram": [
                      {
                        "bin_start": 120,
                        "bin_end": 124,
                        "count": 1
                      },
                      {
                        "bin_start": 124,
                        "bin_end": 128,
                        "count": 0
                      },
                      {
                        "bin_start": 128,
                        "bin_end": 132,
                        "count": 2
                      },
                      {
                        "bin_start": 132,
                        "bin_end": 136,
                        "count": 0
                      },
                      {
                        "bin_start": 136,
                        "bin_end": 140,
                        "count": 0
                      },
                      {
                        "bin_start": 140,
                        "bin_end": 144,
                        "count": 0
                      },
                      {
                        "bin_start": 144,
                        "bin_end": 148,
                        "count": 1
                      },
                      {
                        "bin_start": 148,
                        "bin_end": 152,
                        "count": 0
                      },
                      {
                        "bin_start": 152,
                        "bin_end": 156,
                        "count": 0
                      },
                      {
                        "bin_start": 156,
                        "bin_end": 160,
                        "count": 1
                      }
                    ]
                  }
                },
                {
                  "name": "chol",
                  "dtype": "float64",
                  "stats": {
                    "unique_count": 5,
                    "nan_count": 0,
                    "min": "204.0",
                    "max": "286.0",
                    "histogram": [
                      {
                        "bin_start": 204,
                        "bin_end": 212.2,
                        "count": 1
                      },
                      {
                        "bin_start": 212.2,
                        "bin_end": 220.4,
                        "count": 0
                      },
                      {
                        "bin_start": 220.4,
                        "bin_end": 228.6,
                        "count": 0
                      },
                      {
                        "bin_start": 228.6,
                        "bin_end": 236.8,
                        "count": 2
                      },
                      {
                        "bin_start": 236.8,
                        "bin_end": 245,
                        "count": 0
                      },
                      {
                        "bin_start": 245,
                        "bin_end": 253.2,
                        "count": 1
                      },
                      {
                        "bin_start": 253.2,
                        "bin_end": 261.4,
                        "count": 0
                      },
                      {
                        "bin_start": 261.4,
                        "bin_end": 269.6,
                        "count": 0
                      },
                      {
                        "bin_start": 269.6,
                        "bin_end": 277.8,
                        "count": 0
                      },
                      {
                        "bin_start": 277.8,
                        "bin_end": 286,
                        "count": 1
                      }
                    ]
                  }
                },
                {
                  "name": "fbs",
                  "dtype": "object",
                  "stats": {
                    "unique_count": 2,
                    "nan_count": 0,
                    "categories": [
                      {
                        "name": "False",
                        "count": 4
                      },
                      {
                        "name": "True",
                        "count": 1
                      }
                    ]
                  }
                },
                {
                  "name": "restecg",
                  "dtype": "object",
                  "stats": {
                    "unique_count": 2,
                    "nan_count": 0,
                    "categories": [
                      {
                        "name": "lv hypertrophy",
                        "count": 4
                      },
                      {
                        "name": "normal",
                        "count": 1
                      }
                    ]
                  }
                },
                {
                  "name": "thalch",
                  "dtype": "float64",
                  "stats": {
                    "unique_count": 5,
                    "nan_count": 0,
                    "min": "108.0",
                    "max": "187.0",
                    "histogram": [
                      {
                        "bin_start": 108,
                        "bin_end": 115.9,
                        "count": 1
                      },
                      {
                        "bin_start": 115.9,
                        "bin_end": 123.8,
                        "count": 0
                      },
                      {
                        "bin_start": 123.8,
                        "bin_end": 131.7,
                        "count": 1
                      },
                      {
                        "bin_start": 131.7,
                        "bin_end": 139.6,
                        "count": 0
                      },
                      {
                        "bin_start": 139.6,
                        "bin_end": 147.5,
                        "count": 0
                      },
                      {
                        "bin_start": 147.5,
                        "bin_end": 155.4,
                        "count": 1
                      },
                      {
                        "bin_start": 155.4,
                        "bin_end": 163.3,
                        "count": 0
                      },
                      {
                        "bin_start": 163.3,
                        "bin_end": 171.2,
                        "count": 0
                      },
                      {
                        "bin_start": 171.2,
                        "bin_end": 179.10000000000002,
                        "count": 1
                      },
                      {
                        "bin_start": 179.10000000000002,
                        "bin_end": 187,
                        "count": 1
                      }
                    ]
                  }
                },
                {
                  "name": "exang",
                  "dtype": "object",
                  "stats": {
                    "unique_count": 2,
                    "nan_count": 0,
                    "categories": [
                      {
                        "name": "False",
                        "count": 3
                      },
                      {
                        "name": "True",
                        "count": 2
                      }
                    ]
                  }
                },
                {
                  "name": "oldpeak",
                  "dtype": "float64",
                  "stats": {
                    "unique_count": 5,
                    "nan_count": 0,
                    "min": "1.4",
                    "max": "3.5",
                    "histogram": [
                      {
                        "bin_start": 1.4,
                        "bin_end": 1.6099999999999999,
                        "count": 2
                      },
                      {
                        "bin_start": 1.6099999999999999,
                        "bin_end": 1.8199999999999998,
                        "count": 0
                      },
                      {
                        "bin_start": 1.8199999999999998,
                        "bin_end": 2.0300000000000002,
                        "count": 0
                      },
                      {
                        "bin_start": 2.0300000000000002,
                        "bin_end": 2.24,
                        "count": 0
                      },
                      {
                        "bin_start": 2.24,
                        "bin_end": 2.45,
                        "count": 1
                      },
                      {
                        "bin_start": 2.45,
                        "bin_end": 2.66,
                        "count": 1
                      },
                      {
                        "bin_start": 2.66,
                        "bin_end": 2.87,
                        "count": 0
                      },
                      {
                        "bin_start": 2.87,
                        "bin_end": 3.08,
                        "count": 0
                      },
                      {
                        "bin_start": 3.08,
                        "bin_end": 3.29,
                        "count": 0
                      },
                      {
                        "bin_start": 3.29,
                        "bin_end": 3.5,
                        "count": 1
                      }
                    ]
                  }
                },
                {
                  "name": "slope",
                  "dtype": "object",
                  "stats": {
                    "unique_count": 3,
                    "nan_count": 0,
                    "categories": [
                      {
                        "name": "downsloping",
                        "count": 2
                      },
                      {
                        "name": "flat",
                        "count": 2
                      },
                      {
                        "name": "upsloping",
                        "count": 1
                      }
                    ]
                  }
                },
                {
                  "name": "ca",
                  "dtype": "float64",
                  "stats": {
                    "unique_count": 3,
                    "nan_count": 0,
                    "min": "0.0",
                    "max": "3.0",
                    "histogram": [
                      {
                        "bin_start": 0,
                        "bin_end": 0.3,
                        "count": 3
                      },
                      {
                        "bin_start": 0.3,
                        "bin_end": 0.6,
                        "count": 0
                      },
                      {
                        "bin_start": 0.6,
                        "bin_end": 0.8999999999999999,
                        "count": 0
                      },
                      {
                        "bin_start": 0.8999999999999999,
                        "bin_end": 1.2,
                        "count": 0
                      },
                      {
                        "bin_start": 1.2,
                        "bin_end": 1.5,
                        "count": 0
                      },
                      {
                        "bin_start": 1.5,
                        "bin_end": 1.7999999999999998,
                        "count": 0
                      },
                      {
                        "bin_start": 1.7999999999999998,
                        "bin_end": 2.1,
                        "count": 1
                      },
                      {
                        "bin_start": 2.1,
                        "bin_end": 2.4,
                        "count": 0
                      },
                      {
                        "bin_start": 2.4,
                        "bin_end": 2.6999999999999997,
                        "count": 0
                      },
                      {
                        "bin_start": 2.6999999999999997,
                        "bin_end": 3,
                        "count": 1
                      }
                    ]
                  }
                },
                {
                  "name": "thal",
                  "dtype": "object",
                  "stats": {
                    "unique_count": 3,
                    "nan_count": 0,
                    "categories": [
                      {
                        "name": "normal",
                        "count": 3
                      },
                      {
                        "name": "fixed defect",
                        "count": 1
                      },
                      {
                        "name": "reversable defect",
                        "count": 1
                      }
                    ]
                  }
                },
                {
                  "name": "num",
                  "dtype": "int64",
                  "stats": {
                    "unique_count": 3,
                    "nan_count": 0,
                    "min": "0",
                    "max": "2",
                    "histogram": [
                      {
                        "bin_start": 0,
                        "bin_end": 0.2,
                        "count": 3
                      },
                      {
                        "bin_start": 0.2,
                        "bin_end": 0.4,
                        "count": 0
                      },
                      {
                        "bin_start": 0.4,
                        "bin_end": 0.6000000000000001,
                        "count": 0
                      },
                      {
                        "bin_start": 0.6000000000000001,
                        "bin_end": 0.8,
                        "count": 0
                      },
                      {
                        "bin_start": 0.8,
                        "bin_end": 1,
                        "count": 0
                      },
                      {
                        "bin_start": 1,
                        "bin_end": 1.2000000000000002,
                        "count": 1
                      },
                      {
                        "bin_start": 1.2000000000000002,
                        "bin_end": 1.4000000000000001,
                        "count": 0
                      },
                      {
                        "bin_start": 1.4000000000000001,
                        "bin_end": 1.6,
                        "count": 0
                      },
                      {
                        "bin_start": 1.6,
                        "bin_end": 1.8,
                        "count": 0
                      },
                      {
                        "bin_start": 1.8,
                        "bin_end": 2,
                        "count": 1
                      }
                    ]
                  }
                },
                {
                  "name": "_deepnote_index_column",
                  "dtype": "int64"
                }
              ],
              "rows": [
                {
                  "id": 1,
                  "age": 63,
                  "sex": "Male",
                  "dataset": "Cleveland",
                  "cp": "typical angina",
                  "trestbps": 145,
                  "chol": 233,
                  "fbs": "True",
                  "restecg": "lv hypertrophy",
                  "thalch": 150,
                  "exang": "False",
                  "oldpeak": 2.3,
                  "slope": "downsloping",
                  "ca": 0,
                  "thal": "fixed defect",
                  "num": 0,
                  "_deepnote_index_column": 0
                },
                {
                  "id": 2,
                  "age": 67,
                  "sex": "Male",
                  "dataset": "Cleveland",
                  "cp": "asymptomatic",
                  "trestbps": 160,
                  "chol": 286,
                  "fbs": "False",
                  "restecg": "lv hypertrophy",
                  "thalch": 108,
                  "exang": "True",
                  "oldpeak": 1.5,
                  "slope": "flat",
                  "ca": 3,
                  "thal": "normal",
                  "num": 2,
                  "_deepnote_index_column": 1
                },
                {
                  "id": 3,
                  "age": 67,
                  "sex": "Male",
                  "dataset": "Cleveland",
                  "cp": "asymptomatic",
                  "trestbps": 120,
                  "chol": 229,
                  "fbs": "False",
                  "restecg": "lv hypertrophy",
                  "thalch": 129,
                  "exang": "True",
                  "oldpeak": 2.6,
                  "slope": "flat",
                  "ca": 2,
                  "thal": "reversable defect",
                  "num": 1,
                  "_deepnote_index_column": 2
                },
                {
                  "id": 4,
                  "age": 37,
                  "sex": "Male",
                  "dataset": "Cleveland",
                  "cp": "non-anginal",
                  "trestbps": 130,
                  "chol": 250,
                  "fbs": "False",
                  "restecg": "normal",
                  "thalch": 187,
                  "exang": "False",
                  "oldpeak": 3.5,
                  "slope": "downsloping",
                  "ca": 0,
                  "thal": "normal",
                  "num": 0,
                  "_deepnote_index_column": 3
                },
                {
                  "id": 5,
                  "age": 41,
                  "sex": "Female",
                  "dataset": "Cleveland",
                  "cp": "atypical angina",
                  "trestbps": 130,
                  "chol": 204,
                  "fbs": "False",
                  "restecg": "lv hypertrophy",
                  "thalch": 172,
                  "exang": "False",
                  "oldpeak": 1.4,
                  "slope": "upsloping",
                  "ca": 0,
                  "thal": "normal",
                  "num": 0,
                  "_deepnote_index_column": 4
                }
              ]
            },
            "text/plain": "   id  age     sex    dataset               cp  trestbps   chol    fbs  \\\n0   1   63    Male  Cleveland   typical angina     145.0  233.0   True   \n1   2   67    Male  Cleveland     asymptomatic     160.0  286.0  False   \n2   3   67    Male  Cleveland     asymptomatic     120.0  229.0  False   \n3   4   37    Male  Cleveland      non-anginal     130.0  250.0  False   \n4   5   41  Female  Cleveland  atypical angina     130.0  204.0  False   \n\n          restecg  thalch  exang  oldpeak        slope   ca  \\\n0  lv hypertrophy   150.0  False      2.3  downsloping  0.0   \n1  lv hypertrophy   108.0   True      1.5         flat  3.0   \n2  lv hypertrophy   129.0   True      2.6         flat  2.0   \n3          normal   187.0  False      3.5  downsloping  0.0   \n4  lv hypertrophy   172.0  False      1.4    upsloping  0.0   \n\n                thal  num  \n0       fixed defect    0  \n1             normal    2  \n2  reversable defect    1  \n3             normal    0  \n4             normal    0  ",
            "text/html": "<div>\n<style scoped>\n    .dataframe tbody tr th:only-of-type {\n        vertical-align: middle;\n    }\n\n    .dataframe tbody tr th {\n        vertical-align: top;\n    }\n\n    .dataframe thead th {\n        text-align: right;\n    }\n</style>\n<table border=\"1\" class=\"dataframe\">\n  <thead>\n    <tr style=\"text-align: right;\">\n      <th></th>\n      <th>id</th>\n      <th>age</th>\n      <th>sex</th>\n      <th>dataset</th>\n      <th>cp</th>\n      <th>trestbps</th>\n      <th>chol</th>\n      <th>fbs</th>\n      <th>restecg</th>\n      <th>thalch</th>\n      <th>exang</th>\n      <th>oldpeak</th>\n      <th>slope</th>\n      <th>ca</th>\n      <th>thal</th>\n      <th>num</th>\n    </tr>\n  </thead>\n  <tbody>\n    <tr>\n      <th>0</th>\n      <td>1</td>\n      <td>63</td>\n      <td>Male</td>\n      <td>Cleveland</td>\n      <td>typical angina</td>\n      <td>145.0</td>\n      <td>233.0</td>\n      <td>True</td>\n      <td>lv hypertrophy</td>\n      <td>150.0</td>\n      <td>False</td>\n      <td>2.3</td>\n      <td>downsloping</td>\n      <td>0.0</td>\n      <td>fixed defect</td>\n      <td>0</td>\n    </tr>\n    <tr>\n      <th>1</th>\n      <td>2</td>\n      <td>67</td>\n      <td>Male</td>\n      <td>Cleveland</td>\n      <td>asymptomatic</td>\n      <td>160.0</td>\n      <td>286.0</td>\n      <td>False</td>\n      <td>lv hypertrophy</td>\n      <td>108.0</td>\n      <td>True</td>\n      <td>1.5</td>\n      <td>flat</td>\n      <td>3.0</td>\n      <td>normal</td>\n      <td>2</td>\n    </tr>\n    <tr>\n      <th>2</th>\n      <td>3</td>\n      <td>67</td>\n      <td>Male</td>\n      <td>Cleveland</td>\n      <td>asymptomatic</td>\n      <td>120.0</td>\n      <td>229.0</td>\n      <td>False</td>\n      <td>lv hypertrophy</td>\n      <td>129.0</td>\n      <td>True</td>\n      <td>2.6</td>\n      <td>flat</td>\n      <td>2.0</td>\n      <td>reversable defect</td>\n      <td>1</td>\n    </tr>\n    <tr>\n      <th>3</th>\n      <td>4</td>\n      <td>37</td>\n      <td>Male</td>\n      <td>Cleveland</td>\n      <td>non-anginal</td>\n      <td>130.0</td>\n      <td>250.0</td>\n      <td>False</td>\n      <td>normal</td>\n      <td>187.0</td>\n      <td>False</td>\n      <td>3.5</td>\n      <td>downsloping</td>\n      <td>0.0</td>\n      <td>normal</td>\n      <td>0</td>\n    </tr>\n    <tr>\n      <th>4</th>\n      <td>5</td>\n      <td>41</td>\n      <td>Female</td>\n      <td>Cleveland</td>\n      <td>atypical angina</td>\n      <td>130.0</td>\n      <td>204.0</td>\n      <td>False</td>\n      <td>lv hypertrophy</td>\n      <td>172.0</td>\n      <td>False</td>\n      <td>1.4</td>\n      <td>upsloping</td>\n      <td>0.0</td>\n      <td>normal</td>\n      <td>0</td>\n    </tr>\n  </tbody>\n</table>\n</div>"
          },
          "metadata": {}
        }
      ],
      "outputs_reference": null,
      "execution_count": 4,
      "block_group": "3fcc7380f5934d919c343b01fda10b72",
      "content_dependencies": null
    },
    {
      "cell_type": "code",
      "source": "df.shape",
      "metadata": {
        "source_hash": "14f60b8f",
        "execution_start": 1727025061498,
        "execution_millis": 350,
        "deepnote_to_be_reexecuted": false,
        "cell_id": "59c6321a7d824a57957bcc190b8e8c9d",
        "deepnote_cell_type": "code"
      },
      "outputs": [
        {
          "output_type": "execute_result",
          "execution_count": 5,
          "data": {
            "text/plain": "(920, 16)"
          },
          "metadata": {}
        }
      ],
      "outputs_reference": null,
      "execution_count": 5,
      "block_group": "8b0e320685c749c4bdacfdc0446c0088",
      "content_dependencies": null
    },
    {
      "cell_type": "code",
      "source": "df.info()",
      "metadata": {
        "source_hash": "de1e323c",
        "execution_start": 1727025077013,
        "execution_millis": 144,
        "deepnote_to_be_reexecuted": false,
        "cell_id": "9f76a9f0c5ad43509998b4b4f47f93a3",
        "deepnote_cell_type": "code"
      },
      "outputs": [
        {
          "name": "stdout",
          "text": "<class 'pandas.core.frame.DataFrame'>\nRangeIndex: 920 entries, 0 to 919\nData columns (total 16 columns):\n #   Column    Non-Null Count  Dtype  \n---  ------    --------------  -----  \n 0   id        920 non-null    int64  \n 1   age       920 non-null    int64  \n 2   sex       920 non-null    object \n 3   dataset   920 non-null    object \n 4   cp        920 non-null    object \n 5   trestbps  861 non-null    float64\n 6   chol      890 non-null    float64\n 7   fbs       830 non-null    object \n 8   restecg   918 non-null    object \n 9   thalch    865 non-null    float64\n 10  exang     865 non-null    object \n 11  oldpeak   858 non-null    float64\n 12  slope     611 non-null    object \n 13  ca        309 non-null    float64\n 14  thal      434 non-null    object \n 15  num       920 non-null    int64  \ndtypes: float64(5), int64(3), object(8)\nmemory usage: 115.1+ KB\n",
          "output_type": "stream"
        }
      ],
      "outputs_reference": null,
      "execution_count": 6,
      "block_group": "0dd65e5a87694427b8fe6bb942f1d663",
      "content_dependencies": null
    },
    {
      "cell_type": "code",
      "source": "#basic descriptives \npd.set_option('display.float_format', lambda x: '%.3f' % x)\ndf.describe().transpose()",
      "metadata": {
        "source_hash": "a1fa30a",
        "execution_start": 1727025238414,
        "execution_millis": 57,
        "deepnote_to_be_reexecuted": false,
        "cell_id": "0e7f4a420b3a497f8838ebac3151ca58",
        "deepnote_cell_type": "code"
      },
      "outputs": [
        {
          "output_type": "execute_result",
          "execution_count": 7,
          "data": {
            "application/vnd.deepnote.dataframe.v3+json": {
              "column_count": 8,
              "row_count": 8,
              "columns": [
                {
                  "name": "count",
                  "dtype": "float64",
                  "stats": {
                    "unique_count": 6,
                    "nan_count": 0,
                    "min": "309.0",
                    "max": "920.0",
                    "histogram": [
                      {
                        "bin_start": 309,
                        "bin_end": 370.1,
                        "count": 1
                      },
                      {
                        "bin_start": 370.1,
                        "bin_end": 431.2,
                        "count": 0
                      },
                      {
                        "bin_start": 431.2,
                        "bin_end": 492.3,
                        "count": 0
                      },
                      {
                        "bin_start": 492.3,
                        "bin_end": 553.4,
                        "count": 0
                      },
                      {
                        "bin_start": 553.4,
                        "bin_end": 614.5,
                        "count": 0
                      },
                      {
                        "bin_start": 614.5,
                        "bin_end": 675.6,
                        "count": 0
                      },
                      {
                        "bin_start": 675.6,
                        "bin_end": 736.7,
                        "count": 0
                      },
                      {
                        "bin_start": 736.7,
                        "bin_end": 797.8,
                        "count": 0
                      },
                      {
                        "bin_start": 797.8,
                        "bin_end": 858.9,
                        "count": 1
                      },
                      {
                        "bin_start": 858.9,
                        "bin_end": 920,
                        "count": 6
                      }
                    ]
                  }
                },
                {
                  "name": "mean",
                  "dtype": "float64",
                  "stats": {
                    "unique_count": 8,
                    "nan_count": 0,
                    "min": "0.6763754045307443",
                    "max": "460.5",
                    "histogram": [
                      {
                        "bin_start": 0.6763754045307443,
                        "bin_end": 46.65873786407767,
                        "count": 3
                      },
                      {
                        "bin_start": 46.65873786407767,
                        "bin_end": 92.6411003236246,
                        "count": 1
                      },
                      {
                        "bin_start": 92.6411003236246,
                        "bin_end": 138.62346278317153,
                        "count": 2
                      },
                      {
                        "bin_start": 138.62346278317153,
                        "bin_end": 184.60582524271845,
                        "count": 0
                      },
                      {
                        "bin_start": 184.60582524271845,
                        "bin_end": 230.58818770226537,
                        "count": 1
                      },
                      {
                        "bin_start": 230.58818770226537,
                        "bin_end": 276.5705501618123,
                        "count": 0
                      },
                      {
                        "bin_start": 276.5705501618123,
                        "bin_end": 322.5529126213592,
                        "count": 0
                      },
                      {
                        "bin_start": 322.5529126213592,
                        "bin_end": 368.53527508090616,
                        "count": 0
                      },
                      {
                        "bin_start": 368.53527508090616,
                        "bin_end": 414.5176375404531,
                        "count": 0
                      },
                      {
                        "bin_start": 414.5176375404531,
                        "bin_end": 460.5,
                        "count": 1
                      }
                    ]
                  }
                },
                {
                  "name": "std",
                  "dtype": "float64",
                  "stats": {
                    "unique_count": 8,
                    "nan_count": 0,
                    "min": "0.935653012559987",
                    "max": "265.72542219366215",
                    "histogram": [
                      {
                        "bin_start": 0.935653012559987,
                        "bin_end": 27.4146299306702,
                        "count": 6
                      },
                      {
                        "bin_start": 27.4146299306702,
                        "bin_end": 53.893606848780415,
                        "count": 0
                      },
                      {
                        "bin_start": 53.893606848780415,
                        "bin_end": 80.37258376689061,
                        "count": 0
                      },
                      {
                        "bin_start": 80.37258376689061,
                        "bin_end": 106.85156068500083,
                        "count": 0
                      },
                      {
                        "bin_start": 106.85156068500083,
                        "bin_end": 133.33053760311105,
                        "count": 1
                      },
                      {
                        "bin_start": 133.33053760311105,
                        "bin_end": 159.80951452122125,
                        "count": 0
                      },
                      {
                        "bin_start": 159.80951452122125,
                        "bin_end": 186.28849143933147,
                        "count": 0
                      },
                      {
                        "bin_start": 186.28849143933147,
                        "bin_end": 212.7674683574417,
                        "count": 0
                      },
                      {
                        "bin_start": 212.7674683574417,
                        "bin_end": 239.2464452755519,
                        "count": 0
                      },
                      {
                        "bin_start": 239.2464452755519,
                        "bin_end": 265.72542219366215,
                        "count": 1
                      }
                    ]
                  }
                },
                {
                  "name": "min",
                  "dtype": "float64",
                  "stats": {
                    "unique_count": 5,
                    "nan_count": 0,
                    "min": "-2.6",
                    "max": "60.0",
                    "histogram": [
                      {
                        "bin_start": -2.6,
                        "bin_end": 3.6599999999999997,
                        "count": 6
                      },
                      {
                        "bin_start": 3.6599999999999997,
                        "bin_end": 9.92,
                        "count": 0
                      },
                      {
                        "bin_start": 9.92,
                        "bin_end": 16.18,
                        "count": 0
                      },
                      {
                        "bin_start": 16.18,
                        "bin_end": 22.439999999999998,
                        "count": 0
                      },
                      {
                        "bin_start": 22.439999999999998,
                        "bin_end": 28.699999999999996,
                        "count": 1
                      },
                      {
                        "bin_start": 28.699999999999996,
                        "bin_end": 34.96,
                        "count": 0
                      },
                      {
                        "bin_start": 34.96,
                        "bin_end": 41.22,
                        "count": 0
                      },
                      {
                        "bin_start": 41.22,
                        "bin_end": 47.48,
                        "count": 0
                      },
                      {
                        "bin_start": 47.48,
                        "bin_end": 53.739999999999995,
                        "count": 0
                      },
                      {
                        "bin_start": 53.739999999999995,
                        "bin_end": 60,
                        "count": 1
                      }
                    ]
                  }
                },
                {
                  "name": "25%",
                  "dtype": "float64",
                  "stats": {
                    "unique_count": 5,
                    "nan_count": 0,
                    "min": "0.0",
                    "max": "230.75",
                    "histogram": [
                      {
                        "bin_start": 0,
                        "bin_end": 23.075,
                        "count": 3
                      },
                      {
                        "bin_start": 23.075,
                        "bin_end": 46.15,
                        "count": 0
                      },
                      {
                        "bin_start": 46.15,
                        "bin_end": 69.225,
                        "count": 1
                      },
                      {
                        "bin_start": 69.225,
                        "bin_end": 92.3,
                        "count": 0
                      },
                      {
                        "bin_start": 92.3,
                        "bin_end": 115.375,
                        "count": 0
                      },
                      {
                        "bin_start": 115.375,
                        "bin_end": 138.45,
                        "count": 2
                      },
                      {
                        "bin_start": 138.45,
                        "bin_end": 161.525,
                        "count": 0
                      },
                      {
                        "bin_start": 161.525,
                        "bin_end": 184.6,
                        "count": 1
                      },
                      {
                        "bin_start": 184.6,
                        "bin_end": 207.67499999999998,
                        "count": 0
                      },
                      {
                        "bin_start": 207.67499999999998,
                        "bin_end": 230.75,
                        "count": 1
                      }
                    ]
                  }
                },
                {
                  "name": "50%",
                  "dtype": "float64",
                  "stats": {
                    "unique_count": 8,
                    "nan_count": 0,
                    "min": "0.0",
                    "max": "460.5",
                    "histogram": [
                      {
                        "bin_start": 0,
                        "bin_end": 46.05,
                        "count": 3
                      },
                      {
                        "bin_start": 46.05,
                        "bin_end": 92.1,
                        "count": 1
                      },
                      {
                        "bin_start": 92.1,
                        "bin_end": 138.14999999999998,
                        "count": 1
                      },
                      {
                        "bin_start": 138.14999999999998,
                        "bin_end": 184.2,
                        "count": 1
                      },
                      {
                        "bin_start": 184.2,
                        "bin_end": 230.25,
                        "count": 1
                      },
                      {
                        "bin_start": 230.25,
                        "bin_end": 276.29999999999995,
                        "count": 0
                      },
                      {
                        "bin_start": 276.29999999999995,
                        "bin_end": 322.34999999999997,
                        "count": 0
                      },
                      {
                        "bin_start": 322.34999999999997,
                        "bin_end": 368.4,
                        "count": 0
                      },
                      {
                        "bin_start": 368.4,
                        "bin_end": 414.45,
                        "count": 0
                      },
                      {
                        "bin_start": 414.45,
                        "bin_end": 460.5,
                        "count": 1
                      }
                    ]
                  }
                },
                {
                  "name": "75%",
                  "dtype": "float64",
                  "stats": {
                    "unique_count": 8,
                    "nan_count": 0,
                    "min": "1.0",
                    "max": "690.25",
                    "histogram": [
                      {
                        "bin_start": 1,
                        "bin_end": 69.925,
                        "count": 4
                      },
                      {
                        "bin_start": 69.925,
                        "bin_end": 138.85,
                        "count": 0
                      },
                      {
                        "bin_start": 138.85,
                        "bin_end": 207.77499999999998,
                        "count": 2
                      },
                      {
                        "bin_start": 207.77499999999998,
                        "bin_end": 276.7,
                        "count": 1
                      },
                      {
                        "bin_start": 276.7,
                        "bin_end": 345.625,
                        "count": 0
                      },
                      {
                        "bin_start": 345.625,
                        "bin_end": 414.54999999999995,
                        "count": 0
                      },
                      {
                        "bin_start": 414.54999999999995,
                        "bin_end": 483.47499999999997,
                        "count": 0
                      },
                      {
                        "bin_start": 483.47499999999997,
                        "bin_end": 552.4,
                        "count": 0
                      },
                      {
                        "bin_start": 552.4,
                        "bin_end": 621.3249999999999,
                        "count": 0
                      },
                      {
                        "bin_start": 621.3249999999999,
                        "bin_end": 690.25,
                        "count": 1
                      }
                    ]
                  }
                },
                {
                  "name": "max",
                  "dtype": "float64",
                  "stats": {
                    "unique_count": 8,
                    "nan_count": 0,
                    "min": "3.0",
                    "max": "920.0",
                    "histogram": [
                      {
                        "bin_start": 3,
                        "bin_end": 94.7,
                        "count": 4
                      },
                      {
                        "bin_start": 94.7,
                        "bin_end": 186.4,
                        "count": 0
                      },
                      {
                        "bin_start": 186.4,
                        "bin_end": 278.1,
                        "count": 2
                      },
                      {
                        "bin_start": 278.1,
                        "bin_end": 369.8,
                        "count": 0
                      },
                      {
                        "bin_start": 369.8,
                        "bin_end": 461.5,
                        "count": 0
                      },
                      {
                        "bin_start": 461.5,
                        "bin_end": 553.2,
                        "count": 0
                      },
                      {
                        "bin_start": 553.2,
                        "bin_end": 644.9,
                        "count": 1
                      },
                      {
                        "bin_start": 644.9,
                        "bin_end": 736.6,
                        "count": 0
                      },
                      {
                        "bin_start": 736.6,
                        "bin_end": 828.3000000000001,
                        "count": 0
                      },
                      {
                        "bin_start": 828.3000000000001,
                        "bin_end": 920,
                        "count": 1
                      }
                    ]
                  }
                },
                {
                  "name": "_deepnote_index_column",
                  "dtype": "object"
                }
              ],
              "rows": [
                {
                  "count": 920,
                  "mean": 460.5,
                  "std": 265.72542219366215,
                  "min": 1,
                  "25%": 230.75,
                  "50%": 460.5,
                  "75%": 690.25,
                  "max": 920,
                  "_deepnote_index_column": "id"
                },
                {
                  "count": 920,
                  "mean": 53.51086956521739,
                  "std": 9.424685209576857,
                  "min": 28,
                  "25%": 47,
                  "50%": 54,
                  "75%": 60,
                  "max": 77,
                  "_deepnote_index_column": "age"
                },
                {
                  "count": 861,
                  "mean": 132.13240418118468,
                  "std": 19.066069518587476,
                  "min": 0,
                  "25%": 120,
                  "50%": 130,
                  "75%": 140,
                  "max": 200,
                  "_deepnote_index_column": "trestbps"
                },
                {
                  "count": 890,
                  "mean": 199.13033707865168,
                  "std": 110.7808103532305,
                  "min": 0,
                  "25%": 175,
                  "50%": 223,
                  "75%": 268,
                  "max": 603,
                  "_deepnote_index_column": "chol"
                },
                {
                  "count": 865,
                  "mean": 137.5456647398844,
                  "std": 25.926276492797594,
                  "min": 60,
                  "25%": 120,
                  "50%": 140,
                  "75%": 157,
                  "max": 202,
                  "_deepnote_index_column": "thalch"
                },
                {
                  "count": 858,
                  "mean": 0.8787878787878788,
                  "std": 1.0912262483465298,
                  "min": -2.6,
                  "25%": 0,
                  "50%": 0.5,
                  "75%": 1.5,
                  "max": 6.2,
                  "_deepnote_index_column": "oldpeak"
                },
                {
                  "count": 309,
                  "mean": 0.6763754045307443,
                  "std": 0.935653012559987,
                  "min": 0,
                  "25%": 0,
                  "50%": 0,
                  "75%": 1,
                  "max": 3,
                  "_deepnote_index_column": "ca"
                },
                {
                  "count": 920,
                  "mean": 0.9956521739130435,
                  "std": 1.142693403338037,
                  "min": 0,
                  "25%": 0,
                  "50%": 1,
                  "75%": 2,
                  "max": 4,
                  "_deepnote_index_column": "num"
                }
              ]
            },
            "text/plain": "           count    mean     std    min     25%     50%     75%     max\nid       920.000 460.500 265.725  1.000 230.750 460.500 690.250 920.000\nage      920.000  53.511   9.425 28.000  47.000  54.000  60.000  77.000\ntrestbps 861.000 132.132  19.066  0.000 120.000 130.000 140.000 200.000\nchol     890.000 199.130 110.781  0.000 175.000 223.000 268.000 603.000\nthalch   865.000 137.546  25.926 60.000 120.000 140.000 157.000 202.000\noldpeak  858.000   0.879   1.091 -2.600   0.000   0.500   1.500   6.200\nca       309.000   0.676   0.936  0.000   0.000   0.000   1.000   3.000\nnum      920.000   0.996   1.143  0.000   0.000   1.000   2.000   4.000",
            "text/html": "<div>\n<style scoped>\n    .dataframe tbody tr th:only-of-type {\n        vertical-align: middle;\n    }\n\n    .dataframe tbody tr th {\n        vertical-align: top;\n    }\n\n    .dataframe thead th {\n        text-align: right;\n    }\n</style>\n<table border=\"1\" class=\"dataframe\">\n  <thead>\n    <tr style=\"text-align: right;\">\n      <th></th>\n      <th>count</th>\n      <th>mean</th>\n      <th>std</th>\n      <th>min</th>\n      <th>25%</th>\n      <th>50%</th>\n      <th>75%</th>\n      <th>max</th>\n    </tr>\n  </thead>\n  <tbody>\n    <tr>\n      <th>id</th>\n      <td>920.000</td>\n      <td>460.500</td>\n      <td>265.725</td>\n      <td>1.000</td>\n      <td>230.750</td>\n      <td>460.500</td>\n      <td>690.250</td>\n      <td>920.000</td>\n    </tr>\n    <tr>\n      <th>age</th>\n      <td>920.000</td>\n      <td>53.511</td>\n      <td>9.425</td>\n      <td>28.000</td>\n      <td>47.000</td>\n      <td>54.000</td>\n      <td>60.000</td>\n      <td>77.000</td>\n    </tr>\n    <tr>\n      <th>trestbps</th>\n      <td>861.000</td>\n      <td>132.132</td>\n      <td>19.066</td>\n      <td>0.000</td>\n      <td>120.000</td>\n      <td>130.000</td>\n      <td>140.000</td>\n      <td>200.000</td>\n    </tr>\n    <tr>\n      <th>chol</th>\n      <td>890.000</td>\n      <td>199.130</td>\n      <td>110.781</td>\n      <td>0.000</td>\n      <td>175.000</td>\n      <td>223.000</td>\n      <td>268.000</td>\n      <td>603.000</td>\n    </tr>\n    <tr>\n      <th>thalch</th>\n      <td>865.000</td>\n      <td>137.546</td>\n      <td>25.926</td>\n      <td>60.000</td>\n      <td>120.000</td>\n      <td>140.000</td>\n      <td>157.000</td>\n      <td>202.000</td>\n    </tr>\n    <tr>\n      <th>oldpeak</th>\n      <td>858.000</td>\n      <td>0.879</td>\n      <td>1.091</td>\n      <td>-2.600</td>\n      <td>0.000</td>\n      <td>0.500</td>\n      <td>1.500</td>\n      <td>6.200</td>\n    </tr>\n    <tr>\n      <th>ca</th>\n      <td>309.000</td>\n      <td>0.676</td>\n      <td>0.936</td>\n      <td>0.000</td>\n      <td>0.000</td>\n      <td>0.000</td>\n      <td>1.000</td>\n      <td>3.000</td>\n    </tr>\n    <tr>\n      <th>num</th>\n      <td>920.000</td>\n      <td>0.996</td>\n      <td>1.143</td>\n      <td>0.000</td>\n      <td>0.000</td>\n      <td>1.000</td>\n      <td>2.000</td>\n      <td>4.000</td>\n    </tr>\n  </tbody>\n</table>\n</div>"
          },
          "metadata": {}
        }
      ],
      "outputs_reference": null,
      "execution_count": 7,
      "block_group": "fc2164aeeb2a49ed916e5e79e14e986e",
      "content_dependencies": null
    },
    {
      "cell_type": "markdown",
      "source": "### Filtering Dataset",
      "metadata": {
        "cell_id": "bdcb700add69488da11c9cdd77fe9d25",
        "deepnote_cell_type": "markdown"
      },
      "block_group": "62938feb61df4eb4ba00120ca69639d5"
    },
    {
      "cell_type": "code",
      "source": "#deleting the ID variable since it is not useful for our analysis\ndf = df.drop(columns=['id'])\ndf.shape",
      "metadata": {
        "source_hash": "409c1294",
        "execution_start": 1727025433513,
        "execution_millis": 70,
        "deepnote_to_be_reexecuted": false,
        "cell_id": "f06d1f22e2d146769441e56d44df871b",
        "deepnote_cell_type": "code"
      },
      "outputs": [
        {
          "output_type": "execute_result",
          "execution_count": 8,
          "data": {
            "text/plain": "(920, 15)"
          },
          "metadata": {}
        }
      ],
      "outputs_reference": null,
      "execution_count": 8,
      "block_group": "9e660d1d73cb4c50857489d631e63032",
      "content_dependencies": null
    },
    {
      "cell_type": "code",
      "source": "#find missing values\ndf.isnull()",
      "metadata": {
        "source_hash": "b4046356",
        "execution_start": 1727025500489,
        "execution_millis": 97,
        "deepnote_to_be_reexecuted": false,
        "cell_id": "9a569f3d948340589e2f9b52a8520e21",
        "deepnote_cell_type": "code"
      },
      "outputs": [
        {
          "output_type": "execute_result",
          "execution_count": 9,
          "data": {
            "application/vnd.deepnote.dataframe.v3+json": {
              "column_count": 15,
              "row_count": 920,
              "columns": [
                {
                  "name": "age",
                  "dtype": "bool",
                  "stats": {
                    "unique_count": 1,
                    "nan_count": 0,
                    "categories": [
                      {
                        "name": "False",
                        "count": 920
                      }
                    ]
                  }
                },
                {
                  "name": "sex",
                  "dtype": "bool",
                  "stats": {
                    "unique_count": 1,
                    "nan_count": 0,
                    "categories": [
                      {
                        "name": "False",
                        "count": 920
                      }
                    ]
                  }
                },
                {
                  "name": "dataset",
                  "dtype": "bool",
                  "stats": {
                    "unique_count": 1,
                    "nan_count": 0,
                    "categories": [
                      {
                        "name": "False",
                        "count": 920
                      }
                    ]
                  }
                },
                {
                  "name": "cp",
                  "dtype": "bool",
                  "stats": {
                    "unique_count": 1,
                    "nan_count": 0,
                    "categories": [
                      {
                        "name": "False",
                        "count": 920
                      }
                    ]
                  }
                },
                {
                  "name": "trestbps",
                  "dtype": "bool",
                  "stats": {
                    "unique_count": 2,
                    "nan_count": 0,
                    "categories": [
                      {
                        "name": "False",
                        "count": 861
                      },
                      {
                        "name": "True",
                        "count": 59
                      }
                    ]
                  }
                },
                {
                  "name": "chol",
                  "dtype": "bool",
                  "stats": {
                    "unique_count": 2,
                    "nan_count": 0,
                    "categories": [
                      {
                        "name": "False",
                        "count": 890
                      },
                      {
                        "name": "True",
                        "count": 30
                      }
                    ]
                  }
                },
                {
                  "name": "fbs",
                  "dtype": "bool",
                  "stats": {
                    "unique_count": 2,
                    "nan_count": 0,
                    "categories": [
                      {
                        "name": "False",
                        "count": 830
                      },
                      {
                        "name": "True",
                        "count": 90
                      }
                    ]
                  }
                },
                {
                  "name": "restecg",
                  "dtype": "bool",
                  "stats": {
                    "unique_count": 2,
                    "nan_count": 0,
                    "categories": [
                      {
                        "name": "False",
                        "count": 918
                      },
                      {
                        "name": "True",
                        "count": 2
                      }
                    ]
                  }
                },
                {
                  "name": "thalch",
                  "dtype": "bool",
                  "stats": {
                    "unique_count": 2,
                    "nan_count": 0,
                    "categories": [
                      {
                        "name": "False",
                        "count": 865
                      },
                      {
                        "name": "True",
                        "count": 55
                      }
                    ]
                  }
                },
                {
                  "name": "exang",
                  "dtype": "bool",
                  "stats": {
                    "unique_count": 2,
                    "nan_count": 0,
                    "categories": [
                      {
                        "name": "False",
                        "count": 865
                      },
                      {
                        "name": "True",
                        "count": 55
                      }
                    ]
                  }
                },
                {
                  "name": "oldpeak",
                  "dtype": "bool",
                  "stats": {
                    "unique_count": 2,
                    "nan_count": 0,
                    "categories": [
                      {
                        "name": "False",
                        "count": 858
                      },
                      {
                        "name": "True",
                        "count": 62
                      }
                    ]
                  }
                },
                {
                  "name": "slope",
                  "dtype": "bool",
                  "stats": {
                    "unique_count": 2,
                    "nan_count": 0,
                    "categories": [
                      {
                        "name": "False",
                        "count": 611
                      },
                      {
                        "name": "True",
                        "count": 309
                      }
                    ]
                  }
                },
                {
                  "name": "ca",
                  "dtype": "bool",
                  "stats": {
                    "unique_count": 2,
                    "nan_count": 0,
                    "categories": [
                      {
                        "name": "True",
                        "count": 611
                      },
                      {
                        "name": "False",
                        "count": 309
                      }
                    ]
                  }
                },
                {
                  "name": "thal",
                  "dtype": "bool",
                  "stats": {
                    "unique_count": 2,
                    "nan_count": 0,
                    "categories": [
                      {
                        "name": "True",
                        "count": 486
                      },
                      {
                        "name": "False",
                        "count": 434
                      }
                    ]
                  }
                },
                {
                  "name": "num",
                  "dtype": "bool",
                  "stats": {
                    "unique_count": 1,
                    "nan_count": 0,
                    "categories": [
                      {
                        "name": "False",
                        "count": 920
                      }
                    ]
                  }
                },
                {
                  "name": "_deepnote_index_column",
                  "dtype": "int64"
                }
              ],
              "rows": [
                {
                  "age": "False",
                  "sex": "False",
                  "dataset": "False",
                  "cp": "False",
                  "trestbps": "False",
                  "chol": "False",
                  "fbs": "False",
                  "restecg": "False",
                  "thalch": "False",
                  "exang": "False",
                  "oldpeak": "False",
                  "slope": "False",
                  "ca": "False",
                  "thal": "False",
                  "num": "False",
                  "_deepnote_index_column": 0
                },
                {
                  "age": "False",
                  "sex": "False",
                  "dataset": "False",
                  "cp": "False",
                  "trestbps": "False",
                  "chol": "False",
                  "fbs": "False",
                  "restecg": "False",
                  "thalch": "False",
                  "exang": "False",
                  "oldpeak": "False",
                  "slope": "False",
                  "ca": "False",
                  "thal": "False",
                  "num": "False",
                  "_deepnote_index_column": 1
                },
                {
                  "age": "False",
                  "sex": "False",
                  "dataset": "False",
                  "cp": "False",
                  "trestbps": "False",
                  "chol": "False",
                  "fbs": "False",
                  "restecg": "False",
                  "thalch": "False",
                  "exang": "False",
                  "oldpeak": "False",
                  "slope": "False",
                  "ca": "False",
                  "thal": "False",
                  "num": "False",
                  "_deepnote_index_column": 2
                },
                {
                  "age": "False",
                  "sex": "False",
                  "dataset": "False",
                  "cp": "False",
                  "trestbps": "False",
                  "chol": "False",
                  "fbs": "False",
                  "restecg": "False",
                  "thalch": "False",
                  "exang": "False",
                  "oldpeak": "False",
                  "slope": "False",
                  "ca": "False",
                  "thal": "False",
                  "num": "False",
                  "_deepnote_index_column": 3
                },
                {
                  "age": "False",
                  "sex": "False",
                  "dataset": "False",
                  "cp": "False",
                  "trestbps": "False",
                  "chol": "False",
                  "fbs": "False",
                  "restecg": "False",
                  "thalch": "False",
                  "exang": "False",
                  "oldpeak": "False",
                  "slope": "False",
                  "ca": "False",
                  "thal": "False",
                  "num": "False",
                  "_deepnote_index_column": 4
                },
                {
                  "age": "False",
                  "sex": "False",
                  "dataset": "False",
                  "cp": "False",
                  "trestbps": "False",
                  "chol": "False",
                  "fbs": "False",
                  "restecg": "False",
                  "thalch": "False",
                  "exang": "False",
                  "oldpeak": "False",
                  "slope": "False",
                  "ca": "False",
                  "thal": "False",
                  "num": "False",
                  "_deepnote_index_column": 5
                },
                {
                  "age": "False",
                  "sex": "False",
                  "dataset": "False",
                  "cp": "False",
                  "trestbps": "False",
                  "chol": "False",
                  "fbs": "False",
                  "restecg": "False",
                  "thalch": "False",
                  "exang": "False",
                  "oldpeak": "False",
                  "slope": "False",
                  "ca": "False",
                  "thal": "False",
                  "num": "False",
                  "_deepnote_index_column": 6
                },
                {
                  "age": "False",
                  "sex": "False",
                  "dataset": "False",
                  "cp": "False",
                  "trestbps": "False",
                  "chol": "False",
                  "fbs": "False",
                  "restecg": "False",
                  "thalch": "False",
                  "exang": "False",
                  "oldpeak": "False",
                  "slope": "False",
                  "ca": "False",
                  "thal": "False",
                  "num": "False",
                  "_deepnote_index_column": 7
                },
                {
                  "age": "False",
                  "sex": "False",
                  "dataset": "False",
                  "cp": "False",
                  "trestbps": "False",
                  "chol": "False",
                  "fbs": "False",
                  "restecg": "False",
                  "thalch": "False",
                  "exang": "False",
                  "oldpeak": "False",
                  "slope": "False",
                  "ca": "False",
                  "thal": "False",
                  "num": "False",
                  "_deepnote_index_column": 8
                },
                {
                  "age": "False",
                  "sex": "False",
                  "dataset": "False",
                  "cp": "False",
                  "trestbps": "False",
                  "chol": "False",
                  "fbs": "False",
                  "restecg": "False",
                  "thalch": "False",
                  "exang": "False",
                  "oldpeak": "False",
                  "slope": "False",
                  "ca": "False",
                  "thal": "False",
                  "num": "False",
                  "_deepnote_index_column": 9
                }
              ]
            },
            "text/plain": "       age    sex  dataset     cp  trestbps   chol    fbs  restecg  thalch  \\\n0    False  False    False  False     False  False  False    False   False   \n1    False  False    False  False     False  False  False    False   False   \n2    False  False    False  False     False  False  False    False   False   \n3    False  False    False  False     False  False  False    False   False   \n4    False  False    False  False     False  False  False    False   False   \n..     ...    ...      ...    ...       ...    ...    ...      ...     ...   \n915  False  False    False  False     False  False  False    False   False   \n916  False  False    False  False      True  False  False    False    True   \n917  False  False    False  False     False  False  False    False   False   \n918  False  False    False  False      True  False  False    False    True   \n919  False  False    False  False     False  False  False    False   False   \n\n     exang  oldpeak  slope     ca   thal    num  \n0    False    False  False  False  False  False  \n1    False    False  False  False  False  False  \n2    False    False  False  False  False  False  \n3    False    False  False  False  False  False  \n4    False    False  False  False  False  False  \n..     ...      ...    ...    ...    ...    ...  \n915  False    False   True   True   True  False  \n916   True     True   True   True   True  False  \n917  False    False   True   True  False  False  \n918   True     True   True   True   True  False  \n919  False    False   True   True   True  False  \n\n[920 rows x 15 columns]",
            "text/html": "<div>\n<style scoped>\n    .dataframe tbody tr th:only-of-type {\n        vertical-align: middle;\n    }\n\n    .dataframe tbody tr th {\n        vertical-align: top;\n    }\n\n    .dataframe thead th {\n        text-align: right;\n    }\n</style>\n<table border=\"1\" class=\"dataframe\">\n  <thead>\n    <tr style=\"text-align: right;\">\n      <th></th>\n      <th>age</th>\n      <th>sex</th>\n      <th>dataset</th>\n      <th>cp</th>\n      <th>trestbps</th>\n      <th>chol</th>\n      <th>fbs</th>\n      <th>restecg</th>\n      <th>thalch</th>\n      <th>exang</th>\n      <th>oldpeak</th>\n      <th>slope</th>\n      <th>ca</th>\n      <th>thal</th>\n      <th>num</th>\n    </tr>\n  </thead>\n  <tbody>\n    <tr>\n      <th>0</th>\n      <td>False</td>\n      <td>False</td>\n      <td>False</td>\n      <td>False</td>\n      <td>False</td>\n      <td>False</td>\n      <td>False</td>\n      <td>False</td>\n      <td>False</td>\n      <td>False</td>\n      <td>False</td>\n      <td>False</td>\n      <td>False</td>\n      <td>False</td>\n      <td>False</td>\n    </tr>\n    <tr>\n      <th>1</th>\n      <td>False</td>\n      <td>False</td>\n      <td>False</td>\n      <td>False</td>\n      <td>False</td>\n      <td>False</td>\n      <td>False</td>\n      <td>False</td>\n      <td>False</td>\n      <td>False</td>\n      <td>False</td>\n      <td>False</td>\n      <td>False</td>\n      <td>False</td>\n      <td>False</td>\n    </tr>\n    <tr>\n      <th>2</th>\n      <td>False</td>\n      <td>False</td>\n      <td>False</td>\n      <td>False</td>\n      <td>False</td>\n      <td>False</td>\n      <td>False</td>\n      <td>False</td>\n      <td>False</td>\n      <td>False</td>\n      <td>False</td>\n      <td>False</td>\n      <td>False</td>\n      <td>False</td>\n      <td>False</td>\n    </tr>\n    <tr>\n      <th>3</th>\n      <td>False</td>\n      <td>False</td>\n      <td>False</td>\n      <td>False</td>\n      <td>False</td>\n      <td>False</td>\n      <td>False</td>\n      <td>False</td>\n      <td>False</td>\n      <td>False</td>\n      <td>False</td>\n      <td>False</td>\n      <td>False</td>\n      <td>False</td>\n      <td>False</td>\n    </tr>\n    <tr>\n      <th>4</th>\n      <td>False</td>\n      <td>False</td>\n      <td>False</td>\n      <td>False</td>\n      <td>False</td>\n      <td>False</td>\n      <td>False</td>\n      <td>False</td>\n      <td>False</td>\n      <td>False</td>\n      <td>False</td>\n      <td>False</td>\n      <td>False</td>\n      <td>False</td>\n      <td>False</td>\n    </tr>\n    <tr>\n      <th>...</th>\n      <td>...</td>\n      <td>...</td>\n      <td>...</td>\n      <td>...</td>\n      <td>...</td>\n      <td>...</td>\n      <td>...</td>\n      <td>...</td>\n      <td>...</td>\n      <td>...</td>\n      <td>...</td>\n      <td>...</td>\n      <td>...</td>\n      <td>...</td>\n      <td>...</td>\n    </tr>\n    <tr>\n      <th>915</th>\n      <td>False</td>\n      <td>False</td>\n      <td>False</td>\n      <td>False</td>\n      <td>False</td>\n      <td>False</td>\n      <td>False</td>\n      <td>False</td>\n      <td>False</td>\n      <td>False</td>\n      <td>False</td>\n      <td>True</td>\n      <td>True</td>\n      <td>True</td>\n      <td>False</td>\n    </tr>\n    <tr>\n      <th>916</th>\n      <td>False</td>\n      <td>False</td>\n      <td>False</td>\n      <td>False</td>\n      <td>True</td>\n      <td>False</td>\n      <td>False</td>\n      <td>False</td>\n      <td>True</td>\n      <td>True</td>\n      <td>True</td>\n      <td>True</td>\n      <td>True</td>\n      <td>True</td>\n      <td>False</td>\n    </tr>\n    <tr>\n      <th>917</th>\n      <td>False</td>\n      <td>False</td>\n      <td>False</td>\n      <td>False</td>\n      <td>False</td>\n      <td>False</td>\n      <td>False</td>\n      <td>False</td>\n      <td>False</td>\n      <td>False</td>\n      <td>False</td>\n      <td>True</td>\n      <td>True</td>\n      <td>False</td>\n      <td>False</td>\n    </tr>\n    <tr>\n      <th>918</th>\n      <td>False</td>\n      <td>False</td>\n      <td>False</td>\n      <td>False</td>\n      <td>True</td>\n      <td>False</td>\n      <td>False</td>\n      <td>False</td>\n      <td>True</td>\n      <td>True</td>\n      <td>True</td>\n      <td>True</td>\n      <td>True</td>\n      <td>True</td>\n      <td>False</td>\n    </tr>\n    <tr>\n      <th>919</th>\n      <td>False</td>\n      <td>False</td>\n      <td>False</td>\n      <td>False</td>\n      <td>False</td>\n      <td>False</td>\n      <td>False</td>\n      <td>False</td>\n      <td>False</td>\n      <td>False</td>\n      <td>False</td>\n      <td>True</td>\n      <td>True</td>\n      <td>True</td>\n      <td>False</td>\n    </tr>\n  </tbody>\n</table>\n<p>920 rows × 15 columns</p>\n</div>"
          },
          "metadata": {}
        }
      ],
      "outputs_reference": null,
      "execution_count": 9,
      "block_group": "6c1f6111dd0f46c5a8c7846bc64d286e",
      "content_dependencies": null
    },
    {
      "cell_type": "code",
      "source": "df.isnull().sum()",
      "metadata": {
        "source_hash": "f3dd26da",
        "execution_start": 1727025548904,
        "execution_millis": 128,
        "deepnote_to_be_reexecuted": false,
        "cell_id": "d3968cf621f2436183a06faeee47b73e",
        "deepnote_cell_type": "code"
      },
      "outputs": [
        {
          "output_type": "execute_result",
          "execution_count": 10,
          "data": {
            "text/plain": "age           0\nsex           0\ndataset       0\ncp            0\ntrestbps     59\nchol         30\nfbs          90\nrestecg       2\nthalch       55\nexang        55\noldpeak      62\nslope       309\nca          611\nthal        486\nnum           0\ndtype: int64"
          },
          "metadata": {}
        }
      ],
      "outputs_reference": null,
      "execution_count": 10,
      "block_group": "9848992f4f644cb48b81a1c6ffff6c97",
      "content_dependencies": null
    },
    {
      "cell_type": "code",
      "source": "# Fixing the code by installing the missingno package\n!pip install missingno\n\n# Now, retry visualizing the missing values\nimport missingno as msno\nmsno.heatmap(df)\nplt.show()",
      "metadata": {
        "source_hash": "99cc10ac",
        "execution_start": 1727025708696,
        "execution_millis": 4163,
        "deepnote_to_be_reexecuted": false,
        "cell_id": "c37f6c6cc22d4f7991c5f0ed5c3c9120",
        "deepnote_cell_type": "code"
      },
      "outputs": [
        {
          "name": "stdout",
          "text": "Collecting missingno\n  Downloading missingno-0.5.2-py3-none-any.whl (8.7 kB)\nRequirement already satisfied: matplotlib in /shared-libs/python3.9/py/lib/python3.9/site-packages (from missingno) (3.6.0)\nRequirement already satisfied: seaborn in /shared-libs/python3.9/py/lib/python3.9/site-packages (from missingno) (0.13.2)\nRequirement already satisfied: numpy in /shared-libs/python3.9/py/lib/python3.9/site-packages (from missingno) (1.23.4)\nRequirement already satisfied: scipy in /shared-libs/python3.9/py/lib/python3.9/site-packages (from missingno) (1.9.3)\nRequirement already satisfied: pillow>=6.2.0 in /shared-libs/python3.9/py/lib/python3.9/site-packages (from matplotlib->missingno) (9.2.0)\nRequirement already satisfied: fonttools>=4.22.0 in /shared-libs/python3.9/py/lib/python3.9/site-packages (from matplotlib->missingno) (4.37.4)\nRequirement already satisfied: python-dateutil>=2.7 in /shared-libs/python3.9/py-core/lib/python3.9/site-packages (from matplotlib->missingno) (2.8.2)\nRequirement already satisfied: contourpy>=1.0.1 in /shared-libs/python3.9/py/lib/python3.9/site-packages (from matplotlib->missingno) (1.0.5)\nRequirement already satisfied: packaging>=20.0 in /shared-libs/python3.9/py-core/lib/python3.9/site-packages (from matplotlib->missingno) (21.3)\nRequirement already satisfied: cycler>=0.10 in /shared-libs/python3.9/py/lib/python3.9/site-packages (from matplotlib->missingno) (0.11.0)\nRequirement already satisfied: pyparsing>=2.2.1 in /shared-libs/python3.9/py-core/lib/python3.9/site-packages (from matplotlib->missingno) (3.0.9)\nRequirement already satisfied: kiwisolver>=1.0.1 in /shared-libs/python3.9/py/lib/python3.9/site-packages (from matplotlib->missingno) (1.4.4)\nRequirement already satisfied: pandas>=1.2 in /shared-libs/python3.9/py/lib/python3.9/site-packages (from seaborn->missingno) (2.1.4)\nRequirement already satisfied: tzdata>=2022.1 in /shared-libs/python3.9/py/lib/python3.9/site-packages (from pandas>=1.2->seaborn->missingno) (2022.5)\nRequirement already satisfied: pytz>=2020.1 in /shared-libs/python3.9/py/lib/python3.9/site-packages (from pandas>=1.2->seaborn->missingno) (2022.5)\nRequirement already satisfied: six>=1.5 in /shared-libs/python3.9/py-core/lib/python3.9/site-packages (from python-dateutil>=2.7->matplotlib->missingno) (1.16.0)\nInstalling collected packages: missingno\nSuccessfully installed missingno-0.5.2\n\n\u001b[1m[\u001b[0m\u001b[34;49mnotice\u001b[0m\u001b[1;39;49m]\u001b[0m\u001b[39;49m A new release of pip is available: \u001b[0m\u001b[31;49m23.0.1\u001b[0m\u001b[39;49m -> \u001b[0m\u001b[32;49m24.2\u001b[0m\n\u001b[1m[\u001b[0m\u001b[34;49mnotice\u001b[0m\u001b[1;39;49m]\u001b[0m\u001b[39;49m To update, run: \u001b[0m\u001b[32;49mpip install --upgrade pip\u001b[0m\n",
          "output_type": "stream"
        },
        {
          "data": {
            "text/plain": "<Figure size 2000x1200 with 2 Axes>",
            "image/png": "[encoded data removed]"
          },
          "metadata": {
            "image/png": {
              "width": 1536,
              "height": 1037
            }
          },
          "output_type": "display_data"
        }
      ],
      "outputs_reference": null,
      "execution_count": 13,
      "block_group": "54944601348845f889402c71008f8097",
      "content_dependencies": null
    },
    {
      "cell_type": "markdown",
      "source": "<a style='text-decoration:none;line-height:16px;display:flex;color:#5B5B62;padding:10px;justify-content:end;' href='https://deepnote.com?utm_source=created-in-deepnote-cell&projectId=0e222dd4-00a3-4786-aa8b-a269f7a7f431' target=\"_blank\">\n<img alt='Created in deepnote.com' style='display:inline;max-height:16px;margin:0px;margin-right:7.5px;' src='data:image/svg+xml;base64,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' > </img>\nCreated in <span style='font-weight:600;margin-left:4px;'>Deepnote</span></a>",
      "metadata": {
        "created_in_deepnote_cell": true,
        "deepnote_cell_type": "markdown"
      }
    }
  ],
  "nbformat": 4,
  "nbformat_minor": 0,
  "metadata": {
    "deepnote_notebook_id": "d73357e5a14246c0bc82a513f1ecdcae",
    "deepnote_execution_queue": []
  }
}