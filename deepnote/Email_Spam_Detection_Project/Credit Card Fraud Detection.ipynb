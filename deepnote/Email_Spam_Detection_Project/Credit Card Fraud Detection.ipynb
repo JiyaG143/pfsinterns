{
  "cells": [
    {
      "cell_type": "code",
      "source": "import numpy as np\nimport pandas as pd",
      "metadata": {
        "source_hash": null,
        "execution_start": 1726975042239,
        "execution_millis": 172,
        "deepnote_to_be_reexecuted": false,
        "cell_id": "99c773f5307f4a2eabc0cf02530f3552",
        "deepnote_cell_type": "code"
      },
      "outputs": [],
      "outputs_reference": null,
      "execution_count": null,
      "block_group": "99c773f5307f4a2eabc0cf02530f3552",
      "content_dependencies": null
    },
    {
      "cell_type": "code",
      "source": "input_1 = 'file_input_uploads/creditcard.csv'",
      "metadata": {
        "source_hash": null,
        "execution_start": 1726975042243,
        "execution_millis": 168,
        "deepnote_variable_name": "input_1",
        "deepnote_variable_value": "file_input_uploads/creditcard.csv",
        "deepnote_to_be_reexecuted": false,
        "cell_id": "8b1611365ae54c7db7216a0327564c2b",
        "deepnote_cell_type": "input-file"
      },
      "outputs": [],
      "outputs_reference": null,
      "execution_count": null,
      "block_group": "059df0f63f1148d1bff4ededefb75324"
    },
    {
      "cell_type": "markdown",
      "source": "### Data Cleaning/Processing",
      "metadata": {
        "cell_id": "5a66b63f561c4c1da4ef68a2e8be81b2",
        "deepnote_cell_type": "markdown"
      },
      "block_group": "7bb3a62d6f404228b5167ac0d55d3788"
    },
    {
      "cell_type": "code",
      "source": "# Adjust the file path based on the variable input_1\ncredit_card_data = pd.read_csv(input_1)\ncredit_card_data.head()",
      "metadata": {
        "source_hash": null,
        "execution_start": 1726975042244,
        "execution_millis": 2505,
        "deepnote_to_be_reexecuted": false,
        "cell_id": "c2f0163cbeab4379bf1f39ab6829aafd",
        "deepnote_cell_type": "code"
      },
      "outputs": [
        {
          "output_type": "execute_result",
          "execution_count": 3,
          "data": {
            "application/vnd.deepnote.dataframe.v3+json": {
              "column_count": 31,
              "row_count": 5,
              "columns": [
                {
                  "name": "Time",
                  "dtype": "float64",
                  "stats": {
                    "unique_count": 3,
                    "nan_count": 0,
                    "min": "0.0",
                    "max": "2.0",
                    "histogram": [
                      {
                        "bin_start": 0,
                        "bin_end": 0.2,
                        "count": 2
                      },
                      {
                        "bin_start": 0.2,
                        "bin_end": 0.4,
                        "count": 0
                      },
                      {
                        "bin_start": 0.4,
                        "bin_end": 0.6000000000000001,
                        "count": 0
                      },
                      {
                        "bin_start": 0.6000000000000001,
                        "bin_end": 0.8,
                        "count": 0
                      },
                      {
                        "bin_start": 0.8,
                        "bin_end": 1,
                        "count": 0
                      },
                      {
                        "bin_start": 1,
                        "bin_end": 1.2000000000000002,
                        "count": 2
                      },
                      {
                        "bin_start": 1.2000000000000002,
                        "bin_end": 1.4000000000000001,
                        "count": 0
                      },
                      {
                        "bin_start": 1.4000000000000001,
                        "bin_end": 1.6,
                        "count": 0
                      },
                      {
                        "bin_start": 1.6,
                        "bin_end": 1.8,
                        "count": 0
                      },
                      {
                        "bin_start": 1.8,
                        "bin_end": 2,
                        "count": 1
                      }
                    ]
                  }
                },
                {
                  "name": "V1",
                  "dtype": "float64",
                  "stats": {
                    "unique_count": 5,
                    "nan_count": 0,
                    "min": "-1.3598071336738",
                    "max": "1.19185711131486",
                    "histogram": [
                      {
                        "bin_start": -1.3598071336738,
                        "bin_end": -1.104640709174934,
                        "count": 3
                      },
                      {
                        "bin_start": -1.104640709174934,
                        "bin_end": -0.849474284676068,
                        "count": 1
                      },
                      {
                        "bin_start": -0.849474284676068,
                        "bin_end": -0.594307860177202,
                        "count": 0
                      },
                      {
                        "bin_start": -0.594307860177202,
                        "bin_end": -0.339141435678336,
                        "count": 0
                      },
                      {
                        "bin_start": -0.339141435678336,
                        "bin_end": -0.08397501117946993,
                        "count": 0
                      },
                      {
                        "bin_start": -0.08397501117946993,
                        "bin_end": 0.1711914133193959,
                        "count": 0
                      },
                      {
                        "bin_start": 0.1711914133193959,
                        "bin_end": 0.426357837818262,
                        "count": 0
                      },
                      {
                        "bin_start": 0.426357837818262,
                        "bin_end": 0.681524262317128,
                        "count": 0
                      },
                      {
                        "bin_start": 0.681524262317128,
                        "bin_end": 0.9366906868159939,
                        "count": 0
                      },
                      {
                        "bin_start": 0.9366906868159939,
                        "bin_end": 1.19185711131486,
                        "count": 1
                      }
                    ]
                  }
                },
                {
                  "name": "V2",
                  "dtype": "float64",
                  "stats": {
                    "unique_count": 5,
                    "nan_count": 0,
                    "min": "-1.34016307473609",
                    "max": "0.877736754848451",
                    "histogram": [
                      {
                        "bin_start": -1.34016307473609,
                        "bin_end": -1.1183730917776358,
                        "count": 1
                      },
                      {
                        "bin_start": -1.1183730917776358,
                        "bin_end": -0.8965831088191818,
                        "count": 0
                      },
                      {
                        "bin_start": -0.8965831088191818,
                        "bin_end": -0.6747931258607276,
                        "count": 0
                      },
                      {
                        "bin_start": -0.6747931258607276,
                        "bin_end": -0.4530031429022735,
                        "count": 0
                      },
                      {
                        "bin_start": -0.4530031429022735,
                        "bin_end": -0.2312131599438194,
                        "count": 0
                      },
                      {
                        "bin_start": -0.2312131599438194,
                        "bin_end": -0.009423176985365211,
                        "count": 2
                      },
                      {
                        "bin_start": -0.009423176985365211,
                        "bin_end": 0.21236680597308877,
                        "count": 0
                      },
                      {
                        "bin_start": 0.21236680597308877,
                        "bin_end": 0.43415678893154297,
                        "count": 1
                      },
                      {
                        "bin_start": 0.43415678893154297,
                        "bin_end": 0.6559467718899972,
                        "count": 0
                      },
                      {
                        "bin_start": 0.6559467718899972,
                        "bin_end": 0.877736754848451,
                        "count": 1
                      }
                    ]
                  }
                },
                {
                  "name": "V3",
                  "dtype": "float64",
                  "stats": {
                    "unique_count": 5,
                    "nan_count": 0,
                    "min": "0.16648011335321",
                    "max": "2.53634673796914",
                    "histogram": [
                      {
                        "bin_start": 0.16648011335321,
                        "bin_end": 0.403466775814803,
                        "count": 1
                      },
                      {
                        "bin_start": 0.403466775814803,
                        "bin_end": 0.640453438276396,
                        "count": 0
                      },
                      {
                        "bin_start": 0.640453438276396,
                        "bin_end": 0.877440100737989,
                        "count": 0
                      },
                      {
                        "bin_start": 0.877440100737989,
                        "bin_end": 1.1144267631995821,
                        "count": 0
                      },
                      {
                        "bin_start": 1.1144267631995821,
                        "bin_end": 1.3514134256611752,
                        "count": 0
                      },
                      {
                        "bin_start": 1.3514134256611752,
                        "bin_end": 1.5884000881227678,
                        "count": 1
                      },
                      {
                        "bin_start": 1.5884000881227678,
                        "bin_end": 1.8253867505843608,
                        "count": 2
                      },
                      {
                        "bin_start": 1.8253867505843608,
                        "bin_end": 2.062373413045954,
                        "count": 0
                      },
                      {
                        "bin_start": 2.062373413045954,
                        "bin_end": 2.299360075507547,
                        "count": 0
                      },
                      {
                        "bin_start": 2.299360075507547,
                        "bin_end": 2.53634673796914,
                        "count": 1
                      }
                    ]
                  }
                },
                {
                  "name": "V4",
                  "dtype": "float64",
                  "stats": {
                    "unique_count": 5,
                    "nan_count": 0,
                    "min": "-0.863291275036453",
                    "max": "1.37815522427443",
                    "histogram": [
                      {
                        "bin_start": -0.863291275036453,
                        "bin_end": -0.6391466251053647,
                        "count": 1
                      },
                      {
                        "bin_start": -0.6391466251053647,
                        "bin_end": -0.41500197517427634,
                        "count": 0
                      },
                      {
                        "bin_start": -0.41500197517427634,
                        "bin_end": -0.190857325243188,
                        "count": 0
                      },
                      {
                        "bin_start": -0.190857325243188,
                        "bin_end": 0.0332873246879003,
                        "count": 0
                      },
                      {
                        "bin_start": 0.0332873246879003,
                        "bin_end": 0.2574319746189886,
                        "count": 0
                      },
                      {
                        "bin_start": 0.2574319746189886,
                        "bin_end": 0.481576624550077,
                        "count": 3
                      },
                      {
                        "bin_start": 0.481576624550077,
                        "bin_end": 0.7057212744811652,
                        "count": 0
                      },
                      {
                        "bin_start": 0.7057212744811652,
                        "bin_end": 0.9298659244122536,
                        "count": 0
                      },
                      {
                        "bin_start": 0.9298659244122536,
                        "bin_end": 1.1540105743433418,
                        "count": 0
                      },
                      {
                        "bin_start": 1.1540105743433418,
                        "bin_end": 1.37815522427443,
                        "count": 1
                      }
                    ]
                  }
                },
                {
                  "name": "V5",
                  "dtype": "float64",
                  "stats": {
                    "unique_count": 5,
                    "nan_count": 0,
                    "min": "-0.503198133318193",
                    "max": "0.0600176492822243",
                    "histogram": [
                      {
                        "bin_start": -0.503198133318193,
                        "bin_end": -0.4468765550581512,
                        "count": 1
                      },
                      {
                        "bin_start": -0.4468765550581512,
                        "bin_end": -0.3905549767981095,
                        "count": 1
                      },
                      {
                        "bin_start": -0.3905549767981095,
                        "bin_end": -0.33423339853806777,
                        "count": 1
                      },
                      {
                        "bin_start": -0.33423339853806777,
                        "bin_end": -0.2779118202780261,
                        "count": 0
                      },
                      {
                        "bin_start": -0.2779118202780261,
                        "bin_end": -0.22159024201798433,
                        "count": 0
                      },
                      {
                        "bin_start": -0.22159024201798433,
                        "bin_end": -0.16526866375794258,
                        "count": 0
                      },
                      {
                        "bin_start": -0.16526866375794258,
                        "bin_end": -0.10894708549790089,
                        "count": 0
                      },
                      {
                        "bin_start": -0.10894708549790089,
                        "bin_end": -0.05262550723785914,
                        "count": 0
                      },
                      {
                        "bin_start": -0.05262550723785914,
                        "bin_end": 0.003696071022182612,
                        "count": 1
                      },
                      {
                        "bin_start": 0.003696071022182612,
                        "bin_end": 0.0600176492822243,
                        "count": 1
                      }
                    ]
                  }
                },
                {
                  "name": "V6",
                  "dtype": "float64",
                  "stats": {
                    "unique_count": 5,
                    "nan_count": 0,
                    "min": "-0.0823608088155687",
                    "max": "1.80049938079263",
                    "histogram": [
                      {
                        "bin_start": -0.0823608088155687,
                        "bin_end": 0.10592521014525116,
                        "count": 2
                      },
                      {
                        "bin_start": 0.10592521014525116,
                        "bin_end": 0.294211229106071,
                        "count": 0
                      },
                      {
                        "bin_start": 0.294211229106071,
                        "bin_end": 0.48249724806689087,
                        "count": 1
                      },
                      {
                        "bin_start": 0.48249724806689087,
                        "bin_end": 0.6707832670277107,
                        "count": 0
                      },
                      {
                        "bin_start": 0.6707832670277107,
                        "bin_end": 0.8590692859885306,
                        "count": 0
                      },
                      {
                        "bin_start": 0.8590692859885306,
                        "bin_end": 1.0473553049493505,
                        "count": 0
                      },
                      {
                        "bin_start": 1.0473553049493505,
                        "bin_end": 1.2356413239101705,
                        "count": 0
                      },
                      {
                        "bin_start": 1.2356413239101705,
                        "bin_end": 1.4239273428709902,
                        "count": 1
                      },
                      {
                        "bin_start": 1.4239273428709902,
                        "bin_end": 1.61221336183181,
                        "count": 0
                      },
                      {
                        "bin_start": 1.61221336183181,
                        "bin_end": 1.80049938079263,
                        "count": 1
                      }
                    ]
                  }
                },
                {
                  "name": "V7",
                  "dtype": "float64",
                  "stats": {
                    "unique_count": 5,
                    "nan_count": 0,
                    "min": "-0.0788029833323113",
                    "max": "0.791460956450422",
                    "histogram": [
                      {
                        "bin_start": -0.0788029833323113,
                        "bin_end": 0.008223410645962034,
                        "count": 1
                      },
                      {
                        "bin_start": 0.008223410645962034,
                        "bin_end": 0.09524980462423537,
                        "count": 0
                      },
                      {
                        "bin_start": 0.09524980462423537,
                        "bin_end": 0.1822761986025087,
                        "count": 0
                      },
                      {
                        "bin_start": 0.1822761986025087,
                        "bin_end": 0.26930259258078204,
                        "count": 2
                      },
                      {
                        "bin_start": 0.26930259258078204,
                        "bin_end": 0.35632898655905537,
                        "count": 0
                      },
                      {
                        "bin_start": 0.35632898655905537,
                        "bin_end": 0.4433553805373287,
                        "count": 0
                      },
                      {
                        "bin_start": 0.4433553805373287,
                        "bin_end": 0.530381774515602,
                        "count": 0
                      },
                      {
                        "bin_start": 0.530381774515602,
                        "bin_end": 0.6174081684938754,
                        "count": 1
                      },
                      {
                        "bin_start": 0.6174081684938754,
                        "bin_end": 0.7044345624721488,
                        "count": 0
                      },
                      {
                        "bin_start": 0.7044345624721488,
                        "bin_end": 0.791460956450422,
                        "count": 1
                      }
                    ]
                  }
                },
                {
                  "name": "V8",
                  "dtype": "float64",
                  "stats": {
                    "unique_count": 5,
                    "nan_count": 0,
                    "min": "-0.270532677192282",
                    "max": "0.377435874652262",
                    "histogram": [
                      {
                        "bin_start": -0.270532677192282,
                        "bin_end": -0.2057358220078276,
                        "count": 1
                      },
                      {
                        "bin_start": -0.2057358220078276,
                        "bin_end": -0.1409389668233732,
                        "count": 0
                      },
                      {
                        "bin_start": -0.1409389668233732,
                        "bin_end": -0.07614211163891879,
                        "count": 0
                      },
                      {
                        "bin_start": -0.07614211163891879,
                        "bin_end": -0.01134525645446438,
                        "count": 0
                      },
                      {
                        "bin_start": -0.01134525645446438,
                        "bin_end": 0.05345159872999006,
                        "count": 0
                      },
                      {
                        "bin_start": 0.05345159872999006,
                        "bin_end": 0.11824845391444444,
                        "count": 2
                      },
                      {
                        "bin_start": 0.11824845391444444,
                        "bin_end": 0.18304530909889882,
                        "count": 0
                      },
                      {
                        "bin_start": 0.18304530909889882,
                        "bin_end": 0.24784216428335326,
                        "count": 1
                      },
                      {
                        "bin_start": 0.24784216428335326,
                        "bin_end": 0.3126390194678077,
                        "count": 0
                      },
                      {
                        "bin_start": 0.3126390194678077,
                        "bin_end": 0.377435874652262,
                        "count": 1
                      }
                    ]
                  }
                },
                {
                  "name": "V9",
                  "dtype": "float64",
                  "stats": {
                    "unique_count": 5,
                    "nan_count": 0,
                    "min": "-1.51465432260583",
                    "max": "0.817739308235294",
                    "histogram": [
                      {
                        "bin_start": -1.51465432260583,
                        "bin_end": -1.2814149595217177,
                        "count": 2
                      },
                      {
                        "bin_start": -1.2814149595217177,
                        "bin_end": -1.0481755964376052,
                        "count": 0
                      },
                      {
                        "bin_start": -1.0481755964376052,
                        "bin_end": -0.8149362333534929,
                        "count": 0
                      },
                      {
                        "bin_start": -0.8149362333534929,
                        "bin_end": -0.5816968702693804,
                        "count": 0
                      },
                      {
                        "bin_start": -0.5816968702693804,
                        "bin_end": -0.348457507185268,
                        "count": 0
                      },
                      {
                        "bin_start": -0.348457507185268,
                        "bin_end": -0.11521814410115572,
                        "count": 1
                      },
                      {
                        "bin_start": -0.11521814410115572,
                        "bin_end": 0.11802121898295681,
                        "count": 0
                      },
                      {
                        "bin_start": 0.11802121898295681,
                        "bin_end": 0.3512605820670691,
                        "count": 0
                      },
                      {
                        "bin_start": 0.3512605820670691,
                        "bin_end": 0.5844999451511816,
                        "count": 1
                      },
                      {
                        "bin_start": 0.5844999451511816,
                        "bin_end": 0.817739308235294,
                        "count": 1
                      }
                    ]
                  }
                },
                {
                  "name": "V10",
                  "dtype": "float64",
                  "stats": {
                    "unique_count": 5,
                    "nan_count": 0,
                    "min": "-0.166974414004614",
                    "max": "0.753074431976354",
                    "histogram": [
                      {
                        "bin_start": -0.166974414004614,
                        "bin_end": -0.07496952940651719,
                        "count": 1
                      },
                      {
                        "bin_start": -0.07496952940651719,
                        "bin_end": 0.017035355191579615,
                        "count": 1
                      },
                      {
                        "bin_start": 0.017035355191579615,
                        "bin_end": 0.10904023978967642,
                        "count": 1
                      },
                      {
                        "bin_start": 0.10904023978967642,
                        "bin_end": 0.20104512438777322,
                        "count": 0
                      },
                      {
                        "bin_start": 0.20104512438777322,
                        "bin_end": 0.29305000898587,
                        "count": 1
                      },
                      {
                        "bin_start": 0.29305000898587,
                        "bin_end": 0.38505489358396683,
                        "count": 0
                      },
                      {
                        "bin_start": 0.38505489358396683,
                        "bin_end": 0.4770597781820637,
                        "count": 0
                      },
                      {
                        "bin_start": 0.4770597781820637,
                        "bin_end": 0.5690646627801604,
                        "count": 0
                      },
                      {
                        "bin_start": 0.5690646627801604,
                        "bin_end": 0.6610695473782572,
                        "count": 0
                      },
                      {
                        "bin_start": 0.6610695473782572,
                        "bin_end": 0.753074431976354,
                        "count": 1
                      }
                    ]
                  }
                },
                {
                  "name": "V11",
                  "dtype": "float64",
                  "stats": {
                    "unique_count": 5,
                    "nan_count": 0,
                    "min": "-0.822842877946363",
                    "max": "1.61272666105479",
                    "histogram": [
                      {
                        "bin_start": -0.822842877946363,
                        "bin_end": -0.5792859240462477,
                        "count": 1
                      },
                      {
                        "bin_start": -0.5792859240462477,
                        "bin_end": -0.3357289701461324,
                        "count": 1
                      },
                      {
                        "bin_start": -0.3357289701461324,
                        "bin_end": -0.09217201624601712,
                        "count": 1
                      },
                      {
                        "bin_start": -0.09217201624601712,
                        "bin_end": 0.15138493765409822,
                        "count": 0
                      },
                      {
                        "bin_start": 0.15138493765409822,
                        "bin_end": 0.39494189155421355,
                        "count": 0
                      },
                      {
                        "bin_start": 0.39494189155421355,
                        "bin_end": 0.6384988454543288,
                        "count": 1
                      },
                      {
                        "bin_start": 0.6384988454543288,
                        "bin_end": 0.8820557993544442,
                        "count": 0
                      },
                      {
                        "bin_start": 0.8820557993544442,
                        "bin_end": 1.1256127532545595,
                        "count": 0
                      },
                      {
                        "bin_start": 1.1256127532545595,
                        "bin_end": 1.369169707154675,
                        "count": 0
                      },
                      {
                        "bin_start": 1.369169707154675,
                        "bin_end": 1.61272666105479,
                        "count": 1
                      }
                    ]
                  }
                },
                {
                  "name": "V12",
                  "dtype": "float64",
                  "stats": {
                    "unique_count": 5,
                    "nan_count": 0,
                    "min": "-0.617800855762348",
                    "max": "1.06523531137287",
                    "histogram": [
                      {
                        "bin_start": -0.617800855762348,
                        "bin_end": -0.4494972390488262,
                        "count": 1
                      },
                      {
                        "bin_start": -0.4494972390488262,
                        "bin_end": -0.28119362233530437,
                        "count": 0
                      },
                      {
                        "bin_start": -0.28119362233530437,
                        "bin_end": -0.11289000562178253,
                        "count": 0
                      },
                      {
                        "bin_start": -0.11289000562178253,
                        "bin_end": 0.05541361109173926,
                        "count": 0
                      },
                      {
                        "bin_start": 0.05541361109173926,
                        "bin_end": 0.22371722780526104,
                        "count": 2
                      },
                      {
                        "bin_start": 0.22371722780526104,
                        "bin_end": 0.39202084451878294,
                        "count": 0
                      },
                      {
                        "bin_start": 0.39202084451878294,
                        "bin_end": 0.5603244612323046,
                        "count": 1
                      },
                      {
                        "bin_start": 0.5603244612323046,
                        "bin_end": 0.7286280779458265,
                        "count": 0
                      },
                      {
                        "bin_start": 0.7286280779458265,
                        "bin_end": 0.8969316946593484,
                        "count": 0
                      },
                      {
                        "bin_start": 0.8969316946593484,
                        "bin_end": 1.06523531137287,
                        "count": 1
                      }
                    ]
                  }
                },
                {
                  "name": "V13",
                  "dtype": "float64",
                  "stats": {
                    "unique_count": 5,
                    "nan_count": 0,
                    "min": "-0.991389847235408",
                    "max": "1.3458515932154",
                    "histogram": [
                      {
                        "bin_start": -0.991389847235408,
                        "bin_end": -0.7576657031903272,
                        "count": 1
                      },
                      {
                        "bin_start": -0.7576657031903272,
                        "bin_end": -0.5239415591452464,
                        "count": 0
                      },
                      {
                        "bin_start": -0.5239415591452464,
                        "bin_end": -0.29021741510016563,
                        "count": 0
                      },
                      {
                        "bin_start": -0.29021741510016563,
                        "bin_end": -0.05649327105508484,
                        "count": 0
                      },
                      {
                        "bin_start": -0.05649327105508484,
                        "bin_end": 0.17723087298999596,
                        "count": 0
                      },
                      {
                        "bin_start": 0.17723087298999596,
                        "bin_end": 0.41095501703507675,
                        "count": 0
                      },
                      {
                        "bin_start": 0.41095501703507675,
                        "bin_end": 0.6446791610801575,
                        "count": 2
                      },
                      {
                        "bin_start": 0.6446791610801575,
                        "bin_end": 0.8784033051252383,
                        "count": 1
                      },
                      {
                        "bin_start": 0.8784033051252383,
                        "bin_end": 1.1121274491703192,
                        "count": 0
                      },
                      {
                        "bin_start": 1.1121274491703192,
                        "bin_end": 1.3458515932154,
                        "count": 1
                      }
                    ]
                  }
                },
                {
                  "name": "V14",
                  "dtype": "float64",
                  "stats": {
                    "unique_count": 5,
                    "nan_count": 0,
                    "min": "-1.11966983471731",
                    "max": "-0.143772296441519",
                    "histogram": [
                      {
                        "bin_start": -1.11966983471731,
                        "bin_end": -1.0220800808897308,
                        "count": 1
                      },
                      {
                        "bin_start": -1.0220800808897308,
                        "bin_end": -0.9244903270621518,
                        "count": 0
                      },
                      {
                        "bin_start": -0.9244903270621518,
                        "bin_end": -0.8269005732345727,
                        "count": 0
                      },
                      {
                        "bin_start": -0.8269005732345727,
                        "bin_end": -0.7293108194069936,
                        "count": 0
                      },
                      {
                        "bin_start": -0.7293108194069936,
                        "bin_end": -0.6317210655794145,
                        "count": 0
                      },
                      {
                        "bin_start": -0.6317210655794145,
                        "bin_end": -0.5341313117518354,
                        "count": 0
                      },
                      {
                        "bin_start": -0.5341313117518354,
                        "bin_end": -0.4365415579242563,
                        "count": 0
                      },
                      {
                        "bin_start": -0.4365415579242563,
                        "bin_end": -0.33895180409667724,
                        "count": 0
                      },
                      {
                        "bin_start": -0.33895180409667724,
                        "bin_end": -0.24136205026909818,
                        "count": 2
                      },
                      {
                        "bin_start": -0.24136205026909818,
                        "bin_end": -0.143772296441519,
                        "count": 2
                      }
                    ]
                  }
                },
                {
                  "name": "V15",
                  "dtype": "float64",
                  "stats": {
                    "unique_count": 5,
                    "nan_count": 0,
                    "min": "-0.631418117709045",
                    "max": "2.34586494901581",
                    "histogram": [
                      {
                        "bin_start": -0.631418117709045,
                        "bin_end": -0.3336898110365595,
                        "count": 1
                      },
                      {
                        "bin_start": -0.3336898110365595,
                        "bin_end": -0.03596150436407397,
                        "count": 0
                      },
                      {
                        "bin_start": -0.03596150436407397,
                        "bin_end": 0.26176680230841154,
                        "count": 1
                      },
                      {
                        "bin_start": 0.26176680230841154,
                        "bin_end": 0.559495108980897,
                        "count": 0
                      },
                      {
                        "bin_start": 0.559495108980897,
                        "bin_end": 0.8572234156533824,
                        "count": 1
                      },
                      {
                        "bin_start": 0.8572234156533824,
                        "bin_end": 1.154951722325868,
                        "count": 0
                      },
                      {
                        "bin_start": 1.154951722325868,
                        "bin_end": 1.4526800289983537,
                        "count": 0
                      },
                      {
                        "bin_start": 1.4526800289983537,
                        "bin_end": 1.750408335670839,
                        "count": 1
                      },
                      {
                        "bin_start": 1.750408335670839,
                        "bin_end": 2.0481366423433247,
                        "count": 0
                      },
                      {
                        "bin_start": 2.0481366423433247,
                        "bin_end": 2.34586494901581,
                        "count": 1
                      }
                    ]
                  }
                },
                {
                  "name": "V16",
                  "dtype": "float64",
                  "stats": {
                    "unique_count": 5,
                    "nan_count": 0,
                    "min": "-2.89008319444231",
                    "max": "0.463917041022171",
                    "histogram": [
                      {
                        "bin_start": -2.89008319444231,
                        "bin_end": -2.5546831708958617,
                        "count": 1
                      },
                      {
                        "bin_start": -2.5546831708958617,
                        "bin_end": -2.219283147349414,
                        "count": 0
                      },
                      {
                        "bin_start": -2.219283147349414,
                        "bin_end": -1.8838831238029656,
                        "count": 0
                      },
                      {
                        "bin_start": -1.8838831238029656,
                        "bin_end": -1.5484831002565176,
                        "count": 0
                      },
                      {
                        "bin_start": -1.5484831002565176,
                        "bin_end": -1.2130830767100695,
                        "count": 0
                      },
                      {
                        "bin_start": -1.2130830767100695,
                        "bin_end": -0.8776830531636213,
                        "count": 1
                      },
                      {
                        "bin_start": -0.8776830531636213,
                        "bin_end": -0.5422830296171735,
                        "count": 0
                      },
                      {
                        "bin_start": -0.5422830296171735,
                        "bin_end": -0.20688300607072518,
                        "count": 2
                      },
                      {
                        "bin_start": -0.20688300607072518,
                        "bin_end": 0.12851701747572308,
                        "count": 0
                      },
                      {
                        "bin_start": 0.12851701747572308,
                        "bin_end": 0.463917041022171,
                        "count": 1
                      }
                    ]
                  }
                },
                {
                  "name": "V17",
                  "dtype": "float64",
                  "stats": {
                    "unique_count": 5,
                    "nan_count": 0,
                    "min": "-0.684092786345479",
                    "max": "1.10996937869599",
                    "histogram": [
                      {
                        "bin_start": -0.684092786345479,
                        "bin_end": -0.5046865698413321,
                        "count": 1
                      },
                      {
                        "bin_start": -0.5046865698413321,
                        "bin_end": -0.32528035333718514,
                        "count": 0
                      },
                      {
                        "bin_start": -0.32528035333718514,
                        "bin_end": -0.14587413683303818,
                        "count": 1
                      },
                      {
                        "bin_start": -0.14587413683303818,
                        "bin_end": 0.03353207967110872,
                        "count": 1
                      },
                      {
                        "bin_start": 0.03353207967110872,
                        "bin_end": 0.21293829617525561,
                        "count": 1
                      },
                      {
                        "bin_start": 0.21293829617525561,
                        "bin_end": 0.3923445126794026,
                        "count": 0
                      },
                      {
                        "bin_start": 0.3923445126794026,
                        "bin_end": 0.5717507291835494,
                        "count": 0
                      },
                      {
                        "bin_start": 0.5717507291835494,
                        "bin_end": 0.7511569456876964,
                        "count": 0
                      },
                      {
                        "bin_start": 0.7511569456876964,
                        "bin_end": 0.9305631621918434,
                        "count": 0
                      },
                      {
                        "bin_start": 0.9305631621918434,
                        "bin_end": 1.10996937869599,
                        "count": 1
                      }
                    ]
                  }
                },
                {
                  "name": "V18",
                  "dtype": "float64",
                  "stats": {
                    "unique_count": 5,
                    "nan_count": 0,
                    "min": "-0.183361270123994",
                    "max": "1.96577500349538",
                    "histogram": [
                      {
                        "bin_start": -0.183361270123994,
                        "bin_end": 0.03155235723794342,
                        "count": 4
                      },
                      {
                        "bin_start": 0.03155235723794342,
                        "bin_end": 0.24646598459988084,
                        "count": 0
                      },
                      {
                        "bin_start": 0.24646598459988084,
                        "bin_end": 0.46137961196181826,
                        "count": 0
                      },
                      {
                        "bin_start": 0.46137961196181826,
                        "bin_end": 0.6762932393237557,
                        "count": 0
                      },
                      {
                        "bin_start": 0.6762932393237557,
                        "bin_end": 0.8912068666856932,
                        "count": 0
                      },
                      {
                        "bin_start": 0.8912068666856932,
                        "bin_end": 1.1061204940476306,
                        "count": 0
                      },
                      {
                        "bin_start": 1.1061204940476306,
                        "bin_end": 1.321034121409568,
                        "count": 0
                      },
                      {
                        "bin_start": 1.321034121409568,
                        "bin_end": 1.5359477487715054,
                        "count": 0
                      },
                      {
                        "bin_start": 1.5359477487715054,
                        "bin_end": 1.7508613761334428,
                        "count": 0
                      },
                      {
                        "bin_start": 1.7508613761334428,
                        "bin_end": 1.96577500349538,
                        "count": 1
                      }
                    ]
                  }
                },
                {
                  "name": "V19",
                  "dtype": "float64",
                  "stats": {
                    "unique_count": 5,
                    "nan_count": 0,
                    "min": "-2.26185709530414",
                    "max": "0.803486924960175",
                    "histogram": [
                      {
                        "bin_start": -2.26185709530414,
                        "bin_end": -1.9553226932777086,
                        "count": 1
                      },
                      {
                        "bin_start": -1.9553226932777086,
                        "bin_end": -1.648788291251277,
                        "count": 0
                      },
                      {
                        "bin_start": -1.648788291251277,
                        "bin_end": -1.3422538892248457,
                        "count": 0
                      },
                      {
                        "bin_start": -1.3422538892248457,
                        "bin_end": -1.0357194871984141,
                        "count": 1
                      },
                      {
                        "bin_start": -1.0357194871984141,
                        "bin_end": -0.7291850851719825,
                        "count": 0
                      },
                      {
                        "bin_start": -0.7291850851719825,
                        "bin_end": -0.4226506831455512,
                        "count": 0
                      },
                      {
                        "bin_start": -0.4226506831455512,
                        "bin_end": -0.11611628111911942,
                        "count": 1
                      },
                      {
                        "bin_start": -0.11611628111911942,
                        "bin_end": 0.19041812090731192,
                        "count": 0
                      },
                      {
                        "bin_start": 0.19041812090731192,
                        "bin_end": 0.49695252293374326,
                        "count": 1
                      },
                      {
                        "bin_start": 0.49695252293374326,
                        "bin_end": 0.803486924960175,
                        "count": 1
                      }
                    ]
                  }
                },
                {
                  "name": "V20",
                  "dtype": "float64",
                  "stats": {
                    "unique_count": 5,
                    "nan_count": 0,
                    "min": "-0.208037781160366",
                    "max": "0.524979725224404",
                    "histogram": [
                      {
                        "bin_start": -0.208037781160366,
                        "bin_end": -0.134736030521889,
                        "count": 1
                      },
                      {
                        "bin_start": -0.134736030521889,
                        "bin_end": -0.06143427988341202,
                        "count": 1
                      },
                      {
                        "bin_start": -0.06143427988341202,
                        "bin_end": 0.011867470755064974,
                        "count": 0
                      },
                      {
                        "bin_start": 0.011867470755064974,
                        "bin_end": 0.08516922139354197,
                        "count": 0
                      },
                      {
                        "bin_start": 0.08516922139354197,
                        "bin_end": 0.15847097203201896,
                        "count": 0
                      },
                      {
                        "bin_start": 0.15847097203201896,
                        "bin_end": 0.23177272267049595,
                        "count": 0
                      },
                      {
                        "bin_start": 0.23177272267049595,
                        "bin_end": 0.30507447330897297,
                        "count": 1
                      },
                      {
                        "bin_start": 0.30507447330897297,
                        "bin_end": 0.37837622394744996,
                        "count": 0
                      },
                      {
                        "bin_start": 0.37837622394744996,
                        "bin_end": 0.45167797458592696,
                        "count": 1
                      },
                      {
                        "bin_start": 0.45167797458592696,
                        "bin_end": 0.524979725224404,
                        "count": 1
                      }
                    ]
                  }
                },
                {
                  "name": "V21",
                  "dtype": "float64",
                  "stats": {
                    "unique_count": 5,
                    "nan_count": 0,
                    "min": "-0.225775248033138",
                    "max": "0.247998153469754",
                    "histogram": [
                      {
                        "bin_start": -0.225775248033138,
                        "bin_end": -0.17839790788284882,
                        "count": 1
                      },
                      {
                        "bin_start": -0.17839790788284882,
                        "bin_end": -0.1310205677325596,
                        "count": 0
                      },
                      {
                        "bin_start": -0.1310205677325596,
                        "bin_end": -0.08364322758227041,
                        "count": 1
                      },
                      {
                        "bin_start": -0.08364322758227041,
                        "bin_end": -0.0362658874319812,
                        "count": 0
                      },
                      {
                        "bin_start": -0.0362658874319812,
                        "bin_end": 0.011111452718308018,
                        "count": 2
                      },
                      {
                        "bin_start": 0.011111452718308018,
                        "bin_end": 0.05848879286859718,
                        "count": 0
                      },
                      {
                        "bin_start": 0.05848879286859718,
                        "bin_end": 0.1058661330188864,
                        "count": 0
                      },
                      {
                        "bin_start": 0.1058661330188864,
                        "bin_end": 0.1532434731691756,
                        "count": 0
                      },
                      {
                        "bin_start": 0.1532434731691756,
                        "bin_end": 0.20062081331946482,
                        "count": 0
                      },
                      {
                        "bin_start": 0.20062081331946482,
                        "bin_end": 0.247998153469754,
                        "count": 1
                      }
                    ]
                  }
                },
                {
                  "name": "V22",
                  "dtype": "float64",
                  "stats": {
                    "unique_count": 5,
                    "nan_count": 0,
                    "min": "-0.638671952771851",
                    "max": "0.79827849458971",
                    "histogram": [
                      {
                        "bin_start": -0.638671952771851,
                        "bin_end": -0.49497690803569483,
                        "count": 1
                      },
                      {
                        "bin_start": -0.49497690803569483,
                        "bin_end": -0.35128186329953875,
                        "count": 0
                      },
                      {
                        "bin_start": -0.35128186329953875,
                        "bin_end": -0.20758681856338268,
                        "count": 0
                      },
                      {
                        "bin_start": -0.20758681856338268,
                        "bin_end": -0.06389177382722655,
                        "count": 0
                      },
                      {
                        "bin_start": -0.06389177382722655,
                        "bin_end": 0.07980327090892958,
                        "count": 1
                      },
                      {
                        "bin_start": 0.07980327090892958,
                        "bin_end": 0.2234983156450856,
                        "count": 0
                      },
                      {
                        "bin_start": 0.2234983156450856,
                        "bin_end": 0.36719336038124184,
                        "count": 1
                      },
                      {
                        "bin_start": 0.36719336038124184,
                        "bin_end": 0.5108884051173979,
                        "count": 0
                      },
                      {
                        "bin_start": 0.5108884051173979,
                        "bin_end": 0.6545834498535539,
                        "count": 0
                      },
                      {
                        "bin_start": 0.6545834498535539,
                        "bin_end": 0.79827849458971,
                        "count": 2
                      }
                    ]
                  }
                },
                {
                  "name": "V23",
                  "dtype": "float64",
                  "stats": {
                    "unique_count": 5,
                    "nan_count": 0,
                    "min": "-0.190320518742841",
                    "max": "0.909412262347719",
                    "histogram": [
                      {
                        "bin_start": -0.190320518742841,
                        "bin_end": -0.08034724063378501,
                        "count": 3
                      },
                      {
                        "bin_start": -0.08034724063378501,
                        "bin_end": 0.029626037475270983,
                        "count": 0
                      },
                      {
                        "bin_start": 0.029626037475270983,
                        "bin_end": 0.13959931558432698,
                        "count": 1
                      },
                      {
                        "bin_start": 0.13959931558432698,
                        "bin_end": 0.24957259369338297,
                        "count": 0
                      },
                      {
                        "bin_start": 0.24957259369338297,
                        "bin_end": 0.35954587180243897,
                        "count": 0
                      },
                      {
                        "bin_start": 0.35954587180243897,
                        "bin_end": 0.46951914991149496,
                        "count": 0
                      },
                      {
                        "bin_start": 0.46951914991149496,
                        "bin_end": 0.5794924280205509,
                        "count": 0
                      },
                      {
                        "bin_start": 0.5794924280205509,
                        "bin_end": 0.689465706129607,
                        "count": 0
                      },
                      {
                        "bin_start": 0.689465706129607,
                        "bin_end": 0.7994389842386629,
                        "count": 0
                      },
                      {
                        "bin_start": 0.7994389842386629,
                        "bin_end": 0.909412262347719,
                        "count": 1
                      }
                    ]
                  }
                },
                {
                  "name": "V24",
                  "dtype": "float64",
                  "stats": {
                    "unique_count": 5,
                    "nan_count": 0,
                    "min": "-1.17557533186321",
                    "max": "0.141266983824769",
                    "histogram": [
                      {
                        "bin_start": -1.17557533186321,
                        "bin_end": -1.0438911002944122,
                        "count": 1
                      },
                      {
                        "bin_start": -1.0438911002944122,
                        "bin_end": -0.9122068687256142,
                        "count": 0
                      },
                      {
                        "bin_start": -0.9122068687256142,
                        "bin_end": -0.7805226371568164,
                        "count": 0
                      },
                      {
                        "bin_start": -0.7805226371568164,
                        "bin_end": -0.6488384055880184,
                        "count": 1
                      },
                      {
                        "bin_start": -0.6488384055880184,
                        "bin_end": -0.5171541740192205,
                        "count": 0
                      },
                      {
                        "bin_start": -0.5171541740192205,
                        "bin_end": -0.38546994245042265,
                        "count": 0
                      },
                      {
                        "bin_start": -0.38546994245042265,
                        "bin_end": -0.2537857108816247,
                        "count": 1
                      },
                      {
                        "bin_start": -0.2537857108816247,
                        "bin_end": -0.12210147931282678,
                        "count": 0
                      },
                      {
                        "bin_start": -0.12210147931282678,
                        "bin_end": 0.00958275225597105,
                        "count": 0
                      },
                      {
                        "bin_start": 0.00958275225597105,
                        "bin_end": 0.141266983824769,
                        "count": 2
                      }
                    ]
                  }
                },
                {
                  "name": "V25",
                  "dtype": "float64",
                  "stats": {
                    "unique_count": 5,
                    "nan_count": 0,
                    "min": "-0.327641833735251",
                    "max": "0.647376034602038",
                    "histogram": [
                      {
                        "bin_start": -0.327641833735251,
                        "bin_end": -0.23014004690152212,
                        "count": 1
                      },
                      {
                        "bin_start": -0.23014004690152212,
                        "bin_end": -0.13263826006779322,
                        "count": 1
                      },
                      {
                        "bin_start": -0.13263826006779322,
                        "bin_end": -0.035136473234064325,
                        "count": 0
                      },
                      {
                        "bin_start": -0.035136473234064325,
                        "bin_end": 0.062365313599664574,
                        "count": 0
                      },
                      {
                        "bin_start": 0.062365313599664574,
                        "bin_end": 0.15986710043339347,
                        "count": 1
                      },
                      {
                        "bin_start": 0.15986710043339347,
                        "bin_end": 0.25736888726712237,
                        "count": 1
                      },
                      {
                        "bin_start": 0.25736888726712237,
                        "bin_end": 0.35487067410085127,
                        "count": 0
                      },
                      {
                        "bin_start": 0.35487067410085127,
                        "bin_end": 0.45237246093458017,
                        "count": 0
                      },
                      {
                        "bin_start": 0.45237246093458017,
                        "bin_end": 0.5498742477683091,
                        "count": 0
                      },
                      {
                        "bin_start": 0.5498742477683091,
                        "bin_end": 0.647376034602038,
                        "count": 1
                      }
                    ]
                  }
                },
                {
                  "name": "V26",
                  "dtype": "float64",
                  "stats": {
                    "unique_count": 5,
                    "nan_count": 0,
                    "min": "-0.221928844458407",
                    "max": "0.502292224181569",
                    "histogram": [
                      {
                        "bin_start": -0.221928844458407,
                        "bin_end": -0.14950673759440938,
                        "count": 2
                      },
                      {
                        "bin_start": -0.14950673759440938,
                        "bin_end": -0.07708463073041177,
                        "count": 1
                      },
                      {
                        "bin_start": -0.07708463073041177,
                        "bin_end": -0.004662523866414164,
                        "count": 0
                      },
                      {
                        "bin_start": -0.004662523866414164,
                        "bin_end": 0.06775958299758345,
                        "count": 0
                      },
                      {
                        "bin_start": 0.06775958299758345,
                        "bin_end": 0.14018168986158108,
                        "count": 1
                      },
                      {
                        "bin_start": 0.14018168986158108,
                        "bin_end": 0.21260379672557866,
                        "count": 0
                      },
                      {
                        "bin_start": 0.21260379672557866,
                        "bin_end": 0.28502590358957625,
                        "count": 0
                      },
                      {
                        "bin_start": 0.28502590358957625,
                        "bin_end": 0.3574480104535739,
                        "count": 0
                      },
                      {
                        "bin_start": 0.3574480104535739,
                        "bin_end": 0.4298701173175715,
                        "count": 0
                      },
                      {
                        "bin_start": 0.4298701173175715,
                        "bin_end": 0.502292224181569,
                        "count": 1
                      }
                    ]
                  }
                },
                {
                  "name": "V27",
                  "dtype": "float64",
                  "stats": {
                    "unique_count": 5,
                    "nan_count": 0,
                    "min": "-0.0553527940384261",
                    "max": "0.219422229513348",
                    "histogram": [
                      {
                        "bin_start": -0.0553527940384261,
                        "bin_end": -0.02787529168324869,
                        "count": 1
                      },
                      {
                        "bin_start": -0.02787529168324869,
                        "bin_end": -0.00039778932807128103,
                        "count": 1
                      },
                      {
                        "bin_start": -0.00039778932807128103,
                        "bin_end": 0.027079713027106135,
                        "count": 0
                      },
                      {
                        "bin_start": 0.027079713027106135,
                        "bin_end": 0.05455721538228354,
                        "count": 0
                      },
                      {
                        "bin_start": 0.05455721538228354,
                        "bin_end": 0.08203471773746093,
                        "count": 1
                      },
                      {
                        "bin_start": 0.08203471773746093,
                        "bin_end": 0.10951222009263836,
                        "count": 0
                      },
                      {
                        "bin_start": 0.10951222009263836,
                        "bin_end": 0.13698972244781576,
                        "count": 1
                      },
                      {
                        "bin_start": 0.13698972244781576,
                        "bin_end": 0.16446722480299317,
                        "count": 0
                      },
                      {
                        "bin_start": 0.16446722480299317,
                        "bin_end": 0.19194472715817057,
                        "count": 0
                      },
                      {
                        "bin_start": 0.19194472715817057,
                        "bin_end": 0.219422229513348,
                        "count": 1
                      }
                    ]
                  }
                },
                {
                  "name": "V28",
                  "dtype": "float64",
                  "stats": {
                    "unique_count": 5,
                    "nan_count": 0,
                    "min": "-0.0597518405929204",
                    "max": "0.215153147499206",
                    "histogram": [
                      {
                        "bin_start": -0.0597518405929204,
                        "bin_end": -0.032261341783707764,
                        "count": 1
                      },
                      {
                        "bin_start": -0.032261341783707764,
                        "bin_end": -0.004770842974495128,
                        "count": 1
                      },
                      {
                        "bin_start": -0.004770842974495128,
                        "bin_end": 0.022719655834717502,
                        "count": 1
                      },
                      {
                        "bin_start": 0.022719655834717502,
                        "bin_end": 0.050210154643930145,
                        "count": 0
                      },
                      {
                        "bin_start": 0.050210154643930145,
                        "bin_end": 0.07770065345314278,
                        "count": 1
                      },
                      {
                        "bin_start": 0.07770065345314278,
                        "bin_end": 0.1051911522623554,
                        "count": 0
                      },
                      {
                        "bin_start": 0.1051911522623554,
                        "bin_end": 0.13268165107156804,
                        "count": 0
                      },
                      {
                        "bin_start": 0.13268165107156804,
                        "bin_end": 0.16017214988078068,
                        "count": 0
                      },
                      {
                        "bin_start": 0.16017214988078068,
                        "bin_end": 0.18766264868999333,
                        "count": 0
                      },
                      {
                        "bin_start": 0.18766264868999333,
                        "bin_end": 0.215153147499206,
                        "count": 1
                      }
                    ]
                  }
                },
                {
                  "name": "Amount",
                  "dtype": "float64",
                  "stats": {
                    "unique_count": 5,
                    "nan_count": 0,
                    "min": "2.69",
                    "max": "378.66",
                    "histogram": [
                      {
                        "bin_start": 2.69,
                        "bin_end": 40.287,
                        "count": 1
                      },
                      {
                        "bin_start": 40.287,
                        "bin_end": 77.884,
                        "count": 1
                      },
                      {
                        "bin_start": 77.884,
                        "bin_end": 115.481,
                        "count": 0
                      },
                      {
                        "bin_start": 115.481,
                        "bin_end": 153.078,
                        "count": 2
                      },
                      {
                        "bin_start": 153.078,
                        "bin_end": 190.675,
                        "count": 0
                      },
                      {
                        "bin_start": 190.675,
                        "bin_end": 228.272,
                        "count": 0
                      },
                      {
                        "bin_start": 228.272,
                        "bin_end": 265.869,
                        "count": 0
                      },
                      {
                        "bin_start": 265.869,
                        "bin_end": 303.466,
                        "count": 0
                      },
                      {
                        "bin_start": 303.466,
                        "bin_end": 341.063,
                        "count": 0
                      },
                      {
                        "bin_start": 341.063,
                        "bin_end": 378.66,
                        "count": 1
                      }
                    ]
                  }
                },
                {
                  "name": "Class",
                  "dtype": "int64",
                  "stats": {
                    "unique_count": 1,
                    "nan_count": 0,
                    "min": "0",
                    "max": "0",
                    "histogram": [
                      {
                        "bin_start": -0.5,
                        "bin_end": -0.4,
                        "count": 0
                      },
                      {
                        "bin_start": -0.4,
                        "bin_end": -0.3,
                        "count": 0
                      },
                      {
                        "bin_start": -0.3,
                        "bin_end": -0.19999999999999996,
                        "count": 0
                      },
                      {
                        "bin_start": -0.19999999999999996,
                        "bin_end": -0.09999999999999998,
                        "count": 0
                      },
                      {
                        "bin_start": -0.09999999999999998,
                        "bin_end": 0,
                        "count": 0
                      },
                      {
                        "bin_start": 0,
                        "bin_end": 0.10000000000000009,
                        "count": 5
                      },
                      {
                        "bin_start": 0.10000000000000009,
                        "bin_end": 0.20000000000000007,
                        "count": 0
                      },
                      {
                        "bin_start": 0.20000000000000007,
                        "bin_end": 0.30000000000000004,
                        "count": 0
                      },
                      {
                        "bin_start": 0.30000000000000004,
                        "bin_end": 0.4,
                        "count": 0
                      },
                      {
                        "bin_start": 0.4,
                        "bin_end": 0.5,
                        "count": 0
                      }
                    ]
                  }
                },
                {
                  "name": "_deepnote_index_column",
                  "dtype": "int64"
                }
              ],
              "rows": [
                {
                  "Time": 0,
                  "V1": -1.3598071336738,
                  "V2": -0.0727811733098497,
                  "V3": 2.53634673796914,
                  "V4": 1.37815522427443,
                  "V5": -0.338320769942518,
                  "V6": 0.462387777762292,
                  "V7": 0.239598554061257,
                  "V8": 0.0986979012610507,
                  "V9": 0.363786969611213,
                  "V10": 0.0907941719789316,
                  "V11": -0.551599533260813,
                  "V12": -0.617800855762348,
                  "V13": -0.991389847235408,
                  "V14": -0.311169353699879,
                  "V15": 1.46817697209427,
                  "V16": -0.470400525259478,
                  "V17": 0.207971241929242,
                  "V18": 0.0257905801985591,
                  "V19": 0.403992960255733,
                  "V20": 0.251412098239705,
                  "V21": -0.018306777944153,
                  "V22": 0.277837575558899,
                  "V23": -0.110473910188767,
                  "V24": 0.0669280749146731,
                  "V25": 0.128539358273528,
                  "V26": -0.189114843888824,
                  "V27": 0.133558376740387,
                  "V28": -0.0210530534538215,
                  "Amount": 149.62,
                  "Class": 0,
                  "_deepnote_index_column": 0
                },
                {
                  "Time": 0,
                  "V1": 1.19185711131486,
                  "V2": 0.26615071205963,
                  "V3": 0.16648011335321,
                  "V4": 0.448154078460911,
                  "V5": 0.0600176492822243,
                  "V6": -0.0823608088155687,
                  "V7": -0.0788029833323113,
                  "V8": 0.0851016549148104,
                  "V9": -0.255425128109186,
                  "V10": -0.166974414004614,
                  "V11": 1.61272666105479,
                  "V12": 1.06523531137287,
                  "V13": 0.48909501589608,
                  "V14": -0.143772296441519,
                  "V15": 0.635558093258208,
                  "V16": 0.463917041022171,
                  "V17": -0.114804663102346,
                  "V18": -0.183361270123994,
                  "V19": -0.145783041325259,
                  "V20": -0.0690831352230203,
                  "V21": -0.225775248033138,
                  "V22": -0.638671952771851,
                  "V23": 0.101288021253234,
                  "V24": -0.339846475529127,
                  "V25": 0.167170404418143,
                  "V26": 0.125894532368176,
                  "V27": -0.0089830991432281,
                  "V28": 0.0147241691924927,
                  "Amount": 2.69,
                  "Class": 0,
                  "_deepnote_index_column": 1
                },
                {
                  "Time": 1,
                  "V1": -1.35835406159823,
                  "V2": -1.34016307473609,
                  "V3": 1.77320934263119,
                  "V4": 0.379779593034328,
                  "V5": -0.503198133318193,
                  "V6": 1.80049938079263,
                  "V7": 0.791460956450422,
                  "V8": 0.247675786588991,
                  "V9": -1.51465432260583,
                  "V10": 0.207642865216696,
                  "V11": 0.624501459424895,
                  "V12": 0.066083685268831,
                  "V13": 0.717292731410831,
                  "V14": -0.165945922763554,
                  "V15": 2.34586494901581,
                  "V16": -2.89008319444231,
                  "V17": 1.10996937869599,
                  "V18": -0.121359313195888,
                  "V19": -2.26185709530414,
                  "V20": 0.524979725224404,
                  "V21": 0.247998153469754,
                  "V22": 0.771679401917229,
                  "V23": 0.909412262347719,
                  "V24": -0.689280956490685,
                  "V25": -0.327641833735251,
                  "V26": -0.139096571514147,
                  "V27": -0.0553527940384261,
                  "V28": -0.0597518405929204,
                  "Amount": 378.66,
                  "Class": 0,
                  "_deepnote_index_column": 2
                },
                {
                  "Time": 1,
                  "V1": -0.966271711572087,
                  "V2": -0.185226008082898,
                  "V3": 1.79299333957872,
                  "V4": -0.863291275036453,
                  "V5": -0.0103088796030823,
                  "V6": 1.24720316752486,
                  "V7": 0.23760893977178,
                  "V8": 0.377435874652262,
                  "V9": -1.38702406270197,
                  "V10": -0.0549519224713749,
                  "V11": -0.226487263835401,
                  "V12": 0.178228225877303,
                  "V13": 0.507756869957169,
                  "V14": -0.28792374549456,
                  "V15": -0.631418117709045,
                  "V16": -1.0596472454325,
                  "V17": -0.684092786345479,
                  "V18": 1.96577500349538,
                  "V19": -1.2326219700892,
                  "V20": -0.208037781160366,
                  "V21": -0.108300452035545,
                  "V22": 0.0052735967825345,
                  "V23": -0.190320518742841,
                  "V24": -1.17557533186321,
                  "V25": 0.647376034602038,
                  "V26": -0.221928844458407,
                  "V27": 0.0627228487293033,
                  "V28": 0.0614576285006353,
                  "Amount": 123.5,
                  "Class": 0,
                  "_deepnote_index_column": 3
                },
                {
                  "Time": 2,
                  "V1": -1.15823309349523,
                  "V2": 0.877736754848451,
                  "V3": 1.548717846511,
                  "V4": 0.403033933955121,
                  "V5": -0.407193377311653,
                  "V6": 0.0959214624684256,
                  "V7": 0.592940745385545,
                  "V8": -0.270532677192282,
                  "V9": 0.817739308235294,
                  "V10": 0.753074431976354,
                  "V11": -0.822842877946363,
                  "V12": 0.53819555014995,
                  "V13": 1.3458515932154,
                  "V14": -1.11966983471731,
                  "V15": 0.175121130008994,
                  "V16": -0.451449182813529,
                  "V17": -0.237033239362776,
                  "V18": -0.0381947870352842,
                  "V19": 0.803486924960175,
                  "V20": 0.408542360392758,
                  "V21": -0.0094306971323291,
                  "V22": 0.79827849458971,
                  "V23": -0.137458079619063,
                  "V24": 0.141266983824769,
                  "V25": -0.206009587619756,
                  "V26": 0.502292224181569,
                  "V27": 0.219422229513348,
                  "V28": 0.215153147499206,
                  "Amount": 69.99,
                  "Class": 0,
                  "_deepnote_index_column": 4
                }
              ]
            },
            "text/plain": "   Time        V1        V2        V3        V4        V5        V6        V7  \\\n0   0.0 -1.359807 -0.072781  2.536347  1.378155 -0.338321  0.462388  0.239599   \n1   0.0  1.191857  0.266151  0.166480  0.448154  0.060018 -0.082361 -0.078803   \n2   1.0 -1.358354 -1.340163  1.773209  0.379780 -0.503198  1.800499  0.791461   \n3   1.0 -0.966272 -0.185226  1.792993 -0.863291 -0.010309  1.247203  0.237609   \n4   2.0 -1.158233  0.877737  1.548718  0.403034 -0.407193  0.095921  0.592941   \n\n         V8        V9  ...       V21       V22       V23       V24       V25  \\\n0  0.098698  0.363787  ... -0.018307  0.277838 -0.110474  0.066928  0.128539   \n1  0.085102 -0.255425  ... -0.225775 -0.638672  0.101288 -0.339846  0.167170   \n2  0.247676 -1.514654  ...  0.247998  0.771679  0.909412 -0.689281 -0.327642   \n3  0.377436 -1.387024  ... -0.108300  0.005274 -0.190321 -1.175575  0.647376   \n4 -0.270533  0.817739  ... -0.009431  0.798278 -0.137458  0.141267 -0.206010   \n\n        V26       V27       V28  Amount  Class  \n0 -0.189115  0.133558 -0.021053  149.62      0  \n1  0.125895 -0.008983  0.014724    2.69      0  \n2 -0.139097 -0.055353 -0.059752  378.66      0  \n3 -0.221929  0.062723  0.061458  123.50      0  \n4  0.502292  0.219422  0.215153   69.99      0  \n\n[5 rows x 31 columns]",
            "text/html": "<div>\n<style scoped>\n    .dataframe tbody tr th:only-of-type {\n        vertical-align: middle;\n    }\n\n    .dataframe tbody tr th {\n        vertical-align: top;\n    }\n\n    .dataframe thead th {\n        text-align: right;\n    }\n</style>\n<table border=\"1\" class=\"dataframe\">\n  <thead>\n    <tr style=\"text-align: right;\">\n      <th></th>\n      <th>Time</th>\n      <th>V1</th>\n      <th>V2</th>\n      <th>V3</th>\n      <th>V4</th>\n      <th>V5</th>\n      <th>V6</th>\n      <th>V7</th>\n      <th>V8</th>\n      <th>V9</th>\n      <th>...</th>\n      <th>V21</th>\n      <th>V22</th>\n      <th>V23</th>\n      <th>V24</th>\n      <th>V25</th>\n      <th>V26</th>\n      <th>V27</th>\n      <th>V28</th>\n      <th>Amount</th>\n      <th>Class</th>\n    </tr>\n  </thead>\n  <tbody>\n    <tr>\n      <th>0</th>\n      <td>0.0</td>\n      <td>-1.359807</td>\n      <td>-0.072781</td>\n      <td>2.536347</td>\n      <td>1.378155</td>\n      <td>-0.338321</td>\n      <td>0.462388</td>\n      <td>0.239599</td>\n      <td>0.098698</td>\n      <td>0.363787</td>\n      <td>...</td>\n      <td>-0.018307</td>\n      <td>0.277838</td>\n      <td>-0.110474</td>\n      <td>0.066928</td>\n      <td>0.128539</td>\n      <td>-0.189115</td>\n      <td>0.133558</td>\n      <td>-0.021053</td>\n      <td>149.62</td>\n      <td>0</td>\n    </tr>\n    <tr>\n      <th>1</th>\n      <td>0.0</td>\n      <td>1.191857</td>\n      <td>0.266151</td>\n      <td>0.166480</td>\n      <td>0.448154</td>\n      <td>0.060018</td>\n      <td>-0.082361</td>\n      <td>-0.078803</td>\n      <td>0.085102</td>\n      <td>-0.255425</td>\n      <td>...</td>\n      <td>-0.225775</td>\n      <td>-0.638672</td>\n      <td>0.101288</td>\n      <td>-0.339846</td>\n      <td>0.167170</td>\n      <td>0.125895</td>\n      <td>-0.008983</td>\n      <td>0.014724</td>\n      <td>2.69</td>\n      <td>0</td>\n    </tr>\n    <tr>\n      <th>2</th>\n      <td>1.0</td>\n      <td>-1.358354</td>\n      <td>-1.340163</td>\n      <td>1.773209</td>\n      <td>0.379780</td>\n      <td>-0.503198</td>\n      <td>1.800499</td>\n      <td>0.791461</td>\n      <td>0.247676</td>\n      <td>-1.514654</td>\n      <td>...</td>\n      <td>0.247998</td>\n      <td>0.771679</td>\n      <td>0.909412</td>\n      <td>-0.689281</td>\n      <td>-0.327642</td>\n      <td>-0.139097</td>\n      <td>-0.055353</td>\n      <td>-0.059752</td>\n      <td>378.66</td>\n      <td>0</td>\n    </tr>\n    <tr>\n      <th>3</th>\n      <td>1.0</td>\n      <td>-0.966272</td>\n      <td>-0.185226</td>\n      <td>1.792993</td>\n      <td>-0.863291</td>\n      <td>-0.010309</td>\n      <td>1.247203</td>\n      <td>0.237609</td>\n      <td>0.377436</td>\n      <td>-1.387024</td>\n      <td>...</td>\n      <td>-0.108300</td>\n      <td>0.005274</td>\n      <td>-0.190321</td>\n      <td>-1.175575</td>\n      <td>0.647376</td>\n      <td>-0.221929</td>\n      <td>0.062723</td>\n      <td>0.061458</td>\n      <td>123.50</td>\n      <td>0</td>\n    </tr>\n    <tr>\n      <th>4</th>\n      <td>2.0</td>\n      <td>-1.158233</td>\n      <td>0.877737</td>\n      <td>1.548718</td>\n      <td>0.403034</td>\n      <td>-0.407193</td>\n      <td>0.095921</td>\n      <td>0.592941</td>\n      <td>-0.270533</td>\n      <td>0.817739</td>\n      <td>...</td>\n      <td>-0.009431</td>\n      <td>0.798278</td>\n      <td>-0.137458</td>\n      <td>0.141267</td>\n      <td>-0.206010</td>\n      <td>0.502292</td>\n      <td>0.219422</td>\n      <td>0.215153</td>\n      <td>69.99</td>\n      <td>0</td>\n    </tr>\n  </tbody>\n</table>\n<p>5 rows × 31 columns</p>\n</div>"
          },
          "metadata": {}
        }
      ],
      "outputs_reference": null,
      "execution_count": null,
      "block_group": "a6d923d299b84adca6c1911cc128d71b",
      "content_dependencies": null
    },
    {
      "cell_type": "code",
      "source": "credit_card_data.info()",
      "metadata": {
        "source_hash": null,
        "execution_start": 1726975044759,
        "execution_millis": 534,
        "deepnote_to_be_reexecuted": false,
        "cell_id": "74c72772d82e4b5fbd0f976f77842346",
        "deepnote_cell_type": "code"
      },
      "outputs": [
        {
          "name": "stdout",
          "text": "<class 'pandas.core.frame.DataFrame'>\nRangeIndex: 284807 entries, 0 to 284806\nData columns (total 31 columns):\n #   Column  Non-Null Count   Dtype  \n---  ------  --------------   -----  \n 0   Time    284807 non-null  float64\n 1   V1      284807 non-null  float64\n 2   V2      284807 non-null  float64\n 3   V3      284807 non-null  float64\n 4   V4      284807 non-null  float64\n 5   V5      284807 non-null  float64\n 6   V6      284807 non-null  float64\n 7   V7      284807 non-null  float64\n 8   V8      284807 non-null  float64\n 9   V9      284807 non-null  float64\n 10  V10     284807 non-null  float64\n 11  V11     284807 non-null  float64\n 12  V12     284807 non-null  float64\n 13  V13     284807 non-null  float64\n 14  V14     284807 non-null  float64\n 15  V15     284807 non-null  float64\n 16  V16     284807 non-null  float64\n 17  V17     284807 non-null  float64\n 18  V18     284807 non-null  float64\n 19  V19     284807 non-null  float64\n 20  V20     284807 non-null  float64\n 21  V21     284807 non-null  float64\n 22  V22     284807 non-null  float64\n 23  V23     284807 non-null  float64\n 24  V24     284807 non-null  float64\n 25  V25     284807 non-null  float64\n 26  V26     284807 non-null  float64\n 27  V27     284807 non-null  float64\n 28  V28     284807 non-null  float64\n 29  Amount  284807 non-null  float64\n 30  Class   284807 non-null  int64  \ndtypes: float64(30), int64(1)\nmemory usage: 67.4 MB\n",
          "output_type": "stream"
        }
      ],
      "outputs_reference": null,
      "execution_count": null,
      "block_group": "dff309d9dcce40b3aa143ccb80145924",
      "content_dependencies": null
    },
    {
      "cell_type": "code",
      "source": "#checking the number of missing values in each column\ncredit_card_data.isnull().sum()",
      "metadata": {
        "source_hash": null,
        "execution_start": 1726975044812,
        "execution_millis": 481,
        "deepnote_to_be_reexecuted": false,
        "cell_id": "84c53a16f83e46599fe538b17a4f2ded",
        "deepnote_cell_type": "code"
      },
      "outputs": [
        {
          "output_type": "execute_result",
          "execution_count": 5,
          "data": {
            "text/plain": "Time      0\nV1        0\nV2        0\nV3        0\nV4        0\nV5        0\nV6        0\nV7        0\nV8        0\nV9        0\nV10       0\nV11       0\nV12       0\nV13       0\nV14       0\nV15       0\nV16       0\nV17       0\nV18       0\nV19       0\nV20       0\nV21       0\nV22       0\nV23       0\nV24       0\nV25       0\nV26       0\nV27       0\nV28       0\nAmount    0\nClass     0\ndtype: int64"
          },
          "metadata": {}
        }
      ],
      "outputs_reference": null,
      "execution_count": null,
      "block_group": "d127882eb2314780884a6363b537b742",
      "content_dependencies": null
    },
    {
      "cell_type": "code",
      "source": "#distribution of legit and fraud transactions \ncredit_card_data['Class'].value_counts()",
      "metadata": {
        "source_hash": null,
        "execution_start": 1726975044819,
        "execution_millis": 475,
        "deepnote_to_be_reexecuted": false,
        "cell_id": "c98bd5f12c2d4080bd9715deeb7c9269",
        "deepnote_cell_type": "code"
      },
      "outputs": [
        {
          "output_type": "execute_result",
          "execution_count": 6,
          "data": {
            "text/plain": "Class\n0    284315\n1       492\nName: count, dtype: int64"
          },
          "metadata": {}
        }
      ],
      "outputs_reference": null,
      "execution_count": null,
      "block_group": "e8bab36a64e8436684cbf4be50c3ec0e",
      "content_dependencies": null
    },
    {
      "cell_type": "markdown",
      "source": "Highly unbalanced dataset: ",
      "metadata": {
        "formattedRanges": [],
        "cell_id": "22f17867b81848919110afa0ede8910e",
        "deepnote_cell_type": "text-cell-p"
      },
      "block_group": "f439a7a287684f8fba21ebfcc7bd2620"
    },
    {
      "cell_type": "markdown",
      "source": "0 --> Normal transactions ",
      "metadata": {
        "formattedRanges": [],
        "cell_id": "c57b7532bdb64ebba1720621fcd51143",
        "deepnote_cell_type": "text-cell-p"
      },
      "block_group": "1b60926adc6e4541ae2710027294b583"
    },
    {
      "cell_type": "markdown",
      "source": "1 --> Fraud transactions ",
      "metadata": {
        "formattedRanges": [],
        "cell_id": "71456711ad0145e697942fae011e321e",
        "deepnote_cell_type": "text-cell-p"
      },
      "block_group": "9a35147185e947678111dc9dd7bf4cd3"
    },
    {
      "cell_type": "code",
      "source": "#seperating the data for analysis \nlegit = credit_card_data[credit_card_data.Class == 0]\nfraud = credit_card_data[credit_card_data.Class == 1]",
      "metadata": {
        "source_hash": null,
        "execution_start": 1726975044836,
        "execution_millis": 458,
        "deepnote_to_be_reexecuted": false,
        "cell_id": "d204a26436774166b3e64b7310a12fef",
        "deepnote_cell_type": "code"
      },
      "outputs": [],
      "outputs_reference": null,
      "execution_count": null,
      "block_group": "dde7a8c05ca744509a38913fca7aa743",
      "content_dependencies": null
    },
    {
      "cell_type": "code",
      "source": "print(legit.shape)\nprint(fraud.shape)",
      "metadata": {
        "source_hash": null,
        "execution_start": 1726975044879,
        "execution_millis": 415,
        "deepnote_to_be_reexecuted": false,
        "cell_id": "cc9f2cc9cea142358cfe0360c67021e6",
        "deepnote_cell_type": "code"
      },
      "outputs": [
        {
          "name": "stdout",
          "text": "(284315, 31)\n(492, 31)\n",
          "output_type": "stream"
        }
      ],
      "outputs_reference": null,
      "execution_count": null,
      "block_group": "d0caeabae4c540599775cab1f2b110d4",
      "content_dependencies": null
    },
    {
      "cell_type": "code",
      "source": "#statistical measures of the data\nlegit.Amount.describe()",
      "metadata": {
        "source_hash": null,
        "execution_start": 1726975044899,
        "execution_millis": 396,
        "deepnote_to_be_reexecuted": false,
        "cell_id": "c148c63742af4fe6a4613f860c8ebd49",
        "deepnote_cell_type": "code"
      },
      "outputs": [
        {
          "output_type": "execute_result",
          "execution_count": 9,
          "data": {
            "text/plain": "count    284315.000000\nmean         88.291022\nstd         250.105092\nmin           0.000000\n25%           5.650000\n50%          22.000000\n75%          77.050000\nmax       25691.160000\nName: Amount, dtype: float64"
          },
          "metadata": {}
        }
      ],
      "outputs_reference": null,
      "execution_count": null,
      "block_group": "ea1d3f7d7a63406c982f75c39a8673e9",
      "content_dependencies": null
    },
    {
      "cell_type": "code",
      "source": "fraud.Amount.describe()",
      "metadata": {
        "source_hash": null,
        "execution_start": 1726975044905,
        "execution_millis": 390,
        "deepnote_to_be_reexecuted": false,
        "cell_id": "77371e77ba024cb1968f20c452527e76",
        "deepnote_cell_type": "code"
      },
      "outputs": [
        {
          "output_type": "execute_result",
          "execution_count": 10,
          "data": {
            "text/plain": "count     492.000000\nmean      122.211321\nstd       256.683288\nmin         0.000000\n25%         1.000000\n50%         9.250000\n75%       105.890000\nmax      2125.870000\nName: Amount, dtype: float64"
          },
          "metadata": {}
        }
      ],
      "outputs_reference": null,
      "execution_count": null,
      "block_group": "b92e93d2979a4fc18f04e408f6d13288",
      "content_dependencies": null
    },
    {
      "cell_type": "code",
      "source": "#compare the values for both transactions\ncredit_card_data.groupby('Class').mean()",
      "metadata": {
        "source_hash": null,
        "execution_start": 1726975044926,
        "execution_millis": 370,
        "deepnote_to_be_reexecuted": false,
        "cell_id": "8b4293c98a544098b91c20297621affc",
        "deepnote_cell_type": "code"
      },
      "outputs": [
        {
          "output_type": "execute_result",
          "execution_count": 11,
          "data": {
            "application/vnd.deepnote.dataframe.v3+json": {
              "column_count": 30,
              "row_count": 2,
              "columns": [
                {
                  "name": "Time",
                  "dtype": "float64",
                  "stats": {
                    "unique_count": 2,
                    "nan_count": 0,
                    "min": "80746.80691056911",
                    "max": "94838.20225805884",
                    "histogram": [
                      {
                        "bin_start": 80746.80691056911,
                        "bin_end": 82155.94644531808,
                        "count": 1
                      },
                      {
                        "bin_start": 82155.94644531808,
                        "bin_end": 83565.08598006706,
                        "count": 0
                      },
                      {
                        "bin_start": 83565.08598006706,
                        "bin_end": 84974.22551481603,
                        "count": 0
                      },
                      {
                        "bin_start": 84974.22551481603,
                        "bin_end": 86383.365049565,
                        "count": 0
                      },
                      {
                        "bin_start": 86383.365049565,
                        "bin_end": 87792.50458431398,
                        "count": 0
                      },
                      {
                        "bin_start": 87792.50458431398,
                        "bin_end": 89201.64411906296,
                        "count": 0
                      },
                      {
                        "bin_start": 89201.64411906296,
                        "bin_end": 90610.78365381192,
                        "count": 0
                      },
                      {
                        "bin_start": 90610.78365381192,
                        "bin_end": 92019.92318856089,
                        "count": 0
                      },
                      {
                        "bin_start": 92019.92318856089,
                        "bin_end": 93429.06272330986,
                        "count": 0
                      },
                      {
                        "bin_start": 93429.06272330986,
                        "bin_end": 94838.20225805884,
                        "count": 1
                      }
                    ]
                  }
                },
                {
                  "name": "V1",
                  "dtype": "float64",
                  "stats": {
                    "unique_count": 2,
                    "nan_count": 0,
                    "min": "-4.771948441479082",
                    "max": "0.008257737485563701",
                    "histogram": [
                      {
                        "bin_start": -4.771948441479082,
                        "bin_end": -4.293927823582617,
                        "count": 1
                      },
                      {
                        "bin_start": -4.293927823582617,
                        "bin_end": -3.8159072056861527,
                        "count": 0
                      },
                      {
                        "bin_start": -3.8159072056861527,
                        "bin_end": -3.337886587789688,
                        "count": 0
                      },
                      {
                        "bin_start": -3.337886587789688,
                        "bin_end": -2.8598659698932236,
                        "count": 0
                      },
                      {
                        "bin_start": -2.8598659698932236,
                        "bin_end": -2.381845351996759,
                        "count": 0
                      },
                      {
                        "bin_start": -2.381845351996759,
                        "bin_end": -1.9038247341002945,
                        "count": 0
                      },
                      {
                        "bin_start": -1.9038247341002945,
                        "bin_end": -1.42580411620383,
                        "count": 0
                      },
                      {
                        "bin_start": -1.42580411620383,
                        "bin_end": -0.9477834983073654,
                        "count": 0
                      },
                      {
                        "bin_start": -0.9477834983073654,
                        "bin_end": -0.46976288041090086,
                        "count": 0
                      },
                      {
                        "bin_start": -0.46976288041090086,
                        "bin_end": 0.008257737485563701,
                        "count": 1
                      }
                    ]
                  }
                },
                {
                  "name": "V2",
                  "dtype": "float64",
                  "stats": {
                    "unique_count": 2,
                    "nan_count": 0,
                    "min": "-0.0062708574158070645",
                    "max": "3.6237781019822806",
                    "histogram": [
                      {
                        "bin_start": -0.0062708574158070645,
                        "bin_end": 0.3567340385240017,
                        "count": 1
                      },
                      {
                        "bin_start": 0.3567340385240017,
                        "bin_end": 0.7197389344638105,
                        "count": 0
                      },
                      {
                        "bin_start": 0.7197389344638105,
                        "bin_end": 1.0827438304036194,
                        "count": 0
                      },
                      {
                        "bin_start": 1.0827438304036194,
                        "bin_end": 1.445748726343428,
                        "count": 0
                      },
                      {
                        "bin_start": 1.445748726343428,
                        "bin_end": 1.8087536222832368,
                        "count": 0
                      },
                      {
                        "bin_start": 1.8087536222832368,
                        "bin_end": 2.171758518223046,
                        "count": 0
                      },
                      {
                        "bin_start": 2.171758518223046,
                        "bin_end": 2.5347634141628546,
                        "count": 0
                      },
                      {
                        "bin_start": 2.5347634141628546,
                        "bin_end": 2.8977683101026632,
                        "count": 0
                      },
                      {
                        "bin_start": 2.8977683101026632,
                        "bin_end": 3.260773206042472,
                        "count": 0
                      },
                      {
                        "bin_start": 3.260773206042472,
                        "bin_end": 3.6237781019822806,
                        "count": 1
                      }
                    ]
                  }
                },
                {
                  "name": "V3",
                  "dtype": "float64",
                  "stats": {
                    "unique_count": 2,
                    "nan_count": 0,
                    "min": "-7.0332810485965584",
                    "max": "0.012170917031845342",
                    "histogram": [
                      {
                        "bin_start": -7.0332810485965584,
                        "bin_end": -6.328735852033718,
                        "count": 1
                      },
                      {
                        "bin_start": -6.328735852033718,
                        "bin_end": -5.624190655470878,
                        "count": 0
                      },
                      {
                        "bin_start": -5.624190655470878,
                        "bin_end": -4.919645458908037,
                        "count": 0
                      },
                      {
                        "bin_start": -4.919645458908037,
                        "bin_end": -4.215100262345197,
                        "count": 0
                      },
                      {
                        "bin_start": -4.215100262345197,
                        "bin_end": -3.5105550657823565,
                        "count": 0
                      },
                      {
                        "bin_start": -3.5105550657823565,
                        "bin_end": -2.8060098692195155,
                        "count": 0
                      },
                      {
                        "bin_start": -2.8060098692195155,
                        "bin_end": -2.1014646726566752,
                        "count": 0
                      },
                      {
                        "bin_start": -2.1014646726566752,
                        "bin_end": -1.396919476093835,
                        "count": 0
                      },
                      {
                        "bin_start": -1.396919476093835,
                        "bin_end": -0.6923742795309948,
                        "count": 0
                      },
                      {
                        "bin_start": -0.6923742795309948,
                        "bin_end": 0.012170917031845342,
                        "count": 1
                      }
                    ]
                  }
                },
                {
                  "name": "V4",
                  "dtype": "float64",
                  "stats": {
                    "unique_count": 2,
                    "nan_count": 0,
                    "min": "-0.007859867820465206",
                    "max": "4.542029104423093",
                    "histogram": [
                      {
                        "bin_start": -0.007859867820465206,
                        "bin_end": 0.44712902940389054,
                        "count": 1
                      },
                      {
                        "bin_start": 0.44712902940389054,
                        "bin_end": 0.9021179266282463,
                        "count": 0
                      },
                      {
                        "bin_start": 0.9021179266282463,
                        "bin_end": 1.357106823852602,
                        "count": 0
                      },
                      {
                        "bin_start": 1.357106823852602,
                        "bin_end": 1.812095721076958,
                        "count": 0
                      },
                      {
                        "bin_start": 1.812095721076958,
                        "bin_end": 2.267084618301314,
                        "count": 0
                      },
                      {
                        "bin_start": 2.267084618301314,
                        "bin_end": 2.7220735155256692,
                        "count": 0
                      },
                      {
                        "bin_start": 2.7220735155256692,
                        "bin_end": 3.177062412750025,
                        "count": 0
                      },
                      {
                        "bin_start": 3.177062412750025,
                        "bin_end": 3.632051309974381,
                        "count": 0
                      },
                      {
                        "bin_start": 3.632051309974381,
                        "bin_end": 4.087040207198736,
                        "count": 0
                      },
                      {
                        "bin_start": 4.087040207198736,
                        "bin_end": 4.542029104423093,
                        "count": 1
                      }
                    ]
                  }
                },
                {
                  "name": "V5",
                  "dtype": "float64",
                  "stats": {
                    "unique_count": 2,
                    "nan_count": 0,
                    "min": "-3.1512248859360046",
                    "max": "0.005453115888647453",
                    "histogram": [
                      {
                        "bin_start": -3.1512248859360046,
                        "bin_end": -2.8355570857535395,
                        "count": 1
                      },
                      {
                        "bin_start": -2.8355570857535395,
                        "bin_end": -2.5198892855710744,
                        "count": 0
                      },
                      {
                        "bin_start": -2.5198892855710744,
                        "bin_end": -2.204221485388609,
                        "count": 0
                      },
                      {
                        "bin_start": -2.204221485388609,
                        "bin_end": -1.8885536852061438,
                        "count": 0
                      },
                      {
                        "bin_start": -1.8885536852061438,
                        "bin_end": -1.5728858850236787,
                        "count": 0
                      },
                      {
                        "bin_start": -1.5728858850236787,
                        "bin_end": -1.2572180848412133,
                        "count": 0
                      },
                      {
                        "bin_start": -1.2572180848412133,
                        "bin_end": -0.941550284658748,
                        "count": 0
                      },
                      {
                        "bin_start": -0.941550284658748,
                        "bin_end": -0.6258824844762829,
                        "count": 0
                      },
                      {
                        "bin_start": -0.6258824844762829,
                        "bin_end": -0.3102146842938178,
                        "count": 0
                      },
                      {
                        "bin_start": -0.3102146842938178,
                        "bin_end": 0.005453115888647453,
                        "count": 1
                      }
                    ]
                  }
                },
                {
                  "name": "V6",
                  "dtype": "float64",
                  "stats": {
                    "unique_count": 2,
                    "nan_count": 0,
                    "min": "-1.3977367105923515",
                    "max": "0.002418748436107356",
                    "histogram": [
                      {
                        "bin_start": -1.3977367105923515,
                        "bin_end": -1.2577211646895057,
                        "count": 1
                      },
                      {
                        "bin_start": -1.2577211646895057,
                        "bin_end": -1.1177056187866596,
                        "count": 0
                      },
                      {
                        "bin_start": -1.1177056187866596,
                        "bin_end": -0.9776900728838138,
                        "count": 0
                      },
                      {
                        "bin_start": -0.9776900728838138,
                        "bin_end": -0.837674526980968,
                        "count": 0
                      },
                      {
                        "bin_start": -0.837674526980968,
                        "bin_end": -0.6976589810781222,
                        "count": 0
                      },
                      {
                        "bin_start": -0.6976589810781222,
                        "bin_end": -0.5576434351752763,
                        "count": 0
                      },
                      {
                        "bin_start": -0.5576434351752763,
                        "bin_end": -0.41762788927243033,
                        "count": 0
                      },
                      {
                        "bin_start": -0.41762788927243033,
                        "bin_end": -0.2776123433695845,
                        "count": 0
                      },
                      {
                        "bin_start": -0.2776123433695845,
                        "bin_end": -0.1375967974667387,
                        "count": 0
                      },
                      {
                        "bin_start": -0.1375967974667387,
                        "bin_end": 0.002418748436107356,
                        "count": 1
                      }
                    ]
                  }
                },
                {
                  "name": "V7",
                  "dtype": "float64",
                  "stats": {
                    "unique_count": 2,
                    "nan_count": 0,
                    "min": "-5.5687310837427395",
                    "max": "0.009636549929484083",
                    "histogram": [
                      {
                        "bin_start": -5.5687310837427395,
                        "bin_end": -5.010894320375517,
                        "count": 1
                      },
                      {
                        "bin_start": -5.010894320375517,
                        "bin_end": -4.453057557008295,
                        "count": 0
                      },
                      {
                        "bin_start": -4.453057557008295,
                        "bin_end": -3.8952207936410725,
                        "count": 0
                      },
                      {
                        "bin_start": -3.8952207936410725,
                        "bin_end": -3.33738403027385,
                        "count": 0
                      },
                      {
                        "bin_start": -3.33738403027385,
                        "bin_end": -2.779547266906628,
                        "count": 0
                      },
                      {
                        "bin_start": -2.779547266906628,
                        "bin_end": -2.2217105035394056,
                        "count": 0
                      },
                      {
                        "bin_start": -2.2217105035394056,
                        "bin_end": -1.6638737401721833,
                        "count": 0
                      },
                      {
                        "bin_start": -1.6638737401721833,
                        "bin_end": -1.106036976804961,
                        "count": 0
                      },
                      {
                        "bin_start": -1.106036976804961,
                        "bin_end": -0.5482002134377391,
                        "count": 0
                      },
                      {
                        "bin_start": -0.5482002134377391,
                        "bin_end": 0.009636549929484083,
                        "count": 1
                      }
                    ]
                  }
                },
                {
                  "name": "V8",
                  "dtype": "float64",
                  "stats": {
                    "unique_count": 2,
                    "nan_count": 0,
                    "min": "-0.000987471151665288",
                    "max": "0.5706358952962378",
                    "histogram": [
                      {
                        "bin_start": -0.000987471151665288,
                        "bin_end": 0.056174865493125024,
                        "count": 1
                      },
                      {
                        "bin_start": 0.056174865493125024,
                        "bin_end": 0.11333720213791534,
                        "count": 0
                      },
                      {
                        "bin_start": 0.11333720213791534,
                        "bin_end": 0.17049953878270566,
                        "count": 0
                      },
                      {
                        "bin_start": 0.17049953878270566,
                        "bin_end": 0.22766187542749597,
                        "count": 0
                      },
                      {
                        "bin_start": 0.22766187542749597,
                        "bin_end": 0.28482421207228625,
                        "count": 0
                      },
                      {
                        "bin_start": 0.28482421207228625,
                        "bin_end": 0.34198654871707657,
                        "count": 0
                      },
                      {
                        "bin_start": 0.34198654871707657,
                        "bin_end": 0.3991488853618669,
                        "count": 0
                      },
                      {
                        "bin_start": 0.3991488853618669,
                        "bin_end": 0.4563112220066572,
                        "count": 0
                      },
                      {
                        "bin_start": 0.4563112220066572,
                        "bin_end": 0.5134735586514475,
                        "count": 0
                      },
                      {
                        "bin_start": 0.5134735586514475,
                        "bin_end": 0.5706358952962378,
                        "count": 1
                      }
                    ]
                  }
                },
                {
                  "name": "V9",
                  "dtype": "float64",
                  "stats": {
                    "unique_count": 2,
                    "nan_count": 0,
                    "min": "-2.5811229217029954",
                    "max": "0.004466568691335972",
                    "histogram": [
                      {
                        "bin_start": -2.5811229217029954,
                        "bin_end": -2.3225639726635623,
                        "count": 1
                      },
                      {
                        "bin_start": -2.3225639726635623,
                        "bin_end": -2.064005023624129,
                        "count": 0
                      },
                      {
                        "bin_start": -2.064005023624129,
                        "bin_end": -1.8054460745846959,
                        "count": 0
                      },
                      {
                        "bin_start": -1.8054460745846959,
                        "bin_end": -1.5468871255452628,
                        "count": 0
                      },
                      {
                        "bin_start": -1.5468871255452628,
                        "bin_end": -1.2883281765058296,
                        "count": 0
                      },
                      {
                        "bin_start": -1.2883281765058296,
                        "bin_end": -1.0297692274663963,
                        "count": 0
                      },
                      {
                        "bin_start": -1.0297692274663963,
                        "bin_end": -0.7712102784269632,
                        "count": 0
                      },
                      {
                        "bin_start": -0.7712102784269632,
                        "bin_end": -0.5126513293875301,
                        "count": 0
                      },
                      {
                        "bin_start": -0.5126513293875301,
                        "bin_end": -0.254092380348097,
                        "count": 0
                      },
                      {
                        "bin_start": -0.254092380348097,
                        "bin_end": 0.004466568691335972,
                        "count": 1
                      }
                    ]
                  }
                },
                {
                  "name": "V10",
                  "dtype": "float64",
                  "stats": {
                    "unique_count": 2,
                    "nan_count": 0,
                    "min": "-5.676882870194368",
                    "max": "0.009823703892289417",
                    "histogram": [
                      {
                        "bin_start": -5.676882870194368,
                        "bin_end": -5.108212212785702,
                        "count": 1
                      },
                      {
                        "bin_start": -5.108212212785702,
                        "bin_end": -4.539541555377037,
                        "count": 0
                      },
                      {
                        "bin_start": -4.539541555377037,
                        "bin_end": -3.970870897968371,
                        "count": 0
                      },
                      {
                        "bin_start": -3.970870897968371,
                        "bin_end": -3.402200240559705,
                        "count": 0
                      },
                      {
                        "bin_start": -3.402200240559705,
                        "bin_end": -2.8335295831510394,
                        "count": 0
                      },
                      {
                        "bin_start": -2.8335295831510394,
                        "bin_end": -2.2648589257423737,
                        "count": 0
                      },
                      {
                        "bin_start": -2.2648589257423737,
                        "bin_end": -1.696188268333708,
                        "count": 0
                      },
                      {
                        "bin_start": -1.696188268333708,
                        "bin_end": -1.1275176109250422,
                        "count": 0
                      },
                      {
                        "bin_start": -1.1275176109250422,
                        "bin_end": -0.5588469535163769,
                        "count": 0
                      },
                      {
                        "bin_start": -0.5588469535163769,
                        "bin_end": 0.009823703892289417,
                        "count": 1
                      }
                    ]
                  }
                },
                {
                  "name": "V11",
                  "dtype": "float64",
                  "stats": {
                    "unique_count": 2,
                    "nan_count": 0,
                    "min": "-0.0065761042238215465",
                    "max": "3.800172911374607",
                    "histogram": [
                      {
                        "bin_start": -0.0065761042238215465,
                        "bin_end": 0.3740987973360213,
                        "count": 1
                      },
                      {
                        "bin_start": 0.3740987973360213,
                        "bin_end": 0.7547736988958641,
                        "count": 0
                      },
                      {
                        "bin_start": 0.7547736988958641,
                        "bin_end": 1.1354486004557072,
                        "count": 0
                      },
                      {
                        "bin_start": 1.1354486004557072,
                        "bin_end": 1.51612350201555,
                        "count": 0
                      },
                      {
                        "bin_start": 1.51612350201555,
                        "bin_end": 1.8967984035753926,
                        "count": 0
                      },
                      {
                        "bin_start": 1.8967984035753926,
                        "bin_end": 2.277473305135236,
                        "count": 0
                      },
                      {
                        "bin_start": 2.277473305135236,
                        "bin_end": 2.6581482066950786,
                        "count": 0
                      },
                      {
                        "bin_start": 2.6581482066950786,
                        "bin_end": 3.0388231082549213,
                        "count": 0
                      },
                      {
                        "bin_start": 3.0388231082549213,
                        "bin_end": 3.419498009814764,
                        "count": 0
                      },
                      {
                        "bin_start": 3.419498009814764,
                        "bin_end": 3.800172911374607,
                        "count": 1
                      }
                    ]
                  }
                },
                {
                  "name": "V12",
                  "dtype": "float64",
                  "stats": {
                    "unique_count": 2,
                    "nan_count": 0,
                    "min": "-6.259393036190131",
                    "max": "0.010831723172555756",
                    "histogram": [
                      {
                        "bin_start": -6.259393036190131,
                        "bin_end": -5.632370560253863,
                        "count": 1
                      },
                      {
                        "bin_start": -5.632370560253863,
                        "bin_end": -5.0053480843175935,
                        "count": 0
                      },
                      {
                        "bin_start": -5.0053480843175935,
                        "bin_end": -4.378325608381325,
                        "count": 0
                      },
                      {
                        "bin_start": -4.378325608381325,
                        "bin_end": -3.7513031324450563,
                        "count": 0
                      },
                      {
                        "bin_start": -3.7513031324450563,
                        "bin_end": -3.1242806565087875,
                        "count": 0
                      },
                      {
                        "bin_start": -3.1242806565087875,
                        "bin_end": -2.497258180572519,
                        "count": 0
                      },
                      {
                        "bin_start": -2.497258180572519,
                        "bin_end": -1.8702357046362499,
                        "count": 0
                      },
                      {
                        "bin_start": -1.8702357046362499,
                        "bin_end": -1.2432132286999815,
                        "count": 0
                      },
                      {
                        "bin_start": -1.2432132286999815,
                        "bin_end": -0.6161907527637132,
                        "count": 0
                      },
                      {
                        "bin_start": -0.6161907527637132,
                        "bin_end": 0.010831723172555756,
                        "count": 1
                      }
                    ]
                  }
                },
                {
                  "name": "V13",
                  "dtype": "float64",
                  "stats": {
                    "unique_count": 2,
                    "nan_count": 0,
                    "min": "-0.10933381708278404",
                    "max": "0.00018919943726136392",
                    "histogram": [
                      {
                        "bin_start": -0.10933381708278404,
                        "bin_end": -0.0983815154307795,
                        "count": 1
                      },
                      {
                        "bin_start": -0.0983815154307795,
                        "bin_end": -0.08742921377877497,
                        "count": 0
                      },
                      {
                        "bin_start": -0.08742921377877497,
                        "bin_end": -0.07647691212677042,
                        "count": 0
                      },
                      {
                        "bin_start": -0.07647691212677042,
                        "bin_end": -0.06552461047476588,
                        "count": 0
                      },
                      {
                        "bin_start": -0.06552461047476588,
                        "bin_end": -0.05457230882276133,
                        "count": 0
                      },
                      {
                        "bin_start": -0.05457230882276133,
                        "bin_end": -0.0436200071707568,
                        "count": 0
                      },
                      {
                        "bin_start": -0.0436200071707568,
                        "bin_end": -0.032667705518752255,
                        "count": 0
                      },
                      {
                        "bin_start": -0.032667705518752255,
                        "bin_end": -0.02171540386674771,
                        "count": 0
                      },
                      {
                        "bin_start": -0.02171540386674771,
                        "bin_end": -0.010763102214743164,
                        "count": 0
                      },
                      {
                        "bin_start": -0.010763102214743164,
                        "bin_end": 0.00018919943726136392,
                        "count": 1
                      }
                    ]
                  }
                },
                {
                  "name": "V14",
                  "dtype": "float64",
                  "stats": {
                    "unique_count": 2,
                    "nan_count": 0,
                    "min": "-6.971722894107602",
                    "max": "0.012064392184377487",
                    "histogram": [
                      {
                        "bin_start": -6.971722894107602,
                        "bin_end": -6.273344165478404,
                        "count": 1
                      },
                      {
                        "bin_start": -6.273344165478404,
                        "bin_end": -5.574965436849206,
                        "count": 0
                      },
                      {
                        "bin_start": -5.574965436849206,
                        "bin_end": -4.8765867082200085,
                        "count": 0
                      },
                      {
                        "bin_start": -4.8765867082200085,
                        "bin_end": -4.178207979590811,
                        "count": 0
                      },
                      {
                        "bin_start": -4.178207979590811,
                        "bin_end": -3.4798292509616124,
                        "count": 0
                      },
                      {
                        "bin_start": -3.4798292509616124,
                        "bin_end": -2.781450522332414,
                        "count": 0
                      },
                      {
                        "bin_start": -2.781450522332414,
                        "bin_end": -2.0830717937032164,
                        "count": 0
                      },
                      {
                        "bin_start": -2.0830717937032164,
                        "bin_end": -1.3846930650740186,
                        "count": 0
                      },
                      {
                        "bin_start": -1.3846930650740186,
                        "bin_end": -0.6863143364448208,
                        "count": 0
                      },
                      {
                        "bin_start": -0.6863143364448208,
                        "bin_end": 0.012064392184377487,
                        "count": 1
                      }
                    ]
                  }
                },
                {
                  "name": "V15",
                  "dtype": "float64",
                  "stats": {
                    "unique_count": 2,
                    "nan_count": 0,
                    "min": "-0.09292874691208504",
                    "max": "0.00016081087344015633",
                    "histogram": [
                      {
                        "bin_start": -0.09292874691208504,
                        "bin_end": -0.08361979113353252,
                        "count": 1
                      },
                      {
                        "bin_start": -0.08361979113353252,
                        "bin_end": -0.07431083535498001,
                        "count": 0
                      },
                      {
                        "bin_start": -0.07431083535498001,
                        "bin_end": -0.06500187957642749,
                        "count": 0
                      },
                      {
                        "bin_start": -0.06500187957642749,
                        "bin_end": -0.055692923797874966,
                        "count": 0
                      },
                      {
                        "bin_start": -0.055692923797874966,
                        "bin_end": -0.046383968019322444,
                        "count": 0
                      },
                      {
                        "bin_start": -0.046383968019322444,
                        "bin_end": -0.03707501224076993,
                        "count": 0
                      },
                      {
                        "bin_start": -0.03707501224076993,
                        "bin_end": -0.027766056462217414,
                        "count": 0
                      },
                      {
                        "bin_start": -0.027766056462217414,
                        "bin_end": -0.018457100683664893,
                        "count": 0
                      },
                      {
                        "bin_start": -0.018457100683664893,
                        "bin_end": -0.009148144905112371,
                        "count": 0
                      },
                      {
                        "bin_start": -0.009148144905112371,
                        "bin_end": 0.00016081087344015633,
                        "count": 1
                      }
                    ]
                  }
                },
                {
                  "name": "V16",
                  "dtype": "float64",
                  "stats": {
                    "unique_count": 2,
                    "nan_count": 0,
                    "min": "-4.139945699092808",
                    "max": "0.007164072539099487",
                    "histogram": [
                      {
                        "bin_start": -4.139945699092808,
                        "bin_end": -3.725234721929617,
                        "count": 1
                      },
                      {
                        "bin_start": -3.725234721929617,
                        "bin_end": -3.310523744766426,
                        "count": 0
                      },
                      {
                        "bin_start": -3.310523744766426,
                        "bin_end": -2.8958127676032355,
                        "count": 0
                      },
                      {
                        "bin_start": -2.8958127676032355,
                        "bin_end": -2.4811017904400448,
                        "count": 0
                      },
                      {
                        "bin_start": -2.4811017904400448,
                        "bin_end": -2.066390813276854,
                        "count": 0
                      },
                      {
                        "bin_start": -2.066390813276854,
                        "bin_end": -1.6516798361136633,
                        "count": 0
                      },
                      {
                        "bin_start": -1.6516798361136633,
                        "bin_end": -1.2369688589504726,
                        "count": 0
                      },
                      {
                        "bin_start": -1.2369688589504726,
                        "bin_end": -0.8222578817872819,
                        "count": 0
                      },
                      {
                        "bin_start": -0.8222578817872819,
                        "bin_end": -0.40754690462409116,
                        "count": 0
                      },
                      {
                        "bin_start": -0.40754690462409116,
                        "bin_end": 0.007164072539099487,
                        "count": 1
                      }
                    ]
                  }
                },
                {
                  "name": "V17",
                  "dtype": "float64",
                  "stats": {
                    "unique_count": 2,
                    "nan_count": 0,
                    "min": "-6.665836399449663",
                    "max": "0.011535063252129248",
                    "histogram": [
                      {
                        "bin_start": -6.665836399449663,
                        "bin_end": -5.998099253179484,
                        "count": 1
                      },
                      {
                        "bin_start": -5.998099253179484,
                        "bin_end": -5.330362106909305,
                        "count": 0
                      },
                      {
                        "bin_start": -5.330362106909305,
                        "bin_end": -4.662624960639126,
                        "count": 0
                      },
                      {
                        "bin_start": -4.662624960639126,
                        "bin_end": -3.9948878143689464,
                        "count": 0
                      },
                      {
                        "bin_start": -3.9948878143689464,
                        "bin_end": -3.327150668098767,
                        "count": 0
                      },
                      {
                        "bin_start": -3.327150668098767,
                        "bin_end": -2.659413521828588,
                        "count": 0
                      },
                      {
                        "bin_start": -2.659413521828588,
                        "bin_end": -1.9916763755584084,
                        "count": 0
                      },
                      {
                        "bin_start": -1.9916763755584084,
                        "bin_end": -1.3239392292882295,
                        "count": 0
                      },
                      {
                        "bin_start": -1.3239392292882295,
                        "bin_end": -0.6562020830180506,
                        "count": 0
                      },
                      {
                        "bin_start": -0.6562020830180506,
                        "bin_end": 0.011535063252129248,
                        "count": 1
                      }
                    ]
                  }
                },
                {
                  "name": "V18",
                  "dtype": "float64",
                  "stats": {
                    "unique_count": 2,
                    "nan_count": 0,
                    "min": "-2.2463081339714064",
                    "max": "0.0038871800710979306",
                    "histogram": [
                      {
                        "bin_start": -2.2463081339714064,
                        "bin_end": -2.021288602567156,
                        "count": 1
                      },
                      {
                        "bin_start": -2.021288602567156,
                        "bin_end": -1.7962690711629055,
                        "count": 0
                      },
                      {
                        "bin_start": -1.7962690711629055,
                        "bin_end": -1.5712495397586552,
                        "count": 0
                      },
                      {
                        "bin_start": -1.5712495397586552,
                        "bin_end": -1.3462300083544048,
                        "count": 0
                      },
                      {
                        "bin_start": -1.3462300083544048,
                        "bin_end": -1.1212104769501543,
                        "count": 0
                      },
                      {
                        "bin_start": -1.1212104769501543,
                        "bin_end": -0.8961909455459041,
                        "count": 0
                      },
                      {
                        "bin_start": -0.8961909455459041,
                        "bin_end": -0.6711714141416536,
                        "count": 0
                      },
                      {
                        "bin_start": -0.6711714141416536,
                        "bin_end": -0.44615188273740314,
                        "count": 0
                      },
                      {
                        "bin_start": -0.44615188273740314,
                        "bin_end": -0.22113235133315268,
                        "count": 0
                      },
                      {
                        "bin_start": -0.22113235133315268,
                        "bin_end": 0.0038871800710979306,
                        "count": 1
                      }
                    ]
                  }
                },
                {
                  "name": "V19",
                  "dtype": "float64",
                  "stats": {
                    "unique_count": 2,
                    "nan_count": 0,
                    "min": "-0.0011778639090783659",
                    "max": "0.680659303475429",
                    "histogram": [
                      {
                        "bin_start": -0.0011778639090783659,
                        "bin_end": 0.06700585282937237,
                        "count": 1
                      },
                      {
                        "bin_start": 0.06700585282937237,
                        "bin_end": 0.1351895695678231,
                        "count": 0
                      },
                      {
                        "bin_start": 0.1351895695678231,
                        "bin_end": 0.20337328630627383,
                        "count": 0
                      },
                      {
                        "bin_start": 0.20337328630627383,
                        "bin_end": 0.2715570030447246,
                        "count": 0
                      },
                      {
                        "bin_start": 0.2715570030447246,
                        "bin_end": 0.3397407197831753,
                        "count": 0
                      },
                      {
                        "bin_start": 0.3397407197831753,
                        "bin_end": 0.407924436521626,
                        "count": 0
                      },
                      {
                        "bin_start": 0.407924436521626,
                        "bin_end": 0.47610815326007677,
                        "count": 0
                      },
                      {
                        "bin_start": 0.47610815326007677,
                        "bin_end": 0.5442918699985275,
                        "count": 0
                      },
                      {
                        "bin_start": 0.5442918699985275,
                        "bin_end": 0.6124755867369782,
                        "count": 0
                      },
                      {
                        "bin_start": 0.6124755867369782,
                        "bin_end": 0.680659303475429,
                        "count": 1
                      }
                    ]
                  }
                },
                {
                  "name": "V20",
                  "dtype": "float64",
                  "stats": {
                    "unique_count": 2,
                    "nan_count": 0,
                    "min": "-0.0006442894068880699",
                    "max": "0.37231939577147166",
                    "histogram": [
                      {
                        "bin_start": -0.0006442894068880699,
                        "bin_end": 0.0366520791109479,
                        "count": 1
                      },
                      {
                        "bin_start": 0.0366520791109479,
                        "bin_end": 0.07394844762878387,
                        "count": 0
                      },
                      {
                        "bin_start": 0.07394844762878387,
                        "bin_end": 0.11124481614661985,
                        "count": 0
                      },
                      {
                        "bin_start": 0.11124481614661985,
                        "bin_end": 0.14854118466445582,
                        "count": 0
                      },
                      {
                        "bin_start": 0.14854118466445582,
                        "bin_end": 0.18583755318229178,
                        "count": 0
                      },
                      {
                        "bin_start": 0.18583755318229178,
                        "bin_end": 0.22313392170012777,
                        "count": 0
                      },
                      {
                        "bin_start": 0.22313392170012777,
                        "bin_end": 0.26043029021796377,
                        "count": 0
                      },
                      {
                        "bin_start": 0.26043029021796377,
                        "bin_end": 0.29772665873579973,
                        "count": 0
                      },
                      {
                        "bin_start": 0.29772665873579973,
                        "bin_end": 0.3350230272536357,
                        "count": 0
                      },
                      {
                        "bin_start": 0.3350230272536357,
                        "bin_end": 0.37231939577147166,
                        "count": 1
                      }
                    ]
                  }
                },
                {
                  "name": "V21",
                  "dtype": "float64",
                  "stats": {
                    "unique_count": 2,
                    "nan_count": 0,
                    "min": "-0.0012348468055254022",
                    "max": "0.7135883526687006",
                    "histogram": [
                      {
                        "bin_start": -0.0012348468055254022,
                        "bin_end": 0.0702474731418972,
                        "count": 1
                      },
                      {
                        "bin_start": 0.0702474731418972,
                        "bin_end": 0.1417297930893198,
                        "count": 0
                      },
                      {
                        "bin_start": 0.1417297930893198,
                        "bin_end": 0.2132121130367424,
                        "count": 0
                      },
                      {
                        "bin_start": 0.2132121130367424,
                        "bin_end": 0.284694432984165,
                        "count": 0
                      },
                      {
                        "bin_start": 0.284694432984165,
                        "bin_end": 0.3561767529315876,
                        "count": 0
                      },
                      {
                        "bin_start": 0.3561767529315876,
                        "bin_end": 0.4276590728790102,
                        "count": 0
                      },
                      {
                        "bin_start": 0.4276590728790102,
                        "bin_end": 0.49914139282643283,
                        "count": 0
                      },
                      {
                        "bin_start": 0.49914139282643283,
                        "bin_end": 0.5706237127738554,
                        "count": 0
                      },
                      {
                        "bin_start": 0.5706237127738554,
                        "bin_end": 0.642106032721278,
                        "count": 0
                      },
                      {
                        "bin_start": 0.642106032721278,
                        "bin_end": 0.7135883526687006,
                        "count": 1
                      }
                    ]
                  }
                },
                {
                  "name": "V22",
                  "dtype": "float64",
                  "stats": {
                    "unique_count": 2,
                    "nan_count": 0,
                    "min": "-2.4311239340307784e-05",
                    "max": "0.01404888214012134",
                    "histogram": [
                      {
                        "bin_start": -0.000024311239340307784,
                        "bin_end": 0.001383008098605857,
                        "count": 1
                      },
                      {
                        "bin_start": 0.001383008098605857,
                        "bin_end": 0.0027903274365520215,
                        "count": 0
                      },
                      {
                        "bin_start": 0.0027903274365520215,
                        "bin_end": 0.004197646774498186,
                        "count": 0
                      },
                      {
                        "bin_start": 0.004197646774498186,
                        "bin_end": 0.005604966112444351,
                        "count": 0
                      },
                      {
                        "bin_start": 0.005604966112444351,
                        "bin_end": 0.007012285450390516,
                        "count": 0
                      },
                      {
                        "bin_start": 0.007012285450390516,
                        "bin_end": 0.008419604788336681,
                        "count": 0
                      },
                      {
                        "bin_start": 0.008419604788336681,
                        "bin_end": 0.009826924126282846,
                        "count": 0
                      },
                      {
                        "bin_start": 0.009826924126282846,
                        "bin_end": 0.01123424346422901,
                        "count": 0
                      },
                      {
                        "bin_start": 0.01123424346422901,
                        "bin_end": 0.012641562802175176,
                        "count": 0
                      },
                      {
                        "bin_start": 0.012641562802175176,
                        "bin_end": 0.01404888214012134,
                        "count": 1
                      }
                    ]
                  }
                },
                {
                  "name": "V23",
                  "dtype": "float64",
                  "stats": {
                    "unique_count": 2,
                    "nan_count": 0,
                    "min": "-0.04030796594836945",
                    "max": "6.975192742793267e-05",
                    "histogram": [
                      {
                        "bin_start": -0.04030796594836945,
                        "bin_end": -0.03627019416078971,
                        "count": 1
                      },
                      {
                        "bin_start": -0.03627019416078971,
                        "bin_end": -0.032232422373209973,
                        "count": 0
                      },
                      {
                        "bin_start": -0.032232422373209973,
                        "bin_end": -0.028194650585630233,
                        "count": 0
                      },
                      {
                        "bin_start": -0.028194650585630233,
                        "bin_end": -0.024156878798050493,
                        "count": 0
                      },
                      {
                        "bin_start": -0.024156878798050493,
                        "bin_end": -0.020119107010470753,
                        "count": 0
                      },
                      {
                        "bin_start": -0.020119107010470753,
                        "bin_end": -0.016081335222891017,
                        "count": 0
                      },
                      {
                        "bin_start": -0.016081335222891017,
                        "bin_end": -0.01204356343531128,
                        "count": 0
                      },
                      {
                        "bin_start": -0.01204356343531128,
                        "bin_end": -0.00800579164773154,
                        "count": 0
                      },
                      {
                        "bin_start": -0.00800579164773154,
                        "bin_end": -0.0039680198601518,
                        "count": 0
                      },
                      {
                        "bin_start": -0.0039680198601518,
                        "bin_end": 0.00006975192742793267,
                        "count": 1
                      }
                    ]
                  }
                },
                {
                  "name": "V24",
                  "dtype": "float64",
                  "stats": {
                    "unique_count": 2,
                    "nan_count": 0,
                    "min": "-0.1051303054394829",
                    "max": "0.00018192536544853248",
                    "histogram": [
                      {
                        "bin_start": -0.1051303054394829,
                        "bin_end": -0.09459908235898976,
                        "count": 1
                      },
                      {
                        "bin_start": -0.09459908235898976,
                        "bin_end": -0.08406785927849661,
                        "count": 0
                      },
                      {
                        "bin_start": -0.08406785927849661,
                        "bin_end": -0.07353663619800348,
                        "count": 0
                      },
                      {
                        "bin_start": -0.07353663619800348,
                        "bin_end": -0.06300541311751033,
                        "count": 0
                      },
                      {
                        "bin_start": -0.06300541311751033,
                        "bin_end": -0.052474190037017185,
                        "count": 0
                      },
                      {
                        "bin_start": -0.052474190037017185,
                        "bin_end": -0.04194296695652405,
                        "count": 0
                      },
                      {
                        "bin_start": -0.04194296695652405,
                        "bin_end": -0.031411743876030906,
                        "count": 0
                      },
                      {
                        "bin_start": -0.031411743876030906,
                        "bin_end": -0.02088052079553776,
                        "count": 0
                      },
                      {
                        "bin_start": -0.02088052079553776,
                        "bin_end": -0.010349297715044614,
                        "count": 0
                      },
                      {
                        "bin_start": -0.010349297715044614,
                        "bin_end": 0.00018192536544853248,
                        "count": 1
                      }
                    ]
                  }
                },
                {
                  "name": "V25",
                  "dtype": "float64",
                  "stats": {
                    "unique_count": 2,
                    "nan_count": 0,
                    "min": "-7.17262632402943e-05",
                    "max": "0.04144888726282707",
                    "histogram": [
                      {
                        "bin_start": -0.0000717262632402943,
                        "bin_end": 0.004080335089366441,
                        "count": 1
                      },
                      {
                        "bin_start": 0.004080335089366441,
                        "bin_end": 0.008232396441973178,
                        "count": 0
                      },
                      {
                        "bin_start": 0.008232396441973178,
                        "bin_end": 0.012384457794579914,
                        "count": 0
                      },
                      {
                        "bin_start": 0.012384457794579914,
                        "bin_end": 0.016536519147186648,
                        "count": 0
                      },
                      {
                        "bin_start": 0.016536519147186648,
                        "bin_end": 0.020688580499793382,
                        "count": 0
                      },
                      {
                        "bin_start": 0.020688580499793382,
                        "bin_end": 0.02484064185240012,
                        "count": 0
                      },
                      {
                        "bin_start": 0.02484064185240012,
                        "bin_end": 0.028992703205006857,
                        "count": 0
                      },
                      {
                        "bin_start": 0.028992703205006857,
                        "bin_end": 0.033144764557613594,
                        "count": 0
                      },
                      {
                        "bin_start": 0.033144764557613594,
                        "bin_end": 0.03729682591022033,
                        "count": 0
                      },
                      {
                        "bin_start": 0.03729682591022033,
                        "bin_end": 0.04144888726282707,
                        "count": 1
                      }
                    ]
                  }
                },
                {
                  "name": "V26",
                  "dtype": "float64",
                  "stats": {
                    "unique_count": 2,
                    "nan_count": 0,
                    "min": "-8.937579014912044e-05",
                    "max": "0.05164812556245366",
                    "histogram": [
                      {
                        "bin_start": -0.00008937579014912044,
                        "bin_end": 0.0050843743451111575,
                        "count": 1
                      },
                      {
                        "bin_start": 0.0050843743451111575,
                        "bin_end": 0.010258124480371436,
                        "count": 0
                      },
                      {
                        "bin_start": 0.010258124480371436,
                        "bin_end": 0.015431874615631714,
                        "count": 0
                      },
                      {
                        "bin_start": 0.015431874615631714,
                        "bin_end": 0.020605624750891994,
                        "count": 0
                      },
                      {
                        "bin_start": 0.020605624750891994,
                        "bin_end": 0.025779374886152274,
                        "count": 0
                      },
                      {
                        "bin_start": 0.025779374886152274,
                        "bin_end": 0.03095312502141255,
                        "count": 0
                      },
                      {
                        "bin_start": 0.03095312502141255,
                        "bin_end": 0.03612687515667282,
                        "count": 0
                      },
                      {
                        "bin_start": 0.03612687515667282,
                        "bin_end": 0.0413006252919331,
                        "count": 0
                      },
                      {
                        "bin_start": 0.0413006252919331,
                        "bin_end": 0.04647437542719338,
                        "count": 0
                      },
                      {
                        "bin_start": 0.04647437542719338,
                        "bin_end": 0.05164812556245366,
                        "count": 1
                      }
                    ]
                  }
                },
                {
                  "name": "V27",
                  "dtype": "float64",
                  "stats": {
                    "unique_count": 2,
                    "nan_count": 0,
                    "min": "-0.00029517541383410544",
                    "max": "0.17057479224418595",
                    "histogram": [
                      {
                        "bin_start": -0.00029517541383410544,
                        "bin_end": 0.0167918213519679,
                        "count": 1
                      },
                      {
                        "bin_start": 0.0167918213519679,
                        "bin_end": 0.0338788181177699,
                        "count": 0
                      },
                      {
                        "bin_start": 0.0338788181177699,
                        "bin_end": 0.05096581488357191,
                        "count": 0
                      },
                      {
                        "bin_start": 0.05096581488357191,
                        "bin_end": 0.06805281164937392,
                        "count": 0
                      },
                      {
                        "bin_start": 0.06805281164937392,
                        "bin_end": 0.08513980841517592,
                        "count": 0
                      },
                      {
                        "bin_start": 0.08513980841517592,
                        "bin_end": 0.10222680518097793,
                        "count": 0
                      },
                      {
                        "bin_start": 0.10222680518097793,
                        "bin_end": 0.11931380194677994,
                        "count": 0
                      },
                      {
                        "bin_start": 0.11931380194677994,
                        "bin_end": 0.13640079871258193,
                        "count": 0
                      },
                      {
                        "bin_start": 0.13640079871258193,
                        "bin_end": 0.15348779547838393,
                        "count": 0
                      },
                      {
                        "bin_start": 0.15348779547838393,
                        "bin_end": 0.17057479224418595,
                        "count": 1
                      }
                    ]
                  }
                },
                {
                  "name": "V28",
                  "dtype": "float64",
                  "stats": {
                    "unique_count": 2,
                    "nan_count": 0,
                    "min": "-0.00013094035488017165",
                    "max": "0.0756672906457746",
                    "histogram": [
                      {
                        "bin_start": -0.00013094035488017165,
                        "bin_end": 0.007448882745185306,
                        "count": 1
                      },
                      {
                        "bin_start": 0.007448882745185306,
                        "bin_end": 0.015028705845250784,
                        "count": 0
                      },
                      {
                        "bin_start": 0.015028705845250784,
                        "bin_end": 0.022608528945316266,
                        "count": 0
                      },
                      {
                        "bin_start": 0.022608528945316266,
                        "bin_end": 0.03018835204538174,
                        "count": 0
                      },
                      {
                        "bin_start": 0.03018835204538174,
                        "bin_end": 0.03776817514544722,
                        "count": 0
                      },
                      {
                        "bin_start": 0.03776817514544722,
                        "bin_end": 0.0453479982455127,
                        "count": 0
                      },
                      {
                        "bin_start": 0.0453479982455127,
                        "bin_end": 0.05292782134557818,
                        "count": 0
                      },
                      {
                        "bin_start": 0.05292782134557818,
                        "bin_end": 0.06050764444564365,
                        "count": 0
                      },
                      {
                        "bin_start": 0.06050764444564365,
                        "bin_end": 0.06808746754570913,
                        "count": 0
                      },
                      {
                        "bin_start": 0.06808746754570913,
                        "bin_end": 0.0756672906457746,
                        "count": 1
                      }
                    ]
                  }
                },
                {
                  "name": "Amount",
                  "dtype": "float64",
                  "stats": {
                    "unique_count": 2,
                    "nan_count": 0,
                    "min": "88.29102242231328",
                    "max": "122.21132113821139",
                    "histogram": [
                      {
                        "bin_start": 88.29102242231328,
                        "bin_end": 91.68305229390309,
                        "count": 1
                      },
                      {
                        "bin_start": 91.68305229390309,
                        "bin_end": 95.0750821654929,
                        "count": 0
                      },
                      {
                        "bin_start": 95.0750821654929,
                        "bin_end": 98.46711203708271,
                        "count": 0
                      },
                      {
                        "bin_start": 98.46711203708271,
                        "bin_end": 101.85914190867253,
                        "count": 0
                      },
                      {
                        "bin_start": 101.85914190867253,
                        "bin_end": 105.25117178026233,
                        "count": 0
                      },
                      {
                        "bin_start": 105.25117178026233,
                        "bin_end": 108.64320165185214,
                        "count": 0
                      },
                      {
                        "bin_start": 108.64320165185214,
                        "bin_end": 112.03523152344195,
                        "count": 0
                      },
                      {
                        "bin_start": 112.03523152344195,
                        "bin_end": 115.42726139503176,
                        "count": 0
                      },
                      {
                        "bin_start": 115.42726139503176,
                        "bin_end": 118.81929126662158,
                        "count": 0
                      },
                      {
                        "bin_start": 118.81929126662158,
                        "bin_end": 122.21132113821139,
                        "count": 1
                      }
                    ]
                  }
                },
                {
                  "name": "_deepnote_index_column",
                  "dtype": "int64"
                }
              ],
              "rows": [
                {
                  "Time": 94838.20225805884,
                  "V1": 0.008257737485563701,
                  "V2": -0.0062708574158070645,
                  "V3": 0.012170917031845342,
                  "V4": -0.007859867820465206,
                  "V5": 0.005453115888647453,
                  "V6": 0.002418748436107356,
                  "V7": 0.009636549929484083,
                  "V8": -0.000987471151665288,
                  "V9": 0.004466568691335972,
                  "V10": 0.009823703892289417,
                  "V11": -0.0065761042238215465,
                  "V12": 0.010831723172555756,
                  "V13": 0.00018919943726136392,
                  "V14": 0.012064392184377487,
                  "V15": 0.00016081087344015633,
                  "V16": 0.007164072539099487,
                  "V17": 0.011535063252129248,
                  "V18": 0.0038871800710979306,
                  "V19": -0.0011778639090783659,
                  "V20": -0.0006442894068880699,
                  "V21": -0.0012348468055254022,
                  "V22": -0.000024311239340307784,
                  "V23": 0.00006975192742793267,
                  "V24": 0.00018192536544853248,
                  "V25": -0.0000717262632402943,
                  "V26": -0.00008937579014912044,
                  "V27": -0.00029517541383410544,
                  "V28": -0.00013094035488017165,
                  "Amount": 88.29102242231328,
                  "_deepnote_index_column": 0
                },
                {
                  "Time": 80746.80691056911,
                  "V1": -4.771948441479082,
                  "V2": 3.6237781019822806,
                  "V3": -7.0332810485965584,
                  "V4": 4.542029104423093,
                  "V5": -3.1512248859360046,
                  "V6": -1.3977367105923515,
                  "V7": -5.5687310837427395,
                  "V8": 0.5706358952962378,
                  "V9": -2.5811229217029954,
                  "V10": -5.676882870194368,
                  "V11": 3.800172911374607,
                  "V12": -6.259393036190131,
                  "V13": -0.10933381708278404,
                  "V14": -6.971722894107602,
                  "V15": -0.09292874691208504,
                  "V16": -4.139945699092808,
                  "V17": -6.665836399449663,
                  "V18": -2.2463081339714064,
                  "V19": 0.680659303475429,
                  "V20": 0.37231939577147166,
                  "V21": 0.7135883526687006,
                  "V22": 0.01404888214012134,
                  "V23": -0.04030796594836945,
                  "V24": -0.1051303054394829,
                  "V25": 0.04144888726282707,
                  "V26": 0.05164812556245366,
                  "V27": 0.17057479224418595,
                  "V28": 0.0756672906457746,
                  "Amount": 122.21132113821139,
                  "_deepnote_index_column": 1
                }
              ]
            },
            "text/plain": "               Time        V1        V2        V3        V4        V5  \\\nClass                                                                   \n0      94838.202258  0.008258 -0.006271  0.012171 -0.007860  0.005453   \n1      80746.806911 -4.771948  3.623778 -7.033281  4.542029 -3.151225   \n\n             V6        V7        V8        V9  ...       V20       V21  \\\nClass                                          ...                       \n0      0.002419  0.009637 -0.000987  0.004467  ... -0.000644 -0.001235   \n1     -1.397737 -5.568731  0.570636 -2.581123  ...  0.372319  0.713588   \n\n            V22       V23       V24       V25       V26       V27       V28  \\\nClass                                                                         \n0     -0.000024  0.000070  0.000182 -0.000072 -0.000089 -0.000295 -0.000131   \n1      0.014049 -0.040308 -0.105130  0.041449  0.051648  0.170575  0.075667   \n\n           Amount  \nClass              \n0       88.291022  \n1      122.211321  \n\n[2 rows x 30 columns]",
            "text/html": "<div>\n<style scoped>\n    .dataframe tbody tr th:only-of-type {\n        vertical-align: middle;\n    }\n\n    .dataframe tbody tr th {\n        vertical-align: top;\n    }\n\n    .dataframe thead th {\n        text-align: right;\n    }\n</style>\n<table border=\"1\" class=\"dataframe\">\n  <thead>\n    <tr style=\"text-align: right;\">\n      <th></th>\n      <th>Time</th>\n      <th>V1</th>\n      <th>V2</th>\n      <th>V3</th>\n      <th>V4</th>\n      <th>V5</th>\n      <th>V6</th>\n      <th>V7</th>\n      <th>V8</th>\n      <th>V9</th>\n      <th>...</th>\n      <th>V20</th>\n      <th>V21</th>\n      <th>V22</th>\n      <th>V23</th>\n      <th>V24</th>\n      <th>V25</th>\n      <th>V26</th>\n      <th>V27</th>\n      <th>V28</th>\n      <th>Amount</th>\n    </tr>\n    <tr>\n      <th>Class</th>\n      <th></th>\n      <th></th>\n      <th></th>\n      <th></th>\n      <th></th>\n      <th></th>\n      <th></th>\n      <th></th>\n      <th></th>\n      <th></th>\n      <th></th>\n      <th></th>\n      <th></th>\n      <th></th>\n      <th></th>\n      <th></th>\n      <th></th>\n      <th></th>\n      <th></th>\n      <th></th>\n      <th></th>\n    </tr>\n  </thead>\n  <tbody>\n    <tr>\n      <th>0</th>\n      <td>94838.202258</td>\n      <td>0.008258</td>\n      <td>-0.006271</td>\n      <td>0.012171</td>\n      <td>-0.007860</td>\n      <td>0.005453</td>\n      <td>0.002419</td>\n      <td>0.009637</td>\n      <td>-0.000987</td>\n      <td>0.004467</td>\n      <td>...</td>\n      <td>-0.000644</td>\n      <td>-0.001235</td>\n      <td>-0.000024</td>\n      <td>0.000070</td>\n      <td>0.000182</td>\n      <td>-0.000072</td>\n      <td>-0.000089</td>\n      <td>-0.000295</td>\n      <td>-0.000131</td>\n      <td>88.291022</td>\n    </tr>\n    <tr>\n      <th>1</th>\n      <td>80746.806911</td>\n      <td>-4.771948</td>\n      <td>3.623778</td>\n      <td>-7.033281</td>\n      <td>4.542029</td>\n      <td>-3.151225</td>\n      <td>-1.397737</td>\n      <td>-5.568731</td>\n      <td>0.570636</td>\n      <td>-2.581123</td>\n      <td>...</td>\n      <td>0.372319</td>\n      <td>0.713588</td>\n      <td>0.014049</td>\n      <td>-0.040308</td>\n      <td>-0.105130</td>\n      <td>0.041449</td>\n      <td>0.051648</td>\n      <td>0.170575</td>\n      <td>0.075667</td>\n      <td>122.211321</td>\n    </tr>\n  </tbody>\n</table>\n<p>2 rows × 30 columns</p>\n</div>"
          },
          "metadata": {}
        }
      ],
      "outputs_reference": null,
      "execution_count": null,
      "block_group": "b514d377221f47fdb6378a553ae57c3d",
      "content_dependencies": null
    },
    {
      "cell_type": "markdown",
      "source": "### Under-Sampling",
      "metadata": {
        "cell_id": "9c798bc803c8433c89a3a2a95c4c813b",
        "deepnote_cell_type": "markdown"
      },
      "block_group": "c58a450ddc504b56925719ae303258d7"
    },
    {
      "cell_type": "markdown",
      "source": "Build a sample dataset containing similar distributions of normal and fraud transactions",
      "metadata": {
        "formattedRanges": [],
        "cell_id": "dd487e69a1da4e38aa718698cb6a6145",
        "deepnote_cell_type": "text-cell-p"
      },
      "block_group": "350d8206908f46448b1daf8b2f392523"
    },
    {
      "cell_type": "code",
      "source": "legit_sample = legit.sample(n=492)",
      "metadata": {
        "source_hash": null,
        "execution_start": 1726975045040,
        "execution_millis": 256,
        "deepnote_to_be_reexecuted": false,
        "cell_id": "1ac863f2526f432db942acf346e233cb",
        "deepnote_cell_type": "code"
      },
      "outputs": [],
      "outputs_reference": null,
      "execution_count": null,
      "block_group": "e363d522af5d4c71b4d0987910ad8164",
      "content_dependencies": null
    },
    {
      "cell_type": "markdown",
      "source": "### Linking 2 Dataframes",
      "metadata": {
        "cell_id": "3d9b283bdafa41efabfe486c4c8b68d5",
        "deepnote_cell_type": "markdown"
      },
      "block_group": "b35e3c72336a4a7a95003f00a82f2634"
    },
    {
      "cell_type": "code",
      "source": "new_dataset = pd.concat([legit_sample, fraud], axis=0)\n\nnew_dataset.head()",
      "metadata": {
        "source_hash": null,
        "execution_start": 1726975045055,
        "execution_millis": 619,
        "deepnote_to_be_reexecuted": false,
        "cell_id": "56e31622ec3441349bba21b078ae9c0e",
        "deepnote_cell_type": "code"
      },
      "outputs": [
        {
          "output_type": "execute_result",
          "execution_count": 13,
          "data": {
            "application/vnd.deepnote.dataframe.v3+json": {
              "column_count": 31,
              "row_count": 5,
              "columns": [
                {
                  "name": "Time",
                  "dtype": "float64",
                  "stats": {
                    "unique_count": 5,
                    "nan_count": 0,
                    "min": "4650.0",
                    "max": "160941.0",
                    "histogram": [
                      {
                        "bin_start": 4650,
                        "bin_end": 20279.1,
                        "count": 1
                      },
                      {
                        "bin_start": 20279.1,
                        "bin_end": 35908.2,
                        "count": 0
                      },
                      {
                        "bin_start": 35908.2,
                        "bin_end": 51537.3,
                        "count": 0
                      },
                      {
                        "bin_start": 51537.3,
                        "bin_end": 67166.4,
                        "count": 2
                      },
                      {
                        "bin_start": 67166.4,
                        "bin_end": 82795.5,
                        "count": 1
                      },
                      {
                        "bin_start": 82795.5,
                        "bin_end": 98424.6,
                        "count": 0
                      },
                      {
                        "bin_start": 98424.6,
                        "bin_end": 114053.7,
                        "count": 0
                      },
                      {
                        "bin_start": 114053.7,
                        "bin_end": 129682.8,
                        "count": 0
                      },
                      {
                        "bin_start": 129682.8,
                        "bin_end": 145311.9,
                        "count": 0
                      },
                      {
                        "bin_start": 145311.9,
                        "bin_end": 160941,
                        "count": 1
                      }
                    ]
                  }
                },
                {
                  "name": "V1",
                  "dtype": "float64",
                  "stats": {
                    "unique_count": 5,
                    "nan_count": 0,
                    "min": "-2.3636121023424",
                    "max": "1.30921807757357",
                    "histogram": [
                      {
                        "bin_start": -2.3636121023424,
                        "bin_end": -1.996329084350803,
                        "count": 1
                      },
                      {
                        "bin_start": -1.996329084350803,
                        "bin_end": -1.6290460663592061,
                        "count": 0
                      },
                      {
                        "bin_start": -1.6290460663592061,
                        "bin_end": -1.2617630483676092,
                        "count": 0
                      },
                      {
                        "bin_start": -1.2617630483676092,
                        "bin_end": -0.8944800303760121,
                        "count": 0
                      },
                      {
                        "bin_start": -0.8944800303760121,
                        "bin_end": -0.527197012384415,
                        "count": 2
                      },
                      {
                        "bin_start": -0.527197012384415,
                        "bin_end": -0.15991399439281828,
                        "count": 0
                      },
                      {
                        "bin_start": -0.15991399439281828,
                        "bin_end": 0.20736902359877885,
                        "count": 1
                      },
                      {
                        "bin_start": 0.20736902359877885,
                        "bin_end": 0.574652041590376,
                        "count": 0
                      },
                      {
                        "bin_start": 0.574652041590376,
                        "bin_end": 0.9419350595819731,
                        "count": 0
                      },
                      {
                        "bin_start": 0.9419350595819731,
                        "bin_end": 1.30921807757357,
                        "count": 1
                      }
                    ]
                  }
                },
                {
                  "name": "V2",
                  "dtype": "float64",
                  "stats": {
                    "unique_count": 5,
                    "nan_count": 0,
                    "min": "0.173160577384172",
                    "max": "1.40650912806222",
                    "histogram": [
                      {
                        "bin_start": 0.173160577384172,
                        "bin_end": 0.2964954324519768,
                        "count": 1
                      },
                      {
                        "bin_start": 0.2964954324519768,
                        "bin_end": 0.4198302875197816,
                        "count": 0
                      },
                      {
                        "bin_start": 0.4198302875197816,
                        "bin_end": 0.5431651425875864,
                        "count": 0
                      },
                      {
                        "bin_start": 0.5431651425875864,
                        "bin_end": 0.6664999976553911,
                        "count": 0
                      },
                      {
                        "bin_start": 0.6664999976553911,
                        "bin_end": 0.789834852723196,
                        "count": 1
                      },
                      {
                        "bin_start": 0.789834852723196,
                        "bin_end": 0.9131697077910008,
                        "count": 2
                      },
                      {
                        "bin_start": 0.9131697077910008,
                        "bin_end": 1.0365045628588057,
                        "count": 0
                      },
                      {
                        "bin_start": 1.0365045628588057,
                        "bin_end": 1.1598394179266105,
                        "count": 0
                      },
                      {
                        "bin_start": 1.1598394179266105,
                        "bin_end": 1.283174272994415,
                        "count": 0
                      },
                      {
                        "bin_start": 1.283174272994415,
                        "bin_end": 1.40650912806222,
                        "count": 1
                      }
                    ]
                  }
                },
                {
                  "name": "V3",
                  "dtype": "float64",
                  "stats": {
                    "unique_count": 5,
                    "nan_count": 0,
                    "min": "-0.0860277755277931",
                    "max": "1.36569891652154",
                    "histogram": [
                      {
                        "bin_start": -0.0860277755277931,
                        "bin_end": 0.05914489367714022,
                        "count": 2
                      },
                      {
                        "bin_start": 0.05914489367714022,
                        "bin_end": 0.20431756288207353,
                        "count": 0
                      },
                      {
                        "bin_start": 0.20431756288207353,
                        "bin_end": 0.34949023208700686,
                        "count": 0
                      },
                      {
                        "bin_start": 0.34949023208700686,
                        "bin_end": 0.4946629012919402,
                        "count": 1
                      },
                      {
                        "bin_start": 0.4946629012919402,
                        "bin_end": 0.6398355704968736,
                        "count": 0
                      },
                      {
                        "bin_start": 0.6398355704968736,
                        "bin_end": 0.7850082397018069,
                        "count": 1
                      },
                      {
                        "bin_start": 0.7850082397018069,
                        "bin_end": 0.9301809089067402,
                        "count": 0
                      },
                      {
                        "bin_start": 0.9301809089067402,
                        "bin_end": 1.0753535781116734,
                        "count": 0
                      },
                      {
                        "bin_start": 1.0753535781116734,
                        "bin_end": 1.2205262473166067,
                        "count": 0
                      },
                      {
                        "bin_start": 1.2205262473166067,
                        "bin_end": 1.36569891652154,
                        "count": 1
                      }
                    ]
                  }
                },
                {
                  "name": "V4",
                  "dtype": "float64",
                  "stats": {
                    "unique_count": 5,
                    "nan_count": 0,
                    "min": "-1.14275846825675",
                    "max": "0.208324378362321",
                    "histogram": [
                      {
                        "bin_start": -1.14275846825675,
                        "bin_end": -1.0076501835948428,
                        "count": 1
                      },
                      {
                        "bin_start": -1.0076501835948428,
                        "bin_end": -0.8725418989329358,
                        "count": 0
                      },
                      {
                        "bin_start": -0.8725418989329358,
                        "bin_end": -0.7374336142710287,
                        "count": 1
                      },
                      {
                        "bin_start": -0.7374336142710287,
                        "bin_end": -0.6023253296091216,
                        "count": 0
                      },
                      {
                        "bin_start": -0.6023253296091216,
                        "bin_end": -0.4672170449472144,
                        "count": 0
                      },
                      {
                        "bin_start": -0.4672170449472144,
                        "bin_end": -0.33210876028530734,
                        "count": 0
                      },
                      {
                        "bin_start": -0.33210876028530734,
                        "bin_end": -0.19700047562340028,
                        "count": 0
                      },
                      {
                        "bin_start": -0.19700047562340028,
                        "bin_end": -0.06189219096149312,
                        "count": 0
                      },
                      {
                        "bin_start": -0.06189219096149312,
                        "bin_end": 0.07321609370041404,
                        "count": 1
                      },
                      {
                        "bin_start": 0.07321609370041404,
                        "bin_end": 0.208324378362321,
                        "count": 2
                      }
                    ]
                  }
                },
                {
                  "name": "V5",
                  "dtype": "float64",
                  "stats": {
                    "unique_count": 5,
                    "nan_count": 0,
                    "min": "-1.40072583781409",
                    "max": "0.761258758828919",
                    "histogram": [
                      {
                        "bin_start": -1.40072583781409,
                        "bin_end": -1.1845273781497891,
                        "count": 1
                      },
                      {
                        "bin_start": -1.1845273781497891,
                        "bin_end": -0.9683289184854883,
                        "count": 1
                      },
                      {
                        "bin_start": -0.9683289184854883,
                        "bin_end": -0.7521304588211875,
                        "count": 0
                      },
                      {
                        "bin_start": -0.7521304588211875,
                        "bin_end": -0.5359319991568865,
                        "count": 0
                      },
                      {
                        "bin_start": -0.5359319991568865,
                        "bin_end": -0.31973353949258554,
                        "count": 0
                      },
                      {
                        "bin_start": -0.31973353949258554,
                        "bin_end": -0.1035350798282848,
                        "count": 1
                      },
                      {
                        "bin_start": -0.1035350798282848,
                        "bin_end": 0.11266337983601615,
                        "count": 1
                      },
                      {
                        "bin_start": 0.11266337983601615,
                        "bin_end": 0.3288618395003171,
                        "count": 0
                      },
                      {
                        "bin_start": 0.3288618395003171,
                        "bin_end": 0.5450602991646181,
                        "count": 0
                      },
                      {
                        "bin_start": 0.5450602991646181,
                        "bin_end": 0.761258758828919,
                        "count": 1
                      }
                    ]
                  }
                },
                {
                  "name": "V6",
                  "dtype": "float64",
                  "stats": {
                    "unique_count": 5,
                    "nan_count": 0,
                    "min": "-1.14599488667542",
                    "max": "-0.221357004148771",
                    "histogram": [
                      {
                        "bin_start": -1.14599488667542,
                        "bin_end": -1.053531098422755,
                        "count": 1
                      },
                      {
                        "bin_start": -1.053531098422755,
                        "bin_end": -0.9610673101700902,
                        "count": 0
                      },
                      {
                        "bin_start": -0.9610673101700902,
                        "bin_end": -0.8686035219174253,
                        "count": 1
                      },
                      {
                        "bin_start": -0.8686035219174253,
                        "bin_end": -0.7761397336647604,
                        "count": 0
                      },
                      {
                        "bin_start": -0.7761397336647604,
                        "bin_end": -0.6836759454120955,
                        "count": 0
                      },
                      {
                        "bin_start": -0.6836759454120955,
                        "bin_end": -0.5912121571594305,
                        "count": 1
                      },
                      {
                        "bin_start": -0.5912121571594305,
                        "bin_end": -0.49874836890676566,
                        "count": 0
                      },
                      {
                        "bin_start": -0.49874836890676566,
                        "bin_end": -0.4062845806541008,
                        "count": 0
                      },
                      {
                        "bin_start": -0.4062845806541008,
                        "bin_end": -0.3138207924014359,
                        "count": 0
                      },
                      {
                        "bin_start": -0.3138207924014359,
                        "bin_end": -0.221357004148771,
                        "count": 2
                      }
                    ]
                  }
                },
                {
                  "name": "V7",
                  "dtype": "float64",
                  "stats": {
                    "unique_count": 5,
                    "nan_count": 0,
                    "min": "-0.62661187075437",
                    "max": "0.958508888186136",
                    "histogram": [
                      {
                        "bin_start": -0.62661187075437,
                        "bin_end": -0.4680997948603194,
                        "count": 1
                      },
                      {
                        "bin_start": -0.4680997948603194,
                        "bin_end": -0.3095877189662688,
                        "count": 0
                      },
                      {
                        "bin_start": -0.3095877189662688,
                        "bin_end": -0.1510756430722182,
                        "count": 0
                      },
                      {
                        "bin_start": -0.1510756430722182,
                        "bin_end": 0.007436432821832373,
                        "count": 1
                      },
                      {
                        "bin_start": 0.007436432821832373,
                        "bin_end": 0.16594850871588296,
                        "count": 1
                      },
                      {
                        "bin_start": 0.16594850871588296,
                        "bin_end": 0.32446058460993354,
                        "count": 1
                      },
                      {
                        "bin_start": 0.32446058460993354,
                        "bin_end": 0.48297266050398413,
                        "count": 0
                      },
                      {
                        "bin_start": 0.48297266050398413,
                        "bin_end": 0.6414847363980347,
                        "count": 0
                      },
                      {
                        "bin_start": 0.6414847363980347,
                        "bin_end": 0.7999968122920853,
                        "count": 0
                      },
                      {
                        "bin_start": 0.7999968122920853,
                        "bin_end": 0.958508888186136,
                        "count": 1
                      }
                    ]
                  }
                },
                {
                  "name": "V8",
                  "dtype": "float64",
                  "stats": {
                    "unique_count": 5,
                    "nan_count": 0,
                    "min": "-0.343147788307891",
                    "max": "1.41771860948732",
                    "histogram": [
                      {
                        "bin_start": -0.343147788307891,
                        "bin_end": -0.1670611485283699,
                        "count": 1
                      },
                      {
                        "bin_start": -0.1670611485283699,
                        "bin_end": 0.009025491251151208,
                        "count": 1
                      },
                      {
                        "bin_start": 0.009025491251151208,
                        "bin_end": 0.1851121310306723,
                        "count": 0
                      },
                      {
                        "bin_start": 0.1851121310306723,
                        "bin_end": 0.3611987708101934,
                        "count": 1
                      },
                      {
                        "bin_start": 0.3611987708101934,
                        "bin_end": 0.5372854105897145,
                        "count": 0
                      },
                      {
                        "bin_start": 0.5372854105897145,
                        "bin_end": 0.7133720503692356,
                        "count": 1
                      },
                      {
                        "bin_start": 0.7133720503692356,
                        "bin_end": 0.8894586901487567,
                        "count": 0
                      },
                      {
                        "bin_start": 0.8894586901487567,
                        "bin_end": 1.0655453299282778,
                        "count": 0
                      },
                      {
                        "bin_start": 1.0655453299282778,
                        "bin_end": 1.2416319697077989,
                        "count": 0
                      },
                      {
                        "bin_start": 1.2416319697077989,
                        "bin_end": 1.41771860948732,
                        "count": 1
                      }
                    ]
                  }
                },
                {
                  "name": "V9",
                  "dtype": "float64",
                  "stats": {
                    "unique_count": 5,
                    "nan_count": 0,
                    "min": "-0.569404275324679",
                    "max": "1.43479228937824",
                    "histogram": [
                      {
                        "bin_start": -0.569404275324679,
                        "bin_end": -0.36898461885438705,
                        "count": 1
                      },
                      {
                        "bin_start": -0.36898461885438705,
                        "bin_end": -0.16856496238409518,
                        "count": 1
                      },
                      {
                        "bin_start": -0.16856496238409518,
                        "bin_end": 0.03185469408619668,
                        "count": 1
                      },
                      {
                        "bin_start": 0.03185469408619668,
                        "bin_end": 0.2322743505564886,
                        "count": 1
                      },
                      {
                        "bin_start": 0.2322743505564886,
                        "bin_end": 0.4326940070267805,
                        "count": 0
                      },
                      {
                        "bin_start": 0.4326940070267805,
                        "bin_end": 0.6331136634970723,
                        "count": 0
                      },
                      {
                        "bin_start": 0.6331136634970723,
                        "bin_end": 0.8335333199673644,
                        "count": 0
                      },
                      {
                        "bin_start": 0.8335333199673644,
                        "bin_end": 1.0339529764376563,
                        "count": 0
                      },
                      {
                        "bin_start": 1.0339529764376563,
                        "bin_end": 1.2343726329079479,
                        "count": 0
                      },
                      {
                        "bin_start": 1.2343726329079479,
                        "bin_end": 1.43479228937824,
                        "count": 1
                      }
                    ]
                  }
                },
                {
                  "name": "V10",
                  "dtype": "float64",
                  "stats": {
                    "unique_count": 5,
                    "nan_count": 0,
                    "min": "-0.664835778004425",
                    "max": "-0.367989791655936",
                    "histogram": [
                      {
                        "bin_start": -0.664835778004425,
                        "bin_end": -0.6351511793695761,
                        "count": 1
                      },
                      {
                        "bin_start": -0.6351511793695761,
                        "bin_end": -0.6054665807347271,
                        "count": 0
                      },
                      {
                        "bin_start": -0.6054665807347271,
                        "bin_end": -0.5757819820998783,
                        "count": 1
                      },
                      {
                        "bin_start": -0.5757819820998783,
                        "bin_end": -0.5460973834650293,
                        "count": 1
                      },
                      {
                        "bin_start": -0.5460973834650293,
                        "bin_end": -0.5164127848301805,
                        "count": 0
                      },
                      {
                        "bin_start": -0.5164127848301805,
                        "bin_end": -0.4867281861953316,
                        "count": 0
                      },
                      {
                        "bin_start": -0.4867281861953316,
                        "bin_end": -0.4570435875604827,
                        "count": 0
                      },
                      {
                        "bin_start": -0.4570435875604827,
                        "bin_end": -0.4273589889256338,
                        "count": 0
                      },
                      {
                        "bin_start": -0.4273589889256338,
                        "bin_end": -0.3976743902907849,
                        "count": 1
                      },
                      {
                        "bin_start": -0.3976743902907849,
                        "bin_end": -0.367989791655936,
                        "count": 1
                      }
                    ]
                  }
                },
                {
                  "name": "V11",
                  "dtype": "float64",
                  "stats": {
                    "unique_count": 5,
                    "nan_count": 0,
                    "min": "-1.63510957415558",
                    "max": "1.06752603925398",
                    "histogram": [
                      {
                        "bin_start": -1.63510957415558,
                        "bin_end": -1.364846012814624,
                        "count": 1
                      },
                      {
                        "bin_start": -1.364846012814624,
                        "bin_end": -1.094582451473668,
                        "count": 0
                      },
                      {
                        "bin_start": -1.094582451473668,
                        "bin_end": -0.824318890132712,
                        "count": 0
                      },
                      {
                        "bin_start": -0.824318890132712,
                        "bin_end": -0.554055328791756,
                        "count": 1
                      },
                      {
                        "bin_start": -0.554055328791756,
                        "bin_end": -0.28379176745080015,
                        "count": 0
                      },
                      {
                        "bin_start": -0.28379176745080015,
                        "bin_end": -0.013528206109844065,
                        "count": 0
                      },
                      {
                        "bin_start": -0.013528206109844065,
                        "bin_end": 0.256735355231112,
                        "count": 0
                      },
                      {
                        "bin_start": 0.256735355231112,
                        "bin_end": 0.5269989165720679,
                        "count": 0
                      },
                      {
                        "bin_start": 0.5269989165720679,
                        "bin_end": 0.7972624779130237,
                        "count": 2
                      },
                      {
                        "bin_start": 0.7972624779130237,
                        "bin_end": 1.06752603925398,
                        "count": 1
                      }
                    ]
                  }
                },
                {
                  "name": "V12",
                  "dtype": "float64",
                  "stats": {
                    "unique_count": 5,
                    "nan_count": 0,
                    "min": "-1.97564061591929",
                    "max": "0.543838577559701",
                    "histogram": [
                      {
                        "bin_start": -1.97564061591929,
                        "bin_end": -1.723692696571391,
                        "count": 1
                      },
                      {
                        "bin_start": -1.723692696571391,
                        "bin_end": -1.471744777223492,
                        "count": 0
                      },
                      {
                        "bin_start": -1.471744777223492,
                        "bin_end": -1.2197968578755927,
                        "count": 0
                      },
                      {
                        "bin_start": -1.2197968578755927,
                        "bin_end": -0.9678489385276936,
                        "count": 0
                      },
                      {
                        "bin_start": -0.9678489385276936,
                        "bin_end": -0.7159010191797945,
                        "count": 0
                      },
                      {
                        "bin_start": -0.7159010191797945,
                        "bin_end": -0.46395309983189525,
                        "count": 0
                      },
                      {
                        "bin_start": -0.46395309983189525,
                        "bin_end": -0.2120051804839962,
                        "count": 1
                      },
                      {
                        "bin_start": -0.2120051804839962,
                        "bin_end": 0.03994273886390287,
                        "count": 0
                      },
                      {
                        "bin_start": 0.03994273886390287,
                        "bin_end": 0.29189065821180193,
                        "count": 1
                      },
                      {
                        "bin_start": 0.29189065821180193,
                        "bin_end": 0.543838577559701,
                        "count": 2
                      }
                    ]
                  }
                },
                {
                  "name": "V13",
                  "dtype": "float64",
                  "stats": {
                    "unique_count": 5,
                    "nan_count": 0,
                    "min": "-1.28407218238146",
                    "max": "2.63223545173596",
                    "histogram": [
                      {
                        "bin_start": -1.28407218238146,
                        "bin_end": -0.8924414189697181,
                        "count": 2
                      },
                      {
                        "bin_start": -0.8924414189697181,
                        "bin_end": -0.5008106555579761,
                        "count": 0
                      },
                      {
                        "bin_start": -0.5008106555579761,
                        "bin_end": -0.10917989214623414,
                        "count": 1
                      },
                      {
                        "bin_start": -0.10917989214623414,
                        "bin_end": 0.28245087126550783,
                        "count": 0
                      },
                      {
                        "bin_start": 0.28245087126550783,
                        "bin_end": 0.6740816346772498,
                        "count": 0
                      },
                      {
                        "bin_start": 0.6740816346772498,
                        "bin_end": 1.0657123980889918,
                        "count": 1
                      },
                      {
                        "bin_start": 1.0657123980889918,
                        "bin_end": 1.4573431615007337,
                        "count": 0
                      },
                      {
                        "bin_start": 1.4573431615007337,
                        "bin_end": 1.8489739249124757,
                        "count": 0
                      },
                      {
                        "bin_start": 1.8489739249124757,
                        "bin_end": 2.2406046883242174,
                        "count": 0
                      },
                      {
                        "bin_start": 2.2406046883242174,
                        "bin_end": 2.63223545173596,
                        "count": 1
                      }
                    ]
                  }
                },
                {
                  "name": "V14",
                  "dtype": "float64",
                  "stats": {
                    "unique_count": 5,
                    "nan_count": 0,
                    "min": "-0.108387996588784",
                    "max": "1.48669623921285",
                    "histogram": [
                      {
                        "bin_start": -0.108387996588784,
                        "bin_end": 0.051120426991379406,
                        "count": 1
                      },
                      {
                        "bin_start": 0.051120426991379406,
                        "bin_end": 0.2106288505715428,
                        "count": 1
                      },
                      {
                        "bin_start": 0.2106288505715428,
                        "bin_end": 0.3701372741517062,
                        "count": 0
                      },
                      {
                        "bin_start": 0.3701372741517062,
                        "bin_end": 0.5296456977318696,
                        "count": 0
                      },
                      {
                        "bin_start": 0.5296456977318696,
                        "bin_end": 0.689154121312033,
                        "count": 0
                      },
                      {
                        "bin_start": 0.689154121312033,
                        "bin_end": 0.8486625448921965,
                        "count": 1
                      },
                      {
                        "bin_start": 0.8486625448921965,
                        "bin_end": 1.0081709684723599,
                        "count": 1
                      },
                      {
                        "bin_start": 1.0081709684723599,
                        "bin_end": 1.1676793920525232,
                        "count": 0
                      },
                      {
                        "bin_start": 1.1676793920525232,
                        "bin_end": 1.3271878156326866,
                        "count": 0
                      },
                      {
                        "bin_start": 1.3271878156326866,
                        "bin_end": 1.48669623921285,
                        "count": 1
                      }
                    ]
                  }
                },
                {
                  "name": "V15",
                  "dtype": "float64",
                  "stats": {
                    "unique_count": 5,
                    "nan_count": 0,
                    "min": "-0.249739721710266",
                    "max": "1.03972240014926",
                    "histogram": [
                      {
                        "bin_start": -0.249739721710266,
                        "bin_end": -0.12079350952431342,
                        "count": 1
                      },
                      {
                        "bin_start": -0.12079350952431342,
                        "bin_end": 0.008152702661639172,
                        "count": 0
                      },
                      {
                        "bin_start": 0.008152702661639172,
                        "bin_end": 0.13709891484759176,
                        "count": 1
                      },
                      {
                        "bin_start": 0.13709891484759176,
                        "bin_end": 0.2660451270335443,
                        "count": 0
                      },
                      {
                        "bin_start": 0.2660451270335443,
                        "bin_end": 0.3949913392194969,
                        "count": 2
                      },
                      {
                        "bin_start": 0.3949913392194969,
                        "bin_end": 0.5239375514054495,
                        "count": 0
                      },
                      {
                        "bin_start": 0.5239375514054495,
                        "bin_end": 0.6528837635914021,
                        "count": 0
                      },
                      {
                        "bin_start": 0.6528837635914021,
                        "bin_end": 0.7818299757773547,
                        "count": 0
                      },
                      {
                        "bin_start": 0.7818299757773547,
                        "bin_end": 0.9107761879633073,
                        "count": 0
                      },
                      {
                        "bin_start": 0.9107761879633073,
                        "bin_end": 1.03972240014926,
                        "count": 1
                      }
                    ]
                  }
                },
                {
                  "name": "V16",
                  "dtype": "float64",
                  "stats": {
                    "unique_count": 5,
                    "nan_count": 0,
                    "min": "0.0921137292362263",
                    "max": "0.9464700358924",
                    "histogram": [
                      {
                        "bin_start": 0.0921137292362263,
                        "bin_end": 0.17754935990184367,
                        "count": 1
                      },
                      {
                        "bin_start": 0.17754935990184367,
                        "bin_end": 0.26298499056746105,
                        "count": 0
                      },
                      {
                        "bin_start": 0.26298499056746105,
                        "bin_end": 0.3484206212330784,
                        "count": 1
                      },
                      {
                        "bin_start": 0.3484206212330784,
                        "bin_end": 0.43385625189869576,
                        "count": 0
                      },
                      {
                        "bin_start": 0.43385625189869576,
                        "bin_end": 0.5192918825643131,
                        "count": 0
                      },
                      {
                        "bin_start": 0.5192918825643131,
                        "bin_end": 0.6047275132299305,
                        "count": 1
                      },
                      {
                        "bin_start": 0.6047275132299305,
                        "bin_end": 0.6901631438955479,
                        "count": 0
                      },
                      {
                        "bin_start": 0.6901631438955479,
                        "bin_end": 0.7755987745611652,
                        "count": 1
                      },
                      {
                        "bin_start": 0.7755987745611652,
                        "bin_end": 0.8610344052267825,
                        "count": 0
                      },
                      {
                        "bin_start": 0.8610344052267825,
                        "bin_end": 0.9464700358924,
                        "count": 1
                      }
                    ]
                  }
                },
                {
                  "name": "V17",
                  "dtype": "float64",
                  "stats": {
                    "unique_count": 5,
                    "nan_count": 0,
                    "min": "-0.602790925625086",
                    "max": "0.392466481774903",
                    "histogram": [
                      {
                        "bin_start": -0.602790925625086,
                        "bin_end": -0.5032651848850871,
                        "count": 2
                      },
                      {
                        "bin_start": -0.5032651848850871,
                        "bin_end": -0.40373944414508817,
                        "count": 1
                      },
                      {
                        "bin_start": -0.40373944414508817,
                        "bin_end": -0.30421370340508924,
                        "count": 0
                      },
                      {
                        "bin_start": -0.30421370340508924,
                        "bin_end": -0.20468796266509037,
                        "count": 0
                      },
                      {
                        "bin_start": -0.20468796266509037,
                        "bin_end": -0.1051622219250915,
                        "count": 0
                      },
                      {
                        "bin_start": -0.1051622219250915,
                        "bin_end": -0.005636481185092523,
                        "count": 0
                      },
                      {
                        "bin_start": -0.005636481185092523,
                        "bin_end": 0.09388925955490635,
                        "count": 0
                      },
                      {
                        "bin_start": 0.09388925955490635,
                        "bin_end": 0.19341500029490521,
                        "count": 0
                      },
                      {
                        "bin_start": 0.19341500029490521,
                        "bin_end": 0.2929407410349041,
                        "count": 1
                      },
                      {
                        "bin_start": 0.2929407410349041,
                        "bin_end": 0.392466481774903,
                        "count": 1
                      }
                    ]
                  }
                },
                {
                  "name": "V18",
                  "dtype": "float64",
                  "stats": {
                    "unique_count": 5,
                    "nan_count": 0,
                    "min": "-0.531827217579498",
                    "max": "0.528478177653258",
                    "histogram": [
                      {
                        "bin_start": -0.531827217579498,
                        "bin_end": -0.42579667805622246,
                        "count": 1
                      },
                      {
                        "bin_start": -0.42579667805622246,
                        "bin_end": -0.31976613853294683,
                        "count": 0
                      },
                      {
                        "bin_start": -0.31976613853294683,
                        "bin_end": -0.2137355990096712,
                        "count": 0
                      },
                      {
                        "bin_start": -0.2137355990096712,
                        "bin_end": -0.10770505948639564,
                        "count": 1
                      },
                      {
                        "bin_start": -0.10770505948639564,
                        "bin_end": -0.0016745199631200691,
                        "count": 0
                      },
                      {
                        "bin_start": -0.0016745199631200691,
                        "bin_end": 0.10435601956015561,
                        "count": 0
                      },
                      {
                        "bin_start": 0.10435601956015561,
                        "bin_end": 0.21038655908343118,
                        "count": 1
                      },
                      {
                        "bin_start": 0.21038655908343118,
                        "bin_end": 0.31641709860670675,
                        "count": 1
                      },
                      {
                        "bin_start": 0.31641709860670675,
                        "bin_end": 0.4224476381299823,
                        "count": 0
                      },
                      {
                        "bin_start": 0.4224476381299823,
                        "bin_end": 0.528478177653258,
                        "count": 1
                      }
                    ]
                  }
                },
                {
                  "name": "V19",
                  "dtype": "float64",
                  "stats": {
                    "unique_count": 5,
                    "nan_count": 0,
                    "min": "-0.581394477838234",
                    "max": "0.133497177444835",
                    "histogram": [
                      {
                        "bin_start": -0.581394477838234,
                        "bin_end": -0.5099053123099271,
                        "count": 1
                      },
                      {
                        "bin_start": -0.5099053123099271,
                        "bin_end": -0.43841614678162016,
                        "count": 0
                      },
                      {
                        "bin_start": -0.43841614678162016,
                        "bin_end": -0.36692698125331324,
                        "count": 1
                      },
                      {
                        "bin_start": -0.36692698125331324,
                        "bin_end": -0.2954378157250064,
                        "count": 0
                      },
                      {
                        "bin_start": -0.2954378157250064,
                        "bin_end": -0.22394865019669952,
                        "count": 0
                      },
                      {
                        "bin_start": -0.22394865019669952,
                        "bin_end": -0.1524594846683926,
                        "count": 0
                      },
                      {
                        "bin_start": -0.1524594846683926,
                        "bin_end": -0.08097031914008568,
                        "count": 0
                      },
                      {
                        "bin_start": -0.08097031914008568,
                        "bin_end": -0.009481153611778814,
                        "count": 0
                      },
                      {
                        "bin_start": -0.009481153611778814,
                        "bin_end": 0.06200801191652805,
                        "count": 2
                      },
                      {
                        "bin_start": 0.06200801191652805,
                        "bin_end": 0.133497177444835,
                        "count": 1
                      }
                    ]
                  }
                },
                {
                  "name": "V20",
                  "dtype": "float64",
                  "stats": {
                    "unique_count": 5,
                    "nan_count": 0,
                    "min": "-0.182135522209075",
                    "max": "0.0228180325371241",
                    "histogram": [
                      {
                        "bin_start": -0.182135522209075,
                        "bin_end": -0.16164016673445508,
                        "count": 1
                      },
                      {
                        "bin_start": -0.16164016673445508,
                        "bin_end": -0.1411448112598352,
                        "count": 0
                      },
                      {
                        "bin_start": -0.1411448112598352,
                        "bin_end": -0.12064945578521527,
                        "count": 1
                      },
                      {
                        "bin_start": -0.12064945578521527,
                        "bin_end": -0.10015410031059535,
                        "count": 0
                      },
                      {
                        "bin_start": -0.10015410031059535,
                        "bin_end": -0.07965874483597543,
                        "count": 0
                      },
                      {
                        "bin_start": -0.07965874483597543,
                        "bin_end": -0.059163389361355526,
                        "count": 0
                      },
                      {
                        "bin_start": -0.059163389361355526,
                        "bin_end": -0.03866803388673562,
                        "count": 1
                      },
                      {
                        "bin_start": -0.03866803388673562,
                        "bin_end": -0.0181726784121157,
                        "count": 1
                      },
                      {
                        "bin_start": -0.0181726784121157,
                        "bin_end": 0.0023226770625042192,
                        "count": 0
                      },
                      {
                        "bin_start": 0.0023226770625042192,
                        "bin_end": 0.0228180325371241,
                        "count": 1
                      }
                    ]
                  }
                },
                {
                  "name": "V21",
                  "dtype": "float64",
                  "stats": {
                    "unique_count": 5,
                    "nan_count": 0,
                    "min": "-0.308522071075241",
                    "max": "0.231412207250619",
                    "histogram": [
                      {
                        "bin_start": -0.308522071075241,
                        "bin_end": -0.254528643242655,
                        "count": 2
                      },
                      {
                        "bin_start": -0.254528643242655,
                        "bin_end": -0.20053521541006897,
                        "count": 0
                      },
                      {
                        "bin_start": -0.20053521541006897,
                        "bin_end": -0.14654178757748298,
                        "count": 0
                      },
                      {
                        "bin_start": -0.14654178757748298,
                        "bin_end": -0.09254835974489697,
                        "count": 1
                      },
                      {
                        "bin_start": -0.09254835974489697,
                        "bin_end": -0.038554931912310964,
                        "count": 0
                      },
                      {
                        "bin_start": -0.038554931912310964,
                        "bin_end": 0.01543849592027502,
                        "count": 0
                      },
                      {
                        "bin_start": 0.01543849592027502,
                        "bin_end": 0.06943192375286106,
                        "count": 0
                      },
                      {
                        "bin_start": 0.06943192375286106,
                        "bin_end": 0.12342535158544704,
                        "count": 0
                      },
                      {
                        "bin_start": 0.12342535158544704,
                        "bin_end": 0.17741877941803302,
                        "count": 0
                      },
                      {
                        "bin_start": 0.17741877941803302,
                        "bin_end": 0.231412207250619,
                        "count": 2
                      }
                    ]
                  }
                },
                {
                  "name": "V22",
                  "dtype": "float64",
                  "stats": {
                    "unique_count": 5,
                    "nan_count": 0,
                    "min": "-0.792706025161047",
                    "max": "0.594398217775333",
                    "histogram": [
                      {
                        "bin_start": -0.792706025161047,
                        "bin_end": -0.653995600867409,
                        "count": 2
                      },
                      {
                        "bin_start": -0.653995600867409,
                        "bin_end": -0.515285176573771,
                        "count": 0
                      },
                      {
                        "bin_start": -0.515285176573771,
                        "bin_end": -0.37657475228013304,
                        "count": 1
                      },
                      {
                        "bin_start": -0.37657475228013304,
                        "bin_end": -0.23786432798649504,
                        "count": 0
                      },
                      {
                        "bin_start": -0.23786432798649504,
                        "bin_end": -0.09915390369285704,
                        "count": 0
                      },
                      {
                        "bin_start": -0.09915390369285704,
                        "bin_end": 0.039556520600780964,
                        "count": 0
                      },
                      {
                        "bin_start": 0.039556520600780964,
                        "bin_end": 0.17826694489441897,
                        "count": 0
                      },
                      {
                        "bin_start": 0.17826694489441897,
                        "bin_end": 0.31697736918805697,
                        "count": 0
                      },
                      {
                        "bin_start": 0.31697736918805697,
                        "bin_end": 0.4556877934816951,
                        "count": 0
                      },
                      {
                        "bin_start": 0.4556877934816951,
                        "bin_end": 0.594398217775333,
                        "count": 2
                      }
                    ]
                  }
                },
                {
                  "name": "V23",
                  "dtype": "float64",
                  "stats": {
                    "unique_count": 5,
                    "nan_count": 0,
                    "min": "-0.091223385217054",
                    "max": "0.187859694319226",
                    "histogram": [
                      {
                        "bin_start": -0.091223385217054,
                        "bin_end": -0.063315077263426,
                        "count": 1
                      },
                      {
                        "bin_start": -0.063315077263426,
                        "bin_end": -0.03540676930979801,
                        "count": 0
                      },
                      {
                        "bin_start": -0.03540676930979801,
                        "bin_end": -0.007498461356170022,
                        "count": 0
                      },
                      {
                        "bin_start": -0.007498461356170022,
                        "bin_end": 0.02040984659745798,
                        "count": 3
                      },
                      {
                        "bin_start": 0.02040984659745798,
                        "bin_end": 0.048318154551085984,
                        "count": 0
                      },
                      {
                        "bin_start": 0.048318154551085984,
                        "bin_end": 0.07622646250471396,
                        "count": 0
                      },
                      {
                        "bin_start": 0.07622646250471396,
                        "bin_end": 0.10413477045834196,
                        "count": 0
                      },
                      {
                        "bin_start": 0.10413477045834196,
                        "bin_end": 0.13204307841196997,
                        "count": 0
                      },
                      {
                        "bin_start": 0.13204307841196997,
                        "bin_end": 0.15995138636559794,
                        "count": 0
                      },
                      {
                        "bin_start": 0.15995138636559794,
                        "bin_end": 0.187859694319226,
                        "count": 1
                      }
                    ]
                  }
                },
                {
                  "name": "V24",
                  "dtype": "float64",
                  "stats": {
                    "unique_count": 5,
                    "nan_count": 0,
                    "min": "-0.795096988303028",
                    "max": "0.462691961626237",
                    "histogram": [
                      {
                        "bin_start": -0.795096988303028,
                        "bin_end": -0.6693180933101015,
                        "count": 1
                      },
                      {
                        "bin_start": -0.6693180933101015,
                        "bin_end": -0.543539198317175,
                        "count": 0
                      },
                      {
                        "bin_start": -0.543539198317175,
                        "bin_end": -0.4177603033242485,
                        "count": 0
                      },
                      {
                        "bin_start": -0.4177603033242485,
                        "bin_end": -0.291981408331322,
                        "count": 0
                      },
                      {
                        "bin_start": -0.291981408331322,
                        "bin_end": -0.16620251333839553,
                        "count": 1
                      },
                      {
                        "bin_start": -0.16620251333839553,
                        "bin_end": -0.04042361834546904,
                        "count": 0
                      },
                      {
                        "bin_start": -0.04042361834546904,
                        "bin_end": 0.08535527664745746,
                        "count": 1
                      },
                      {
                        "bin_start": 0.08535527664745746,
                        "bin_end": 0.21113417164038395,
                        "count": 0
                      },
                      {
                        "bin_start": 0.21113417164038395,
                        "bin_end": 0.33691306663331033,
                        "count": 0
                      },
                      {
                        "bin_start": 0.33691306663331033,
                        "bin_end": 0.462691961626237,
                        "count": 2
                      }
                    ]
                  }
                },
                {
                  "name": "V25",
                  "dtype": "float64",
                  "stats": {
                    "unique_count": 5,
                    "nan_count": 0,
                    "min": "-0.537960890685324",
                    "max": "0.289946788260222",
                    "histogram": [
                      {
                        "bin_start": -0.537960890685324,
                        "bin_end": -0.4551701227907694,
                        "count": 2
                      },
                      {
                        "bin_start": -0.4551701227907694,
                        "bin_end": -0.3723793548962148,
                        "count": 1
                      },
                      {
                        "bin_start": -0.3723793548962148,
                        "bin_end": -0.28958858700166024,
                        "count": 0
                      },
                      {
                        "bin_start": -0.28958858700166024,
                        "bin_end": -0.2067978191071056,
                        "count": 0
                      },
                      {
                        "bin_start": -0.2067978191071056,
                        "bin_end": -0.12400705121255096,
                        "count": 1
                      },
                      {
                        "bin_start": -0.12400705121255096,
                        "bin_end": -0.04121628331799637,
                        "count": 0
                      },
                      {
                        "bin_start": -0.04121628331799637,
                        "bin_end": 0.04157448457655821,
                        "count": 0
                      },
                      {
                        "bin_start": 0.04157448457655821,
                        "bin_end": 0.12436525247111285,
                        "count": 0
                      },
                      {
                        "bin_start": 0.12436525247111285,
                        "bin_end": 0.2071560203656675,
                        "count": 0
                      },
                      {
                        "bin_start": 0.2071560203656675,
                        "bin_end": 0.289946788260222,
                        "count": 1
                      }
                    ]
                  }
                },
                {
                  "name": "V26",
                  "dtype": "float64",
                  "stats": {
                    "unique_count": 5,
                    "nan_count": 0,
                    "min": "0.0509574928390291",
                    "max": "0.940002579182284",
                    "histogram": [
                      {
                        "bin_start": 0.0509574928390291,
                        "bin_end": 0.1398620014733546,
                        "count": 1
                      },
                      {
                        "bin_start": 0.1398620014733546,
                        "bin_end": 0.22876651010768012,
                        "count": 1
                      },
                      {
                        "bin_start": 0.22876651010768012,
                        "bin_end": 0.3176710187420056,
                        "count": 1
                      },
                      {
                        "bin_start": 0.3176710187420056,
                        "bin_end": 0.4065755273763311,
                        "count": 0
                      },
                      {
                        "bin_start": 0.4065755273763311,
                        "bin_end": 0.49548003601065665,
                        "count": 0
                      },
                      {
                        "bin_start": 0.49548003601065665,
                        "bin_end": 0.584384544644982,
                        "count": 0
                      },
                      {
                        "bin_start": 0.584384544644982,
                        "bin_end": 0.6732890532793075,
                        "count": 0
                      },
                      {
                        "bin_start": 0.6732890532793075,
                        "bin_end": 0.7621935619136331,
                        "count": 0
                      },
                      {
                        "bin_start": 0.7621935619136331,
                        "bin_end": 0.8510980705479586,
                        "count": 0
                      },
                      {
                        "bin_start": 0.8510980705479586,
                        "bin_end": 0.940002579182284,
                        "count": 2
                      }
                    ]
                  }
                },
                {
                  "name": "V27",
                  "dtype": "float64",
                  "stats": {
                    "unique_count": 5,
                    "nan_count": 0,
                    "min": "-0.133610377606753",
                    "max": "0.245503411128123",
                    "histogram": [
                      {
                        "bin_start": -0.133610377606753,
                        "bin_end": -0.09569899873326541,
                        "count": 2
                      },
                      {
                        "bin_start": -0.09569899873326541,
                        "bin_end": -0.05778761985977782,
                        "count": 0
                      },
                      {
                        "bin_start": -0.05778761985977782,
                        "bin_end": -0.01987624098629022,
                        "count": 0
                      },
                      {
                        "bin_start": -0.01987624098629022,
                        "bin_end": 0.018035137887197378,
                        "count": 0
                      },
                      {
                        "bin_start": 0.018035137887197378,
                        "bin_end": 0.05594651676068499,
                        "count": 0
                      },
                      {
                        "bin_start": 0.05594651676068499,
                        "bin_end": 0.09385789563417257,
                        "count": 0
                      },
                      {
                        "bin_start": 0.09385789563417257,
                        "bin_end": 0.13176927450766016,
                        "count": 1
                      },
                      {
                        "bin_start": 0.13176927450766016,
                        "bin_end": 0.16968065338114777,
                        "count": 0
                      },
                      {
                        "bin_start": 0.16968065338114777,
                        "bin_end": 0.20759203225463538,
                        "count": 1
                      },
                      {
                        "bin_start": 0.20759203225463538,
                        "bin_end": 0.245503411128123,
                        "count": 1
                      }
                    ]
                  }
                },
                {
                  "name": "V28",
                  "dtype": "float64",
                  "stats": {
                    "unique_count": 5,
                    "nan_count": 0,
                    "min": "-0.0899850464859329",
                    "max": "0.126247405253074",
                    "histogram": [
                      {
                        "bin_start": -0.0899850464859329,
                        "bin_end": -0.0683618013120322,
                        "count": 1
                      },
                      {
                        "bin_start": -0.0683618013120322,
                        "bin_end": -0.04673855613813152,
                        "count": 1
                      },
                      {
                        "bin_start": -0.04673855613813152,
                        "bin_end": -0.025115310964230822,
                        "count": 0
                      },
                      {
                        "bin_start": -0.025115310964230822,
                        "bin_end": -0.003492065790330137,
                        "count": 0
                      },
                      {
                        "bin_start": -0.003492065790330137,
                        "bin_end": 0.018131179383570548,
                        "count": 1
                      },
                      {
                        "bin_start": 0.018131179383570548,
                        "bin_end": 0.03975442455747126,
                        "count": 0
                      },
                      {
                        "bin_start": 0.03975442455747126,
                        "bin_end": 0.061377669731371945,
                        "count": 0
                      },
                      {
                        "bin_start": 0.061377669731371945,
                        "bin_end": 0.08300091490527263,
                        "count": 0
                      },
                      {
                        "bin_start": 0.08300091490527263,
                        "bin_end": 0.10462416007917331,
                        "count": 1
                      },
                      {
                        "bin_start": 0.10462416007917331,
                        "bin_end": 0.126247405253074,
                        "count": 1
                      }
                    ]
                  }
                },
                {
                  "name": "Amount",
                  "dtype": "float64",
                  "stats": {
                    "unique_count": 5,
                    "nan_count": 0,
                    "min": "2.92",
                    "max": "135.12",
                    "histogram": [
                      {
                        "bin_start": 2.92,
                        "bin_end": 16.14,
                        "count": 3
                      },
                      {
                        "bin_start": 16.14,
                        "bin_end": 29.360000000000007,
                        "count": 1
                      },
                      {
                        "bin_start": 29.360000000000007,
                        "bin_end": 42.58000000000001,
                        "count": 0
                      },
                      {
                        "bin_start": 42.58000000000001,
                        "bin_end": 55.80000000000001,
                        "count": 0
                      },
                      {
                        "bin_start": 55.80000000000001,
                        "bin_end": 69.02000000000001,
                        "count": 0
                      },
                      {
                        "bin_start": 69.02000000000001,
                        "bin_end": 82.24000000000002,
                        "count": 0
                      },
                      {
                        "bin_start": 82.24000000000002,
                        "bin_end": 95.46000000000002,
                        "count": 0
                      },
                      {
                        "bin_start": 95.46000000000002,
                        "bin_end": 108.68000000000002,
                        "count": 0
                      },
                      {
                        "bin_start": 108.68000000000002,
                        "bin_end": 121.90000000000002,
                        "count": 0
                      },
                      {
                        "bin_start": 121.90000000000002,
                        "bin_end": 135.12,
                        "count": 1
                      }
                    ]
                  }
                },
                {
                  "name": "Class",
                  "dtype": "int64",
                  "stats": {
                    "unique_count": 1,
                    "nan_count": 0,
                    "min": "0",
                    "max": "0",
                    "histogram": [
                      {
                        "bin_start": -0.5,
                        "bin_end": -0.4,
                        "count": 0
                      },
                      {
                        "bin_start": -0.4,
                        "bin_end": -0.3,
                        "count": 0
                      },
                      {
                        "bin_start": -0.3,
                        "bin_end": -0.19999999999999996,
                        "count": 0
                      },
                      {
                        "bin_start": -0.19999999999999996,
                        "bin_end": -0.09999999999999998,
                        "count": 0
                      },
                      {
                        "bin_start": -0.09999999999999998,
                        "bin_end": 0,
                        "count": 0
                      },
                      {
                        "bin_start": 0,
                        "bin_end": 0.10000000000000009,
                        "count": 5
                      },
                      {
                        "bin_start": 0.10000000000000009,
                        "bin_end": 0.20000000000000007,
                        "count": 0
                      },
                      {
                        "bin_start": 0.20000000000000007,
                        "bin_end": 0.30000000000000004,
                        "count": 0
                      },
                      {
                        "bin_start": 0.30000000000000004,
                        "bin_end": 0.4,
                        "count": 0
                      },
                      {
                        "bin_start": 0.4,
                        "bin_end": 0.5,
                        "count": 0
                      }
                    ]
                  }
                },
                {
                  "name": "_deepnote_index_column",
                  "dtype": "int64"
                }
              ],
              "rows": [
                {
                  "Time": 66872,
                  "V1": -0.642207712094521,
                  "V2": 0.747688832764177,
                  "V3": 1.36569891652154,
                  "V4": 0.185787555741503,
                  "V5": -1.40072583781409,
                  "V6": -0.221357004148771,
                  "V7": 0.219726422938008,
                  "V8": 0.33441349250343,
                  "V9": -0.0943999054999392,
                  "V10": -0.664835778004425,
                  "V11": -0.556092444433928,
                  "V12": 0.478714906254832,
                  "V13": 1.04565910857351,
                  "V14": -0.108387996588784,
                  "V15": 1.03972240014926,
                  "V16": 0.752475527596328,
                  "V17": -0.537036871909666,
                  "V18": 0.263262869501653,
                  "V19": -0.405243008557225,
                  "V20": -0.123122350975765,
                  "V21": 0.229884669697318,
                  "V22": 0.581676265556928,
                  "V23": 0.187859694319226,
                  "V24": 0.421071856248885,
                  "V25": -0.537960890685324,
                  "V26": 0.23367225813047,
                  "V27": -0.133610377606753,
                  "V28": -0.0494607698428371,
                  "Amount": 135.12,
                  "Class": 0,
                  "_deepnote_index_column": 98921
                },
                {
                  "Time": 59001,
                  "V1": -2.3636121023424,
                  "V2": 1.40650912806222,
                  "V3": -0.0860277755277931,
                  "V4": 0.208324378362321,
                  "V5": -1.02001894603257,
                  "V6": -1.14599488667542,
                  "V7": -0.62661187075437,
                  "V8": 1.41771860948732,
                  "V9": -0.569404275324679,
                  "V10": -0.367989791655936,
                  "V11": 1.06752603925398,
                  "V12": 0.543838577559701,
                  "V13": -1.02915002685477,
                  "V14": 0.865110698022964,
                  "V15": 0.278486216164455,
                  "V16": 0.9464700358924,
                  "V17": 0.392466481774903,
                  "V18": 0.528478177653258,
                  "V19": 0.0445385389214301,
                  "V20": 0.0228180325371241,
                  "V21": -0.139019157379363,
                  "V22": -0.792706025161047,
                  "V23": -0.0062542200098322,
                  "V24": 0.462691961626237,
                  "V25": -0.133854671803982,
                  "V26": 0.0509574928390291,
                  "V27": 0.116801788271298,
                  "V28": -0.0899850464859329,
                  "Amount": 21.99,
                  "Class": 0,
                  "_deepnote_index_column": 81586
                },
                {
                  "Time": 71632,
                  "V1": -0.814739599808399,
                  "V2": 0.876843258030269,
                  "V3": 0.695513605951021,
                  "V4": -1.14275846825675,
                  "V5": -0.0684405414164723,
                  "V6": -0.250028548498715,
                  "V7": 0.0910572483131322,
                  "V8": 0.68080162421613,
                  "V9": -0.32657668056129,
                  "V10": -0.567466507058733,
                  "V11": 0.687324202600483,
                  "V12": 0.044984724782587,
                  "V13": -1.28407218238146,
                  "V14": 0.81465635139856,
                  "V15": 0.0273875924610273,
                  "V16": 0.546720398020127,
                  "V17": -0.430305445789268,
                  "V18": 0.123468593028568,
                  "V19": -0.581394477838234,
                  "V20": -0.182135522209075,
                  "V21": 0.231412207250619,
                  "V22": 0.594398217775333,
                  "V23": -0.091223385217054,
                  "V24": -0.259163377605051,
                  "V25": -0.524969905090669,
                  "V26": 0.932075257390324,
                  "V27": 0.181147755266335,
                  "V28": 0.126247405253074,
                  "Amount": 2.92,
                  "Class": 0,
                  "_deepnote_index_column": 109996
                },
                {
                  "Time": 160941,
                  "V1": 0.0844451194290738,
                  "V2": 0.797126242810872,
                  "V3": -0.0396358176673051,
                  "V4": -0.765186385790988,
                  "V5": 0.761258758828919,
                  "V6": -0.612601612096436,
                  "V7": 0.958508888186136,
                  "V8": -0.107648111203534,
                  "V9": 0.0748454972157969,
                  "V10": -0.406913145506241,
                  "V11": -1.63510957415558,
                  "V12": -0.338292454564029,
                  "V13": -0.319100123579898,
                  "V14": 0.163945644715206,
                  "V15": -0.249739721710266,
                  "V16": 0.0921137292362263,
                  "V17": -0.602790925625086,
                  "V18": -0.531827217579498,
                  "V19": 0.133497177444835,
                  "V20": -0.044416837707197,
                  "V21": -0.308522071075241,
                  "V22": -0.725649101394626,
                  "V23": -0.0064468165810629,
                  "V24": -0.795096988303028,
                  "V25": -0.417302402681075,
                  "V26": 0.192065572222785,
                  "V27": 0.245503411128123,
                  "V28": 0.0883350672838831,
                  "Amount": 5.57,
                  "Class": 0,
                  "_deepnote_index_column": 263407
                },
                {
                  "Time": 4650,
                  "V1": 1.30921807757357,
                  "V2": 0.173160577384172,
                  "V3": 0.354728119642883,
                  "V4": 0.0514970827062902,
                  "V5": -0.306266612292658,
                  "V6": -0.87868491052526,
                  "V7": -0.0533699125861144,
                  "V8": -0.343147788307891,
                  "V9": 1.43479228937824,
                  "V10": -0.589279964923802,
                  "V11": 0.548737930974356,
                  "V12": -1.97564061591929,
                  "V13": 2.63223545173596,
                  "V14": 1.48669623921285,
                  "V15": 0.33570514855047,
                  "V16": 0.294159336761886,
                  "V17": 0.251034070427439,
                  "V18": -0.206582677301381,
                  "V19": -0.0053302155235755,
                  "V20": -0.0281545828090232,
                  "V21": -0.268789578247224,
                  "V22": -0.489105255335634,
                  "V23": -0.0049484069703363,
                  "V24": 0.0601256245254129,
                  "V25": 0.289946788260222,
                  "V26": 0.940002579182284,
                  "V27": -0.10748079363177,
                  "V28": -0.0028863134483749,
                  "Amount": 12.3,
                  "Class": 0,
                  "_deepnote_index_column": 5039
                }
              ]
            },
            "text/plain": "            Time        V1        V2        V3        V4        V5        V6  \\\n98921    66872.0 -0.642208  0.747689  1.365699  0.185788 -1.400726 -0.221357   \n81586    59001.0 -2.363612  1.406509 -0.086028  0.208324 -1.020019 -1.145995   \n109996   71632.0 -0.814740  0.876843  0.695514 -1.142758 -0.068441 -0.250029   \n263407  160941.0  0.084445  0.797126 -0.039636 -0.765186  0.761259 -0.612602   \n5039      4650.0  1.309218  0.173161  0.354728  0.051497 -0.306267 -0.878685   \n\n              V7        V8        V9  ...       V21       V22       V23  \\\n98921   0.219726  0.334413 -0.094400  ...  0.229885  0.581676  0.187860   \n81586  -0.626612  1.417719 -0.569404  ... -0.139019 -0.792706 -0.006254   \n109996  0.091057  0.680802 -0.326577  ...  0.231412  0.594398 -0.091223   \n263407  0.958509 -0.107648  0.074845  ... -0.308522 -0.725649 -0.006447   \n5039   -0.053370 -0.343148  1.434792  ... -0.268790 -0.489105 -0.004948   \n\n             V24       V25       V26       V27       V28  Amount  Class  \n98921   0.421072 -0.537961  0.233672 -0.133610 -0.049461  135.12      0  \n81586   0.462692 -0.133855  0.050957  0.116802 -0.089985   21.99      0  \n109996 -0.259163 -0.524970  0.932075  0.181148  0.126247    2.92      0  \n263407 -0.795097 -0.417302  0.192066  0.245503  0.088335    5.57      0  \n5039    0.060126  0.289947  0.940003 -0.107481 -0.002886   12.30      0  \n\n[5 rows x 31 columns]",
            "text/html": "<div>\n<style scoped>\n    .dataframe tbody tr th:only-of-type {\n        vertical-align: middle;\n    }\n\n    .dataframe tbody tr th {\n        vertical-align: top;\n    }\n\n    .dataframe thead th {\n        text-align: right;\n    }\n</style>\n<table border=\"1\" class=\"dataframe\">\n  <thead>\n    <tr style=\"text-align: right;\">\n      <th></th>\n      <th>Time</th>\n      <th>V1</th>\n      <th>V2</th>\n      <th>V3</th>\n      <th>V4</th>\n      <th>V5</th>\n      <th>V6</th>\n      <th>V7</th>\n      <th>V8</th>\n      <th>V9</th>\n      <th>...</th>\n      <th>V21</th>\n      <th>V22</th>\n      <th>V23</th>\n      <th>V24</th>\n      <th>V25</th>\n      <th>V26</th>\n      <th>V27</th>\n      <th>V28</th>\n      <th>Amount</th>\n      <th>Class</th>\n    </tr>\n  </thead>\n  <tbody>\n    <tr>\n      <th>98921</th>\n      <td>66872.0</td>\n      <td>-0.642208</td>\n      <td>0.747689</td>\n      <td>1.365699</td>\n      <td>0.185788</td>\n      <td>-1.400726</td>\n      <td>-0.221357</td>\n      <td>0.219726</td>\n      <td>0.334413</td>\n      <td>-0.094400</td>\n      <td>...</td>\n      <td>0.229885</td>\n      <td>0.581676</td>\n      <td>0.187860</td>\n      <td>0.421072</td>\n      <td>-0.537961</td>\n      <td>0.233672</td>\n      <td>-0.133610</td>\n      <td>-0.049461</td>\n      <td>135.12</td>\n      <td>0</td>\n    </tr>\n    <tr>\n      <th>81586</th>\n      <td>59001.0</td>\n      <td>-2.363612</td>\n      <td>1.406509</td>\n      <td>-0.086028</td>\n      <td>0.208324</td>\n      <td>-1.020019</td>\n      <td>-1.145995</td>\n      <td>-0.626612</td>\n      <td>1.417719</td>\n      <td>-0.569404</td>\n      <td>...</td>\n      <td>-0.139019</td>\n      <td>-0.792706</td>\n      <td>-0.006254</td>\n      <td>0.462692</td>\n      <td>-0.133855</td>\n      <td>0.050957</td>\n      <td>0.116802</td>\n      <td>-0.089985</td>\n      <td>21.99</td>\n      <td>0</td>\n    </tr>\n    <tr>\n      <th>109996</th>\n      <td>71632.0</td>\n      <td>-0.814740</td>\n      <td>0.876843</td>\n      <td>0.695514</td>\n      <td>-1.142758</td>\n      <td>-0.068441</td>\n      <td>-0.250029</td>\n      <td>0.091057</td>\n      <td>0.680802</td>\n      <td>-0.326577</td>\n      <td>...</td>\n      <td>0.231412</td>\n      <td>0.594398</td>\n      <td>-0.091223</td>\n      <td>-0.259163</td>\n      <td>-0.524970</td>\n      <td>0.932075</td>\n      <td>0.181148</td>\n      <td>0.126247</td>\n      <td>2.92</td>\n      <td>0</td>\n    </tr>\n    <tr>\n      <th>263407</th>\n      <td>160941.0</td>\n      <td>0.084445</td>\n      <td>0.797126</td>\n      <td>-0.039636</td>\n      <td>-0.765186</td>\n      <td>0.761259</td>\n      <td>-0.612602</td>\n      <td>0.958509</td>\n      <td>-0.107648</td>\n      <td>0.074845</td>\n      <td>...</td>\n      <td>-0.308522</td>\n      <td>-0.725649</td>\n      <td>-0.006447</td>\n      <td>-0.795097</td>\n      <td>-0.417302</td>\n      <td>0.192066</td>\n      <td>0.245503</td>\n      <td>0.088335</td>\n      <td>5.57</td>\n      <td>0</td>\n    </tr>\n    <tr>\n      <th>5039</th>\n      <td>4650.0</td>\n      <td>1.309218</td>\n      <td>0.173161</td>\n      <td>0.354728</td>\n      <td>0.051497</td>\n      <td>-0.306267</td>\n      <td>-0.878685</td>\n      <td>-0.053370</td>\n      <td>-0.343148</td>\n      <td>1.434792</td>\n      <td>...</td>\n      <td>-0.268790</td>\n      <td>-0.489105</td>\n      <td>-0.004948</td>\n      <td>0.060126</td>\n      <td>0.289947</td>\n      <td>0.940003</td>\n      <td>-0.107481</td>\n      <td>-0.002886</td>\n      <td>12.30</td>\n      <td>0</td>\n    </tr>\n  </tbody>\n</table>\n<p>5 rows × 31 columns</p>\n</div>"
          },
          "metadata": {}
        }
      ],
      "outputs_reference": null,
      "execution_count": null,
      "block_group": "d65b4df51ad14310a3e7854b301b6892",
      "content_dependencies": null
    },
    {
      "cell_type": "code",
      "source": "new_dataset.tail()",
      "metadata": {
        "source_hash": null,
        "execution_start": 1726975094299,
        "execution_millis": 63,
        "deepnote_to_be_reexecuted": false,
        "cell_id": "14c51904bbda440fa9ee6f8e4ac6c80c",
        "deepnote_cell_type": "code"
      },
      "outputs": [
        {
          "output_type": "execute_result",
          "execution_count": 14,
          "data": {
            "application/vnd.deepnote.dataframe.v3+json": {
              "column_count": 31,
              "row_count": 5,
              "columns": [
                {
                  "name": "Time",
                  "dtype": "float64",
                  "stats": {
                    "unique_count": 5,
                    "nan_count": 0,
                    "min": "169142.0",
                    "max": "170348.0",
                    "histogram": [
                      {
                        "bin_start": 169142,
                        "bin_end": 169262.6,
                        "count": 1
                      },
                      {
                        "bin_start": 169262.6,
                        "bin_end": 169383.2,
                        "count": 2
                      },
                      {
                        "bin_start": 169383.2,
                        "bin_end": 169503.8,
                        "count": 0
                      },
                      {
                        "bin_start": 169503.8,
                        "bin_end": 169624.4,
                        "count": 0
                      },
                      {
                        "bin_start": 169624.4,
                        "bin_end": 169745,
                        "count": 0
                      },
                      {
                        "bin_start": 169745,
                        "bin_end": 169865.6,
                        "count": 0
                      },
                      {
                        "bin_start": 169865.6,
                        "bin_end": 169986.2,
                        "count": 1
                      },
                      {
                        "bin_start": 169986.2,
                        "bin_end": 170106.8,
                        "count": 0
                      },
                      {
                        "bin_start": 170106.8,
                        "bin_end": 170227.4,
                        "count": 0
                      },
                      {
                        "bin_start": 170227.4,
                        "bin_end": 170348,
                        "count": 1
                      }
                    ]
                  }
                },
                {
                  "name": "V1",
                  "dtype": "float64",
                  "stats": {
                    "unique_count": 5,
                    "nan_count": 0,
                    "min": "-3.11383160738512",
                    "max": "1.9919760961759",
                    "histogram": [
                      {
                        "bin_start": -3.11383160738512,
                        "bin_end": -2.603250837029018,
                        "count": 1
                      },
                      {
                        "bin_start": -2.603250837029018,
                        "bin_end": -2.092670066672916,
                        "count": 0
                      },
                      {
                        "bin_start": -2.092670066672916,
                        "bin_end": -1.582089296316814,
                        "count": 1
                      },
                      {
                        "bin_start": -1.582089296316814,
                        "bin_end": -1.071508525960712,
                        "count": 0
                      },
                      {
                        "bin_start": -1.071508525960712,
                        "bin_end": -0.56092775560461,
                        "count": 1
                      },
                      {
                        "bin_start": -0.56092775560461,
                        "bin_end": -0.05034698524850789,
                        "count": 0
                      },
                      {
                        "bin_start": -0.05034698524850789,
                        "bin_end": 0.46023378510759416,
                        "count": 0
                      },
                      {
                        "bin_start": 0.46023378510759416,
                        "bin_end": 0.9708145554636962,
                        "count": 0
                      },
                      {
                        "bin_start": 0.9708145554636962,
                        "bin_end": 1.4813953258197978,
                        "count": 1
                      },
                      {
                        "bin_start": 1.4813953258197978,
                        "bin_end": 1.9919760961759,
                        "count": 1
                      }
                    ]
                  }
                },
                {
                  "name": "V2",
                  "dtype": "float64",
                  "stats": {
                    "unique_count": 5,
                    "nan_count": 0,
                    "min": "0.158475887304227",
                    "max": "1.28938093711056",
                    "histogram": [
                      {
                        "bin_start": 0.158475887304227,
                        "bin_end": 0.2715663922848603,
                        "count": 1
                      },
                      {
                        "bin_start": 0.2715663922848603,
                        "bin_end": 0.38465689726549357,
                        "count": 0
                      },
                      {
                        "bin_start": 0.38465689726549357,
                        "bin_end": 0.4977474022461269,
                        "count": 0
                      },
                      {
                        "bin_start": 0.4977474022461269,
                        "bin_end": 0.6108379072267602,
                        "count": 1
                      },
                      {
                        "bin_start": 0.6108379072267602,
                        "bin_end": 0.7239284122073936,
                        "count": 0
                      },
                      {
                        "bin_start": 0.7239284122073936,
                        "bin_end": 0.8370189171880268,
                        "count": 0
                      },
                      {
                        "bin_start": 0.8370189171880268,
                        "bin_end": 0.9501094221686601,
                        "count": 0
                      },
                      {
                        "bin_start": 0.9501094221686601,
                        "bin_end": 1.0631999271492933,
                        "count": 0
                      },
                      {
                        "bin_start": 1.0631999271492933,
                        "bin_end": 1.1762904321299266,
                        "count": 2
                      },
                      {
                        "bin_start": 1.1762904321299266,
                        "bin_end": 1.28938093711056,
                        "count": 1
                      }
                    ]
                  }
                },
                {
                  "name": "V3",
                  "dtype": "float64",
                  "stats": {
                    "unique_count": 5,
                    "nan_count": 0,
                    "min": "-5.39973021073242",
                    "max": "-2.21369952308058",
                    "histogram": [
                      {
                        "bin_start": -5.39973021073242,
                        "bin_end": -5.081127141967236,
                        "count": 1
                      },
                      {
                        "bin_start": -5.081127141967236,
                        "bin_end": -4.7625240732020515,
                        "count": 1
                      },
                      {
                        "bin_start": -4.7625240732020515,
                        "bin_end": -4.443921004436868,
                        "count": 1
                      },
                      {
                        "bin_start": -4.443921004436868,
                        "bin_end": -4.125317935671684,
                        "count": 0
                      },
                      {
                        "bin_start": -4.125317935671684,
                        "bin_end": -3.8067148669065,
                        "count": 0
                      },
                      {
                        "bin_start": -3.8067148669065,
                        "bin_end": -3.4881117981413157,
                        "count": 0
                      },
                      {
                        "bin_start": -3.4881117981413157,
                        "bin_end": -3.169508729376132,
                        "count": 0
                      },
                      {
                        "bin_start": -3.169508729376132,
                        "bin_end": -2.8509056606109477,
                        "count": 0
                      },
                      {
                        "bin_start": -2.8509056606109477,
                        "bin_end": -2.5323025918457636,
                        "count": 1
                      },
                      {
                        "bin_start": -2.5323025918457636,
                        "bin_end": -2.21369952308058,
                        "count": 1
                      }
                    ]
                  }
                },
                {
                  "name": "V4",
                  "dtype": "float64",
                  "stats": {
                    "unique_count": 5,
                    "nan_count": 0,
                    "min": "0.408669992998441",
                    "max": "1.81709247345531",
                    "histogram": [
                      {
                        "bin_start": 0.408669992998441,
                        "bin_end": 0.5495122410441279,
                        "count": 2
                      },
                      {
                        "bin_start": 0.5495122410441279,
                        "bin_end": 0.6903544890898148,
                        "count": 0
                      },
                      {
                        "bin_start": 0.6903544890898148,
                        "bin_end": 0.8311967371355017,
                        "count": 0
                      },
                      {
                        "bin_start": 0.8311967371355017,
                        "bin_end": 0.9720389851811886,
                        "count": 0
                      },
                      {
                        "bin_start": 0.9720389851811886,
                        "bin_end": 1.1128812332268754,
                        "count": 0
                      },
                      {
                        "bin_start": 1.1128812332268754,
                        "bin_end": 1.2537234812725624,
                        "count": 0
                      },
                      {
                        "bin_start": 1.2537234812725624,
                        "bin_end": 1.3945657293182494,
                        "count": 0
                      },
                      {
                        "bin_start": 1.3945657293182494,
                        "bin_end": 1.5354079773639362,
                        "count": 1
                      },
                      {
                        "bin_start": 1.5354079773639362,
                        "bin_end": 1.676250225409623,
                        "count": 0
                      },
                      {
                        "bin_start": 1.676250225409623,
                        "bin_end": 1.81709247345531,
                        "count": 2
                      }
                    ]
                  }
                },
                {
                  "name": "V5",
                  "dtype": "float64",
                  "stats": {
                    "unique_count": 5,
                    "nan_count": 0,
                    "min": "-1.56648729197754",
                    "max": "1.15114706077937",
                    "histogram": [
                      {
                        "bin_start": -1.56648729197754,
                        "bin_end": -1.294723856701849,
                        "count": 1
                      },
                      {
                        "bin_start": -1.294723856701849,
                        "bin_end": -1.022960421426158,
                        "count": 1
                      },
                      {
                        "bin_start": -1.022960421426158,
                        "bin_end": -0.751196986150467,
                        "count": 1
                      },
                      {
                        "bin_start": -0.751196986150467,
                        "bin_end": -0.479433550874776,
                        "count": 0
                      },
                      {
                        "bin_start": -0.479433550874776,
                        "bin_end": -0.207670115599085,
                        "count": 0
                      },
                      {
                        "bin_start": -0.207670115599085,
                        "bin_end": 0.06409331967660603,
                        "count": 0
                      },
                      {
                        "bin_start": 0.06409331967660603,
                        "bin_end": 0.33585675495229705,
                        "count": 0
                      },
                      {
                        "bin_start": 0.33585675495229705,
                        "bin_end": 0.6076201902279881,
                        "count": 1
                      },
                      {
                        "bin_start": 0.6076201902279881,
                        "bin_end": 0.8793836255036791,
                        "count": 0
                      },
                      {
                        "bin_start": 0.8793836255036791,
                        "bin_end": 1.15114706077937,
                        "count": 1
                      }
                    ]
                  }
                },
                {
                  "name": "V6",
                  "dtype": "float64",
                  "stats": {
                    "unique_count": 5,
                    "nan_count": 0,
                    "min": "-2.94354779071974",
                    "max": "-0.0033462959955453",
                    "histogram": [
                      {
                        "bin_start": -2.94354779071974,
                        "bin_end": -2.6495276412473205,
                        "count": 1
                      },
                      {
                        "bin_start": -2.6495276412473205,
                        "bin_end": -2.355507491774901,
                        "count": 0
                      },
                      {
                        "bin_start": -2.355507491774901,
                        "bin_end": -2.061487342302482,
                        "count": 0
                      },
                      {
                        "bin_start": -2.061487342302482,
                        "bin_end": -1.7674671928300623,
                        "count": 1
                      },
                      {
                        "bin_start": -1.7674671928300623,
                        "bin_end": -1.4734470433576428,
                        "count": 0
                      },
                      {
                        "bin_start": -1.4734470433576428,
                        "bin_end": -1.1794268938852235,
                        "count": 1
                      },
                      {
                        "bin_start": -1.1794268938852235,
                        "bin_end": -0.885406744412804,
                        "count": 0
                      },
                      {
                        "bin_start": -0.885406744412804,
                        "bin_end": -0.5913865949403845,
                        "count": 0
                      },
                      {
                        "bin_start": -0.5913865949403845,
                        "bin_end": -0.297366445467965,
                        "count": 0
                      },
                      {
                        "bin_start": -0.297366445467965,
                        "bin_end": -0.0033462959955453,
                        "count": 2
                      }
                    ]
                  }
                },
                {
                  "name": "V7",
                  "dtype": "float64",
                  "stats": {
                    "unique_count": 5,
                    "nan_count": 0,
                    "min": "-2.23473929608742",
                    "max": "0.223050267455537",
                    "histogram": [
                      {
                        "bin_start": -2.23473929608742,
                        "bin_end": -1.9889603397331244,
                        "count": 2
                      },
                      {
                        "bin_start": -1.9889603397331244,
                        "bin_end": -1.7431813833788288,
                        "count": 0
                      },
                      {
                        "bin_start": -1.7431813833788288,
                        "bin_end": -1.497402427024533,
                        "count": 0
                      },
                      {
                        "bin_start": -1.497402427024533,
                        "bin_end": -1.2516234706702374,
                        "count": 1
                      },
                      {
                        "bin_start": -1.2516234706702374,
                        "bin_end": -1.0058445143159416,
                        "count": 0
                      },
                      {
                        "bin_start": -1.0058445143159416,
                        "bin_end": -0.7600655579616458,
                        "count": 1
                      },
                      {
                        "bin_start": -0.7600655579616458,
                        "bin_end": -0.5142866016073502,
                        "count": 0
                      },
                      {
                        "bin_start": -0.5142866016073502,
                        "bin_end": -0.2685076452530544,
                        "count": 0
                      },
                      {
                        "bin_start": -0.2685076452530544,
                        "bin_end": -0.022728688898758787,
                        "count": 0
                      },
                      {
                        "bin_start": -0.022728688898758787,
                        "bin_end": 0.223050267455537,
                        "count": 1
                      }
                    ]
                  }
                },
                {
                  "name": "V8",
                  "dtype": "float64",
                  "stats": {
                    "unique_count": 5,
                    "nan_count": 0,
                    "min": "-0.0683838777747007",
                    "max": "1.21015796383769",
                    "histogram": [
                      {
                        "bin_start": -0.0683838777747007,
                        "bin_end": 0.059470306386538385,
                        "count": 1
                      },
                      {
                        "bin_start": 0.059470306386538385,
                        "bin_end": 0.18732449054777747,
                        "count": 0
                      },
                      {
                        "bin_start": 0.18732449054777747,
                        "bin_end": 0.3151786747090166,
                        "count": 1
                      },
                      {
                        "bin_start": 0.3151786747090166,
                        "bin_end": 0.4430328588702557,
                        "count": 0
                      },
                      {
                        "bin_start": 0.4430328588702557,
                        "bin_end": 0.5708870430314947,
                        "count": 0
                      },
                      {
                        "bin_start": 0.5708870430314947,
                        "bin_end": 0.6987412271927339,
                        "count": 1
                      },
                      {
                        "bin_start": 0.6987412271927339,
                        "bin_end": 0.826595411353973,
                        "count": 0
                      },
                      {
                        "bin_start": 0.826595411353973,
                        "bin_end": 0.954449595515212,
                        "count": 0
                      },
                      {
                        "bin_start": 0.954449595515212,
                        "bin_end": 1.082303779676451,
                        "count": 1
                      },
                      {
                        "bin_start": 1.082303779676451,
                        "bin_end": 1.21015796383769,
                        "count": 1
                      }
                    ]
                  }
                },
                {
                  "name": "V9",
                  "dtype": "float64",
                  "stats": {
                    "unique_count": 5,
                    "nan_count": 0,
                    "min": "-2.0649452874475",
                    "max": "0.577829383844873",
                    "histogram": [
                      {
                        "bin_start": -2.0649452874475,
                        "bin_end": -1.8006678203182624,
                        "count": 1
                      },
                      {
                        "bin_start": -1.8006678203182624,
                        "bin_end": -1.5363903531890253,
                        "count": 1
                      },
                      {
                        "bin_start": -1.5363903531890253,
                        "bin_end": -1.2721128860597881,
                        "count": 0
                      },
                      {
                        "bin_start": -1.2721128860597881,
                        "bin_end": -1.0078354189305507,
                        "count": 1
                      },
                      {
                        "bin_start": -1.0078354189305507,
                        "bin_end": -0.7435579518013133,
                        "count": 0
                      },
                      {
                        "bin_start": -0.7435579518013133,
                        "bin_end": -0.4792804846720762,
                        "count": 1
                      },
                      {
                        "bin_start": -0.4792804846720762,
                        "bin_end": -0.21500301754283901,
                        "count": 0
                      },
                      {
                        "bin_start": -0.21500301754283901,
                        "bin_end": 0.04927444958639837,
                        "count": 0
                      },
                      {
                        "bin_start": 0.04927444958639837,
                        "bin_end": 0.31355191671563576,
                        "count": 0
                      },
                      {
                        "bin_start": 0.31355191671563576,
                        "bin_end": 0.577829383844873,
                        "count": 1
                      }
                    ]
                  }
                },
                {
                  "name": "V10",
                  "dtype": "float64",
                  "stats": {
                    "unique_count": 5,
                    "nan_count": 0,
                    "min": "-5.58779378195338",
                    "max": "-0.888721675865145",
                    "histogram": [
                      {
                        "bin_start": -5.58779378195338,
                        "bin_end": -5.117886571344556,
                        "count": 2
                      },
                      {
                        "bin_start": -5.117886571344556,
                        "bin_end": -4.647979360735733,
                        "count": 0
                      },
                      {
                        "bin_start": -4.647979360735733,
                        "bin_end": -4.178072150126909,
                        "count": 0
                      },
                      {
                        "bin_start": -4.178072150126909,
                        "bin_end": -3.708164939518086,
                        "count": 0
                      },
                      {
                        "bin_start": -3.708164939518086,
                        "bin_end": -3.2382577289092627,
                        "count": 1
                      },
                      {
                        "bin_start": -3.2382577289092627,
                        "bin_end": -2.768350518300439,
                        "count": 1
                      },
                      {
                        "bin_start": -2.768350518300439,
                        "bin_end": -2.2984433076916155,
                        "count": 0
                      },
                      {
                        "bin_start": -2.2984433076916155,
                        "bin_end": -1.8285360970827922,
                        "count": 0
                      },
                      {
                        "bin_start": -1.8285360970827922,
                        "bin_end": -1.3586288864739684,
                        "count": 0
                      },
                      {
                        "bin_start": -1.3586288864739684,
                        "bin_end": -0.888721675865145,
                        "count": 1
                      }
                    ]
                  }
                },
                {
                  "name": "V11",
                  "dtype": "float64",
                  "stats": {
                    "unique_count": 5,
                    "nan_count": 0,
                    "min": "0.491140241656789",
                    "max": "2.8584658156696",
                    "histogram": [
                      {
                        "bin_start": 0.491140241656789,
                        "bin_end": 0.7278727990580701,
                        "count": 1
                      },
                      {
                        "bin_start": 0.7278727990580701,
                        "bin_end": 0.9646053564593513,
                        "count": 0
                      },
                      {
                        "bin_start": 0.9646053564593513,
                        "bin_end": 1.2013379138606324,
                        "count": 0
                      },
                      {
                        "bin_start": 1.2013379138606324,
                        "bin_end": 1.4380704712619135,
                        "count": 0
                      },
                      {
                        "bin_start": 1.4380704712619135,
                        "bin_end": 1.6748030286631945,
                        "count": 0
                      },
                      {
                        "bin_start": 1.6748030286631945,
                        "bin_end": 1.9115355860644758,
                        "count": 1
                      },
                      {
                        "bin_start": 1.9115355860644758,
                        "bin_end": 2.148268143465757,
                        "count": 2
                      },
                      {
                        "bin_start": 2.148268143465757,
                        "bin_end": 2.385000700867038,
                        "count": 0
                      },
                      {
                        "bin_start": 2.385000700867038,
                        "bin_end": 2.621733258268319,
                        "count": 0
                      },
                      {
                        "bin_start": 2.621733258268319,
                        "bin_end": 2.8584658156696,
                        "count": 1
                      }
                    ]
                  }
                },
                {
                  "name": "V12",
                  "dtype": "float64",
                  "stats": {
                    "unique_count": 5,
                    "nan_count": 0,
                    "min": "-5.4174240819973",
                    "max": "0.728903319843614",
                    "histogram": [
                      {
                        "bin_start": -5.4174240819973,
                        "bin_end": -4.802791341813209,
                        "count": 2
                      },
                      {
                        "bin_start": -4.802791341813209,
                        "bin_end": -4.188158601629118,
                        "count": 0
                      },
                      {
                        "bin_start": -4.188158601629118,
                        "bin_end": -3.5735258614450256,
                        "count": 0
                      },
                      {
                        "bin_start": -3.5735258614450256,
                        "bin_end": -2.9588931212609344,
                        "count": 1
                      },
                      {
                        "bin_start": -2.9588931212609344,
                        "bin_end": -2.344260381076843,
                        "count": 1
                      },
                      {
                        "bin_start": -2.344260381076843,
                        "bin_end": -1.7296276408927516,
                        "count": 0
                      },
                      {
                        "bin_start": -1.7296276408927516,
                        "bin_end": -1.11499490070866,
                        "count": 0
                      },
                      {
                        "bin_start": -1.11499490070866,
                        "bin_end": -0.5003621605245687,
                        "count": 0
                      },
                      {
                        "bin_start": -0.5003621605245687,
                        "bin_end": 0.11427057965952248,
                        "count": 0
                      },
                      {
                        "bin_start": 0.11427057965952248,
                        "bin_end": 0.728903319843614,
                        "count": 1
                      }
                    ]
                  }
                },
                {
                  "name": "V13",
                  "dtype": "float64",
                  "stats": {
                    "unique_count": 5,
                    "nan_count": 0,
                    "min": "-1.23512263142388",
                    "max": "0.380428045513993",
                    "histogram": [
                      {
                        "bin_start": -1.23512263142388,
                        "bin_end": -1.0735675637300925,
                        "count": 2
                      },
                      {
                        "bin_start": -1.0735675637300925,
                        "bin_end": -0.9120124960363053,
                        "count": 0
                      },
                      {
                        "bin_start": -0.9120124960363053,
                        "bin_end": -0.750457428342518,
                        "count": 1
                      },
                      {
                        "bin_start": -0.750457428342518,
                        "bin_end": -0.5889023606487307,
                        "count": 0
                      },
                      {
                        "bin_start": -0.5889023606487307,
                        "bin_end": -0.42734729295494334,
                        "count": 0
                      },
                      {
                        "bin_start": -0.42734729295494334,
                        "bin_end": -0.2657922252611561,
                        "count": 1
                      },
                      {
                        "bin_start": -0.2657922252611561,
                        "bin_end": -0.10423715756736884,
                        "count": 0
                      },
                      {
                        "bin_start": -0.10423715756736884,
                        "bin_end": 0.057317910126418514,
                        "count": 0
                      },
                      {
                        "bin_start": 0.057317910126418514,
                        "bin_end": 0.21887297782020587,
                        "count": 0
                      },
                      {
                        "bin_start": 0.21887297782020587,
                        "bin_end": 0.380428045513993,
                        "count": 1
                      }
                    ]
                  }
                },
                {
                  "name": "V14",
                  "dtype": "float64",
                  "stats": {
                    "unique_count": 5,
                    "nan_count": 0,
                    "min": "-6.66517689463338",
                    "max": "-1.94888334870021",
                    "histogram": [
                      {
                        "bin_start": -6.66517689463338,
                        "bin_end": -6.193547540040063,
                        "count": 2
                      },
                      {
                        "bin_start": -6.193547540040063,
                        "bin_end": -5.721918185446746,
                        "count": 0
                      },
                      {
                        "bin_start": -5.721918185446746,
                        "bin_end": -5.250288830853429,
                        "count": 0
                      },
                      {
                        "bin_start": -5.250288830853429,
                        "bin_end": -4.778659476260112,
                        "count": 1
                      },
                      {
                        "bin_start": -4.778659476260112,
                        "bin_end": -4.307030121666795,
                        "count": 0
                      },
                      {
                        "bin_start": -4.307030121666795,
                        "bin_end": -3.8354007670734784,
                        "count": 1
                      },
                      {
                        "bin_start": -3.8354007670734784,
                        "bin_end": -3.3637714124801614,
                        "count": 0
                      },
                      {
                        "bin_start": -3.3637714124801614,
                        "bin_end": -2.8921420578868444,
                        "count": 0
                      },
                      {
                        "bin_start": -2.8921420578868444,
                        "bin_end": -2.420512703293528,
                        "count": 0
                      },
                      {
                        "bin_start": -2.420512703293528,
                        "bin_end": -1.94888334870021,
                        "count": 1
                      }
                    ]
                  }
                },
                {
                  "name": "V15",
                  "dtype": "float64",
                  "stats": {
                    "unique_count": 5,
                    "nan_count": 0,
                    "min": "-0.832498136300872",
                    "max": "0.401700686738171",
                    "histogram": [
                      {
                        "bin_start": -0.832498136300872,
                        "bin_end": -0.7090782539969677,
                        "count": 2
                      },
                      {
                        "bin_start": -0.7090782539969677,
                        "bin_end": -0.5856583716930635,
                        "count": 1
                      },
                      {
                        "bin_start": -0.5856583716930635,
                        "bin_end": -0.4622384893891591,
                        "count": 0
                      },
                      {
                        "bin_start": -0.4622384893891591,
                        "bin_end": -0.3388186070852548,
                        "count": 0
                      },
                      {
                        "bin_start": -0.3388186070852548,
                        "bin_end": -0.21539872478135047,
                        "count": 0
                      },
                      {
                        "bin_start": -0.21539872478135047,
                        "bin_end": -0.09197884247744625,
                        "count": 0
                      },
                      {
                        "bin_start": -0.09197884247744625,
                        "bin_end": 0.03144103982645807,
                        "count": 0
                      },
                      {
                        "bin_start": 0.03144103982645807,
                        "bin_end": 0.1548609221303624,
                        "count": 1
                      },
                      {
                        "bin_start": 0.1548609221303624,
                        "bin_end": 0.2782808044342667,
                        "count": 0
                      },
                      {
                        "bin_start": 0.2782808044342667,
                        "bin_end": 0.401700686738171,
                        "count": 1
                      }
                    ]
                  }
                },
                {
                  "name": "V16",
                  "dtype": "float64",
                  "stats": {
                    "unique_count": 5,
                    "nan_count": 0,
                    "min": "-2.89782511671737",
                    "max": "0.519435549203291",
                    "histogram": [
                      {
                        "bin_start": -2.89782511671737,
                        "bin_end": -2.556099050125304,
                        "count": 1
                      },
                      {
                        "bin_start": -2.556099050125304,
                        "bin_end": -2.214372983533238,
                        "count": 1
                      },
                      {
                        "bin_start": -2.214372983533238,
                        "bin_end": -1.8726469169411717,
                        "count": 1
                      },
                      {
                        "bin_start": -1.8726469169411717,
                        "bin_end": -1.5309208503491056,
                        "count": 1
                      },
                      {
                        "bin_start": -1.5309208503491056,
                        "bin_end": -1.1891947837570396,
                        "count": 0
                      },
                      {
                        "bin_start": -1.1891947837570396,
                        "bin_end": -0.8474687171649733,
                        "count": 0
                      },
                      {
                        "bin_start": -0.8474687171649733,
                        "bin_end": -0.5057426505729072,
                        "count": 0
                      },
                      {
                        "bin_start": -0.5057426505729072,
                        "bin_end": -0.16401658398084118,
                        "count": 0
                      },
                      {
                        "bin_start": -0.16401658398084118,
                        "bin_end": 0.17770948261122488,
                        "count": 0
                      },
                      {
                        "bin_start": 0.17770948261122488,
                        "bin_end": 0.519435549203291,
                        "count": 1
                      }
                    ]
                  }
                },
                {
                  "name": "V17",
                  "dtype": "float64",
                  "stats": {
                    "unique_count": 5,
                    "nan_count": 0,
                    "min": "-5.03532591722409",
                    "max": "0.903562376617253",
                    "histogram": [
                      {
                        "bin_start": -5.03532591722409,
                        "bin_end": -4.441437087839955,
                        "count": 3
                      },
                      {
                        "bin_start": -4.441437087839955,
                        "bin_end": -3.8475482584558214,
                        "count": 0
                      },
                      {
                        "bin_start": -3.8475482584558214,
                        "bin_end": -3.2536594290716874,
                        "count": 1
                      },
                      {
                        "bin_start": -3.2536594290716874,
                        "bin_end": -2.659770599687553,
                        "count": 0
                      },
                      {
                        "bin_start": -2.659770599687553,
                        "bin_end": -2.0658817703034185,
                        "count": 0
                      },
                      {
                        "bin_start": -2.0658817703034185,
                        "bin_end": -1.4719929409192845,
                        "count": 0
                      },
                      {
                        "bin_start": -1.4719929409192845,
                        "bin_end": -0.8781041115351504,
                        "count": 0
                      },
                      {
                        "bin_start": -0.8781041115351504,
                        "bin_end": -0.284215282151016,
                        "count": 0
                      },
                      {
                        "bin_start": -0.284215282151016,
                        "bin_end": 0.30967354723311846,
                        "count": 0
                      },
                      {
                        "bin_start": 0.30967354723311846,
                        "bin_end": 0.903562376617253,
                        "count": 1
                      }
                    ]
                  }
                },
                {
                  "name": "V18",
                  "dtype": "float64",
                  "stats": {
                    "unique_count": 5,
                    "nan_count": 0,
                    "min": "-1.47813794126038",
                    "max": "1.19731471799372",
                    "histogram": [
                      {
                        "bin_start": -1.47813794126038,
                        "bin_end": -1.2105926753349698,
                        "count": 2
                      },
                      {
                        "bin_start": -1.2105926753349698,
                        "bin_end": -0.9430474094095599,
                        "count": 0
                      },
                      {
                        "bin_start": -0.9430474094095599,
                        "bin_end": -0.6755021434841499,
                        "count": 1
                      },
                      {
                        "bin_start": -0.6755021434841499,
                        "bin_end": -0.4079568775587399,
                        "count": 1
                      },
                      {
                        "bin_start": -0.4079568775587399,
                        "bin_end": -0.14041161163332982,
                        "count": 0
                      },
                      {
                        "bin_start": -0.14041161163332982,
                        "bin_end": 0.12713365429208,
                        "count": 0
                      },
                      {
                        "bin_start": 0.12713365429208,
                        "bin_end": 0.39467892021749007,
                        "count": 0
                      },
                      {
                        "bin_start": 0.39467892021749007,
                        "bin_end": 0.6622241861429001,
                        "count": 0
                      },
                      {
                        "bin_start": 0.6622241861429001,
                        "bin_end": 0.92976945206831,
                        "count": 0
                      },
                      {
                        "bin_start": 0.92976945206831,
                        "bin_end": 1.19731471799372,
                        "count": 1
                      }
                    ]
                  }
                },
                {
                  "name": "V19",
                  "dtype": "float64",
                  "stats": {
                    "unique_count": 5,
                    "nan_count": 0,
                    "min": "-0.0354803664667244",
                    "max": "0.737657217477667",
                    "histogram": [
                      {
                        "bin_start": -0.0354803664667244,
                        "bin_end": 0.04183339192771473,
                        "count": 1
                      },
                      {
                        "bin_start": 0.04183339192771473,
                        "bin_end": 0.11914715032215387,
                        "count": 0
                      },
                      {
                        "bin_start": 0.11914715032215387,
                        "bin_end": 0.196460908716593,
                        "count": 0
                      },
                      {
                        "bin_start": 0.196460908716593,
                        "bin_end": 0.2737746671110321,
                        "count": 1
                      },
                      {
                        "bin_start": 0.2737746671110321,
                        "bin_end": 0.3510884255054712,
                        "count": 0
                      },
                      {
                        "bin_start": 0.3510884255054712,
                        "bin_end": 0.42840218389991036,
                        "count": 1
                      },
                      {
                        "bin_start": 0.42840218389991036,
                        "bin_end": 0.5057159422943496,
                        "count": 0
                      },
                      {
                        "bin_start": 0.5057159422943496,
                        "bin_end": 0.5830297006887887,
                        "count": 0
                      },
                      {
                        "bin_start": 0.5830297006887887,
                        "bin_end": 0.6603434590832278,
                        "count": 1
                      },
                      {
                        "bin_start": 0.6603434590832278,
                        "bin_end": 0.737657217477667,
                        "count": 1
                      }
                    ]
                  }
                },
                {
                  "name": "V20",
                  "dtype": "float64",
                  "stats": {
                    "unique_count": 5,
                    "nan_count": 0,
                    "min": "-0.0176522567052908",
                    "max": "1.25296673470361",
                    "histogram": [
                      {
                        "bin_start": -0.0176522567052908,
                        "bin_end": 0.10940964243559928,
                        "count": 1
                      },
                      {
                        "bin_start": 0.10940964243559928,
                        "bin_end": 0.23647154157648936,
                        "count": 1
                      },
                      {
                        "bin_start": 0.23647154157648936,
                        "bin_end": 0.3635334407173795,
                        "count": 2
                      },
                      {
                        "bin_start": 0.3635334407173795,
                        "bin_end": 0.49059533985826953,
                        "count": 0
                      },
                      {
                        "bin_start": 0.49059533985826953,
                        "bin_end": 0.6176572389991596,
                        "count": 0
                      },
                      {
                        "bin_start": 0.6176572389991596,
                        "bin_end": 0.7447191381400498,
                        "count": 0
                      },
                      {
                        "bin_start": 0.7447191381400498,
                        "bin_end": 0.8717810372809398,
                        "count": 0
                      },
                      {
                        "bin_start": 0.8717810372809398,
                        "bin_end": 0.9988429364218299,
                        "count": 0
                      },
                      {
                        "bin_start": 0.9988429364218299,
                        "bin_end": 1.12590483556272,
                        "count": 0
                      },
                      {
                        "bin_start": 1.12590483556272,
                        "bin_end": 1.25296673470361,
                        "count": 1
                      }
                    ]
                  }
                },
                {
                  "name": "V21",
                  "dtype": "float64",
                  "stats": {
                    "unique_count": 5,
                    "nan_count": 0,
                    "min": "-0.164350327825504",
                    "max": "0.778583978950071",
                    "histogram": [
                      {
                        "bin_start": -0.164350327825504,
                        "bin_end": -0.0700568971479465,
                        "count": 1
                      },
                      {
                        "bin_start": -0.0700568971479465,
                        "bin_end": 0.024236533529611,
                        "count": 0
                      },
                      {
                        "bin_start": 0.024236533529611,
                        "bin_end": 0.11852996420716852,
                        "count": 0
                      },
                      {
                        "bin_start": 0.11852996420716852,
                        "bin_end": 0.21282339488472599,
                        "count": 0
                      },
                      {
                        "bin_start": 0.21282339488472599,
                        "bin_end": 0.3071168255622835,
                        "count": 0
                      },
                      {
                        "bin_start": 0.3071168255622835,
                        "bin_end": 0.40141025623984106,
                        "count": 1
                      },
                      {
                        "bin_start": 0.40141025623984106,
                        "bin_end": 0.4957036869173985,
                        "count": 0
                      },
                      {
                        "bin_start": 0.4957036869173985,
                        "bin_end": 0.589997117594956,
                        "count": 1
                      },
                      {
                        "bin_start": 0.589997117594956,
                        "bin_end": 0.6842905482725135,
                        "count": 0
                      },
                      {
                        "bin_start": 0.6842905482725135,
                        "bin_end": 0.778583978950071,
                        "count": 2
                      }
                    ]
                  }
                },
                {
                  "name": "V22",
                  "dtype": "float64",
                  "stats": {
                    "unique_count": 5,
                    "nan_count": 0,
                    "min": "-0.319188818860513",
                    "max": "0.834107690036367",
                    "histogram": [
                      {
                        "bin_start": -0.319188818860513,
                        "bin_end": -0.20385916797082498,
                        "count": 3
                      },
                      {
                        "bin_start": -0.20385916797082498,
                        "bin_end": -0.08852951708113702,
                        "count": 0
                      },
                      {
                        "bin_start": -0.08852951708113702,
                        "bin_end": 0.026800133808550952,
                        "count": 0
                      },
                      {
                        "bin_start": 0.026800133808550952,
                        "bin_end": 0.14212978469823895,
                        "count": 1
                      },
                      {
                        "bin_start": 0.14212978469823895,
                        "bin_end": 0.25745943558792694,
                        "count": 0
                      },
                      {
                        "bin_start": 0.25745943558792694,
                        "bin_end": 0.3727890864776149,
                        "count": 0
                      },
                      {
                        "bin_start": 0.3727890864776149,
                        "bin_end": 0.48811873736730294,
                        "count": 0
                      },
                      {
                        "bin_start": 0.48811873736730294,
                        "bin_end": 0.6034483882569909,
                        "count": 0
                      },
                      {
                        "bin_start": 0.6034483882569909,
                        "bin_end": 0.7187780391466789,
                        "count": 0
                      },
                      {
                        "bin_start": 0.7187780391466789,
                        "bin_end": 0.834107690036367,
                        "count": 1
                      }
                    ]
                  }
                },
                {
                  "name": "V23",
                  "dtype": "float64",
                  "stats": {
                    "unique_count": 5,
                    "nan_count": 0,
                    "min": "-0.456107772584008",
                    "max": "0.639418961153121",
                    "histogram": [
                      {
                        "bin_start": -0.456107772584008,
                        "bin_end": -0.34655509921029504,
                        "count": 1
                      },
                      {
                        "bin_start": -0.34655509921029504,
                        "bin_end": -0.23700242583658215,
                        "count": 0
                      },
                      {
                        "bin_start": -0.23700242583658215,
                        "bin_end": -0.12744975246286921,
                        "count": 1
                      },
                      {
                        "bin_start": -0.12744975246286921,
                        "bin_end": -0.01789707908915633,
                        "count": 1
                      },
                      {
                        "bin_start": -0.01789707908915633,
                        "bin_end": 0.09165559428455655,
                        "count": 0
                      },
                      {
                        "bin_start": 0.09165559428455655,
                        "bin_end": 0.20120826765826955,
                        "count": 1
                      },
                      {
                        "bin_start": 0.20120826765826955,
                        "bin_end": 0.31076094103198243,
                        "count": 0
                      },
                      {
                        "bin_start": 0.31076094103198243,
                        "bin_end": 0.4203136144056953,
                        "count": 0
                      },
                      {
                        "bin_start": 0.4203136144056953,
                        "bin_end": 0.5298662877794083,
                        "count": 0
                      },
                      {
                        "bin_start": 0.5298662877794083,
                        "bin_end": 0.639418961153121,
                        "count": 1
                      }
                    ]
                  }
                },
                {
                  "name": "V24",
                  "dtype": "float64",
                  "stats": {
                    "unique_count": 5,
                    "nan_count": 0,
                    "min": "-0.450261313423321",
                    "max": "0.0320700856093905",
                    "histogram": [
                      {
                        "bin_start": -0.450261313423321,
                        "bin_end": -0.4020281735200498,
                        "count": 1
                      },
                      {
                        "bin_start": -0.4020281735200498,
                        "bin_end": -0.35379503361677866,
                        "count": 0
                      },
                      {
                        "bin_start": -0.35379503361677866,
                        "bin_end": -0.30556189371350756,
                        "count": 0
                      },
                      {
                        "bin_start": -0.30556189371350756,
                        "bin_end": -0.2573287538102364,
                        "count": 1
                      },
                      {
                        "bin_start": -0.2573287538102364,
                        "bin_end": -0.20909561390696524,
                        "count": 0
                      },
                      {
                        "bin_start": -0.20909561390696524,
                        "bin_end": -0.16086247400369413,
                        "count": 1
                      },
                      {
                        "bin_start": -0.16086247400369413,
                        "bin_end": -0.11262933410042297,
                        "count": 0
                      },
                      {
                        "bin_start": -0.11262933410042297,
                        "bin_end": -0.06439619419715181,
                        "count": 1
                      },
                      {
                        "bin_start": -0.06439619419715181,
                        "bin_end": -0.016163054293880652,
                        "count": 0
                      },
                      {
                        "bin_start": -0.016163054293880652,
                        "bin_end": 0.0320700856093905,
                        "count": 1
                      }
                    ]
                  }
                },
                {
                  "name": "V25",
                  "dtype": "float64",
                  "stats": {
                    "unique_count": 5,
                    "nan_count": 0,
                    "min": "-0.739694822652264",
                    "max": "0.537502535542985",
                    "histogram": [
                      {
                        "bin_start": -0.739694822652264,
                        "bin_end": -0.6119750868327392,
                        "count": 1
                      },
                      {
                        "bin_start": -0.6119750868327392,
                        "bin_end": -0.4842553510132142,
                        "count": 0
                      },
                      {
                        "bin_start": -0.4842553510132142,
                        "bin_end": -0.35653561519368926,
                        "count": 0
                      },
                      {
                        "bin_start": -0.35653561519368926,
                        "bin_end": -0.22881587937416437,
                        "count": 1
                      },
                      {
                        "bin_start": -0.22881587937416437,
                        "bin_end": -0.10109614355463947,
                        "count": 0
                      },
                      {
                        "bin_start": -0.10109614355463947,
                        "bin_end": 0.02662359226488553,
                        "count": 0
                      },
                      {
                        "bin_start": 0.02662359226488553,
                        "bin_end": 0.15434332808441042,
                        "count": 0
                      },
                      {
                        "bin_start": 0.15434332808441042,
                        "bin_end": 0.2820630639039353,
                        "count": 0
                      },
                      {
                        "bin_start": 0.2820630639039353,
                        "bin_end": 0.4097827997234603,
                        "count": 1
                      },
                      {
                        "bin_start": 0.4097827997234603,
                        "bin_end": 0.537502535542985,
                        "count": 2
                      }
                    ]
                  }
                },
                {
                  "name": "V26",
                  "dtype": "float64",
                  "stats": {
                    "unique_count": 5,
                    "nan_count": 0,
                    "min": "-0.289616585696882",
                    "max": "0.788395056528708",
                    "histogram": [
                      {
                        "bin_start": -0.289616585696882,
                        "bin_end": -0.18181542147432297,
                        "count": 1
                      },
                      {
                        "bin_start": -0.18181542147432297,
                        "bin_end": -0.07401425725176397,
                        "count": 0
                      },
                      {
                        "bin_start": -0.07401425725176397,
                        "bin_end": 0.033786906970795005,
                        "count": 0
                      },
                      {
                        "bin_start": 0.033786906970795005,
                        "bin_end": 0.14158807119335404,
                        "count": 0
                      },
                      {
                        "bin_start": 0.14158807119335404,
                        "bin_end": 0.24938923541591307,
                        "count": 0
                      },
                      {
                        "bin_start": 0.24938923541591307,
                        "bin_end": 0.357190399638472,
                        "count": 0
                      },
                      {
                        "bin_start": 0.357190399638472,
                        "bin_end": 0.464991563861031,
                        "count": 0
                      },
                      {
                        "bin_start": 0.464991563861031,
                        "bin_end": 0.57279272808359,
                        "count": 1
                      },
                      {
                        "bin_start": 0.57279272808359,
                        "bin_end": 0.6805938923061491,
                        "count": 1
                      },
                      {
                        "bin_start": 0.6805938923061491,
                        "bin_end": 0.788395056528708,
                        "count": 2
                      }
                    ]
                  }
                },
                {
                  "name": "V27",
                  "dtype": "float64",
                  "stats": {
                    "unique_count": 5,
                    "nan_count": 0,
                    "min": "0.002987582243429",
                    "max": "0.884875539542905",
                    "histogram": [
                      {
                        "bin_start": 0.002987582243429,
                        "bin_end": 0.0911763779733766,
                        "count": 1
                      },
                      {
                        "bin_start": 0.0911763779733766,
                        "bin_end": 0.1793651737033242,
                        "count": 0
                      },
                      {
                        "bin_start": 0.1793651737033242,
                        "bin_end": 0.2675539694332718,
                        "count": 0
                      },
                      {
                        "bin_start": 0.2675539694332718,
                        "bin_end": 0.3557427651632194,
                        "count": 1
                      },
                      {
                        "bin_start": 0.3557427651632194,
                        "bin_end": 0.443931560893167,
                        "count": 2
                      },
                      {
                        "bin_start": 0.443931560893167,
                        "bin_end": 0.5321203566231146,
                        "count": 0
                      },
                      {
                        "bin_start": 0.5321203566231146,
                        "bin_end": 0.6203091523530622,
                        "count": 0
                      },
                      {
                        "bin_start": 0.6203091523530622,
                        "bin_end": 0.7084979480830098,
                        "count": 0
                      },
                      {
                        "bin_start": 0.7084979480830098,
                        "bin_end": 0.7966867438129575,
                        "count": 0
                      },
                      {
                        "bin_start": 0.7966867438129575,
                        "bin_end": 0.884875539542905,
                        "count": 1
                      }
                    ]
                  }
                },
                {
                  "name": "V28",
                  "dtype": "float64",
                  "stats": {
                    "unique_count": 5,
                    "nan_count": 0,
                    "min": "-0.253700318894381",
                    "max": "0.19436147923645",
                    "histogram": [
                      {
                        "bin_start": -0.253700318894381,
                        "bin_end": -0.2088941390812979,
                        "count": 1
                      },
                      {
                        "bin_start": -0.2088941390812979,
                        "bin_end": -0.1640879592682148,
                        "count": 0
                      },
                      {
                        "bin_start": -0.1640879592682148,
                        "bin_end": -0.11928177945513169,
                        "count": 0
                      },
                      {
                        "bin_start": -0.11928177945513169,
                        "bin_end": -0.07447559964204858,
                        "count": 0
                      },
                      {
                        "bin_start": -0.07447559964204858,
                        "bin_end": -0.029669419828965482,
                        "count": 0
                      },
                      {
                        "bin_start": -0.029669419828965482,
                        "bin_end": 0.01513675998411762,
                        "count": 1
                      },
                      {
                        "bin_start": 0.01513675998411762,
                        "bin_end": 0.05994293979720072,
                        "count": 0
                      },
                      {
                        "bin_start": 0.05994293979720072,
                        "bin_end": 0.10474911961028383,
                        "count": 0
                      },
                      {
                        "bin_start": 0.10474911961028383,
                        "bin_end": 0.14955529942336693,
                        "count": 1
                      },
                      {
                        "bin_start": 0.14955529942336693,
                        "bin_end": 0.19436147923645,
                        "count": 2
                      }
                    ]
                  }
                },
                {
                  "name": "Amount",
                  "dtype": "float64",
                  "stats": {
                    "unique_count": 5,
                    "nan_count": 0,
                    "min": "0.76",
                    "max": "390.0",
                    "histogram": [
                      {
                        "bin_start": 0.76,
                        "bin_end": 39.684,
                        "count": 1
                      },
                      {
                        "bin_start": 39.684,
                        "bin_end": 78.608,
                        "count": 2
                      },
                      {
                        "bin_start": 78.608,
                        "bin_end": 117.532,
                        "count": 0
                      },
                      {
                        "bin_start": 117.532,
                        "bin_end": 156.456,
                        "count": 0
                      },
                      {
                        "bin_start": 156.456,
                        "bin_end": 195.38,
                        "count": 0
                      },
                      {
                        "bin_start": 195.38,
                        "bin_end": 234.30399999999997,
                        "count": 0
                      },
                      {
                        "bin_start": 234.30399999999997,
                        "bin_end": 273.228,
                        "count": 1
                      },
                      {
                        "bin_start": 273.228,
                        "bin_end": 312.152,
                        "count": 0
                      },
                      {
                        "bin_start": 312.152,
                        "bin_end": 351.07599999999996,
                        "count": 0
                      },
                      {
                        "bin_start": 351.07599999999996,
                        "bin_end": 390,
                        "count": 1
                      }
                    ]
                  }
                },
                {
                  "name": "Class",
                  "dtype": "int64",
                  "stats": {
                    "unique_count": 1,
                    "nan_count": 0,
                    "min": "1",
                    "max": "1",
                    "histogram": [
                      {
                        "bin_start": 0.5,
                        "bin_end": 0.6,
                        "count": 0
                      },
                      {
                        "bin_start": 0.6,
                        "bin_end": 0.7,
                        "count": 0
                      },
                      {
                        "bin_start": 0.7,
                        "bin_end": 0.8,
                        "count": 0
                      },
                      {
                        "bin_start": 0.8,
                        "bin_end": 0.9,
                        "count": 0
                      },
                      {
                        "bin_start": 0.9,
                        "bin_end": 1,
                        "count": 0
                      },
                      {
                        "bin_start": 1,
                        "bin_end": 1.1,
                        "count": 5
                      },
                      {
                        "bin_start": 1.1,
                        "bin_end": 1.2000000000000002,
                        "count": 0
                      },
                      {
                        "bin_start": 1.2000000000000002,
                        "bin_end": 1.3,
                        "count": 0
                      },
                      {
                        "bin_start": 1.3,
                        "bin_end": 1.4,
                        "count": 0
                      },
                      {
                        "bin_start": 1.4,
                        "bin_end": 1.5,
                        "count": 0
                      }
                    ]
                  }
                },
                {
                  "name": "_deepnote_index_column",
                  "dtype": "int64"
                }
              ],
              "rows": [
                {
                  "Time": 169142,
                  "V1": -1.92788332105459,
                  "V2": 1.12565266367046,
                  "V3": -4.51833064132991,
                  "V4": 1.74929253346589,
                  "V5": -1.56648729197754,
                  "V6": -2.01049423115212,
                  "V7": -0.882849830858081,
                  "V8": 0.697211109261327,
                  "V9": -2.0649452874475,
                  "V10": -5.58779378195338,
                  "V11": 2.1157951772133,
                  "V12": -5.4174240819973,
                  "V13": -1.23512263142388,
                  "V14": -6.66517689463338,
                  "V15": 0.401700686738171,
                  "V16": -2.89782511671737,
                  "V17": -4.57052943365069,
                  "V18": -1.31514721385427,
                  "V19": 0.391167040935071,
                  "V20": 1.25296673470361,
                  "V21": 0.778583978950071,
                  "V22": -0.319188818860513,
                  "V23": 0.639418961153121,
                  "V24": -0.294885040380029,
                  "V25": 0.537502535542985,
                  "V26": 0.788395056528708,
                  "V27": 0.292679966295281,
                  "V28": 0.147967928722538,
                  "Amount": 390,
                  "Class": 1,
                  "_deepnote_index_column": 279863
                },
                {
                  "Time": 169347,
                  "V1": 1.37855899734127,
                  "V2": 1.28938093711056,
                  "V3": -5.00424678441137,
                  "V4": 1.4118498419441,
                  "V5": 0.442580635567782,
                  "V6": -1.3265359338336,
                  "V7": -1.41316995590712,
                  "V8": 0.248525467627175,
                  "V9": -1.12739593417081,
                  "V10": -3.23215317539514,
                  "V11": 2.8584658156696,
                  "V12": -3.09691489835154,
                  "V13": -0.792532436177748,
                  "V14": -5.21014084572584,
                  "V15": -0.613803263850514,
                  "V16": -2.15529688535221,
                  "V17": -3.26711568106648,
                  "V18": -0.68850546268346,
                  "V19": 0.737657217477667,
                  "V20": 0.226137945500703,
                  "V21": 0.370611857232494,
                  "V22": 0.0282344454140697,
                  "V23": -0.145640429197154,
                  "V24": -0.0810494069107769,
                  "V25": 0.521874501959455,
                  "V26": 0.739467256056059,
                  "V27": 0.389151843520624,
                  "V28": 0.186636547522687,
                  "Amount": 0.76,
                  "Class": 1,
                  "_deepnote_index_column": 280143
                },
                {
                  "Time": 169351,
                  "V1": -0.676142670593205,
                  "V2": 1.1263660623459,
                  "V3": -2.21369952308058,
                  "V4": 0.46830838758824,
                  "V5": -1.12054104443306,
                  "V6": -0.0033462959955453,
                  "V7": -2.23473929608742,
                  "V8": 1.21015796383769,
                  "V9": -0.65224992035649,
                  "V10": -3.46389087904573,
                  "V11": 1.79496896856641,
                  "V12": -2.77502154036273,
                  "V13": -0.418950143733104,
                  "V14": -4.05716237716209,
                  "V15": -0.712615968607599,
                  "V16": -1.60301474745597,
                  "V17": -5.03532591722409,
                  "V18": -0.50699988370237,
                  "V19": 0.266272320267649,
                  "V20": 0.247967752628092,
                  "V21": 0.751825538154533,
                  "V22": 0.834107690036367,
                  "V23": 0.190943872773442,
                  "V24": 0.0320700856093905,
                  "V25": -0.739694822652264,
                  "V26": 0.47111096261267,
                  "V27": 0.385107448705084,
                  "V28": 0.19436147923645,
                  "Amount": 77.89,
                  "Class": 1,
                  "_deepnote_index_column": 280149
                },
                {
                  "Time": 169966,
                  "V1": -3.11383160738512,
                  "V2": 0.58586417180689,
                  "V3": -5.39973021073242,
                  "V4": 1.81709247345531,
                  "V5": -0.840618465991056,
                  "V6": -2.94354779071974,
                  "V7": -2.20800192003372,
                  "V8": 1.05873267723056,
                  "V9": -1.63233334974982,
                  "V10": -5.24598383776964,
                  "V11": 1.93351953683592,
                  "V12": -5.03046479695456,
                  "V13": -1.12745457501155,
                  "V14": -6.41662797597451,
                  "V15": 0.141237234328704,
                  "V16": -2.54949823633632,
                  "V17": -4.61471706851594,
                  "V18": -1.47813794126038,
                  "V19": -0.0354803664667244,
                  "V20": 0.306270740368093,
                  "V21": 0.583275998701341,
                  "V22": -0.269208637986581,
                  "V23": -0.456107772584008,
                  "V24": -0.183659129549716,
                  "V25": -0.328167759255761,
                  "V26": 0.606115810329683,
                  "V27": 0.884875539542905,
                  "V28": -0.253700318894381,
                  "Amount": 245,
                  "Class": 1,
                  "_deepnote_index_column": 281144
                },
                {
                  "Time": 170348,
                  "V1": 1.9919760961759,
                  "V2": 0.158475887304227,
                  "V3": -2.58344064503516,
                  "V4": 0.408669992998441,
                  "V5": 1.15114706077937,
                  "V6": -0.0966947441848027,
                  "V7": 0.223050267455537,
                  "V8": -0.0683838777747007,
                  "V9": 0.577829383844873,
                  "V10": -0.888721675865145,
                  "V11": 0.491140241656789,
                  "V12": 0.728903319843614,
                  "V13": 0.380428045513993,
                  "V14": -1.94888334870021,
                  "V15": -0.832498136300872,
                  "V16": 0.519435549203291,
                  "V17": 0.903562376617253,
                  "V18": 1.19731471799372,
                  "V19": 0.593508846946918,
                  "V20": -0.0176522567052908,
                  "V21": -0.164350327825504,
                  "V22": -0.295135166851559,
                  "V23": -0.0721725311018398,
                  "V24": -0.450261313423321,
                  "V25": 0.313266608995469,
                  "V26": -0.289616585696882,
                  "V27": 0.002987582243429,
                  "V28": -0.0153088128485981,
                  "Amount": 42.53,
                  "Class": 1,
                  "_deepnote_index_column": 281674
                }
              ]
            },
            "text/plain": "            Time        V1        V2        V3        V4        V5        V6  \\\n279863  169142.0 -1.927883  1.125653 -4.518331  1.749293 -1.566487 -2.010494   \n280143  169347.0  1.378559  1.289381 -5.004247  1.411850  0.442581 -1.326536   \n280149  169351.0 -0.676143  1.126366 -2.213700  0.468308 -1.120541 -0.003346   \n281144  169966.0 -3.113832  0.585864 -5.399730  1.817092 -0.840618 -2.943548   \n281674  170348.0  1.991976  0.158476 -2.583441  0.408670  1.151147 -0.096695   \n\n              V7        V8        V9  ...       V21       V22       V23  \\\n279863 -0.882850  0.697211 -2.064945  ...  0.778584 -0.319189  0.639419   \n280143 -1.413170  0.248525 -1.127396  ...  0.370612  0.028234 -0.145640   \n280149 -2.234739  1.210158 -0.652250  ...  0.751826  0.834108  0.190944   \n281144 -2.208002  1.058733 -1.632333  ...  0.583276 -0.269209 -0.456108   \n281674  0.223050 -0.068384  0.577829  ... -0.164350 -0.295135 -0.072173   \n\n             V24       V25       V26       V27       V28  Amount  Class  \n279863 -0.294885  0.537503  0.788395  0.292680  0.147968  390.00      1  \n280143 -0.081049  0.521875  0.739467  0.389152  0.186637    0.76      1  \n280149  0.032070 -0.739695  0.471111  0.385107  0.194361   77.89      1  \n281144 -0.183659 -0.328168  0.606116  0.884876 -0.253700  245.00      1  \n281674 -0.450261  0.313267 -0.289617  0.002988 -0.015309   42.53      1  \n\n[5 rows x 31 columns]",
            "text/html": "<div>\n<style scoped>\n    .dataframe tbody tr th:only-of-type {\n        vertical-align: middle;\n    }\n\n    .dataframe tbody tr th {\n        vertical-align: top;\n    }\n\n    .dataframe thead th {\n        text-align: right;\n    }\n</style>\n<table border=\"1\" class=\"dataframe\">\n  <thead>\n    <tr style=\"text-align: right;\">\n      <th></th>\n      <th>Time</th>\n      <th>V1</th>\n      <th>V2</th>\n      <th>V3</th>\n      <th>V4</th>\n      <th>V5</th>\n      <th>V6</th>\n      <th>V7</th>\n      <th>V8</th>\n      <th>V9</th>\n      <th>...</th>\n      <th>V21</th>\n      <th>V22</th>\n      <th>V23</th>\n      <th>V24</th>\n      <th>V25</th>\n      <th>V26</th>\n      <th>V27</th>\n      <th>V28</th>\n      <th>Amount</th>\n      <th>Class</th>\n    </tr>\n  </thead>\n  <tbody>\n    <tr>\n      <th>279863</th>\n      <td>169142.0</td>\n      <td>-1.927883</td>\n      <td>1.125653</td>\n      <td>-4.518331</td>\n      <td>1.749293</td>\n      <td>-1.566487</td>\n      <td>-2.010494</td>\n      <td>-0.882850</td>\n      <td>0.697211</td>\n      <td>-2.064945</td>\n      <td>...</td>\n      <td>0.778584</td>\n      <td>-0.319189</td>\n      <td>0.639419</td>\n      <td>-0.294885</td>\n      <td>0.537503</td>\n      <td>0.788395</td>\n      <td>0.292680</td>\n      <td>0.147968</td>\n      <td>390.00</td>\n      <td>1</td>\n    </tr>\n    <tr>\n      <th>280143</th>\n      <td>169347.0</td>\n      <td>1.378559</td>\n      <td>1.289381</td>\n      <td>-5.004247</td>\n      <td>1.411850</td>\n      <td>0.442581</td>\n      <td>-1.326536</td>\n      <td>-1.413170</td>\n      <td>0.248525</td>\n      <td>-1.127396</td>\n      <td>...</td>\n      <td>0.370612</td>\n      <td>0.028234</td>\n      <td>-0.145640</td>\n      <td>-0.081049</td>\n      <td>0.521875</td>\n      <td>0.739467</td>\n      <td>0.389152</td>\n      <td>0.186637</td>\n      <td>0.76</td>\n      <td>1</td>\n    </tr>\n    <tr>\n      <th>280149</th>\n      <td>169351.0</td>\n      <td>-0.676143</td>\n      <td>1.126366</td>\n      <td>-2.213700</td>\n      <td>0.468308</td>\n      <td>-1.120541</td>\n      <td>-0.003346</td>\n      <td>-2.234739</td>\n      <td>1.210158</td>\n      <td>-0.652250</td>\n      <td>...</td>\n      <td>0.751826</td>\n      <td>0.834108</td>\n      <td>0.190944</td>\n      <td>0.032070</td>\n      <td>-0.739695</td>\n      <td>0.471111</td>\n      <td>0.385107</td>\n      <td>0.194361</td>\n      <td>77.89</td>\n      <td>1</td>\n    </tr>\n    <tr>\n      <th>281144</th>\n      <td>169966.0</td>\n      <td>-3.113832</td>\n      <td>0.585864</td>\n      <td>-5.399730</td>\n      <td>1.817092</td>\n      <td>-0.840618</td>\n      <td>-2.943548</td>\n      <td>-2.208002</td>\n      <td>1.058733</td>\n      <td>-1.632333</td>\n      <td>...</td>\n      <td>0.583276</td>\n      <td>-0.269209</td>\n      <td>-0.456108</td>\n      <td>-0.183659</td>\n      <td>-0.328168</td>\n      <td>0.606116</td>\n      <td>0.884876</td>\n      <td>-0.253700</td>\n      <td>245.00</td>\n      <td>1</td>\n    </tr>\n    <tr>\n      <th>281674</th>\n      <td>170348.0</td>\n      <td>1.991976</td>\n      <td>0.158476</td>\n      <td>-2.583441</td>\n      <td>0.408670</td>\n      <td>1.151147</td>\n      <td>-0.096695</td>\n      <td>0.223050</td>\n      <td>-0.068384</td>\n      <td>0.577829</td>\n      <td>...</td>\n      <td>-0.164350</td>\n      <td>-0.295135</td>\n      <td>-0.072173</td>\n      <td>-0.450261</td>\n      <td>0.313267</td>\n      <td>-0.289617</td>\n      <td>0.002988</td>\n      <td>-0.015309</td>\n      <td>42.53</td>\n      <td>1</td>\n    </tr>\n  </tbody>\n</table>\n<p>5 rows × 31 columns</p>\n</div>"
          },
          "metadata": {}
        }
      ],
      "outputs_reference": null,
      "execution_count": null,
      "block_group": "7321997163094301b5ec30e66b020e9e",
      "content_dependencies": null
    },
    {
      "cell_type": "code",
      "source": "new_dataset['Class'].value_counts()\n\nnew_dataset.groupby('Class').mean()",
      "metadata": {
        "source_hash": null,
        "execution_start": 1726975162054,
        "execution_millis": 74,
        "deepnote_to_be_reexecuted": false,
        "cell_id": "9170f51016f843ff9e24b70f7c863683",
        "deepnote_cell_type": "code"
      },
      "outputs": [
        {
          "output_type": "execute_result",
          "execution_count": 15,
          "data": {
            "application/vnd.deepnote.dataframe.v3+json": {
              "column_count": 30,
              "row_count": 2,
              "columns": [
                {
                  "name": "Time",
                  "dtype": "float64",
                  "stats": {
                    "unique_count": 2,
                    "nan_count": 0,
                    "min": "80746.80691056911",
                    "max": "96378.08739837399",
                    "histogram": [
                      {
                        "bin_start": 80746.80691056911,
                        "bin_end": 82309.9349593496,
                        "count": 1
                      },
                      {
                        "bin_start": 82309.9349593496,
                        "bin_end": 83873.06300813009,
                        "count": 0
                      },
                      {
                        "bin_start": 83873.06300813009,
                        "bin_end": 85436.19105691057,
                        "count": 0
                      },
                      {
                        "bin_start": 85436.19105691057,
                        "bin_end": 86999.31910569106,
                        "count": 0
                      },
                      {
                        "bin_start": 86999.31910569106,
                        "bin_end": 88562.44715447155,
                        "count": 0
                      },
                      {
                        "bin_start": 88562.44715447155,
                        "bin_end": 90125.57520325204,
                        "count": 0
                      },
                      {
                        "bin_start": 90125.57520325204,
                        "bin_end": 91688.70325203253,
                        "count": 0
                      },
                      {
                        "bin_start": 91688.70325203253,
                        "bin_end": 93251.831300813,
                        "count": 0
                      },
                      {
                        "bin_start": 93251.831300813,
                        "bin_end": 94814.9593495935,
                        "count": 0
                      },
                      {
                        "bin_start": 94814.9593495935,
                        "bin_end": 96378.08739837399,
                        "count": 1
                      }
                    ]
                  }
                },
                {
                  "name": "V1",
                  "dtype": "float64",
                  "stats": {
                    "unique_count": 2,
                    "nan_count": 0,
                    "min": "-4.771948441479082",
                    "max": "-0.09606275626283106",
                    "histogram": [
                      {
                        "bin_start": -4.771948441479082,
                        "bin_end": -4.304359872957456,
                        "count": 1
                      },
                      {
                        "bin_start": -4.304359872957456,
                        "bin_end": -3.836771304435832,
                        "count": 0
                      },
                      {
                        "bin_start": -3.836771304435832,
                        "bin_end": -3.3691827359142064,
                        "count": 0
                      },
                      {
                        "bin_start": -3.3691827359142064,
                        "bin_end": -2.9015941673925814,
                        "count": 0
                      },
                      {
                        "bin_start": -2.9015941673925814,
                        "bin_end": -2.4340055988709564,
                        "count": 0
                      },
                      {
                        "bin_start": -2.4340055988709564,
                        "bin_end": -1.966417030349331,
                        "count": 0
                      },
                      {
                        "bin_start": -1.966417030349331,
                        "bin_end": -1.498828461827706,
                        "count": 0
                      },
                      {
                        "bin_start": -1.498828461827706,
                        "bin_end": -1.031239893306081,
                        "count": 0
                      },
                      {
                        "bin_start": -1.031239893306081,
                        "bin_end": -0.5636513247844555,
                        "count": 0
                      },
                      {
                        "bin_start": -0.5636513247844555,
                        "bin_end": -0.09606275626283106,
                        "count": 1
                      }
                    ]
                  }
                },
                {
                  "name": "V2",
                  "dtype": "float64",
                  "stats": {
                    "unique_count": 2,
                    "nan_count": 0,
                    "min": "0.001641705925926485",
                    "max": "3.6237781019822806",
                    "histogram": [
                      {
                        "bin_start": 0.001641705925926485,
                        "bin_end": 0.3638553455315619,
                        "count": 1
                      },
                      {
                        "bin_start": 0.3638553455315619,
                        "bin_end": 0.7260689851371973,
                        "count": 0
                      },
                      {
                        "bin_start": 0.7260689851371973,
                        "bin_end": 1.0882826247428325,
                        "count": 0
                      },
                      {
                        "bin_start": 1.0882826247428325,
                        "bin_end": 1.450496264348468,
                        "count": 0
                      },
                      {
                        "bin_start": 1.450496264348468,
                        "bin_end": 1.8127099039541035,
                        "count": 0
                      },
                      {
                        "bin_start": 1.8127099039541035,
                        "bin_end": 2.1749235435597387,
                        "count": 0
                      },
                      {
                        "bin_start": 2.1749235435597387,
                        "bin_end": 2.5371371831653744,
                        "count": 0
                      },
                      {
                        "bin_start": 2.5371371831653744,
                        "bin_end": 2.8993508227710096,
                        "count": 0
                      },
                      {
                        "bin_start": 2.8993508227710096,
                        "bin_end": 3.261564462376645,
                        "count": 0
                      },
                      {
                        "bin_start": 3.261564462376645,
                        "bin_end": 3.6237781019822806,
                        "count": 1
                      }
                    ]
                  }
                },
                {
                  "name": "V3",
                  "dtype": "float64",
                  "stats": {
                    "unique_count": 2,
                    "nan_count": 0,
                    "min": "-7.0332810485965584",
                    "max": "0.029527472252243604",
                    "histogram": [
                      {
                        "bin_start": -7.0332810485965584,
                        "bin_end": -6.327000196511678,
                        "count": 1
                      },
                      {
                        "bin_start": -6.327000196511678,
                        "bin_end": -5.6207193444267975,
                        "count": 0
                      },
                      {
                        "bin_start": -5.6207193444267975,
                        "bin_end": -4.914438492341918,
                        "count": 0
                      },
                      {
                        "bin_start": -4.914438492341918,
                        "bin_end": -4.2081576402570375,
                        "count": 0
                      },
                      {
                        "bin_start": -4.2081576402570375,
                        "bin_end": -3.501876788172157,
                        "count": 0
                      },
                      {
                        "bin_start": -3.501876788172157,
                        "bin_end": -2.7955959360872775,
                        "count": 0
                      },
                      {
                        "bin_start": -2.7955959360872775,
                        "bin_end": -2.089315084002397,
                        "count": 0
                      },
                      {
                        "bin_start": -2.089315084002397,
                        "bin_end": -1.3830342319175166,
                        "count": 0
                      },
                      {
                        "bin_start": -1.3830342319175166,
                        "bin_end": -0.6767533798326362,
                        "count": 0
                      },
                      {
                        "bin_start": -0.6767533798326362,
                        "bin_end": 0.029527472252243604,
                        "count": 1
                      }
                    ]
                  }
                },
                {
                  "name": "V4",
                  "dtype": "float64",
                  "stats": {
                    "unique_count": 2,
                    "nan_count": 0,
                    "min": "-0.026064889937380577",
                    "max": "4.542029104423093",
                    "histogram": [
                      {
                        "bin_start": -0.026064889937380577,
                        "bin_end": 0.4307445094986667,
                        "count": 1
                      },
                      {
                        "bin_start": 0.4307445094986667,
                        "bin_end": 0.8875539089347141,
                        "count": 0
                      },
                      {
                        "bin_start": 0.8875539089347141,
                        "bin_end": 1.3443633083707613,
                        "count": 0
                      },
                      {
                        "bin_start": 1.3443633083707613,
                        "bin_end": 1.8011727078068087,
                        "count": 0
                      },
                      {
                        "bin_start": 1.8011727078068087,
                        "bin_end": 2.257982107242856,
                        "count": 0
                      },
                      {
                        "bin_start": 2.257982107242856,
                        "bin_end": 2.7147915066789032,
                        "count": 0
                      },
                      {
                        "bin_start": 2.7147915066789032,
                        "bin_end": 3.171600906114951,
                        "count": 0
                      },
                      {
                        "bin_start": 3.171600906114951,
                        "bin_end": 3.628410305550998,
                        "count": 0
                      },
                      {
                        "bin_start": 3.628410305550998,
                        "bin_end": 4.085219704987045,
                        "count": 0
                      },
                      {
                        "bin_start": 4.085219704987045,
                        "bin_end": 4.542029104423093,
                        "count": 1
                      }
                    ]
                  }
                },
                {
                  "name": "V5",
                  "dtype": "float64",
                  "stats": {
                    "unique_count": 2,
                    "nan_count": 0,
                    "min": "-3.1512248859360046",
                    "max": "0.0405181979990862",
                    "histogram": [
                      {
                        "bin_start": -3.1512248859360046,
                        "bin_end": -2.8320505775424953,
                        "count": 1
                      },
                      {
                        "bin_start": -2.8320505775424953,
                        "bin_end": -2.5128762691489865,
                        "count": 0
                      },
                      {
                        "bin_start": -2.5128762691489865,
                        "bin_end": -2.1937019607554773,
                        "count": 0
                      },
                      {
                        "bin_start": -2.1937019607554773,
                        "bin_end": -1.8745276523619683,
                        "count": 0
                      },
                      {
                        "bin_start": -1.8745276523619683,
                        "bin_end": -1.5553533439684593,
                        "count": 0
                      },
                      {
                        "bin_start": -1.5553533439684593,
                        "bin_end": -1.23617903557495,
                        "count": 0
                      },
                      {
                        "bin_start": -1.23617903557495,
                        "bin_end": -0.9170047271814412,
                        "count": 0
                      },
                      {
                        "bin_start": -0.9170047271814412,
                        "bin_end": -0.597830418787932,
                        "count": 0
                      },
                      {
                        "bin_start": -0.597830418787932,
                        "bin_end": -0.27865611039442273,
                        "count": 0
                      },
                      {
                        "bin_start": -0.27865611039442273,
                        "bin_end": 0.0405181979990862,
                        "count": 1
                      }
                    ]
                  }
                },
                {
                  "name": "V6",
                  "dtype": "float64",
                  "stats": {
                    "unique_count": 2,
                    "nan_count": 0,
                    "min": "-1.3977367105923515",
                    "max": "-0.043099318711787",
                    "histogram": [
                      {
                        "bin_start": -1.3977367105923515,
                        "bin_end": -1.262272971404295,
                        "count": 1
                      },
                      {
                        "bin_start": -1.262272971404295,
                        "bin_end": -1.1268092322162386,
                        "count": 0
                      },
                      {
                        "bin_start": -1.1268092322162386,
                        "bin_end": -0.9913454930281821,
                        "count": 0
                      },
                      {
                        "bin_start": -0.9913454930281821,
                        "bin_end": -0.8558817538401257,
                        "count": 0
                      },
                      {
                        "bin_start": -0.8558817538401257,
                        "bin_end": -0.7204180146520692,
                        "count": 0
                      },
                      {
                        "bin_start": -0.7204180146520692,
                        "bin_end": -0.5849542754640127,
                        "count": 0
                      },
                      {
                        "bin_start": -0.5849542754640127,
                        "bin_end": -0.44949053627595625,
                        "count": 0
                      },
                      {
                        "bin_start": -0.44949053627595625,
                        "bin_end": -0.3140267970878998,
                        "count": 0
                      },
                      {
                        "bin_start": -0.3140267970878998,
                        "bin_end": -0.1785630578998434,
                        "count": 0
                      },
                      {
                        "bin_start": -0.1785630578998434,
                        "bin_end": -0.043099318711787,
                        "count": 1
                      }
                    ]
                  }
                },
                {
                  "name": "V7",
                  "dtype": "float64",
                  "stats": {
                    "unique_count": 2,
                    "nan_count": 0,
                    "min": "-5.5687310837427395",
                    "max": "0.09277715216589356",
                    "histogram": [
                      {
                        "bin_start": -5.5687310837427395,
                        "bin_end": -5.002580260151876,
                        "count": 1
                      },
                      {
                        "bin_start": -5.002580260151876,
                        "bin_end": -4.436429436561013,
                        "count": 0
                      },
                      {
                        "bin_start": -4.436429436561013,
                        "bin_end": -3.8702786129701496,
                        "count": 0
                      },
                      {
                        "bin_start": -3.8702786129701496,
                        "bin_end": -3.304127789379286,
                        "count": 0
                      },
                      {
                        "bin_start": -3.304127789379286,
                        "bin_end": -2.7379769657884228,
                        "count": 0
                      },
                      {
                        "bin_start": -2.7379769657884228,
                        "bin_end": -2.1718261421975598,
                        "count": 0
                      },
                      {
                        "bin_start": -2.1718261421975598,
                        "bin_end": -1.6056753186066963,
                        "count": 0
                      },
                      {
                        "bin_start": -1.6056753186066963,
                        "bin_end": -1.0395244950158329,
                        "count": 0
                      },
                      {
                        "bin_start": -1.0395244950158329,
                        "bin_end": -0.47337367142496944,
                        "count": 0
                      },
                      {
                        "bin_start": -0.47337367142496944,
                        "bin_end": 0.09277715216589356,
                        "count": 1
                      }
                    ]
                  }
                },
                {
                  "name": "V8",
                  "dtype": "float64",
                  "stats": {
                    "unique_count": 2,
                    "nan_count": 0,
                    "min": "-0.01078457292297569",
                    "max": "0.5706358952962378",
                    "histogram": [
                      {
                        "bin_start": -0.01078457292297569,
                        "bin_end": 0.047357473898945665,
                        "count": 1
                      },
                      {
                        "bin_start": 0.047357473898945665,
                        "bin_end": 0.10549952072086702,
                        "count": 0
                      },
                      {
                        "bin_start": 0.10549952072086702,
                        "bin_end": 0.16364156754278836,
                        "count": 0
                      },
                      {
                        "bin_start": 0.16364156754278836,
                        "bin_end": 0.22178361436470972,
                        "count": 0
                      },
                      {
                        "bin_start": 0.22178361436470972,
                        "bin_end": 0.2799256611866311,
                        "count": 0
                      },
                      {
                        "bin_start": 0.2799256611866311,
                        "bin_end": 0.3380677080085524,
                        "count": 0
                      },
                      {
                        "bin_start": 0.3380677080085524,
                        "bin_end": 0.39620975483047377,
                        "count": 0
                      },
                      {
                        "bin_start": 0.39620975483047377,
                        "bin_end": 0.45435180165239514,
                        "count": 0
                      },
                      {
                        "bin_start": 0.45435180165239514,
                        "bin_end": 0.5124938484743164,
                        "count": 0
                      },
                      {
                        "bin_start": 0.5124938484743164,
                        "bin_end": 0.5706358952962378,
                        "count": 1
                      }
                    ]
                  }
                },
                {
                  "name": "V9",
                  "dtype": "float64",
                  "stats": {
                    "unique_count": 2,
                    "nan_count": 0,
                    "min": "-2.5811229217029954",
                    "max": "0.057974544345395146",
                    "histogram": [
                      {
                        "bin_start": -2.5811229217029954,
                        "bin_end": -2.317213175098156,
                        "count": 1
                      },
                      {
                        "bin_start": -2.317213175098156,
                        "bin_end": -2.0533034284933174,
                        "count": 0
                      },
                      {
                        "bin_start": -2.0533034284933174,
                        "bin_end": -1.7893936818884781,
                        "count": 0
                      },
                      {
                        "bin_start": -1.7893936818884781,
                        "bin_end": -1.5254839352836391,
                        "count": 0
                      },
                      {
                        "bin_start": -1.5254839352836391,
                        "bin_end": -1.2615741886788001,
                        "count": 0
                      },
                      {
                        "bin_start": -1.2615741886788001,
                        "bin_end": -0.9976644420739609,
                        "count": 0
                      },
                      {
                        "bin_start": -0.9976644420739609,
                        "bin_end": -0.7337546954691219,
                        "count": 0
                      },
                      {
                        "bin_start": -0.7337546954691219,
                        "bin_end": -0.46984494886428285,
                        "count": 0
                      },
                      {
                        "bin_start": -0.46984494886428285,
                        "bin_end": -0.20593520225944362,
                        "count": 0
                      },
                      {
                        "bin_start": -0.20593520225944362,
                        "bin_end": 0.057974544345395146,
                        "count": 1
                      }
                    ]
                  }
                },
                {
                  "name": "V10",
                  "dtype": "float64",
                  "stats": {
                    "unique_count": 2,
                    "nan_count": 0,
                    "min": "-5.676882870194368",
                    "max": "-9.45748387323069e-05",
                    "histogram": [
                      {
                        "bin_start": -5.676882870194368,
                        "bin_end": -5.109204040658804,
                        "count": 1
                      },
                      {
                        "bin_start": -5.109204040658804,
                        "bin_end": -4.541525211123241,
                        "count": 0
                      },
                      {
                        "bin_start": -4.541525211123241,
                        "bin_end": -3.9738463815876774,
                        "count": 0
                      },
                      {
                        "bin_start": -3.9738463815876774,
                        "bin_end": -3.4061675520521137,
                        "count": 0
                      },
                      {
                        "bin_start": -3.4061675520521137,
                        "bin_end": -2.83848872251655,
                        "count": 0
                      },
                      {
                        "bin_start": -2.83848872251655,
                        "bin_end": -2.270809892980987,
                        "count": 0
                      },
                      {
                        "bin_start": -2.270809892980987,
                        "bin_end": -1.703131063445423,
                        "count": 0
                      },
                      {
                        "bin_start": -1.703131063445423,
                        "bin_end": -1.1354522339098594,
                        "count": 0
                      },
                      {
                        "bin_start": -1.1354522339098594,
                        "bin_end": -0.5677734043742957,
                        "count": 0
                      },
                      {
                        "bin_start": -0.5677734043742957,
                        "bin_end": -0.0000945748387323069,
                        "count": 1
                      }
                    ]
                  }
                },
                {
                  "name": "V11",
                  "dtype": "float64",
                  "stats": {
                    "unique_count": 2,
                    "nan_count": 0,
                    "min": "0.0325440371681591",
                    "max": "3.800172911374607",
                    "histogram": [
                      {
                        "bin_start": 0.0325440371681591,
                        "bin_end": 0.40930692458880397,
                        "count": 1
                      },
                      {
                        "bin_start": 0.40930692458880397,
                        "bin_end": 0.7860698120094488,
                        "count": 0
                      },
                      {
                        "bin_start": 0.7860698120094488,
                        "bin_end": 1.1628326994300937,
                        "count": 0
                      },
                      {
                        "bin_start": 1.1628326994300937,
                        "bin_end": 1.5395955868507385,
                        "count": 0
                      },
                      {
                        "bin_start": 1.5395955868507385,
                        "bin_end": 1.9163584742713833,
                        "count": 0
                      },
                      {
                        "bin_start": 1.9163584742713833,
                        "bin_end": 2.293121361692028,
                        "count": 0
                      },
                      {
                        "bin_start": 2.293121361692028,
                        "bin_end": 2.669884249112673,
                        "count": 0
                      },
                      {
                        "bin_start": 2.669884249112673,
                        "bin_end": 3.0466471365333176,
                        "count": 0
                      },
                      {
                        "bin_start": 3.0466471365333176,
                        "bin_end": 3.4234100239539624,
                        "count": 0
                      },
                      {
                        "bin_start": 3.4234100239539624,
                        "bin_end": 3.800172911374607,
                        "count": 1
                      }
                    ]
                  }
                },
                {
                  "name": "V12",
                  "dtype": "float64",
                  "stats": {
                    "unique_count": 2,
                    "nan_count": 0,
                    "min": "-6.259393036190131",
                    "max": "-0.10650631157429845",
                    "histogram": [
                      {
                        "bin_start": -6.259393036190131,
                        "bin_end": -5.644104363728548,
                        "count": 1
                      },
                      {
                        "bin_start": -5.644104363728548,
                        "bin_end": -5.028815691266964,
                        "count": 0
                      },
                      {
                        "bin_start": -5.028815691266964,
                        "bin_end": -4.4135270188053815,
                        "count": 0
                      },
                      {
                        "bin_start": -4.4135270188053815,
                        "bin_end": -3.798238346343798,
                        "count": 0
                      },
                      {
                        "bin_start": -3.798238346343798,
                        "bin_end": -3.1829496738822147,
                        "count": 0
                      },
                      {
                        "bin_start": -3.1829496738822147,
                        "bin_end": -2.567661001420632,
                        "count": 0
                      },
                      {
                        "bin_start": -2.567661001420632,
                        "bin_end": -1.952372328959048,
                        "count": 0
                      },
                      {
                        "bin_start": -1.952372328959048,
                        "bin_end": -1.337083656497465,
                        "count": 0
                      },
                      {
                        "bin_start": -1.337083656497465,
                        "bin_end": -0.7217949840358822,
                        "count": 0
                      },
                      {
                        "bin_start": -0.7217949840358822,
                        "bin_end": -0.10650631157429845,
                        "count": 1
                      }
                    ]
                  }
                },
                {
                  "name": "V13",
                  "dtype": "float64",
                  "stats": {
                    "unique_count": 2,
                    "nan_count": 0,
                    "min": "-0.10933381708278404",
                    "max": "-0.009926289936919703",
                    "histogram": [
                      {
                        "bin_start": -0.10933381708278404,
                        "bin_end": -0.09939306436819761,
                        "count": 1
                      },
                      {
                        "bin_start": -0.09939306436819761,
                        "bin_end": -0.08945231165361117,
                        "count": 0
                      },
                      {
                        "bin_start": -0.08945231165361117,
                        "bin_end": -0.07951155893902474,
                        "count": 0
                      },
                      {
                        "bin_start": -0.07951155893902474,
                        "bin_end": -0.06957080622443831,
                        "count": 0
                      },
                      {
                        "bin_start": -0.06957080622443831,
                        "bin_end": -0.05963005350985187,
                        "count": 0
                      },
                      {
                        "bin_start": -0.05963005350985187,
                        "bin_end": -0.04968930079526544,
                        "count": 0
                      },
                      {
                        "bin_start": -0.04968930079526544,
                        "bin_end": -0.039748548080679,
                        "count": 0
                      },
                      {
                        "bin_start": -0.039748548080679,
                        "bin_end": -0.02980779536609257,
                        "count": 0
                      },
                      {
                        "bin_start": -0.02980779536609257,
                        "bin_end": -0.019867042651506142,
                        "count": 0
                      },
                      {
                        "bin_start": -0.019867042651506142,
                        "bin_end": -0.009926289936919703,
                        "count": 1
                      }
                    ]
                  }
                },
                {
                  "name": "V14",
                  "dtype": "float64",
                  "stats": {
                    "unique_count": 2,
                    "nan_count": 0,
                    "min": "-6.971722894107602",
                    "max": "0.040337517104902736",
                    "histogram": [
                      {
                        "bin_start": -6.971722894107602,
                        "bin_end": -6.2705168529863515,
                        "count": 1
                      },
                      {
                        "bin_start": -6.2705168529863515,
                        "bin_end": -5.569310811865101,
                        "count": 0
                      },
                      {
                        "bin_start": -5.569310811865101,
                        "bin_end": -4.86810477074385,
                        "count": 0
                      },
                      {
                        "bin_start": -4.86810477074385,
                        "bin_end": -4.1668987296226,
                        "count": 0
                      },
                      {
                        "bin_start": -4.1668987296226,
                        "bin_end": -3.4656926885013495,
                        "count": 0
                      },
                      {
                        "bin_start": -3.4656926885013495,
                        "bin_end": -2.7644866473800986,
                        "count": 0
                      },
                      {
                        "bin_start": -2.7644866473800986,
                        "bin_end": -2.0632806062588482,
                        "count": 0
                      },
                      {
                        "bin_start": -2.0632806062588482,
                        "bin_end": -1.3620745651375978,
                        "count": 0
                      },
                      {
                        "bin_start": -1.3620745651375978,
                        "bin_end": -0.6608685240163474,
                        "count": 0
                      },
                      {
                        "bin_start": -0.6608685240163474,
                        "bin_end": 0.040337517104902736,
                        "count": 1
                      }
                    ]
                  }
                },
                {
                  "name": "V15",
                  "dtype": "float64",
                  "stats": {
                    "unique_count": 2,
                    "nan_count": 0,
                    "min": "-0.09292874691208504",
                    "max": "-0.07691744861039843",
                    "histogram": [
                      {
                        "bin_start": -0.09292874691208504,
                        "bin_end": -0.09132761708191638,
                        "count": 1
                      },
                      {
                        "bin_start": -0.09132761708191638,
                        "bin_end": -0.08972648725174771,
                        "count": 0
                      },
                      {
                        "bin_start": -0.08972648725174771,
                        "bin_end": -0.08812535742157905,
                        "count": 0
                      },
                      {
                        "bin_start": -0.08812535742157905,
                        "bin_end": -0.08652422759141039,
                        "count": 0
                      },
                      {
                        "bin_start": -0.08652422759141039,
                        "bin_end": -0.08492309776124174,
                        "count": 0
                      },
                      {
                        "bin_start": -0.08492309776124174,
                        "bin_end": -0.08332196793107308,
                        "count": 0
                      },
                      {
                        "bin_start": -0.08332196793107308,
                        "bin_end": -0.08172083810090441,
                        "count": 0
                      },
                      {
                        "bin_start": -0.08172083810090441,
                        "bin_end": -0.08011970827073575,
                        "count": 0
                      },
                      {
                        "bin_start": -0.08011970827073575,
                        "bin_end": -0.07851857844056709,
                        "count": 0
                      },
                      {
                        "bin_start": -0.07851857844056709,
                        "bin_end": -0.07691744861039843,
                        "count": 1
                      }
                    ]
                  }
                },
                {
                  "name": "V16",
                  "dtype": "float64",
                  "stats": {
                    "unique_count": 2,
                    "nan_count": 0,
                    "min": "-4.139945699092808",
                    "max": "0.033829461382877",
                    "histogram": [
                      {
                        "bin_start": -4.139945699092808,
                        "bin_end": -3.7225681830452393,
                        "count": 1
                      },
                      {
                        "bin_start": -3.7225681830452393,
                        "bin_end": -3.305190666997671,
                        "count": 0
                      },
                      {
                        "bin_start": -3.305190666997671,
                        "bin_end": -2.887813150950102,
                        "count": 0
                      },
                      {
                        "bin_start": -2.887813150950102,
                        "bin_end": -2.470435634902534,
                        "count": 0
                      },
                      {
                        "bin_start": -2.470435634902534,
                        "bin_end": -2.0530581188549655,
                        "count": 0
                      },
                      {
                        "bin_start": -2.0530581188549655,
                        "bin_end": -1.6356806028073967,
                        "count": 0
                      },
                      {
                        "bin_start": -1.6356806028073967,
                        "bin_end": -1.2183030867598283,
                        "count": 0
                      },
                      {
                        "bin_start": -1.2183030867598283,
                        "bin_end": -0.80092557071226,
                        "count": 0
                      },
                      {
                        "bin_start": -0.80092557071226,
                        "bin_end": -0.38354805466469166,
                        "count": 0
                      },
                      {
                        "bin_start": -0.38354805466469166,
                        "bin_end": 0.033829461382877,
                        "count": 1
                      }
                    ]
                  }
                },
                {
                  "name": "V17",
                  "dtype": "float64",
                  "stats": {
                    "unique_count": 2,
                    "nan_count": 0,
                    "min": "-6.665836399449663",
                    "max": "0.028558556535894473",
                    "histogram": [
                      {
                        "bin_start": -6.665836399449663,
                        "bin_end": -5.996396903851108,
                        "count": 1
                      },
                      {
                        "bin_start": -5.996396903851108,
                        "bin_end": -5.326957408252552,
                        "count": 0
                      },
                      {
                        "bin_start": -5.326957408252552,
                        "bin_end": -4.657517912653995,
                        "count": 0
                      },
                      {
                        "bin_start": -4.657517912653995,
                        "bin_end": -3.98807841705544,
                        "count": 0
                      },
                      {
                        "bin_start": -3.98807841705544,
                        "bin_end": -3.3186389214568845,
                        "count": 0
                      },
                      {
                        "bin_start": -3.3186389214568845,
                        "bin_end": -2.6491994258583285,
                        "count": 0
                      },
                      {
                        "bin_start": -2.6491994258583285,
                        "bin_end": -1.9797599302597728,
                        "count": 0
                      },
                      {
                        "bin_start": -1.9797599302597728,
                        "bin_end": -1.3103204346612172,
                        "count": 0
                      },
                      {
                        "bin_start": -1.3103204346612172,
                        "bin_end": -0.6408809390626615,
                        "count": 0
                      },
                      {
                        "bin_start": -0.6408809390626615,
                        "bin_end": 0.028558556535894473,
                        "count": 1
                      }
                    ]
                  }
                },
                {
                  "name": "V18",
                  "dtype": "float64",
                  "stats": {
                    "unique_count": 2,
                    "nan_count": 0,
                    "min": "-2.2463081339714064",
                    "max": "-0.0059858617883604935",
                    "histogram": [
                      {
                        "bin_start": -2.2463081339714064,
                        "bin_end": -2.022275906753102,
                        "count": 1
                      },
                      {
                        "bin_start": -2.022275906753102,
                        "bin_end": -1.7982436795347971,
                        "count": 0
                      },
                      {
                        "bin_start": -1.7982436795347971,
                        "bin_end": -1.5742114523164927,
                        "count": 0
                      },
                      {
                        "bin_start": -1.5742114523164927,
                        "bin_end": -1.350179225098188,
                        "count": 0
                      },
                      {
                        "bin_start": -1.350179225098188,
                        "bin_end": -1.1261469978798835,
                        "count": 0
                      },
                      {
                        "bin_start": -1.1261469978798835,
                        "bin_end": -0.9021147706615791,
                        "count": 0
                      },
                      {
                        "bin_start": -0.9021147706615791,
                        "bin_end": -0.6780825434432745,
                        "count": 0
                      },
                      {
                        "bin_start": -0.6780825434432745,
                        "bin_end": -0.45405031622496983,
                        "count": 0
                      },
                      {
                        "bin_start": -0.45405031622496983,
                        "bin_end": -0.23001808900666543,
                        "count": 0
                      },
                      {
                        "bin_start": -0.23001808900666543,
                        "bin_end": -0.0059858617883604935,
                        "count": 1
                      }
                    ]
                  }
                },
                {
                  "name": "V19",
                  "dtype": "float64",
                  "stats": {
                    "unique_count": 2,
                    "nan_count": 0,
                    "min": "-0.017940990388672886",
                    "max": "0.680659303475429",
                    "histogram": [
                      {
                        "bin_start": -0.017940990388672886,
                        "bin_end": 0.05191903899773731,
                        "count": 1
                      },
                      {
                        "bin_start": 0.05191903899773731,
                        "bin_end": 0.12177906838414751,
                        "count": 0
                      },
                      {
                        "bin_start": 0.12177906838414751,
                        "bin_end": 0.1916390977705577,
                        "count": 0
                      },
                      {
                        "bin_start": 0.1916390977705577,
                        "bin_end": 0.26149912715696794,
                        "count": 0
                      },
                      {
                        "bin_start": 0.26149912715696794,
                        "bin_end": 0.33135915654337816,
                        "count": 0
                      },
                      {
                        "bin_start": 0.33135915654337816,
                        "bin_end": 0.40121918592978834,
                        "count": 0
                      },
                      {
                        "bin_start": 0.40121918592978834,
                        "bin_end": 0.4710792153161985,
                        "count": 0
                      },
                      {
                        "bin_start": 0.4710792153161985,
                        "bin_end": 0.5409392447026087,
                        "count": 0
                      },
                      {
                        "bin_start": 0.5409392447026087,
                        "bin_end": 0.6107992740890189,
                        "count": 0
                      },
                      {
                        "bin_start": 0.6107992740890189,
                        "bin_end": 0.680659303475429,
                        "count": 1
                      }
                    ]
                  }
                },
                {
                  "name": "V20",
                  "dtype": "float64",
                  "stats": {
                    "unique_count": 2,
                    "nan_count": 0,
                    "min": "-0.008052282467824384",
                    "max": "0.37231939577147166",
                    "histogram": [
                      {
                        "bin_start": -0.008052282467824384,
                        "bin_end": 0.029984885356105224,
                        "count": 1
                      },
                      {
                        "bin_start": 0.029984885356105224,
                        "bin_end": 0.06802205318003483,
                        "count": 0
                      },
                      {
                        "bin_start": 0.06802205318003483,
                        "bin_end": 0.10605922100396445,
                        "count": 0
                      },
                      {
                        "bin_start": 0.10605922100396445,
                        "bin_end": 0.14409638882789405,
                        "count": 0
                      },
                      {
                        "bin_start": 0.14409638882789405,
                        "bin_end": 0.18213355665182365,
                        "count": 0
                      },
                      {
                        "bin_start": 0.18213355665182365,
                        "bin_end": 0.22017072447575328,
                        "count": 0
                      },
                      {
                        "bin_start": 0.22017072447575328,
                        "bin_end": 0.2582078922996829,
                        "count": 0
                      },
                      {
                        "bin_start": 0.2582078922996829,
                        "bin_end": 0.2962450601236125,
                        "count": 0
                      },
                      {
                        "bin_start": 0.2962450601236125,
                        "bin_end": 0.33428222794754214,
                        "count": 0
                      },
                      {
                        "bin_start": 0.33428222794754214,
                        "bin_end": 0.37231939577147166,
                        "count": 1
                      }
                    ]
                  }
                },
                {
                  "name": "V21",
                  "dtype": "float64",
                  "stats": {
                    "unique_count": 2,
                    "nan_count": 0,
                    "min": "-0.03524221809832553",
                    "max": "0.7135883526687006",
                    "histogram": [
                      {
                        "bin_start": -0.03524221809832553,
                        "bin_end": 0.03964083897837708,
                        "count": 1
                      },
                      {
                        "bin_start": 0.03964083897837708,
                        "bin_end": 0.11452389605507968,
                        "count": 0
                      },
                      {
                        "bin_start": 0.11452389605507968,
                        "bin_end": 0.18940695313178227,
                        "count": 0
                      },
                      {
                        "bin_start": 0.18940695313178227,
                        "bin_end": 0.2642900102084849,
                        "count": 0
                      },
                      {
                        "bin_start": 0.2642900102084849,
                        "bin_end": 0.33917306728518754,
                        "count": 0
                      },
                      {
                        "bin_start": 0.33917306728518754,
                        "bin_end": 0.4140561243618901,
                        "count": 0
                      },
                      {
                        "bin_start": 0.4140561243618901,
                        "bin_end": 0.4889391814385927,
                        "count": 0
                      },
                      {
                        "bin_start": 0.4889391814385927,
                        "bin_end": 0.5638222385152953,
                        "count": 0
                      },
                      {
                        "bin_start": 0.5638222385152953,
                        "bin_end": 0.638705295591998,
                        "count": 0
                      },
                      {
                        "bin_start": 0.638705295591998,
                        "bin_end": 0.7135883526687006,
                        "count": 1
                      }
                    ]
                  }
                },
                {
                  "name": "V22",
                  "dtype": "float64",
                  "stats": {
                    "unique_count": 2,
                    "nan_count": 0,
                    "min": "0.00830577167599791",
                    "max": "0.01404888214012134",
                    "histogram": [
                      {
                        "bin_start": 0.00830577167599791,
                        "bin_end": 0.008880082722410254,
                        "count": 1
                      },
                      {
                        "bin_start": 0.008880082722410254,
                        "bin_end": 0.009454393768822596,
                        "count": 0
                      },
                      {
                        "bin_start": 0.009454393768822596,
                        "bin_end": 0.01002870481523494,
                        "count": 0
                      },
                      {
                        "bin_start": 0.01002870481523494,
                        "bin_end": 0.010603015861647282,
                        "count": 0
                      },
                      {
                        "bin_start": 0.010603015861647282,
                        "bin_end": 0.011177326908059625,
                        "count": 0
                      },
                      {
                        "bin_start": 0.011177326908059625,
                        "bin_end": 0.011751637954471969,
                        "count": 0
                      },
                      {
                        "bin_start": 0.011751637954471969,
                        "bin_end": 0.012325949000884313,
                        "count": 0
                      },
                      {
                        "bin_start": 0.012325949000884313,
                        "bin_end": 0.012900260047296655,
                        "count": 0
                      },
                      {
                        "bin_start": 0.012900260047296655,
                        "bin_end": 0.013474571093708997,
                        "count": 0
                      },
                      {
                        "bin_start": 0.013474571093708997,
                        "bin_end": 0.01404888214012134,
                        "count": 1
                      }
                    ]
                  }
                },
                {
                  "name": "V23",
                  "dtype": "float64",
                  "stats": {
                    "unique_count": 2,
                    "nan_count": 0,
                    "min": "-0.04506273505042012",
                    "max": "-0.04030796594836945",
                    "histogram": [
                      {
                        "bin_start": -0.04506273505042012,
                        "bin_end": -0.04458725814021505,
                        "count": 1
                      },
                      {
                        "bin_start": -0.04458725814021505,
                        "bin_end": -0.044111781230009986,
                        "count": 0
                      },
                      {
                        "bin_start": -0.044111781230009986,
                        "bin_end": -0.04363630431980492,
                        "count": 0
                      },
                      {
                        "bin_start": -0.04363630431980492,
                        "bin_end": -0.04316082740959985,
                        "count": 0
                      },
                      {
                        "bin_start": -0.04316082740959985,
                        "bin_end": -0.042685350499394786,
                        "count": 0
                      },
                      {
                        "bin_start": -0.042685350499394786,
                        "bin_end": -0.04220987358918971,
                        "count": 0
                      },
                      {
                        "bin_start": -0.04220987358918971,
                        "bin_end": -0.041734396678984646,
                        "count": 0
                      },
                      {
                        "bin_start": -0.041734396678984646,
                        "bin_end": -0.04125891976877958,
                        "count": 0
                      },
                      {
                        "bin_start": -0.04125891976877958,
                        "bin_end": -0.04078344285857451,
                        "count": 0
                      },
                      {
                        "bin_start": -0.04078344285857451,
                        "bin_end": -0.04030796594836945,
                        "count": 1
                      }
                    ]
                  }
                },
                {
                  "name": "V24",
                  "dtype": "float64",
                  "stats": {
                    "unique_count": 2,
                    "nan_count": 0,
                    "min": "-0.1051303054394829",
                    "max": "0.041046046104205",
                    "histogram": [
                      {
                        "bin_start": -0.1051303054394829,
                        "bin_end": -0.09051267028511412,
                        "count": 1
                      },
                      {
                        "bin_start": -0.09051267028511412,
                        "bin_end": -0.07589503513074532,
                        "count": 0
                      },
                      {
                        "bin_start": -0.07589503513074532,
                        "bin_end": -0.06127739997637653,
                        "count": 0
                      },
                      {
                        "bin_start": -0.06127739997637653,
                        "bin_end": -0.04665976482200774,
                        "count": 0
                      },
                      {
                        "bin_start": -0.04665976482200774,
                        "bin_end": -0.03204212966763895,
                        "count": 0
                      },
                      {
                        "bin_start": -0.03204212966763895,
                        "bin_end": -0.01742449451327016,
                        "count": 0
                      },
                      {
                        "bin_start": -0.01742449451327016,
                        "bin_end": -0.002806859358901362,
                        "count": 0
                      },
                      {
                        "bin_start": -0.002806859358901362,
                        "bin_end": 0.011810775795467424,
                        "count": 0
                      },
                      {
                        "bin_start": 0.011810775795467424,
                        "bin_end": 0.026428410949836223,
                        "count": 0
                      },
                      {
                        "bin_start": 0.026428410949836223,
                        "bin_end": 0.041046046104205,
                        "count": 1
                      }
                    ]
                  }
                },
                {
                  "name": "V25",
                  "dtype": "float64",
                  "stats": {
                    "unique_count": 2,
                    "nan_count": 0,
                    "min": "-0.03192590835899069",
                    "max": "0.04144888726282707",
                    "histogram": [
                      {
                        "bin_start": -0.03192590835899069,
                        "bin_end": -0.024588428796808913,
                        "count": 1
                      },
                      {
                        "bin_start": -0.024588428796808913,
                        "bin_end": -0.017250949234627135,
                        "count": 0
                      },
                      {
                        "bin_start": -0.017250949234627135,
                        "bin_end": -0.009913469672445357,
                        "count": 0
                      },
                      {
                        "bin_start": -0.009913469672445357,
                        "bin_end": -0.002575990110263583,
                        "count": 0
                      },
                      {
                        "bin_start": -0.002575990110263583,
                        "bin_end": 0.004761489451918191,
                        "count": 0
                      },
                      {
                        "bin_start": 0.004761489451918191,
                        "bin_end": 0.012098969014099972,
                        "count": 0
                      },
                      {
                        "bin_start": 0.012098969014099972,
                        "bin_end": 0.019436448576281747,
                        "count": 0
                      },
                      {
                        "bin_start": 0.019436448576281747,
                        "bin_end": 0.02677392813846352,
                        "count": 0
                      },
                      {
                        "bin_start": 0.02677392813846352,
                        "bin_end": 0.0341114077006453,
                        "count": 0
                      },
                      {
                        "bin_start": 0.0341114077006453,
                        "bin_end": 0.04144888726282707,
                        "count": 1
                      }
                    ]
                  }
                },
                {
                  "name": "V26",
                  "dtype": "float64",
                  "stats": {
                    "unique_count": 2,
                    "nan_count": 0,
                    "min": "0.014674784741926841",
                    "max": "0.05164812556245366",
                    "histogram": [
                      {
                        "bin_start": 0.014674784741926841,
                        "bin_end": 0.018372118823979523,
                        "count": 1
                      },
                      {
                        "bin_start": 0.018372118823979523,
                        "bin_end": 0.022069452906032204,
                        "count": 0
                      },
                      {
                        "bin_start": 0.022069452906032204,
                        "bin_end": 0.025766786988084885,
                        "count": 0
                      },
                      {
                        "bin_start": 0.025766786988084885,
                        "bin_end": 0.02946412107013757,
                        "count": 0
                      },
                      {
                        "bin_start": 0.02946412107013757,
                        "bin_end": 0.03316145515219025,
                        "count": 0
                      },
                      {
                        "bin_start": 0.03316145515219025,
                        "bin_end": 0.036858789234242934,
                        "count": 0
                      },
                      {
                        "bin_start": 0.036858789234242934,
                        "bin_end": 0.040556123316295614,
                        "count": 0
                      },
                      {
                        "bin_start": 0.040556123316295614,
                        "bin_end": 0.044253457398348295,
                        "count": 0
                      },
                      {
                        "bin_start": 0.044253457398348295,
                        "bin_end": 0.04795079148040098,
                        "count": 0
                      },
                      {
                        "bin_start": 0.04795079148040098,
                        "bin_end": 0.05164812556245366,
                        "count": 1
                      }
                    ]
                  }
                },
                {
                  "name": "V27",
                  "dtype": "float64",
                  "stats": {
                    "unique_count": 2,
                    "nan_count": 0,
                    "min": "-0.03037498400455404",
                    "max": "0.17057479224418595",
                    "histogram": [
                      {
                        "bin_start": -0.03037498400455404,
                        "bin_end": -0.010280006379680039,
                        "count": 1
                      },
                      {
                        "bin_start": -0.010280006379680039,
                        "bin_end": 0.009814971245193961,
                        "count": 0
                      },
                      {
                        "bin_start": 0.009814971245193961,
                        "bin_end": 0.02990994887006796,
                        "count": 0
                      },
                      {
                        "bin_start": 0.02990994887006796,
                        "bin_end": 0.05000492649494196,
                        "count": 0
                      },
                      {
                        "bin_start": 0.05000492649494196,
                        "bin_end": 0.07009990411981595,
                        "count": 0
                      },
                      {
                        "bin_start": 0.07009990411981595,
                        "bin_end": 0.09019488174468995,
                        "count": 0
                      },
                      {
                        "bin_start": 0.09019488174468995,
                        "bin_end": 0.11028985936956395,
                        "count": 0
                      },
                      {
                        "bin_start": 0.11028985936956395,
                        "bin_end": 0.13038483699443795,
                        "count": 0
                      },
                      {
                        "bin_start": 0.13038483699443795,
                        "bin_end": 0.15047981461931195,
                        "count": 0
                      },
                      {
                        "bin_start": 0.15047981461931195,
                        "bin_end": 0.17057479224418595,
                        "count": 1
                      }
                    ]
                  }
                },
                {
                  "name": "V28",
                  "dtype": "float64",
                  "stats": {
                    "unique_count": 2,
                    "nan_count": 0,
                    "min": "0.013437075769585721",
                    "max": "0.0756672906457746",
                    "histogram": [
                      {
                        "bin_start": 0.013437075769585721,
                        "bin_end": 0.01966009725720461,
                        "count": 1
                      },
                      {
                        "bin_start": 0.01966009725720461,
                        "bin_end": 0.025883118744823498,
                        "count": 0
                      },
                      {
                        "bin_start": 0.025883118744823498,
                        "bin_end": 0.03210614023244238,
                        "count": 0
                      },
                      {
                        "bin_start": 0.03210614023244238,
                        "bin_end": 0.038329161720061275,
                        "count": 0
                      },
                      {
                        "bin_start": 0.038329161720061275,
                        "bin_end": 0.04455218320768016,
                        "count": 0
                      },
                      {
                        "bin_start": 0.04455218320768016,
                        "bin_end": 0.050775204695299045,
                        "count": 0
                      },
                      {
                        "bin_start": 0.050775204695299045,
                        "bin_end": 0.05699822618291794,
                        "count": 0
                      },
                      {
                        "bin_start": 0.05699822618291794,
                        "bin_end": 0.06322124767053683,
                        "count": 0
                      },
                      {
                        "bin_start": 0.06322124767053683,
                        "bin_end": 0.06944426915815571,
                        "count": 0
                      },
                      {
                        "bin_start": 0.06944426915815571,
                        "bin_end": 0.0756672906457746,
                        "count": 1
                      }
                    ]
                  }
                },
                {
                  "name": "Amount",
                  "dtype": "float64",
                  "stats": {
                    "unique_count": 2,
                    "nan_count": 0,
                    "min": "88.99176829268292",
                    "max": "122.21132113821139",
                    "histogram": [
                      {
                        "bin_start": 88.99176829268292,
                        "bin_end": 92.31372357723576,
                        "count": 1
                      },
                      {
                        "bin_start": 92.31372357723576,
                        "bin_end": 95.63567886178862,
                        "count": 0
                      },
                      {
                        "bin_start": 95.63567886178862,
                        "bin_end": 98.95763414634146,
                        "count": 0
                      },
                      {
                        "bin_start": 98.95763414634146,
                        "bin_end": 102.2795894308943,
                        "count": 0
                      },
                      {
                        "bin_start": 102.2795894308943,
                        "bin_end": 105.60154471544715,
                        "count": 0
                      },
                      {
                        "bin_start": 105.60154471544715,
                        "bin_end": 108.9235,
                        "count": 0
                      },
                      {
                        "bin_start": 108.9235,
                        "bin_end": 112.24545528455285,
                        "count": 0
                      },
                      {
                        "bin_start": 112.24545528455285,
                        "bin_end": 115.5674105691057,
                        "count": 0
                      },
                      {
                        "bin_start": 115.5674105691057,
                        "bin_end": 118.88936585365855,
                        "count": 0
                      },
                      {
                        "bin_start": 118.88936585365855,
                        "bin_end": 122.21132113821139,
                        "count": 1
                      }
                    ]
                  }
                },
                {
                  "name": "_deepnote_index_column",
                  "dtype": "int64"
                }
              ],
              "rows": [
                {
                  "Time": 96378.08739837399,
                  "V1": -0.09606275626283106,
                  "V2": 0.001641705925926485,
                  "V3": 0.029527472252243604,
                  "V4": -0.026064889937380577,
                  "V5": 0.0405181979990862,
                  "V6": -0.043099318711787,
                  "V7": 0.09277715216589356,
                  "V8": -0.01078457292297569,
                  "V9": 0.057974544345395146,
                  "V10": -0.0000945748387323069,
                  "V11": 0.0325440371681591,
                  "V12": -0.10650631157429845,
                  "V13": -0.009926289936919703,
                  "V14": 0.040337517104902736,
                  "V15": -0.07691744861039843,
                  "V16": 0.033829461382877,
                  "V17": 0.028558556535894473,
                  "V18": -0.0059858617883604935,
                  "V19": -0.017940990388672886,
                  "V20": -0.008052282467824384,
                  "V21": -0.03524221809832553,
                  "V22": 0.00830577167599791,
                  "V23": -0.04506273505042012,
                  "V24": 0.041046046104205,
                  "V25": -0.03192590835899069,
                  "V26": 0.014674784741926841,
                  "V27": -0.03037498400455404,
                  "V28": 0.013437075769585721,
                  "Amount": 88.99176829268292,
                  "_deepnote_index_column": 0
                },
                {
                  "Time": 80746.80691056911,
                  "V1": -4.771948441479082,
                  "V2": 3.6237781019822806,
                  "V3": -7.0332810485965584,
                  "V4": 4.542029104423093,
                  "V5": -3.1512248859360046,
                  "V6": -1.3977367105923515,
                  "V7": -5.5687310837427395,
                  "V8": 0.5706358952962378,
                  "V9": -2.5811229217029954,
                  "V10": -5.676882870194368,
                  "V11": 3.800172911374607,
                  "V12": -6.259393036190131,
                  "V13": -0.10933381708278404,
                  "V14": -6.971722894107602,
                  "V15": -0.09292874691208504,
                  "V16": -4.139945699092808,
                  "V17": -6.665836399449663,
                  "V18": -2.2463081339714064,
                  "V19": 0.680659303475429,
                  "V20": 0.37231939577147166,
                  "V21": 0.7135883526687006,
                  "V22": 0.01404888214012134,
                  "V23": -0.04030796594836945,
                  "V24": -0.1051303054394829,
                  "V25": 0.04144888726282707,
                  "V26": 0.05164812556245366,
                  "V27": 0.17057479224418595,
                  "V28": 0.0756672906457746,
                  "Amount": 122.21132113821139,
                  "_deepnote_index_column": 1
                }
              ]
            },
            "text/plain": "               Time        V1        V2        V3        V4        V5  \\\nClass                                                                   \n0      96378.087398 -0.096063  0.001642  0.029527 -0.026065  0.040518   \n1      80746.806911 -4.771948  3.623778 -7.033281  4.542029 -3.151225   \n\n             V6        V7        V8        V9  ...       V20       V21  \\\nClass                                          ...                       \n0     -0.043099  0.092777 -0.010785  0.057975  ... -0.008052 -0.035242   \n1     -1.397737 -5.568731  0.570636 -2.581123  ...  0.372319  0.713588   \n\n            V22       V23       V24       V25       V26       V27       V28  \\\nClass                                                                         \n0      0.008306 -0.045063  0.041046 -0.031926  0.014675 -0.030375  0.013437   \n1      0.014049 -0.040308 -0.105130  0.041449  0.051648  0.170575  0.075667   \n\n           Amount  \nClass              \n0       88.991768  \n1      122.211321  \n\n[2 rows x 30 columns]",
            "text/html": "<div>\n<style scoped>\n    .dataframe tbody tr th:only-of-type {\n        vertical-align: middle;\n    }\n\n    .dataframe tbody tr th {\n        vertical-align: top;\n    }\n\n    .dataframe thead th {\n        text-align: right;\n    }\n</style>\n<table border=\"1\" class=\"dataframe\">\n  <thead>\n    <tr style=\"text-align: right;\">\n      <th></th>\n      <th>Time</th>\n      <th>V1</th>\n      <th>V2</th>\n      <th>V3</th>\n      <th>V4</th>\n      <th>V5</th>\n      <th>V6</th>\n      <th>V7</th>\n      <th>V8</th>\n      <th>V9</th>\n      <th>...</th>\n      <th>V20</th>\n      <th>V21</th>\n      <th>V22</th>\n      <th>V23</th>\n      <th>V24</th>\n      <th>V25</th>\n      <th>V26</th>\n      <th>V27</th>\n      <th>V28</th>\n      <th>Amount</th>\n    </tr>\n    <tr>\n      <th>Class</th>\n      <th></th>\n      <th></th>\n      <th></th>\n      <th></th>\n      <th></th>\n      <th></th>\n      <th></th>\n      <th></th>\n      <th></th>\n      <th></th>\n      <th></th>\n      <th></th>\n      <th></th>\n      <th></th>\n      <th></th>\n      <th></th>\n      <th></th>\n      <th></th>\n      <th></th>\n      <th></th>\n      <th></th>\n    </tr>\n  </thead>\n  <tbody>\n    <tr>\n      <th>0</th>\n      <td>96378.087398</td>\n      <td>-0.096063</td>\n      <td>0.001642</td>\n      <td>0.029527</td>\n      <td>-0.026065</td>\n      <td>0.040518</td>\n      <td>-0.043099</td>\n      <td>0.092777</td>\n      <td>-0.010785</td>\n      <td>0.057975</td>\n      <td>...</td>\n      <td>-0.008052</td>\n      <td>-0.035242</td>\n      <td>0.008306</td>\n      <td>-0.045063</td>\n      <td>0.041046</td>\n      <td>-0.031926</td>\n      <td>0.014675</td>\n      <td>-0.030375</td>\n      <td>0.013437</td>\n      <td>88.991768</td>\n    </tr>\n    <tr>\n      <th>1</th>\n      <td>80746.806911</td>\n      <td>-4.771948</td>\n      <td>3.623778</td>\n      <td>-7.033281</td>\n      <td>4.542029</td>\n      <td>-3.151225</td>\n      <td>-1.397737</td>\n      <td>-5.568731</td>\n      <td>0.570636</td>\n      <td>-2.581123</td>\n      <td>...</td>\n      <td>0.372319</td>\n      <td>0.713588</td>\n      <td>0.014049</td>\n      <td>-0.040308</td>\n      <td>-0.105130</td>\n      <td>0.041449</td>\n      <td>0.051648</td>\n      <td>0.170575</td>\n      <td>0.075667</td>\n      <td>122.211321</td>\n    </tr>\n  </tbody>\n</table>\n<p>2 rows × 30 columns</p>\n</div>"
          },
          "metadata": {}
        }
      ],
      "outputs_reference": null,
      "execution_count": null,
      "block_group": "16298dc75b4c48b988b9fd53fd4acac1",
      "content_dependencies": null
    },
    {
      "cell_type": "markdown",
      "source": "### Splitting the Data into Features and Targets",
      "metadata": {
        "cell_id": "8077c047368243a5b05d25e61a2cb94d",
        "deepnote_cell_type": "markdown"
      },
      "block_group": "fee3d6a30fe2414881866e9c312b788d"
    },
    {
      "cell_type": "code",
      "source": "X = new_dataset.drop(columns='Class', axis=1)\nY = new_dataset['Class']\n\nprint(X)",
      "metadata": {
        "source_hash": null,
        "execution_start": 1726975249274,
        "execution_millis": 91,
        "deepnote_to_be_reexecuted": false,
        "cell_id": "c33cc2aa36a14d62b0ede47e66cd592b",
        "deepnote_cell_type": "code"
      },
      "outputs": [
        {
          "name": "stdout",
          "text": "            Time        V1        V2        V3        V4        V5        V6  \\\n98921    66872.0 -0.642208  0.747689  1.365699  0.185788 -1.400726 -0.221357   \n81586    59001.0 -2.363612  1.406509 -0.086028  0.208324 -1.020019 -1.145995   \n109996   71632.0 -0.814740  0.876843  0.695514 -1.142758 -0.068441 -0.250029   \n263407  160941.0  0.084445  0.797126 -0.039636 -0.765186  0.761259 -0.612602   \n5039      4650.0  1.309218  0.173161  0.354728  0.051497 -0.306267 -0.878685   \n...          ...       ...       ...       ...       ...       ...       ...   \n279863  169142.0 -1.927883  1.125653 -4.518331  1.749293 -1.566487 -2.010494   \n280143  169347.0  1.378559  1.289381 -5.004247  1.411850  0.442581 -1.326536   \n280149  169351.0 -0.676143  1.126366 -2.213700  0.468308 -1.120541 -0.003346   \n281144  169966.0 -3.113832  0.585864 -5.399730  1.817092 -0.840618 -2.943548   \n281674  170348.0  1.991976  0.158476 -2.583441  0.408670  1.151147 -0.096695   \n\n              V7        V8        V9  ...       V20       V21       V22  \\\n98921   0.219726  0.334413 -0.094400  ... -0.123122  0.229885  0.581676   \n81586  -0.626612  1.417719 -0.569404  ...  0.022818 -0.139019 -0.792706   \n109996  0.091057  0.680802 -0.326577  ... -0.182136  0.231412  0.594398   \n263407  0.958509 -0.107648  0.074845  ... -0.044417 -0.308522 -0.725649   \n5039   -0.053370 -0.343148  1.434792  ... -0.028155 -0.268790 -0.489105   \n...          ...       ...       ...  ...       ...       ...       ...   \n279863 -0.882850  0.697211 -2.064945  ...  1.252967  0.778584 -0.319189   \n280143 -1.413170  0.248525 -1.127396  ...  0.226138  0.370612  0.028234   \n280149 -2.234739  1.210158 -0.652250  ...  0.247968  0.751826  0.834108   \n281144 -2.208002  1.058733 -1.632333  ...  0.306271  0.583276 -0.269209   \n281674  0.223050 -0.068384  0.577829  ... -0.017652 -0.164350 -0.295135   \n\n             V23       V24       V25       V26       V27       V28  Amount  \n98921   0.187860  0.421072 -0.537961  0.233672 -0.133610 -0.049461  135.12  \n81586  -0.006254  0.462692 -0.133855  0.050957  0.116802 -0.089985   21.99  \n109996 -0.091223 -0.259163 -0.524970  0.932075  0.181148  0.126247    2.92  \n263407 -0.006447 -0.795097 -0.417302  0.192066  0.245503  0.088335    5.57  \n5039   -0.004948  0.060126  0.289947  0.940003 -0.107481 -0.002886   12.30  \n...          ...       ...       ...       ...       ...       ...     ...  \n279863  0.639419 -0.294885  0.537503  0.788395  0.292680  0.147968  390.00  \n280143 -0.145640 -0.081049  0.521875  0.739467  0.389152  0.186637    0.76  \n280149  0.190944  0.032070 -0.739695  0.471111  0.385107  0.194361   77.89  \n281144 -0.456108 -0.183659 -0.328168  0.606116  0.884876 -0.253700  245.00  \n281674 -0.072173 -0.450261  0.313267 -0.289617  0.002988 -0.015309   42.53  \n\n[984 rows x 30 columns]\n",
          "output_type": "stream"
        }
      ],
      "outputs_reference": null,
      "execution_count": null,
      "block_group": "f86f3705f31d49a8894604559b9b5fff",
      "content_dependencies": null
    },
    {
      "cell_type": "code",
      "source": "print(Y)",
      "metadata": {
        "source_hash": null,
        "execution_start": 1726975259687,
        "execution_millis": 21,
        "deepnote_to_be_reexecuted": false,
        "cell_id": "8d927f6161b84dd880d891565825a60e",
        "deepnote_cell_type": "code"
      },
      "outputs": [
        {
          "name": "stdout",
          "text": "98921     0\n81586     0\n109996    0\n263407    0\n5039      0\n         ..\n279863    1\n280143    1\n280149    1\n281144    1\n281674    1\nName: Class, Length: 984, dtype: int64\n",
          "output_type": "stream"
        }
      ],
      "outputs_reference": null,
      "execution_count": null,
      "block_group": "b633daad8aeb48298e3dc6f4f28a96ab",
      "content_dependencies": null
    },
    {
      "cell_type": "markdown",
      "source": "### Splitting the Data into Training Data and Testing Data",
      "metadata": {
        "cell_id": "0056c2b9160b4edc801896a7ab4d0472",
        "deepnote_cell_type": "markdown"
      },
      "block_group": "2d95729d0ed74599b672ee707ae6d671"
    },
    {
      "cell_type": "code",
      "source": "from sklearn.model_selection import train_test_split\n\nX_train, X_test, Y_train, Y_test = train_test_split(X, Y, test_size=0.2, stratify=Y, random_state=2)\n\nprint(X.shape, X_train.shape, X_test.shape)",
      "metadata": {
        "source_hash": null,
        "execution_start": 1726975373272,
        "execution_millis": 505,
        "deepnote_to_be_reexecuted": false,
        "cell_id": "1387d77e43c9481ca59758f2047da565",
        "deepnote_cell_type": "code"
      },
      "outputs": [
        {
          "name": "stdout",
          "text": "(984, 30) (787, 30) (197, 30)\n",
          "output_type": "stream"
        }
      ],
      "outputs_reference": null,
      "execution_count": null,
      "block_group": "7e84ceb6abc24d8d891fbf34d6f2d1f6",
      "content_dependencies": null
    },
    {
      "cell_type": "markdown",
      "source": "### Model Training",
      "metadata": {
        "cell_id": "c4c2b243959d42d7b6a3e0ac3a139ee7",
        "deepnote_cell_type": "markdown"
      },
      "block_group": "8b8c593b85024809840b318ab57539d3"
    },
    {
      "cell_type": "code",
      "source": "# Import the necessary library for Logistic Regression\nfrom sklearn.linear_model import LogisticRegression\n\n# Initialize the model\nmodel = LogisticRegression()\n\n# Now you can proceed with training the model\n# model.fit(X_train, Y_train)",
      "metadata": {
        "source_hash": null,
        "execution_start": 1726975480045,
        "execution_millis": 58,
        "deepnote_to_be_reexecuted": false,
        "cell_id": "6e2727b7d5064ecdb38f9c1182cc9e6f",
        "deepnote_cell_type": "code"
      },
      "outputs": [],
      "outputs_reference": null,
      "execution_count": null,
      "block_group": "6c47b04bd17142dda772ccddeea13212",
      "content_dependencies": null
    },
    {
      "cell_type": "markdown",
      "source": "### Accuracy Score",
      "metadata": {
        "cell_id": "d9b045f1626643fb8fd2ef5e317e1e49",
        "deepnote_cell_type": "markdown"
      },
      "block_group": "cd37b7d41fb84019aad0695b1157d1cc"
    },
    {
      "cell_type": "code",
      "source": "from sklearn.linear_model import LogisticRegression\nfrom sklearn.model_selection import train_test_split\nfrom sklearn.metrics import accuracy_score\n\n# Use the existing X, Y from previous state\nX_train, X_test, Y_train, Y_test = train_test_split(X, Y, test_size=0.2, stratify=Y, random_state=2)\n\n# Initialize and fit the model\nmodel = LogisticRegression()\nmodel.fit(X_train, Y_train)\n\n# Make predictions and calculate accuracy\nX_train_prediction = model.predict(X_train)\ntraining_data_accuracy = accuracy_score(X_train_prediction, Y_train)\n\nprint('Accuracy on Training data : ', training_data_accuracy)",
      "metadata": {
        "source_hash": null,
        "execution_start": 1726975590019,
        "execution_millis": 276,
        "deepnote_to_be_reexecuted": false,
        "cell_id": "9fbd4074ec484c5991ae2399ffa9224d",
        "deepnote_cell_type": "code"
      },
      "outputs": [
        {
          "name": "stdout",
          "text": "Accuracy on Training data :  0.9390088945362135\n",
          "output_type": "stream"
        }
      ],
      "outputs_reference": null,
      "execution_count": null,
      "block_group": "0a22ea231c5a482d9f5d8648c1309251",
      "content_dependencies": null
    },
    {
      "cell_type": "code",
      "source": "X_test_prediction = model.predict(X_test)\ntest_data_accuracy = accuracy_score(X_test_prediction, Y_test)\n\nprint('Accuracy on Test data : ', test_data_accuracy)",
      "metadata": {
        "source_hash": null,
        "execution_start": 1726975604627,
        "execution_millis": 80,
        "deepnote_to_be_reexecuted": false,
        "cell_id": "bf3bde2162304f70aae3bc776d3a3a0c",
        "deepnote_cell_type": "code"
      },
      "outputs": [
        {
          "name": "stdout",
          "text": "Accuracy on Test data :  0.9289340101522843\n",
          "output_type": "stream"
        }
      ],
      "outputs_reference": null,
      "execution_count": null,
      "block_group": "d853a98e483d4cabb8da7f6b6aca4bd4",
      "content_dependencies": null
    },
    {
      "cell_type": "markdown",
      "source": "<a style='text-decoration:none;line-height:16px;display:flex;color:#5B5B62;padding:10px;justify-content:end;' href='https://deepnote.com?utm_source=created-in-deepnote-cell&projectId=0e222dd4-00a3-4786-aa8b-a269f7a7f431' target=\"_blank\">\n<img alt='Created in deepnote.com' style='display:inline;max-height:16px;margin:0px;margin-right:7.5px;' src='data:image/svg+xml;base64,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' > </img>\nCreated in <span style='font-weight:600;margin-left:4px;'>Deepnote</span></a>",
      "metadata": {
        "created_in_deepnote_cell": true,
        "deepnote_cell_type": "markdown"
      }
    }
  ],
  "nbformat": 4,
  "nbformat_minor": 0,
  "metadata": {
    "deepnote_notebook_id": "602660e972ad4c99a177b4217ccb4bd2",
    "deepnote_execution_queue": []
  }
}