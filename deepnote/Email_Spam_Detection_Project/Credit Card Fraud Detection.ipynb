{
  "cells": [
    {
      "cell_type": "code",
      "source": "import numpy as np\nimport pandas as pd",
      "metadata": {
        "source_hash": "b7dcc9c8",
        "execution_start": 1727043697082,
        "execution_millis": 202,
        "deepnote_to_be_reexecuted": false,
        "cell_id": "99c773f5307f4a2eabc0cf02530f3552",
        "deepnote_cell_type": "code"
      },
      "outputs": [],
      "outputs_reference": null,
      "execution_count": 1,
      "block_group": "99c773f5307f4a2eabc0cf02530f3552",
      "content_dependencies": null
    },
    {
      "cell_type": "code",
      "source": "input_1 = 'file_input_uploads/creditcard.csv'",
      "metadata": {
        "source_hash": "eec36030",
        "execution_start": 1727043697083,
        "execution_millis": 201,
        "deepnote_variable_name": "input_1",
        "deepnote_variable_value": "file_input_uploads/creditcard.csv",
        "deepnote_to_be_reexecuted": false,
        "cell_id": "8b1611365ae54c7db7216a0327564c2b",
        "deepnote_cell_type": "input-file"
      },
      "outputs": [],
      "outputs_reference": null,
      "execution_count": 2,
      "block_group": "059df0f63f1148d1bff4ededefb75324"
    },
    {
      "cell_type": "markdown",
      "source": "### Data Cleaning/Processing",
      "metadata": {
        "cell_id": "5a66b63f561c4c1da4ef68a2e8be81b2",
        "deepnote_cell_type": "markdown"
      },
      "block_group": "7bb3a62d6f404228b5167ac0d55d3788"
    },
    {
      "cell_type": "code",
      "source": "# Adjust the file path based on the variable input_1\ncredit_card_data = pd.read_csv(input_1)\ncredit_card_data.head()",
      "metadata": {
        "source_hash": "2e89e9e3",
        "execution_start": 1727043697083,
        "execution_millis": 3812,
        "deepnote_to_be_reexecuted": false,
        "cell_id": "c2f0163cbeab4379bf1f39ab6829aafd",
        "deepnote_cell_type": "code"
      },
      "outputs": [
        {
          "output_type": "execute_result",
          "execution_count": 3,
          "data": {
            "application/vnd.deepnote.dataframe.v3+json": {
              "column_count": 31,
              "row_count": 5,
              "columns": [
                {
                  "name": "Time",
                  "dtype": "float64",
                  "stats": {
                    "unique_count": 3,
                    "nan_count": 0,
                    "min": "0.0",
                    "max": "2.0",
                    "histogram": [
                      {
                        "bin_start": 0,
                        "bin_end": 0.2,
                        "count": 2
                      },
                      {
                        "bin_start": 0.2,
                        "bin_end": 0.4,
                        "count": 0
                      },
                      {
                        "bin_start": 0.4,
                        "bin_end": 0.6000000000000001,
                        "count": 0
                      },
                      {
                        "bin_start": 0.6000000000000001,
                        "bin_end": 0.8,
                        "count": 0
                      },
                      {
                        "bin_start": 0.8,
                        "bin_end": 1,
                        "count": 0
                      },
                      {
                        "bin_start": 1,
                        "bin_end": 1.2000000000000002,
                        "count": 2
                      },
                      {
                        "bin_start": 1.2000000000000002,
                        "bin_end": 1.4000000000000001,
                        "count": 0
                      },
                      {
                        "bin_start": 1.4000000000000001,
                        "bin_end": 1.6,
                        "count": 0
                      },
                      {
                        "bin_start": 1.6,
                        "bin_end": 1.8,
                        "count": 0
                      },
                      {
                        "bin_start": 1.8,
                        "bin_end": 2,
                        "count": 1
                      }
                    ]
                  }
                },
                {
                  "name": "V1",
                  "dtype": "float64",
                  "stats": {
                    "unique_count": 5,
                    "nan_count": 0,
                    "min": "-1.3598071336738",
                    "max": "1.19185711131486",
                    "histogram": [
                      {
                        "bin_start": -1.3598071336738,
                        "bin_end": -1.104640709174934,
                        "count": 3
                      },
                      {
                        "bin_start": -1.104640709174934,
                        "bin_end": -0.849474284676068,
                        "count": 1
                      },
                      {
                        "bin_start": -0.849474284676068,
                        "bin_end": -0.594307860177202,
                        "count": 0
                      },
                      {
                        "bin_start": -0.594307860177202,
                        "bin_end": -0.339141435678336,
                        "count": 0
                      },
                      {
                        "bin_start": -0.339141435678336,
                        "bin_end": -0.08397501117946993,
                        "count": 0
                      },
                      {
                        "bin_start": -0.08397501117946993,
                        "bin_end": 0.1711914133193959,
                        "count": 0
                      },
                      {
                        "bin_start": 0.1711914133193959,
                        "bin_end": 0.426357837818262,
                        "count": 0
                      },
                      {
                        "bin_start": 0.426357837818262,
                        "bin_end": 0.681524262317128,
                        "count": 0
                      },
                      {
                        "bin_start": 0.681524262317128,
                        "bin_end": 0.9366906868159939,
                        "count": 0
                      },
                      {
                        "bin_start": 0.9366906868159939,
                        "bin_end": 1.19185711131486,
                        "count": 1
                      }
                    ]
                  }
                },
                {
                  "name": "V2",
                  "dtype": "float64",
                  "stats": {
                    "unique_count": 5,
                    "nan_count": 0,
                    "min": "-1.34016307473609",
                    "max": "0.877736754848451",
                    "histogram": [
                      {
                        "bin_start": -1.34016307473609,
                        "bin_end": -1.1183730917776358,
                        "count": 1
                      },
                      {
                        "bin_start": -1.1183730917776358,
                        "bin_end": -0.8965831088191818,
                        "count": 0
                      },
                      {
                        "bin_start": -0.8965831088191818,
                        "bin_end": -0.6747931258607276,
                        "count": 0
                      },
                      {
                        "bin_start": -0.6747931258607276,
                        "bin_end": -0.4530031429022735,
                        "count": 0
                      },
                      {
                        "bin_start": -0.4530031429022735,
                        "bin_end": -0.2312131599438194,
                        "count": 0
                      },
                      {
                        "bin_start": -0.2312131599438194,
                        "bin_end": -0.009423176985365211,
                        "count": 2
                      },
                      {
                        "bin_start": -0.009423176985365211,
                        "bin_end": 0.21236680597308877,
                        "count": 0
                      },
                      {
                        "bin_start": 0.21236680597308877,
                        "bin_end": 0.43415678893154297,
                        "count": 1
                      },
                      {
                        "bin_start": 0.43415678893154297,
                        "bin_end": 0.6559467718899972,
                        "count": 0
                      },
                      {
                        "bin_start": 0.6559467718899972,
                        "bin_end": 0.877736754848451,
                        "count": 1
                      }
                    ]
                  }
                },
                {
                  "name": "V3",
                  "dtype": "float64",
                  "stats": {
                    "unique_count": 5,
                    "nan_count": 0,
                    "min": "0.16648011335321",
                    "max": "2.53634673796914",
                    "histogram": [
                      {
                        "bin_start": 0.16648011335321,
                        "bin_end": 0.403466775814803,
                        "count": 1
                      },
                      {
                        "bin_start": 0.403466775814803,
                        "bin_end": 0.640453438276396,
                        "count": 0
                      },
                      {
                        "bin_start": 0.640453438276396,
                        "bin_end": 0.877440100737989,
                        "count": 0
                      },
                      {
                        "bin_start": 0.877440100737989,
                        "bin_end": 1.1144267631995821,
                        "count": 0
                      },
                      {
                        "bin_start": 1.1144267631995821,
                        "bin_end": 1.3514134256611752,
                        "count": 0
                      },
                      {
                        "bin_start": 1.3514134256611752,
                        "bin_end": 1.5884000881227678,
                        "count": 1
                      },
                      {
                        "bin_start": 1.5884000881227678,
                        "bin_end": 1.8253867505843608,
                        "count": 2
                      },
                      {
                        "bin_start": 1.8253867505843608,
                        "bin_end": 2.062373413045954,
                        "count": 0
                      },
                      {
                        "bin_start": 2.062373413045954,
                        "bin_end": 2.299360075507547,
                        "count": 0
                      },
                      {
                        "bin_start": 2.299360075507547,
                        "bin_end": 2.53634673796914,
                        "count": 1
                      }
                    ]
                  }
                },
                {
                  "name": "V4",
                  "dtype": "float64",
                  "stats": {
                    "unique_count": 5,
                    "nan_count": 0,
                    "min": "-0.863291275036453",
                    "max": "1.37815522427443",
                    "histogram": [
                      {
                        "bin_start": -0.863291275036453,
                        "bin_end": -0.6391466251053647,
                        "count": 1
                      },
                      {
                        "bin_start": -0.6391466251053647,
                        "bin_end": -0.41500197517427634,
                        "count": 0
                      },
                      {
                        "bin_start": -0.41500197517427634,
                        "bin_end": -0.190857325243188,
                        "count": 0
                      },
                      {
                        "bin_start": -0.190857325243188,
                        "bin_end": 0.0332873246879003,
                        "count": 0
                      },
                      {
                        "bin_start": 0.0332873246879003,
                        "bin_end": 0.2574319746189886,
                        "count": 0
                      },
                      {
                        "bin_start": 0.2574319746189886,
                        "bin_end": 0.481576624550077,
                        "count": 3
                      },
                      {
                        "bin_start": 0.481576624550077,
                        "bin_end": 0.7057212744811652,
                        "count": 0
                      },
                      {
                        "bin_start": 0.7057212744811652,
                        "bin_end": 0.9298659244122536,
                        "count": 0
                      },
                      {
                        "bin_start": 0.9298659244122536,
                        "bin_end": 1.1540105743433418,
                        "count": 0
                      },
                      {
                        "bin_start": 1.1540105743433418,
                        "bin_end": 1.37815522427443,
                        "count": 1
                      }
                    ]
                  }
                },
                {
                  "name": "V5",
                  "dtype": "float64",
                  "stats": {
                    "unique_count": 5,
                    "nan_count": 0,
                    "min": "-0.503198133318193",
                    "max": "0.0600176492822243",
                    "histogram": [
                      {
                        "bin_start": -0.503198133318193,
                        "bin_end": -0.4468765550581512,
                        "count": 1
                      },
                      {
                        "bin_start": -0.4468765550581512,
                        "bin_end": -0.3905549767981095,
                        "count": 1
                      },
                      {
                        "bin_start": -0.3905549767981095,
                        "bin_end": -0.33423339853806777,
                        "count": 1
                      },
                      {
                        "bin_start": -0.33423339853806777,
                        "bin_end": -0.2779118202780261,
                        "count": 0
                      },
                      {
                        "bin_start": -0.2779118202780261,
                        "bin_end": -0.22159024201798433,
                        "count": 0
                      },
                      {
                        "bin_start": -0.22159024201798433,
                        "bin_end": -0.16526866375794258,
                        "count": 0
                      },
                      {
                        "bin_start": -0.16526866375794258,
                        "bin_end": -0.10894708549790089,
                        "count": 0
                      },
                      {
                        "bin_start": -0.10894708549790089,
                        "bin_end": -0.05262550723785914,
                        "count": 0
                      },
                      {
                        "bin_start": -0.05262550723785914,
                        "bin_end": 0.003696071022182612,
                        "count": 1
                      },
                      {
                        "bin_start": 0.003696071022182612,
                        "bin_end": 0.0600176492822243,
                        "count": 1
                      }
                    ]
                  }
                },
                {
                  "name": "V6",
                  "dtype": "float64",
                  "stats": {
                    "unique_count": 5,
                    "nan_count": 0,
                    "min": "-0.0823608088155687",
                    "max": "1.80049938079263",
                    "histogram": [
                      {
                        "bin_start": -0.0823608088155687,
                        "bin_end": 0.10592521014525116,
                        "count": 2
                      },
                      {
                        "bin_start": 0.10592521014525116,
                        "bin_end": 0.294211229106071,
                        "count": 0
                      },
                      {
                        "bin_start": 0.294211229106071,
                        "bin_end": 0.48249724806689087,
                        "count": 1
                      },
                      {
                        "bin_start": 0.48249724806689087,
                        "bin_end": 0.6707832670277107,
                        "count": 0
                      },
                      {
                        "bin_start": 0.6707832670277107,
                        "bin_end": 0.8590692859885306,
                        "count": 0
                      },
                      {
                        "bin_start": 0.8590692859885306,
                        "bin_end": 1.0473553049493505,
                        "count": 0
                      },
                      {
                        "bin_start": 1.0473553049493505,
                        "bin_end": 1.2356413239101705,
                        "count": 0
                      },
                      {
                        "bin_start": 1.2356413239101705,
                        "bin_end": 1.4239273428709902,
                        "count": 1
                      },
                      {
                        "bin_start": 1.4239273428709902,
                        "bin_end": 1.61221336183181,
                        "count": 0
                      },
                      {
                        "bin_start": 1.61221336183181,
                        "bin_end": 1.80049938079263,
                        "count": 1
                      }
                    ]
                  }
                },
                {
                  "name": "V7",
                  "dtype": "float64",
                  "stats": {
                    "unique_count": 5,
                    "nan_count": 0,
                    "min": "-0.0788029833323113",
                    "max": "0.791460956450422",
                    "histogram": [
                      {
                        "bin_start": -0.0788029833323113,
                        "bin_end": 0.008223410645962034,
                        "count": 1
                      },
                      {
                        "bin_start": 0.008223410645962034,
                        "bin_end": 0.09524980462423537,
                        "count": 0
                      },
                      {
                        "bin_start": 0.09524980462423537,
                        "bin_end": 0.1822761986025087,
                        "count": 0
                      },
                      {
                        "bin_start": 0.1822761986025087,
                        "bin_end": 0.26930259258078204,
                        "count": 2
                      },
                      {
                        "bin_start": 0.26930259258078204,
                        "bin_end": 0.35632898655905537,
                        "count": 0
                      },
                      {
                        "bin_start": 0.35632898655905537,
                        "bin_end": 0.4433553805373287,
                        "count": 0
                      },
                      {
                        "bin_start": 0.4433553805373287,
                        "bin_end": 0.530381774515602,
                        "count": 0
                      },
                      {
                        "bin_start": 0.530381774515602,
                        "bin_end": 0.6174081684938754,
                        "count": 1
                      },
                      {
                        "bin_start": 0.6174081684938754,
                        "bin_end": 0.7044345624721488,
                        "count": 0
                      },
                      {
                        "bin_start": 0.7044345624721488,
                        "bin_end": 0.791460956450422,
                        "count": 1
                      }
                    ]
                  }
                },
                {
                  "name": "V8",
                  "dtype": "float64",
                  "stats": {
                    "unique_count": 5,
                    "nan_count": 0,
                    "min": "-0.270532677192282",
                    "max": "0.377435874652262",
                    "histogram": [
                      {
                        "bin_start": -0.270532677192282,
                        "bin_end": -0.2057358220078276,
                        "count": 1
                      },
                      {
                        "bin_start": -0.2057358220078276,
                        "bin_end": -0.1409389668233732,
                        "count": 0
                      },
                      {
                        "bin_start": -0.1409389668233732,
                        "bin_end": -0.07614211163891879,
                        "count": 0
                      },
                      {
                        "bin_start": -0.07614211163891879,
                        "bin_end": -0.01134525645446438,
                        "count": 0
                      },
                      {
                        "bin_start": -0.01134525645446438,
                        "bin_end": 0.05345159872999006,
                        "count": 0
                      },
                      {
                        "bin_start": 0.05345159872999006,
                        "bin_end": 0.11824845391444444,
                        "count": 2
                      },
                      {
                        "bin_start": 0.11824845391444444,
                        "bin_end": 0.18304530909889882,
                        "count": 0
                      },
                      {
                        "bin_start": 0.18304530909889882,
                        "bin_end": 0.24784216428335326,
                        "count": 1
                      },
                      {
                        "bin_start": 0.24784216428335326,
                        "bin_end": 0.3126390194678077,
                        "count": 0
                      },
                      {
                        "bin_start": 0.3126390194678077,
                        "bin_end": 0.377435874652262,
                        "count": 1
                      }
                    ]
                  }
                },
                {
                  "name": "V9",
                  "dtype": "float64",
                  "stats": {
                    "unique_count": 5,
                    "nan_count": 0,
                    "min": "-1.51465432260583",
                    "max": "0.817739308235294",
                    "histogram": [
                      {
                        "bin_start": -1.51465432260583,
                        "bin_end": -1.2814149595217177,
                        "count": 2
                      },
                      {
                        "bin_start": -1.2814149595217177,
                        "bin_end": -1.0481755964376052,
                        "count": 0
                      },
                      {
                        "bin_start": -1.0481755964376052,
                        "bin_end": -0.8149362333534929,
                        "count": 0
                      },
                      {
                        "bin_start": -0.8149362333534929,
                        "bin_end": -0.5816968702693804,
                        "count": 0
                      },
                      {
                        "bin_start": -0.5816968702693804,
                        "bin_end": -0.348457507185268,
                        "count": 0
                      },
                      {
                        "bin_start": -0.348457507185268,
                        "bin_end": -0.11521814410115572,
                        "count": 1
                      },
                      {
                        "bin_start": -0.11521814410115572,
                        "bin_end": 0.11802121898295681,
                        "count": 0
                      },
                      {
                        "bin_start": 0.11802121898295681,
                        "bin_end": 0.3512605820670691,
                        "count": 0
                      },
                      {
                        "bin_start": 0.3512605820670691,
                        "bin_end": 0.5844999451511816,
                        "count": 1
                      },
                      {
                        "bin_start": 0.5844999451511816,
                        "bin_end": 0.817739308235294,
                        "count": 1
                      }
                    ]
                  }
                },
                {
                  "name": "V10",
                  "dtype": "float64",
                  "stats": {
                    "unique_count": 5,
                    "nan_count": 0,
                    "min": "-0.166974414004614",
                    "max": "0.753074431976354",
                    "histogram": [
                      {
                        "bin_start": -0.166974414004614,
                        "bin_end": -0.07496952940651719,
                        "count": 1
                      },
                      {
                        "bin_start": -0.07496952940651719,
                        "bin_end": 0.017035355191579615,
                        "count": 1
                      },
                      {
                        "bin_start": 0.017035355191579615,
                        "bin_end": 0.10904023978967642,
                        "count": 1
                      },
                      {
                        "bin_start": 0.10904023978967642,
                        "bin_end": 0.20104512438777322,
                        "count": 0
                      },
                      {
                        "bin_start": 0.20104512438777322,
                        "bin_end": 0.29305000898587,
                        "count": 1
                      },
                      {
                        "bin_start": 0.29305000898587,
                        "bin_end": 0.38505489358396683,
                        "count": 0
                      },
                      {
                        "bin_start": 0.38505489358396683,
                        "bin_end": 0.4770597781820637,
                        "count": 0
                      },
                      {
                        "bin_start": 0.4770597781820637,
                        "bin_end": 0.5690646627801604,
                        "count": 0
                      },
                      {
                        "bin_start": 0.5690646627801604,
                        "bin_end": 0.6610695473782572,
                        "count": 0
                      },
                      {
                        "bin_start": 0.6610695473782572,
                        "bin_end": 0.753074431976354,
                        "count": 1
                      }
                    ]
                  }
                },
                {
                  "name": "V11",
                  "dtype": "float64",
                  "stats": {
                    "unique_count": 5,
                    "nan_count": 0,
                    "min": "-0.822842877946363",
                    "max": "1.61272666105479",
                    "histogram": [
                      {
                        "bin_start": -0.822842877946363,
                        "bin_end": -0.5792859240462477,
                        "count": 1
                      },
                      {
                        "bin_start": -0.5792859240462477,
                        "bin_end": -0.3357289701461324,
                        "count": 1
                      },
                      {
                        "bin_start": -0.3357289701461324,
                        "bin_end": -0.09217201624601712,
                        "count": 1
                      },
                      {
                        "bin_start": -0.09217201624601712,
                        "bin_end": 0.15138493765409822,
                        "count": 0
                      },
                      {
                        "bin_start": 0.15138493765409822,
                        "bin_end": 0.39494189155421355,
                        "count": 0
                      },
                      {
                        "bin_start": 0.39494189155421355,
                        "bin_end": 0.6384988454543288,
                        "count": 1
                      },
                      {
                        "bin_start": 0.6384988454543288,
                        "bin_end": 0.8820557993544442,
                        "count": 0
                      },
                      {
                        "bin_start": 0.8820557993544442,
                        "bin_end": 1.1256127532545595,
                        "count": 0
                      },
                      {
                        "bin_start": 1.1256127532545595,
                        "bin_end": 1.369169707154675,
                        "count": 0
                      },
                      {
                        "bin_start": 1.369169707154675,
                        "bin_end": 1.61272666105479,
                        "count": 1
                      }
                    ]
                  }
                },
                {
                  "name": "V12",
                  "dtype": "float64",
                  "stats": {
                    "unique_count": 5,
                    "nan_count": 0,
                    "min": "-0.617800855762348",
                    "max": "1.06523531137287",
                    "histogram": [
                      {
                        "bin_start": -0.617800855762348,
                        "bin_end": -0.4494972390488262,
                        "count": 1
                      },
                      {
                        "bin_start": -0.4494972390488262,
                        "bin_end": -0.28119362233530437,
                        "count": 0
                      },
                      {
                        "bin_start": -0.28119362233530437,
                        "bin_end": -0.11289000562178253,
                        "count": 0
                      },
                      {
                        "bin_start": -0.11289000562178253,
                        "bin_end": 0.05541361109173926,
                        "count": 0
                      },
                      {
                        "bin_start": 0.05541361109173926,
                        "bin_end": 0.22371722780526104,
                        "count": 2
                      },
                      {
                        "bin_start": 0.22371722780526104,
                        "bin_end": 0.39202084451878294,
                        "count": 0
                      },
                      {
                        "bin_start": 0.39202084451878294,
                        "bin_end": 0.5603244612323046,
                        "count": 1
                      },
                      {
                        "bin_start": 0.5603244612323046,
                        "bin_end": 0.7286280779458265,
                        "count": 0
                      },
                      {
                        "bin_start": 0.7286280779458265,
                        "bin_end": 0.8969316946593484,
                        "count": 0
                      },
                      {
                        "bin_start": 0.8969316946593484,
                        "bin_end": 1.06523531137287,
                        "count": 1
                      }
                    ]
                  }
                },
                {
                  "name": "V13",
                  "dtype": "float64",
                  "stats": {
                    "unique_count": 5,
                    "nan_count": 0,
                    "min": "-0.991389847235408",
                    "max": "1.3458515932154",
                    "histogram": [
                      {
                        "bin_start": -0.991389847235408,
                        "bin_end": -0.7576657031903272,
                        "count": 1
                      },
                      {
                        "bin_start": -0.7576657031903272,
                        "bin_end": -0.5239415591452464,
                        "count": 0
                      },
                      {
                        "bin_start": -0.5239415591452464,
                        "bin_end": -0.29021741510016563,
                        "count": 0
                      },
                      {
                        "bin_start": -0.29021741510016563,
                        "bin_end": -0.05649327105508484,
                        "count": 0
                      },
                      {
                        "bin_start": -0.05649327105508484,
                        "bin_end": 0.17723087298999596,
                        "count": 0
                      },
                      {
                        "bin_start": 0.17723087298999596,
                        "bin_end": 0.41095501703507675,
                        "count": 0
                      },
                      {
                        "bin_start": 0.41095501703507675,
                        "bin_end": 0.6446791610801575,
                        "count": 2
                      },
                      {
                        "bin_start": 0.6446791610801575,
                        "bin_end": 0.8784033051252383,
                        "count": 1
                      },
                      {
                        "bin_start": 0.8784033051252383,
                        "bin_end": 1.1121274491703192,
                        "count": 0
                      },
                      {
                        "bin_start": 1.1121274491703192,
                        "bin_end": 1.3458515932154,
                        "count": 1
                      }
                    ]
                  }
                },
                {
                  "name": "V14",
                  "dtype": "float64",
                  "stats": {
                    "unique_count": 5,
                    "nan_count": 0,
                    "min": "-1.11966983471731",
                    "max": "-0.143772296441519",
                    "histogram": [
                      {
                        "bin_start": -1.11966983471731,
                        "bin_end": -1.0220800808897308,
                        "count": 1
                      },
                      {
                        "bin_start": -1.0220800808897308,
                        "bin_end": -0.9244903270621518,
                        "count": 0
                      },
                      {
                        "bin_start": -0.9244903270621518,
                        "bin_end": -0.8269005732345727,
                        "count": 0
                      },
                      {
                        "bin_start": -0.8269005732345727,
                        "bin_end": -0.7293108194069936,
                        "count": 0
                      },
                      {
                        "bin_start": -0.7293108194069936,
                        "bin_end": -0.6317210655794145,
                        "count": 0
                      },
                      {
                        "bin_start": -0.6317210655794145,
                        "bin_end": -0.5341313117518354,
                        "count": 0
                      },
                      {
                        "bin_start": -0.5341313117518354,
                        "bin_end": -0.4365415579242563,
                        "count": 0
                      },
                      {
                        "bin_start": -0.4365415579242563,
                        "bin_end": -0.33895180409667724,
                        "count": 0
                      },
                      {
                        "bin_start": -0.33895180409667724,
                        "bin_end": -0.24136205026909818,
                        "count": 2
                      },
                      {
                        "bin_start": -0.24136205026909818,
                        "bin_end": -0.143772296441519,
                        "count": 2
                      }
                    ]
                  }
                },
                {
                  "name": "V15",
                  "dtype": "float64",
                  "stats": {
                    "unique_count": 5,
                    "nan_count": 0,
                    "min": "-0.631418117709045",
                    "max": "2.34586494901581",
                    "histogram": [
                      {
                        "bin_start": -0.631418117709045,
                        "bin_end": -0.3336898110365595,
                        "count": 1
                      },
                      {
                        "bin_start": -0.3336898110365595,
                        "bin_end": -0.03596150436407397,
                        "count": 0
                      },
                      {
                        "bin_start": -0.03596150436407397,
                        "bin_end": 0.26176680230841154,
                        "count": 1
                      },
                      {
                        "bin_start": 0.26176680230841154,
                        "bin_end": 0.559495108980897,
                        "count": 0
                      },
                      {
                        "bin_start": 0.559495108980897,
                        "bin_end": 0.8572234156533824,
                        "count": 1
                      },
                      {
                        "bin_start": 0.8572234156533824,
                        "bin_end": 1.154951722325868,
                        "count": 0
                      },
                      {
                        "bin_start": 1.154951722325868,
                        "bin_end": 1.4526800289983537,
                        "count": 0
                      },
                      {
                        "bin_start": 1.4526800289983537,
                        "bin_end": 1.750408335670839,
                        "count": 1
                      },
                      {
                        "bin_start": 1.750408335670839,
                        "bin_end": 2.0481366423433247,
                        "count": 0
                      },
                      {
                        "bin_start": 2.0481366423433247,
                        "bin_end": 2.34586494901581,
                        "count": 1
                      }
                    ]
                  }
                },
                {
                  "name": "V16",
                  "dtype": "float64",
                  "stats": {
                    "unique_count": 5,
                    "nan_count": 0,
                    "min": "-2.89008319444231",
                    "max": "0.463917041022171",
                    "histogram": [
                      {
                        "bin_start": -2.89008319444231,
                        "bin_end": -2.5546831708958617,
                        "count": 1
                      },
                      {
                        "bin_start": -2.5546831708958617,
                        "bin_end": -2.219283147349414,
                        "count": 0
                      },
                      {
                        "bin_start": -2.219283147349414,
                        "bin_end": -1.8838831238029656,
                        "count": 0
                      },
                      {
                        "bin_start": -1.8838831238029656,
                        "bin_end": -1.5484831002565176,
                        "count": 0
                      },
                      {
                        "bin_start": -1.5484831002565176,
                        "bin_end": -1.2130830767100695,
                        "count": 0
                      },
                      {
                        "bin_start": -1.2130830767100695,
                        "bin_end": -0.8776830531636213,
                        "count": 1
                      },
                      {
                        "bin_start": -0.8776830531636213,
                        "bin_end": -0.5422830296171735,
                        "count": 0
                      },
                      {
                        "bin_start": -0.5422830296171735,
                        "bin_end": -0.20688300607072518,
                        "count": 2
                      },
                      {
                        "bin_start": -0.20688300607072518,
                        "bin_end": 0.12851701747572308,
                        "count": 0
                      },
                      {
                        "bin_start": 0.12851701747572308,
                        "bin_end": 0.463917041022171,
                        "count": 1
                      }
                    ]
                  }
                },
                {
                  "name": "V17",
                  "dtype": "float64",
                  "stats": {
                    "unique_count": 5,
                    "nan_count": 0,
                    "min": "-0.684092786345479",
                    "max": "1.10996937869599",
                    "histogram": [
                      {
                        "bin_start": -0.684092786345479,
                        "bin_end": -0.5046865698413321,
                        "count": 1
                      },
                      {
                        "bin_start": -0.5046865698413321,
                        "bin_end": -0.32528035333718514,
                        "count": 0
                      },
                      {
                        "bin_start": -0.32528035333718514,
                        "bin_end": -0.14587413683303818,
                        "count": 1
                      },
                      {
                        "bin_start": -0.14587413683303818,
                        "bin_end": 0.03353207967110872,
                        "count": 1
                      },
                      {
                        "bin_start": 0.03353207967110872,
                        "bin_end": 0.21293829617525561,
                        "count": 1
                      },
                      {
                        "bin_start": 0.21293829617525561,
                        "bin_end": 0.3923445126794026,
                        "count": 0
                      },
                      {
                        "bin_start": 0.3923445126794026,
                        "bin_end": 0.5717507291835494,
                        "count": 0
                      },
                      {
                        "bin_start": 0.5717507291835494,
                        "bin_end": 0.7511569456876964,
                        "count": 0
                      },
                      {
                        "bin_start": 0.7511569456876964,
                        "bin_end": 0.9305631621918434,
                        "count": 0
                      },
                      {
                        "bin_start": 0.9305631621918434,
                        "bin_end": 1.10996937869599,
                        "count": 1
                      }
                    ]
                  }
                },
                {
                  "name": "V18",
                  "dtype": "float64",
                  "stats": {
                    "unique_count": 5,
                    "nan_count": 0,
                    "min": "-0.183361270123994",
                    "max": "1.96577500349538",
                    "histogram": [
                      {
                        "bin_start": -0.183361270123994,
                        "bin_end": 0.03155235723794342,
                        "count": 4
                      },
                      {
                        "bin_start": 0.03155235723794342,
                        "bin_end": 0.24646598459988084,
                        "count": 0
                      },
                      {
                        "bin_start": 0.24646598459988084,
                        "bin_end": 0.46137961196181826,
                        "count": 0
                      },
                      {
                        "bin_start": 0.46137961196181826,
                        "bin_end": 0.6762932393237557,
                        "count": 0
                      },
                      {
                        "bin_start": 0.6762932393237557,
                        "bin_end": 0.8912068666856932,
                        "count": 0
                      },
                      {
                        "bin_start": 0.8912068666856932,
                        "bin_end": 1.1061204940476306,
                        "count": 0
                      },
                      {
                        "bin_start": 1.1061204940476306,
                        "bin_end": 1.321034121409568,
                        "count": 0
                      },
                      {
                        "bin_start": 1.321034121409568,
                        "bin_end": 1.5359477487715054,
                        "count": 0
                      },
                      {
                        "bin_start": 1.5359477487715054,
                        "bin_end": 1.7508613761334428,
                        "count": 0
                      },
                      {
                        "bin_start": 1.7508613761334428,
                        "bin_end": 1.96577500349538,
                        "count": 1
                      }
                    ]
                  }
                },
                {
                  "name": "V19",
                  "dtype": "float64",
                  "stats": {
                    "unique_count": 5,
                    "nan_count": 0,
                    "min": "-2.26185709530414",
                    "max": "0.803486924960175",
                    "histogram": [
                      {
                        "bin_start": -2.26185709530414,
                        "bin_end": -1.9553226932777086,
                        "count": 1
                      },
                      {
                        "bin_start": -1.9553226932777086,
                        "bin_end": -1.648788291251277,
                        "count": 0
                      },
                      {
                        "bin_start": -1.648788291251277,
                        "bin_end": -1.3422538892248457,
                        "count": 0
                      },
                      {
                        "bin_start": -1.3422538892248457,
                        "bin_end": -1.0357194871984141,
                        "count": 1
                      },
                      {
                        "bin_start": -1.0357194871984141,
                        "bin_end": -0.7291850851719825,
                        "count": 0
                      },
                      {
                        "bin_start": -0.7291850851719825,
                        "bin_end": -0.4226506831455512,
                        "count": 0
                      },
                      {
                        "bin_start": -0.4226506831455512,
                        "bin_end": -0.11611628111911942,
                        "count": 1
                      },
                      {
                        "bin_start": -0.11611628111911942,
                        "bin_end": 0.19041812090731192,
                        "count": 0
                      },
                      {
                        "bin_start": 0.19041812090731192,
                        "bin_end": 0.49695252293374326,
                        "count": 1
                      },
                      {
                        "bin_start": 0.49695252293374326,
                        "bin_end": 0.803486924960175,
                        "count": 1
                      }
                    ]
                  }
                },
                {
                  "name": "V20",
                  "dtype": "float64",
                  "stats": {
                    "unique_count": 5,
                    "nan_count": 0,
                    "min": "-0.208037781160366",
                    "max": "0.524979725224404",
                    "histogram": [
                      {
                        "bin_start": -0.208037781160366,
                        "bin_end": -0.134736030521889,
                        "count": 1
                      },
                      {
                        "bin_start": -0.134736030521889,
                        "bin_end": -0.06143427988341202,
                        "count": 1
                      },
                      {
                        "bin_start": -0.06143427988341202,
                        "bin_end": 0.011867470755064974,
                        "count": 0
                      },
                      {
                        "bin_start": 0.011867470755064974,
                        "bin_end": 0.08516922139354197,
                        "count": 0
                      },
                      {
                        "bin_start": 0.08516922139354197,
                        "bin_end": 0.15847097203201896,
                        "count": 0
                      },
                      {
                        "bin_start": 0.15847097203201896,
                        "bin_end": 0.23177272267049595,
                        "count": 0
                      },
                      {
                        "bin_start": 0.23177272267049595,
                        "bin_end": 0.30507447330897297,
                        "count": 1
                      },
                      {
                        "bin_start": 0.30507447330897297,
                        "bin_end": 0.37837622394744996,
                        "count": 0
                      },
                      {
                        "bin_start": 0.37837622394744996,
                        "bin_end": 0.45167797458592696,
                        "count": 1
                      },
                      {
                        "bin_start": 0.45167797458592696,
                        "bin_end": 0.524979725224404,
                        "count": 1
                      }
                    ]
                  }
                },
                {
                  "name": "V21",
                  "dtype": "float64",
                  "stats": {
                    "unique_count": 5,
                    "nan_count": 0,
                    "min": "-0.225775248033138",
                    "max": "0.247998153469754",
                    "histogram": [
                      {
                        "bin_start": -0.225775248033138,
                        "bin_end": -0.17839790788284882,
                        "count": 1
                      },
                      {
                        "bin_start": -0.17839790788284882,
                        "bin_end": -0.1310205677325596,
                        "count": 0
                      },
                      {
                        "bin_start": -0.1310205677325596,
                        "bin_end": -0.08364322758227041,
                        "count": 1
                      },
                      {
                        "bin_start": -0.08364322758227041,
                        "bin_end": -0.0362658874319812,
                        "count": 0
                      },
                      {
                        "bin_start": -0.0362658874319812,
                        "bin_end": 0.011111452718308018,
                        "count": 2
                      },
                      {
                        "bin_start": 0.011111452718308018,
                        "bin_end": 0.05848879286859718,
                        "count": 0
                      },
                      {
                        "bin_start": 0.05848879286859718,
                        "bin_end": 0.1058661330188864,
                        "count": 0
                      },
                      {
                        "bin_start": 0.1058661330188864,
                        "bin_end": 0.1532434731691756,
                        "count": 0
                      },
                      {
                        "bin_start": 0.1532434731691756,
                        "bin_end": 0.20062081331946482,
                        "count": 0
                      },
                      {
                        "bin_start": 0.20062081331946482,
                        "bin_end": 0.247998153469754,
                        "count": 1
                      }
                    ]
                  }
                },
                {
                  "name": "V22",
                  "dtype": "float64",
                  "stats": {
                    "unique_count": 5,
                    "nan_count": 0,
                    "min": "-0.638671952771851",
                    "max": "0.79827849458971",
                    "histogram": [
                      {
                        "bin_start": -0.638671952771851,
                        "bin_end": -0.49497690803569483,
                        "count": 1
                      },
                      {
                        "bin_start": -0.49497690803569483,
                        "bin_end": -0.35128186329953875,
                        "count": 0
                      },
                      {
                        "bin_start": -0.35128186329953875,
                        "bin_end": -0.20758681856338268,
                        "count": 0
                      },
                      {
                        "bin_start": -0.20758681856338268,
                        "bin_end": -0.06389177382722655,
                        "count": 0
                      },
                      {
                        "bin_start": -0.06389177382722655,
                        "bin_end": 0.07980327090892958,
                        "count": 1
                      },
                      {
                        "bin_start": 0.07980327090892958,
                        "bin_end": 0.2234983156450856,
                        "count": 0
                      },
                      {
                        "bin_start": 0.2234983156450856,
                        "bin_end": 0.36719336038124184,
                        "count": 1
                      },
                      {
                        "bin_start": 0.36719336038124184,
                        "bin_end": 0.5108884051173979,
                        "count": 0
                      },
                      {
                        "bin_start": 0.5108884051173979,
                        "bin_end": 0.6545834498535539,
                        "count": 0
                      },
                      {
                        "bin_start": 0.6545834498535539,
                        "bin_end": 0.79827849458971,
                        "count": 2
                      }
                    ]
                  }
                },
                {
                  "name": "V23",
                  "dtype": "float64",
                  "stats": {
                    "unique_count": 5,
                    "nan_count": 0,
                    "min": "-0.190320518742841",
                    "max": "0.909412262347719",
                    "histogram": [
                      {
                        "bin_start": -0.190320518742841,
                        "bin_end": -0.08034724063378501,
                        "count": 3
                      },
                      {
                        "bin_start": -0.08034724063378501,
                        "bin_end": 0.029626037475270983,
                        "count": 0
                      },
                      {
                        "bin_start": 0.029626037475270983,
                        "bin_end": 0.13959931558432698,
                        "count": 1
                      },
                      {
                        "bin_start": 0.13959931558432698,
                        "bin_end": 0.24957259369338297,
                        "count": 0
                      },
                      {
                        "bin_start": 0.24957259369338297,
                        "bin_end": 0.35954587180243897,
                        "count": 0
                      },
                      {
                        "bin_start": 0.35954587180243897,
                        "bin_end": 0.46951914991149496,
                        "count": 0
                      },
                      {
                        "bin_start": 0.46951914991149496,
                        "bin_end": 0.5794924280205509,
                        "count": 0
                      },
                      {
                        "bin_start": 0.5794924280205509,
                        "bin_end": 0.689465706129607,
                        "count": 0
                      },
                      {
                        "bin_start": 0.689465706129607,
                        "bin_end": 0.7994389842386629,
                        "count": 0
                      },
                      {
                        "bin_start": 0.7994389842386629,
                        "bin_end": 0.909412262347719,
                        "count": 1
                      }
                    ]
                  }
                },
                {
                  "name": "V24",
                  "dtype": "float64",
                  "stats": {
                    "unique_count": 5,
                    "nan_count": 0,
                    "min": "-1.17557533186321",
                    "max": "0.141266983824769",
                    "histogram": [
                      {
                        "bin_start": -1.17557533186321,
                        "bin_end": -1.0438911002944122,
                        "count": 1
                      },
                      {
                        "bin_start": -1.0438911002944122,
                        "bin_end": -0.9122068687256142,
                        "count": 0
                      },
                      {
                        "bin_start": -0.9122068687256142,
                        "bin_end": -0.7805226371568164,
                        "count": 0
                      },
                      {
                        "bin_start": -0.7805226371568164,
                        "bin_end": -0.6488384055880184,
                        "count": 1
                      },
                      {
                        "bin_start": -0.6488384055880184,
                        "bin_end": -0.5171541740192205,
                        "count": 0
                      },
                      {
                        "bin_start": -0.5171541740192205,
                        "bin_end": -0.38546994245042265,
                        "count": 0
                      },
                      {
                        "bin_start": -0.38546994245042265,
                        "bin_end": -0.2537857108816247,
                        "count": 1
                      },
                      {
                        "bin_start": -0.2537857108816247,
                        "bin_end": -0.12210147931282678,
                        "count": 0
                      },
                      {
                        "bin_start": -0.12210147931282678,
                        "bin_end": 0.00958275225597105,
                        "count": 0
                      },
                      {
                        "bin_start": 0.00958275225597105,
                        "bin_end": 0.141266983824769,
                        "count": 2
                      }
                    ]
                  }
                },
                {
                  "name": "V25",
                  "dtype": "float64",
                  "stats": {
                    "unique_count": 5,
                    "nan_count": 0,
                    "min": "-0.327641833735251",
                    "max": "0.647376034602038",
                    "histogram": [
                      {
                        "bin_start": -0.327641833735251,
                        "bin_end": -0.23014004690152212,
                        "count": 1
                      },
                      {
                        "bin_start": -0.23014004690152212,
                        "bin_end": -0.13263826006779322,
                        "count": 1
                      },
                      {
                        "bin_start": -0.13263826006779322,
                        "bin_end": -0.035136473234064325,
                        "count": 0
                      },
                      {
                        "bin_start": -0.035136473234064325,
                        "bin_end": 0.062365313599664574,
                        "count": 0
                      },
                      {
                        "bin_start": 0.062365313599664574,
                        "bin_end": 0.15986710043339347,
                        "count": 1
                      },
                      {
                        "bin_start": 0.15986710043339347,
                        "bin_end": 0.25736888726712237,
                        "count": 1
                      },
                      {
                        "bin_start": 0.25736888726712237,
                        "bin_end": 0.35487067410085127,
                        "count": 0
                      },
                      {
                        "bin_start": 0.35487067410085127,
                        "bin_end": 0.45237246093458017,
                        "count": 0
                      },
                      {
                        "bin_start": 0.45237246093458017,
                        "bin_end": 0.5498742477683091,
                        "count": 0
                      },
                      {
                        "bin_start": 0.5498742477683091,
                        "bin_end": 0.647376034602038,
                        "count": 1
                      }
                    ]
                  }
                },
                {
                  "name": "V26",
                  "dtype": "float64",
                  "stats": {
                    "unique_count": 5,
                    "nan_count": 0,
                    "min": "-0.221928844458407",
                    "max": "0.502292224181569",
                    "histogram": [
                      {
                        "bin_start": -0.221928844458407,
                        "bin_end": -0.14950673759440938,
                        "count": 2
                      },
                      {
                        "bin_start": -0.14950673759440938,
                        "bin_end": -0.07708463073041177,
                        "count": 1
                      },
                      {
                        "bin_start": -0.07708463073041177,
                        "bin_end": -0.004662523866414164,
                        "count": 0
                      },
                      {
                        "bin_start": -0.004662523866414164,
                        "bin_end": 0.06775958299758345,
                        "count": 0
                      },
                      {
                        "bin_start": 0.06775958299758345,
                        "bin_end": 0.14018168986158108,
                        "count": 1
                      },
                      {
                        "bin_start": 0.14018168986158108,
                        "bin_end": 0.21260379672557866,
                        "count": 0
                      },
                      {
                        "bin_start": 0.21260379672557866,
                        "bin_end": 0.28502590358957625,
                        "count": 0
                      },
                      {
                        "bin_start": 0.28502590358957625,
                        "bin_end": 0.3574480104535739,
                        "count": 0
                      },
                      {
                        "bin_start": 0.3574480104535739,
                        "bin_end": 0.4298701173175715,
                        "count": 0
                      },
                      {
                        "bin_start": 0.4298701173175715,
                        "bin_end": 0.502292224181569,
                        "count": 1
                      }
                    ]
                  }
                },
                {
                  "name": "V27",
                  "dtype": "float64",
                  "stats": {
                    "unique_count": 5,
                    "nan_count": 0,
                    "min": "-0.0553527940384261",
                    "max": "0.219422229513348",
                    "histogram": [
                      {
                        "bin_start": -0.0553527940384261,
                        "bin_end": -0.02787529168324869,
                        "count": 1
                      },
                      {
                        "bin_start": -0.02787529168324869,
                        "bin_end": -0.00039778932807128103,
                        "count": 1
                      },
                      {
                        "bin_start": -0.00039778932807128103,
                        "bin_end": 0.027079713027106135,
                        "count": 0
                      },
                      {
                        "bin_start": 0.027079713027106135,
                        "bin_end": 0.05455721538228354,
                        "count": 0
                      },
                      {
                        "bin_start": 0.05455721538228354,
                        "bin_end": 0.08203471773746093,
                        "count": 1
                      },
                      {
                        "bin_start": 0.08203471773746093,
                        "bin_end": 0.10951222009263836,
                        "count": 0
                      },
                      {
                        "bin_start": 0.10951222009263836,
                        "bin_end": 0.13698972244781576,
                        "count": 1
                      },
                      {
                        "bin_start": 0.13698972244781576,
                        "bin_end": 0.16446722480299317,
                        "count": 0
                      },
                      {
                        "bin_start": 0.16446722480299317,
                        "bin_end": 0.19194472715817057,
                        "count": 0
                      },
                      {
                        "bin_start": 0.19194472715817057,
                        "bin_end": 0.219422229513348,
                        "count": 1
                      }
                    ]
                  }
                },
                {
                  "name": "V28",
                  "dtype": "float64",
                  "stats": {
                    "unique_count": 5,
                    "nan_count": 0,
                    "min": "-0.0597518405929204",
                    "max": "0.215153147499206",
                    "histogram": [
                      {
                        "bin_start": -0.0597518405929204,
                        "bin_end": -0.032261341783707764,
                        "count": 1
                      },
                      {
                        "bin_start": -0.032261341783707764,
                        "bin_end": -0.004770842974495128,
                        "count": 1
                      },
                      {
                        "bin_start": -0.004770842974495128,
                        "bin_end": 0.022719655834717502,
                        "count": 1
                      },
                      {
                        "bin_start": 0.022719655834717502,
                        "bin_end": 0.050210154643930145,
                        "count": 0
                      },
                      {
                        "bin_start": 0.050210154643930145,
                        "bin_end": 0.07770065345314278,
                        "count": 1
                      },
                      {
                        "bin_start": 0.07770065345314278,
                        "bin_end": 0.1051911522623554,
                        "count": 0
                      },
                      {
                        "bin_start": 0.1051911522623554,
                        "bin_end": 0.13268165107156804,
                        "count": 0
                      },
                      {
                        "bin_start": 0.13268165107156804,
                        "bin_end": 0.16017214988078068,
                        "count": 0
                      },
                      {
                        "bin_start": 0.16017214988078068,
                        "bin_end": 0.18766264868999333,
                        "count": 0
                      },
                      {
                        "bin_start": 0.18766264868999333,
                        "bin_end": 0.215153147499206,
                        "count": 1
                      }
                    ]
                  }
                },
                {
                  "name": "Amount",
                  "dtype": "float64",
                  "stats": {
                    "unique_count": 5,
                    "nan_count": 0,
                    "min": "2.69",
                    "max": "378.66",
                    "histogram": [
                      {
                        "bin_start": 2.69,
                        "bin_end": 40.287,
                        "count": 1
                      },
                      {
                        "bin_start": 40.287,
                        "bin_end": 77.884,
                        "count": 1
                      },
                      {
                        "bin_start": 77.884,
                        "bin_end": 115.481,
                        "count": 0
                      },
                      {
                        "bin_start": 115.481,
                        "bin_end": 153.078,
                        "count": 2
                      },
                      {
                        "bin_start": 153.078,
                        "bin_end": 190.675,
                        "count": 0
                      },
                      {
                        "bin_start": 190.675,
                        "bin_end": 228.272,
                        "count": 0
                      },
                      {
                        "bin_start": 228.272,
                        "bin_end": 265.869,
                        "count": 0
                      },
                      {
                        "bin_start": 265.869,
                        "bin_end": 303.466,
                        "count": 0
                      },
                      {
                        "bin_start": 303.466,
                        "bin_end": 341.063,
                        "count": 0
                      },
                      {
                        "bin_start": 341.063,
                        "bin_end": 378.66,
                        "count": 1
                      }
                    ]
                  }
                },
                {
                  "name": "Class",
                  "dtype": "int64",
                  "stats": {
                    "unique_count": 1,
                    "nan_count": 0,
                    "min": "0",
                    "max": "0",
                    "histogram": [
                      {
                        "bin_start": -0.5,
                        "bin_end": -0.4,
                        "count": 0
                      },
                      {
                        "bin_start": -0.4,
                        "bin_end": -0.3,
                        "count": 0
                      },
                      {
                        "bin_start": -0.3,
                        "bin_end": -0.19999999999999996,
                        "count": 0
                      },
                      {
                        "bin_start": -0.19999999999999996,
                        "bin_end": -0.09999999999999998,
                        "count": 0
                      },
                      {
                        "bin_start": -0.09999999999999998,
                        "bin_end": 0,
                        "count": 0
                      },
                      {
                        "bin_start": 0,
                        "bin_end": 0.10000000000000009,
                        "count": 5
                      },
                      {
                        "bin_start": 0.10000000000000009,
                        "bin_end": 0.20000000000000007,
                        "count": 0
                      },
                      {
                        "bin_start": 0.20000000000000007,
                        "bin_end": 0.30000000000000004,
                        "count": 0
                      },
                      {
                        "bin_start": 0.30000000000000004,
                        "bin_end": 0.4,
                        "count": 0
                      },
                      {
                        "bin_start": 0.4,
                        "bin_end": 0.5,
                        "count": 0
                      }
                    ]
                  }
                },
                {
                  "name": "_deepnote_index_column",
                  "dtype": "int64"
                }
              ],
              "rows": [
                {
                  "Time": 0,
                  "V1": -1.3598071336738,
                  "V2": -0.0727811733098497,
                  "V3": 2.53634673796914,
                  "V4": 1.37815522427443,
                  "V5": -0.338320769942518,
                  "V6": 0.462387777762292,
                  "V7": 0.239598554061257,
                  "V8": 0.0986979012610507,
                  "V9": 0.363786969611213,
                  "V10": 0.0907941719789316,
                  "V11": -0.551599533260813,
                  "V12": -0.617800855762348,
                  "V13": -0.991389847235408,
                  "V14": -0.311169353699879,
                  "V15": 1.46817697209427,
                  "V16": -0.470400525259478,
                  "V17": 0.207971241929242,
                  "V18": 0.0257905801985591,
                  "V19": 0.403992960255733,
                  "V20": 0.251412098239705,
                  "V21": -0.018306777944153,
                  "V22": 0.277837575558899,
                  "V23": -0.110473910188767,
                  "V24": 0.0669280749146731,
                  "V25": 0.128539358273528,
                  "V26": -0.189114843888824,
                  "V27": 0.133558376740387,
                  "V28": -0.0210530534538215,
                  "Amount": 149.62,
                  "Class": 0,
                  "_deepnote_index_column": 0
                },
                {
                  "Time": 0,
                  "V1": 1.19185711131486,
                  "V2": 0.26615071205963,
                  "V3": 0.16648011335321,
                  "V4": 0.448154078460911,
                  "V5": 0.0600176492822243,
                  "V6": -0.0823608088155687,
                  "V7": -0.0788029833323113,
                  "V8": 0.0851016549148104,
                  "V9": -0.255425128109186,
                  "V10": -0.166974414004614,
                  "V11": 1.61272666105479,
                  "V12": 1.06523531137287,
                  "V13": 0.48909501589608,
                  "V14": -0.143772296441519,
                  "V15": 0.635558093258208,
                  "V16": 0.463917041022171,
                  "V17": -0.114804663102346,
                  "V18": -0.183361270123994,
                  "V19": -0.145783041325259,
                  "V20": -0.0690831352230203,
                  "V21": -0.225775248033138,
                  "V22": -0.638671952771851,
                  "V23": 0.101288021253234,
                  "V24": -0.339846475529127,
                  "V25": 0.167170404418143,
                  "V26": 0.125894532368176,
                  "V27": -0.0089830991432281,
                  "V28": 0.0147241691924927,
                  "Amount": 2.69,
                  "Class": 0,
                  "_deepnote_index_column": 1
                },
                {
                  "Time": 1,
                  "V1": -1.35835406159823,
                  "V2": -1.34016307473609,
                  "V3": 1.77320934263119,
                  "V4": 0.379779593034328,
                  "V5": -0.503198133318193,
                  "V6": 1.80049938079263,
                  "V7": 0.791460956450422,
                  "V8": 0.247675786588991,
                  "V9": -1.51465432260583,
                  "V10": 0.207642865216696,
                  "V11": 0.624501459424895,
                  "V12": 0.066083685268831,
                  "V13": 0.717292731410831,
                  "V14": -0.165945922763554,
                  "V15": 2.34586494901581,
                  "V16": -2.89008319444231,
                  "V17": 1.10996937869599,
                  "V18": -0.121359313195888,
                  "V19": -2.26185709530414,
                  "V20": 0.524979725224404,
                  "V21": 0.247998153469754,
                  "V22": 0.771679401917229,
                  "V23": 0.909412262347719,
                  "V24": -0.689280956490685,
                  "V25": -0.327641833735251,
                  "V26": -0.139096571514147,
                  "V27": -0.0553527940384261,
                  "V28": -0.0597518405929204,
                  "Amount": 378.66,
                  "Class": 0,
                  "_deepnote_index_column": 2
                },
                {
                  "Time": 1,
                  "V1": -0.966271711572087,
                  "V2": -0.185226008082898,
                  "V3": 1.79299333957872,
                  "V4": -0.863291275036453,
                  "V5": -0.0103088796030823,
                  "V6": 1.24720316752486,
                  "V7": 0.23760893977178,
                  "V8": 0.377435874652262,
                  "V9": -1.38702406270197,
                  "V10": -0.0549519224713749,
                  "V11": -0.226487263835401,
                  "V12": 0.178228225877303,
                  "V13": 0.507756869957169,
                  "V14": -0.28792374549456,
                  "V15": -0.631418117709045,
                  "V16": -1.0596472454325,
                  "V17": -0.684092786345479,
                  "V18": 1.96577500349538,
                  "V19": -1.2326219700892,
                  "V20": -0.208037781160366,
                  "V21": -0.108300452035545,
                  "V22": 0.0052735967825345,
                  "V23": -0.190320518742841,
                  "V24": -1.17557533186321,
                  "V25": 0.647376034602038,
                  "V26": -0.221928844458407,
                  "V27": 0.0627228487293033,
                  "V28": 0.0614576285006353,
                  "Amount": 123.5,
                  "Class": 0,
                  "_deepnote_index_column": 3
                },
                {
                  "Time": 2,
                  "V1": -1.15823309349523,
                  "V2": 0.877736754848451,
                  "V3": 1.548717846511,
                  "V4": 0.403033933955121,
                  "V5": -0.407193377311653,
                  "V6": 0.0959214624684256,
                  "V7": 0.592940745385545,
                  "V8": -0.270532677192282,
                  "V9": 0.817739308235294,
                  "V10": 0.753074431976354,
                  "V11": -0.822842877946363,
                  "V12": 0.53819555014995,
                  "V13": 1.3458515932154,
                  "V14": -1.11966983471731,
                  "V15": 0.175121130008994,
                  "V16": -0.451449182813529,
                  "V17": -0.237033239362776,
                  "V18": -0.0381947870352842,
                  "V19": 0.803486924960175,
                  "V20": 0.408542360392758,
                  "V21": -0.0094306971323291,
                  "V22": 0.79827849458971,
                  "V23": -0.137458079619063,
                  "V24": 0.141266983824769,
                  "V25": -0.206009587619756,
                  "V26": 0.502292224181569,
                  "V27": 0.219422229513348,
                  "V28": 0.215153147499206,
                  "Amount": 69.99,
                  "Class": 0,
                  "_deepnote_index_column": 4
                }
              ]
            },
            "text/plain": "   Time        V1        V2        V3        V4        V5        V6        V7  \\\n0   0.0 -1.359807 -0.072781  2.536347  1.378155 -0.338321  0.462388  0.239599   \n1   0.0  1.191857  0.266151  0.166480  0.448154  0.060018 -0.082361 -0.078803   \n2   1.0 -1.358354 -1.340163  1.773209  0.379780 -0.503198  1.800499  0.791461   \n3   1.0 -0.966272 -0.185226  1.792993 -0.863291 -0.010309  1.247203  0.237609   \n4   2.0 -1.158233  0.877737  1.548718  0.403034 -0.407193  0.095921  0.592941   \n\n         V8        V9  ...       V21       V22       V23       V24       V25  \\\n0  0.098698  0.363787  ... -0.018307  0.277838 -0.110474  0.066928  0.128539   \n1  0.085102 -0.255425  ... -0.225775 -0.638672  0.101288 -0.339846  0.167170   \n2  0.247676 -1.514654  ...  0.247998  0.771679  0.909412 -0.689281 -0.327642   \n3  0.377436 -1.387024  ... -0.108300  0.005274 -0.190321 -1.175575  0.647376   \n4 -0.270533  0.817739  ... -0.009431  0.798278 -0.137458  0.141267 -0.206010   \n\n        V26       V27       V28  Amount  Class  \n0 -0.189115  0.133558 -0.021053  149.62      0  \n1  0.125895 -0.008983  0.014724    2.69      0  \n2 -0.139097 -0.055353 -0.059752  378.66      0  \n3 -0.221929  0.062723  0.061458  123.50      0  \n4  0.502292  0.219422  0.215153   69.99      0  \n\n[5 rows x 31 columns]",
            "text/html": "<div>\n<style scoped>\n    .dataframe tbody tr th:only-of-type {\n        vertical-align: middle;\n    }\n\n    .dataframe tbody tr th {\n        vertical-align: top;\n    }\n\n    .dataframe thead th {\n        text-align: right;\n    }\n</style>\n<table border=\"1\" class=\"dataframe\">\n  <thead>\n    <tr style=\"text-align: right;\">\n      <th></th>\n      <th>Time</th>\n      <th>V1</th>\n      <th>V2</th>\n      <th>V3</th>\n      <th>V4</th>\n      <th>V5</th>\n      <th>V6</th>\n      <th>V7</th>\n      <th>V8</th>\n      <th>V9</th>\n      <th>...</th>\n      <th>V21</th>\n      <th>V22</th>\n      <th>V23</th>\n      <th>V24</th>\n      <th>V25</th>\n      <th>V26</th>\n      <th>V27</th>\n      <th>V28</th>\n      <th>Amount</th>\n      <th>Class</th>\n    </tr>\n  </thead>\n  <tbody>\n    <tr>\n      <th>0</th>\n      <td>0.0</td>\n      <td>-1.359807</td>\n      <td>-0.072781</td>\n      <td>2.536347</td>\n      <td>1.378155</td>\n      <td>-0.338321</td>\n      <td>0.462388</td>\n      <td>0.239599</td>\n      <td>0.098698</td>\n      <td>0.363787</td>\n      <td>...</td>\n      <td>-0.018307</td>\n      <td>0.277838</td>\n      <td>-0.110474</td>\n      <td>0.066928</td>\n      <td>0.128539</td>\n      <td>-0.189115</td>\n      <td>0.133558</td>\n      <td>-0.021053</td>\n      <td>149.62</td>\n      <td>0</td>\n    </tr>\n    <tr>\n      <th>1</th>\n      <td>0.0</td>\n      <td>1.191857</td>\n      <td>0.266151</td>\n      <td>0.166480</td>\n      <td>0.448154</td>\n      <td>0.060018</td>\n      <td>-0.082361</td>\n      <td>-0.078803</td>\n      <td>0.085102</td>\n      <td>-0.255425</td>\n      <td>...</td>\n      <td>-0.225775</td>\n      <td>-0.638672</td>\n      <td>0.101288</td>\n      <td>-0.339846</td>\n      <td>0.167170</td>\n      <td>0.125895</td>\n      <td>-0.008983</td>\n      <td>0.014724</td>\n      <td>2.69</td>\n      <td>0</td>\n    </tr>\n    <tr>\n      <th>2</th>\n      <td>1.0</td>\n      <td>-1.358354</td>\n      <td>-1.340163</td>\n      <td>1.773209</td>\n      <td>0.379780</td>\n      <td>-0.503198</td>\n      <td>1.800499</td>\n      <td>0.791461</td>\n      <td>0.247676</td>\n      <td>-1.514654</td>\n      <td>...</td>\n      <td>0.247998</td>\n      <td>0.771679</td>\n      <td>0.909412</td>\n      <td>-0.689281</td>\n      <td>-0.327642</td>\n      <td>-0.139097</td>\n      <td>-0.055353</td>\n      <td>-0.059752</td>\n      <td>378.66</td>\n      <td>0</td>\n    </tr>\n    <tr>\n      <th>3</th>\n      <td>1.0</td>\n      <td>-0.966272</td>\n      <td>-0.185226</td>\n      <td>1.792993</td>\n      <td>-0.863291</td>\n      <td>-0.010309</td>\n      <td>1.247203</td>\n      <td>0.237609</td>\n      <td>0.377436</td>\n      <td>-1.387024</td>\n      <td>...</td>\n      <td>-0.108300</td>\n      <td>0.005274</td>\n      <td>-0.190321</td>\n      <td>-1.175575</td>\n      <td>0.647376</td>\n      <td>-0.221929</td>\n      <td>0.062723</td>\n      <td>0.061458</td>\n      <td>123.50</td>\n      <td>0</td>\n    </tr>\n    <tr>\n      <th>4</th>\n      <td>2.0</td>\n      <td>-1.158233</td>\n      <td>0.877737</td>\n      <td>1.548718</td>\n      <td>0.403034</td>\n      <td>-0.407193</td>\n      <td>0.095921</td>\n      <td>0.592941</td>\n      <td>-0.270533</td>\n      <td>0.817739</td>\n      <td>...</td>\n      <td>-0.009431</td>\n      <td>0.798278</td>\n      <td>-0.137458</td>\n      <td>0.141267</td>\n      <td>-0.206010</td>\n      <td>0.502292</td>\n      <td>0.219422</td>\n      <td>0.215153</td>\n      <td>69.99</td>\n      <td>0</td>\n    </tr>\n  </tbody>\n</table>\n<p>5 rows × 31 columns</p>\n</div>"
          },
          "metadata": {}
        }
      ],
      "outputs_reference": null,
      "execution_count": 3,
      "block_group": "a6d923d299b84adca6c1911cc128d71b",
      "content_dependencies": null
    },
    {
      "cell_type": "code",
      "source": "credit_card_data.info()",
      "metadata": {
        "source_hash": "5f247922",
        "execution_start": 1727043700906,
        "execution_millis": 417,
        "deepnote_to_be_reexecuted": false,
        "cell_id": "74c72772d82e4b5fbd0f976f77842346",
        "deepnote_cell_type": "code"
      },
      "outputs": [
        {
          "name": "stdout",
          "text": "<class 'pandas.core.frame.DataFrame'>\nRangeIndex: 284807 entries, 0 to 284806\nData columns (total 31 columns):\n #   Column  Non-Null Count   Dtype  \n---  ------  --------------   -----  \n 0   Time    284807 non-null  float64\n 1   V1      284807 non-null  float64\n 2   V2      284807 non-null  float64\n 3   V3      284807 non-null  float64\n 4   V4      284807 non-null  float64\n 5   V5      284807 non-null  float64\n 6   V6      284807 non-null  float64\n 7   V7      284807 non-null  float64\n 8   V8      284807 non-null  float64\n 9   V9      284807 non-null  float64\n 10  V10     284807 non-null  float64\n 11  V11     284807 non-null  float64\n 12  V12     284807 non-null  float64\n 13  V13     284807 non-null  float64\n 14  V14     284807 non-null  float64\n 15  V15     284807 non-null  float64\n 16  V16     284807 non-null  float64\n 17  V17     284807 non-null  float64\n 18  V18     284807 non-null  float64\n 19  V19     284807 non-null  float64\n 20  V20     284807 non-null  float64\n 21  V21     284807 non-null  float64\n 22  V22     284807 non-null  float64\n 23  V23     284807 non-null  float64\n 24  V24     284807 non-null  float64\n 25  V25     284807 non-null  float64\n 26  V26     284807 non-null  float64\n 27  V27     284807 non-null  float64\n 28  V28     284807 non-null  float64\n 29  Amount  284807 non-null  float64\n 30  Class   284807 non-null  int64  \ndtypes: float64(30), int64(1)\nmemory usage: 67.4 MB\n",
          "output_type": "stream"
        }
      ],
      "outputs_reference": null,
      "execution_count": 4,
      "block_group": "dff309d9dcce40b3aa143ccb80145924",
      "content_dependencies": null
    },
    {
      "cell_type": "code",
      "source": "#checking the number of missing values in each column\ncredit_card_data.isnull().sum()",
      "metadata": {
        "source_hash": "55694278",
        "execution_start": 1727043700923,
        "execution_millis": 401,
        "deepnote_to_be_reexecuted": false,
        "cell_id": "84c53a16f83e46599fe538b17a4f2ded",
        "deepnote_cell_type": "code"
      },
      "outputs": [
        {
          "output_type": "execute_result",
          "execution_count": 5,
          "data": {
            "text/plain": "Time      0\nV1        0\nV2        0\nV3        0\nV4        0\nV5        0\nV6        0\nV7        0\nV8        0\nV9        0\nV10       0\nV11       0\nV12       0\nV13       0\nV14       0\nV15       0\nV16       0\nV17       0\nV18       0\nV19       0\nV20       0\nV21       0\nV22       0\nV23       0\nV24       0\nV25       0\nV26       0\nV27       0\nV28       0\nAmount    0\nClass     0\ndtype: int64"
          },
          "metadata": {}
        }
      ],
      "outputs_reference": null,
      "execution_count": 5,
      "block_group": "d127882eb2314780884a6363b537b742",
      "content_dependencies": null
    },
    {
      "cell_type": "code",
      "source": "#distribution of legit and fraud transactions \ncredit_card_data['Class'].value_counts()",
      "metadata": {
        "source_hash": "bd322153",
        "execution_start": 1727043700978,
        "execution_millis": 346,
        "deepnote_to_be_reexecuted": false,
        "cell_id": "c98bd5f12c2d4080bd9715deeb7c9269",
        "deepnote_cell_type": "code"
      },
      "outputs": [
        {
          "output_type": "execute_result",
          "execution_count": 6,
          "data": {
            "text/plain": "Class\n0    284315\n1       492\nName: count, dtype: int64"
          },
          "metadata": {}
        }
      ],
      "outputs_reference": null,
      "execution_count": 6,
      "block_group": "e8bab36a64e8436684cbf4be50c3ec0e",
      "content_dependencies": null
    },
    {
      "cell_type": "markdown",
      "source": "Highly unbalanced dataset: ",
      "metadata": {
        "formattedRanges": [],
        "cell_id": "22f17867b81848919110afa0ede8910e",
        "deepnote_cell_type": "text-cell-p"
      },
      "block_group": "f439a7a287684f8fba21ebfcc7bd2620"
    },
    {
      "cell_type": "markdown",
      "source": "0 --> Normal transactions ",
      "metadata": {
        "formattedRanges": [],
        "cell_id": "c57b7532bdb64ebba1720621fcd51143",
        "deepnote_cell_type": "text-cell-p"
      },
      "block_group": "1b60926adc6e4541ae2710027294b583"
    },
    {
      "cell_type": "markdown",
      "source": "1 --> Fraud transactions ",
      "metadata": {
        "formattedRanges": [],
        "cell_id": "71456711ad0145e697942fae011e321e",
        "deepnote_cell_type": "text-cell-p"
      },
      "block_group": "9a35147185e947678111dc9dd7bf4cd3"
    },
    {
      "cell_type": "code",
      "source": "#seperating the data for analysis \nlegit = credit_card_data[credit_card_data.Class == 0]\nfraud = credit_card_data[credit_card_data.Class == 1]",
      "metadata": {
        "source_hash": "846c83ec",
        "execution_start": 1727043700979,
        "execution_millis": 345,
        "deepnote_to_be_reexecuted": false,
        "cell_id": "d204a26436774166b3e64b7310a12fef",
        "deepnote_cell_type": "code"
      },
      "outputs": [],
      "outputs_reference": null,
      "execution_count": 7,
      "block_group": "dde7a8c05ca744509a38913fca7aa743",
      "content_dependencies": null
    },
    {
      "cell_type": "code",
      "source": "print(legit.shape)\nprint(fraud.shape)",
      "metadata": {
        "source_hash": "1e554fb2",
        "execution_start": 1727043700988,
        "execution_millis": 337,
        "deepnote_to_be_reexecuted": false,
        "cell_id": "cc9f2cc9cea142358cfe0360c67021e6",
        "deepnote_cell_type": "code"
      },
      "outputs": [
        {
          "name": "stdout",
          "text": "(284315, 31)\n(492, 31)\n",
          "output_type": "stream"
        }
      ],
      "outputs_reference": null,
      "execution_count": 8,
      "block_group": "d0caeabae4c540599775cab1f2b110d4",
      "content_dependencies": null
    },
    {
      "cell_type": "code",
      "source": "#statistical measures of the data\nlegit.Amount.describe()",
      "metadata": {
        "source_hash": "584911c5",
        "execution_start": 1727043700996,
        "execution_millis": 329,
        "deepnote_to_be_reexecuted": false,
        "cell_id": "c148c63742af4fe6a4613f860c8ebd49",
        "deepnote_cell_type": "code"
      },
      "outputs": [
        {
          "output_type": "execute_result",
          "execution_count": 9,
          "data": {
            "text/plain": "count    284315.000000\nmean         88.291022\nstd         250.105092\nmin           0.000000\n25%           5.650000\n50%          22.000000\n75%          77.050000\nmax       25691.160000\nName: Amount, dtype: float64"
          },
          "metadata": {}
        }
      ],
      "outputs_reference": null,
      "execution_count": 9,
      "block_group": "ea1d3f7d7a63406c982f75c39a8673e9",
      "content_dependencies": null
    },
    {
      "cell_type": "code",
      "source": "fraud.Amount.describe()",
      "metadata": {
        "source_hash": "db508c4d",
        "execution_start": 1727043701028,
        "execution_millis": 298,
        "deepnote_to_be_reexecuted": false,
        "cell_id": "77371e77ba024cb1968f20c452527e76",
        "deepnote_cell_type": "code"
      },
      "outputs": [
        {
          "output_type": "execute_result",
          "execution_count": 10,
          "data": {
            "text/plain": "count     492.000000\nmean      122.211321\nstd       256.683288\nmin         0.000000\n25%         1.000000\n50%         9.250000\n75%       105.890000\nmax      2125.870000\nName: Amount, dtype: float64"
          },
          "metadata": {}
        }
      ],
      "outputs_reference": null,
      "execution_count": 10,
      "block_group": "b92e93d2979a4fc18f04e408f6d13288",
      "content_dependencies": null
    },
    {
      "cell_type": "code",
      "source": "#compare the values for both transactions\ncredit_card_data.groupby('Class').mean()",
      "metadata": {
        "source_hash": "b5b6ab4",
        "execution_start": 1727043701028,
        "execution_millis": 298,
        "deepnote_to_be_reexecuted": false,
        "cell_id": "8b4293c98a544098b91c20297621affc",
        "deepnote_cell_type": "code"
      },
      "outputs": [
        {
          "output_type": "execute_result",
          "execution_count": 11,
          "data": {
            "application/vnd.deepnote.dataframe.v3+json": {
              "column_count": 30,
              "row_count": 2,
              "columns": [
                {
                  "name": "Time",
                  "dtype": "float64",
                  "stats": {
                    "unique_count": 2,
                    "nan_count": 0,
                    "min": "80746.80691056911",
                    "max": "94838.20225805884",
                    "histogram": [
                      {
                        "bin_start": 80746.80691056911,
                        "bin_end": 82155.94644531808,
                        "count": 1
                      },
                      {
                        "bin_start": 82155.94644531808,
                        "bin_end": 83565.08598006706,
                        "count": 0
                      },
                      {
                        "bin_start": 83565.08598006706,
                        "bin_end": 84974.22551481603,
                        "count": 0
                      },
                      {
                        "bin_start": 84974.22551481603,
                        "bin_end": 86383.365049565,
                        "count": 0
                      },
                      {
                        "bin_start": 86383.365049565,
                        "bin_end": 87792.50458431398,
                        "count": 0
                      },
                      {
                        "bin_start": 87792.50458431398,
                        "bin_end": 89201.64411906296,
                        "count": 0
                      },
                      {
                        "bin_start": 89201.64411906296,
                        "bin_end": 90610.78365381192,
                        "count": 0
                      },
                      {
                        "bin_start": 90610.78365381192,
                        "bin_end": 92019.92318856089,
                        "count": 0
                      },
                      {
                        "bin_start": 92019.92318856089,
                        "bin_end": 93429.06272330986,
                        "count": 0
                      },
                      {
                        "bin_start": 93429.06272330986,
                        "bin_end": 94838.20225805884,
                        "count": 1
                      }
                    ]
                  }
                },
                {
                  "name": "V1",
                  "dtype": "float64",
                  "stats": {
                    "unique_count": 2,
                    "nan_count": 0,
                    "min": "-4.771948441479082",
                    "max": "0.008257737485563701",
                    "histogram": [
                      {
                        "bin_start": -4.771948441479082,
                        "bin_end": -4.293927823582617,
                        "count": 1
                      },
                      {
                        "bin_start": -4.293927823582617,
                        "bin_end": -3.8159072056861527,
                        "count": 0
                      },
                      {
                        "bin_start": -3.8159072056861527,
                        "bin_end": -3.337886587789688,
                        "count": 0
                      },
                      {
                        "bin_start": -3.337886587789688,
                        "bin_end": -2.8598659698932236,
                        "count": 0
                      },
                      {
                        "bin_start": -2.8598659698932236,
                        "bin_end": -2.381845351996759,
                        "count": 0
                      },
                      {
                        "bin_start": -2.381845351996759,
                        "bin_end": -1.9038247341002945,
                        "count": 0
                      },
                      {
                        "bin_start": -1.9038247341002945,
                        "bin_end": -1.42580411620383,
                        "count": 0
                      },
                      {
                        "bin_start": -1.42580411620383,
                        "bin_end": -0.9477834983073654,
                        "count": 0
                      },
                      {
                        "bin_start": -0.9477834983073654,
                        "bin_end": -0.46976288041090086,
                        "count": 0
                      },
                      {
                        "bin_start": -0.46976288041090086,
                        "bin_end": 0.008257737485563701,
                        "count": 1
                      }
                    ]
                  }
                },
                {
                  "name": "V2",
                  "dtype": "float64",
                  "stats": {
                    "unique_count": 2,
                    "nan_count": 0,
                    "min": "-0.0062708574158070645",
                    "max": "3.6237781019822806",
                    "histogram": [
                      {
                        "bin_start": -0.0062708574158070645,
                        "bin_end": 0.3567340385240017,
                        "count": 1
                      },
                      {
                        "bin_start": 0.3567340385240017,
                        "bin_end": 0.7197389344638105,
                        "count": 0
                      },
                      {
                        "bin_start": 0.7197389344638105,
                        "bin_end": 1.0827438304036194,
                        "count": 0
                      },
                      {
                        "bin_start": 1.0827438304036194,
                        "bin_end": 1.445748726343428,
                        "count": 0
                      },
                      {
                        "bin_start": 1.445748726343428,
                        "bin_end": 1.8087536222832368,
                        "count": 0
                      },
                      {
                        "bin_start": 1.8087536222832368,
                        "bin_end": 2.171758518223046,
                        "count": 0
                      },
                      {
                        "bin_start": 2.171758518223046,
                        "bin_end": 2.5347634141628546,
                        "count": 0
                      },
                      {
                        "bin_start": 2.5347634141628546,
                        "bin_end": 2.8977683101026632,
                        "count": 0
                      },
                      {
                        "bin_start": 2.8977683101026632,
                        "bin_end": 3.260773206042472,
                        "count": 0
                      },
                      {
                        "bin_start": 3.260773206042472,
                        "bin_end": 3.6237781019822806,
                        "count": 1
                      }
                    ]
                  }
                },
                {
                  "name": "V3",
                  "dtype": "float64",
                  "stats": {
                    "unique_count": 2,
                    "nan_count": 0,
                    "min": "-7.0332810485965584",
                    "max": "0.012170917031845342",
                    "histogram": [
                      {
                        "bin_start": -7.0332810485965584,
                        "bin_end": -6.328735852033718,
                        "count": 1
                      },
                      {
                        "bin_start": -6.328735852033718,
                        "bin_end": -5.624190655470878,
                        "count": 0
                      },
                      {
                        "bin_start": -5.624190655470878,
                        "bin_end": -4.919645458908037,
                        "count": 0
                      },
                      {
                        "bin_start": -4.919645458908037,
                        "bin_end": -4.215100262345197,
                        "count": 0
                      },
                      {
                        "bin_start": -4.215100262345197,
                        "bin_end": -3.5105550657823565,
                        "count": 0
                      },
                      {
                        "bin_start": -3.5105550657823565,
                        "bin_end": -2.8060098692195155,
                        "count": 0
                      },
                      {
                        "bin_start": -2.8060098692195155,
                        "bin_end": -2.1014646726566752,
                        "count": 0
                      },
                      {
                        "bin_start": -2.1014646726566752,
                        "bin_end": -1.396919476093835,
                        "count": 0
                      },
                      {
                        "bin_start": -1.396919476093835,
                        "bin_end": -0.6923742795309948,
                        "count": 0
                      },
                      {
                        "bin_start": -0.6923742795309948,
                        "bin_end": 0.012170917031845342,
                        "count": 1
                      }
                    ]
                  }
                },
                {
                  "name": "V4",
                  "dtype": "float64",
                  "stats": {
                    "unique_count": 2,
                    "nan_count": 0,
                    "min": "-0.007859867820465206",
                    "max": "4.542029104423093",
                    "histogram": [
                      {
                        "bin_start": -0.007859867820465206,
                        "bin_end": 0.44712902940389054,
                        "count": 1
                      },
                      {
                        "bin_start": 0.44712902940389054,
                        "bin_end": 0.9021179266282463,
                        "count": 0
                      },
                      {
                        "bin_start": 0.9021179266282463,
                        "bin_end": 1.357106823852602,
                        "count": 0
                      },
                      {
                        "bin_start": 1.357106823852602,
                        "bin_end": 1.812095721076958,
                        "count": 0
                      },
                      {
                        "bin_start": 1.812095721076958,
                        "bin_end": 2.267084618301314,
                        "count": 0
                      },
                      {
                        "bin_start": 2.267084618301314,
                        "bin_end": 2.7220735155256692,
                        "count": 0
                      },
                      {
                        "bin_start": 2.7220735155256692,
                        "bin_end": 3.177062412750025,
                        "count": 0
                      },
                      {
                        "bin_start": 3.177062412750025,
                        "bin_end": 3.632051309974381,
                        "count": 0
                      },
                      {
                        "bin_start": 3.632051309974381,
                        "bin_end": 4.087040207198736,
                        "count": 0
                      },
                      {
                        "bin_start": 4.087040207198736,
                        "bin_end": 4.542029104423093,
                        "count": 1
                      }
                    ]
                  }
                },
                {
                  "name": "V5",
                  "dtype": "float64",
                  "stats": {
                    "unique_count": 2,
                    "nan_count": 0,
                    "min": "-3.1512248859360046",
                    "max": "0.005453115888647453",
                    "histogram": [
                      {
                        "bin_start": -3.1512248859360046,
                        "bin_end": -2.8355570857535395,
                        "count": 1
                      },
                      {
                        "bin_start": -2.8355570857535395,
                        "bin_end": -2.5198892855710744,
                        "count": 0
                      },
                      {
                        "bin_start": -2.5198892855710744,
                        "bin_end": -2.204221485388609,
                        "count": 0
                      },
                      {
                        "bin_start": -2.204221485388609,
                        "bin_end": -1.8885536852061438,
                        "count": 0
                      },
                      {
                        "bin_start": -1.8885536852061438,
                        "bin_end": -1.5728858850236787,
                        "count": 0
                      },
                      {
                        "bin_start": -1.5728858850236787,
                        "bin_end": -1.2572180848412133,
                        "count": 0
                      },
                      {
                        "bin_start": -1.2572180848412133,
                        "bin_end": -0.941550284658748,
                        "count": 0
                      },
                      {
                        "bin_start": -0.941550284658748,
                        "bin_end": -0.6258824844762829,
                        "count": 0
                      },
                      {
                        "bin_start": -0.6258824844762829,
                        "bin_end": -0.3102146842938178,
                        "count": 0
                      },
                      {
                        "bin_start": -0.3102146842938178,
                        "bin_end": 0.005453115888647453,
                        "count": 1
                      }
                    ]
                  }
                },
                {
                  "name": "V6",
                  "dtype": "float64",
                  "stats": {
                    "unique_count": 2,
                    "nan_count": 0,
                    "min": "-1.3977367105923515",
                    "max": "0.002418748436107356",
                    "histogram": [
                      {
                        "bin_start": -1.3977367105923515,
                        "bin_end": -1.2577211646895057,
                        "count": 1
                      },
                      {
                        "bin_start": -1.2577211646895057,
                        "bin_end": -1.1177056187866596,
                        "count": 0
                      },
                      {
                        "bin_start": -1.1177056187866596,
                        "bin_end": -0.9776900728838138,
                        "count": 0
                      },
                      {
                        "bin_start": -0.9776900728838138,
                        "bin_end": -0.837674526980968,
                        "count": 0
                      },
                      {
                        "bin_start": -0.837674526980968,
                        "bin_end": -0.6976589810781222,
                        "count": 0
                      },
                      {
                        "bin_start": -0.6976589810781222,
                        "bin_end": -0.5576434351752763,
                        "count": 0
                      },
                      {
                        "bin_start": -0.5576434351752763,
                        "bin_end": -0.41762788927243033,
                        "count": 0
                      },
                      {
                        "bin_start": -0.41762788927243033,
                        "bin_end": -0.2776123433695845,
                        "count": 0
                      },
                      {
                        "bin_start": -0.2776123433695845,
                        "bin_end": -0.1375967974667387,
                        "count": 0
                      },
                      {
                        "bin_start": -0.1375967974667387,
                        "bin_end": 0.002418748436107356,
                        "count": 1
                      }
                    ]
                  }
                },
                {
                  "name": "V7",
                  "dtype": "float64",
                  "stats": {
                    "unique_count": 2,
                    "nan_count": 0,
                    "min": "-5.5687310837427395",
                    "max": "0.009636549929484083",
                    "histogram": [
                      {
                        "bin_start": -5.5687310837427395,
                        "bin_end": -5.010894320375517,
                        "count": 1
                      },
                      {
                        "bin_start": -5.010894320375517,
                        "bin_end": -4.453057557008295,
                        "count": 0
                      },
                      {
                        "bin_start": -4.453057557008295,
                        "bin_end": -3.8952207936410725,
                        "count": 0
                      },
                      {
                        "bin_start": -3.8952207936410725,
                        "bin_end": -3.33738403027385,
                        "count": 0
                      },
                      {
                        "bin_start": -3.33738403027385,
                        "bin_end": -2.779547266906628,
                        "count": 0
                      },
                      {
                        "bin_start": -2.779547266906628,
                        "bin_end": -2.2217105035394056,
                        "count": 0
                      },
                      {
                        "bin_start": -2.2217105035394056,
                        "bin_end": -1.6638737401721833,
                        "count": 0
                      },
                      {
                        "bin_start": -1.6638737401721833,
                        "bin_end": -1.106036976804961,
                        "count": 0
                      },
                      {
                        "bin_start": -1.106036976804961,
                        "bin_end": -0.5482002134377391,
                        "count": 0
                      },
                      {
                        "bin_start": -0.5482002134377391,
                        "bin_end": 0.009636549929484083,
                        "count": 1
                      }
                    ]
                  }
                },
                {
                  "name": "V8",
                  "dtype": "float64",
                  "stats": {
                    "unique_count": 2,
                    "nan_count": 0,
                    "min": "-0.000987471151665288",
                    "max": "0.5706358952962378",
                    "histogram": [
                      {
                        "bin_start": -0.000987471151665288,
                        "bin_end": 0.056174865493125024,
                        "count": 1
                      },
                      {
                        "bin_start": 0.056174865493125024,
                        "bin_end": 0.11333720213791534,
                        "count": 0
                      },
                      {
                        "bin_start": 0.11333720213791534,
                        "bin_end": 0.17049953878270566,
                        "count": 0
                      },
                      {
                        "bin_start": 0.17049953878270566,
                        "bin_end": 0.22766187542749597,
                        "count": 0
                      },
                      {
                        "bin_start": 0.22766187542749597,
                        "bin_end": 0.28482421207228625,
                        "count": 0
                      },
                      {
                        "bin_start": 0.28482421207228625,
                        "bin_end": 0.34198654871707657,
                        "count": 0
                      },
                      {
                        "bin_start": 0.34198654871707657,
                        "bin_end": 0.3991488853618669,
                        "count": 0
                      },
                      {
                        "bin_start": 0.3991488853618669,
                        "bin_end": 0.4563112220066572,
                        "count": 0
                      },
                      {
                        "bin_start": 0.4563112220066572,
                        "bin_end": 0.5134735586514475,
                        "count": 0
                      },
                      {
                        "bin_start": 0.5134735586514475,
                        "bin_end": 0.5706358952962378,
                        "count": 1
                      }
                    ]
                  }
                },
                {
                  "name": "V9",
                  "dtype": "float64",
                  "stats": {
                    "unique_count": 2,
                    "nan_count": 0,
                    "min": "-2.5811229217029954",
                    "max": "0.004466568691335972",
                    "histogram": [
                      {
                        "bin_start": -2.5811229217029954,
                        "bin_end": -2.3225639726635623,
                        "count": 1
                      },
                      {
                        "bin_start": -2.3225639726635623,
                        "bin_end": -2.064005023624129,
                        "count": 0
                      },
                      {
                        "bin_start": -2.064005023624129,
                        "bin_end": -1.8054460745846959,
                        "count": 0
                      },
                      {
                        "bin_start": -1.8054460745846959,
                        "bin_end": -1.5468871255452628,
                        "count": 0
                      },
                      {
                        "bin_start": -1.5468871255452628,
                        "bin_end": -1.2883281765058296,
                        "count": 0
                      },
                      {
                        "bin_start": -1.2883281765058296,
                        "bin_end": -1.0297692274663963,
                        "count": 0
                      },
                      {
                        "bin_start": -1.0297692274663963,
                        "bin_end": -0.7712102784269632,
                        "count": 0
                      },
                      {
                        "bin_start": -0.7712102784269632,
                        "bin_end": -0.5126513293875301,
                        "count": 0
                      },
                      {
                        "bin_start": -0.5126513293875301,
                        "bin_end": -0.254092380348097,
                        "count": 0
                      },
                      {
                        "bin_start": -0.254092380348097,
                        "bin_end": 0.004466568691335972,
                        "count": 1
                      }
                    ]
                  }
                },
                {
                  "name": "V10",
                  "dtype": "float64",
                  "stats": {
                    "unique_count": 2,
                    "nan_count": 0,
                    "min": "-5.676882870194368",
                    "max": "0.009823703892289417",
                    "histogram": [
                      {
                        "bin_start": -5.676882870194368,
                        "bin_end": -5.108212212785702,
                        "count": 1
                      },
                      {
                        "bin_start": -5.108212212785702,
                        "bin_end": -4.539541555377037,
                        "count": 0
                      },
                      {
                        "bin_start": -4.539541555377037,
                        "bin_end": -3.970870897968371,
                        "count": 0
                      },
                      {
                        "bin_start": -3.970870897968371,
                        "bin_end": -3.402200240559705,
                        "count": 0
                      },
                      {
                        "bin_start": -3.402200240559705,
                        "bin_end": -2.8335295831510394,
                        "count": 0
                      },
                      {
                        "bin_start": -2.8335295831510394,
                        "bin_end": -2.2648589257423737,
                        "count": 0
                      },
                      {
                        "bin_start": -2.2648589257423737,
                        "bin_end": -1.696188268333708,
                        "count": 0
                      },
                      {
                        "bin_start": -1.696188268333708,
                        "bin_end": -1.1275176109250422,
                        "count": 0
                      },
                      {
                        "bin_start": -1.1275176109250422,
                        "bin_end": -0.5588469535163769,
                        "count": 0
                      },
                      {
                        "bin_start": -0.5588469535163769,
                        "bin_end": 0.009823703892289417,
                        "count": 1
                      }
                    ]
                  }
                },
                {
                  "name": "V11",
                  "dtype": "float64",
                  "stats": {
                    "unique_count": 2,
                    "nan_count": 0,
                    "min": "-0.0065761042238215465",
                    "max": "3.800172911374607",
                    "histogram": [
                      {
                        "bin_start": -0.0065761042238215465,
                        "bin_end": 0.3740987973360213,
                        "count": 1
                      },
                      {
                        "bin_start": 0.3740987973360213,
                        "bin_end": 0.7547736988958641,
                        "count": 0
                      },
                      {
                        "bin_start": 0.7547736988958641,
                        "bin_end": 1.1354486004557072,
                        "count": 0
                      },
                      {
                        "bin_start": 1.1354486004557072,
                        "bin_end": 1.51612350201555,
                        "count": 0
                      },
                      {
                        "bin_start": 1.51612350201555,
                        "bin_end": 1.8967984035753926,
                        "count": 0
                      },
                      {
                        "bin_start": 1.8967984035753926,
                        "bin_end": 2.277473305135236,
                        "count": 0
                      },
                      {
                        "bin_start": 2.277473305135236,
                        "bin_end": 2.6581482066950786,
                        "count": 0
                      },
                      {
                        "bin_start": 2.6581482066950786,
                        "bin_end": 3.0388231082549213,
                        "count": 0
                      },
                      {
                        "bin_start": 3.0388231082549213,
                        "bin_end": 3.419498009814764,
                        "count": 0
                      },
                      {
                        "bin_start": 3.419498009814764,
                        "bin_end": 3.800172911374607,
                        "count": 1
                      }
                    ]
                  }
                },
                {
                  "name": "V12",
                  "dtype": "float64",
                  "stats": {
                    "unique_count": 2,
                    "nan_count": 0,
                    "min": "-6.259393036190131",
                    "max": "0.010831723172555756",
                    "histogram": [
                      {
                        "bin_start": -6.259393036190131,
                        "bin_end": -5.632370560253863,
                        "count": 1
                      },
                      {
                        "bin_start": -5.632370560253863,
                        "bin_end": -5.0053480843175935,
                        "count": 0
                      },
                      {
                        "bin_start": -5.0053480843175935,
                        "bin_end": -4.378325608381325,
                        "count": 0
                      },
                      {
                        "bin_start": -4.378325608381325,
                        "bin_end": -3.7513031324450563,
                        "count": 0
                      },
                      {
                        "bin_start": -3.7513031324450563,
                        "bin_end": -3.1242806565087875,
                        "count": 0
                      },
                      {
                        "bin_start": -3.1242806565087875,
                        "bin_end": -2.497258180572519,
                        "count": 0
                      },
                      {
                        "bin_start": -2.497258180572519,
                        "bin_end": -1.8702357046362499,
                        "count": 0
                      },
                      {
                        "bin_start": -1.8702357046362499,
                        "bin_end": -1.2432132286999815,
                        "count": 0
                      },
                      {
                        "bin_start": -1.2432132286999815,
                        "bin_end": -0.6161907527637132,
                        "count": 0
                      },
                      {
                        "bin_start": -0.6161907527637132,
                        "bin_end": 0.010831723172555756,
                        "count": 1
                      }
                    ]
                  }
                },
                {
                  "name": "V13",
                  "dtype": "float64",
                  "stats": {
                    "unique_count": 2,
                    "nan_count": 0,
                    "min": "-0.10933381708278404",
                    "max": "0.00018919943726136392",
                    "histogram": [
                      {
                        "bin_start": -0.10933381708278404,
                        "bin_end": -0.0983815154307795,
                        "count": 1
                      },
                      {
                        "bin_start": -0.0983815154307795,
                        "bin_end": -0.08742921377877497,
                        "count": 0
                      },
                      {
                        "bin_start": -0.08742921377877497,
                        "bin_end": -0.07647691212677042,
                        "count": 0
                      },
                      {
                        "bin_start": -0.07647691212677042,
                        "bin_end": -0.06552461047476588,
                        "count": 0
                      },
                      {
                        "bin_start": -0.06552461047476588,
                        "bin_end": -0.05457230882276133,
                        "count": 0
                      },
                      {
                        "bin_start": -0.05457230882276133,
                        "bin_end": -0.0436200071707568,
                        "count": 0
                      },
                      {
                        "bin_start": -0.0436200071707568,
                        "bin_end": -0.032667705518752255,
                        "count": 0
                      },
                      {
                        "bin_start": -0.032667705518752255,
                        "bin_end": -0.02171540386674771,
                        "count": 0
                      },
                      {
                        "bin_start": -0.02171540386674771,
                        "bin_end": -0.010763102214743164,
                        "count": 0
                      },
                      {
                        "bin_start": -0.010763102214743164,
                        "bin_end": 0.00018919943726136392,
                        "count": 1
                      }
                    ]
                  }
                },
                {
                  "name": "V14",
                  "dtype": "float64",
                  "stats": {
                    "unique_count": 2,
                    "nan_count": 0,
                    "min": "-6.971722894107602",
                    "max": "0.012064392184377487",
                    "histogram": [
                      {
                        "bin_start": -6.971722894107602,
                        "bin_end": -6.273344165478404,
                        "count": 1
                      },
                      {
                        "bin_start": -6.273344165478404,
                        "bin_end": -5.574965436849206,
                        "count": 0
                      },
                      {
                        "bin_start": -5.574965436849206,
                        "bin_end": -4.8765867082200085,
                        "count": 0
                      },
                      {
                        "bin_start": -4.8765867082200085,
                        "bin_end": -4.178207979590811,
                        "count": 0
                      },
                      {
                        "bin_start": -4.178207979590811,
                        "bin_end": -3.4798292509616124,
                        "count": 0
                      },
                      {
                        "bin_start": -3.4798292509616124,
                        "bin_end": -2.781450522332414,
                        "count": 0
                      },
                      {
                        "bin_start": -2.781450522332414,
                        "bin_end": -2.0830717937032164,
                        "count": 0
                      },
                      {
                        "bin_start": -2.0830717937032164,
                        "bin_end": -1.3846930650740186,
                        "count": 0
                      },
                      {
                        "bin_start": -1.3846930650740186,
                        "bin_end": -0.6863143364448208,
                        "count": 0
                      },
                      {
                        "bin_start": -0.6863143364448208,
                        "bin_end": 0.012064392184377487,
                        "count": 1
                      }
                    ]
                  }
                },
                {
                  "name": "V15",
                  "dtype": "float64",
                  "stats": {
                    "unique_count": 2,
                    "nan_count": 0,
                    "min": "-0.09292874691208504",
                    "max": "0.00016081087344015633",
                    "histogram": [
                      {
                        "bin_start": -0.09292874691208504,
                        "bin_end": -0.08361979113353252,
                        "count": 1
                      },
                      {
                        "bin_start": -0.08361979113353252,
                        "bin_end": -0.07431083535498001,
                        "count": 0
                      },
                      {
                        "bin_start": -0.07431083535498001,
                        "bin_end": -0.06500187957642749,
                        "count": 0
                      },
                      {
                        "bin_start": -0.06500187957642749,
                        "bin_end": -0.055692923797874966,
                        "count": 0
                      },
                      {
                        "bin_start": -0.055692923797874966,
                        "bin_end": -0.046383968019322444,
                        "count": 0
                      },
                      {
                        "bin_start": -0.046383968019322444,
                        "bin_end": -0.03707501224076993,
                        "count": 0
                      },
                      {
                        "bin_start": -0.03707501224076993,
                        "bin_end": -0.027766056462217414,
                        "count": 0
                      },
                      {
                        "bin_start": -0.027766056462217414,
                        "bin_end": -0.018457100683664893,
                        "count": 0
                      },
                      {
                        "bin_start": -0.018457100683664893,
                        "bin_end": -0.009148144905112371,
                        "count": 0
                      },
                      {
                        "bin_start": -0.009148144905112371,
                        "bin_end": 0.00016081087344015633,
                        "count": 1
                      }
                    ]
                  }
                },
                {
                  "name": "V16",
                  "dtype": "float64",
                  "stats": {
                    "unique_count": 2,
                    "nan_count": 0,
                    "min": "-4.139945699092808",
                    "max": "0.007164072539099487",
                    "histogram": [
                      {
                        "bin_start": -4.139945699092808,
                        "bin_end": -3.725234721929617,
                        "count": 1
                      },
                      {
                        "bin_start": -3.725234721929617,
                        "bin_end": -3.310523744766426,
                        "count": 0
                      },
                      {
                        "bin_start": -3.310523744766426,
                        "bin_end": -2.8958127676032355,
                        "count": 0
                      },
                      {
                        "bin_start": -2.8958127676032355,
                        "bin_end": -2.4811017904400448,
                        "count": 0
                      },
                      {
                        "bin_start": -2.4811017904400448,
                        "bin_end": -2.066390813276854,
                        "count": 0
                      },
                      {
                        "bin_start": -2.066390813276854,
                        "bin_end": -1.6516798361136633,
                        "count": 0
                      },
                      {
                        "bin_start": -1.6516798361136633,
                        "bin_end": -1.2369688589504726,
                        "count": 0
                      },
                      {
                        "bin_start": -1.2369688589504726,
                        "bin_end": -0.8222578817872819,
                        "count": 0
                      },
                      {
                        "bin_start": -0.8222578817872819,
                        "bin_end": -0.40754690462409116,
                        "count": 0
                      },
                      {
                        "bin_start": -0.40754690462409116,
                        "bin_end": 0.007164072539099487,
                        "count": 1
                      }
                    ]
                  }
                },
                {
                  "name": "V17",
                  "dtype": "float64",
                  "stats": {
                    "unique_count": 2,
                    "nan_count": 0,
                    "min": "-6.665836399449663",
                    "max": "0.011535063252129248",
                    "histogram": [
                      {
                        "bin_start": -6.665836399449663,
                        "bin_end": -5.998099253179484,
                        "count": 1
                      },
                      {
                        "bin_start": -5.998099253179484,
                        "bin_end": -5.330362106909305,
                        "count": 0
                      },
                      {
                        "bin_start": -5.330362106909305,
                        "bin_end": -4.662624960639126,
                        "count": 0
                      },
                      {
                        "bin_start": -4.662624960639126,
                        "bin_end": -3.9948878143689464,
                        "count": 0
                      },
                      {
                        "bin_start": -3.9948878143689464,
                        "bin_end": -3.327150668098767,
                        "count": 0
                      },
                      {
                        "bin_start": -3.327150668098767,
                        "bin_end": -2.659413521828588,
                        "count": 0
                      },
                      {
                        "bin_start": -2.659413521828588,
                        "bin_end": -1.9916763755584084,
                        "count": 0
                      },
                      {
                        "bin_start": -1.9916763755584084,
                        "bin_end": -1.3239392292882295,
                        "count": 0
                      },
                      {
                        "bin_start": -1.3239392292882295,
                        "bin_end": -0.6562020830180506,
                        "count": 0
                      },
                      {
                        "bin_start": -0.6562020830180506,
                        "bin_end": 0.011535063252129248,
                        "count": 1
                      }
                    ]
                  }
                },
                {
                  "name": "V18",
                  "dtype": "float64",
                  "stats": {
                    "unique_count": 2,
                    "nan_count": 0,
                    "min": "-2.2463081339714064",
                    "max": "0.0038871800710979306",
                    "histogram": [
                      {
                        "bin_start": -2.2463081339714064,
                        "bin_end": -2.021288602567156,
                        "count": 1
                      },
                      {
                        "bin_start": -2.021288602567156,
                        "bin_end": -1.7962690711629055,
                        "count": 0
                      },
                      {
                        "bin_start": -1.7962690711629055,
                        "bin_end": -1.5712495397586552,
                        "count": 0
                      },
                      {
                        "bin_start": -1.5712495397586552,
                        "bin_end": -1.3462300083544048,
                        "count": 0
                      },
                      {
                        "bin_start": -1.3462300083544048,
                        "bin_end": -1.1212104769501543,
                        "count": 0
                      },
                      {
                        "bin_start": -1.1212104769501543,
                        "bin_end": -0.8961909455459041,
                        "count": 0
                      },
                      {
                        "bin_start": -0.8961909455459041,
                        "bin_end": -0.6711714141416536,
                        "count": 0
                      },
                      {
                        "bin_start": -0.6711714141416536,
                        "bin_end": -0.44615188273740314,
                        "count": 0
                      },
                      {
                        "bin_start": -0.44615188273740314,
                        "bin_end": -0.22113235133315268,
                        "count": 0
                      },
                      {
                        "bin_start": -0.22113235133315268,
                        "bin_end": 0.0038871800710979306,
                        "count": 1
                      }
                    ]
                  }
                },
                {
                  "name": "V19",
                  "dtype": "float64",
                  "stats": {
                    "unique_count": 2,
                    "nan_count": 0,
                    "min": "-0.0011778639090783659",
                    "max": "0.680659303475429",
                    "histogram": [
                      {
                        "bin_start": -0.0011778639090783659,
                        "bin_end": 0.06700585282937237,
                        "count": 1
                      },
                      {
                        "bin_start": 0.06700585282937237,
                        "bin_end": 0.1351895695678231,
                        "count": 0
                      },
                      {
                        "bin_start": 0.1351895695678231,
                        "bin_end": 0.20337328630627383,
                        "count": 0
                      },
                      {
                        "bin_start": 0.20337328630627383,
                        "bin_end": 0.2715570030447246,
                        "count": 0
                      },
                      {
                        "bin_start": 0.2715570030447246,
                        "bin_end": 0.3397407197831753,
                        "count": 0
                      },
                      {
                        "bin_start": 0.3397407197831753,
                        "bin_end": 0.407924436521626,
                        "count": 0
                      },
                      {
                        "bin_start": 0.407924436521626,
                        "bin_end": 0.47610815326007677,
                        "count": 0
                      },
                      {
                        "bin_start": 0.47610815326007677,
                        "bin_end": 0.5442918699985275,
                        "count": 0
                      },
                      {
                        "bin_start": 0.5442918699985275,
                        "bin_end": 0.6124755867369782,
                        "count": 0
                      },
                      {
                        "bin_start": 0.6124755867369782,
                        "bin_end": 0.680659303475429,
                        "count": 1
                      }
                    ]
                  }
                },
                {
                  "name": "V20",
                  "dtype": "float64",
                  "stats": {
                    "unique_count": 2,
                    "nan_count": 0,
                    "min": "-0.0006442894068880699",
                    "max": "0.37231939577147166",
                    "histogram": [
                      {
                        "bin_start": -0.0006442894068880699,
                        "bin_end": 0.0366520791109479,
                        "count": 1
                      },
                      {
                        "bin_start": 0.0366520791109479,
                        "bin_end": 0.07394844762878387,
                        "count": 0
                      },
                      {
                        "bin_start": 0.07394844762878387,
                        "bin_end": 0.11124481614661985,
                        "count": 0
                      },
                      {
                        "bin_start": 0.11124481614661985,
                        "bin_end": 0.14854118466445582,
                        "count": 0
                      },
                      {
                        "bin_start": 0.14854118466445582,
                        "bin_end": 0.18583755318229178,
                        "count": 0
                      },
                      {
                        "bin_start": 0.18583755318229178,
                        "bin_end": 0.22313392170012777,
                        "count": 0
                      },
                      {
                        "bin_start": 0.22313392170012777,
                        "bin_end": 0.26043029021796377,
                        "count": 0
                      },
                      {
                        "bin_start": 0.26043029021796377,
                        "bin_end": 0.29772665873579973,
                        "count": 0
                      },
                      {
                        "bin_start": 0.29772665873579973,
                        "bin_end": 0.3350230272536357,
                        "count": 0
                      },
                      {
                        "bin_start": 0.3350230272536357,
                        "bin_end": 0.37231939577147166,
                        "count": 1
                      }
                    ]
                  }
                },
                {
                  "name": "V21",
                  "dtype": "float64",
                  "stats": {
                    "unique_count": 2,
                    "nan_count": 0,
                    "min": "-0.0012348468055254022",
                    "max": "0.7135883526687006",
                    "histogram": [
                      {
                        "bin_start": -0.0012348468055254022,
                        "bin_end": 0.0702474731418972,
                        "count": 1
                      },
                      {
                        "bin_start": 0.0702474731418972,
                        "bin_end": 0.1417297930893198,
                        "count": 0
                      },
                      {
                        "bin_start": 0.1417297930893198,
                        "bin_end": 0.2132121130367424,
                        "count": 0
                      },
                      {
                        "bin_start": 0.2132121130367424,
                        "bin_end": 0.284694432984165,
                        "count": 0
                      },
                      {
                        "bin_start": 0.284694432984165,
                        "bin_end": 0.3561767529315876,
                        "count": 0
                      },
                      {
                        "bin_start": 0.3561767529315876,
                        "bin_end": 0.4276590728790102,
                        "count": 0
                      },
                      {
                        "bin_start": 0.4276590728790102,
                        "bin_end": 0.49914139282643283,
                        "count": 0
                      },
                      {
                        "bin_start": 0.49914139282643283,
                        "bin_end": 0.5706237127738554,
                        "count": 0
                      },
                      {
                        "bin_start": 0.5706237127738554,
                        "bin_end": 0.642106032721278,
                        "count": 0
                      },
                      {
                        "bin_start": 0.642106032721278,
                        "bin_end": 0.7135883526687006,
                        "count": 1
                      }
                    ]
                  }
                },
                {
                  "name": "V22",
                  "dtype": "float64",
                  "stats": {
                    "unique_count": 2,
                    "nan_count": 0,
                    "min": "-2.4311239340307784e-05",
                    "max": "0.01404888214012134",
                    "histogram": [
                      {
                        "bin_start": -0.000024311239340307784,
                        "bin_end": 0.001383008098605857,
                        "count": 1
                      },
                      {
                        "bin_start": 0.001383008098605857,
                        "bin_end": 0.0027903274365520215,
                        "count": 0
                      },
                      {
                        "bin_start": 0.0027903274365520215,
                        "bin_end": 0.004197646774498186,
                        "count": 0
                      },
                      {
                        "bin_start": 0.004197646774498186,
                        "bin_end": 0.005604966112444351,
                        "count": 0
                      },
                      {
                        "bin_start": 0.005604966112444351,
                        "bin_end": 0.007012285450390516,
                        "count": 0
                      },
                      {
                        "bin_start": 0.007012285450390516,
                        "bin_end": 0.008419604788336681,
                        "count": 0
                      },
                      {
                        "bin_start": 0.008419604788336681,
                        "bin_end": 0.009826924126282846,
                        "count": 0
                      },
                      {
                        "bin_start": 0.009826924126282846,
                        "bin_end": 0.01123424346422901,
                        "count": 0
                      },
                      {
                        "bin_start": 0.01123424346422901,
                        "bin_end": 0.012641562802175176,
                        "count": 0
                      },
                      {
                        "bin_start": 0.012641562802175176,
                        "bin_end": 0.01404888214012134,
                        "count": 1
                      }
                    ]
                  }
                },
                {
                  "name": "V23",
                  "dtype": "float64",
                  "stats": {
                    "unique_count": 2,
                    "nan_count": 0,
                    "min": "-0.04030796594836945",
                    "max": "6.975192742793267e-05",
                    "histogram": [
                      {
                        "bin_start": -0.04030796594836945,
                        "bin_end": -0.03627019416078971,
                        "count": 1
                      },
                      {
                        "bin_start": -0.03627019416078971,
                        "bin_end": -0.032232422373209973,
                        "count": 0
                      },
                      {
                        "bin_start": -0.032232422373209973,
                        "bin_end": -0.028194650585630233,
                        "count": 0
                      },
                      {
                        "bin_start": -0.028194650585630233,
                        "bin_end": -0.024156878798050493,
                        "count": 0
                      },
                      {
                        "bin_start": -0.024156878798050493,
                        "bin_end": -0.020119107010470753,
                        "count": 0
                      },
                      {
                        "bin_start": -0.020119107010470753,
                        "bin_end": -0.016081335222891017,
                        "count": 0
                      },
                      {
                        "bin_start": -0.016081335222891017,
                        "bin_end": -0.01204356343531128,
                        "count": 0
                      },
                      {
                        "bin_start": -0.01204356343531128,
                        "bin_end": -0.00800579164773154,
                        "count": 0
                      },
                      {
                        "bin_start": -0.00800579164773154,
                        "bin_end": -0.0039680198601518,
                        "count": 0
                      },
                      {
                        "bin_start": -0.0039680198601518,
                        "bin_end": 0.00006975192742793267,
                        "count": 1
                      }
                    ]
                  }
                },
                {
                  "name": "V24",
                  "dtype": "float64",
                  "stats": {
                    "unique_count": 2,
                    "nan_count": 0,
                    "min": "-0.1051303054394829",
                    "max": "0.00018192536544853248",
                    "histogram": [
                      {
                        "bin_start": -0.1051303054394829,
                        "bin_end": -0.09459908235898976,
                        "count": 1
                      },
                      {
                        "bin_start": -0.09459908235898976,
                        "bin_end": -0.08406785927849661,
                        "count": 0
                      },
                      {
                        "bin_start": -0.08406785927849661,
                        "bin_end": -0.07353663619800348,
                        "count": 0
                      },
                      {
                        "bin_start": -0.07353663619800348,
                        "bin_end": -0.06300541311751033,
                        "count": 0
                      },
                      {
                        "bin_start": -0.06300541311751033,
                        "bin_end": -0.052474190037017185,
                        "count": 0
                      },
                      {
                        "bin_start": -0.052474190037017185,
                        "bin_end": -0.04194296695652405,
                        "count": 0
                      },
                      {
                        "bin_start": -0.04194296695652405,
                        "bin_end": -0.031411743876030906,
                        "count": 0
                      },
                      {
                        "bin_start": -0.031411743876030906,
                        "bin_end": -0.02088052079553776,
                        "count": 0
                      },
                      {
                        "bin_start": -0.02088052079553776,
                        "bin_end": -0.010349297715044614,
                        "count": 0
                      },
                      {
                        "bin_start": -0.010349297715044614,
                        "bin_end": 0.00018192536544853248,
                        "count": 1
                      }
                    ]
                  }
                },
                {
                  "name": "V25",
                  "dtype": "float64",
                  "stats": {
                    "unique_count": 2,
                    "nan_count": 0,
                    "min": "-7.17262632402943e-05",
                    "max": "0.04144888726282707",
                    "histogram": [
                      {
                        "bin_start": -0.0000717262632402943,
                        "bin_end": 0.004080335089366441,
                        "count": 1
                      },
                      {
                        "bin_start": 0.004080335089366441,
                        "bin_end": 0.008232396441973178,
                        "count": 0
                      },
                      {
                        "bin_start": 0.008232396441973178,
                        "bin_end": 0.012384457794579914,
                        "count": 0
                      },
                      {
                        "bin_start": 0.012384457794579914,
                        "bin_end": 0.016536519147186648,
                        "count": 0
                      },
                      {
                        "bin_start": 0.016536519147186648,
                        "bin_end": 0.020688580499793382,
                        "count": 0
                      },
                      {
                        "bin_start": 0.020688580499793382,
                        "bin_end": 0.02484064185240012,
                        "count": 0
                      },
                      {
                        "bin_start": 0.02484064185240012,
                        "bin_end": 0.028992703205006857,
                        "count": 0
                      },
                      {
                        "bin_start": 0.028992703205006857,
                        "bin_end": 0.033144764557613594,
                        "count": 0
                      },
                      {
                        "bin_start": 0.033144764557613594,
                        "bin_end": 0.03729682591022033,
                        "count": 0
                      },
                      {
                        "bin_start": 0.03729682591022033,
                        "bin_end": 0.04144888726282707,
                        "count": 1
                      }
                    ]
                  }
                },
                {
                  "name": "V26",
                  "dtype": "float64",
                  "stats": {
                    "unique_count": 2,
                    "nan_count": 0,
                    "min": "-8.937579014912044e-05",
                    "max": "0.05164812556245366",
                    "histogram": [
                      {
                        "bin_start": -0.00008937579014912044,
                        "bin_end": 0.0050843743451111575,
                        "count": 1
                      },
                      {
                        "bin_start": 0.0050843743451111575,
                        "bin_end": 0.010258124480371436,
                        "count": 0
                      },
                      {
                        "bin_start": 0.010258124480371436,
                        "bin_end": 0.015431874615631714,
                        "count": 0
                      },
                      {
                        "bin_start": 0.015431874615631714,
                        "bin_end": 0.020605624750891994,
                        "count": 0
                      },
                      {
                        "bin_start": 0.020605624750891994,
                        "bin_end": 0.025779374886152274,
                        "count": 0
                      },
                      {
                        "bin_start": 0.025779374886152274,
                        "bin_end": 0.03095312502141255,
                        "count": 0
                      },
                      {
                        "bin_start": 0.03095312502141255,
                        "bin_end": 0.03612687515667282,
                        "count": 0
                      },
                      {
                        "bin_start": 0.03612687515667282,
                        "bin_end": 0.0413006252919331,
                        "count": 0
                      },
                      {
                        "bin_start": 0.0413006252919331,
                        "bin_end": 0.04647437542719338,
                        "count": 0
                      },
                      {
                        "bin_start": 0.04647437542719338,
                        "bin_end": 0.05164812556245366,
                        "count": 1
                      }
                    ]
                  }
                },
                {
                  "name": "V27",
                  "dtype": "float64",
                  "stats": {
                    "unique_count": 2,
                    "nan_count": 0,
                    "min": "-0.00029517541383410544",
                    "max": "0.17057479224418595",
                    "histogram": [
                      {
                        "bin_start": -0.00029517541383410544,
                        "bin_end": 0.0167918213519679,
                        "count": 1
                      },
                      {
                        "bin_start": 0.0167918213519679,
                        "bin_end": 0.0338788181177699,
                        "count": 0
                      },
                      {
                        "bin_start": 0.0338788181177699,
                        "bin_end": 0.05096581488357191,
                        "count": 0
                      },
                      {
                        "bin_start": 0.05096581488357191,
                        "bin_end": 0.06805281164937392,
                        "count": 0
                      },
                      {
                        "bin_start": 0.06805281164937392,
                        "bin_end": 0.08513980841517592,
                        "count": 0
                      },
                      {
                        "bin_start": 0.08513980841517592,
                        "bin_end": 0.10222680518097793,
                        "count": 0
                      },
                      {
                        "bin_start": 0.10222680518097793,
                        "bin_end": 0.11931380194677994,
                        "count": 0
                      },
                      {
                        "bin_start": 0.11931380194677994,
                        "bin_end": 0.13640079871258193,
                        "count": 0
                      },
                      {
                        "bin_start": 0.13640079871258193,
                        "bin_end": 0.15348779547838393,
                        "count": 0
                      },
                      {
                        "bin_start": 0.15348779547838393,
                        "bin_end": 0.17057479224418595,
                        "count": 1
                      }
                    ]
                  }
                },
                {
                  "name": "V28",
                  "dtype": "float64",
                  "stats": {
                    "unique_count": 2,
                    "nan_count": 0,
                    "min": "-0.00013094035488017165",
                    "max": "0.0756672906457746",
                    "histogram": [
                      {
                        "bin_start": -0.00013094035488017165,
                        "bin_end": 0.007448882745185306,
                        "count": 1
                      },
                      {
                        "bin_start": 0.007448882745185306,
                        "bin_end": 0.015028705845250784,
                        "count": 0
                      },
                      {
                        "bin_start": 0.015028705845250784,
                        "bin_end": 0.022608528945316266,
                        "count": 0
                      },
                      {
                        "bin_start": 0.022608528945316266,
                        "bin_end": 0.03018835204538174,
                        "count": 0
                      },
                      {
                        "bin_start": 0.03018835204538174,
                        "bin_end": 0.03776817514544722,
                        "count": 0
                      },
                      {
                        "bin_start": 0.03776817514544722,
                        "bin_end": 0.0453479982455127,
                        "count": 0
                      },
                      {
                        "bin_start": 0.0453479982455127,
                        "bin_end": 0.05292782134557818,
                        "count": 0
                      },
                      {
                        "bin_start": 0.05292782134557818,
                        "bin_end": 0.06050764444564365,
                        "count": 0
                      },
                      {
                        "bin_start": 0.06050764444564365,
                        "bin_end": 0.06808746754570913,
                        "count": 0
                      },
                      {
                        "bin_start": 0.06808746754570913,
                        "bin_end": 0.0756672906457746,
                        "count": 1
                      }
                    ]
                  }
                },
                {
                  "name": "Amount",
                  "dtype": "float64",
                  "stats": {
                    "unique_count": 2,
                    "nan_count": 0,
                    "min": "88.29102242231328",
                    "max": "122.21132113821139",
                    "histogram": [
                      {
                        "bin_start": 88.29102242231328,
                        "bin_end": 91.68305229390309,
                        "count": 1
                      },
                      {
                        "bin_start": 91.68305229390309,
                        "bin_end": 95.0750821654929,
                        "count": 0
                      },
                      {
                        "bin_start": 95.0750821654929,
                        "bin_end": 98.46711203708271,
                        "count": 0
                      },
                      {
                        "bin_start": 98.46711203708271,
                        "bin_end": 101.85914190867253,
                        "count": 0
                      },
                      {
                        "bin_start": 101.85914190867253,
                        "bin_end": 105.25117178026233,
                        "count": 0
                      },
                      {
                        "bin_start": 105.25117178026233,
                        "bin_end": 108.64320165185214,
                        "count": 0
                      },
                      {
                        "bin_start": 108.64320165185214,
                        "bin_end": 112.03523152344195,
                        "count": 0
                      },
                      {
                        "bin_start": 112.03523152344195,
                        "bin_end": 115.42726139503176,
                        "count": 0
                      },
                      {
                        "bin_start": 115.42726139503176,
                        "bin_end": 118.81929126662158,
                        "count": 0
                      },
                      {
                        "bin_start": 118.81929126662158,
                        "bin_end": 122.21132113821139,
                        "count": 1
                      }
                    ]
                  }
                },
                {
                  "name": "_deepnote_index_column",
                  "dtype": "int64"
                }
              ],
              "rows": [
                {
                  "Time": 94838.20225805884,
                  "V1": 0.008257737485563701,
                  "V2": -0.0062708574158070645,
                  "V3": 0.012170917031845342,
                  "V4": -0.007859867820465206,
                  "V5": 0.005453115888647453,
                  "V6": 0.002418748436107356,
                  "V7": 0.009636549929484083,
                  "V8": -0.000987471151665288,
                  "V9": 0.004466568691335972,
                  "V10": 0.009823703892289417,
                  "V11": -0.0065761042238215465,
                  "V12": 0.010831723172555756,
                  "V13": 0.00018919943726136392,
                  "V14": 0.012064392184377487,
                  "V15": 0.00016081087344015633,
                  "V16": 0.007164072539099487,
                  "V17": 0.011535063252129248,
                  "V18": 0.0038871800710979306,
                  "V19": -0.0011778639090783659,
                  "V20": -0.0006442894068880699,
                  "V21": -0.0012348468055254022,
                  "V22": -0.000024311239340307784,
                  "V23": 0.00006975192742793267,
                  "V24": 0.00018192536544853248,
                  "V25": -0.0000717262632402943,
                  "V26": -0.00008937579014912044,
                  "V27": -0.00029517541383410544,
                  "V28": -0.00013094035488017165,
                  "Amount": 88.29102242231328,
                  "_deepnote_index_column": 0
                },
                {
                  "Time": 80746.80691056911,
                  "V1": -4.771948441479082,
                  "V2": 3.6237781019822806,
                  "V3": -7.0332810485965584,
                  "V4": 4.542029104423093,
                  "V5": -3.1512248859360046,
                  "V6": -1.3977367105923515,
                  "V7": -5.5687310837427395,
                  "V8": 0.5706358952962378,
                  "V9": -2.5811229217029954,
                  "V10": -5.676882870194368,
                  "V11": 3.800172911374607,
                  "V12": -6.259393036190131,
                  "V13": -0.10933381708278404,
                  "V14": -6.971722894107602,
                  "V15": -0.09292874691208504,
                  "V16": -4.139945699092808,
                  "V17": -6.665836399449663,
                  "V18": -2.2463081339714064,
                  "V19": 0.680659303475429,
                  "V20": 0.37231939577147166,
                  "V21": 0.7135883526687006,
                  "V22": 0.01404888214012134,
                  "V23": -0.04030796594836945,
                  "V24": -0.1051303054394829,
                  "V25": 0.04144888726282707,
                  "V26": 0.05164812556245366,
                  "V27": 0.17057479224418595,
                  "V28": 0.0756672906457746,
                  "Amount": 122.21132113821139,
                  "_deepnote_index_column": 1
                }
              ]
            },
            "text/plain": "               Time        V1        V2        V3        V4        V5  \\\nClass                                                                   \n0      94838.202258  0.008258 -0.006271  0.012171 -0.007860  0.005453   \n1      80746.806911 -4.771948  3.623778 -7.033281  4.542029 -3.151225   \n\n             V6        V7        V8        V9  ...       V20       V21  \\\nClass                                          ...                       \n0      0.002419  0.009637 -0.000987  0.004467  ... -0.000644 -0.001235   \n1     -1.397737 -5.568731  0.570636 -2.581123  ...  0.372319  0.713588   \n\n            V22       V23       V24       V25       V26       V27       V28  \\\nClass                                                                         \n0     -0.000024  0.000070  0.000182 -0.000072 -0.000089 -0.000295 -0.000131   \n1      0.014049 -0.040308 -0.105130  0.041449  0.051648  0.170575  0.075667   \n\n           Amount  \nClass              \n0       88.291022  \n1      122.211321  \n\n[2 rows x 30 columns]",
            "text/html": "<div>\n<style scoped>\n    .dataframe tbody tr th:only-of-type {\n        vertical-align: middle;\n    }\n\n    .dataframe tbody tr th {\n        vertical-align: top;\n    }\n\n    .dataframe thead th {\n        text-align: right;\n    }\n</style>\n<table border=\"1\" class=\"dataframe\">\n  <thead>\n    <tr style=\"text-align: right;\">\n      <th></th>\n      <th>Time</th>\n      <th>V1</th>\n      <th>V2</th>\n      <th>V3</th>\n      <th>V4</th>\n      <th>V5</th>\n      <th>V6</th>\n      <th>V7</th>\n      <th>V8</th>\n      <th>V9</th>\n      <th>...</th>\n      <th>V20</th>\n      <th>V21</th>\n      <th>V22</th>\n      <th>V23</th>\n      <th>V24</th>\n      <th>V25</th>\n      <th>V26</th>\n      <th>V27</th>\n      <th>V28</th>\n      <th>Amount</th>\n    </tr>\n    <tr>\n      <th>Class</th>\n      <th></th>\n      <th></th>\n      <th></th>\n      <th></th>\n      <th></th>\n      <th></th>\n      <th></th>\n      <th></th>\n      <th></th>\n      <th></th>\n      <th></th>\n      <th></th>\n      <th></th>\n      <th></th>\n      <th></th>\n      <th></th>\n      <th></th>\n      <th></th>\n      <th></th>\n      <th></th>\n      <th></th>\n    </tr>\n  </thead>\n  <tbody>\n    <tr>\n      <th>0</th>\n      <td>94838.202258</td>\n      <td>0.008258</td>\n      <td>-0.006271</td>\n      <td>0.012171</td>\n      <td>-0.007860</td>\n      <td>0.005453</td>\n      <td>0.002419</td>\n      <td>0.009637</td>\n      <td>-0.000987</td>\n      <td>0.004467</td>\n      <td>...</td>\n      <td>-0.000644</td>\n      <td>-0.001235</td>\n      <td>-0.000024</td>\n      <td>0.000070</td>\n      <td>0.000182</td>\n      <td>-0.000072</td>\n      <td>-0.000089</td>\n      <td>-0.000295</td>\n      <td>-0.000131</td>\n      <td>88.291022</td>\n    </tr>\n    <tr>\n      <th>1</th>\n      <td>80746.806911</td>\n      <td>-4.771948</td>\n      <td>3.623778</td>\n      <td>-7.033281</td>\n      <td>4.542029</td>\n      <td>-3.151225</td>\n      <td>-1.397737</td>\n      <td>-5.568731</td>\n      <td>0.570636</td>\n      <td>-2.581123</td>\n      <td>...</td>\n      <td>0.372319</td>\n      <td>0.713588</td>\n      <td>0.014049</td>\n      <td>-0.040308</td>\n      <td>-0.105130</td>\n      <td>0.041449</td>\n      <td>0.051648</td>\n      <td>0.170575</td>\n      <td>0.075667</td>\n      <td>122.211321</td>\n    </tr>\n  </tbody>\n</table>\n<p>2 rows × 30 columns</p>\n</div>"
          },
          "metadata": {}
        }
      ],
      "outputs_reference": null,
      "execution_count": 11,
      "block_group": "b514d377221f47fdb6378a553ae57c3d",
      "content_dependencies": null
    },
    {
      "cell_type": "markdown",
      "source": "### Under-Sampling",
      "metadata": {
        "cell_id": "9c798bc803c8433c89a3a2a95c4c813b",
        "deepnote_cell_type": "markdown"
      },
      "block_group": "c58a450ddc504b56925719ae303258d7"
    },
    {
      "cell_type": "markdown",
      "source": "Build a sample dataset containing similar distributions of normal and fraud transactions",
      "metadata": {
        "formattedRanges": [],
        "cell_id": "dd487e69a1da4e38aa718698cb6a6145",
        "deepnote_cell_type": "text-cell-p"
      },
      "block_group": "350d8206908f46448b1daf8b2f392523"
    },
    {
      "cell_type": "code",
      "source": "legit_sample = legit.sample(n=492)",
      "metadata": {
        "source_hash": "6c2cad59",
        "execution_start": 1727043701144,
        "execution_millis": 516,
        "deepnote_to_be_reexecuted": false,
        "cell_id": "1ac863f2526f432db942acf346e233cb",
        "deepnote_cell_type": "code"
      },
      "outputs": [],
      "outputs_reference": null,
      "execution_count": 12,
      "block_group": "e363d522af5d4c71b4d0987910ad8164",
      "content_dependencies": null
    },
    {
      "cell_type": "markdown",
      "source": "### Linking 2 Dataframes",
      "metadata": {
        "cell_id": "3d9b283bdafa41efabfe486c4c8b68d5",
        "deepnote_cell_type": "markdown"
      },
      "block_group": "b35e3c72336a4a7a95003f00a82f2634"
    },
    {
      "cell_type": "code",
      "source": "new_dataset = pd.concat([legit_sample, fraud], axis=0)\n\nnew_dataset.head()",
      "metadata": {
        "source_hash": "a4de718e",
        "execution_start": 1727043701194,
        "execution_millis": 466,
        "deepnote_to_be_reexecuted": false,
        "cell_id": "56e31622ec3441349bba21b078ae9c0e",
        "deepnote_cell_type": "code"
      },
      "outputs": [
        {
          "output_type": "execute_result",
          "execution_count": 13,
          "data": {
            "application/vnd.deepnote.dataframe.v3+json": {
              "column_count": 31,
              "row_count": 5,
              "columns": [
                {
                  "name": "Time",
                  "dtype": "float64",
                  "stats": {
                    "unique_count": 5,
                    "nan_count": 0,
                    "min": "29404.0",
                    "max": "146029.0",
                    "histogram": [
                      {
                        "bin_start": 29404,
                        "bin_end": 41066.5,
                        "count": 1
                      },
                      {
                        "bin_start": 41066.5,
                        "bin_end": 52729,
                        "count": 0
                      },
                      {
                        "bin_start": 52729,
                        "bin_end": 64391.5,
                        "count": 1
                      },
                      {
                        "bin_start": 64391.5,
                        "bin_end": 76054,
                        "count": 0
                      },
                      {
                        "bin_start": 76054,
                        "bin_end": 87716.5,
                        "count": 1
                      },
                      {
                        "bin_start": 87716.5,
                        "bin_end": 99379,
                        "count": 1
                      },
                      {
                        "bin_start": 99379,
                        "bin_end": 111041.5,
                        "count": 0
                      },
                      {
                        "bin_start": 111041.5,
                        "bin_end": 122704,
                        "count": 0
                      },
                      {
                        "bin_start": 122704,
                        "bin_end": 134366.5,
                        "count": 0
                      },
                      {
                        "bin_start": 134366.5,
                        "bin_end": 146029,
                        "count": 1
                      }
                    ]
                  }
                },
                {
                  "name": "V1",
                  "dtype": "float64",
                  "stats": {
                    "unique_count": 5,
                    "nan_count": 0,
                    "min": "-6.62247548686361",
                    "max": "1.87815117955904",
                    "histogram": [
                      {
                        "bin_start": -6.62247548686361,
                        "bin_end": -5.772412820221345,
                        "count": 1
                      },
                      {
                        "bin_start": -5.772412820221345,
                        "bin_end": -4.92235015357908,
                        "count": 0
                      },
                      {
                        "bin_start": -4.92235015357908,
                        "bin_end": -4.0722874869368155,
                        "count": 0
                      },
                      {
                        "bin_start": -4.0722874869368155,
                        "bin_end": -3.2222248202945503,
                        "count": 0
                      },
                      {
                        "bin_start": -3.2222248202945503,
                        "bin_end": -2.372162153652285,
                        "count": 1
                      },
                      {
                        "bin_start": -2.372162153652285,
                        "bin_end": -1.5220994870100206,
                        "count": 1
                      },
                      {
                        "bin_start": -1.5220994870100206,
                        "bin_end": -0.6720368203677554,
                        "count": 0
                      },
                      {
                        "bin_start": -0.6720368203677554,
                        "bin_end": 0.1780258462745099,
                        "count": 0
                      },
                      {
                        "bin_start": 0.1780258462745099,
                        "bin_end": 1.0280885129167752,
                        "count": 0
                      },
                      {
                        "bin_start": 1.0280885129167752,
                        "bin_end": 1.87815117955904,
                        "count": 2
                      }
                    ]
                  }
                },
                {
                  "name": "V2",
                  "dtype": "float64",
                  "stats": {
                    "unique_count": 5,
                    "nan_count": 0,
                    "min": "-1.07600787090371",
                    "max": "5.27930357473691",
                    "histogram": [
                      {
                        "bin_start": -1.07600787090371,
                        "bin_end": -0.44047672633964796,
                        "count": 1
                      },
                      {
                        "bin_start": -0.44047672633964796,
                        "bin_end": 0.19505441822441405,
                        "count": 1
                      },
                      {
                        "bin_start": 0.19505441822441405,
                        "bin_end": 0.8305855627884762,
                        "count": 0
                      },
                      {
                        "bin_start": 0.8305855627884762,
                        "bin_end": 1.466116707352538,
                        "count": 0
                      },
                      {
                        "bin_start": 1.466116707352538,
                        "bin_end": 2.1016478519166,
                        "count": 2
                      },
                      {
                        "bin_start": 2.1016478519166,
                        "bin_end": 2.7371789964806625,
                        "count": 0
                      },
                      {
                        "bin_start": 2.7371789964806625,
                        "bin_end": 3.372710141044724,
                        "count": 0
                      },
                      {
                        "bin_start": 3.372710141044724,
                        "bin_end": 4.008241285608786,
                        "count": 0
                      },
                      {
                        "bin_start": 4.008241285608786,
                        "bin_end": 4.643772430172849,
                        "count": 0
                      },
                      {
                        "bin_start": 4.643772430172849,
                        "bin_end": 5.27930357473691,
                        "count": 1
                      }
                    ]
                  }
                },
                {
                  "name": "V3",
                  "dtype": "float64",
                  "stats": {
                    "unique_count": 5,
                    "nan_count": 0,
                    "min": "-1.43390776296522",
                    "max": "1.23553238562092",
                    "histogram": [
                      {
                        "bin_start": -1.43390776296522,
                        "bin_end": -1.166963748106606,
                        "count": 1
                      },
                      {
                        "bin_start": -1.166963748106606,
                        "bin_end": -0.900019733247992,
                        "count": 1
                      },
                      {
                        "bin_start": -0.900019733247992,
                        "bin_end": -0.633075718389378,
                        "count": 0
                      },
                      {
                        "bin_start": -0.633075718389378,
                        "bin_end": -0.3661317035307641,
                        "count": 0
                      },
                      {
                        "bin_start": -0.3661317035307641,
                        "bin_end": -0.09918768867215011,
                        "count": 2
                      },
                      {
                        "bin_start": -0.09918768867215011,
                        "bin_end": 0.16775632618646386,
                        "count": 0
                      },
                      {
                        "bin_start": 0.16775632618646386,
                        "bin_end": 0.4347003410450778,
                        "count": 0
                      },
                      {
                        "bin_start": 0.4347003410450778,
                        "bin_end": 0.7016443559036918,
                        "count": 0
                      },
                      {
                        "bin_start": 0.7016443559036918,
                        "bin_end": 0.9685883707623058,
                        "count": 0
                      },
                      {
                        "bin_start": 0.9685883707623058,
                        "bin_end": 1.23553238562092,
                        "count": 1
                      }
                    ]
                  }
                },
                {
                  "name": "V4",
                  "dtype": "float64",
                  "stats": {
                    "unique_count": 5,
                    "nan_count": 0,
                    "min": "-2.75509933358078",
                    "max": "0.967765687562355",
                    "histogram": [
                      {
                        "bin_start": -2.75509933358078,
                        "bin_end": -2.3828128314664663,
                        "count": 2
                      },
                      {
                        "bin_start": -2.3828128314664663,
                        "bin_end": -2.010526329352153,
                        "count": 0
                      },
                      {
                        "bin_start": -2.010526329352153,
                        "bin_end": -1.6382398272378396,
                        "count": 0
                      },
                      {
                        "bin_start": -1.6382398272378396,
                        "bin_end": -1.265953325123526,
                        "count": 0
                      },
                      {
                        "bin_start": -1.265953325123526,
                        "bin_end": -0.8936668230092124,
                        "count": 1
                      },
                      {
                        "bin_start": -0.8936668230092124,
                        "bin_end": -0.5213803208948993,
                        "count": 1
                      },
                      {
                        "bin_start": -0.5213803208948993,
                        "bin_end": -0.1490938187805857,
                        "count": 0
                      },
                      {
                        "bin_start": -0.1490938187805857,
                        "bin_end": 0.22319268333372788,
                        "count": 0
                      },
                      {
                        "bin_start": 0.22319268333372788,
                        "bin_end": 0.5954791854480415,
                        "count": 0
                      },
                      {
                        "bin_start": 0.5954791854480415,
                        "bin_end": 0.967765687562355,
                        "count": 1
                      }
                    ]
                  }
                },
                {
                  "name": "V5",
                  "dtype": "float64",
                  "stats": {
                    "unique_count": 5,
                    "nan_count": 0,
                    "min": "-1.6336796386878",
                    "max": "0.536665851040301",
                    "histogram": [
                      {
                        "bin_start": -1.6336796386878,
                        "bin_end": -1.41664508971499,
                        "count": 1
                      },
                      {
                        "bin_start": -1.41664508971499,
                        "bin_end": -1.1996105407421798,
                        "count": 0
                      },
                      {
                        "bin_start": -1.1996105407421798,
                        "bin_end": -0.9825759917693697,
                        "count": 0
                      },
                      {
                        "bin_start": -0.9825759917693697,
                        "bin_end": -0.7655414427965597,
                        "count": 0
                      },
                      {
                        "bin_start": -0.7655414427965597,
                        "bin_end": -0.5485068938237496,
                        "count": 1
                      },
                      {
                        "bin_start": -0.5485068938237496,
                        "bin_end": -0.33147234485093935,
                        "count": 1
                      },
                      {
                        "bin_start": -0.33147234485093935,
                        "bin_end": -0.1144377958781293,
                        "count": 0
                      },
                      {
                        "bin_start": -0.1144377958781293,
                        "bin_end": 0.10259675309468075,
                        "count": 0
                      },
                      {
                        "bin_start": 0.10259675309468075,
                        "bin_end": 0.3196313020674908,
                        "count": 0
                      },
                      {
                        "bin_start": 0.3196313020674908,
                        "bin_end": 0.536665851040301,
                        "count": 2
                      }
                    ]
                  }
                },
                {
                  "name": "V6",
                  "dtype": "float64",
                  "stats": {
                    "unique_count": 5,
                    "nan_count": 0,
                    "min": "-1.29848970661873",
                    "max": "0.903832189942318",
                    "histogram": [
                      {
                        "bin_start": -1.29848970661873,
                        "bin_end": -1.0782575169626252,
                        "count": 2
                      },
                      {
                        "bin_start": -1.0782575169626252,
                        "bin_end": -0.8580253273065204,
                        "count": 0
                      },
                      {
                        "bin_start": -0.8580253273065204,
                        "bin_end": -0.6377931376504156,
                        "count": 0
                      },
                      {
                        "bin_start": -0.6377931376504156,
                        "bin_end": -0.41756094799431076,
                        "count": 1
                      },
                      {
                        "bin_start": -0.41756094799431076,
                        "bin_end": -0.19732875833820596,
                        "count": 0
                      },
                      {
                        "bin_start": -0.19732875833820596,
                        "bin_end": 0.022903431317898848,
                        "count": 0
                      },
                      {
                        "bin_start": 0.022903431317898848,
                        "bin_end": 0.24313562097400365,
                        "count": 0
                      },
                      {
                        "bin_start": 0.24313562097400365,
                        "bin_end": 0.46336781063010846,
                        "count": 0
                      },
                      {
                        "bin_start": 0.46336781063010846,
                        "bin_end": 0.6836000002862133,
                        "count": 0
                      },
                      {
                        "bin_start": 0.6836000002862133,
                        "bin_end": 0.903832189942318,
                        "count": 2
                      }
                    ]
                  }
                },
                {
                  "name": "V7",
                  "dtype": "float64",
                  "stats": {
                    "unique_count": 5,
                    "nan_count": 0,
                    "min": "-0.75699552023988",
                    "max": "0.932630448856942",
                    "histogram": [
                      {
                        "bin_start": -0.75699552023988,
                        "bin_end": -0.5880329233301979,
                        "count": 2
                      },
                      {
                        "bin_start": -0.5880329233301979,
                        "bin_end": -0.4190703264205156,
                        "count": 0
                      },
                      {
                        "bin_start": -0.4190703264205156,
                        "bin_end": -0.2501077295108334,
                        "count": 0
                      },
                      {
                        "bin_start": -0.2501077295108334,
                        "bin_end": -0.0811451326011512,
                        "count": 0
                      },
                      {
                        "bin_start": -0.0811451326011512,
                        "bin_end": 0.08781746430853099,
                        "count": 1
                      },
                      {
                        "bin_start": 0.08781746430853099,
                        "bin_end": 0.2567800612182133,
                        "count": 1
                      },
                      {
                        "bin_start": 0.2567800612182133,
                        "bin_end": 0.42574265812789547,
                        "count": 0
                      },
                      {
                        "bin_start": 0.42574265812789547,
                        "bin_end": 0.5947052550375777,
                        "count": 0
                      },
                      {
                        "bin_start": 0.5947052550375777,
                        "bin_end": 0.7636678519472598,
                        "count": 0
                      },
                      {
                        "bin_start": 0.7636678519472598,
                        "bin_end": 0.932630448856942,
                        "count": 1
                      }
                    ]
                  }
                },
                {
                  "name": "V8",
                  "dtype": "float64",
                  "stats": {
                    "unique_count": 5,
                    "nan_count": 0,
                    "min": "-2.28941490286344",
                    "max": "0.524840304771084",
                    "histogram": [
                      {
                        "bin_start": -2.28941490286344,
                        "bin_end": -2.0079893820999875,
                        "count": 1
                      },
                      {
                        "bin_start": -2.0079893820999875,
                        "bin_end": -1.726563861336535,
                        "count": 0
                      },
                      {
                        "bin_start": -1.726563861336535,
                        "bin_end": -1.4451383405730827,
                        "count": 0
                      },
                      {
                        "bin_start": -1.4451383405730827,
                        "bin_end": -1.1637128198096303,
                        "count": 0
                      },
                      {
                        "bin_start": -1.1637128198096303,
                        "bin_end": -0.8822872990461779,
                        "count": 0
                      },
                      {
                        "bin_start": -0.8822872990461779,
                        "bin_end": -0.6008617782827255,
                        "count": 0
                      },
                      {
                        "bin_start": -0.6008617782827255,
                        "bin_end": -0.31943625751927307,
                        "count": 0
                      },
                      {
                        "bin_start": -0.31943625751927307,
                        "bin_end": -0.03801073675582067,
                        "count": 0
                      },
                      {
                        "bin_start": -0.03801073675582067,
                        "bin_end": 0.24341478400763172,
                        "count": 2
                      },
                      {
                        "bin_start": 0.24341478400763172,
                        "bin_end": 0.524840304771084,
                        "count": 2
                      }
                    ]
                  }
                },
                {
                  "name": "V9",
                  "dtype": "float64",
                  "stats": {
                    "unique_count": 5,
                    "nan_count": 0,
                    "min": "-0.33993852199732",
                    "max": "4.63064264980706",
                    "histogram": [
                      {
                        "bin_start": -0.33993852199732,
                        "bin_end": 0.15711959518311797,
                        "count": 2
                      },
                      {
                        "bin_start": 0.15711959518311797,
                        "bin_end": 0.6541777123635559,
                        "count": 1
                      },
                      {
                        "bin_start": 0.6541777123635559,
                        "bin_end": 1.1512358295439937,
                        "count": 0
                      },
                      {
                        "bin_start": 1.1512358295439937,
                        "bin_end": 1.648293946724432,
                        "count": 1
                      },
                      {
                        "bin_start": 1.648293946724432,
                        "bin_end": 2.1453520639048698,
                        "count": 0
                      },
                      {
                        "bin_start": 2.1453520639048698,
                        "bin_end": 2.6424101810853076,
                        "count": 0
                      },
                      {
                        "bin_start": 2.6424101810853076,
                        "bin_end": 3.139468298265746,
                        "count": 0
                      },
                      {
                        "bin_start": 3.139468298265746,
                        "bin_end": 3.6365264154461836,
                        "count": 0
                      },
                      {
                        "bin_start": 3.6365264154461836,
                        "bin_end": 4.133584532626622,
                        "count": 0
                      },
                      {
                        "bin_start": 4.133584532626622,
                        "bin_end": 4.63064264980706,
                        "count": 1
                      }
                    ]
                  }
                },
                {
                  "name": "V10",
                  "dtype": "float64",
                  "stats": {
                    "unique_count": 5,
                    "nan_count": 0,
                    "min": "-0.249166248407228",
                    "max": "7.2559772974222",
                    "histogram": [
                      {
                        "bin_start": -0.249166248407228,
                        "bin_end": 0.5013481061757148,
                        "count": 4
                      },
                      {
                        "bin_start": 0.5013481061757148,
                        "bin_end": 1.2518624607586575,
                        "count": 0
                      },
                      {
                        "bin_start": 1.2518624607586575,
                        "bin_end": 2.0023768153416004,
                        "count": 0
                      },
                      {
                        "bin_start": 2.0023768153416004,
                        "bin_end": 2.7528911699245433,
                        "count": 0
                      },
                      {
                        "bin_start": 2.7528911699245433,
                        "bin_end": 3.503405524507486,
                        "count": 0
                      },
                      {
                        "bin_start": 3.503405524507486,
                        "bin_end": 4.253919879090429,
                        "count": 0
                      },
                      {
                        "bin_start": 4.253919879090429,
                        "bin_end": 5.004434233673372,
                        "count": 0
                      },
                      {
                        "bin_start": 5.004434233673372,
                        "bin_end": 5.7549485882563145,
                        "count": 0
                      },
                      {
                        "bin_start": 5.7549485882563145,
                        "bin_end": 6.505462942839257,
                        "count": 0
                      },
                      {
                        "bin_start": 6.505462942839257,
                        "bin_end": 7.2559772974222,
                        "count": 1
                      }
                    ]
                  }
                },
                {
                  "name": "V11",
                  "dtype": "float64",
                  "stats": {
                    "unique_count": 5,
                    "nan_count": 0,
                    "min": "-0.829229350755853",
                    "max": "1.78671559285146",
                    "histogram": [
                      {
                        "bin_start": -0.829229350755853,
                        "bin_end": -0.5676348563951217,
                        "count": 2
                      },
                      {
                        "bin_start": -0.5676348563951217,
                        "bin_end": -0.30604036203439045,
                        "count": 1
                      },
                      {
                        "bin_start": -0.30604036203439045,
                        "bin_end": -0.04444586767365921,
                        "count": 0
                      },
                      {
                        "bin_start": -0.04444586767365921,
                        "bin_end": 0.21714862668707213,
                        "count": 0
                      },
                      {
                        "bin_start": 0.21714862668707213,
                        "bin_end": 0.4787431210478035,
                        "count": 0
                      },
                      {
                        "bin_start": 0.4787431210478035,
                        "bin_end": 0.7403376154085346,
                        "count": 0
                      },
                      {
                        "bin_start": 0.7403376154085346,
                        "bin_end": 1.001932109769266,
                        "count": 0
                      },
                      {
                        "bin_start": 1.001932109769266,
                        "bin_end": 1.2635266041299973,
                        "count": 0
                      },
                      {
                        "bin_start": 1.2635266041299973,
                        "bin_end": 1.5251210984907284,
                        "count": 1
                      },
                      {
                        "bin_start": 1.5251210984907284,
                        "bin_end": 1.78671559285146,
                        "count": 1
                      }
                    ]
                  }
                },
                {
                  "name": "V12",
                  "dtype": "float64",
                  "stats": {
                    "unique_count": 5,
                    "nan_count": 0,
                    "min": "-0.52673727148673",
                    "max": "0.770528721958767",
                    "histogram": [
                      {
                        "bin_start": -0.52673727148673,
                        "bin_end": -0.39701067214218033,
                        "count": 1
                      },
                      {
                        "bin_start": -0.39701067214218033,
                        "bin_end": -0.2672840727976306,
                        "count": 0
                      },
                      {
                        "bin_start": -0.2672840727976306,
                        "bin_end": -0.1375574734530809,
                        "count": 0
                      },
                      {
                        "bin_start": -0.1375574734530809,
                        "bin_end": -0.007830874108531227,
                        "count": 1
                      },
                      {
                        "bin_start": -0.007830874108531227,
                        "bin_end": 0.12189572523601844,
                        "count": 0
                      },
                      {
                        "bin_start": 0.12189572523601844,
                        "bin_end": 0.2516223245805682,
                        "count": 0
                      },
                      {
                        "bin_start": 0.2516223245805682,
                        "bin_end": 0.3813489239251179,
                        "count": 0
                      },
                      {
                        "bin_start": 0.3813489239251179,
                        "bin_end": 0.5110755232696675,
                        "count": 0
                      },
                      {
                        "bin_start": 0.5110755232696675,
                        "bin_end": 0.6408021226142173,
                        "count": 1
                      },
                      {
                        "bin_start": 0.6408021226142173,
                        "bin_end": 0.770528721958767,
                        "count": 2
                      }
                    ]
                  }
                },
                {
                  "name": "V13",
                  "dtype": "float64",
                  "stats": {
                    "unique_count": 5,
                    "nan_count": 0,
                    "min": "-1.17009432349017",
                    "max": "0.74897453062533",
                    "histogram": [
                      {
                        "bin_start": -1.17009432349017,
                        "bin_end": -0.97818743807862,
                        "count": 1
                      },
                      {
                        "bin_start": -0.97818743807862,
                        "bin_end": -0.78628055266707,
                        "count": 1
                      },
                      {
                        "bin_start": -0.78628055266707,
                        "bin_end": -0.59437366725552,
                        "count": 0
                      },
                      {
                        "bin_start": -0.59437366725552,
                        "bin_end": -0.40246678184397,
                        "count": 0
                      },
                      {
                        "bin_start": -0.40246678184397,
                        "bin_end": -0.21055989643242,
                        "count": 0
                      },
                      {
                        "bin_start": -0.21055989643242,
                        "bin_end": -0.018653011020870025,
                        "count": 0
                      },
                      {
                        "bin_start": -0.018653011020870025,
                        "bin_end": 0.17325387439067996,
                        "count": 0
                      },
                      {
                        "bin_start": 0.17325387439067996,
                        "bin_end": 0.36516075980222995,
                        "count": 0
                      },
                      {
                        "bin_start": 0.36516075980222995,
                        "bin_end": 0.5570676452137799,
                        "count": 2
                      },
                      {
                        "bin_start": 0.5570676452137799,
                        "bin_end": 0.74897453062533,
                        "count": 1
                      }
                    ]
                  }
                },
                {
                  "name": "V14",
                  "dtype": "float64",
                  "stats": {
                    "unique_count": 5,
                    "nan_count": 0,
                    "min": "-2.37274306691265",
                    "max": "0.0677401494788327",
                    "histogram": [
                      {
                        "bin_start": -2.37274306691265,
                        "bin_end": -2.128694745273502,
                        "count": 1
                      },
                      {
                        "bin_start": -2.128694745273502,
                        "bin_end": -1.8846464236343534,
                        "count": 0
                      },
                      {
                        "bin_start": -1.8846464236343534,
                        "bin_end": -1.6405981019952052,
                        "count": 0
                      },
                      {
                        "bin_start": -1.6405981019952052,
                        "bin_end": -1.396549780356057,
                        "count": 1
                      },
                      {
                        "bin_start": -1.396549780356057,
                        "bin_end": -1.1525014587169087,
                        "count": 0
                      },
                      {
                        "bin_start": -1.1525014587169087,
                        "bin_end": -0.9084531370777604,
                        "count": 1
                      },
                      {
                        "bin_start": -0.9084531370777604,
                        "bin_end": -0.6644048154386122,
                        "count": 0
                      },
                      {
                        "bin_start": -0.6644048154386122,
                        "bin_end": -0.42035649379946394,
                        "count": 0
                      },
                      {
                        "bin_start": -0.42035649379946394,
                        "bin_end": -0.17630817216031547,
                        "count": 0
                      },
                      {
                        "bin_start": -0.17630817216031547,
                        "bin_end": 0.0677401494788327,
                        "count": 2
                      }
                    ]
                  }
                },
                {
                  "name": "V15",
                  "dtype": "float64",
                  "stats": {
                    "unique_count": 5,
                    "nan_count": 0,
                    "min": "-0.955495486135843",
                    "max": "0.933843117479865",
                    "histogram": [
                      {
                        "bin_start": -0.955495486135843,
                        "bin_end": -0.7665616257742722,
                        "count": 1
                      },
                      {
                        "bin_start": -0.7665616257742722,
                        "bin_end": -0.5776277654127013,
                        "count": 0
                      },
                      {
                        "bin_start": -0.5776277654127013,
                        "bin_end": -0.38869390505113055,
                        "count": 1
                      },
                      {
                        "bin_start": -0.38869390505113055,
                        "bin_end": -0.19976004468955977,
                        "count": 1
                      },
                      {
                        "bin_start": -0.19976004468955977,
                        "bin_end": -0.010826184327988986,
                        "count": 0
                      },
                      {
                        "bin_start": -0.010826184327988986,
                        "bin_end": 0.1781076760335819,
                        "count": 0
                      },
                      {
                        "bin_start": 0.1781076760335819,
                        "bin_end": 0.3670415363951526,
                        "count": 1
                      },
                      {
                        "bin_start": 0.3670415363951526,
                        "bin_end": 0.5559753967567235,
                        "count": 0
                      },
                      {
                        "bin_start": 0.5559753967567235,
                        "bin_end": 0.7449092571182944,
                        "count": 0
                      },
                      {
                        "bin_start": 0.7449092571182944,
                        "bin_end": 0.933843117479865,
                        "count": 1
                      }
                    ]
                  }
                },
                {
                  "name": "V16",
                  "dtype": "float64",
                  "stats": {
                    "unique_count": 5,
                    "nan_count": 0,
                    "min": "0.229585141420864",
                    "max": "1.68084649110151",
                    "histogram": [
                      {
                        "bin_start": 0.229585141420864,
                        "bin_end": 0.3747112763889286,
                        "count": 3
                      },
                      {
                        "bin_start": 0.3747112763889286,
                        "bin_end": 0.5198374113569932,
                        "count": 0
                      },
                      {
                        "bin_start": 0.5198374113569932,
                        "bin_end": 0.6649635463250578,
                        "count": 0
                      },
                      {
                        "bin_start": 0.6649635463250578,
                        "bin_end": 0.8100896812931224,
                        "count": 0
                      },
                      {
                        "bin_start": 0.8100896812931224,
                        "bin_end": 0.955215816261187,
                        "count": 0
                      },
                      {
                        "bin_start": 0.955215816261187,
                        "bin_end": 1.1003419512292516,
                        "count": 1
                      },
                      {
                        "bin_start": 1.1003419512292516,
                        "bin_end": 1.2454680861973162,
                        "count": 0
                      },
                      {
                        "bin_start": 1.2454680861973162,
                        "bin_end": 1.3905942211653808,
                        "count": 0
                      },
                      {
                        "bin_start": 1.3905942211653808,
                        "bin_end": 1.5357203561334454,
                        "count": 0
                      },
                      {
                        "bin_start": 1.5357203561334454,
                        "bin_end": 1.68084649110151,
                        "count": 1
                      }
                    ]
                  }
                },
                {
                  "name": "V17",
                  "dtype": "float64",
                  "stats": {
                    "unique_count": 5,
                    "nan_count": 0,
                    "min": "-0.998958889785039",
                    "max": "1.05116388571771",
                    "histogram": [
                      {
                        "bin_start": -0.998958889785039,
                        "bin_end": -0.793946612234764,
                        "count": 2
                      },
                      {
                        "bin_start": -0.793946612234764,
                        "bin_end": -0.5889343346844892,
                        "count": 1
                      },
                      {
                        "bin_start": -0.5889343346844892,
                        "bin_end": -0.38392205713421435,
                        "count": 0
                      },
                      {
                        "bin_start": -0.38392205713421435,
                        "bin_end": -0.1789097795839394,
                        "count": 0
                      },
                      {
                        "bin_start": -0.1789097795839394,
                        "bin_end": 0.02610249796633557,
                        "count": 0
                      },
                      {
                        "bin_start": 0.02610249796633557,
                        "bin_end": 0.2311147755166103,
                        "count": 0
                      },
                      {
                        "bin_start": 0.2311147755166103,
                        "bin_end": 0.43612705306688526,
                        "count": 1
                      },
                      {
                        "bin_start": 0.43612705306688526,
                        "bin_end": 0.6411393306171602,
                        "count": 0
                      },
                      {
                        "bin_start": 0.6411393306171602,
                        "bin_end": 0.8461516081674352,
                        "count": 0
                      },
                      {
                        "bin_start": 0.8461516081674352,
                        "bin_end": 1.05116388571771,
                        "count": 1
                      }
                    ]
                  }
                },
                {
                  "name": "V18",
                  "dtype": "float64",
                  "stats": {
                    "unique_count": 5,
                    "nan_count": 0,
                    "min": "-0.93726204106285",
                    "max": "0.957620947099364",
                    "histogram": [
                      {
                        "bin_start": -0.93726204106285,
                        "bin_end": -0.7477737422466286,
                        "count": 2
                      },
                      {
                        "bin_start": -0.7477737422466286,
                        "bin_end": -0.5582854434304072,
                        "count": 0
                      },
                      {
                        "bin_start": -0.5582854434304072,
                        "bin_end": -0.3687971446141859,
                        "count": 0
                      },
                      {
                        "bin_start": -0.3687971446141859,
                        "bin_end": -0.17930884579796447,
                        "count": 1
                      },
                      {
                        "bin_start": -0.17930884579796447,
                        "bin_end": 0.010179453018256956,
                        "count": 0
                      },
                      {
                        "bin_start": 0.010179453018256956,
                        "bin_end": 0.19966775183447827,
                        "count": 0
                      },
                      {
                        "bin_start": 0.19966775183447827,
                        "bin_end": 0.3891560506506997,
                        "count": 0
                      },
                      {
                        "bin_start": 0.3891560506506997,
                        "bin_end": 0.5786443494669211,
                        "count": 1
                      },
                      {
                        "bin_start": 0.5786443494669211,
                        "bin_end": 0.7681326482831425,
                        "count": 0
                      },
                      {
                        "bin_start": 0.7681326482831425,
                        "bin_end": 0.957620947099364,
                        "count": 1
                      }
                    ]
                  }
                },
                {
                  "name": "V19",
                  "dtype": "float64",
                  "stats": {
                    "unique_count": 5,
                    "nan_count": 0,
                    "min": "-1.1943285002022",
                    "max": "0.909369159134952",
                    "histogram": [
                      {
                        "bin_start": -1.1943285002022,
                        "bin_end": -0.9839587342684848,
                        "count": 1
                      },
                      {
                        "bin_start": -0.9839587342684848,
                        "bin_end": -0.7735889683347695,
                        "count": 1
                      },
                      {
                        "bin_start": -0.7735889683347695,
                        "bin_end": -0.5632192024010543,
                        "count": 1
                      },
                      {
                        "bin_start": -0.5632192024010543,
                        "bin_end": -0.35284943646733913,
                        "count": 0
                      },
                      {
                        "bin_start": -0.35284943646733913,
                        "bin_end": -0.14247967053362398,
                        "count": 0
                      },
                      {
                        "bin_start": -0.14247967053362398,
                        "bin_end": 0.06789009540009139,
                        "count": 0
                      },
                      {
                        "bin_start": 0.06789009540009139,
                        "bin_end": 0.27825986133380654,
                        "count": 0
                      },
                      {
                        "bin_start": 0.27825986133380654,
                        "bin_end": 0.4886296272675217,
                        "count": 0
                      },
                      {
                        "bin_start": 0.4886296272675217,
                        "bin_end": 0.6989993932012368,
                        "count": 0
                      },
                      {
                        "bin_start": 0.6989993932012368,
                        "bin_end": 0.909369159134952,
                        "count": 2
                      }
                    ]
                  }
                },
                {
                  "name": "V20",
                  "dtype": "float64",
                  "stats": {
                    "unique_count": 5,
                    "nan_count": 0,
                    "min": "-0.48699466644352",
                    "max": "3.0780909316733",
                    "histogram": [
                      {
                        "bin_start": -0.48699466644352,
                        "bin_end": -0.13048610663183802,
                        "count": 1
                      },
                      {
                        "bin_start": -0.13048610663183802,
                        "bin_end": 0.22602245317984399,
                        "count": 2
                      },
                      {
                        "bin_start": 0.22602245317984399,
                        "bin_end": 0.582531012991526,
                        "count": 1
                      },
                      {
                        "bin_start": 0.582531012991526,
                        "bin_end": 0.9390395728032079,
                        "count": 0
                      },
                      {
                        "bin_start": 0.9390395728032079,
                        "bin_end": 1.2955481326148899,
                        "count": 0
                      },
                      {
                        "bin_start": 1.2955481326148899,
                        "bin_end": 1.652056692426572,
                        "count": 0
                      },
                      {
                        "bin_start": 1.652056692426572,
                        "bin_end": 2.0085652522382538,
                        "count": 0
                      },
                      {
                        "bin_start": 2.0085652522382538,
                        "bin_end": 2.365073812049936,
                        "count": 0
                      },
                      {
                        "bin_start": 2.365073812049936,
                        "bin_end": 2.721582371861618,
                        "count": 0
                      },
                      {
                        "bin_start": 2.721582371861618,
                        "bin_end": 3.0780909316733,
                        "count": 1
                      }
                    ]
                  }
                },
                {
                  "name": "V21",
                  "dtype": "float64",
                  "stats": {
                    "unique_count": 5,
                    "nan_count": 0,
                    "min": "-0.760036158455578",
                    "max": "2.31581460346479",
                    "histogram": [
                      {
                        "bin_start": -0.760036158455578,
                        "bin_end": -0.45245108226354125,
                        "count": 1
                      },
                      {
                        "bin_start": -0.45245108226354125,
                        "bin_end": -0.14486600607150446,
                        "count": 3
                      },
                      {
                        "bin_start": -0.14486600607150446,
                        "bin_end": 0.16271907012053233,
                        "count": 0
                      },
                      {
                        "bin_start": 0.16271907012053233,
                        "bin_end": 0.4703041463125691,
                        "count": 0
                      },
                      {
                        "bin_start": 0.4703041463125691,
                        "bin_end": 0.7778892225046058,
                        "count": 0
                      },
                      {
                        "bin_start": 0.7778892225046058,
                        "bin_end": 1.0854742986966426,
                        "count": 0
                      },
                      {
                        "bin_start": 1.0854742986966426,
                        "bin_end": 1.3930593748886797,
                        "count": 0
                      },
                      {
                        "bin_start": 1.3930593748886797,
                        "bin_end": 1.7006444510807164,
                        "count": 0
                      },
                      {
                        "bin_start": 1.7006444510807164,
                        "bin_end": 2.008229527272753,
                        "count": 0
                      },
                      {
                        "bin_start": 2.008229527272753,
                        "bin_end": 2.31581460346479,
                        "count": 1
                      }
                    ]
                  }
                },
                {
                  "name": "V22",
                  "dtype": "float64",
                  "stats": {
                    "unique_count": 5,
                    "nan_count": 0,
                    "min": "-1.07104783148007",
                    "max": "-0.302893534444226",
                    "histogram": [
                      {
                        "bin_start": -1.07104783148007,
                        "bin_end": -0.9942324017764856,
                        "count": 1
                      },
                      {
                        "bin_start": -0.9942324017764856,
                        "bin_end": -0.9174169720729012,
                        "count": 0
                      },
                      {
                        "bin_start": -0.9174169720729012,
                        "bin_end": -0.8406015423693168,
                        "count": 0
                      },
                      {
                        "bin_start": -0.8406015423693168,
                        "bin_end": -0.7637861126657324,
                        "count": 1
                      },
                      {
                        "bin_start": -0.7637861126657324,
                        "bin_end": -0.686970682962148,
                        "count": 0
                      },
                      {
                        "bin_start": -0.686970682962148,
                        "bin_end": -0.6101552532585637,
                        "count": 0
                      },
                      {
                        "bin_start": -0.6101552532585637,
                        "bin_end": -0.5333398235549792,
                        "count": 1
                      },
                      {
                        "bin_start": -0.5333398235549792,
                        "bin_end": -0.45652439385139487,
                        "count": 0
                      },
                      {
                        "bin_start": -0.45652439385139487,
                        "bin_end": -0.3797089641478105,
                        "count": 0
                      },
                      {
                        "bin_start": -0.3797089641478105,
                        "bin_end": -0.302893534444226,
                        "count": 2
                      }
                    ]
                  }
                },
                {
                  "name": "V23",
                  "dtype": "float64",
                  "stats": {
                    "unique_count": 5,
                    "nan_count": 0,
                    "min": "-0.375257626097983",
                    "max": "0.395553135112614",
                    "histogram": [
                      {
                        "bin_start": -0.375257626097983,
                        "bin_end": -0.29817654997692333,
                        "count": 1
                      },
                      {
                        "bin_start": -0.29817654997692333,
                        "bin_end": -0.22109547385586362,
                        "count": 0
                      },
                      {
                        "bin_start": -0.22109547385586362,
                        "bin_end": -0.1440143977348039,
                        "count": 0
                      },
                      {
                        "bin_start": -0.1440143977348039,
                        "bin_end": -0.06693332161374421,
                        "count": 0
                      },
                      {
                        "bin_start": -0.06693332161374421,
                        "bin_end": 0.010147754507315476,
                        "count": 1
                      },
                      {
                        "bin_start": 0.010147754507315476,
                        "bin_end": 0.08722883062837522,
                        "count": 1
                      },
                      {
                        "bin_start": 0.08722883062837522,
                        "bin_end": 0.16430990674943485,
                        "count": 0
                      },
                      {
                        "bin_start": 0.16430990674943485,
                        "bin_end": 0.2413909828704946,
                        "count": 1
                      },
                      {
                        "bin_start": 0.2413909828704946,
                        "bin_end": 0.31847205899155434,
                        "count": 0
                      },
                      {
                        "bin_start": 0.31847205899155434,
                        "bin_end": 0.395553135112614,
                        "count": 1
                      }
                    ]
                  }
                },
                {
                  "name": "V24",
                  "dtype": "float64",
                  "stats": {
                    "unique_count": 5,
                    "nan_count": 0,
                    "min": "-1.37750984857713",
                    "max": "0.745935409717608",
                    "histogram": [
                      {
                        "bin_start": -1.37750984857713,
                        "bin_end": -1.1651653227476562,
                        "count": 1
                      },
                      {
                        "bin_start": -1.1651653227476562,
                        "bin_end": -0.9528207969181824,
                        "count": 0
                      },
                      {
                        "bin_start": -0.9528207969181824,
                        "bin_end": -0.7404762710887087,
                        "count": 0
                      },
                      {
                        "bin_start": -0.7404762710887087,
                        "bin_end": -0.5281317452592349,
                        "count": 0
                      },
                      {
                        "bin_start": -0.5281317452592349,
                        "bin_end": -0.31578721942976107,
                        "count": 0
                      },
                      {
                        "bin_start": -0.31578721942976107,
                        "bin_end": -0.10344269360028746,
                        "count": 0
                      },
                      {
                        "bin_start": -0.10344269360028746,
                        "bin_end": 0.10890183222918637,
                        "count": 0
                      },
                      {
                        "bin_start": 0.10890183222918637,
                        "bin_end": 0.3212463580586602,
                        "count": 0
                      },
                      {
                        "bin_start": 0.3212463580586602,
                        "bin_end": 0.533590883888134,
                        "count": 3
                      },
                      {
                        "bin_start": 0.533590883888134,
                        "bin_end": 0.745935409717608,
                        "count": 1
                      }
                    ]
                  }
                },
                {
                  "name": "V25",
                  "dtype": "float64",
                  "stats": {
                    "unique_count": 5,
                    "nan_count": 0,
                    "min": "-0.65252126275454",
                    "max": "0.927224276847851",
                    "histogram": [
                      {
                        "bin_start": -0.65252126275454,
                        "bin_end": -0.4945467087943009,
                        "count": 1
                      },
                      {
                        "bin_start": -0.4945467087943009,
                        "bin_end": -0.3365721548340618,
                        "count": 0
                      },
                      {
                        "bin_start": -0.3365721548340618,
                        "bin_end": -0.17859760087382265,
                        "count": 0
                      },
                      {
                        "bin_start": -0.17859760087382265,
                        "bin_end": -0.02062304691358352,
                        "count": 0
                      },
                      {
                        "bin_start": -0.02062304691358352,
                        "bin_end": 0.13735150704665555,
                        "count": 0
                      },
                      {
                        "bin_start": 0.13735150704665555,
                        "bin_end": 0.29532606100689474,
                        "count": 1
                      },
                      {
                        "bin_start": 0.29532606100689474,
                        "bin_end": 0.4533006149671339,
                        "count": 1
                      },
                      {
                        "bin_start": 0.4533006149671339,
                        "bin_end": 0.611275168927373,
                        "count": 0
                      },
                      {
                        "bin_start": 0.611275168927373,
                        "bin_end": 0.7692497228876121,
                        "count": 1
                      },
                      {
                        "bin_start": 0.7692497228876121,
                        "bin_end": 0.927224276847851,
                        "count": 1
                      }
                    ]
                  }
                },
                {
                  "name": "V26",
                  "dtype": "float64",
                  "stats": {
                    "unique_count": 5,
                    "nan_count": 0,
                    "min": "-0.734851977460669",
                    "max": "0.691494565134336",
                    "histogram": [
                      {
                        "bin_start": -0.734851977460669,
                        "bin_end": -0.5922173232011685,
                        "count": 1
                      },
                      {
                        "bin_start": -0.5922173232011685,
                        "bin_end": -0.449582668941668,
                        "count": 0
                      },
                      {
                        "bin_start": -0.449582668941668,
                        "bin_end": -0.3069480146821675,
                        "count": 0
                      },
                      {
                        "bin_start": -0.3069480146821675,
                        "bin_end": -0.16431336042266698,
                        "count": 1
                      },
                      {
                        "bin_start": -0.16431336042266698,
                        "bin_end": -0.021678706163166472,
                        "count": 0
                      },
                      {
                        "bin_start": -0.021678706163166472,
                        "bin_end": 0.12095594809633403,
                        "count": 0
                      },
                      {
                        "bin_start": 0.12095594809633403,
                        "bin_end": 0.26359060235583454,
                        "count": 0
                      },
                      {
                        "bin_start": 0.26359060235583454,
                        "bin_end": 0.40622525661533504,
                        "count": 1
                      },
                      {
                        "bin_start": 0.40622525661533504,
                        "bin_end": 0.5488599108748355,
                        "count": 1
                      },
                      {
                        "bin_start": 0.5488599108748355,
                        "bin_end": 0.691494565134336,
                        "count": 1
                      }
                    ]
                  }
                },
                {
                  "name": "V27",
                  "dtype": "float64",
                  "stats": {
                    "unique_count": 5,
                    "nan_count": 0,
                    "min": "-0.80622805337592",
                    "max": "1.74708995194468",
                    "histogram": [
                      {
                        "bin_start": -0.80622805337592,
                        "bin_end": -0.5508962528438599,
                        "count": 1
                      },
                      {
                        "bin_start": -0.5508962528438599,
                        "bin_end": -0.29556445231179995,
                        "count": 0
                      },
                      {
                        "bin_start": -0.29556445231179995,
                        "bin_end": -0.04023265177973989,
                        "count": 0
                      },
                      {
                        "bin_start": -0.04023265177973989,
                        "bin_end": 0.21509914875232006,
                        "count": 2
                      },
                      {
                        "bin_start": 0.21509914875232006,
                        "bin_end": 0.47043094928438,
                        "count": 0
                      },
                      {
                        "bin_start": 0.47043094928438,
                        "bin_end": 0.7257627498164402,
                        "count": 1
                      },
                      {
                        "bin_start": 0.7257627498164402,
                        "bin_end": 0.9810945503485001,
                        "count": 0
                      },
                      {
                        "bin_start": 0.9810945503485001,
                        "bin_end": 1.23642635088056,
                        "count": 0
                      },
                      {
                        "bin_start": 1.23642635088056,
                        "bin_end": 1.4917581514126201,
                        "count": 0
                      },
                      {
                        "bin_start": 1.4917581514126201,
                        "bin_end": 1.74708995194468,
                        "count": 1
                      }
                    ]
                  }
                },
                {
                  "name": "V28",
                  "dtype": "float64",
                  "stats": {
                    "unique_count": 5,
                    "nan_count": 0,
                    "min": "-0.259857849848953",
                    "max": "0.822360902523011",
                    "histogram": [
                      {
                        "bin_start": -0.259857849848953,
                        "bin_end": -0.1516359746117566,
                        "count": 1
                      },
                      {
                        "bin_start": -0.1516359746117566,
                        "bin_end": -0.0434140993745602,
                        "count": 0
                      },
                      {
                        "bin_start": -0.0434140993745602,
                        "bin_end": 0.0648077758626362,
                        "count": 2
                      },
                      {
                        "bin_start": 0.0648077758626362,
                        "bin_end": 0.1730296510998326,
                        "count": 0
                      },
                      {
                        "bin_start": 0.1730296510998326,
                        "bin_end": 0.281251526337029,
                        "count": 0
                      },
                      {
                        "bin_start": 0.281251526337029,
                        "bin_end": 0.3894734015742254,
                        "count": 1
                      },
                      {
                        "bin_start": 0.3894734015742254,
                        "bin_end": 0.4976952768114218,
                        "count": 0
                      },
                      {
                        "bin_start": 0.4976952768114218,
                        "bin_end": 0.6059171520486182,
                        "count": 0
                      },
                      {
                        "bin_start": 0.6059171520486182,
                        "bin_end": 0.7141390272858146,
                        "count": 0
                      },
                      {
                        "bin_start": 0.7141390272858146,
                        "bin_end": 0.822360902523011,
                        "count": 1
                      }
                    ]
                  }
                },
                {
                  "name": "Amount",
                  "dtype": "float64",
                  "stats": {
                    "unique_count": 5,
                    "nan_count": 0,
                    "min": "0.69",
                    "max": "139.0",
                    "histogram": [
                      {
                        "bin_start": 0.69,
                        "bin_end": 14.520999999999999,
                        "count": 2
                      },
                      {
                        "bin_start": 14.520999999999999,
                        "bin_end": 28.352,
                        "count": 0
                      },
                      {
                        "bin_start": 28.352,
                        "bin_end": 42.18299999999999,
                        "count": 1
                      },
                      {
                        "bin_start": 42.18299999999999,
                        "bin_end": 56.013999999999996,
                        "count": 0
                      },
                      {
                        "bin_start": 56.013999999999996,
                        "bin_end": 69.845,
                        "count": 1
                      },
                      {
                        "bin_start": 69.845,
                        "bin_end": 83.67599999999999,
                        "count": 0
                      },
                      {
                        "bin_start": 83.67599999999999,
                        "bin_end": 97.50699999999999,
                        "count": 0
                      },
                      {
                        "bin_start": 97.50699999999999,
                        "bin_end": 111.338,
                        "count": 0
                      },
                      {
                        "bin_start": 111.338,
                        "bin_end": 125.169,
                        "count": 0
                      },
                      {
                        "bin_start": 125.169,
                        "bin_end": 139,
                        "count": 1
                      }
                    ]
                  }
                },
                {
                  "name": "Class",
                  "dtype": "int64",
                  "stats": {
                    "unique_count": 1,
                    "nan_count": 0,
                    "min": "0",
                    "max": "0",
                    "histogram": [
                      {
                        "bin_start": -0.5,
                        "bin_end": -0.4,
                        "count": 0
                      },
                      {
                        "bin_start": -0.4,
                        "bin_end": -0.3,
                        "count": 0
                      },
                      {
                        "bin_start": -0.3,
                        "bin_end": -0.19999999999999996,
                        "count": 0
                      },
                      {
                        "bin_start": -0.19999999999999996,
                        "bin_end": -0.09999999999999998,
                        "count": 0
                      },
                      {
                        "bin_start": -0.09999999999999998,
                        "bin_end": 0,
                        "count": 0
                      },
                      {
                        "bin_start": 0,
                        "bin_end": 0.10000000000000009,
                        "count": 5
                      },
                      {
                        "bin_start": 0.10000000000000009,
                        "bin_end": 0.20000000000000007,
                        "count": 0
                      },
                      {
                        "bin_start": 0.20000000000000007,
                        "bin_end": 0.30000000000000004,
                        "count": 0
                      },
                      {
                        "bin_start": 0.30000000000000004,
                        "bin_end": 0.4,
                        "count": 0
                      },
                      {
                        "bin_start": 0.4,
                        "bin_end": 0.5,
                        "count": 0
                      }
                    ]
                  }
                },
                {
                  "name": "_deepnote_index_column",
                  "dtype": "int64"
                }
              ],
              "rows": [
                {
                  "Time": 87702,
                  "V1": -1.8011034257534,
                  "V2": 1.86700577600532,
                  "V3": -0.275454110920036,
                  "V4": -2.75509933358078,
                  "V5": 0.414673937057176,
                  "V6": -1.19104757870034,
                  "V7": 0.932630448856942,
                  "V8": 0.263455791772599,
                  "V9": 0.534921977353926,
                  "V10": -0.249166248407228,
                  "V11": -0.829229350755853,
                  "V12": 0.6775931201772,
                  "V13": 0.74897453062533,
                  "V14": 0.0268625044126383,
                  "V15": -0.519699864024658,
                  "V16": 0.293515868656299,
                  "V17": -0.727248374024523,
                  "V18": -0.93726204106285,
                  "V19": -0.924648896738701,
                  "V20": 0.390896773424187,
                  "V21": -0.355086408286464,
                  "V22": -0.840600096842479,
                  "V23": -0.0102110259971138,
                  "V24": 0.745935409717608,
                  "V25": 0.190194056377833,
                  "V26": 0.355373935976643,
                  "V27": 0.521598142189884,
                  "V28": 0.354508556511455,
                  "Amount": 1,
                  "Class": 0,
                  "_deepnote_index_column": 146438
                },
                {
                  "Time": 29404,
                  "V1": 1.17159583587258,
                  "V2": -0.0028859129735766,
                  "V3": -0.324735755195333,
                  "V4": 0.967765687562355,
                  "V5": 0.536665851040301,
                  "V6": 0.686024984831151,
                  "V7": 0.112326626696888,
                  "V8": 0.0649520132062636,
                  "V9": 0.0883636276969354,
                  "V10": 0.0519046570031103,
                  "V11": -0.537290076176662,
                  "V12": 0.770528721958767,
                  "V13": 0.50084773283173,
                  "V14": 0.0677401494788327,
                  "V15": -0.955495486135843,
                  "V16": 0.258823821675442,
                  "V17": -0.913200494173925,
                  "V18": 0.494079717924027,
                  "V19": 0.909369159134952,
                  "V20": 0.0539935659016284,
                  "V21": -0.150668458783597,
                  "V22": -0.375372488272641,
                  "V23": -0.375257626097983,
                  "V24": -1.37750984857713,
                  "V25": 0.927224276847851,
                  "V26": -0.259861610959303,
                  "V27": 0.0086528018907225,
                  "V28": 0.0028300194715226,
                  "Amount": 68,
                  "Class": 0,
                  "_deepnote_index_column": 18342
                },
                {
                  "Time": 53771,
                  "V1": -6.62247548686361,
                  "V2": 5.27930357473691,
                  "V3": -1.01957591120439,
                  "V4": -2.72769432512233,
                  "V5": -1.6336796386878,
                  "V6": -1.29848970661873,
                  "V7": 0.0784761318562688,
                  "V8": 0.524840304771084,
                  "V9": 4.63064264980706,
                  "V10": 7.2559772974222,
                  "V11": 1.78671559285146,
                  "V12": 0.554913443982619,
                  "V13": -0.894206184960096,
                  "V14": -1.42588653567189,
                  "V15": 0.256645561601305,
                  "V16": 0.229585141420864,
                  "V17": -0.998958889785039,
                  "V18": -0.224730548744811,
                  "V19": -1.1943285002022,
                  "V20": 3.0780909316733,
                  "V21": -0.760036158455578,
                  "V22": -0.581441573642308,
                  "V23": 0.207949034808763,
                  "V24": 0.447095924303568,
                  "V25": 0.743687048537292,
                  "V26": 0.691494565134336,
                  "V27": 1.74708995194468,
                  "V28": 0.822360902523011,
                  "Amount": 0.69,
                  "Class": 0,
                  "_deepnote_index_column": 70224
                },
                {
                  "Time": 146029,
                  "V1": 1.87815117955904,
                  "V2": -1.07600787090371,
                  "V3": -1.43390776296522,
                  "V4": -0.751744526846563,
                  "V5": -0.600645416470303,
                  "V6": -0.479614018084188,
                  "V7": -0.623004089315505,
                  "V8": 0.0493717515210777,
                  "V9": -0.33993852199732,
                  "V10": 0.350984085516757,
                  "V11": 1.28090332398141,
                  "V12": -0.52673727148673,
                  "V13": -1.17009432349017,
                  "V14": -1.02099749531993,
                  "V15": -0.335017921468574,
                  "V16": 1.68084649110151,
                  "V17": 1.05116388571771,
                  "V18": -0.781540086376502,
                  "V19": 0.840278144176243,
                  "V20": 0.209303836673433,
                  "V21": -0.222580236943091,
                  "V22": -1.07104783148007,
                  "V23": 0.395553135112614,
                  "V24": 0.514217183394752,
                  "V25": -0.65252126275454,
                  "V26": -0.734851977460669,
                  "V27": -0.030945628422066,
                  "V28": -0.0009097974824058,
                  "Amount": 139,
                  "Class": 0,
                  "_deepnote_index_column": 229734
                },
                {
                  "Time": 88106,
                  "V1": -3.00127069551996,
                  "V2": 1.92282184179412,
                  "V3": 1.23553238562092,
                  "V4": -0.89905093305501,
                  "V5": -0.426704833783867,
                  "V6": 0.903832189942318,
                  "V7": -0.75699552023988,
                  "V8": -2.28941490286344,
                  "V9": 1.44948248131275,
                  "V10": 0.128228324776981,
                  "V11": -0.602156594946186,
                  "V12": -0.101761081497909,
                  "V13": 0.459618410194267,
                  "V14": -2.37274306691265,
                  "V15": 0.933843117479865,
                  "V16": 1.05946207824203,
                  "V17": 0.302174616971366,
                  "V18": 0.957620947099364,
                  "V19": -0.733360684255163,
                  "V20": -0.48699466644352,
                  "V21": 2.31581460346479,
                  "V22": -0.302893534444226,
                  "V23": 0.0486330693993618,
                  "V24": 0.507616770969058,
                  "V25": 0.384558952919145,
                  "V26": 0.528202468885187,
                  "V27": -0.80622805337592,
                  "V28": -0.259857849848953,
                  "Amount": 41,
                  "Class": 0,
                  "_deepnote_index_column": 147087
                }
              ]
            },
            "text/plain": "            Time        V1        V2        V3        V4        V5        V6  \\\n146438   87702.0 -1.801103  1.867006 -0.275454 -2.755099  0.414674 -1.191048   \n18342    29404.0  1.171596 -0.002886 -0.324736  0.967766  0.536666  0.686025   \n70224    53771.0 -6.622475  5.279304 -1.019576 -2.727694 -1.633680 -1.298490   \n229734  146029.0  1.878151 -1.076008 -1.433908 -0.751745 -0.600645 -0.479614   \n147087   88106.0 -3.001271  1.922822  1.235532 -0.899051 -0.426705  0.903832   \n\n              V7        V8        V9  ...       V21       V22       V23  \\\n146438  0.932630  0.263456  0.534922  ... -0.355086 -0.840600 -0.010211   \n18342   0.112327  0.064952  0.088364  ... -0.150668 -0.375372 -0.375258   \n70224   0.078476  0.524840  4.630643  ... -0.760036 -0.581442  0.207949   \n229734 -0.623004  0.049372 -0.339939  ... -0.222580 -1.071048  0.395553   \n147087 -0.756996 -2.289415  1.449482  ...  2.315815 -0.302894  0.048633   \n\n             V24       V25       V26       V27       V28  Amount  Class  \n146438  0.745935  0.190194  0.355374  0.521598  0.354509    1.00      0  \n18342  -1.377510  0.927224 -0.259862  0.008653  0.002830   68.00      0  \n70224   0.447096  0.743687  0.691495  1.747090  0.822361    0.69      0  \n229734  0.514217 -0.652521 -0.734852 -0.030946 -0.000910  139.00      0  \n147087  0.507617  0.384559  0.528202 -0.806228 -0.259858   41.00      0  \n\n[5 rows x 31 columns]",
            "text/html": "<div>\n<style scoped>\n    .dataframe tbody tr th:only-of-type {\n        vertical-align: middle;\n    }\n\n    .dataframe tbody tr th {\n        vertical-align: top;\n    }\n\n    .dataframe thead th {\n        text-align: right;\n    }\n</style>\n<table border=\"1\" class=\"dataframe\">\n  <thead>\n    <tr style=\"text-align: right;\">\n      <th></th>\n      <th>Time</th>\n      <th>V1</th>\n      <th>V2</th>\n      <th>V3</th>\n      <th>V4</th>\n      <th>V5</th>\n      <th>V6</th>\n      <th>V7</th>\n      <th>V8</th>\n      <th>V9</th>\n      <th>...</th>\n      <th>V21</th>\n      <th>V22</th>\n      <th>V23</th>\n      <th>V24</th>\n      <th>V25</th>\n      <th>V26</th>\n      <th>V27</th>\n      <th>V28</th>\n      <th>Amount</th>\n      <th>Class</th>\n    </tr>\n  </thead>\n  <tbody>\n    <tr>\n      <th>146438</th>\n      <td>87702.0</td>\n      <td>-1.801103</td>\n      <td>1.867006</td>\n      <td>-0.275454</td>\n      <td>-2.755099</td>\n      <td>0.414674</td>\n      <td>-1.191048</td>\n      <td>0.932630</td>\n      <td>0.263456</td>\n      <td>0.534922</td>\n      <td>...</td>\n      <td>-0.355086</td>\n      <td>-0.840600</td>\n      <td>-0.010211</td>\n      <td>0.745935</td>\n      <td>0.190194</td>\n      <td>0.355374</td>\n      <td>0.521598</td>\n      <td>0.354509</td>\n      <td>1.00</td>\n      <td>0</td>\n    </tr>\n    <tr>\n      <th>18342</th>\n      <td>29404.0</td>\n      <td>1.171596</td>\n      <td>-0.002886</td>\n      <td>-0.324736</td>\n      <td>0.967766</td>\n      <td>0.536666</td>\n      <td>0.686025</td>\n      <td>0.112327</td>\n      <td>0.064952</td>\n      <td>0.088364</td>\n      <td>...</td>\n      <td>-0.150668</td>\n      <td>-0.375372</td>\n      <td>-0.375258</td>\n      <td>-1.377510</td>\n      <td>0.927224</td>\n      <td>-0.259862</td>\n      <td>0.008653</td>\n      <td>0.002830</td>\n      <td>68.00</td>\n      <td>0</td>\n    </tr>\n    <tr>\n      <th>70224</th>\n      <td>53771.0</td>\n      <td>-6.622475</td>\n      <td>5.279304</td>\n      <td>-1.019576</td>\n      <td>-2.727694</td>\n      <td>-1.633680</td>\n      <td>-1.298490</td>\n      <td>0.078476</td>\n      <td>0.524840</td>\n      <td>4.630643</td>\n      <td>...</td>\n      <td>-0.760036</td>\n      <td>-0.581442</td>\n      <td>0.207949</td>\n      <td>0.447096</td>\n      <td>0.743687</td>\n      <td>0.691495</td>\n      <td>1.747090</td>\n      <td>0.822361</td>\n      <td>0.69</td>\n      <td>0</td>\n    </tr>\n    <tr>\n      <th>229734</th>\n      <td>146029.0</td>\n      <td>1.878151</td>\n      <td>-1.076008</td>\n      <td>-1.433908</td>\n      <td>-0.751745</td>\n      <td>-0.600645</td>\n      <td>-0.479614</td>\n      <td>-0.623004</td>\n      <td>0.049372</td>\n      <td>-0.339939</td>\n      <td>...</td>\n      <td>-0.222580</td>\n      <td>-1.071048</td>\n      <td>0.395553</td>\n      <td>0.514217</td>\n      <td>-0.652521</td>\n      <td>-0.734852</td>\n      <td>-0.030946</td>\n      <td>-0.000910</td>\n      <td>139.00</td>\n      <td>0</td>\n    </tr>\n    <tr>\n      <th>147087</th>\n      <td>88106.0</td>\n      <td>-3.001271</td>\n      <td>1.922822</td>\n      <td>1.235532</td>\n      <td>-0.899051</td>\n      <td>-0.426705</td>\n      <td>0.903832</td>\n      <td>-0.756996</td>\n      <td>-2.289415</td>\n      <td>1.449482</td>\n      <td>...</td>\n      <td>2.315815</td>\n      <td>-0.302894</td>\n      <td>0.048633</td>\n      <td>0.507617</td>\n      <td>0.384559</td>\n      <td>0.528202</td>\n      <td>-0.806228</td>\n      <td>-0.259858</td>\n      <td>41.00</td>\n      <td>0</td>\n    </tr>\n  </tbody>\n</table>\n<p>5 rows × 31 columns</p>\n</div>"
          },
          "metadata": {}
        }
      ],
      "outputs_reference": null,
      "execution_count": 13,
      "block_group": "d65b4df51ad14310a3e7854b301b6892",
      "content_dependencies": null
    },
    {
      "cell_type": "code",
      "source": "new_dataset.tail()",
      "metadata": {
        "source_hash": "954dbd0f",
        "execution_start": 1727043701250,
        "execution_millis": 411,
        "deepnote_to_be_reexecuted": false,
        "cell_id": "14c51904bbda440fa9ee6f8e4ac6c80c",
        "deepnote_cell_type": "code"
      },
      "outputs": [
        {
          "output_type": "execute_result",
          "execution_count": 14,
          "data": {
            "application/vnd.deepnote.dataframe.v3+json": {
              "column_count": 31,
              "row_count": 5,
              "columns": [
                {
                  "name": "Time",
                  "dtype": "float64",
                  "stats": {
                    "unique_count": 5,
                    "nan_count": 0,
                    "min": "169142.0",
                    "max": "170348.0",
                    "histogram": [
                      {
                        "bin_start": 169142,
                        "bin_end": 169262.6,
                        "count": 1
                      },
                      {
                        "bin_start": 169262.6,
                        "bin_end": 169383.2,
                        "count": 2
                      },
                      {
                        "bin_start": 169383.2,
                        "bin_end": 169503.8,
                        "count": 0
                      },
                      {
                        "bin_start": 169503.8,
                        "bin_end": 169624.4,
                        "count": 0
                      },
                      {
                        "bin_start": 169624.4,
                        "bin_end": 169745,
                        "count": 0
                      },
                      {
                        "bin_start": 169745,
                        "bin_end": 169865.6,
                        "count": 0
                      },
                      {
                        "bin_start": 169865.6,
                        "bin_end": 169986.2,
                        "count": 1
                      },
                      {
                        "bin_start": 169986.2,
                        "bin_end": 170106.8,
                        "count": 0
                      },
                      {
                        "bin_start": 170106.8,
                        "bin_end": 170227.4,
                        "count": 0
                      },
                      {
                        "bin_start": 170227.4,
                        "bin_end": 170348,
                        "count": 1
                      }
                    ]
                  }
                },
                {
                  "name": "V1",
                  "dtype": "float64",
                  "stats": {
                    "unique_count": 5,
                    "nan_count": 0,
                    "min": "-3.11383160738512",
                    "max": "1.9919760961759",
                    "histogram": [
                      {
                        "bin_start": -3.11383160738512,
                        "bin_end": -2.603250837029018,
                        "count": 1
                      },
                      {
                        "bin_start": -2.603250837029018,
                        "bin_end": -2.092670066672916,
                        "count": 0
                      },
                      {
                        "bin_start": -2.092670066672916,
                        "bin_end": -1.582089296316814,
                        "count": 1
                      },
                      {
                        "bin_start": -1.582089296316814,
                        "bin_end": -1.071508525960712,
                        "count": 0
                      },
                      {
                        "bin_start": -1.071508525960712,
                        "bin_end": -0.56092775560461,
                        "count": 1
                      },
                      {
                        "bin_start": -0.56092775560461,
                        "bin_end": -0.05034698524850789,
                        "count": 0
                      },
                      {
                        "bin_start": -0.05034698524850789,
                        "bin_end": 0.46023378510759416,
                        "count": 0
                      },
                      {
                        "bin_start": 0.46023378510759416,
                        "bin_end": 0.9708145554636962,
                        "count": 0
                      },
                      {
                        "bin_start": 0.9708145554636962,
                        "bin_end": 1.4813953258197978,
                        "count": 1
                      },
                      {
                        "bin_start": 1.4813953258197978,
                        "bin_end": 1.9919760961759,
                        "count": 1
                      }
                    ]
                  }
                },
                {
                  "name": "V2",
                  "dtype": "float64",
                  "stats": {
                    "unique_count": 5,
                    "nan_count": 0,
                    "min": "0.158475887304227",
                    "max": "1.28938093711056",
                    "histogram": [
                      {
                        "bin_start": 0.158475887304227,
                        "bin_end": 0.2715663922848603,
                        "count": 1
                      },
                      {
                        "bin_start": 0.2715663922848603,
                        "bin_end": 0.38465689726549357,
                        "count": 0
                      },
                      {
                        "bin_start": 0.38465689726549357,
                        "bin_end": 0.4977474022461269,
                        "count": 0
                      },
                      {
                        "bin_start": 0.4977474022461269,
                        "bin_end": 0.6108379072267602,
                        "count": 1
                      },
                      {
                        "bin_start": 0.6108379072267602,
                        "bin_end": 0.7239284122073936,
                        "count": 0
                      },
                      {
                        "bin_start": 0.7239284122073936,
                        "bin_end": 0.8370189171880268,
                        "count": 0
                      },
                      {
                        "bin_start": 0.8370189171880268,
                        "bin_end": 0.9501094221686601,
                        "count": 0
                      },
                      {
                        "bin_start": 0.9501094221686601,
                        "bin_end": 1.0631999271492933,
                        "count": 0
                      },
                      {
                        "bin_start": 1.0631999271492933,
                        "bin_end": 1.1762904321299266,
                        "count": 2
                      },
                      {
                        "bin_start": 1.1762904321299266,
                        "bin_end": 1.28938093711056,
                        "count": 1
                      }
                    ]
                  }
                },
                {
                  "name": "V3",
                  "dtype": "float64",
                  "stats": {
                    "unique_count": 5,
                    "nan_count": 0,
                    "min": "-5.39973021073242",
                    "max": "-2.21369952308058",
                    "histogram": [
                      {
                        "bin_start": -5.39973021073242,
                        "bin_end": -5.081127141967236,
                        "count": 1
                      },
                      {
                        "bin_start": -5.081127141967236,
                        "bin_end": -4.7625240732020515,
                        "count": 1
                      },
                      {
                        "bin_start": -4.7625240732020515,
                        "bin_end": -4.443921004436868,
                        "count": 1
                      },
                      {
                        "bin_start": -4.443921004436868,
                        "bin_end": -4.125317935671684,
                        "count": 0
                      },
                      {
                        "bin_start": -4.125317935671684,
                        "bin_end": -3.8067148669065,
                        "count": 0
                      },
                      {
                        "bin_start": -3.8067148669065,
                        "bin_end": -3.4881117981413157,
                        "count": 0
                      },
                      {
                        "bin_start": -3.4881117981413157,
                        "bin_end": -3.169508729376132,
                        "count": 0
                      },
                      {
                        "bin_start": -3.169508729376132,
                        "bin_end": -2.8509056606109477,
                        "count": 0
                      },
                      {
                        "bin_start": -2.8509056606109477,
                        "bin_end": -2.5323025918457636,
                        "count": 1
                      },
                      {
                        "bin_start": -2.5323025918457636,
                        "bin_end": -2.21369952308058,
                        "count": 1
                      }
                    ]
                  }
                },
                {
                  "name": "V4",
                  "dtype": "float64",
                  "stats": {
                    "unique_count": 5,
                    "nan_count": 0,
                    "min": "0.408669992998441",
                    "max": "1.81709247345531",
                    "histogram": [
                      {
                        "bin_start": 0.408669992998441,
                        "bin_end": 0.5495122410441279,
                        "count": 2
                      },
                      {
                        "bin_start": 0.5495122410441279,
                        "bin_end": 0.6903544890898148,
                        "count": 0
                      },
                      {
                        "bin_start": 0.6903544890898148,
                        "bin_end": 0.8311967371355017,
                        "count": 0
                      },
                      {
                        "bin_start": 0.8311967371355017,
                        "bin_end": 0.9720389851811886,
                        "count": 0
                      },
                      {
                        "bin_start": 0.9720389851811886,
                        "bin_end": 1.1128812332268754,
                        "count": 0
                      },
                      {
                        "bin_start": 1.1128812332268754,
                        "bin_end": 1.2537234812725624,
                        "count": 0
                      },
                      {
                        "bin_start": 1.2537234812725624,
                        "bin_end": 1.3945657293182494,
                        "count": 0
                      },
                      {
                        "bin_start": 1.3945657293182494,
                        "bin_end": 1.5354079773639362,
                        "count": 1
                      },
                      {
                        "bin_start": 1.5354079773639362,
                        "bin_end": 1.676250225409623,
                        "count": 0
                      },
                      {
                        "bin_start": 1.676250225409623,
                        "bin_end": 1.81709247345531,
                        "count": 2
                      }
                    ]
                  }
                },
                {
                  "name": "V5",
                  "dtype": "float64",
                  "stats": {
                    "unique_count": 5,
                    "nan_count": 0,
                    "min": "-1.56648729197754",
                    "max": "1.15114706077937",
                    "histogram": [
                      {
                        "bin_start": -1.56648729197754,
                        "bin_end": -1.294723856701849,
                        "count": 1
                      },
                      {
                        "bin_start": -1.294723856701849,
                        "bin_end": -1.022960421426158,
                        "count": 1
                      },
                      {
                        "bin_start": -1.022960421426158,
                        "bin_end": -0.751196986150467,
                        "count": 1
                      },
                      {
                        "bin_start": -0.751196986150467,
                        "bin_end": -0.479433550874776,
                        "count": 0
                      },
                      {
                        "bin_start": -0.479433550874776,
                        "bin_end": -0.207670115599085,
                        "count": 0
                      },
                      {
                        "bin_start": -0.207670115599085,
                        "bin_end": 0.06409331967660603,
                        "count": 0
                      },
                      {
                        "bin_start": 0.06409331967660603,
                        "bin_end": 0.33585675495229705,
                        "count": 0
                      },
                      {
                        "bin_start": 0.33585675495229705,
                        "bin_end": 0.6076201902279881,
                        "count": 1
                      },
                      {
                        "bin_start": 0.6076201902279881,
                        "bin_end": 0.8793836255036791,
                        "count": 0
                      },
                      {
                        "bin_start": 0.8793836255036791,
                        "bin_end": 1.15114706077937,
                        "count": 1
                      }
                    ]
                  }
                },
                {
                  "name": "V6",
                  "dtype": "float64",
                  "stats": {
                    "unique_count": 5,
                    "nan_count": 0,
                    "min": "-2.94354779071974",
                    "max": "-0.0033462959955453",
                    "histogram": [
                      {
                        "bin_start": -2.94354779071974,
                        "bin_end": -2.6495276412473205,
                        "count": 1
                      },
                      {
                        "bin_start": -2.6495276412473205,
                        "bin_end": -2.355507491774901,
                        "count": 0
                      },
                      {
                        "bin_start": -2.355507491774901,
                        "bin_end": -2.061487342302482,
                        "count": 0
                      },
                      {
                        "bin_start": -2.061487342302482,
                        "bin_end": -1.7674671928300623,
                        "count": 1
                      },
                      {
                        "bin_start": -1.7674671928300623,
                        "bin_end": -1.4734470433576428,
                        "count": 0
                      },
                      {
                        "bin_start": -1.4734470433576428,
                        "bin_end": -1.1794268938852235,
                        "count": 1
                      },
                      {
                        "bin_start": -1.1794268938852235,
                        "bin_end": -0.885406744412804,
                        "count": 0
                      },
                      {
                        "bin_start": -0.885406744412804,
                        "bin_end": -0.5913865949403845,
                        "count": 0
                      },
                      {
                        "bin_start": -0.5913865949403845,
                        "bin_end": -0.297366445467965,
                        "count": 0
                      },
                      {
                        "bin_start": -0.297366445467965,
                        "bin_end": -0.0033462959955453,
                        "count": 2
                      }
                    ]
                  }
                },
                {
                  "name": "V7",
                  "dtype": "float64",
                  "stats": {
                    "unique_count": 5,
                    "nan_count": 0,
                    "min": "-2.23473929608742",
                    "max": "0.223050267455537",
                    "histogram": [
                      {
                        "bin_start": -2.23473929608742,
                        "bin_end": -1.9889603397331244,
                        "count": 2
                      },
                      {
                        "bin_start": -1.9889603397331244,
                        "bin_end": -1.7431813833788288,
                        "count": 0
                      },
                      {
                        "bin_start": -1.7431813833788288,
                        "bin_end": -1.497402427024533,
                        "count": 0
                      },
                      {
                        "bin_start": -1.497402427024533,
                        "bin_end": -1.2516234706702374,
                        "count": 1
                      },
                      {
                        "bin_start": -1.2516234706702374,
                        "bin_end": -1.0058445143159416,
                        "count": 0
                      },
                      {
                        "bin_start": -1.0058445143159416,
                        "bin_end": -0.7600655579616458,
                        "count": 1
                      },
                      {
                        "bin_start": -0.7600655579616458,
                        "bin_end": -0.5142866016073502,
                        "count": 0
                      },
                      {
                        "bin_start": -0.5142866016073502,
                        "bin_end": -0.2685076452530544,
                        "count": 0
                      },
                      {
                        "bin_start": -0.2685076452530544,
                        "bin_end": -0.022728688898758787,
                        "count": 0
                      },
                      {
                        "bin_start": -0.022728688898758787,
                        "bin_end": 0.223050267455537,
                        "count": 1
                      }
                    ]
                  }
                },
                {
                  "name": "V8",
                  "dtype": "float64",
                  "stats": {
                    "unique_count": 5,
                    "nan_count": 0,
                    "min": "-0.0683838777747007",
                    "max": "1.21015796383769",
                    "histogram": [
                      {
                        "bin_start": -0.0683838777747007,
                        "bin_end": 0.059470306386538385,
                        "count": 1
                      },
                      {
                        "bin_start": 0.059470306386538385,
                        "bin_end": 0.18732449054777747,
                        "count": 0
                      },
                      {
                        "bin_start": 0.18732449054777747,
                        "bin_end": 0.3151786747090166,
                        "count": 1
                      },
                      {
                        "bin_start": 0.3151786747090166,
                        "bin_end": 0.4430328588702557,
                        "count": 0
                      },
                      {
                        "bin_start": 0.4430328588702557,
                        "bin_end": 0.5708870430314947,
                        "count": 0
                      },
                      {
                        "bin_start": 0.5708870430314947,
                        "bin_end": 0.6987412271927339,
                        "count": 1
                      },
                      {
                        "bin_start": 0.6987412271927339,
                        "bin_end": 0.826595411353973,
                        "count": 0
                      },
                      {
                        "bin_start": 0.826595411353973,
                        "bin_end": 0.954449595515212,
                        "count": 0
                      },
                      {
                        "bin_start": 0.954449595515212,
                        "bin_end": 1.082303779676451,
                        "count": 1
                      },
                      {
                        "bin_start": 1.082303779676451,
                        "bin_end": 1.21015796383769,
                        "count": 1
                      }
                    ]
                  }
                },
                {
                  "name": "V9",
                  "dtype": "float64",
                  "stats": {
                    "unique_count": 5,
                    "nan_count": 0,
                    "min": "-2.0649452874475",
                    "max": "0.577829383844873",
                    "histogram": [
                      {
                        "bin_start": -2.0649452874475,
                        "bin_end": -1.8006678203182624,
                        "count": 1
                      },
                      {
                        "bin_start": -1.8006678203182624,
                        "bin_end": -1.5363903531890253,
                        "count": 1
                      },
                      {
                        "bin_start": -1.5363903531890253,
                        "bin_end": -1.2721128860597881,
                        "count": 0
                      },
                      {
                        "bin_start": -1.2721128860597881,
                        "bin_end": -1.0078354189305507,
                        "count": 1
                      },
                      {
                        "bin_start": -1.0078354189305507,
                        "bin_end": -0.7435579518013133,
                        "count": 0
                      },
                      {
                        "bin_start": -0.7435579518013133,
                        "bin_end": -0.4792804846720762,
                        "count": 1
                      },
                      {
                        "bin_start": -0.4792804846720762,
                        "bin_end": -0.21500301754283901,
                        "count": 0
                      },
                      {
                        "bin_start": -0.21500301754283901,
                        "bin_end": 0.04927444958639837,
                        "count": 0
                      },
                      {
                        "bin_start": 0.04927444958639837,
                        "bin_end": 0.31355191671563576,
                        "count": 0
                      },
                      {
                        "bin_start": 0.31355191671563576,
                        "bin_end": 0.577829383844873,
                        "count": 1
                      }
                    ]
                  }
                },
                {
                  "name": "V10",
                  "dtype": "float64",
                  "stats": {
                    "unique_count": 5,
                    "nan_count": 0,
                    "min": "-5.58779378195338",
                    "max": "-0.888721675865145",
                    "histogram": [
                      {
                        "bin_start": -5.58779378195338,
                        "bin_end": -5.117886571344556,
                        "count": 2
                      },
                      {
                        "bin_start": -5.117886571344556,
                        "bin_end": -4.647979360735733,
                        "count": 0
                      },
                      {
                        "bin_start": -4.647979360735733,
                        "bin_end": -4.178072150126909,
                        "count": 0
                      },
                      {
                        "bin_start": -4.178072150126909,
                        "bin_end": -3.708164939518086,
                        "count": 0
                      },
                      {
                        "bin_start": -3.708164939518086,
                        "bin_end": -3.2382577289092627,
                        "count": 1
                      },
                      {
                        "bin_start": -3.2382577289092627,
                        "bin_end": -2.768350518300439,
                        "count": 1
                      },
                      {
                        "bin_start": -2.768350518300439,
                        "bin_end": -2.2984433076916155,
                        "count": 0
                      },
                      {
                        "bin_start": -2.2984433076916155,
                        "bin_end": -1.8285360970827922,
                        "count": 0
                      },
                      {
                        "bin_start": -1.8285360970827922,
                        "bin_end": -1.3586288864739684,
                        "count": 0
                      },
                      {
                        "bin_start": -1.3586288864739684,
                        "bin_end": -0.888721675865145,
                        "count": 1
                      }
                    ]
                  }
                },
                {
                  "name": "V11",
                  "dtype": "float64",
                  "stats": {
                    "unique_count": 5,
                    "nan_count": 0,
                    "min": "0.491140241656789",
                    "max": "2.8584658156696",
                    "histogram": [
                      {
                        "bin_start": 0.491140241656789,
                        "bin_end": 0.7278727990580701,
                        "count": 1
                      },
                      {
                        "bin_start": 0.7278727990580701,
                        "bin_end": 0.9646053564593513,
                        "count": 0
                      },
                      {
                        "bin_start": 0.9646053564593513,
                        "bin_end": 1.2013379138606324,
                        "count": 0
                      },
                      {
                        "bin_start": 1.2013379138606324,
                        "bin_end": 1.4380704712619135,
                        "count": 0
                      },
                      {
                        "bin_start": 1.4380704712619135,
                        "bin_end": 1.6748030286631945,
                        "count": 0
                      },
                      {
                        "bin_start": 1.6748030286631945,
                        "bin_end": 1.9115355860644758,
                        "count": 1
                      },
                      {
                        "bin_start": 1.9115355860644758,
                        "bin_end": 2.148268143465757,
                        "count": 2
                      },
                      {
                        "bin_start": 2.148268143465757,
                        "bin_end": 2.385000700867038,
                        "count": 0
                      },
                      {
                        "bin_start": 2.385000700867038,
                        "bin_end": 2.621733258268319,
                        "count": 0
                      },
                      {
                        "bin_start": 2.621733258268319,
                        "bin_end": 2.8584658156696,
                        "count": 1
                      }
                    ]
                  }
                },
                {
                  "name": "V12",
                  "dtype": "float64",
                  "stats": {
                    "unique_count": 5,
                    "nan_count": 0,
                    "min": "-5.4174240819973",
                    "max": "0.728903319843614",
                    "histogram": [
                      {
                        "bin_start": -5.4174240819973,
                        "bin_end": -4.802791341813209,
                        "count": 2
                      },
                      {
                        "bin_start": -4.802791341813209,
                        "bin_end": -4.188158601629118,
                        "count": 0
                      },
                      {
                        "bin_start": -4.188158601629118,
                        "bin_end": -3.5735258614450256,
                        "count": 0
                      },
                      {
                        "bin_start": -3.5735258614450256,
                        "bin_end": -2.9588931212609344,
                        "count": 1
                      },
                      {
                        "bin_start": -2.9588931212609344,
                        "bin_end": -2.344260381076843,
                        "count": 1
                      },
                      {
                        "bin_start": -2.344260381076843,
                        "bin_end": -1.7296276408927516,
                        "count": 0
                      },
                      {
                        "bin_start": -1.7296276408927516,
                        "bin_end": -1.11499490070866,
                        "count": 0
                      },
                      {
                        "bin_start": -1.11499490070866,
                        "bin_end": -0.5003621605245687,
                        "count": 0
                      },
                      {
                        "bin_start": -0.5003621605245687,
                        "bin_end": 0.11427057965952248,
                        "count": 0
                      },
                      {
                        "bin_start": 0.11427057965952248,
                        "bin_end": 0.728903319843614,
                        "count": 1
                      }
                    ]
                  }
                },
                {
                  "name": "V13",
                  "dtype": "float64",
                  "stats": {
                    "unique_count": 5,
                    "nan_count": 0,
                    "min": "-1.23512263142388",
                    "max": "0.380428045513993",
                    "histogram": [
                      {
                        "bin_start": -1.23512263142388,
                        "bin_end": -1.0735675637300925,
                        "count": 2
                      },
                      {
                        "bin_start": -1.0735675637300925,
                        "bin_end": -0.9120124960363053,
                        "count": 0
                      },
                      {
                        "bin_start": -0.9120124960363053,
                        "bin_end": -0.750457428342518,
                        "count": 1
                      },
                      {
                        "bin_start": -0.750457428342518,
                        "bin_end": -0.5889023606487307,
                        "count": 0
                      },
                      {
                        "bin_start": -0.5889023606487307,
                        "bin_end": -0.42734729295494334,
                        "count": 0
                      },
                      {
                        "bin_start": -0.42734729295494334,
                        "bin_end": -0.2657922252611561,
                        "count": 1
                      },
                      {
                        "bin_start": -0.2657922252611561,
                        "bin_end": -0.10423715756736884,
                        "count": 0
                      },
                      {
                        "bin_start": -0.10423715756736884,
                        "bin_end": 0.057317910126418514,
                        "count": 0
                      },
                      {
                        "bin_start": 0.057317910126418514,
                        "bin_end": 0.21887297782020587,
                        "count": 0
                      },
                      {
                        "bin_start": 0.21887297782020587,
                        "bin_end": 0.380428045513993,
                        "count": 1
                      }
                    ]
                  }
                },
                {
                  "name": "V14",
                  "dtype": "float64",
                  "stats": {
                    "unique_count": 5,
                    "nan_count": 0,
                    "min": "-6.66517689463338",
                    "max": "-1.94888334870021",
                    "histogram": [
                      {
                        "bin_start": -6.66517689463338,
                        "bin_end": -6.193547540040063,
                        "count": 2
                      },
                      {
                        "bin_start": -6.193547540040063,
                        "bin_end": -5.721918185446746,
                        "count": 0
                      },
                      {
                        "bin_start": -5.721918185446746,
                        "bin_end": -5.250288830853429,
                        "count": 0
                      },
                      {
                        "bin_start": -5.250288830853429,
                        "bin_end": -4.778659476260112,
                        "count": 1
                      },
                      {
                        "bin_start": -4.778659476260112,
                        "bin_end": -4.307030121666795,
                        "count": 0
                      },
                      {
                        "bin_start": -4.307030121666795,
                        "bin_end": -3.8354007670734784,
                        "count": 1
                      },
                      {
                        "bin_start": -3.8354007670734784,
                        "bin_end": -3.3637714124801614,
                        "count": 0
                      },
                      {
                        "bin_start": -3.3637714124801614,
                        "bin_end": -2.8921420578868444,
                        "count": 0
                      },
                      {
                        "bin_start": -2.8921420578868444,
                        "bin_end": -2.420512703293528,
                        "count": 0
                      },
                      {
                        "bin_start": -2.420512703293528,
                        "bin_end": -1.94888334870021,
                        "count": 1
                      }
                    ]
                  }
                },
                {
                  "name": "V15",
                  "dtype": "float64",
                  "stats": {
                    "unique_count": 5,
                    "nan_count": 0,
                    "min": "-0.832498136300872",
                    "max": "0.401700686738171",
                    "histogram": [
                      {
                        "bin_start": -0.832498136300872,
                        "bin_end": -0.7090782539969677,
                        "count": 2
                      },
                      {
                        "bin_start": -0.7090782539969677,
                        "bin_end": -0.5856583716930635,
                        "count": 1
                      },
                      {
                        "bin_start": -0.5856583716930635,
                        "bin_end": -0.4622384893891591,
                        "count": 0
                      },
                      {
                        "bin_start": -0.4622384893891591,
                        "bin_end": -0.3388186070852548,
                        "count": 0
                      },
                      {
                        "bin_start": -0.3388186070852548,
                        "bin_end": -0.21539872478135047,
                        "count": 0
                      },
                      {
                        "bin_start": -0.21539872478135047,
                        "bin_end": -0.09197884247744625,
                        "count": 0
                      },
                      {
                        "bin_start": -0.09197884247744625,
                        "bin_end": 0.03144103982645807,
                        "count": 0
                      },
                      {
                        "bin_start": 0.03144103982645807,
                        "bin_end": 0.1548609221303624,
                        "count": 1
                      },
                      {
                        "bin_start": 0.1548609221303624,
                        "bin_end": 0.2782808044342667,
                        "count": 0
                      },
                      {
                        "bin_start": 0.2782808044342667,
                        "bin_end": 0.401700686738171,
                        "count": 1
                      }
                    ]
                  }
                },
                {
                  "name": "V16",
                  "dtype": "float64",
                  "stats": {
                    "unique_count": 5,
                    "nan_count": 0,
                    "min": "-2.89782511671737",
                    "max": "0.519435549203291",
                    "histogram": [
                      {
                        "bin_start": -2.89782511671737,
                        "bin_end": -2.556099050125304,
                        "count": 1
                      },
                      {
                        "bin_start": -2.556099050125304,
                        "bin_end": -2.214372983533238,
                        "count": 1
                      },
                      {
                        "bin_start": -2.214372983533238,
                        "bin_end": -1.8726469169411717,
                        "count": 1
                      },
                      {
                        "bin_start": -1.8726469169411717,
                        "bin_end": -1.5309208503491056,
                        "count": 1
                      },
                      {
                        "bin_start": -1.5309208503491056,
                        "bin_end": -1.1891947837570396,
                        "count": 0
                      },
                      {
                        "bin_start": -1.1891947837570396,
                        "bin_end": -0.8474687171649733,
                        "count": 0
                      },
                      {
                        "bin_start": -0.8474687171649733,
                        "bin_end": -0.5057426505729072,
                        "count": 0
                      },
                      {
                        "bin_start": -0.5057426505729072,
                        "bin_end": -0.16401658398084118,
                        "count": 0
                      },
                      {
                        "bin_start": -0.16401658398084118,
                        "bin_end": 0.17770948261122488,
                        "count": 0
                      },
                      {
                        "bin_start": 0.17770948261122488,
                        "bin_end": 0.519435549203291,
                        "count": 1
                      }
                    ]
                  }
                },
                {
                  "name": "V17",
                  "dtype": "float64",
                  "stats": {
                    "unique_count": 5,
                    "nan_count": 0,
                    "min": "-5.03532591722409",
                    "max": "0.903562376617253",
                    "histogram": [
                      {
                        "bin_start": -5.03532591722409,
                        "bin_end": -4.441437087839955,
                        "count": 3
                      },
                      {
                        "bin_start": -4.441437087839955,
                        "bin_end": -3.8475482584558214,
                        "count": 0
                      },
                      {
                        "bin_start": -3.8475482584558214,
                        "bin_end": -3.2536594290716874,
                        "count": 1
                      },
                      {
                        "bin_start": -3.2536594290716874,
                        "bin_end": -2.659770599687553,
                        "count": 0
                      },
                      {
                        "bin_start": -2.659770599687553,
                        "bin_end": -2.0658817703034185,
                        "count": 0
                      },
                      {
                        "bin_start": -2.0658817703034185,
                        "bin_end": -1.4719929409192845,
                        "count": 0
                      },
                      {
                        "bin_start": -1.4719929409192845,
                        "bin_end": -0.8781041115351504,
                        "count": 0
                      },
                      {
                        "bin_start": -0.8781041115351504,
                        "bin_end": -0.284215282151016,
                        "count": 0
                      },
                      {
                        "bin_start": -0.284215282151016,
                        "bin_end": 0.30967354723311846,
                        "count": 0
                      },
                      {
                        "bin_start": 0.30967354723311846,
                        "bin_end": 0.903562376617253,
                        "count": 1
                      }
                    ]
                  }
                },
                {
                  "name": "V18",
                  "dtype": "float64",
                  "stats": {
                    "unique_count": 5,
                    "nan_count": 0,
                    "min": "-1.47813794126038",
                    "max": "1.19731471799372",
                    "histogram": [
                      {
                        "bin_start": -1.47813794126038,
                        "bin_end": -1.2105926753349698,
                        "count": 2
                      },
                      {
                        "bin_start": -1.2105926753349698,
                        "bin_end": -0.9430474094095599,
                        "count": 0
                      },
                      {
                        "bin_start": -0.9430474094095599,
                        "bin_end": -0.6755021434841499,
                        "count": 1
                      },
                      {
                        "bin_start": -0.6755021434841499,
                        "bin_end": -0.4079568775587399,
                        "count": 1
                      },
                      {
                        "bin_start": -0.4079568775587399,
                        "bin_end": -0.14041161163332982,
                        "count": 0
                      },
                      {
                        "bin_start": -0.14041161163332982,
                        "bin_end": 0.12713365429208,
                        "count": 0
                      },
                      {
                        "bin_start": 0.12713365429208,
                        "bin_end": 0.39467892021749007,
                        "count": 0
                      },
                      {
                        "bin_start": 0.39467892021749007,
                        "bin_end": 0.6622241861429001,
                        "count": 0
                      },
                      {
                        "bin_start": 0.6622241861429001,
                        "bin_end": 0.92976945206831,
                        "count": 0
                      },
                      {
                        "bin_start": 0.92976945206831,
                        "bin_end": 1.19731471799372,
                        "count": 1
                      }
                    ]
                  }
                },
                {
                  "name": "V19",
                  "dtype": "float64",
                  "stats": {
                    "unique_count": 5,
                    "nan_count": 0,
                    "min": "-0.0354803664667244",
                    "max": "0.737657217477667",
                    "histogram": [
                      {
                        "bin_start": -0.0354803664667244,
                        "bin_end": 0.04183339192771473,
                        "count": 1
                      },
                      {
                        "bin_start": 0.04183339192771473,
                        "bin_end": 0.11914715032215387,
                        "count": 0
                      },
                      {
                        "bin_start": 0.11914715032215387,
                        "bin_end": 0.196460908716593,
                        "count": 0
                      },
                      {
                        "bin_start": 0.196460908716593,
                        "bin_end": 0.2737746671110321,
                        "count": 1
                      },
                      {
                        "bin_start": 0.2737746671110321,
                        "bin_end": 0.3510884255054712,
                        "count": 0
                      },
                      {
                        "bin_start": 0.3510884255054712,
                        "bin_end": 0.42840218389991036,
                        "count": 1
                      },
                      {
                        "bin_start": 0.42840218389991036,
                        "bin_end": 0.5057159422943496,
                        "count": 0
                      },
                      {
                        "bin_start": 0.5057159422943496,
                        "bin_end": 0.5830297006887887,
                        "count": 0
                      },
                      {
                        "bin_start": 0.5830297006887887,
                        "bin_end": 0.6603434590832278,
                        "count": 1
                      },
                      {
                        "bin_start": 0.6603434590832278,
                        "bin_end": 0.737657217477667,
                        "count": 1
                      }
                    ]
                  }
                },
                {
                  "name": "V20",
                  "dtype": "float64",
                  "stats": {
                    "unique_count": 5,
                    "nan_count": 0,
                    "min": "-0.0176522567052908",
                    "max": "1.25296673470361",
                    "histogram": [
                      {
                        "bin_start": -0.0176522567052908,
                        "bin_end": 0.10940964243559928,
                        "count": 1
                      },
                      {
                        "bin_start": 0.10940964243559928,
                        "bin_end": 0.23647154157648936,
                        "count": 1
                      },
                      {
                        "bin_start": 0.23647154157648936,
                        "bin_end": 0.3635334407173795,
                        "count": 2
                      },
                      {
                        "bin_start": 0.3635334407173795,
                        "bin_end": 0.49059533985826953,
                        "count": 0
                      },
                      {
                        "bin_start": 0.49059533985826953,
                        "bin_end": 0.6176572389991596,
                        "count": 0
                      },
                      {
                        "bin_start": 0.6176572389991596,
                        "bin_end": 0.7447191381400498,
                        "count": 0
                      },
                      {
                        "bin_start": 0.7447191381400498,
                        "bin_end": 0.8717810372809398,
                        "count": 0
                      },
                      {
                        "bin_start": 0.8717810372809398,
                        "bin_end": 0.9988429364218299,
                        "count": 0
                      },
                      {
                        "bin_start": 0.9988429364218299,
                        "bin_end": 1.12590483556272,
                        "count": 0
                      },
                      {
                        "bin_start": 1.12590483556272,
                        "bin_end": 1.25296673470361,
                        "count": 1
                      }
                    ]
                  }
                },
                {
                  "name": "V21",
                  "dtype": "float64",
                  "stats": {
                    "unique_count": 5,
                    "nan_count": 0,
                    "min": "-0.164350327825504",
                    "max": "0.778583978950071",
                    "histogram": [
                      {
                        "bin_start": -0.164350327825504,
                        "bin_end": -0.0700568971479465,
                        "count": 1
                      },
                      {
                        "bin_start": -0.0700568971479465,
                        "bin_end": 0.024236533529611,
                        "count": 0
                      },
                      {
                        "bin_start": 0.024236533529611,
                        "bin_end": 0.11852996420716852,
                        "count": 0
                      },
                      {
                        "bin_start": 0.11852996420716852,
                        "bin_end": 0.21282339488472599,
                        "count": 0
                      },
                      {
                        "bin_start": 0.21282339488472599,
                        "bin_end": 0.3071168255622835,
                        "count": 0
                      },
                      {
                        "bin_start": 0.3071168255622835,
                        "bin_end": 0.40141025623984106,
                        "count": 1
                      },
                      {
                        "bin_start": 0.40141025623984106,
                        "bin_end": 0.4957036869173985,
                        "count": 0
                      },
                      {
                        "bin_start": 0.4957036869173985,
                        "bin_end": 0.589997117594956,
                        "count": 1
                      },
                      {
                        "bin_start": 0.589997117594956,
                        "bin_end": 0.6842905482725135,
                        "count": 0
                      },
                      {
                        "bin_start": 0.6842905482725135,
                        "bin_end": 0.778583978950071,
                        "count": 2
                      }
                    ]
                  }
                },
                {
                  "name": "V22",
                  "dtype": "float64",
                  "stats": {
                    "unique_count": 5,
                    "nan_count": 0,
                    "min": "-0.319188818860513",
                    "max": "0.834107690036367",
                    "histogram": [
                      {
                        "bin_start": -0.319188818860513,
                        "bin_end": -0.20385916797082498,
                        "count": 3
                      },
                      {
                        "bin_start": -0.20385916797082498,
                        "bin_end": -0.08852951708113702,
                        "count": 0
                      },
                      {
                        "bin_start": -0.08852951708113702,
                        "bin_end": 0.026800133808550952,
                        "count": 0
                      },
                      {
                        "bin_start": 0.026800133808550952,
                        "bin_end": 0.14212978469823895,
                        "count": 1
                      },
                      {
                        "bin_start": 0.14212978469823895,
                        "bin_end": 0.25745943558792694,
                        "count": 0
                      },
                      {
                        "bin_start": 0.25745943558792694,
                        "bin_end": 0.3727890864776149,
                        "count": 0
                      },
                      {
                        "bin_start": 0.3727890864776149,
                        "bin_end": 0.48811873736730294,
                        "count": 0
                      },
                      {
                        "bin_start": 0.48811873736730294,
                        "bin_end": 0.6034483882569909,
                        "count": 0
                      },
                      {
                        "bin_start": 0.6034483882569909,
                        "bin_end": 0.7187780391466789,
                        "count": 0
                      },
                      {
                        "bin_start": 0.7187780391466789,
                        "bin_end": 0.834107690036367,
                        "count": 1
                      }
                    ]
                  }
                },
                {
                  "name": "V23",
                  "dtype": "float64",
                  "stats": {
                    "unique_count": 5,
                    "nan_count": 0,
                    "min": "-0.456107772584008",
                    "max": "0.639418961153121",
                    "histogram": [
                      {
                        "bin_start": -0.456107772584008,
                        "bin_end": -0.34655509921029504,
                        "count": 1
                      },
                      {
                        "bin_start": -0.34655509921029504,
                        "bin_end": -0.23700242583658215,
                        "count": 0
                      },
                      {
                        "bin_start": -0.23700242583658215,
                        "bin_end": -0.12744975246286921,
                        "count": 1
                      },
                      {
                        "bin_start": -0.12744975246286921,
                        "bin_end": -0.01789707908915633,
                        "count": 1
                      },
                      {
                        "bin_start": -0.01789707908915633,
                        "bin_end": 0.09165559428455655,
                        "count": 0
                      },
                      {
                        "bin_start": 0.09165559428455655,
                        "bin_end": 0.20120826765826955,
                        "count": 1
                      },
                      {
                        "bin_start": 0.20120826765826955,
                        "bin_end": 0.31076094103198243,
                        "count": 0
                      },
                      {
                        "bin_start": 0.31076094103198243,
                        "bin_end": 0.4203136144056953,
                        "count": 0
                      },
                      {
                        "bin_start": 0.4203136144056953,
                        "bin_end": 0.5298662877794083,
                        "count": 0
                      },
                      {
                        "bin_start": 0.5298662877794083,
                        "bin_end": 0.639418961153121,
                        "count": 1
                      }
                    ]
                  }
                },
                {
                  "name": "V24",
                  "dtype": "float64",
                  "stats": {
                    "unique_count": 5,
                    "nan_count": 0,
                    "min": "-0.450261313423321",
                    "max": "0.0320700856093905",
                    "histogram": [
                      {
                        "bin_start": -0.450261313423321,
                        "bin_end": -0.4020281735200498,
                        "count": 1
                      },
                      {
                        "bin_start": -0.4020281735200498,
                        "bin_end": -0.35379503361677866,
                        "count": 0
                      },
                      {
                        "bin_start": -0.35379503361677866,
                        "bin_end": -0.30556189371350756,
                        "count": 0
                      },
                      {
                        "bin_start": -0.30556189371350756,
                        "bin_end": -0.2573287538102364,
                        "count": 1
                      },
                      {
                        "bin_start": -0.2573287538102364,
                        "bin_end": -0.20909561390696524,
                        "count": 0
                      },
                      {
                        "bin_start": -0.20909561390696524,
                        "bin_end": -0.16086247400369413,
                        "count": 1
                      },
                      {
                        "bin_start": -0.16086247400369413,
                        "bin_end": -0.11262933410042297,
                        "count": 0
                      },
                      {
                        "bin_start": -0.11262933410042297,
                        "bin_end": -0.06439619419715181,
                        "count": 1
                      },
                      {
                        "bin_start": -0.06439619419715181,
                        "bin_end": -0.016163054293880652,
                        "count": 0
                      },
                      {
                        "bin_start": -0.016163054293880652,
                        "bin_end": 0.0320700856093905,
                        "count": 1
                      }
                    ]
                  }
                },
                {
                  "name": "V25",
                  "dtype": "float64",
                  "stats": {
                    "unique_count": 5,
                    "nan_count": 0,
                    "min": "-0.739694822652264",
                    "max": "0.537502535542985",
                    "histogram": [
                      {
                        "bin_start": -0.739694822652264,
                        "bin_end": -0.6119750868327392,
                        "count": 1
                      },
                      {
                        "bin_start": -0.6119750868327392,
                        "bin_end": -0.4842553510132142,
                        "count": 0
                      },
                      {
                        "bin_start": -0.4842553510132142,
                        "bin_end": -0.35653561519368926,
                        "count": 0
                      },
                      {
                        "bin_start": -0.35653561519368926,
                        "bin_end": -0.22881587937416437,
                        "count": 1
                      },
                      {
                        "bin_start": -0.22881587937416437,
                        "bin_end": -0.10109614355463947,
                        "count": 0
                      },
                      {
                        "bin_start": -0.10109614355463947,
                        "bin_end": 0.02662359226488553,
                        "count": 0
                      },
                      {
                        "bin_start": 0.02662359226488553,
                        "bin_end": 0.15434332808441042,
                        "count": 0
                      },
                      {
                        "bin_start": 0.15434332808441042,
                        "bin_end": 0.2820630639039353,
                        "count": 0
                      },
                      {
                        "bin_start": 0.2820630639039353,
                        "bin_end": 0.4097827997234603,
                        "count": 1
                      },
                      {
                        "bin_start": 0.4097827997234603,
                        "bin_end": 0.537502535542985,
                        "count": 2
                      }
                    ]
                  }
                },
                {
                  "name": "V26",
                  "dtype": "float64",
                  "stats": {
                    "unique_count": 5,
                    "nan_count": 0,
                    "min": "-0.289616585696882",
                    "max": "0.788395056528708",
                    "histogram": [
                      {
                        "bin_start": -0.289616585696882,
                        "bin_end": -0.18181542147432297,
                        "count": 1
                      },
                      {
                        "bin_start": -0.18181542147432297,
                        "bin_end": -0.07401425725176397,
                        "count": 0
                      },
                      {
                        "bin_start": -0.07401425725176397,
                        "bin_end": 0.033786906970795005,
                        "count": 0
                      },
                      {
                        "bin_start": 0.033786906970795005,
                        "bin_end": 0.14158807119335404,
                        "count": 0
                      },
                      {
                        "bin_start": 0.14158807119335404,
                        "bin_end": 0.24938923541591307,
                        "count": 0
                      },
                      {
                        "bin_start": 0.24938923541591307,
                        "bin_end": 0.357190399638472,
                        "count": 0
                      },
                      {
                        "bin_start": 0.357190399638472,
                        "bin_end": 0.464991563861031,
                        "count": 0
                      },
                      {
                        "bin_start": 0.464991563861031,
                        "bin_end": 0.57279272808359,
                        "count": 1
                      },
                      {
                        "bin_start": 0.57279272808359,
                        "bin_end": 0.6805938923061491,
                        "count": 1
                      },
                      {
                        "bin_start": 0.6805938923061491,
                        "bin_end": 0.788395056528708,
                        "count": 2
                      }
                    ]
                  }
                },
                {
                  "name": "V27",
                  "dtype": "float64",
                  "stats": {
                    "unique_count": 5,
                    "nan_count": 0,
                    "min": "0.002987582243429",
                    "max": "0.884875539542905",
                    "histogram": [
                      {
                        "bin_start": 0.002987582243429,
                        "bin_end": 0.0911763779733766,
                        "count": 1
                      },
                      {
                        "bin_start": 0.0911763779733766,
                        "bin_end": 0.1793651737033242,
                        "count": 0
                      },
                      {
                        "bin_start": 0.1793651737033242,
                        "bin_end": 0.2675539694332718,
                        "count": 0
                      },
                      {
                        "bin_start": 0.2675539694332718,
                        "bin_end": 0.3557427651632194,
                        "count": 1
                      },
                      {
                        "bin_start": 0.3557427651632194,
                        "bin_end": 0.443931560893167,
                        "count": 2
                      },
                      {
                        "bin_start": 0.443931560893167,
                        "bin_end": 0.5321203566231146,
                        "count": 0
                      },
                      {
                        "bin_start": 0.5321203566231146,
                        "bin_end": 0.6203091523530622,
                        "count": 0
                      },
                      {
                        "bin_start": 0.6203091523530622,
                        "bin_end": 0.7084979480830098,
                        "count": 0
                      },
                      {
                        "bin_start": 0.7084979480830098,
                        "bin_end": 0.7966867438129575,
                        "count": 0
                      },
                      {
                        "bin_start": 0.7966867438129575,
                        "bin_end": 0.884875539542905,
                        "count": 1
                      }
                    ]
                  }
                },
                {
                  "name": "V28",
                  "dtype": "float64",
                  "stats": {
                    "unique_count": 5,
                    "nan_count": 0,
                    "min": "-0.253700318894381",
                    "max": "0.19436147923645",
                    "histogram": [
                      {
                        "bin_start": -0.253700318894381,
                        "bin_end": -0.2088941390812979,
                        "count": 1
                      },
                      {
                        "bin_start": -0.2088941390812979,
                        "bin_end": -0.1640879592682148,
                        "count": 0
                      },
                      {
                        "bin_start": -0.1640879592682148,
                        "bin_end": -0.11928177945513169,
                        "count": 0
                      },
                      {
                        "bin_start": -0.11928177945513169,
                        "bin_end": -0.07447559964204858,
                        "count": 0
                      },
                      {
                        "bin_start": -0.07447559964204858,
                        "bin_end": -0.029669419828965482,
                        "count": 0
                      },
                      {
                        "bin_start": -0.029669419828965482,
                        "bin_end": 0.01513675998411762,
                        "count": 1
                      },
                      {
                        "bin_start": 0.01513675998411762,
                        "bin_end": 0.05994293979720072,
                        "count": 0
                      },
                      {
                        "bin_start": 0.05994293979720072,
                        "bin_end": 0.10474911961028383,
                        "count": 0
                      },
                      {
                        "bin_start": 0.10474911961028383,
                        "bin_end": 0.14955529942336693,
                        "count": 1
                      },
                      {
                        "bin_start": 0.14955529942336693,
                        "bin_end": 0.19436147923645,
                        "count": 2
                      }
                    ]
                  }
                },
                {
                  "name": "Amount",
                  "dtype": "float64",
                  "stats": {
                    "unique_count": 5,
                    "nan_count": 0,
                    "min": "0.76",
                    "max": "390.0",
                    "histogram": [
                      {
                        "bin_start": 0.76,
                        "bin_end": 39.684,
                        "count": 1
                      },
                      {
                        "bin_start": 39.684,
                        "bin_end": 78.608,
                        "count": 2
                      },
                      {
                        "bin_start": 78.608,
                        "bin_end": 117.532,
                        "count": 0
                      },
                      {
                        "bin_start": 117.532,
                        "bin_end": 156.456,
                        "count": 0
                      },
                      {
                        "bin_start": 156.456,
                        "bin_end": 195.38,
                        "count": 0
                      },
                      {
                        "bin_start": 195.38,
                        "bin_end": 234.30399999999997,
                        "count": 0
                      },
                      {
                        "bin_start": 234.30399999999997,
                        "bin_end": 273.228,
                        "count": 1
                      },
                      {
                        "bin_start": 273.228,
                        "bin_end": 312.152,
                        "count": 0
                      },
                      {
                        "bin_start": 312.152,
                        "bin_end": 351.07599999999996,
                        "count": 0
                      },
                      {
                        "bin_start": 351.07599999999996,
                        "bin_end": 390,
                        "count": 1
                      }
                    ]
                  }
                },
                {
                  "name": "Class",
                  "dtype": "int64",
                  "stats": {
                    "unique_count": 1,
                    "nan_count": 0,
                    "min": "1",
                    "max": "1",
                    "histogram": [
                      {
                        "bin_start": 0.5,
                        "bin_end": 0.6,
                        "count": 0
                      },
                      {
                        "bin_start": 0.6,
                        "bin_end": 0.7,
                        "count": 0
                      },
                      {
                        "bin_start": 0.7,
                        "bin_end": 0.8,
                        "count": 0
                      },
                      {
                        "bin_start": 0.8,
                        "bin_end": 0.9,
                        "count": 0
                      },
                      {
                        "bin_start": 0.9,
                        "bin_end": 1,
                        "count": 0
                      },
                      {
                        "bin_start": 1,
                        "bin_end": 1.1,
                        "count": 5
                      },
                      {
                        "bin_start": 1.1,
                        "bin_end": 1.2000000000000002,
                        "count": 0
                      },
                      {
                        "bin_start": 1.2000000000000002,
                        "bin_end": 1.3,
                        "count": 0
                      },
                      {
                        "bin_start": 1.3,
                        "bin_end": 1.4,
                        "count": 0
                      },
                      {
                        "bin_start": 1.4,
                        "bin_end": 1.5,
                        "count": 0
                      }
                    ]
                  }
                },
                {
                  "name": "_deepnote_index_column",
                  "dtype": "int64"
                }
              ],
              "rows": [
                {
                  "Time": 169142,
                  "V1": -1.92788332105459,
                  "V2": 1.12565266367046,
                  "V3": -4.51833064132991,
                  "V4": 1.74929253346589,
                  "V5": -1.56648729197754,
                  "V6": -2.01049423115212,
                  "V7": -0.882849830858081,
                  "V8": 0.697211109261327,
                  "V9": -2.0649452874475,
                  "V10": -5.58779378195338,
                  "V11": 2.1157951772133,
                  "V12": -5.4174240819973,
                  "V13": -1.23512263142388,
                  "V14": -6.66517689463338,
                  "V15": 0.401700686738171,
                  "V16": -2.89782511671737,
                  "V17": -4.57052943365069,
                  "V18": -1.31514721385427,
                  "V19": 0.391167040935071,
                  "V20": 1.25296673470361,
                  "V21": 0.778583978950071,
                  "V22": -0.319188818860513,
                  "V23": 0.639418961153121,
                  "V24": -0.294885040380029,
                  "V25": 0.537502535542985,
                  "V26": 0.788395056528708,
                  "V27": 0.292679966295281,
                  "V28": 0.147967928722538,
                  "Amount": 390,
                  "Class": 1,
                  "_deepnote_index_column": 279863
                },
                {
                  "Time": 169347,
                  "V1": 1.37855899734127,
                  "V2": 1.28938093711056,
                  "V3": -5.00424678441137,
                  "V4": 1.4118498419441,
                  "V5": 0.442580635567782,
                  "V6": -1.3265359338336,
                  "V7": -1.41316995590712,
                  "V8": 0.248525467627175,
                  "V9": -1.12739593417081,
                  "V10": -3.23215317539514,
                  "V11": 2.8584658156696,
                  "V12": -3.09691489835154,
                  "V13": -0.792532436177748,
                  "V14": -5.21014084572584,
                  "V15": -0.613803263850514,
                  "V16": -2.15529688535221,
                  "V17": -3.26711568106648,
                  "V18": -0.68850546268346,
                  "V19": 0.737657217477667,
                  "V20": 0.226137945500703,
                  "V21": 0.370611857232494,
                  "V22": 0.0282344454140697,
                  "V23": -0.145640429197154,
                  "V24": -0.0810494069107769,
                  "V25": 0.521874501959455,
                  "V26": 0.739467256056059,
                  "V27": 0.389151843520624,
                  "V28": 0.186636547522687,
                  "Amount": 0.76,
                  "Class": 1,
                  "_deepnote_index_column": 280143
                },
                {
                  "Time": 169351,
                  "V1": -0.676142670593205,
                  "V2": 1.1263660623459,
                  "V3": -2.21369952308058,
                  "V4": 0.46830838758824,
                  "V5": -1.12054104443306,
                  "V6": -0.0033462959955453,
                  "V7": -2.23473929608742,
                  "V8": 1.21015796383769,
                  "V9": -0.65224992035649,
                  "V10": -3.46389087904573,
                  "V11": 1.79496896856641,
                  "V12": -2.77502154036273,
                  "V13": -0.418950143733104,
                  "V14": -4.05716237716209,
                  "V15": -0.712615968607599,
                  "V16": -1.60301474745597,
                  "V17": -5.03532591722409,
                  "V18": -0.50699988370237,
                  "V19": 0.266272320267649,
                  "V20": 0.247967752628092,
                  "V21": 0.751825538154533,
                  "V22": 0.834107690036367,
                  "V23": 0.190943872773442,
                  "V24": 0.0320700856093905,
                  "V25": -0.739694822652264,
                  "V26": 0.47111096261267,
                  "V27": 0.385107448705084,
                  "V28": 0.19436147923645,
                  "Amount": 77.89,
                  "Class": 1,
                  "_deepnote_index_column": 280149
                },
                {
                  "Time": 169966,
                  "V1": -3.11383160738512,
                  "V2": 0.58586417180689,
                  "V3": -5.39973021073242,
                  "V4": 1.81709247345531,
                  "V5": -0.840618465991056,
                  "V6": -2.94354779071974,
                  "V7": -2.20800192003372,
                  "V8": 1.05873267723056,
                  "V9": -1.63233334974982,
                  "V10": -5.24598383776964,
                  "V11": 1.93351953683592,
                  "V12": -5.03046479695456,
                  "V13": -1.12745457501155,
                  "V14": -6.41662797597451,
                  "V15": 0.141237234328704,
                  "V16": -2.54949823633632,
                  "V17": -4.61471706851594,
                  "V18": -1.47813794126038,
                  "V19": -0.0354803664667244,
                  "V20": 0.306270740368093,
                  "V21": 0.583275998701341,
                  "V22": -0.269208637986581,
                  "V23": -0.456107772584008,
                  "V24": -0.183659129549716,
                  "V25": -0.328167759255761,
                  "V26": 0.606115810329683,
                  "V27": 0.884875539542905,
                  "V28": -0.253700318894381,
                  "Amount": 245,
                  "Class": 1,
                  "_deepnote_index_column": 281144
                },
                {
                  "Time": 170348,
                  "V1": 1.9919760961759,
                  "V2": 0.158475887304227,
                  "V3": -2.58344064503516,
                  "V4": 0.408669992998441,
                  "V5": 1.15114706077937,
                  "V6": -0.0966947441848027,
                  "V7": 0.223050267455537,
                  "V8": -0.0683838777747007,
                  "V9": 0.577829383844873,
                  "V10": -0.888721675865145,
                  "V11": 0.491140241656789,
                  "V12": 0.728903319843614,
                  "V13": 0.380428045513993,
                  "V14": -1.94888334870021,
                  "V15": -0.832498136300872,
                  "V16": 0.519435549203291,
                  "V17": 0.903562376617253,
                  "V18": 1.19731471799372,
                  "V19": 0.593508846946918,
                  "V20": -0.0176522567052908,
                  "V21": -0.164350327825504,
                  "V22": -0.295135166851559,
                  "V23": -0.0721725311018398,
                  "V24": -0.450261313423321,
                  "V25": 0.313266608995469,
                  "V26": -0.289616585696882,
                  "V27": 0.002987582243429,
                  "V28": -0.0153088128485981,
                  "Amount": 42.53,
                  "Class": 1,
                  "_deepnote_index_column": 281674
                }
              ]
            },
            "text/plain": "            Time        V1        V2        V3        V4        V5        V6  \\\n279863  169142.0 -1.927883  1.125653 -4.518331  1.749293 -1.566487 -2.010494   \n280143  169347.0  1.378559  1.289381 -5.004247  1.411850  0.442581 -1.326536   \n280149  169351.0 -0.676143  1.126366 -2.213700  0.468308 -1.120541 -0.003346   \n281144  169966.0 -3.113832  0.585864 -5.399730  1.817092 -0.840618 -2.943548   \n281674  170348.0  1.991976  0.158476 -2.583441  0.408670  1.151147 -0.096695   \n\n              V7        V8        V9  ...       V21       V22       V23  \\\n279863 -0.882850  0.697211 -2.064945  ...  0.778584 -0.319189  0.639419   \n280143 -1.413170  0.248525 -1.127396  ...  0.370612  0.028234 -0.145640   \n280149 -2.234739  1.210158 -0.652250  ...  0.751826  0.834108  0.190944   \n281144 -2.208002  1.058733 -1.632333  ...  0.583276 -0.269209 -0.456108   \n281674  0.223050 -0.068384  0.577829  ... -0.164350 -0.295135 -0.072173   \n\n             V24       V25       V26       V27       V28  Amount  Class  \n279863 -0.294885  0.537503  0.788395  0.292680  0.147968  390.00      1  \n280143 -0.081049  0.521875  0.739467  0.389152  0.186637    0.76      1  \n280149  0.032070 -0.739695  0.471111  0.385107  0.194361   77.89      1  \n281144 -0.183659 -0.328168  0.606116  0.884876 -0.253700  245.00      1  \n281674 -0.450261  0.313267 -0.289617  0.002988 -0.015309   42.53      1  \n\n[5 rows x 31 columns]",
            "text/html": "<div>\n<style scoped>\n    .dataframe tbody tr th:only-of-type {\n        vertical-align: middle;\n    }\n\n    .dataframe tbody tr th {\n        vertical-align: top;\n    }\n\n    .dataframe thead th {\n        text-align: right;\n    }\n</style>\n<table border=\"1\" class=\"dataframe\">\n  <thead>\n    <tr style=\"text-align: right;\">\n      <th></th>\n      <th>Time</th>\n      <th>V1</th>\n      <th>V2</th>\n      <th>V3</th>\n      <th>V4</th>\n      <th>V5</th>\n      <th>V6</th>\n      <th>V7</th>\n      <th>V8</th>\n      <th>V9</th>\n      <th>...</th>\n      <th>V21</th>\n      <th>V22</th>\n      <th>V23</th>\n      <th>V24</th>\n      <th>V25</th>\n      <th>V26</th>\n      <th>V27</th>\n      <th>V28</th>\n      <th>Amount</th>\n      <th>Class</th>\n    </tr>\n  </thead>\n  <tbody>\n    <tr>\n      <th>279863</th>\n      <td>169142.0</td>\n      <td>-1.927883</td>\n      <td>1.125653</td>\n      <td>-4.518331</td>\n      <td>1.749293</td>\n      <td>-1.566487</td>\n      <td>-2.010494</td>\n      <td>-0.882850</td>\n      <td>0.697211</td>\n      <td>-2.064945</td>\n      <td>...</td>\n      <td>0.778584</td>\n      <td>-0.319189</td>\n      <td>0.639419</td>\n      <td>-0.294885</td>\n      <td>0.537503</td>\n      <td>0.788395</td>\n      <td>0.292680</td>\n      <td>0.147968</td>\n      <td>390.00</td>\n      <td>1</td>\n    </tr>\n    <tr>\n      <th>280143</th>\n      <td>169347.0</td>\n      <td>1.378559</td>\n      <td>1.289381</td>\n      <td>-5.004247</td>\n      <td>1.411850</td>\n      <td>0.442581</td>\n      <td>-1.326536</td>\n      <td>-1.413170</td>\n      <td>0.248525</td>\n      <td>-1.127396</td>\n      <td>...</td>\n      <td>0.370612</td>\n      <td>0.028234</td>\n      <td>-0.145640</td>\n      <td>-0.081049</td>\n      <td>0.521875</td>\n      <td>0.739467</td>\n      <td>0.389152</td>\n      <td>0.186637</td>\n      <td>0.76</td>\n      <td>1</td>\n    </tr>\n    <tr>\n      <th>280149</th>\n      <td>169351.0</td>\n      <td>-0.676143</td>\n      <td>1.126366</td>\n      <td>-2.213700</td>\n      <td>0.468308</td>\n      <td>-1.120541</td>\n      <td>-0.003346</td>\n      <td>-2.234739</td>\n      <td>1.210158</td>\n      <td>-0.652250</td>\n      <td>...</td>\n      <td>0.751826</td>\n      <td>0.834108</td>\n      <td>0.190944</td>\n      <td>0.032070</td>\n      <td>-0.739695</td>\n      <td>0.471111</td>\n      <td>0.385107</td>\n      <td>0.194361</td>\n      <td>77.89</td>\n      <td>1</td>\n    </tr>\n    <tr>\n      <th>281144</th>\n      <td>169966.0</td>\n      <td>-3.113832</td>\n      <td>0.585864</td>\n      <td>-5.399730</td>\n      <td>1.817092</td>\n      <td>-0.840618</td>\n      <td>-2.943548</td>\n      <td>-2.208002</td>\n      <td>1.058733</td>\n      <td>-1.632333</td>\n      <td>...</td>\n      <td>0.583276</td>\n      <td>-0.269209</td>\n      <td>-0.456108</td>\n      <td>-0.183659</td>\n      <td>-0.328168</td>\n      <td>0.606116</td>\n      <td>0.884876</td>\n      <td>-0.253700</td>\n      <td>245.00</td>\n      <td>1</td>\n    </tr>\n    <tr>\n      <th>281674</th>\n      <td>170348.0</td>\n      <td>1.991976</td>\n      <td>0.158476</td>\n      <td>-2.583441</td>\n      <td>0.408670</td>\n      <td>1.151147</td>\n      <td>-0.096695</td>\n      <td>0.223050</td>\n      <td>-0.068384</td>\n      <td>0.577829</td>\n      <td>...</td>\n      <td>-0.164350</td>\n      <td>-0.295135</td>\n      <td>-0.072173</td>\n      <td>-0.450261</td>\n      <td>0.313267</td>\n      <td>-0.289617</td>\n      <td>0.002988</td>\n      <td>-0.015309</td>\n      <td>42.53</td>\n      <td>1</td>\n    </tr>\n  </tbody>\n</table>\n<p>5 rows × 31 columns</p>\n</div>"
          },
          "metadata": {}
        }
      ],
      "outputs_reference": null,
      "execution_count": 14,
      "block_group": "7321997163094301b5ec30e66b020e9e",
      "content_dependencies": null
    },
    {
      "cell_type": "code",
      "source": "new_dataset['Class'].value_counts()\n\nnew_dataset.groupby('Class').mean()",
      "metadata": {
        "source_hash": "a55c18c",
        "execution_start": 1727043701289,
        "execution_millis": 372,
        "deepnote_to_be_reexecuted": false,
        "cell_id": "9170f51016f843ff9e24b70f7c863683",
        "deepnote_cell_type": "code"
      },
      "outputs": [
        {
          "output_type": "execute_result",
          "execution_count": 15,
          "data": {
            "application/vnd.deepnote.dataframe.v3+json": {
              "column_count": 30,
              "row_count": 2,
              "columns": [
                {
                  "name": "Time",
                  "dtype": "float64",
                  "stats": {
                    "unique_count": 2,
                    "nan_count": 0,
                    "min": "80746.80691056911",
                    "max": "94796.21138211382",
                    "histogram": [
                      {
                        "bin_start": 80746.80691056911,
                        "bin_end": 82151.74735772358,
                        "count": 1
                      },
                      {
                        "bin_start": 82151.74735772358,
                        "bin_end": 83556.68780487805,
                        "count": 0
                      },
                      {
                        "bin_start": 83556.68780487805,
                        "bin_end": 84961.62825203252,
                        "count": 0
                      },
                      {
                        "bin_start": 84961.62825203252,
                        "bin_end": 86366.56869918699,
                        "count": 0
                      },
                      {
                        "bin_start": 86366.56869918699,
                        "bin_end": 87771.50914634147,
                        "count": 0
                      },
                      {
                        "bin_start": 87771.50914634147,
                        "bin_end": 89176.44959349593,
                        "count": 0
                      },
                      {
                        "bin_start": 89176.44959349593,
                        "bin_end": 90581.39004065041,
                        "count": 0
                      },
                      {
                        "bin_start": 90581.39004065041,
                        "bin_end": 91986.33048780488,
                        "count": 0
                      },
                      {
                        "bin_start": 91986.33048780488,
                        "bin_end": 93391.27093495935,
                        "count": 0
                      },
                      {
                        "bin_start": 93391.27093495935,
                        "bin_end": 94796.21138211382,
                        "count": 1
                      }
                    ]
                  }
                },
                {
                  "name": "V1",
                  "dtype": "float64",
                  "stats": {
                    "unique_count": 2,
                    "nan_count": 0,
                    "min": "-4.771948441479082",
                    "max": "0.11843484006474703",
                    "histogram": [
                      {
                        "bin_start": -4.771948441479082,
                        "bin_end": -4.282910113324699,
                        "count": 1
                      },
                      {
                        "bin_start": -4.282910113324699,
                        "bin_end": -3.793871785170316,
                        "count": 0
                      },
                      {
                        "bin_start": -3.793871785170316,
                        "bin_end": -3.304833457015933,
                        "count": 0
                      },
                      {
                        "bin_start": -3.304833457015933,
                        "bin_end": -2.8157951288615504,
                        "count": 0
                      },
                      {
                        "bin_start": -2.8157951288615504,
                        "bin_end": -2.3267568007071673,
                        "count": 0
                      },
                      {
                        "bin_start": -2.3267568007071673,
                        "bin_end": -1.8377184725527842,
                        "count": 0
                      },
                      {
                        "bin_start": -1.8377184725527842,
                        "bin_end": -1.3486801443984016,
                        "count": 0
                      },
                      {
                        "bin_start": -1.3486801443984016,
                        "bin_end": -0.8596418162440185,
                        "count": 0
                      },
                      {
                        "bin_start": -0.8596418162440185,
                        "bin_end": -0.3706034880896354,
                        "count": 0
                      },
                      {
                        "bin_start": -0.3706034880896354,
                        "bin_end": 0.11843484006474703,
                        "count": 1
                      }
                    ]
                  }
                },
                {
                  "name": "V2",
                  "dtype": "float64",
                  "stats": {
                    "unique_count": 2,
                    "nan_count": 0,
                    "min": "-0.08397736556512593",
                    "max": "3.6237781019822806",
                    "histogram": [
                      {
                        "bin_start": -0.08397736556512593,
                        "bin_end": 0.28679818118961475,
                        "count": 1
                      },
                      {
                        "bin_start": 0.28679818118961475,
                        "bin_end": 0.6575737279443554,
                        "count": 0
                      },
                      {
                        "bin_start": 0.6575737279443554,
                        "bin_end": 1.028349274699096,
                        "count": 0
                      },
                      {
                        "bin_start": 1.028349274699096,
                        "bin_end": 1.3991248214538368,
                        "count": 0
                      },
                      {
                        "bin_start": 1.3991248214538368,
                        "bin_end": 1.7699003682085774,
                        "count": 0
                      },
                      {
                        "bin_start": 1.7699003682085774,
                        "bin_end": 2.140675914963318,
                        "count": 0
                      },
                      {
                        "bin_start": 2.140675914963318,
                        "bin_end": 2.5114514617180586,
                        "count": 0
                      },
                      {
                        "bin_start": 2.5114514617180586,
                        "bin_end": 2.8822270084727992,
                        "count": 0
                      },
                      {
                        "bin_start": 2.8822270084727992,
                        "bin_end": 3.25300255522754,
                        "count": 0
                      },
                      {
                        "bin_start": 3.25300255522754,
                        "bin_end": 3.6237781019822806,
                        "count": 1
                      }
                    ]
                  }
                },
                {
                  "name": "V3",
                  "dtype": "float64",
                  "stats": {
                    "unique_count": 2,
                    "nan_count": 0,
                    "min": "-7.0332810485965584",
                    "max": "0.05895672102828772",
                    "histogram": [
                      {
                        "bin_start": -7.0332810485965584,
                        "bin_end": -6.324057271634074,
                        "count": 1
                      },
                      {
                        "bin_start": -6.324057271634074,
                        "bin_end": -5.614833494671589,
                        "count": 0
                      },
                      {
                        "bin_start": -5.614833494671589,
                        "bin_end": -4.905609717709105,
                        "count": 0
                      },
                      {
                        "bin_start": -4.905609717709105,
                        "bin_end": -4.1963859407466195,
                        "count": 0
                      },
                      {
                        "bin_start": -4.1963859407466195,
                        "bin_end": -3.4871621637841352,
                        "count": 0
                      },
                      {
                        "bin_start": -3.4871621637841352,
                        "bin_end": -2.777938386821651,
                        "count": 0
                      },
                      {
                        "bin_start": -2.777938386821651,
                        "bin_end": -2.0687146098591658,
                        "count": 0
                      },
                      {
                        "bin_start": -2.0687146098591658,
                        "bin_end": -1.3594908328966815,
                        "count": 0
                      },
                      {
                        "bin_start": -1.3594908328966815,
                        "bin_end": -0.6502670559341972,
                        "count": 0
                      },
                      {
                        "bin_start": -0.6502670559341972,
                        "bin_end": 0.05895672102828772,
                        "count": 1
                      }
                    ]
                  }
                },
                {
                  "name": "V4",
                  "dtype": "float64",
                  "stats": {
                    "unique_count": 2,
                    "nan_count": 0,
                    "min": "-0.09279989380845138",
                    "max": "4.542029104423093",
                    "histogram": [
                      {
                        "bin_start": -0.09279989380845138,
                        "bin_end": 0.37068300601470305,
                        "count": 1
                      },
                      {
                        "bin_start": 0.37068300601470305,
                        "bin_end": 0.8341659058378574,
                        "count": 0
                      },
                      {
                        "bin_start": 0.8341659058378574,
                        "bin_end": 1.297648805661012,
                        "count": 0
                      },
                      {
                        "bin_start": 1.297648805661012,
                        "bin_end": 1.7611317054841664,
                        "count": 0
                      },
                      {
                        "bin_start": 1.7611317054841664,
                        "bin_end": 2.2246146053073206,
                        "count": 0
                      },
                      {
                        "bin_start": 2.2246146053073206,
                        "bin_end": 2.688097505130475,
                        "count": 0
                      },
                      {
                        "bin_start": 2.688097505130475,
                        "bin_end": 3.1515804049536293,
                        "count": 0
                      },
                      {
                        "bin_start": 3.1515804049536293,
                        "bin_end": 3.615063304776784,
                        "count": 0
                      },
                      {
                        "bin_start": 3.615063304776784,
                        "bin_end": 4.078546204599938,
                        "count": 0
                      },
                      {
                        "bin_start": 4.078546204599938,
                        "bin_end": 4.542029104423093,
                        "count": 1
                      }
                    ]
                  }
                },
                {
                  "name": "V5",
                  "dtype": "float64",
                  "stats": {
                    "unique_count": 2,
                    "nan_count": 0,
                    "min": "-3.1512248859360046",
                    "max": "0.006638825515682187",
                    "histogram": [
                      {
                        "bin_start": -3.1512248859360046,
                        "bin_end": -2.835438514790836,
                        "count": 1
                      },
                      {
                        "bin_start": -2.835438514790836,
                        "bin_end": -2.519652143645667,
                        "count": 0
                      },
                      {
                        "bin_start": -2.519652143645667,
                        "bin_end": -2.2038657725004986,
                        "count": 0
                      },
                      {
                        "bin_start": -2.2038657725004986,
                        "bin_end": -1.88807940135533,
                        "count": 0
                      },
                      {
                        "bin_start": -1.88807940135533,
                        "bin_end": -1.5722930302101612,
                        "count": 0
                      },
                      {
                        "bin_start": -1.5722930302101612,
                        "bin_end": -1.2565066590649927,
                        "count": 0
                      },
                      {
                        "bin_start": -1.2565066590649927,
                        "bin_end": -0.9407202879198238,
                        "count": 0
                      },
                      {
                        "bin_start": -0.9407202879198238,
                        "bin_end": -0.6249339167746553,
                        "count": 0
                      },
                      {
                        "bin_start": -0.6249339167746553,
                        "bin_end": -0.30914754562948676,
                        "count": 0
                      },
                      {
                        "bin_start": -0.30914754562948676,
                        "bin_end": 0.006638825515682187,
                        "count": 1
                      }
                    ]
                  }
                },
                {
                  "name": "V6",
                  "dtype": "float64",
                  "stats": {
                    "unique_count": 2,
                    "nan_count": 0,
                    "min": "-1.3977367105923515",
                    "max": "0.0753682705099517",
                    "histogram": [
                      {
                        "bin_start": -1.3977367105923515,
                        "bin_end": -1.2504262124821213,
                        "count": 1
                      },
                      {
                        "bin_start": -1.2504262124821213,
                        "bin_end": -1.1031157143718908,
                        "count": 0
                      },
                      {
                        "bin_start": -1.1031157143718908,
                        "bin_end": -0.9558052162616606,
                        "count": 0
                      },
                      {
                        "bin_start": -0.9558052162616606,
                        "bin_end": -0.8084947181514303,
                        "count": 0
                      },
                      {
                        "bin_start": -0.8084947181514303,
                        "bin_end": -0.6611842200411999,
                        "count": 0
                      },
                      {
                        "bin_start": -0.6611842200411999,
                        "bin_end": -0.5138737219309697,
                        "count": 0
                      },
                      {
                        "bin_start": -0.5138737219309697,
                        "bin_end": -0.36656322382073925,
                        "count": 0
                      },
                      {
                        "bin_start": -0.36656322382073925,
                        "bin_end": -0.21925272571050902,
                        "count": 0
                      },
                      {
                        "bin_start": -0.21925272571050902,
                        "bin_end": -0.0719422276002788,
                        "count": 0
                      },
                      {
                        "bin_start": -0.0719422276002788,
                        "bin_end": 0.0753682705099517,
                        "count": 1
                      }
                    ]
                  }
                },
                {
                  "name": "V7",
                  "dtype": "float64",
                  "stats": {
                    "unique_count": 2,
                    "nan_count": 0,
                    "min": "-5.5687310837427395",
                    "max": "-0.07214521237852098",
                    "histogram": [
                      {
                        "bin_start": -5.5687310837427395,
                        "bin_end": -5.019072496606317,
                        "count": 1
                      },
                      {
                        "bin_start": -5.019072496606317,
                        "bin_end": -4.469413909469896,
                        "count": 0
                      },
                      {
                        "bin_start": -4.469413909469896,
                        "bin_end": -3.919755322333474,
                        "count": 0
                      },
                      {
                        "bin_start": -3.919755322333474,
                        "bin_end": -3.370096735197052,
                        "count": 0
                      },
                      {
                        "bin_start": -3.370096735197052,
                        "bin_end": -2.8204381480606298,
                        "count": 0
                      },
                      {
                        "bin_start": -2.8204381480606298,
                        "bin_end": -2.270779560924208,
                        "count": 0
                      },
                      {
                        "bin_start": -2.270779560924208,
                        "bin_end": -1.7211209737877864,
                        "count": 0
                      },
                      {
                        "bin_start": -1.7211209737877864,
                        "bin_end": -1.1714623866513643,
                        "count": 0
                      },
                      {
                        "bin_start": -1.1714623866513643,
                        "bin_end": -0.6218037995149421,
                        "count": 0
                      },
                      {
                        "bin_start": -0.6218037995149421,
                        "bin_end": -0.07214521237852098,
                        "count": 1
                      }
                    ]
                  }
                },
                {
                  "name": "V8",
                  "dtype": "float64",
                  "stats": {
                    "unique_count": 2,
                    "nan_count": 0,
                    "min": "-0.0422020754873208",
                    "max": "0.5706358952962378",
                    "histogram": [
                      {
                        "bin_start": -0.0422020754873208,
                        "bin_end": 0.019081721591035064,
                        "count": 1
                      },
                      {
                        "bin_start": 0.019081721591035064,
                        "bin_end": 0.08036551866939093,
                        "count": 0
                      },
                      {
                        "bin_start": 0.08036551866939093,
                        "bin_end": 0.1416493157477468,
                        "count": 0
                      },
                      {
                        "bin_start": 0.1416493157477468,
                        "bin_end": 0.20293311282610266,
                        "count": 0
                      },
                      {
                        "bin_start": 0.20293311282610266,
                        "bin_end": 0.2642169099044585,
                        "count": 0
                      },
                      {
                        "bin_start": 0.2642169099044585,
                        "bin_end": 0.3255007069828144,
                        "count": 0
                      },
                      {
                        "bin_start": 0.3255007069828144,
                        "bin_end": 0.38678450406117026,
                        "count": 0
                      },
                      {
                        "bin_start": 0.38678450406117026,
                        "bin_end": 0.4480683011395261,
                        "count": 0
                      },
                      {
                        "bin_start": 0.4480683011395261,
                        "bin_end": 0.509352098217882,
                        "count": 0
                      },
                      {
                        "bin_start": 0.509352098217882,
                        "bin_end": 0.5706358952962378,
                        "count": 1
                      }
                    ]
                  }
                },
                {
                  "name": "V9",
                  "dtype": "float64",
                  "stats": {
                    "unique_count": 2,
                    "nan_count": 0,
                    "min": "-2.5811229217029954",
                    "max": "0.004621788090023779",
                    "histogram": [
                      {
                        "bin_start": -2.5811229217029954,
                        "bin_end": -2.3225484507236933,
                        "count": 1
                      },
                      {
                        "bin_start": -2.3225484507236933,
                        "bin_end": -2.0639739797443917,
                        "count": 0
                      },
                      {
                        "bin_start": -2.0639739797443917,
                        "bin_end": -1.8053995087650896,
                        "count": 0
                      },
                      {
                        "bin_start": -1.8053995087650896,
                        "bin_end": -1.5468250377857877,
                        "count": 0
                      },
                      {
                        "bin_start": -1.5468250377857877,
                        "bin_end": -1.2882505668064859,
                        "count": 0
                      },
                      {
                        "bin_start": -1.2882505668064859,
                        "bin_end": -1.0296760958271838,
                        "count": 0
                      },
                      {
                        "bin_start": -1.0296760958271838,
                        "bin_end": -0.7711016248478819,
                        "count": 0
                      },
                      {
                        "bin_start": -0.7711016248478819,
                        "bin_end": -0.51252715386858,
                        "count": 0
                      },
                      {
                        "bin_start": -0.51252715386858,
                        "bin_end": -0.25395268288927797,
                        "count": 0
                      },
                      {
                        "bin_start": -0.25395268288927797,
                        "bin_end": 0.004621788090023779,
                        "count": 1
                      }
                    ]
                  }
                },
                {
                  "name": "V10",
                  "dtype": "float64",
                  "stats": {
                    "unique_count": 2,
                    "nan_count": 0,
                    "min": "-5.676882870194368",
                    "max": "0.06327553134481663",
                    "histogram": [
                      {
                        "bin_start": -5.676882870194368,
                        "bin_end": -5.10286703004045,
                        "count": 1
                      },
                      {
                        "bin_start": -5.10286703004045,
                        "bin_end": -4.528851189886531,
                        "count": 0
                      },
                      {
                        "bin_start": -4.528851189886531,
                        "bin_end": -3.9548353497326127,
                        "count": 0
                      },
                      {
                        "bin_start": -3.9548353497326127,
                        "bin_end": -3.380819509578694,
                        "count": 0
                      },
                      {
                        "bin_start": -3.380819509578694,
                        "bin_end": -2.8068036694247755,
                        "count": 0
                      },
                      {
                        "bin_start": -2.8068036694247755,
                        "bin_end": -2.2327878292708574,
                        "count": 0
                      },
                      {
                        "bin_start": -2.2327878292708574,
                        "bin_end": -1.6587719891169384,
                        "count": 0
                      },
                      {
                        "bin_start": -1.6587719891169384,
                        "bin_end": -1.0847561489630202,
                        "count": 0
                      },
                      {
                        "bin_start": -1.0847561489630202,
                        "bin_end": -0.510740308809102,
                        "count": 0
                      },
                      {
                        "bin_start": -0.510740308809102,
                        "bin_end": 0.06327553134481663,
                        "count": 1
                      }
                    ]
                  }
                },
                {
                  "name": "V11",
                  "dtype": "float64",
                  "stats": {
                    "unique_count": 2,
                    "nan_count": 0,
                    "min": "-0.1271647205496322",
                    "max": "3.800172911374607",
                    "histogram": [
                      {
                        "bin_start": -0.1271647205496322,
                        "bin_end": 0.2655690426427917,
                        "count": 1
                      },
                      {
                        "bin_start": 0.2655690426427917,
                        "bin_end": 0.6583028058352156,
                        "count": 0
                      },
                      {
                        "bin_start": 0.6583028058352156,
                        "bin_end": 1.0510365690276395,
                        "count": 0
                      },
                      {
                        "bin_start": 1.0510365690276395,
                        "bin_end": 1.4437703322200635,
                        "count": 0
                      },
                      {
                        "bin_start": 1.4437703322200635,
                        "bin_end": 1.8365040954124874,
                        "count": 0
                      },
                      {
                        "bin_start": 1.8365040954124874,
                        "bin_end": 2.2292378586049115,
                        "count": 0
                      },
                      {
                        "bin_start": 2.2292378586049115,
                        "bin_end": 2.6219716217973357,
                        "count": 0
                      },
                      {
                        "bin_start": 2.6219716217973357,
                        "bin_end": 3.0147053849897594,
                        "count": 0
                      },
                      {
                        "bin_start": 3.0147053849897594,
                        "bin_end": 3.407439148182183,
                        "count": 0
                      },
                      {
                        "bin_start": 3.407439148182183,
                        "bin_end": 3.800172911374607,
                        "count": 1
                      }
                    ]
                  }
                },
                {
                  "name": "V12",
                  "dtype": "float64",
                  "stats": {
                    "unique_count": 2,
                    "nan_count": 0,
                    "min": "-6.259393036190131",
                    "max": "-0.023129160172131163",
                    "histogram": [
                      {
                        "bin_start": -6.259393036190131,
                        "bin_end": -5.635766648588331,
                        "count": 1
                      },
                      {
                        "bin_start": -5.635766648588331,
                        "bin_end": -5.012140260986531,
                        "count": 0
                      },
                      {
                        "bin_start": -5.012140260986531,
                        "bin_end": -4.388513873384731,
                        "count": 0
                      },
                      {
                        "bin_start": -4.388513873384731,
                        "bin_end": -3.764887485782931,
                        "count": 0
                      },
                      {
                        "bin_start": -3.764887485782931,
                        "bin_end": -3.141261098181131,
                        "count": 0
                      },
                      {
                        "bin_start": -3.141261098181131,
                        "bin_end": -2.517634710579331,
                        "count": 0
                      },
                      {
                        "bin_start": -2.517634710579331,
                        "bin_end": -1.8940083229775313,
                        "count": 0
                      },
                      {
                        "bin_start": -1.8940083229775313,
                        "bin_end": -1.270381935375731,
                        "count": 0
                      },
                      {
                        "bin_start": -1.270381935375731,
                        "bin_end": -0.6467555477739309,
                        "count": 0
                      },
                      {
                        "bin_start": -0.6467555477739309,
                        "bin_end": -0.023129160172131163,
                        "count": 1
                      }
                    ]
                  }
                },
                {
                  "name": "V13",
                  "dtype": "float64",
                  "stats": {
                    "unique_count": 2,
                    "nan_count": 0,
                    "min": "-0.10933381708278404",
                    "max": "-0.012001603402491429",
                    "histogram": [
                      {
                        "bin_start": -0.10933381708278404,
                        "bin_end": -0.09960059571475478,
                        "count": 1
                      },
                      {
                        "bin_start": -0.09960059571475478,
                        "bin_end": -0.08986737434672552,
                        "count": 0
                      },
                      {
                        "bin_start": -0.08986737434672552,
                        "bin_end": -0.08013415297869625,
                        "count": 0
                      },
                      {
                        "bin_start": -0.08013415297869625,
                        "bin_end": -0.07040093161066699,
                        "count": 0
                      },
                      {
                        "bin_start": -0.07040093161066699,
                        "bin_end": -0.060667710242637736,
                        "count": 0
                      },
                      {
                        "bin_start": -0.060667710242637736,
                        "bin_end": -0.05093448887460847,
                        "count": 0
                      },
                      {
                        "bin_start": -0.05093448887460847,
                        "bin_end": -0.04120126750657921,
                        "count": 0
                      },
                      {
                        "bin_start": -0.04120126750657921,
                        "bin_end": -0.03146804613854995,
                        "count": 0
                      },
                      {
                        "bin_start": -0.03146804613854995,
                        "bin_end": -0.02173482477052069,
                        "count": 0
                      },
                      {
                        "bin_start": -0.02173482477052069,
                        "bin_end": -0.012001603402491429,
                        "count": 1
                      }
                    ]
                  }
                },
                {
                  "name": "V14",
                  "dtype": "float64",
                  "stats": {
                    "unique_count": 2,
                    "nan_count": 0,
                    "min": "-6.971722894107602",
                    "max": "-0.07827290027584152",
                    "histogram": [
                      {
                        "bin_start": -6.971722894107602,
                        "bin_end": -6.2823778947244255,
                        "count": 1
                      },
                      {
                        "bin_start": -6.2823778947244255,
                        "bin_end": -5.59303289534125,
                        "count": 0
                      },
                      {
                        "bin_start": -5.59303289534125,
                        "bin_end": -4.903687895958074,
                        "count": 0
                      },
                      {
                        "bin_start": -4.903687895958074,
                        "bin_end": -4.214342896574898,
                        "count": 0
                      },
                      {
                        "bin_start": -4.214342896574898,
                        "bin_end": -3.5249978971917217,
                        "count": 0
                      },
                      {
                        "bin_start": -3.5249978971917217,
                        "bin_end": -2.8356528978085453,
                        "count": 0
                      },
                      {
                        "bin_start": -2.8356528978085453,
                        "bin_end": -2.14630789842537,
                        "count": 0
                      },
                      {
                        "bin_start": -2.14630789842537,
                        "bin_end": -1.4569628990421934,
                        "count": 0
                      },
                      {
                        "bin_start": -1.4569628990421934,
                        "bin_end": -0.7676178996590171,
                        "count": 0
                      },
                      {
                        "bin_start": -0.7676178996590171,
                        "bin_end": -0.07827290027584152,
                        "count": 1
                      }
                    ]
                  }
                },
                {
                  "name": "V15",
                  "dtype": "float64",
                  "stats": {
                    "unique_count": 2,
                    "nan_count": 0,
                    "min": "-0.09292874691208504",
                    "max": "-0.010566834281344934",
                    "histogram": [
                      {
                        "bin_start": -0.09292874691208504,
                        "bin_end": -0.08469255564901103,
                        "count": 1
                      },
                      {
                        "bin_start": -0.08469255564901103,
                        "bin_end": -0.07645636438593702,
                        "count": 0
                      },
                      {
                        "bin_start": -0.07645636438593702,
                        "bin_end": -0.068220173122863,
                        "count": 0
                      },
                      {
                        "bin_start": -0.068220173122863,
                        "bin_end": -0.059983981859788996,
                        "count": 0
                      },
                      {
                        "bin_start": -0.059983981859788996,
                        "bin_end": -0.051747790596714985,
                        "count": 0
                      },
                      {
                        "bin_start": -0.051747790596714985,
                        "bin_end": -0.043511599333640974,
                        "count": 0
                      },
                      {
                        "bin_start": -0.043511599333640974,
                        "bin_end": -0.03527540807056696,
                        "count": 0
                      },
                      {
                        "bin_start": -0.03527540807056696,
                        "bin_end": -0.027039216807492952,
                        "count": 0
                      },
                      {
                        "bin_start": -0.027039216807492952,
                        "bin_end": -0.01880302554441894,
                        "count": 0
                      },
                      {
                        "bin_start": -0.01880302554441894,
                        "bin_end": -0.010566834281344934,
                        "count": 1
                      }
                    ]
                  }
                },
                {
                  "name": "V16",
                  "dtype": "float64",
                  "stats": {
                    "unique_count": 2,
                    "nan_count": 0,
                    "min": "-4.139945699092808",
                    "max": "-0.03459773037594601",
                    "histogram": [
                      {
                        "bin_start": -4.139945699092808,
                        "bin_end": -3.7294109022211215,
                        "count": 1
                      },
                      {
                        "bin_start": -3.7294109022211215,
                        "bin_end": -3.3188761053494353,
                        "count": 0
                      },
                      {
                        "bin_start": -3.3188761053494353,
                        "bin_end": -2.908341308477749,
                        "count": 0
                      },
                      {
                        "bin_start": -2.908341308477749,
                        "bin_end": -2.497806511606063,
                        "count": 0
                      },
                      {
                        "bin_start": -2.497806511606063,
                        "bin_end": -2.087271714734377,
                        "count": 0
                      },
                      {
                        "bin_start": -2.087271714734377,
                        "bin_end": -1.6767369178626907,
                        "count": 0
                      },
                      {
                        "bin_start": -1.6767369178626907,
                        "bin_end": -1.2662021209910046,
                        "count": 0
                      },
                      {
                        "bin_start": -1.2662021209910046,
                        "bin_end": -0.8556673241193185,
                        "count": 0
                      },
                      {
                        "bin_start": -0.8556673241193185,
                        "bin_end": -0.4451325272476323,
                        "count": 0
                      },
                      {
                        "bin_start": -0.4451325272476323,
                        "bin_end": -0.03459773037594601,
                        "count": 1
                      }
                    ]
                  }
                },
                {
                  "name": "V17",
                  "dtype": "float64",
                  "stats": {
                    "unique_count": 2,
                    "nan_count": 0,
                    "min": "-6.665836399449663",
                    "max": "0.0034513696981623497",
                    "histogram": [
                      {
                        "bin_start": -6.665836399449663,
                        "bin_end": -5.9989076225348805,
                        "count": 1
                      },
                      {
                        "bin_start": -5.9989076225348805,
                        "bin_end": -5.331978845620098,
                        "count": 0
                      },
                      {
                        "bin_start": -5.331978845620098,
                        "bin_end": -4.665050068705316,
                        "count": 0
                      },
                      {
                        "bin_start": -4.665050068705316,
                        "bin_end": -3.9981212917905333,
                        "count": 0
                      },
                      {
                        "bin_start": -3.9981212917905333,
                        "bin_end": -3.3311925148757506,
                        "count": 0
                      },
                      {
                        "bin_start": -3.3311925148757506,
                        "bin_end": -2.664263737960969,
                        "count": 0
                      },
                      {
                        "bin_start": -2.664263737960969,
                        "bin_end": -1.9973349610461861,
                        "count": 0
                      },
                      {
                        "bin_start": -1.9973349610461861,
                        "bin_end": -1.3304061841314034,
                        "count": 0
                      },
                      {
                        "bin_start": -1.3304061841314034,
                        "bin_end": -0.6634774072166207,
                        "count": 0
                      },
                      {
                        "bin_start": -0.6634774072166207,
                        "bin_end": 0.0034513696981623497,
                        "count": 1
                      }
                    ]
                  }
                },
                {
                  "name": "V18",
                  "dtype": "float64",
                  "stats": {
                    "unique_count": 2,
                    "nan_count": 0,
                    "min": "-2.2463081339714064",
                    "max": "0.04489285085836859",
                    "histogram": [
                      {
                        "bin_start": -2.2463081339714064,
                        "bin_end": -2.017188035488429,
                        "count": 1
                      },
                      {
                        "bin_start": -2.017188035488429,
                        "bin_end": -1.7880679370054513,
                        "count": 0
                      },
                      {
                        "bin_start": -1.7880679370054513,
                        "bin_end": -1.558947838522474,
                        "count": 0
                      },
                      {
                        "bin_start": -1.558947838522474,
                        "bin_end": -1.3298277400394964,
                        "count": 0
                      },
                      {
                        "bin_start": -1.3298277400394964,
                        "bin_end": -1.100707641556519,
                        "count": 0
                      },
                      {
                        "bin_start": -1.100707641556519,
                        "bin_end": -0.8715875430735416,
                        "count": 0
                      },
                      {
                        "bin_start": -0.8715875430735416,
                        "bin_end": -0.642467444590564,
                        "count": 0
                      },
                      {
                        "bin_start": -0.642467444590564,
                        "bin_end": -0.4133473461075865,
                        "count": 0
                      },
                      {
                        "bin_start": -0.4133473461075865,
                        "bin_end": -0.18422724762460918,
                        "count": 0
                      },
                      {
                        "bin_start": -0.18422724762460918,
                        "bin_end": 0.04489285085836859,
                        "count": 1
                      }
                    ]
                  }
                },
                {
                  "name": "V19",
                  "dtype": "float64",
                  "stats": {
                    "unique_count": 2,
                    "nan_count": 0,
                    "min": "0.007626735587838438",
                    "max": "0.680659303475429",
                    "histogram": [
                      {
                        "bin_start": 0.007626735587838438,
                        "bin_end": 0.0749299923765975,
                        "count": 1
                      },
                      {
                        "bin_start": 0.0749299923765975,
                        "bin_end": 0.14223324916535657,
                        "count": 0
                      },
                      {
                        "bin_start": 0.14223324916535657,
                        "bin_end": 0.20953650595411563,
                        "count": 0
                      },
                      {
                        "bin_start": 0.20953650595411563,
                        "bin_end": 0.2768397627428747,
                        "count": 0
                      },
                      {
                        "bin_start": 0.2768397627428747,
                        "bin_end": 0.34414301953163373,
                        "count": 0
                      },
                      {
                        "bin_start": 0.34414301953163373,
                        "bin_end": 0.4114462763203928,
                        "count": 0
                      },
                      {
                        "bin_start": 0.4114462763203928,
                        "bin_end": 0.4787495331091519,
                        "count": 0
                      },
                      {
                        "bin_start": 0.4787495331091519,
                        "bin_end": 0.546052789897911,
                        "count": 0
                      },
                      {
                        "bin_start": 0.546052789897911,
                        "bin_end": 0.61335604668667,
                        "count": 0
                      },
                      {
                        "bin_start": 0.61335604668667,
                        "bin_end": 0.680659303475429,
                        "count": 1
                      }
                    ]
                  }
                },
                {
                  "name": "V20",
                  "dtype": "float64",
                  "stats": {
                    "unique_count": 2,
                    "nan_count": 0,
                    "min": "0.00586275762928042",
                    "max": "0.37231939577147166",
                    "histogram": [
                      {
                        "bin_start": 0.00586275762928042,
                        "bin_end": 0.04250842144349955,
                        "count": 1
                      },
                      {
                        "bin_start": 0.04250842144349955,
                        "bin_end": 0.07915408525771866,
                        "count": 0
                      },
                      {
                        "bin_start": 0.07915408525771866,
                        "bin_end": 0.11579974907193778,
                        "count": 0
                      },
                      {
                        "bin_start": 0.11579974907193778,
                        "bin_end": 0.15244541288615693,
                        "count": 0
                      },
                      {
                        "bin_start": 0.15244541288615693,
                        "bin_end": 0.18909107670037606,
                        "count": 0
                      },
                      {
                        "bin_start": 0.18909107670037606,
                        "bin_end": 0.22573674051459516,
                        "count": 0
                      },
                      {
                        "bin_start": 0.22573674051459516,
                        "bin_end": 0.26238240432881427,
                        "count": 0
                      },
                      {
                        "bin_start": 0.26238240432881427,
                        "bin_end": 0.2990280681430334,
                        "count": 0
                      },
                      {
                        "bin_start": 0.2990280681430334,
                        "bin_end": 0.33567373195725253,
                        "count": 0
                      },
                      {
                        "bin_start": 0.33567373195725253,
                        "bin_end": 0.37231939577147166,
                        "count": 1
                      }
                    ]
                  }
                },
                {
                  "name": "V21",
                  "dtype": "float64",
                  "stats": {
                    "unique_count": 2,
                    "nan_count": 0,
                    "min": "-0.026104971822745217",
                    "max": "0.7135883526687006",
                    "histogram": [
                      {
                        "bin_start": -0.026104971822745217,
                        "bin_end": 0.047864360626399365,
                        "count": 1
                      },
                      {
                        "bin_start": 0.047864360626399365,
                        "bin_end": 0.12183369307554395,
                        "count": 0
                      },
                      {
                        "bin_start": 0.12183369307554395,
                        "bin_end": 0.19580302552468853,
                        "count": 0
                      },
                      {
                        "bin_start": 0.19580302552468853,
                        "bin_end": 0.2697723579738331,
                        "count": 0
                      },
                      {
                        "bin_start": 0.2697723579738331,
                        "bin_end": 0.3437416904229777,
                        "count": 0
                      },
                      {
                        "bin_start": 0.3437416904229777,
                        "bin_end": 0.41771102287212225,
                        "count": 0
                      },
                      {
                        "bin_start": 0.41771102287212225,
                        "bin_end": 0.4916803553212668,
                        "count": 0
                      },
                      {
                        "bin_start": 0.4916803553212668,
                        "bin_end": 0.5656496877704115,
                        "count": 0
                      },
                      {
                        "bin_start": 0.5656496877704115,
                        "bin_end": 0.6396190202195561,
                        "count": 0
                      },
                      {
                        "bin_start": 0.6396190202195561,
                        "bin_end": 0.7135883526687006,
                        "count": 1
                      }
                    ]
                  }
                },
                {
                  "name": "V22",
                  "dtype": "float64",
                  "stats": {
                    "unique_count": 2,
                    "nan_count": 0,
                    "min": "0.01404888214012134",
                    "max": "0.014112228693497077",
                    "histogram": [
                      {
                        "bin_start": 0.01404888214012134,
                        "bin_end": 0.014055216795458915,
                        "count": 1
                      },
                      {
                        "bin_start": 0.014055216795458915,
                        "bin_end": 0.014061551450796487,
                        "count": 0
                      },
                      {
                        "bin_start": 0.014061551450796487,
                        "bin_end": 0.014067886106134062,
                        "count": 0
                      },
                      {
                        "bin_start": 0.014067886106134062,
                        "bin_end": 0.014074220761471634,
                        "count": 0
                      },
                      {
                        "bin_start": 0.014074220761471634,
                        "bin_end": 0.014080555416809208,
                        "count": 0
                      },
                      {
                        "bin_start": 0.014080555416809208,
                        "bin_end": 0.014086890072146783,
                        "count": 0
                      },
                      {
                        "bin_start": 0.014086890072146783,
                        "bin_end": 0.014093224727484355,
                        "count": 0
                      },
                      {
                        "bin_start": 0.014093224727484355,
                        "bin_end": 0.01409955938282193,
                        "count": 0
                      },
                      {
                        "bin_start": 0.01409955938282193,
                        "bin_end": 0.014105894038159502,
                        "count": 0
                      },
                      {
                        "bin_start": 0.014105894038159502,
                        "bin_end": 0.014112228693497077,
                        "count": 1
                      }
                    ]
                  }
                },
                {
                  "name": "V23",
                  "dtype": "float64",
                  "stats": {
                    "unique_count": 2,
                    "nan_count": 0,
                    "min": "-0.04030796594836945",
                    "max": "-0.011581638197143416",
                    "histogram": [
                      {
                        "bin_start": -0.04030796594836945,
                        "bin_end": -0.03743533317324684,
                        "count": 1
                      },
                      {
                        "bin_start": -0.03743533317324684,
                        "bin_end": -0.034562700398124244,
                        "count": 0
                      },
                      {
                        "bin_start": -0.034562700398124244,
                        "bin_end": -0.03169006762300164,
                        "count": 0
                      },
                      {
                        "bin_start": -0.03169006762300164,
                        "bin_end": -0.028817434847879034,
                        "count": 0
                      },
                      {
                        "bin_start": -0.028817434847879034,
                        "bin_end": -0.025944802072756432,
                        "count": 0
                      },
                      {
                        "bin_start": -0.025944802072756432,
                        "bin_end": -0.02307216929763383,
                        "count": 0
                      },
                      {
                        "bin_start": -0.02307216929763383,
                        "bin_end": -0.020199536522511226,
                        "count": 0
                      },
                      {
                        "bin_start": -0.020199536522511226,
                        "bin_end": -0.017326903747388624,
                        "count": 0
                      },
                      {
                        "bin_start": -0.017326903747388624,
                        "bin_end": -0.014454270972266023,
                        "count": 0
                      },
                      {
                        "bin_start": -0.014454270972266023,
                        "bin_end": -0.011581638197143416,
                        "count": 1
                      }
                    ]
                  }
                },
                {
                  "name": "V24",
                  "dtype": "float64",
                  "stats": {
                    "unique_count": 2,
                    "nan_count": 0,
                    "min": "-0.1051303054394829",
                    "max": "-0.057117821482846366",
                    "histogram": [
                      {
                        "bin_start": -0.1051303054394829,
                        "bin_end": -0.10032905704381925,
                        "count": 1
                      },
                      {
                        "bin_start": -0.10032905704381925,
                        "bin_end": -0.09552780864815559,
                        "count": 0
                      },
                      {
                        "bin_start": -0.09552780864815559,
                        "bin_end": -0.09072656025249194,
                        "count": 0
                      },
                      {
                        "bin_start": -0.09072656025249194,
                        "bin_end": -0.08592531185682828,
                        "count": 0
                      },
                      {
                        "bin_start": -0.08592531185682828,
                        "bin_end": -0.08112406346116463,
                        "count": 0
                      },
                      {
                        "bin_start": -0.08112406346116463,
                        "bin_end": -0.07632281506550098,
                        "count": 0
                      },
                      {
                        "bin_start": -0.07632281506550098,
                        "bin_end": -0.07152156666983733,
                        "count": 0
                      },
                      {
                        "bin_start": -0.07152156666983733,
                        "bin_end": -0.06672031827417367,
                        "count": 0
                      },
                      {
                        "bin_start": -0.06672031827417367,
                        "bin_end": -0.061919069878510015,
                        "count": 0
                      },
                      {
                        "bin_start": -0.061919069878510015,
                        "bin_end": -0.057117821482846366,
                        "count": 1
                      }
                    ]
                  }
                },
                {
                  "name": "V25",
                  "dtype": "float64",
                  "stats": {
                    "unique_count": 2,
                    "nan_count": 0,
                    "min": "-0.012940878125005122",
                    "max": "0.04144888726282707",
                    "histogram": [
                      {
                        "bin_start": -0.012940878125005122,
                        "bin_end": -0.007501901586221903,
                        "count": 1
                      },
                      {
                        "bin_start": -0.007501901586221903,
                        "bin_end": -0.0020629250474386834,
                        "count": 0
                      },
                      {
                        "bin_start": -0.0020629250474386834,
                        "bin_end": 0.0033760514913445377,
                        "count": 0
                      },
                      {
                        "bin_start": 0.0033760514913445377,
                        "bin_end": 0.008815028030127755,
                        "count": 0
                      },
                      {
                        "bin_start": 0.008815028030127755,
                        "bin_end": 0.014254004568910973,
                        "count": 0
                      },
                      {
                        "bin_start": 0.014254004568910973,
                        "bin_end": 0.0196929811076942,
                        "count": 0
                      },
                      {
                        "bin_start": 0.0196929811076942,
                        "bin_end": 0.025131957646477417,
                        "count": 0
                      },
                      {
                        "bin_start": 0.025131957646477417,
                        "bin_end": 0.030570934185260634,
                        "count": 0
                      },
                      {
                        "bin_start": 0.030570934185260634,
                        "bin_end": 0.03600991072404385,
                        "count": 0
                      },
                      {
                        "bin_start": 0.03600991072404385,
                        "bin_end": 0.04144888726282707,
                        "count": 1
                      }
                    ]
                  }
                },
                {
                  "name": "V26",
                  "dtype": "float64",
                  "stats": {
                    "unique_count": 2,
                    "nan_count": 0,
                    "min": "-0.0544929449188018",
                    "max": "0.05164812556245366",
                    "histogram": [
                      {
                        "bin_start": -0.0544929449188018,
                        "bin_end": -0.04387883787067626,
                        "count": 1
                      },
                      {
                        "bin_start": -0.04387883787067626,
                        "bin_end": -0.03326473082255071,
                        "count": 0
                      },
                      {
                        "bin_start": -0.03326473082255071,
                        "bin_end": -0.022650623774425158,
                        "count": 0
                      },
                      {
                        "bin_start": -0.022650623774425158,
                        "bin_end": -0.012036516726299615,
                        "count": 0
                      },
                      {
                        "bin_start": -0.012036516726299615,
                        "bin_end": -0.001422409678174072,
                        "count": 0
                      },
                      {
                        "bin_start": -0.001422409678174072,
                        "bin_end": 0.009191697369951485,
                        "count": 0
                      },
                      {
                        "bin_start": 0.009191697369951485,
                        "bin_end": 0.019805804418077028,
                        "count": 0
                      },
                      {
                        "bin_start": 0.019805804418077028,
                        "bin_end": 0.03041991146620257,
                        "count": 0
                      },
                      {
                        "bin_start": 0.03041991146620257,
                        "bin_end": 0.04103401851432811,
                        "count": 0
                      },
                      {
                        "bin_start": 0.04103401851432811,
                        "bin_end": 0.05164812556245366,
                        "count": 1
                      }
                    ]
                  }
                },
                {
                  "name": "V27",
                  "dtype": "float64",
                  "stats": {
                    "unique_count": 2,
                    "nan_count": 0,
                    "min": "-0.020318010819270982",
                    "max": "0.17057479224418595",
                    "histogram": [
                      {
                        "bin_start": -0.020318010819270982,
                        "bin_end": -0.0012287305129252898,
                        "count": 1
                      },
                      {
                        "bin_start": -0.0012287305129252898,
                        "bin_end": 0.017860549793420402,
                        "count": 0
                      },
                      {
                        "bin_start": 0.017860549793420402,
                        "bin_end": 0.036949830099766094,
                        "count": 0
                      },
                      {
                        "bin_start": 0.036949830099766094,
                        "bin_end": 0.056039110406111786,
                        "count": 0
                      },
                      {
                        "bin_start": 0.056039110406111786,
                        "bin_end": 0.07512839071245747,
                        "count": 0
                      },
                      {
                        "bin_start": 0.07512839071245747,
                        "bin_end": 0.09421767101880317,
                        "count": 0
                      },
                      {
                        "bin_start": 0.09421767101880317,
                        "bin_end": 0.11330695132514887,
                        "count": 0
                      },
                      {
                        "bin_start": 0.11330695132514887,
                        "bin_end": 0.13239623163149455,
                        "count": 0
                      },
                      {
                        "bin_start": 0.13239623163149455,
                        "bin_end": 0.15148551193784024,
                        "count": 0
                      },
                      {
                        "bin_start": 0.15148551193784024,
                        "bin_end": 0.17057479224418595,
                        "count": 1
                      }
                    ]
                  }
                },
                {
                  "name": "V28",
                  "dtype": "float64",
                  "stats": {
                    "unique_count": 2,
                    "nan_count": 0,
                    "min": "-0.002332847075251692",
                    "max": "0.0756672906457746",
                    "histogram": [
                      {
                        "bin_start": -0.002332847075251692,
                        "bin_end": 0.005467166696850937,
                        "count": 1
                      },
                      {
                        "bin_start": 0.005467166696850937,
                        "bin_end": 0.013267180468953567,
                        "count": 0
                      },
                      {
                        "bin_start": 0.013267180468953567,
                        "bin_end": 0.021067194241056193,
                        "count": 0
                      },
                      {
                        "bin_start": 0.021067194241056193,
                        "bin_end": 0.028867208013158823,
                        "count": 0
                      },
                      {
                        "bin_start": 0.028867208013158823,
                        "bin_end": 0.03666722178526145,
                        "count": 0
                      },
                      {
                        "bin_start": 0.03666722178526145,
                        "bin_end": 0.04446723555736408,
                        "count": 0
                      },
                      {
                        "bin_start": 0.04446723555736408,
                        "bin_end": 0.05226724932946671,
                        "count": 0
                      },
                      {
                        "bin_start": 0.05226724932946671,
                        "bin_end": 0.06006726310156934,
                        "count": 0
                      },
                      {
                        "bin_start": 0.06006726310156934,
                        "bin_end": 0.06786727687367197,
                        "count": 0
                      },
                      {
                        "bin_start": 0.06786727687367197,
                        "bin_end": 0.0756672906457746,
                        "count": 1
                      }
                    ]
                  }
                },
                {
                  "name": "Amount",
                  "dtype": "float64",
                  "stats": {
                    "unique_count": 2,
                    "nan_count": 0,
                    "min": "84.64026422764228",
                    "max": "122.21132113821139",
                    "histogram": [
                      {
                        "bin_start": 84.64026422764228,
                        "bin_end": 88.39736991869918,
                        "count": 1
                      },
                      {
                        "bin_start": 88.39736991869918,
                        "bin_end": 92.1544756097561,
                        "count": 0
                      },
                      {
                        "bin_start": 92.1544756097561,
                        "bin_end": 95.91158130081301,
                        "count": 0
                      },
                      {
                        "bin_start": 95.91158130081301,
                        "bin_end": 99.66868699186992,
                        "count": 0
                      },
                      {
                        "bin_start": 99.66868699186992,
                        "bin_end": 103.42579268292684,
                        "count": 0
                      },
                      {
                        "bin_start": 103.42579268292684,
                        "bin_end": 107.18289837398375,
                        "count": 0
                      },
                      {
                        "bin_start": 107.18289837398375,
                        "bin_end": 110.94000406504065,
                        "count": 0
                      },
                      {
                        "bin_start": 110.94000406504065,
                        "bin_end": 114.69710975609757,
                        "count": 0
                      },
                      {
                        "bin_start": 114.69710975609757,
                        "bin_end": 118.45421544715448,
                        "count": 0
                      },
                      {
                        "bin_start": 118.45421544715448,
                        "bin_end": 122.21132113821139,
                        "count": 1
                      }
                    ]
                  }
                },
                {
                  "name": "_deepnote_index_column",
                  "dtype": "int64"
                }
              ],
              "rows": [
                {
                  "Time": 94796.21138211382,
                  "V1": 0.11843484006474703,
                  "V2": -0.08397736556512593,
                  "V3": 0.05895672102828772,
                  "V4": -0.09279989380845138,
                  "V5": 0.006638825515682187,
                  "V6": 0.0753682705099517,
                  "V7": -0.07214521237852098,
                  "V8": -0.0422020754873208,
                  "V9": 0.004621788090023779,
                  "V10": 0.06327553134481663,
                  "V11": -0.1271647205496322,
                  "V12": -0.023129160172131163,
                  "V13": -0.012001603402491429,
                  "V14": -0.07827290027584152,
                  "V15": -0.010566834281344934,
                  "V16": -0.03459773037594601,
                  "V17": 0.0034513696981623497,
                  "V18": 0.04489285085836859,
                  "V19": 0.007626735587838438,
                  "V20": 0.00586275762928042,
                  "V21": -0.026104971822745217,
                  "V22": 0.014112228693497077,
                  "V23": -0.011581638197143416,
                  "V24": -0.057117821482846366,
                  "V25": -0.012940878125005122,
                  "V26": -0.0544929449188018,
                  "V27": -0.020318010819270982,
                  "V28": -0.002332847075251692,
                  "Amount": 84.64026422764228,
                  "_deepnote_index_column": 0
                },
                {
                  "Time": 80746.80691056911,
                  "V1": -4.771948441479082,
                  "V2": 3.6237781019822806,
                  "V3": -7.0332810485965584,
                  "V4": 4.542029104423093,
                  "V5": -3.1512248859360046,
                  "V6": -1.3977367105923515,
                  "V7": -5.5687310837427395,
                  "V8": 0.5706358952962378,
                  "V9": -2.5811229217029954,
                  "V10": -5.676882870194368,
                  "V11": 3.800172911374607,
                  "V12": -6.259393036190131,
                  "V13": -0.10933381708278404,
                  "V14": -6.971722894107602,
                  "V15": -0.09292874691208504,
                  "V16": -4.139945699092808,
                  "V17": -6.665836399449663,
                  "V18": -2.2463081339714064,
                  "V19": 0.680659303475429,
                  "V20": 0.37231939577147166,
                  "V21": 0.7135883526687006,
                  "V22": 0.01404888214012134,
                  "V23": -0.04030796594836945,
                  "V24": -0.1051303054394829,
                  "V25": 0.04144888726282707,
                  "V26": 0.05164812556245366,
                  "V27": 0.17057479224418595,
                  "V28": 0.0756672906457746,
                  "Amount": 122.21132113821139,
                  "_deepnote_index_column": 1
                }
              ]
            },
            "text/plain": "               Time        V1        V2        V3        V4        V5  \\\nClass                                                                   \n0      94796.211382  0.118435 -0.083977  0.058957 -0.092800  0.006639   \n1      80746.806911 -4.771948  3.623778 -7.033281  4.542029 -3.151225   \n\n             V6        V7        V8        V9  ...       V20       V21  \\\nClass                                          ...                       \n0      0.075368 -0.072145 -0.042202  0.004622  ...  0.005863 -0.026105   \n1     -1.397737 -5.568731  0.570636 -2.581123  ...  0.372319  0.713588   \n\n            V22       V23       V24       V25       V26       V27       V28  \\\nClass                                                                         \n0      0.014112 -0.011582 -0.057118 -0.012941 -0.054493 -0.020318 -0.002333   \n1      0.014049 -0.040308 -0.105130  0.041449  0.051648  0.170575  0.075667   \n\n           Amount  \nClass              \n0       84.640264  \n1      122.211321  \n\n[2 rows x 30 columns]",
            "text/html": "<div>\n<style scoped>\n    .dataframe tbody tr th:only-of-type {\n        vertical-align: middle;\n    }\n\n    .dataframe tbody tr th {\n        vertical-align: top;\n    }\n\n    .dataframe thead th {\n        text-align: right;\n    }\n</style>\n<table border=\"1\" class=\"dataframe\">\n  <thead>\n    <tr style=\"text-align: right;\">\n      <th></th>\n      <th>Time</th>\n      <th>V1</th>\n      <th>V2</th>\n      <th>V3</th>\n      <th>V4</th>\n      <th>V5</th>\n      <th>V6</th>\n      <th>V7</th>\n      <th>V8</th>\n      <th>V9</th>\n      <th>...</th>\n      <th>V20</th>\n      <th>V21</th>\n      <th>V22</th>\n      <th>V23</th>\n      <th>V24</th>\n      <th>V25</th>\n      <th>V26</th>\n      <th>V27</th>\n      <th>V28</th>\n      <th>Amount</th>\n    </tr>\n    <tr>\n      <th>Class</th>\n      <th></th>\n      <th></th>\n      <th></th>\n      <th></th>\n      <th></th>\n      <th></th>\n      <th></th>\n      <th></th>\n      <th></th>\n      <th></th>\n      <th></th>\n      <th></th>\n      <th></th>\n      <th></th>\n      <th></th>\n      <th></th>\n      <th></th>\n      <th></th>\n      <th></th>\n      <th></th>\n      <th></th>\n    </tr>\n  </thead>\n  <tbody>\n    <tr>\n      <th>0</th>\n      <td>94796.211382</td>\n      <td>0.118435</td>\n      <td>-0.083977</td>\n      <td>0.058957</td>\n      <td>-0.092800</td>\n      <td>0.006639</td>\n      <td>0.075368</td>\n      <td>-0.072145</td>\n      <td>-0.042202</td>\n      <td>0.004622</td>\n      <td>...</td>\n      <td>0.005863</td>\n      <td>-0.026105</td>\n      <td>0.014112</td>\n      <td>-0.011582</td>\n      <td>-0.057118</td>\n      <td>-0.012941</td>\n      <td>-0.054493</td>\n      <td>-0.020318</td>\n      <td>-0.002333</td>\n      <td>84.640264</td>\n    </tr>\n    <tr>\n      <th>1</th>\n      <td>80746.806911</td>\n      <td>-4.771948</td>\n      <td>3.623778</td>\n      <td>-7.033281</td>\n      <td>4.542029</td>\n      <td>-3.151225</td>\n      <td>-1.397737</td>\n      <td>-5.568731</td>\n      <td>0.570636</td>\n      <td>-2.581123</td>\n      <td>...</td>\n      <td>0.372319</td>\n      <td>0.713588</td>\n      <td>0.014049</td>\n      <td>-0.040308</td>\n      <td>-0.105130</td>\n      <td>0.041449</td>\n      <td>0.051648</td>\n      <td>0.170575</td>\n      <td>0.075667</td>\n      <td>122.211321</td>\n    </tr>\n  </tbody>\n</table>\n<p>2 rows × 30 columns</p>\n</div>"
          },
          "metadata": {}
        }
      ],
      "outputs_reference": null,
      "execution_count": 15,
      "block_group": "16298dc75b4c48b988b9fd53fd4acac1",
      "content_dependencies": null
    },
    {
      "cell_type": "markdown",
      "source": "### Splitting the Data into Features and Targets",
      "metadata": {
        "cell_id": "8077c047368243a5b05d25e61a2cb94d",
        "deepnote_cell_type": "markdown"
      },
      "block_group": "fee3d6a30fe2414881866e9c312b788d"
    },
    {
      "cell_type": "code",
      "source": "X = new_dataset.drop(columns='Class', axis=1)\nY = new_dataset['Class']\n\nprint(X)",
      "metadata": {
        "source_hash": "e39c9309",
        "execution_start": 1727043701421,
        "execution_millis": 538,
        "deepnote_to_be_reexecuted": false,
        "cell_id": "c33cc2aa36a14d62b0ede47e66cd592b",
        "deepnote_cell_type": "code"
      },
      "outputs": [
        {
          "name": "stdout",
          "text": "            Time        V1        V2        V3        V4        V5        V6  \\\n146438   87702.0 -1.801103  1.867006 -0.275454 -2.755099  0.414674 -1.191048   \n18342    29404.0  1.171596 -0.002886 -0.324736  0.967766  0.536666  0.686025   \n70224    53771.0 -6.622475  5.279304 -1.019576 -2.727694 -1.633680 -1.298490   \n229734  146029.0  1.878151 -1.076008 -1.433908 -0.751745 -0.600645 -0.479614   \n147087   88106.0 -3.001271  1.922822  1.235532 -0.899051 -0.426705  0.903832   \n...          ...       ...       ...       ...       ...       ...       ...   \n279863  169142.0 -1.927883  1.125653 -4.518331  1.749293 -1.566487 -2.010494   \n280143  169347.0  1.378559  1.289381 -5.004247  1.411850  0.442581 -1.326536   \n280149  169351.0 -0.676143  1.126366 -2.213700  0.468308 -1.120541 -0.003346   \n281144  169966.0 -3.113832  0.585864 -5.399730  1.817092 -0.840618 -2.943548   \n281674  170348.0  1.991976  0.158476 -2.583441  0.408670  1.151147 -0.096695   \n\n              V7        V8        V9  ...       V20       V21       V22  \\\n146438  0.932630  0.263456  0.534922  ...  0.390897 -0.355086 -0.840600   \n18342   0.112327  0.064952  0.088364  ...  0.053994 -0.150668 -0.375372   \n70224   0.078476  0.524840  4.630643  ...  3.078091 -0.760036 -0.581442   \n229734 -0.623004  0.049372 -0.339939  ...  0.209304 -0.222580 -1.071048   \n147087 -0.756996 -2.289415  1.449482  ... -0.486995  2.315815 -0.302894   \n...          ...       ...       ...  ...       ...       ...       ...   \n279863 -0.882850  0.697211 -2.064945  ...  1.252967  0.778584 -0.319189   \n280143 -1.413170  0.248525 -1.127396  ...  0.226138  0.370612  0.028234   \n280149 -2.234739  1.210158 -0.652250  ...  0.247968  0.751826  0.834108   \n281144 -2.208002  1.058733 -1.632333  ...  0.306271  0.583276 -0.269209   \n281674  0.223050 -0.068384  0.577829  ... -0.017652 -0.164350 -0.295135   \n\n             V23       V24       V25       V26       V27       V28  Amount  \n146438 -0.010211  0.745935  0.190194  0.355374  0.521598  0.354509    1.00  \n18342  -0.375258 -1.377510  0.927224 -0.259862  0.008653  0.002830   68.00  \n70224   0.207949  0.447096  0.743687  0.691495  1.747090  0.822361    0.69  \n229734  0.395553  0.514217 -0.652521 -0.734852 -0.030946 -0.000910  139.00  \n147087  0.048633  0.507617  0.384559  0.528202 -0.806228 -0.259858   41.00  \n...          ...       ...       ...       ...       ...       ...     ...  \n279863  0.639419 -0.294885  0.537503  0.788395  0.292680  0.147968  390.00  \n280143 -0.145640 -0.081049  0.521875  0.739467  0.389152  0.186637    0.76  \n280149  0.190944  0.032070 -0.739695  0.471111  0.385107  0.194361   77.89  \n281144 -0.456108 -0.183659 -0.328168  0.606116  0.884876 -0.253700  245.00  \n281674 -0.072173 -0.450261  0.313267 -0.289617  0.002988 -0.015309   42.53  \n\n[984 rows x 30 columns]\n",
          "output_type": "stream"
        }
      ],
      "outputs_reference": null,
      "execution_count": 16,
      "block_group": "f86f3705f31d49a8894604559b9b5fff",
      "content_dependencies": null
    },
    {
      "cell_type": "code",
      "source": "print(Y)",
      "metadata": {
        "source_hash": "37b7e4bb",
        "execution_start": 1727043701428,
        "execution_millis": 532,
        "deepnote_to_be_reexecuted": false,
        "cell_id": "8d927f6161b84dd880d891565825a60e",
        "deepnote_cell_type": "code"
      },
      "outputs": [
        {
          "name": "stdout",
          "text": "146438    0\n18342     0\n70224     0\n229734    0\n147087    0\n         ..\n279863    1\n280143    1\n280149    1\n281144    1\n281674    1\nName: Class, Length: 984, dtype: int64\n",
          "output_type": "stream"
        }
      ],
      "outputs_reference": null,
      "execution_count": 17,
      "block_group": "b633daad8aeb48298e3dc6f4f28a96ab",
      "content_dependencies": null
    },
    {
      "cell_type": "markdown",
      "source": "### Splitting the Data into Training Data and Testing Data",
      "metadata": {
        "cell_id": "0056c2b9160b4edc801896a7ab4d0472",
        "deepnote_cell_type": "markdown"
      },
      "block_group": "2d95729d0ed74599b672ee707ae6d671"
    },
    {
      "cell_type": "code",
      "source": "from sklearn.model_selection import train_test_split\n\nX_train, X_test, Y_train, Y_test = train_test_split(X, Y, test_size=0.2, stratify=Y, random_state=2)\n\nprint(X.shape, X_train.shape, X_test.shape)",
      "metadata": {
        "source_hash": "de367fa7",
        "execution_start": 1727043701429,
        "execution_millis": 531,
        "deepnote_to_be_reexecuted": false,
        "cell_id": "1387d77e43c9481ca59758f2047da565",
        "deepnote_cell_type": "code"
      },
      "outputs": [
        {
          "name": "stdout",
          "text": "(984, 30) (787, 30) (197, 30)\n",
          "output_type": "stream"
        }
      ],
      "outputs_reference": null,
      "execution_count": 18,
      "block_group": "7e84ceb6abc24d8d891fbf34d6f2d1f6",
      "content_dependencies": null
    },
    {
      "cell_type": "code",
      "source": "import seaborn as sns\n\n# Now you can use sns for visualizations, retry the pairplot\ndf = new_dataset  # Assuming 'df' should be assigned to 'new_dataset'\nsns.pairplot(df, hue='Class')",
      "metadata": {
        "source_hash": "61899567",
        "execution_start": 1727043716319,
        "execution_millis": 0,
        "deepnote_to_be_reexecuted": false,
        "cell_id": "c42ab189b6a24ff4b395dd701fe5b541",
        "deepnote_cell_type": "code"
      },
      "outputs": [],
      "outputs_reference": null,
      "execution_count": 19,
      "block_group": "34a77b28bc5d4ef293ac1c903bc74ebe",
      "content_dependencies": null
    },
    {
      "cell_type": "markdown",
      "source": "### Model Training",
      "metadata": {
        "cell_id": "c4c2b243959d42d7b6a3e0ac3a139ee7",
        "deepnote_cell_type": "markdown"
      },
      "block_group": "8b8c593b85024809840b318ab57539d3"
    },
    {
      "cell_type": "code",
      "source": "# Import the necessary library for Logistic Regression\nfrom sklearn.linear_model import LogisticRegression\n\n# Initialize the model\nmodel = LogisticRegression()\n\n# Now you can proceed with training the model\n# model.fit(X_train, Y_train)",
      "metadata": {
        "source_hash": "2267c7fe",
        "execution_start": 1726975480045,
        "execution_millis": 58,
        "deepnote_to_be_reexecuted": false,
        "cell_id": "6e2727b7d5064ecdb38f9c1182cc9e6f",
        "deepnote_cell_type": "code"
      },
      "outputs": [],
      "outputs_reference": null,
      "execution_count": null,
      "block_group": "6c47b04bd17142dda772ccddeea13212",
      "content_dependencies": null
    },
    {
      "cell_type": "markdown",
      "source": "### Accuracy Score",
      "metadata": {
        "cell_id": "d9b045f1626643fb8fd2ef5e317e1e49",
        "deepnote_cell_type": "markdown"
      },
      "block_group": "cd37b7d41fb84019aad0695b1157d1cc"
    },
    {
      "cell_type": "code",
      "source": "from sklearn.linear_model import LogisticRegression\nfrom sklearn.model_selection import train_test_split\nfrom sklearn.metrics import accuracy_score\n\n# Use the existing X, Y from previous state\nX_train, X_test, Y_train, Y_test = train_test_split(X, Y, test_size=0.2, stratify=Y, random_state=2)\n\n# Initialize and fit the model\nmodel = LogisticRegression()\nmodel.fit(X_train, Y_train)\n\n# Make predictions and calculate accuracy\nX_train_prediction = model.predict(X_train)\ntraining_data_accuracy = accuracy_score(X_train_prediction, Y_train)\n\nprint('Accuracy on Training data : ', training_data_accuracy)",
      "metadata": {
        "source_hash": "bd9c7b91",
        "execution_start": 1726975590019,
        "execution_millis": 276,
        "deepnote_to_be_reexecuted": true,
        "cell_id": "9fbd4074ec484c5991ae2399ffa9224d",
        "deepnote_cell_type": "code"
      },
      "outputs": [
        {
          "name": "stdout",
          "text": "Accuracy on Training data :  0.9390088945362135\n",
          "output_type": "stream"
        }
      ],
      "outputs_reference": null,
      "execution_count": null,
      "block_group": "0a22ea231c5a482d9f5d8648c1309251",
      "content_dependencies": null
    },
    {
      "cell_type": "code",
      "source": "X_test_prediction = model.predict(X_test)\ntest_data_accuracy = accuracy_score(X_test_prediction, Y_test)\n\nprint('Accuracy on Test data : ', test_data_accuracy)",
      "metadata": {
        "source_hash": "517bc540",
        "execution_start": 1726975604627,
        "execution_millis": 80,
        "deepnote_to_be_reexecuted": false,
        "cell_id": "bf3bde2162304f70aae3bc776d3a3a0c",
        "deepnote_cell_type": "code"
      },
      "outputs": [
        {
          "name": "stdout",
          "text": "Accuracy on Test data :  0.9289340101522843\n",
          "output_type": "stream"
        }
      ],
      "outputs_reference": null,
      "execution_count": null,
      "block_group": "d853a98e483d4cabb8da7f6b6aca4bd4",
      "content_dependencies": null
    },
    {
      "cell_type": "markdown",
      "source": "<a style='text-decoration:none;line-height:16px;display:flex;color:#5B5B62;padding:10px;justify-content:end;' href='https://deepnote.com?utm_source=created-in-deepnote-cell&projectId=0e222dd4-00a3-4786-aa8b-a269f7a7f431' target=\"_blank\">\n<img alt='Created in deepnote.com' style='display:inline;max-height:16px;margin:0px;margin-right:7.5px;' src='data:image/svg+xml;base64,PD94bWwgdmVyc2lvbj0iMS4wIiBlbmNvZGluZz0iVVRGLTgiPz4KPHN2ZyB3aWR0aD0iODBweCIgaGVpZ2h0PSI4MHB4IiB2aWV3Qm94PSIwIDAgODAgODAiIHZlcnNpb249IjEuMSIgeG1sbnM9Imh0dHA6Ly93d3cudzMub3JnLzIwMDAvc3ZnIiB4bWxuczp4bGluaz0iaHR0cDovL3d3dy53My5vcmcvMTk5OS94bGluayI+CiAgICA8IS0tIEdlbmVyYXRvcjogU2tldGNoIDU0LjEgKDc2NDkwKSAtIGh0dHBzOi8vc2tldGNoYXBwLmNvbSAtLT4KICAgIDx0aXRsZT5Hcm91cCAzPC90aXRsZT4KICAgIDxkZXNjPkNyZWF0ZWQgd2l0aCBTa2V0Y2guPC9kZXNjPgogICAgPGcgaWQ9IkxhbmRpbmciIHN0cm9rZT0ibm9uZSIgc3Ryb2tlLXdpZHRoPSIxIiBmaWxsPSJub25lIiBmaWxsLXJ1bGU9ImV2ZW5vZGQiPgogICAgICAgIDxnIGlkPSJBcnRib2FyZCIgdHJhbnNmb3JtPSJ0cmFuc2xhdGUoLTEyMzUuMDAwMDAwLCAtNzkuMDAwMDAwKSI+CiAgICAgICAgICAgIDxnIGlkPSJHcm91cC0zIiB0cmFuc2Zvcm09InRyYW5zbGF0ZSgxMjM1LjAwMDAwMCwgNzkuMDAwMDAwKSI+CiAgICAgICAgICAgICAgICA8cG9seWdvbiBpZD0iUGF0aC0yMCIgZmlsbD0iIzAyNjVCNCIgcG9pbnRzPSIyLjM3NjIzNzYyIDgwIDM4LjA0NzY2NjcgODAgNTcuODIxNzgyMiA3My44MDU3NTkyIDU3LjgyMTc4MjIgMzIuNzU5MjczOSAzOS4xNDAyMjc4IDMxLjY4MzE2ODMiPjwvcG9seWdvbj4KICAgICAgICAgICAgICAgIDxwYXRoIGQ9Ik0zNS4wMDc3MTgsODAgQzQyLjkwNjIwMDcsNzYuNDU0OTM1OCA0Ny41NjQ5MTY3LDcxLjU0MjI2NzEgNDguOTgzODY2LDY1LjI2MTk5MzkgQzUxLjExMjI4OTksNTUuODQxNTg0MiA0MS42NzcxNzk1LDQ5LjIxMjIyODQgMjUuNjIzOTg0Niw0OS4yMTIyMjg0IEMyNS40ODQ5Mjg5LDQ5LjEyNjg0NDggMjkuODI2MTI5Niw0My4yODM4MjQ4IDM4LjY0NzU4NjksMzEuNjgzMTY4MyBMNzIuODcxMjg3MSwzMi41NTQ0MjUgTDY1LjI4MDk3Myw2Ny42NzYzNDIxIEw1MS4xMTIyODk5LDc3LjM3NjE0NCBMMzUuMDA3NzE4LDgwIFoiIGlkPSJQYXRoLTIyIiBmaWxsPSIjMDAyODY4Ij48L3BhdGg+CiAgICAgICAgICAgICAgICA8cGF0aCBkPSJNMCwzNy43MzA0NDA1IEwyNy4xMTQ1MzcsMC4yNTcxMTE0MzYgQzYyLjM3MTUxMjMsLTEuOTkwNzE3MDEgODAsMTAuNTAwMzkyNyA4MCwzNy43MzA0NDA1IEM4MCw2NC45NjA0ODgyIDY0Ljc3NjUwMzgsNzkuMDUwMzQxNCAzNC4zMjk1MTEzLDgwIEM0Ny4wNTUzNDg5LDc3LjU2NzA4MDggNTMuNDE4MjY3Nyw3MC4zMTM2MTAzIDUzLjQxODI2NzcsNTguMjM5NTg4NSBDNTMuNDE4MjY3Nyw0MC4xMjg1NTU3IDM2LjMwMzk1NDQsMzcuNzMwNDQwNSAyNS4yMjc0MTcsMzcuNzMwNDQwNSBDMTcuODQzMDU4NiwzNy43MzA0NDA1IDkuNDMzOTE5NjYsMzcuNzMwNDQwNSAwLDM3LjczMDQ0MDUgWiIgaWQ9IlBhdGgtMTkiIGZpbGw9IiMzNzkzRUYiPjwvcGF0aD4KICAgICAgICAgICAgPC9nPgogICAgICAgIDwvZz4KICAgIDwvZz4KPC9zdmc+' > </img>\nCreated in <span style='font-weight:600;margin-left:4px;'>Deepnote</span></a>",
      "metadata": {
        "created_in_deepnote_cell": true,
        "deepnote_cell_type": "markdown"
      }
    }
  ],
  "nbformat": 4,
  "nbformat_minor": 0,
  "metadata": {
    "deepnote_notebook_id": "602660e972ad4c99a177b4217ccb4bd2",
    "deepnote_execution_queue": []
  }
}