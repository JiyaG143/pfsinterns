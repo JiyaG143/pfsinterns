{
  "cells": [
    {
      "cell_type": "code",
      "source": "import numpy as np\nimport pandas as pd",
      "metadata": {
        "source_hash": "b7dcc9c8",
        "execution_start": 1726973744148,
        "execution_millis": 183,
        "deepnote_to_be_reexecuted": false,
        "cell_id": "99c773f5307f4a2eabc0cf02530f3552",
        "deepnote_cell_type": "code"
      },
      "outputs": [],
      "outputs_reference": null,
      "execution_count": 1,
      "block_group": "99c773f5307f4a2eabc0cf02530f3552",
      "content_dependencies": null
    },
    {
      "cell_type": "code",
      "source": "input_1 = 'file_input_uploads/creditcard.csv'",
      "metadata": {
        "source_hash": "eec36030",
        "execution_start": 1726973744149,
        "execution_millis": 183,
        "deepnote_variable_name": "input_1",
        "deepnote_variable_value": "file_input_uploads/creditcard.csv",
        "deepnote_to_be_reexecuted": false,
        "cell_id": "8b1611365ae54c7db7216a0327564c2b",
        "deepnote_cell_type": "input-file"
      },
      "outputs": [],
      "outputs_reference": null,
      "execution_count": 2,
      "block_group": "059df0f63f1148d1bff4ededefb75324"
    },
    {
      "cell_type": "markdown",
      "source": "### Data Cleaning/Processing",
      "metadata": {
        "cell_id": "5a66b63f561c4c1da4ef68a2e8be81b2",
        "deepnote_cell_type": "markdown"
      },
      "block_group": "7bb3a62d6f404228b5167ac0d55d3788"
    },
    {
      "cell_type": "code",
      "source": "# Adjust the file path based on the variable input_1\ncredit_card_data = pd.read_csv(input_1)\ncredit_card_data.head()",
      "metadata": {
        "source_hash": "2e89e9e3",
        "execution_start": 1726973744150,
        "execution_millis": 4642,
        "deepnote_to_be_reexecuted": false,
        "cell_id": "c2f0163cbeab4379bf1f39ab6829aafd",
        "deepnote_cell_type": "code"
      },
      "outputs": [
        {
          "output_type": "execute_result",
          "execution_count": 3,
          "data": {
            "application/vnd.deepnote.dataframe.v3+json": {
              "column_count": 31,
              "row_count": 5,
              "columns": [
                {
                  "name": "Time",
                  "dtype": "float64",
                  "stats": {
                    "unique_count": 3,
                    "nan_count": 0,
                    "min": "0.0",
                    "max": "2.0",
                    "histogram": [
                      {
                        "bin_start": 0,
                        "bin_end": 0.2,
                        "count": 2
                      },
                      {
                        "bin_start": 0.2,
                        "bin_end": 0.4,
                        "count": 0
                      },
                      {
                        "bin_start": 0.4,
                        "bin_end": 0.6000000000000001,
                        "count": 0
                      },
                      {
                        "bin_start": 0.6000000000000001,
                        "bin_end": 0.8,
                        "count": 0
                      },
                      {
                        "bin_start": 0.8,
                        "bin_end": 1,
                        "count": 0
                      },
                      {
                        "bin_start": 1,
                        "bin_end": 1.2000000000000002,
                        "count": 2
                      },
                      {
                        "bin_start": 1.2000000000000002,
                        "bin_end": 1.4000000000000001,
                        "count": 0
                      },
                      {
                        "bin_start": 1.4000000000000001,
                        "bin_end": 1.6,
                        "count": 0
                      },
                      {
                        "bin_start": 1.6,
                        "bin_end": 1.8,
                        "count": 0
                      },
                      {
                        "bin_start": 1.8,
                        "bin_end": 2,
                        "count": 1
                      }
                    ]
                  }
                },
                {
                  "name": "V1",
                  "dtype": "float64",
                  "stats": {
                    "unique_count": 5,
                    "nan_count": 0,
                    "min": "-1.3598071336738",
                    "max": "1.19185711131486",
                    "histogram": [
                      {
                        "bin_start": -1.3598071336738,
                        "bin_end": -1.104640709174934,
                        "count": 3
                      },
                      {
                        "bin_start": -1.104640709174934,
                        "bin_end": -0.849474284676068,
                        "count": 1
                      },
                      {
                        "bin_start": -0.849474284676068,
                        "bin_end": -0.594307860177202,
                        "count": 0
                      },
                      {
                        "bin_start": -0.594307860177202,
                        "bin_end": -0.339141435678336,
                        "count": 0
                      },
                      {
                        "bin_start": -0.339141435678336,
                        "bin_end": -0.08397501117946993,
                        "count": 0
                      },
                      {
                        "bin_start": -0.08397501117946993,
                        "bin_end": 0.1711914133193959,
                        "count": 0
                      },
                      {
                        "bin_start": 0.1711914133193959,
                        "bin_end": 0.426357837818262,
                        "count": 0
                      },
                      {
                        "bin_start": 0.426357837818262,
                        "bin_end": 0.681524262317128,
                        "count": 0
                      },
                      {
                        "bin_start": 0.681524262317128,
                        "bin_end": 0.9366906868159939,
                        "count": 0
                      },
                      {
                        "bin_start": 0.9366906868159939,
                        "bin_end": 1.19185711131486,
                        "count": 1
                      }
                    ]
                  }
                },
                {
                  "name": "V2",
                  "dtype": "float64",
                  "stats": {
                    "unique_count": 5,
                    "nan_count": 0,
                    "min": "-1.34016307473609",
                    "max": "0.877736754848451",
                    "histogram": [
                      {
                        "bin_start": -1.34016307473609,
                        "bin_end": -1.1183730917776358,
                        "count": 1
                      },
                      {
                        "bin_start": -1.1183730917776358,
                        "bin_end": -0.8965831088191818,
                        "count": 0
                      },
                      {
                        "bin_start": -0.8965831088191818,
                        "bin_end": -0.6747931258607276,
                        "count": 0
                      },
                      {
                        "bin_start": -0.6747931258607276,
                        "bin_end": -0.4530031429022735,
                        "count": 0
                      },
                      {
                        "bin_start": -0.4530031429022735,
                        "bin_end": -0.2312131599438194,
                        "count": 0
                      },
                      {
                        "bin_start": -0.2312131599438194,
                        "bin_end": -0.009423176985365211,
                        "count": 2
                      },
                      {
                        "bin_start": -0.009423176985365211,
                        "bin_end": 0.21236680597308877,
                        "count": 0
                      },
                      {
                        "bin_start": 0.21236680597308877,
                        "bin_end": 0.43415678893154297,
                        "count": 1
                      },
                      {
                        "bin_start": 0.43415678893154297,
                        "bin_end": 0.6559467718899972,
                        "count": 0
                      },
                      {
                        "bin_start": 0.6559467718899972,
                        "bin_end": 0.877736754848451,
                        "count": 1
                      }
                    ]
                  }
                },
                {
                  "name": "V3",
                  "dtype": "float64",
                  "stats": {
                    "unique_count": 5,
                    "nan_count": 0,
                    "min": "0.16648011335321",
                    "max": "2.53634673796914",
                    "histogram": [
                      {
                        "bin_start": 0.16648011335321,
                        "bin_end": 0.403466775814803,
                        "count": 1
                      },
                      {
                        "bin_start": 0.403466775814803,
                        "bin_end": 0.640453438276396,
                        "count": 0
                      },
                      {
                        "bin_start": 0.640453438276396,
                        "bin_end": 0.877440100737989,
                        "count": 0
                      },
                      {
                        "bin_start": 0.877440100737989,
                        "bin_end": 1.1144267631995821,
                        "count": 0
                      },
                      {
                        "bin_start": 1.1144267631995821,
                        "bin_end": 1.3514134256611752,
                        "count": 0
                      },
                      {
                        "bin_start": 1.3514134256611752,
                        "bin_end": 1.5884000881227678,
                        "count": 1
                      },
                      {
                        "bin_start": 1.5884000881227678,
                        "bin_end": 1.8253867505843608,
                        "count": 2
                      },
                      {
                        "bin_start": 1.8253867505843608,
                        "bin_end": 2.062373413045954,
                        "count": 0
                      },
                      {
                        "bin_start": 2.062373413045954,
                        "bin_end": 2.299360075507547,
                        "count": 0
                      },
                      {
                        "bin_start": 2.299360075507547,
                        "bin_end": 2.53634673796914,
                        "count": 1
                      }
                    ]
                  }
                },
                {
                  "name": "V4",
                  "dtype": "float64",
                  "stats": {
                    "unique_count": 5,
                    "nan_count": 0,
                    "min": "-0.863291275036453",
                    "max": "1.37815522427443",
                    "histogram": [
                      {
                        "bin_start": -0.863291275036453,
                        "bin_end": -0.6391466251053647,
                        "count": 1
                      },
                      {
                        "bin_start": -0.6391466251053647,
                        "bin_end": -0.41500197517427634,
                        "count": 0
                      },
                      {
                        "bin_start": -0.41500197517427634,
                        "bin_end": -0.190857325243188,
                        "count": 0
                      },
                      {
                        "bin_start": -0.190857325243188,
                        "bin_end": 0.0332873246879003,
                        "count": 0
                      },
                      {
                        "bin_start": 0.0332873246879003,
                        "bin_end": 0.2574319746189886,
                        "count": 0
                      },
                      {
                        "bin_start": 0.2574319746189886,
                        "bin_end": 0.481576624550077,
                        "count": 3
                      },
                      {
                        "bin_start": 0.481576624550077,
                        "bin_end": 0.7057212744811652,
                        "count": 0
                      },
                      {
                        "bin_start": 0.7057212744811652,
                        "bin_end": 0.9298659244122536,
                        "count": 0
                      },
                      {
                        "bin_start": 0.9298659244122536,
                        "bin_end": 1.1540105743433418,
                        "count": 0
                      },
                      {
                        "bin_start": 1.1540105743433418,
                        "bin_end": 1.37815522427443,
                        "count": 1
                      }
                    ]
                  }
                },
                {
                  "name": "V5",
                  "dtype": "float64",
                  "stats": {
                    "unique_count": 5,
                    "nan_count": 0,
                    "min": "-0.503198133318193",
                    "max": "0.0600176492822243",
                    "histogram": [
                      {
                        "bin_start": -0.503198133318193,
                        "bin_end": -0.4468765550581512,
                        "count": 1
                      },
                      {
                        "bin_start": -0.4468765550581512,
                        "bin_end": -0.3905549767981095,
                        "count": 1
                      },
                      {
                        "bin_start": -0.3905549767981095,
                        "bin_end": -0.33423339853806777,
                        "count": 1
                      },
                      {
                        "bin_start": -0.33423339853806777,
                        "bin_end": -0.2779118202780261,
                        "count": 0
                      },
                      {
                        "bin_start": -0.2779118202780261,
                        "bin_end": -0.22159024201798433,
                        "count": 0
                      },
                      {
                        "bin_start": -0.22159024201798433,
                        "bin_end": -0.16526866375794258,
                        "count": 0
                      },
                      {
                        "bin_start": -0.16526866375794258,
                        "bin_end": -0.10894708549790089,
                        "count": 0
                      },
                      {
                        "bin_start": -0.10894708549790089,
                        "bin_end": -0.05262550723785914,
                        "count": 0
                      },
                      {
                        "bin_start": -0.05262550723785914,
                        "bin_end": 0.003696071022182612,
                        "count": 1
                      },
                      {
                        "bin_start": 0.003696071022182612,
                        "bin_end": 0.0600176492822243,
                        "count": 1
                      }
                    ]
                  }
                },
                {
                  "name": "V6",
                  "dtype": "float64",
                  "stats": {
                    "unique_count": 5,
                    "nan_count": 0,
                    "min": "-0.0823608088155687",
                    "max": "1.80049938079263",
                    "histogram": [
                      {
                        "bin_start": -0.0823608088155687,
                        "bin_end": 0.10592521014525116,
                        "count": 2
                      },
                      {
                        "bin_start": 0.10592521014525116,
                        "bin_end": 0.294211229106071,
                        "count": 0
                      },
                      {
                        "bin_start": 0.294211229106071,
                        "bin_end": 0.48249724806689087,
                        "count": 1
                      },
                      {
                        "bin_start": 0.48249724806689087,
                        "bin_end": 0.6707832670277107,
                        "count": 0
                      },
                      {
                        "bin_start": 0.6707832670277107,
                        "bin_end": 0.8590692859885306,
                        "count": 0
                      },
                      {
                        "bin_start": 0.8590692859885306,
                        "bin_end": 1.0473553049493505,
                        "count": 0
                      },
                      {
                        "bin_start": 1.0473553049493505,
                        "bin_end": 1.2356413239101705,
                        "count": 0
                      },
                      {
                        "bin_start": 1.2356413239101705,
                        "bin_end": 1.4239273428709902,
                        "count": 1
                      },
                      {
                        "bin_start": 1.4239273428709902,
                        "bin_end": 1.61221336183181,
                        "count": 0
                      },
                      {
                        "bin_start": 1.61221336183181,
                        "bin_end": 1.80049938079263,
                        "count": 1
                      }
                    ]
                  }
                },
                {
                  "name": "V7",
                  "dtype": "float64",
                  "stats": {
                    "unique_count": 5,
                    "nan_count": 0,
                    "min": "-0.0788029833323113",
                    "max": "0.791460956450422",
                    "histogram": [
                      {
                        "bin_start": -0.0788029833323113,
                        "bin_end": 0.008223410645962034,
                        "count": 1
                      },
                      {
                        "bin_start": 0.008223410645962034,
                        "bin_end": 0.09524980462423537,
                        "count": 0
                      },
                      {
                        "bin_start": 0.09524980462423537,
                        "bin_end": 0.1822761986025087,
                        "count": 0
                      },
                      {
                        "bin_start": 0.1822761986025087,
                        "bin_end": 0.26930259258078204,
                        "count": 2
                      },
                      {
                        "bin_start": 0.26930259258078204,
                        "bin_end": 0.35632898655905537,
                        "count": 0
                      },
                      {
                        "bin_start": 0.35632898655905537,
                        "bin_end": 0.4433553805373287,
                        "count": 0
                      },
                      {
                        "bin_start": 0.4433553805373287,
                        "bin_end": 0.530381774515602,
                        "count": 0
                      },
                      {
                        "bin_start": 0.530381774515602,
                        "bin_end": 0.6174081684938754,
                        "count": 1
                      },
                      {
                        "bin_start": 0.6174081684938754,
                        "bin_end": 0.7044345624721488,
                        "count": 0
                      },
                      {
                        "bin_start": 0.7044345624721488,
                        "bin_end": 0.791460956450422,
                        "count": 1
                      }
                    ]
                  }
                },
                {
                  "name": "V8",
                  "dtype": "float64",
                  "stats": {
                    "unique_count": 5,
                    "nan_count": 0,
                    "min": "-0.270532677192282",
                    "max": "0.377435874652262",
                    "histogram": [
                      {
                        "bin_start": -0.270532677192282,
                        "bin_end": -0.2057358220078276,
                        "count": 1
                      },
                      {
                        "bin_start": -0.2057358220078276,
                        "bin_end": -0.1409389668233732,
                        "count": 0
                      },
                      {
                        "bin_start": -0.1409389668233732,
                        "bin_end": -0.07614211163891879,
                        "count": 0
                      },
                      {
                        "bin_start": -0.07614211163891879,
                        "bin_end": -0.01134525645446438,
                        "count": 0
                      },
                      {
                        "bin_start": -0.01134525645446438,
                        "bin_end": 0.05345159872999006,
                        "count": 0
                      },
                      {
                        "bin_start": 0.05345159872999006,
                        "bin_end": 0.11824845391444444,
                        "count": 2
                      },
                      {
                        "bin_start": 0.11824845391444444,
                        "bin_end": 0.18304530909889882,
                        "count": 0
                      },
                      {
                        "bin_start": 0.18304530909889882,
                        "bin_end": 0.24784216428335326,
                        "count": 1
                      },
                      {
                        "bin_start": 0.24784216428335326,
                        "bin_end": 0.3126390194678077,
                        "count": 0
                      },
                      {
                        "bin_start": 0.3126390194678077,
                        "bin_end": 0.377435874652262,
                        "count": 1
                      }
                    ]
                  }
                },
                {
                  "name": "V9",
                  "dtype": "float64",
                  "stats": {
                    "unique_count": 5,
                    "nan_count": 0,
                    "min": "-1.51465432260583",
                    "max": "0.817739308235294",
                    "histogram": [
                      {
                        "bin_start": -1.51465432260583,
                        "bin_end": -1.2814149595217177,
                        "count": 2
                      },
                      {
                        "bin_start": -1.2814149595217177,
                        "bin_end": -1.0481755964376052,
                        "count": 0
                      },
                      {
                        "bin_start": -1.0481755964376052,
                        "bin_end": -0.8149362333534929,
                        "count": 0
                      },
                      {
                        "bin_start": -0.8149362333534929,
                        "bin_end": -0.5816968702693804,
                        "count": 0
                      },
                      {
                        "bin_start": -0.5816968702693804,
                        "bin_end": -0.348457507185268,
                        "count": 0
                      },
                      {
                        "bin_start": -0.348457507185268,
                        "bin_end": -0.11521814410115572,
                        "count": 1
                      },
                      {
                        "bin_start": -0.11521814410115572,
                        "bin_end": 0.11802121898295681,
                        "count": 0
                      },
                      {
                        "bin_start": 0.11802121898295681,
                        "bin_end": 0.3512605820670691,
                        "count": 0
                      },
                      {
                        "bin_start": 0.3512605820670691,
                        "bin_end": 0.5844999451511816,
                        "count": 1
                      },
                      {
                        "bin_start": 0.5844999451511816,
                        "bin_end": 0.817739308235294,
                        "count": 1
                      }
                    ]
                  }
                },
                {
                  "name": "V10",
                  "dtype": "float64",
                  "stats": {
                    "unique_count": 5,
                    "nan_count": 0,
                    "min": "-0.166974414004614",
                    "max": "0.753074431976354",
                    "histogram": [
                      {
                        "bin_start": -0.166974414004614,
                        "bin_end": -0.07496952940651719,
                        "count": 1
                      },
                      {
                        "bin_start": -0.07496952940651719,
                        "bin_end": 0.017035355191579615,
                        "count": 1
                      },
                      {
                        "bin_start": 0.017035355191579615,
                        "bin_end": 0.10904023978967642,
                        "count": 1
                      },
                      {
                        "bin_start": 0.10904023978967642,
                        "bin_end": 0.20104512438777322,
                        "count": 0
                      },
                      {
                        "bin_start": 0.20104512438777322,
                        "bin_end": 0.29305000898587,
                        "count": 1
                      },
                      {
                        "bin_start": 0.29305000898587,
                        "bin_end": 0.38505489358396683,
                        "count": 0
                      },
                      {
                        "bin_start": 0.38505489358396683,
                        "bin_end": 0.4770597781820637,
                        "count": 0
                      },
                      {
                        "bin_start": 0.4770597781820637,
                        "bin_end": 0.5690646627801604,
                        "count": 0
                      },
                      {
                        "bin_start": 0.5690646627801604,
                        "bin_end": 0.6610695473782572,
                        "count": 0
                      },
                      {
                        "bin_start": 0.6610695473782572,
                        "bin_end": 0.753074431976354,
                        "count": 1
                      }
                    ]
                  }
                },
                {
                  "name": "V11",
                  "dtype": "float64",
                  "stats": {
                    "unique_count": 5,
                    "nan_count": 0,
                    "min": "-0.822842877946363",
                    "max": "1.61272666105479",
                    "histogram": [
                      {
                        "bin_start": -0.822842877946363,
                        "bin_end": -0.5792859240462477,
                        "count": 1
                      },
                      {
                        "bin_start": -0.5792859240462477,
                        "bin_end": -0.3357289701461324,
                        "count": 1
                      },
                      {
                        "bin_start": -0.3357289701461324,
                        "bin_end": -0.09217201624601712,
                        "count": 1
                      },
                      {
                        "bin_start": -0.09217201624601712,
                        "bin_end": 0.15138493765409822,
                        "count": 0
                      },
                      {
                        "bin_start": 0.15138493765409822,
                        "bin_end": 0.39494189155421355,
                        "count": 0
                      },
                      {
                        "bin_start": 0.39494189155421355,
                        "bin_end": 0.6384988454543288,
                        "count": 1
                      },
                      {
                        "bin_start": 0.6384988454543288,
                        "bin_end": 0.8820557993544442,
                        "count": 0
                      },
                      {
                        "bin_start": 0.8820557993544442,
                        "bin_end": 1.1256127532545595,
                        "count": 0
                      },
                      {
                        "bin_start": 1.1256127532545595,
                        "bin_end": 1.369169707154675,
                        "count": 0
                      },
                      {
                        "bin_start": 1.369169707154675,
                        "bin_end": 1.61272666105479,
                        "count": 1
                      }
                    ]
                  }
                },
                {
                  "name": "V12",
                  "dtype": "float64",
                  "stats": {
                    "unique_count": 5,
                    "nan_count": 0,
                    "min": "-0.617800855762348",
                    "max": "1.06523531137287",
                    "histogram": [
                      {
                        "bin_start": -0.617800855762348,
                        "bin_end": -0.4494972390488262,
                        "count": 1
                      },
                      {
                        "bin_start": -0.4494972390488262,
                        "bin_end": -0.28119362233530437,
                        "count": 0
                      },
                      {
                        "bin_start": -0.28119362233530437,
                        "bin_end": -0.11289000562178253,
                        "count": 0
                      },
                      {
                        "bin_start": -0.11289000562178253,
                        "bin_end": 0.05541361109173926,
                        "count": 0
                      },
                      {
                        "bin_start": 0.05541361109173926,
                        "bin_end": 0.22371722780526104,
                        "count": 2
                      },
                      {
                        "bin_start": 0.22371722780526104,
                        "bin_end": 0.39202084451878294,
                        "count": 0
                      },
                      {
                        "bin_start": 0.39202084451878294,
                        "bin_end": 0.5603244612323046,
                        "count": 1
                      },
                      {
                        "bin_start": 0.5603244612323046,
                        "bin_end": 0.7286280779458265,
                        "count": 0
                      },
                      {
                        "bin_start": 0.7286280779458265,
                        "bin_end": 0.8969316946593484,
                        "count": 0
                      },
                      {
                        "bin_start": 0.8969316946593484,
                        "bin_end": 1.06523531137287,
                        "count": 1
                      }
                    ]
                  }
                },
                {
                  "name": "V13",
                  "dtype": "float64",
                  "stats": {
                    "unique_count": 5,
                    "nan_count": 0,
                    "min": "-0.991389847235408",
                    "max": "1.3458515932154",
                    "histogram": [
                      {
                        "bin_start": -0.991389847235408,
                        "bin_end": -0.7576657031903272,
                        "count": 1
                      },
                      {
                        "bin_start": -0.7576657031903272,
                        "bin_end": -0.5239415591452464,
                        "count": 0
                      },
                      {
                        "bin_start": -0.5239415591452464,
                        "bin_end": -0.29021741510016563,
                        "count": 0
                      },
                      {
                        "bin_start": -0.29021741510016563,
                        "bin_end": -0.05649327105508484,
                        "count": 0
                      },
                      {
                        "bin_start": -0.05649327105508484,
                        "bin_end": 0.17723087298999596,
                        "count": 0
                      },
                      {
                        "bin_start": 0.17723087298999596,
                        "bin_end": 0.41095501703507675,
                        "count": 0
                      },
                      {
                        "bin_start": 0.41095501703507675,
                        "bin_end": 0.6446791610801575,
                        "count": 2
                      },
                      {
                        "bin_start": 0.6446791610801575,
                        "bin_end": 0.8784033051252383,
                        "count": 1
                      },
                      {
                        "bin_start": 0.8784033051252383,
                        "bin_end": 1.1121274491703192,
                        "count": 0
                      },
                      {
                        "bin_start": 1.1121274491703192,
                        "bin_end": 1.3458515932154,
                        "count": 1
                      }
                    ]
                  }
                },
                {
                  "name": "V14",
                  "dtype": "float64",
                  "stats": {
                    "unique_count": 5,
                    "nan_count": 0,
                    "min": "-1.11966983471731",
                    "max": "-0.143772296441519",
                    "histogram": [
                      {
                        "bin_start": -1.11966983471731,
                        "bin_end": -1.0220800808897308,
                        "count": 1
                      },
                      {
                        "bin_start": -1.0220800808897308,
                        "bin_end": -0.9244903270621518,
                        "count": 0
                      },
                      {
                        "bin_start": -0.9244903270621518,
                        "bin_end": -0.8269005732345727,
                        "count": 0
                      },
                      {
                        "bin_start": -0.8269005732345727,
                        "bin_end": -0.7293108194069936,
                        "count": 0
                      },
                      {
                        "bin_start": -0.7293108194069936,
                        "bin_end": -0.6317210655794145,
                        "count": 0
                      },
                      {
                        "bin_start": -0.6317210655794145,
                        "bin_end": -0.5341313117518354,
                        "count": 0
                      },
                      {
                        "bin_start": -0.5341313117518354,
                        "bin_end": -0.4365415579242563,
                        "count": 0
                      },
                      {
                        "bin_start": -0.4365415579242563,
                        "bin_end": -0.33895180409667724,
                        "count": 0
                      },
                      {
                        "bin_start": -0.33895180409667724,
                        "bin_end": -0.24136205026909818,
                        "count": 2
                      },
                      {
                        "bin_start": -0.24136205026909818,
                        "bin_end": -0.143772296441519,
                        "count": 2
                      }
                    ]
                  }
                },
                {
                  "name": "V15",
                  "dtype": "float64",
                  "stats": {
                    "unique_count": 5,
                    "nan_count": 0,
                    "min": "-0.631418117709045",
                    "max": "2.34586494901581",
                    "histogram": [
                      {
                        "bin_start": -0.631418117709045,
                        "bin_end": -0.3336898110365595,
                        "count": 1
                      },
                      {
                        "bin_start": -0.3336898110365595,
                        "bin_end": -0.03596150436407397,
                        "count": 0
                      },
                      {
                        "bin_start": -0.03596150436407397,
                        "bin_end": 0.26176680230841154,
                        "count": 1
                      },
                      {
                        "bin_start": 0.26176680230841154,
                        "bin_end": 0.559495108980897,
                        "count": 0
                      },
                      {
                        "bin_start": 0.559495108980897,
                        "bin_end": 0.8572234156533824,
                        "count": 1
                      },
                      {
                        "bin_start": 0.8572234156533824,
                        "bin_end": 1.154951722325868,
                        "count": 0
                      },
                      {
                        "bin_start": 1.154951722325868,
                        "bin_end": 1.4526800289983537,
                        "count": 0
                      },
                      {
                        "bin_start": 1.4526800289983537,
                        "bin_end": 1.750408335670839,
                        "count": 1
                      },
                      {
                        "bin_start": 1.750408335670839,
                        "bin_end": 2.0481366423433247,
                        "count": 0
                      },
                      {
                        "bin_start": 2.0481366423433247,
                        "bin_end": 2.34586494901581,
                        "count": 1
                      }
                    ]
                  }
                },
                {
                  "name": "V16",
                  "dtype": "float64",
                  "stats": {
                    "unique_count": 5,
                    "nan_count": 0,
                    "min": "-2.89008319444231",
                    "max": "0.463917041022171",
                    "histogram": [
                      {
                        "bin_start": -2.89008319444231,
                        "bin_end": -2.5546831708958617,
                        "count": 1
                      },
                      {
                        "bin_start": -2.5546831708958617,
                        "bin_end": -2.219283147349414,
                        "count": 0
                      },
                      {
                        "bin_start": -2.219283147349414,
                        "bin_end": -1.8838831238029656,
                        "count": 0
                      },
                      {
                        "bin_start": -1.8838831238029656,
                        "bin_end": -1.5484831002565176,
                        "count": 0
                      },
                      {
                        "bin_start": -1.5484831002565176,
                        "bin_end": -1.2130830767100695,
                        "count": 0
                      },
                      {
                        "bin_start": -1.2130830767100695,
                        "bin_end": -0.8776830531636213,
                        "count": 1
                      },
                      {
                        "bin_start": -0.8776830531636213,
                        "bin_end": -0.5422830296171735,
                        "count": 0
                      },
                      {
                        "bin_start": -0.5422830296171735,
                        "bin_end": -0.20688300607072518,
                        "count": 2
                      },
                      {
                        "bin_start": -0.20688300607072518,
                        "bin_end": 0.12851701747572308,
                        "count": 0
                      },
                      {
                        "bin_start": 0.12851701747572308,
                        "bin_end": 0.463917041022171,
                        "count": 1
                      }
                    ]
                  }
                },
                {
                  "name": "V17",
                  "dtype": "float64",
                  "stats": {
                    "unique_count": 5,
                    "nan_count": 0,
                    "min": "-0.684092786345479",
                    "max": "1.10996937869599",
                    "histogram": [
                      {
                        "bin_start": -0.684092786345479,
                        "bin_end": -0.5046865698413321,
                        "count": 1
                      },
                      {
                        "bin_start": -0.5046865698413321,
                        "bin_end": -0.32528035333718514,
                        "count": 0
                      },
                      {
                        "bin_start": -0.32528035333718514,
                        "bin_end": -0.14587413683303818,
                        "count": 1
                      },
                      {
                        "bin_start": -0.14587413683303818,
                        "bin_end": 0.03353207967110872,
                        "count": 1
                      },
                      {
                        "bin_start": 0.03353207967110872,
                        "bin_end": 0.21293829617525561,
                        "count": 1
                      },
                      {
                        "bin_start": 0.21293829617525561,
                        "bin_end": 0.3923445126794026,
                        "count": 0
                      },
                      {
                        "bin_start": 0.3923445126794026,
                        "bin_end": 0.5717507291835494,
                        "count": 0
                      },
                      {
                        "bin_start": 0.5717507291835494,
                        "bin_end": 0.7511569456876964,
                        "count": 0
                      },
                      {
                        "bin_start": 0.7511569456876964,
                        "bin_end": 0.9305631621918434,
                        "count": 0
                      },
                      {
                        "bin_start": 0.9305631621918434,
                        "bin_end": 1.10996937869599,
                        "count": 1
                      }
                    ]
                  }
                },
                {
                  "name": "V18",
                  "dtype": "float64",
                  "stats": {
                    "unique_count": 5,
                    "nan_count": 0,
                    "min": "-0.183361270123994",
                    "max": "1.96577500349538",
                    "histogram": [
                      {
                        "bin_start": -0.183361270123994,
                        "bin_end": 0.03155235723794342,
                        "count": 4
                      },
                      {
                        "bin_start": 0.03155235723794342,
                        "bin_end": 0.24646598459988084,
                        "count": 0
                      },
                      {
                        "bin_start": 0.24646598459988084,
                        "bin_end": 0.46137961196181826,
                        "count": 0
                      },
                      {
                        "bin_start": 0.46137961196181826,
                        "bin_end": 0.6762932393237557,
                        "count": 0
                      },
                      {
                        "bin_start": 0.6762932393237557,
                        "bin_end": 0.8912068666856932,
                        "count": 0
                      },
                      {
                        "bin_start": 0.8912068666856932,
                        "bin_end": 1.1061204940476306,
                        "count": 0
                      },
                      {
                        "bin_start": 1.1061204940476306,
                        "bin_end": 1.321034121409568,
                        "count": 0
                      },
                      {
                        "bin_start": 1.321034121409568,
                        "bin_end": 1.5359477487715054,
                        "count": 0
                      },
                      {
                        "bin_start": 1.5359477487715054,
                        "bin_end": 1.7508613761334428,
                        "count": 0
                      },
                      {
                        "bin_start": 1.7508613761334428,
                        "bin_end": 1.96577500349538,
                        "count": 1
                      }
                    ]
                  }
                },
                {
                  "name": "V19",
                  "dtype": "float64",
                  "stats": {
                    "unique_count": 5,
                    "nan_count": 0,
                    "min": "-2.26185709530414",
                    "max": "0.803486924960175",
                    "histogram": [
                      {
                        "bin_start": -2.26185709530414,
                        "bin_end": -1.9553226932777086,
                        "count": 1
                      },
                      {
                        "bin_start": -1.9553226932777086,
                        "bin_end": -1.648788291251277,
                        "count": 0
                      },
                      {
                        "bin_start": -1.648788291251277,
                        "bin_end": -1.3422538892248457,
                        "count": 0
                      },
                      {
                        "bin_start": -1.3422538892248457,
                        "bin_end": -1.0357194871984141,
                        "count": 1
                      },
                      {
                        "bin_start": -1.0357194871984141,
                        "bin_end": -0.7291850851719825,
                        "count": 0
                      },
                      {
                        "bin_start": -0.7291850851719825,
                        "bin_end": -0.4226506831455512,
                        "count": 0
                      },
                      {
                        "bin_start": -0.4226506831455512,
                        "bin_end": -0.11611628111911942,
                        "count": 1
                      },
                      {
                        "bin_start": -0.11611628111911942,
                        "bin_end": 0.19041812090731192,
                        "count": 0
                      },
                      {
                        "bin_start": 0.19041812090731192,
                        "bin_end": 0.49695252293374326,
                        "count": 1
                      },
                      {
                        "bin_start": 0.49695252293374326,
                        "bin_end": 0.803486924960175,
                        "count": 1
                      }
                    ]
                  }
                },
                {
                  "name": "V20",
                  "dtype": "float64",
                  "stats": {
                    "unique_count": 5,
                    "nan_count": 0,
                    "min": "-0.208037781160366",
                    "max": "0.524979725224404",
                    "histogram": [
                      {
                        "bin_start": -0.208037781160366,
                        "bin_end": -0.134736030521889,
                        "count": 1
                      },
                      {
                        "bin_start": -0.134736030521889,
                        "bin_end": -0.06143427988341202,
                        "count": 1
                      },
                      {
                        "bin_start": -0.06143427988341202,
                        "bin_end": 0.011867470755064974,
                        "count": 0
                      },
                      {
                        "bin_start": 0.011867470755064974,
                        "bin_end": 0.08516922139354197,
                        "count": 0
                      },
                      {
                        "bin_start": 0.08516922139354197,
                        "bin_end": 0.15847097203201896,
                        "count": 0
                      },
                      {
                        "bin_start": 0.15847097203201896,
                        "bin_end": 0.23177272267049595,
                        "count": 0
                      },
                      {
                        "bin_start": 0.23177272267049595,
                        "bin_end": 0.30507447330897297,
                        "count": 1
                      },
                      {
                        "bin_start": 0.30507447330897297,
                        "bin_end": 0.37837622394744996,
                        "count": 0
                      },
                      {
                        "bin_start": 0.37837622394744996,
                        "bin_end": 0.45167797458592696,
                        "count": 1
                      },
                      {
                        "bin_start": 0.45167797458592696,
                        "bin_end": 0.524979725224404,
                        "count": 1
                      }
                    ]
                  }
                },
                {
                  "name": "V21",
                  "dtype": "float64",
                  "stats": {
                    "unique_count": 5,
                    "nan_count": 0,
                    "min": "-0.225775248033138",
                    "max": "0.247998153469754",
                    "histogram": [
                      {
                        "bin_start": -0.225775248033138,
                        "bin_end": -0.17839790788284882,
                        "count": 1
                      },
                      {
                        "bin_start": -0.17839790788284882,
                        "bin_end": -0.1310205677325596,
                        "count": 0
                      },
                      {
                        "bin_start": -0.1310205677325596,
                        "bin_end": -0.08364322758227041,
                        "count": 1
                      },
                      {
                        "bin_start": -0.08364322758227041,
                        "bin_end": -0.0362658874319812,
                        "count": 0
                      },
                      {
                        "bin_start": -0.0362658874319812,
                        "bin_end": 0.011111452718308018,
                        "count": 2
                      },
                      {
                        "bin_start": 0.011111452718308018,
                        "bin_end": 0.05848879286859718,
                        "count": 0
                      },
                      {
                        "bin_start": 0.05848879286859718,
                        "bin_end": 0.1058661330188864,
                        "count": 0
                      },
                      {
                        "bin_start": 0.1058661330188864,
                        "bin_end": 0.1532434731691756,
                        "count": 0
                      },
                      {
                        "bin_start": 0.1532434731691756,
                        "bin_end": 0.20062081331946482,
                        "count": 0
                      },
                      {
                        "bin_start": 0.20062081331946482,
                        "bin_end": 0.247998153469754,
                        "count": 1
                      }
                    ]
                  }
                },
                {
                  "name": "V22",
                  "dtype": "float64",
                  "stats": {
                    "unique_count": 5,
                    "nan_count": 0,
                    "min": "-0.638671952771851",
                    "max": "0.79827849458971",
                    "histogram": [
                      {
                        "bin_start": -0.638671952771851,
                        "bin_end": -0.49497690803569483,
                        "count": 1
                      },
                      {
                        "bin_start": -0.49497690803569483,
                        "bin_end": -0.35128186329953875,
                        "count": 0
                      },
                      {
                        "bin_start": -0.35128186329953875,
                        "bin_end": -0.20758681856338268,
                        "count": 0
                      },
                      {
                        "bin_start": -0.20758681856338268,
                        "bin_end": -0.06389177382722655,
                        "count": 0
                      },
                      {
                        "bin_start": -0.06389177382722655,
                        "bin_end": 0.07980327090892958,
                        "count": 1
                      },
                      {
                        "bin_start": 0.07980327090892958,
                        "bin_end": 0.2234983156450856,
                        "count": 0
                      },
                      {
                        "bin_start": 0.2234983156450856,
                        "bin_end": 0.36719336038124184,
                        "count": 1
                      },
                      {
                        "bin_start": 0.36719336038124184,
                        "bin_end": 0.5108884051173979,
                        "count": 0
                      },
                      {
                        "bin_start": 0.5108884051173979,
                        "bin_end": 0.6545834498535539,
                        "count": 0
                      },
                      {
                        "bin_start": 0.6545834498535539,
                        "bin_end": 0.79827849458971,
                        "count": 2
                      }
                    ]
                  }
                },
                {
                  "name": "V23",
                  "dtype": "float64",
                  "stats": {
                    "unique_count": 5,
                    "nan_count": 0,
                    "min": "-0.190320518742841",
                    "max": "0.909412262347719",
                    "histogram": [
                      {
                        "bin_start": -0.190320518742841,
                        "bin_end": -0.08034724063378501,
                        "count": 3
                      },
                      {
                        "bin_start": -0.08034724063378501,
                        "bin_end": 0.029626037475270983,
                        "count": 0
                      },
                      {
                        "bin_start": 0.029626037475270983,
                        "bin_end": 0.13959931558432698,
                        "count": 1
                      },
                      {
                        "bin_start": 0.13959931558432698,
                        "bin_end": 0.24957259369338297,
                        "count": 0
                      },
                      {
                        "bin_start": 0.24957259369338297,
                        "bin_end": 0.35954587180243897,
                        "count": 0
                      },
                      {
                        "bin_start": 0.35954587180243897,
                        "bin_end": 0.46951914991149496,
                        "count": 0
                      },
                      {
                        "bin_start": 0.46951914991149496,
                        "bin_end": 0.5794924280205509,
                        "count": 0
                      },
                      {
                        "bin_start": 0.5794924280205509,
                        "bin_end": 0.689465706129607,
                        "count": 0
                      },
                      {
                        "bin_start": 0.689465706129607,
                        "bin_end": 0.7994389842386629,
                        "count": 0
                      },
                      {
                        "bin_start": 0.7994389842386629,
                        "bin_end": 0.909412262347719,
                        "count": 1
                      }
                    ]
                  }
                },
                {
                  "name": "V24",
                  "dtype": "float64",
                  "stats": {
                    "unique_count": 5,
                    "nan_count": 0,
                    "min": "-1.17557533186321",
                    "max": "0.141266983824769",
                    "histogram": [
                      {
                        "bin_start": -1.17557533186321,
                        "bin_end": -1.0438911002944122,
                        "count": 1
                      },
                      {
                        "bin_start": -1.0438911002944122,
                        "bin_end": -0.9122068687256142,
                        "count": 0
                      },
                      {
                        "bin_start": -0.9122068687256142,
                        "bin_end": -0.7805226371568164,
                        "count": 0
                      },
                      {
                        "bin_start": -0.7805226371568164,
                        "bin_end": -0.6488384055880184,
                        "count": 1
                      },
                      {
                        "bin_start": -0.6488384055880184,
                        "bin_end": -0.5171541740192205,
                        "count": 0
                      },
                      {
                        "bin_start": -0.5171541740192205,
                        "bin_end": -0.38546994245042265,
                        "count": 0
                      },
                      {
                        "bin_start": -0.38546994245042265,
                        "bin_end": -0.2537857108816247,
                        "count": 1
                      },
                      {
                        "bin_start": -0.2537857108816247,
                        "bin_end": -0.12210147931282678,
                        "count": 0
                      },
                      {
                        "bin_start": -0.12210147931282678,
                        "bin_end": 0.00958275225597105,
                        "count": 0
                      },
                      {
                        "bin_start": 0.00958275225597105,
                        "bin_end": 0.141266983824769,
                        "count": 2
                      }
                    ]
                  }
                },
                {
                  "name": "V25",
                  "dtype": "float64",
                  "stats": {
                    "unique_count": 5,
                    "nan_count": 0,
                    "min": "-0.327641833735251",
                    "max": "0.647376034602038",
                    "histogram": [
                      {
                        "bin_start": -0.327641833735251,
                        "bin_end": -0.23014004690152212,
                        "count": 1
                      },
                      {
                        "bin_start": -0.23014004690152212,
                        "bin_end": -0.13263826006779322,
                        "count": 1
                      },
                      {
                        "bin_start": -0.13263826006779322,
                        "bin_end": -0.035136473234064325,
                        "count": 0
                      },
                      {
                        "bin_start": -0.035136473234064325,
                        "bin_end": 0.062365313599664574,
                        "count": 0
                      },
                      {
                        "bin_start": 0.062365313599664574,
                        "bin_end": 0.15986710043339347,
                        "count": 1
                      },
                      {
                        "bin_start": 0.15986710043339347,
                        "bin_end": 0.25736888726712237,
                        "count": 1
                      },
                      {
                        "bin_start": 0.25736888726712237,
                        "bin_end": 0.35487067410085127,
                        "count": 0
                      },
                      {
                        "bin_start": 0.35487067410085127,
                        "bin_end": 0.45237246093458017,
                        "count": 0
                      },
                      {
                        "bin_start": 0.45237246093458017,
                        "bin_end": 0.5498742477683091,
                        "count": 0
                      },
                      {
                        "bin_start": 0.5498742477683091,
                        "bin_end": 0.647376034602038,
                        "count": 1
                      }
                    ]
                  }
                },
                {
                  "name": "V26",
                  "dtype": "float64",
                  "stats": {
                    "unique_count": 5,
                    "nan_count": 0,
                    "min": "-0.221928844458407",
                    "max": "0.502292224181569",
                    "histogram": [
                      {
                        "bin_start": -0.221928844458407,
                        "bin_end": -0.14950673759440938,
                        "count": 2
                      },
                      {
                        "bin_start": -0.14950673759440938,
                        "bin_end": -0.07708463073041177,
                        "count": 1
                      },
                      {
                        "bin_start": -0.07708463073041177,
                        "bin_end": -0.004662523866414164,
                        "count": 0
                      },
                      {
                        "bin_start": -0.004662523866414164,
                        "bin_end": 0.06775958299758345,
                        "count": 0
                      },
                      {
                        "bin_start": 0.06775958299758345,
                        "bin_end": 0.14018168986158108,
                        "count": 1
                      },
                      {
                        "bin_start": 0.14018168986158108,
                        "bin_end": 0.21260379672557866,
                        "count": 0
                      },
                      {
                        "bin_start": 0.21260379672557866,
                        "bin_end": 0.28502590358957625,
                        "count": 0
                      },
                      {
                        "bin_start": 0.28502590358957625,
                        "bin_end": 0.3574480104535739,
                        "count": 0
                      },
                      {
                        "bin_start": 0.3574480104535739,
                        "bin_end": 0.4298701173175715,
                        "count": 0
                      },
                      {
                        "bin_start": 0.4298701173175715,
                        "bin_end": 0.502292224181569,
                        "count": 1
                      }
                    ]
                  }
                },
                {
                  "name": "V27",
                  "dtype": "float64",
                  "stats": {
                    "unique_count": 5,
                    "nan_count": 0,
                    "min": "-0.0553527940384261",
                    "max": "0.219422229513348",
                    "histogram": [
                      {
                        "bin_start": -0.0553527940384261,
                        "bin_end": -0.02787529168324869,
                        "count": 1
                      },
                      {
                        "bin_start": -0.02787529168324869,
                        "bin_end": -0.00039778932807128103,
                        "count": 1
                      },
                      {
                        "bin_start": -0.00039778932807128103,
                        "bin_end": 0.027079713027106135,
                        "count": 0
                      },
                      {
                        "bin_start": 0.027079713027106135,
                        "bin_end": 0.05455721538228354,
                        "count": 0
                      },
                      {
                        "bin_start": 0.05455721538228354,
                        "bin_end": 0.08203471773746093,
                        "count": 1
                      },
                      {
                        "bin_start": 0.08203471773746093,
                        "bin_end": 0.10951222009263836,
                        "count": 0
                      },
                      {
                        "bin_start": 0.10951222009263836,
                        "bin_end": 0.13698972244781576,
                        "count": 1
                      },
                      {
                        "bin_start": 0.13698972244781576,
                        "bin_end": 0.16446722480299317,
                        "count": 0
                      },
                      {
                        "bin_start": 0.16446722480299317,
                        "bin_end": 0.19194472715817057,
                        "count": 0
                      },
                      {
                        "bin_start": 0.19194472715817057,
                        "bin_end": 0.219422229513348,
                        "count": 1
                      }
                    ]
                  }
                },
                {
                  "name": "V28",
                  "dtype": "float64",
                  "stats": {
                    "unique_count": 5,
                    "nan_count": 0,
                    "min": "-0.0597518405929204",
                    "max": "0.215153147499206",
                    "histogram": [
                      {
                        "bin_start": -0.0597518405929204,
                        "bin_end": -0.032261341783707764,
                        "count": 1
                      },
                      {
                        "bin_start": -0.032261341783707764,
                        "bin_end": -0.004770842974495128,
                        "count": 1
                      },
                      {
                        "bin_start": -0.004770842974495128,
                        "bin_end": 0.022719655834717502,
                        "count": 1
                      },
                      {
                        "bin_start": 0.022719655834717502,
                        "bin_end": 0.050210154643930145,
                        "count": 0
                      },
                      {
                        "bin_start": 0.050210154643930145,
                        "bin_end": 0.07770065345314278,
                        "count": 1
                      },
                      {
                        "bin_start": 0.07770065345314278,
                        "bin_end": 0.1051911522623554,
                        "count": 0
                      },
                      {
                        "bin_start": 0.1051911522623554,
                        "bin_end": 0.13268165107156804,
                        "count": 0
                      },
                      {
                        "bin_start": 0.13268165107156804,
                        "bin_end": 0.16017214988078068,
                        "count": 0
                      },
                      {
                        "bin_start": 0.16017214988078068,
                        "bin_end": 0.18766264868999333,
                        "count": 0
                      },
                      {
                        "bin_start": 0.18766264868999333,
                        "bin_end": 0.215153147499206,
                        "count": 1
                      }
                    ]
                  }
                },
                {
                  "name": "Amount",
                  "dtype": "float64",
                  "stats": {
                    "unique_count": 5,
                    "nan_count": 0,
                    "min": "2.69",
                    "max": "378.66",
                    "histogram": [
                      {
                        "bin_start": 2.69,
                        "bin_end": 40.287,
                        "count": 1
                      },
                      {
                        "bin_start": 40.287,
                        "bin_end": 77.884,
                        "count": 1
                      },
                      {
                        "bin_start": 77.884,
                        "bin_end": 115.481,
                        "count": 0
                      },
                      {
                        "bin_start": 115.481,
                        "bin_end": 153.078,
                        "count": 2
                      },
                      {
                        "bin_start": 153.078,
                        "bin_end": 190.675,
                        "count": 0
                      },
                      {
                        "bin_start": 190.675,
                        "bin_end": 228.272,
                        "count": 0
                      },
                      {
                        "bin_start": 228.272,
                        "bin_end": 265.869,
                        "count": 0
                      },
                      {
                        "bin_start": 265.869,
                        "bin_end": 303.466,
                        "count": 0
                      },
                      {
                        "bin_start": 303.466,
                        "bin_end": 341.063,
                        "count": 0
                      },
                      {
                        "bin_start": 341.063,
                        "bin_end": 378.66,
                        "count": 1
                      }
                    ]
                  }
                },
                {
                  "name": "Class",
                  "dtype": "int64",
                  "stats": {
                    "unique_count": 1,
                    "nan_count": 0,
                    "min": "0",
                    "max": "0",
                    "histogram": [
                      {
                        "bin_start": -0.5,
                        "bin_end": -0.4,
                        "count": 0
                      },
                      {
                        "bin_start": -0.4,
                        "bin_end": -0.3,
                        "count": 0
                      },
                      {
                        "bin_start": -0.3,
                        "bin_end": -0.19999999999999996,
                        "count": 0
                      },
                      {
                        "bin_start": -0.19999999999999996,
                        "bin_end": -0.09999999999999998,
                        "count": 0
                      },
                      {
                        "bin_start": -0.09999999999999998,
                        "bin_end": 0,
                        "count": 0
                      },
                      {
                        "bin_start": 0,
                        "bin_end": 0.10000000000000009,
                        "count": 5
                      },
                      {
                        "bin_start": 0.10000000000000009,
                        "bin_end": 0.20000000000000007,
                        "count": 0
                      },
                      {
                        "bin_start": 0.20000000000000007,
                        "bin_end": 0.30000000000000004,
                        "count": 0
                      },
                      {
                        "bin_start": 0.30000000000000004,
                        "bin_end": 0.4,
                        "count": 0
                      },
                      {
                        "bin_start": 0.4,
                        "bin_end": 0.5,
                        "count": 0
                      }
                    ]
                  }
                },
                {
                  "name": "_deepnote_index_column",
                  "dtype": "int64"
                }
              ],
              "rows": [
                {
                  "Time": 0,
                  "V1": -1.3598071336738,
                  "V2": -0.0727811733098497,
                  "V3": 2.53634673796914,
                  "V4": 1.37815522427443,
                  "V5": -0.338320769942518,
                  "V6": 0.462387777762292,
                  "V7": 0.239598554061257,
                  "V8": 0.0986979012610507,
                  "V9": 0.363786969611213,
                  "V10": 0.0907941719789316,
                  "V11": -0.551599533260813,
                  "V12": -0.617800855762348,
                  "V13": -0.991389847235408,
                  "V14": -0.311169353699879,
                  "V15": 1.46817697209427,
                  "V16": -0.470400525259478,
                  "V17": 0.207971241929242,
                  "V18": 0.0257905801985591,
                  "V19": 0.403992960255733,
                  "V20": 0.251412098239705,
                  "V21": -0.018306777944153,
                  "V22": 0.277837575558899,
                  "V23": -0.110473910188767,
                  "V24": 0.0669280749146731,
                  "V25": 0.128539358273528,
                  "V26": -0.189114843888824,
                  "V27": 0.133558376740387,
                  "V28": -0.0210530534538215,
                  "Amount": 149.62,
                  "Class": 0,
                  "_deepnote_index_column": 0
                },
                {
                  "Time": 0,
                  "V1": 1.19185711131486,
                  "V2": 0.26615071205963,
                  "V3": 0.16648011335321,
                  "V4": 0.448154078460911,
                  "V5": 0.0600176492822243,
                  "V6": -0.0823608088155687,
                  "V7": -0.0788029833323113,
                  "V8": 0.0851016549148104,
                  "V9": -0.255425128109186,
                  "V10": -0.166974414004614,
                  "V11": 1.61272666105479,
                  "V12": 1.06523531137287,
                  "V13": 0.48909501589608,
                  "V14": -0.143772296441519,
                  "V15": 0.635558093258208,
                  "V16": 0.463917041022171,
                  "V17": -0.114804663102346,
                  "V18": -0.183361270123994,
                  "V19": -0.145783041325259,
                  "V20": -0.0690831352230203,
                  "V21": -0.225775248033138,
                  "V22": -0.638671952771851,
                  "V23": 0.101288021253234,
                  "V24": -0.339846475529127,
                  "V25": 0.167170404418143,
                  "V26": 0.125894532368176,
                  "V27": -0.0089830991432281,
                  "V28": 0.0147241691924927,
                  "Amount": 2.69,
                  "Class": 0,
                  "_deepnote_index_column": 1
                },
                {
                  "Time": 1,
                  "V1": -1.35835406159823,
                  "V2": -1.34016307473609,
                  "V3": 1.77320934263119,
                  "V4": 0.379779593034328,
                  "V5": -0.503198133318193,
                  "V6": 1.80049938079263,
                  "V7": 0.791460956450422,
                  "V8": 0.247675786588991,
                  "V9": -1.51465432260583,
                  "V10": 0.207642865216696,
                  "V11": 0.624501459424895,
                  "V12": 0.066083685268831,
                  "V13": 0.717292731410831,
                  "V14": -0.165945922763554,
                  "V15": 2.34586494901581,
                  "V16": -2.89008319444231,
                  "V17": 1.10996937869599,
                  "V18": -0.121359313195888,
                  "V19": -2.26185709530414,
                  "V20": 0.524979725224404,
                  "V21": 0.247998153469754,
                  "V22": 0.771679401917229,
                  "V23": 0.909412262347719,
                  "V24": -0.689280956490685,
                  "V25": -0.327641833735251,
                  "V26": -0.139096571514147,
                  "V27": -0.0553527940384261,
                  "V28": -0.0597518405929204,
                  "Amount": 378.66,
                  "Class": 0,
                  "_deepnote_index_column": 2
                },
                {
                  "Time": 1,
                  "V1": -0.966271711572087,
                  "V2": -0.185226008082898,
                  "V3": 1.79299333957872,
                  "V4": -0.863291275036453,
                  "V5": -0.0103088796030823,
                  "V6": 1.24720316752486,
                  "V7": 0.23760893977178,
                  "V8": 0.377435874652262,
                  "V9": -1.38702406270197,
                  "V10": -0.0549519224713749,
                  "V11": -0.226487263835401,
                  "V12": 0.178228225877303,
                  "V13": 0.507756869957169,
                  "V14": -0.28792374549456,
                  "V15": -0.631418117709045,
                  "V16": -1.0596472454325,
                  "V17": -0.684092786345479,
                  "V18": 1.96577500349538,
                  "V19": -1.2326219700892,
                  "V20": -0.208037781160366,
                  "V21": -0.108300452035545,
                  "V22": 0.0052735967825345,
                  "V23": -0.190320518742841,
                  "V24": -1.17557533186321,
                  "V25": 0.647376034602038,
                  "V26": -0.221928844458407,
                  "V27": 0.0627228487293033,
                  "V28": 0.0614576285006353,
                  "Amount": 123.5,
                  "Class": 0,
                  "_deepnote_index_column": 3
                },
                {
                  "Time": 2,
                  "V1": -1.15823309349523,
                  "V2": 0.877736754848451,
                  "V3": 1.548717846511,
                  "V4": 0.403033933955121,
                  "V5": -0.407193377311653,
                  "V6": 0.0959214624684256,
                  "V7": 0.592940745385545,
                  "V8": -0.270532677192282,
                  "V9": 0.817739308235294,
                  "V10": 0.753074431976354,
                  "V11": -0.822842877946363,
                  "V12": 0.53819555014995,
                  "V13": 1.3458515932154,
                  "V14": -1.11966983471731,
                  "V15": 0.175121130008994,
                  "V16": -0.451449182813529,
                  "V17": -0.237033239362776,
                  "V18": -0.0381947870352842,
                  "V19": 0.803486924960175,
                  "V20": 0.408542360392758,
                  "V21": -0.0094306971323291,
                  "V22": 0.79827849458971,
                  "V23": -0.137458079619063,
                  "V24": 0.141266983824769,
                  "V25": -0.206009587619756,
                  "V26": 0.502292224181569,
                  "V27": 0.219422229513348,
                  "V28": 0.215153147499206,
                  "Amount": 69.99,
                  "Class": 0,
                  "_deepnote_index_column": 4
                }
              ]
            },
            "text/plain": "   Time        V1        V2        V3        V4        V5        V6        V7  \\\n0   0.0 -1.359807 -0.072781  2.536347  1.378155 -0.338321  0.462388  0.239599   \n1   0.0  1.191857  0.266151  0.166480  0.448154  0.060018 -0.082361 -0.078803   \n2   1.0 -1.358354 -1.340163  1.773209  0.379780 -0.503198  1.800499  0.791461   \n3   1.0 -0.966272 -0.185226  1.792993 -0.863291 -0.010309  1.247203  0.237609   \n4   2.0 -1.158233  0.877737  1.548718  0.403034 -0.407193  0.095921  0.592941   \n\n         V8        V9  ...       V21       V22       V23       V24       V25  \\\n0  0.098698  0.363787  ... -0.018307  0.277838 -0.110474  0.066928  0.128539   \n1  0.085102 -0.255425  ... -0.225775 -0.638672  0.101288 -0.339846  0.167170   \n2  0.247676 -1.514654  ...  0.247998  0.771679  0.909412 -0.689281 -0.327642   \n3  0.377436 -1.387024  ... -0.108300  0.005274 -0.190321 -1.175575  0.647376   \n4 -0.270533  0.817739  ... -0.009431  0.798278 -0.137458  0.141267 -0.206010   \n\n        V26       V27       V28  Amount  Class  \n0 -0.189115  0.133558 -0.021053  149.62      0  \n1  0.125895 -0.008983  0.014724    2.69      0  \n2 -0.139097 -0.055353 -0.059752  378.66      0  \n3 -0.221929  0.062723  0.061458  123.50      0  \n4  0.502292  0.219422  0.215153   69.99      0  \n\n[5 rows x 31 columns]",
            "text/html": "<div>\n<style scoped>\n    .dataframe tbody tr th:only-of-type {\n        vertical-align: middle;\n    }\n\n    .dataframe tbody tr th {\n        vertical-align: top;\n    }\n\n    .dataframe thead th {\n        text-align: right;\n    }\n</style>\n<table border=\"1\" class=\"dataframe\">\n  <thead>\n    <tr style=\"text-align: right;\">\n      <th></th>\n      <th>Time</th>\n      <th>V1</th>\n      <th>V2</th>\n      <th>V3</th>\n      <th>V4</th>\n      <th>V5</th>\n      <th>V6</th>\n      <th>V7</th>\n      <th>V8</th>\n      <th>V9</th>\n      <th>...</th>\n      <th>V21</th>\n      <th>V22</th>\n      <th>V23</th>\n      <th>V24</th>\n      <th>V25</th>\n      <th>V26</th>\n      <th>V27</th>\n      <th>V28</th>\n      <th>Amount</th>\n      <th>Class</th>\n    </tr>\n  </thead>\n  <tbody>\n    <tr>\n      <th>0</th>\n      <td>0.0</td>\n      <td>-1.359807</td>\n      <td>-0.072781</td>\n      <td>2.536347</td>\n      <td>1.378155</td>\n      <td>-0.338321</td>\n      <td>0.462388</td>\n      <td>0.239599</td>\n      <td>0.098698</td>\n      <td>0.363787</td>\n      <td>...</td>\n      <td>-0.018307</td>\n      <td>0.277838</td>\n      <td>-0.110474</td>\n      <td>0.066928</td>\n      <td>0.128539</td>\n      <td>-0.189115</td>\n      <td>0.133558</td>\n      <td>-0.021053</td>\n      <td>149.62</td>\n      <td>0</td>\n    </tr>\n    <tr>\n      <th>1</th>\n      <td>0.0</td>\n      <td>1.191857</td>\n      <td>0.266151</td>\n      <td>0.166480</td>\n      <td>0.448154</td>\n      <td>0.060018</td>\n      <td>-0.082361</td>\n      <td>-0.078803</td>\n      <td>0.085102</td>\n      <td>-0.255425</td>\n      <td>...</td>\n      <td>-0.225775</td>\n      <td>-0.638672</td>\n      <td>0.101288</td>\n      <td>-0.339846</td>\n      <td>0.167170</td>\n      <td>0.125895</td>\n      <td>-0.008983</td>\n      <td>0.014724</td>\n      <td>2.69</td>\n      <td>0</td>\n    </tr>\n    <tr>\n      <th>2</th>\n      <td>1.0</td>\n      <td>-1.358354</td>\n      <td>-1.340163</td>\n      <td>1.773209</td>\n      <td>0.379780</td>\n      <td>-0.503198</td>\n      <td>1.800499</td>\n      <td>0.791461</td>\n      <td>0.247676</td>\n      <td>-1.514654</td>\n      <td>...</td>\n      <td>0.247998</td>\n      <td>0.771679</td>\n      <td>0.909412</td>\n      <td>-0.689281</td>\n      <td>-0.327642</td>\n      <td>-0.139097</td>\n      <td>-0.055353</td>\n      <td>-0.059752</td>\n      <td>378.66</td>\n      <td>0</td>\n    </tr>\n    <tr>\n      <th>3</th>\n      <td>1.0</td>\n      <td>-0.966272</td>\n      <td>-0.185226</td>\n      <td>1.792993</td>\n      <td>-0.863291</td>\n      <td>-0.010309</td>\n      <td>1.247203</td>\n      <td>0.237609</td>\n      <td>0.377436</td>\n      <td>-1.387024</td>\n      <td>...</td>\n      <td>-0.108300</td>\n      <td>0.005274</td>\n      <td>-0.190321</td>\n      <td>-1.175575</td>\n      <td>0.647376</td>\n      <td>-0.221929</td>\n      <td>0.062723</td>\n      <td>0.061458</td>\n      <td>123.50</td>\n      <td>0</td>\n    </tr>\n    <tr>\n      <th>4</th>\n      <td>2.0</td>\n      <td>-1.158233</td>\n      <td>0.877737</td>\n      <td>1.548718</td>\n      <td>0.403034</td>\n      <td>-0.407193</td>\n      <td>0.095921</td>\n      <td>0.592941</td>\n      <td>-0.270533</td>\n      <td>0.817739</td>\n      <td>...</td>\n      <td>-0.009431</td>\n      <td>0.798278</td>\n      <td>-0.137458</td>\n      <td>0.141267</td>\n      <td>-0.206010</td>\n      <td>0.502292</td>\n      <td>0.219422</td>\n      <td>0.215153</td>\n      <td>69.99</td>\n      <td>0</td>\n    </tr>\n  </tbody>\n</table>\n<p>5 rows × 31 columns</p>\n</div>"
          },
          "metadata": {}
        }
      ],
      "outputs_reference": null,
      "execution_count": 3,
      "block_group": "a6d923d299b84adca6c1911cc128d71b",
      "content_dependencies": null
    },
    {
      "cell_type": "code",
      "source": "credit_card_data.info()",
      "metadata": {
        "source_hash": "5f247922",
        "execution_start": 1726974025556,
        "execution_millis": 154,
        "deepnote_to_be_reexecuted": false,
        "cell_id": "74c72772d82e4b5fbd0f976f77842346",
        "deepnote_cell_type": "code"
      },
      "outputs": [
        {
          "name": "stdout",
          "text": "<class 'pandas.core.frame.DataFrame'>\nRangeIndex: 284807 entries, 0 to 284806\nData columns (total 31 columns):\n #   Column  Non-Null Count   Dtype  \n---  ------  --------------   -----  \n 0   Time    284807 non-null  float64\n 1   V1      284807 non-null  float64\n 2   V2      284807 non-null  float64\n 3   V3      284807 non-null  float64\n 4   V4      284807 non-null  float64\n 5   V5      284807 non-null  float64\n 6   V6      284807 non-null  float64\n 7   V7      284807 non-null  float64\n 8   V8      284807 non-null  float64\n 9   V9      284807 non-null  float64\n 10  V10     284807 non-null  float64\n 11  V11     284807 non-null  float64\n 12  V12     284807 non-null  float64\n 13  V13     284807 non-null  float64\n 14  V14     284807 non-null  float64\n 15  V15     284807 non-null  float64\n 16  V16     284807 non-null  float64\n 17  V17     284807 non-null  float64\n 18  V18     284807 non-null  float64\n 19  V19     284807 non-null  float64\n 20  V20     284807 non-null  float64\n 21  V21     284807 non-null  float64\n 22  V22     284807 non-null  float64\n 23  V23     284807 non-null  float64\n 24  V24     284807 non-null  float64\n 25  V25     284807 non-null  float64\n 26  V26     284807 non-null  float64\n 27  V27     284807 non-null  float64\n 28  V28     284807 non-null  float64\n 29  Amount  284807 non-null  float64\n 30  Class   284807 non-null  int64  \ndtypes: float64(30), int64(1)\nmemory usage: 67.4 MB\n",
          "output_type": "stream"
        }
      ],
      "outputs_reference": null,
      "execution_count": 4,
      "block_group": "dff309d9dcce40b3aa143ccb80145924",
      "content_dependencies": null
    },
    {
      "cell_type": "code",
      "source": "#checking the number of missing values in each column\ncredit_card_data.isnull().sum()",
      "metadata": {
        "source_hash": "55694278",
        "execution_start": 1726974138250,
        "execution_millis": 185,
        "deepnote_to_be_reexecuted": false,
        "cell_id": "84c53a16f83e46599fe538b17a4f2ded",
        "deepnote_cell_type": "code"
      },
      "outputs": [
        {
          "output_type": "execute_result",
          "execution_count": 5,
          "data": {
            "text/plain": "Time      0\nV1        0\nV2        0\nV3        0\nV4        0\nV5        0\nV6        0\nV7        0\nV8        0\nV9        0\nV10       0\nV11       0\nV12       0\nV13       0\nV14       0\nV15       0\nV16       0\nV17       0\nV18       0\nV19       0\nV20       0\nV21       0\nV22       0\nV23       0\nV24       0\nV25       0\nV26       0\nV27       0\nV28       0\nAmount    0\nClass     0\ndtype: int64"
          },
          "metadata": {}
        }
      ],
      "outputs_reference": null,
      "execution_count": 5,
      "block_group": "d127882eb2314780884a6363b537b742",
      "content_dependencies": null
    },
    {
      "cell_type": "code",
      "source": "#distribution of legit and fraud transactions \ncredit_card_data['Class'].value_counts()",
      "metadata": {
        "source_hash": "bd322153",
        "execution_start": 1726974319382,
        "execution_millis": 106,
        "deepnote_to_be_reexecuted": false,
        "cell_id": "c98bd5f12c2d4080bd9715deeb7c9269",
        "deepnote_cell_type": "code"
      },
      "outputs": [
        {
          "output_type": "execute_result",
          "execution_count": 6,
          "data": {
            "text/plain": "Class\n0    284315\n1       492\nName: count, dtype: int64"
          },
          "metadata": {}
        }
      ],
      "outputs_reference": null,
      "execution_count": 6,
      "block_group": "e8bab36a64e8436684cbf4be50c3ec0e",
      "content_dependencies": null
    },
    {
      "cell_type": "markdown",
      "source": "Highly unbalanced dataset: ",
      "metadata": {
        "formattedRanges": [],
        "cell_id": "22f17867b81848919110afa0ede8910e",
        "deepnote_cell_type": "text-cell-p"
      },
      "block_group": "f439a7a287684f8fba21ebfcc7bd2620"
    },
    {
      "cell_type": "markdown",
      "source": "0 --> Normal transactions ",
      "metadata": {
        "formattedRanges": [],
        "cell_id": "c57b7532bdb64ebba1720621fcd51143",
        "deepnote_cell_type": "text-cell-p"
      },
      "block_group": "1b60926adc6e4541ae2710027294b583"
    },
    {
      "cell_type": "markdown",
      "source": "1 --> Fraud transactions ",
      "metadata": {
        "formattedRanges": [],
        "cell_id": "71456711ad0145e697942fae011e321e",
        "deepnote_cell_type": "text-cell-p"
      },
      "block_group": "9a35147185e947678111dc9dd7bf4cd3"
    },
    {
      "cell_type": "code",
      "source": "#seperating the data for analysis \nlegit = credit_card_data[credit_card_data.Class == 0]\nfraud = credit_card_data[credit_card_data.Class == 1]",
      "metadata": {
        "source_hash": "846c83ec",
        "execution_start": 1726974520569,
        "execution_millis": 34,
        "deepnote_to_be_reexecuted": false,
        "cell_id": "d204a26436774166b3e64b7310a12fef",
        "deepnote_cell_type": "code"
      },
      "outputs": [],
      "outputs_reference": null,
      "execution_count": 7,
      "block_group": "dde7a8c05ca744509a38913fca7aa743",
      "content_dependencies": null
    },
    {
      "cell_type": "code",
      "source": "print(legit.shape)\nprint(fraud.shape)",
      "metadata": {
        "source_hash": "1e554fb2",
        "execution_start": 1726974524157,
        "execution_millis": 93,
        "deepnote_to_be_reexecuted": false,
        "cell_id": "cc9f2cc9cea142358cfe0360c67021e6",
        "deepnote_cell_type": "code"
      },
      "outputs": [
        {
          "name": "stdout",
          "text": "(284315, 31)\n(492, 31)\n",
          "output_type": "stream"
        }
      ],
      "outputs_reference": null,
      "execution_count": 8,
      "block_group": "d0caeabae4c540599775cab1f2b110d4",
      "content_dependencies": null
    },
    {
      "cell_type": "code",
      "source": "#statistical measures of the data\nlegit.Amount.describe()",
      "metadata": {
        "source_hash": "584911c5",
        "execution_start": 1726974614199,
        "execution_millis": 89,
        "deepnote_to_be_reexecuted": false,
        "cell_id": "c148c63742af4fe6a4613f860c8ebd49",
        "deepnote_cell_type": "code"
      },
      "outputs": [
        {
          "output_type": "execute_result",
          "execution_count": 10,
          "data": {
            "text/plain": "count    284315.000000\nmean         88.291022\nstd         250.105092\nmin           0.000000\n25%           5.650000\n50%          22.000000\n75%          77.050000\nmax       25691.160000\nName: Amount, dtype: float64"
          },
          "metadata": {}
        }
      ],
      "outputs_reference": null,
      "execution_count": 10,
      "block_group": "ea1d3f7d7a63406c982f75c39a8673e9",
      "content_dependencies": null
    },
    {
      "cell_type": "code",
      "source": "fraud.Amount.describe()",
      "metadata": {
        "source_hash": "db508c4d",
        "execution_start": 1726974621873,
        "execution_millis": 229,
        "deepnote_to_be_reexecuted": false,
        "cell_id": "77371e77ba024cb1968f20c452527e76",
        "deepnote_cell_type": "code"
      },
      "outputs": [
        {
          "output_type": "execute_result",
          "execution_count": 11,
          "data": {
            "text/plain": "count     492.000000\nmean      122.211321\nstd       256.683288\nmin         0.000000\n25%         1.000000\n50%         9.250000\n75%       105.890000\nmax      2125.870000\nName: Amount, dtype: float64"
          },
          "metadata": {}
        }
      ],
      "outputs_reference": null,
      "execution_count": 11,
      "block_group": "b92e93d2979a4fc18f04e408f6d13288",
      "content_dependencies": null
    },
    {
      "cell_type": "code",
      "source": "#compare the values for both transactions\ncredit_card_data.groupby('Class').mean()",
      "metadata": {
        "source_hash": "b5b6ab4",
        "execution_start": 1726974693329,
        "execution_millis": 143,
        "deepnote_to_be_reexecuted": false,
        "cell_id": "8b4293c98a544098b91c20297621affc",
        "deepnote_cell_type": "code"
      },
      "outputs": [
        {
          "output_type": "execute_result",
          "execution_count": 12,
          "data": {
            "application/vnd.deepnote.dataframe.v3+json": {
              "column_count": 30,
              "row_count": 2,
              "columns": [
                {
                  "name": "Time",
                  "dtype": "float64",
                  "stats": {
                    "unique_count": 2,
                    "nan_count": 0,
                    "min": "80746.80691056911",
                    "max": "94838.20225805884",
                    "histogram": [
                      {
                        "bin_start": 80746.80691056911,
                        "bin_end": 82155.94644531808,
                        "count": 1
                      },
                      {
                        "bin_start": 82155.94644531808,
                        "bin_end": 83565.08598006706,
                        "count": 0
                      },
                      {
                        "bin_start": 83565.08598006706,
                        "bin_end": 84974.22551481603,
                        "count": 0
                      },
                      {
                        "bin_start": 84974.22551481603,
                        "bin_end": 86383.365049565,
                        "count": 0
                      },
                      {
                        "bin_start": 86383.365049565,
                        "bin_end": 87792.50458431398,
                        "count": 0
                      },
                      {
                        "bin_start": 87792.50458431398,
                        "bin_end": 89201.64411906296,
                        "count": 0
                      },
                      {
                        "bin_start": 89201.64411906296,
                        "bin_end": 90610.78365381192,
                        "count": 0
                      },
                      {
                        "bin_start": 90610.78365381192,
                        "bin_end": 92019.92318856089,
                        "count": 0
                      },
                      {
                        "bin_start": 92019.92318856089,
                        "bin_end": 93429.06272330986,
                        "count": 0
                      },
                      {
                        "bin_start": 93429.06272330986,
                        "bin_end": 94838.20225805884,
                        "count": 1
                      }
                    ]
                  }
                },
                {
                  "name": "V1",
                  "dtype": "float64",
                  "stats": {
                    "unique_count": 2,
                    "nan_count": 0,
                    "min": "-4.771948441479082",
                    "max": "0.008257737485563701",
                    "histogram": [
                      {
                        "bin_start": -4.771948441479082,
                        "bin_end": -4.293927823582617,
                        "count": 1
                      },
                      {
                        "bin_start": -4.293927823582617,
                        "bin_end": -3.8159072056861527,
                        "count": 0
                      },
                      {
                        "bin_start": -3.8159072056861527,
                        "bin_end": -3.337886587789688,
                        "count": 0
                      },
                      {
                        "bin_start": -3.337886587789688,
                        "bin_end": -2.8598659698932236,
                        "count": 0
                      },
                      {
                        "bin_start": -2.8598659698932236,
                        "bin_end": -2.381845351996759,
                        "count": 0
                      },
                      {
                        "bin_start": -2.381845351996759,
                        "bin_end": -1.9038247341002945,
                        "count": 0
                      },
                      {
                        "bin_start": -1.9038247341002945,
                        "bin_end": -1.42580411620383,
                        "count": 0
                      },
                      {
                        "bin_start": -1.42580411620383,
                        "bin_end": -0.9477834983073654,
                        "count": 0
                      },
                      {
                        "bin_start": -0.9477834983073654,
                        "bin_end": -0.46976288041090086,
                        "count": 0
                      },
                      {
                        "bin_start": -0.46976288041090086,
                        "bin_end": 0.008257737485563701,
                        "count": 1
                      }
                    ]
                  }
                },
                {
                  "name": "V2",
                  "dtype": "float64",
                  "stats": {
                    "unique_count": 2,
                    "nan_count": 0,
                    "min": "-0.0062708574158070645",
                    "max": "3.6237781019822806",
                    "histogram": [
                      {
                        "bin_start": -0.0062708574158070645,
                        "bin_end": 0.3567340385240017,
                        "count": 1
                      },
                      {
                        "bin_start": 0.3567340385240017,
                        "bin_end": 0.7197389344638105,
                        "count": 0
                      },
                      {
                        "bin_start": 0.7197389344638105,
                        "bin_end": 1.0827438304036194,
                        "count": 0
                      },
                      {
                        "bin_start": 1.0827438304036194,
                        "bin_end": 1.445748726343428,
                        "count": 0
                      },
                      {
                        "bin_start": 1.445748726343428,
                        "bin_end": 1.8087536222832368,
                        "count": 0
                      },
                      {
                        "bin_start": 1.8087536222832368,
                        "bin_end": 2.171758518223046,
                        "count": 0
                      },
                      {
                        "bin_start": 2.171758518223046,
                        "bin_end": 2.5347634141628546,
                        "count": 0
                      },
                      {
                        "bin_start": 2.5347634141628546,
                        "bin_end": 2.8977683101026632,
                        "count": 0
                      },
                      {
                        "bin_start": 2.8977683101026632,
                        "bin_end": 3.260773206042472,
                        "count": 0
                      },
                      {
                        "bin_start": 3.260773206042472,
                        "bin_end": 3.6237781019822806,
                        "count": 1
                      }
                    ]
                  }
                },
                {
                  "name": "V3",
                  "dtype": "float64",
                  "stats": {
                    "unique_count": 2,
                    "nan_count": 0,
                    "min": "-7.0332810485965584",
                    "max": "0.012170917031845342",
                    "histogram": [
                      {
                        "bin_start": -7.0332810485965584,
                        "bin_end": -6.328735852033718,
                        "count": 1
                      },
                      {
                        "bin_start": -6.328735852033718,
                        "bin_end": -5.624190655470878,
                        "count": 0
                      },
                      {
                        "bin_start": -5.624190655470878,
                        "bin_end": -4.919645458908037,
                        "count": 0
                      },
                      {
                        "bin_start": -4.919645458908037,
                        "bin_end": -4.215100262345197,
                        "count": 0
                      },
                      {
                        "bin_start": -4.215100262345197,
                        "bin_end": -3.5105550657823565,
                        "count": 0
                      },
                      {
                        "bin_start": -3.5105550657823565,
                        "bin_end": -2.8060098692195155,
                        "count": 0
                      },
                      {
                        "bin_start": -2.8060098692195155,
                        "bin_end": -2.1014646726566752,
                        "count": 0
                      },
                      {
                        "bin_start": -2.1014646726566752,
                        "bin_end": -1.396919476093835,
                        "count": 0
                      },
                      {
                        "bin_start": -1.396919476093835,
                        "bin_end": -0.6923742795309948,
                        "count": 0
                      },
                      {
                        "bin_start": -0.6923742795309948,
                        "bin_end": 0.012170917031845342,
                        "count": 1
                      }
                    ]
                  }
                },
                {
                  "name": "V4",
                  "dtype": "float64",
                  "stats": {
                    "unique_count": 2,
                    "nan_count": 0,
                    "min": "-0.007859867820465206",
                    "max": "4.542029104423093",
                    "histogram": [
                      {
                        "bin_start": -0.007859867820465206,
                        "bin_end": 0.44712902940389054,
                        "count": 1
                      },
                      {
                        "bin_start": 0.44712902940389054,
                        "bin_end": 0.9021179266282463,
                        "count": 0
                      },
                      {
                        "bin_start": 0.9021179266282463,
                        "bin_end": 1.357106823852602,
                        "count": 0
                      },
                      {
                        "bin_start": 1.357106823852602,
                        "bin_end": 1.812095721076958,
                        "count": 0
                      },
                      {
                        "bin_start": 1.812095721076958,
                        "bin_end": 2.267084618301314,
                        "count": 0
                      },
                      {
                        "bin_start": 2.267084618301314,
                        "bin_end": 2.7220735155256692,
                        "count": 0
                      },
                      {
                        "bin_start": 2.7220735155256692,
                        "bin_end": 3.177062412750025,
                        "count": 0
                      },
                      {
                        "bin_start": 3.177062412750025,
                        "bin_end": 3.632051309974381,
                        "count": 0
                      },
                      {
                        "bin_start": 3.632051309974381,
                        "bin_end": 4.087040207198736,
                        "count": 0
                      },
                      {
                        "bin_start": 4.087040207198736,
                        "bin_end": 4.542029104423093,
                        "count": 1
                      }
                    ]
                  }
                },
                {
                  "name": "V5",
                  "dtype": "float64",
                  "stats": {
                    "unique_count": 2,
                    "nan_count": 0,
                    "min": "-3.1512248859360046",
                    "max": "0.005453115888647453",
                    "histogram": [
                      {
                        "bin_start": -3.1512248859360046,
                        "bin_end": -2.8355570857535395,
                        "count": 1
                      },
                      {
                        "bin_start": -2.8355570857535395,
                        "bin_end": -2.5198892855710744,
                        "count": 0
                      },
                      {
                        "bin_start": -2.5198892855710744,
                        "bin_end": -2.204221485388609,
                        "count": 0
                      },
                      {
                        "bin_start": -2.204221485388609,
                        "bin_end": -1.8885536852061438,
                        "count": 0
                      },
                      {
                        "bin_start": -1.8885536852061438,
                        "bin_end": -1.5728858850236787,
                        "count": 0
                      },
                      {
                        "bin_start": -1.5728858850236787,
                        "bin_end": -1.2572180848412133,
                        "count": 0
                      },
                      {
                        "bin_start": -1.2572180848412133,
                        "bin_end": -0.941550284658748,
                        "count": 0
                      },
                      {
                        "bin_start": -0.941550284658748,
                        "bin_end": -0.6258824844762829,
                        "count": 0
                      },
                      {
                        "bin_start": -0.6258824844762829,
                        "bin_end": -0.3102146842938178,
                        "count": 0
                      },
                      {
                        "bin_start": -0.3102146842938178,
                        "bin_end": 0.005453115888647453,
                        "count": 1
                      }
                    ]
                  }
                },
                {
                  "name": "V6",
                  "dtype": "float64",
                  "stats": {
                    "unique_count": 2,
                    "nan_count": 0,
                    "min": "-1.3977367105923515",
                    "max": "0.002418748436107356",
                    "histogram": [
                      {
                        "bin_start": -1.3977367105923515,
                        "bin_end": -1.2577211646895057,
                        "count": 1
                      },
                      {
                        "bin_start": -1.2577211646895057,
                        "bin_end": -1.1177056187866596,
                        "count": 0
                      },
                      {
                        "bin_start": -1.1177056187866596,
                        "bin_end": -0.9776900728838138,
                        "count": 0
                      },
                      {
                        "bin_start": -0.9776900728838138,
                        "bin_end": -0.837674526980968,
                        "count": 0
                      },
                      {
                        "bin_start": -0.837674526980968,
                        "bin_end": -0.6976589810781222,
                        "count": 0
                      },
                      {
                        "bin_start": -0.6976589810781222,
                        "bin_end": -0.5576434351752763,
                        "count": 0
                      },
                      {
                        "bin_start": -0.5576434351752763,
                        "bin_end": -0.41762788927243033,
                        "count": 0
                      },
                      {
                        "bin_start": -0.41762788927243033,
                        "bin_end": -0.2776123433695845,
                        "count": 0
                      },
                      {
                        "bin_start": -0.2776123433695845,
                        "bin_end": -0.1375967974667387,
                        "count": 0
                      },
                      {
                        "bin_start": -0.1375967974667387,
                        "bin_end": 0.002418748436107356,
                        "count": 1
                      }
                    ]
                  }
                },
                {
                  "name": "V7",
                  "dtype": "float64",
                  "stats": {
                    "unique_count": 2,
                    "nan_count": 0,
                    "min": "-5.5687310837427395",
                    "max": "0.009636549929484083",
                    "histogram": [
                      {
                        "bin_start": -5.5687310837427395,
                        "bin_end": -5.010894320375517,
                        "count": 1
                      },
                      {
                        "bin_start": -5.010894320375517,
                        "bin_end": -4.453057557008295,
                        "count": 0
                      },
                      {
                        "bin_start": -4.453057557008295,
                        "bin_end": -3.8952207936410725,
                        "count": 0
                      },
                      {
                        "bin_start": -3.8952207936410725,
                        "bin_end": -3.33738403027385,
                        "count": 0
                      },
                      {
                        "bin_start": -3.33738403027385,
                        "bin_end": -2.779547266906628,
                        "count": 0
                      },
                      {
                        "bin_start": -2.779547266906628,
                        "bin_end": -2.2217105035394056,
                        "count": 0
                      },
                      {
                        "bin_start": -2.2217105035394056,
                        "bin_end": -1.6638737401721833,
                        "count": 0
                      },
                      {
                        "bin_start": -1.6638737401721833,
                        "bin_end": -1.106036976804961,
                        "count": 0
                      },
                      {
                        "bin_start": -1.106036976804961,
                        "bin_end": -0.5482002134377391,
                        "count": 0
                      },
                      {
                        "bin_start": -0.5482002134377391,
                        "bin_end": 0.009636549929484083,
                        "count": 1
                      }
                    ]
                  }
                },
                {
                  "name": "V8",
                  "dtype": "float64",
                  "stats": {
                    "unique_count": 2,
                    "nan_count": 0,
                    "min": "-0.000987471151665288",
                    "max": "0.5706358952962378",
                    "histogram": [
                      {
                        "bin_start": -0.000987471151665288,
                        "bin_end": 0.056174865493125024,
                        "count": 1
                      },
                      {
                        "bin_start": 0.056174865493125024,
                        "bin_end": 0.11333720213791534,
                        "count": 0
                      },
                      {
                        "bin_start": 0.11333720213791534,
                        "bin_end": 0.17049953878270566,
                        "count": 0
                      },
                      {
                        "bin_start": 0.17049953878270566,
                        "bin_end": 0.22766187542749597,
                        "count": 0
                      },
                      {
                        "bin_start": 0.22766187542749597,
                        "bin_end": 0.28482421207228625,
                        "count": 0
                      },
                      {
                        "bin_start": 0.28482421207228625,
                        "bin_end": 0.34198654871707657,
                        "count": 0
                      },
                      {
                        "bin_start": 0.34198654871707657,
                        "bin_end": 0.3991488853618669,
                        "count": 0
                      },
                      {
                        "bin_start": 0.3991488853618669,
                        "bin_end": 0.4563112220066572,
                        "count": 0
                      },
                      {
                        "bin_start": 0.4563112220066572,
                        "bin_end": 0.5134735586514475,
                        "count": 0
                      },
                      {
                        "bin_start": 0.5134735586514475,
                        "bin_end": 0.5706358952962378,
                        "count": 1
                      }
                    ]
                  }
                },
                {
                  "name": "V9",
                  "dtype": "float64",
                  "stats": {
                    "unique_count": 2,
                    "nan_count": 0,
                    "min": "-2.5811229217029954",
                    "max": "0.004466568691335972",
                    "histogram": [
                      {
                        "bin_start": -2.5811229217029954,
                        "bin_end": -2.3225639726635623,
                        "count": 1
                      },
                      {
                        "bin_start": -2.3225639726635623,
                        "bin_end": -2.064005023624129,
                        "count": 0
                      },
                      {
                        "bin_start": -2.064005023624129,
                        "bin_end": -1.8054460745846959,
                        "count": 0
                      },
                      {
                        "bin_start": -1.8054460745846959,
                        "bin_end": -1.5468871255452628,
                        "count": 0
                      },
                      {
                        "bin_start": -1.5468871255452628,
                        "bin_end": -1.2883281765058296,
                        "count": 0
                      },
                      {
                        "bin_start": -1.2883281765058296,
                        "bin_end": -1.0297692274663963,
                        "count": 0
                      },
                      {
                        "bin_start": -1.0297692274663963,
                        "bin_end": -0.7712102784269632,
                        "count": 0
                      },
                      {
                        "bin_start": -0.7712102784269632,
                        "bin_end": -0.5126513293875301,
                        "count": 0
                      },
                      {
                        "bin_start": -0.5126513293875301,
                        "bin_end": -0.254092380348097,
                        "count": 0
                      },
                      {
                        "bin_start": -0.254092380348097,
                        "bin_end": 0.004466568691335972,
                        "count": 1
                      }
                    ]
                  }
                },
                {
                  "name": "V10",
                  "dtype": "float64",
                  "stats": {
                    "unique_count": 2,
                    "nan_count": 0,
                    "min": "-5.676882870194368",
                    "max": "0.009823703892289417",
                    "histogram": [
                      {
                        "bin_start": -5.676882870194368,
                        "bin_end": -5.108212212785702,
                        "count": 1
                      },
                      {
                        "bin_start": -5.108212212785702,
                        "bin_end": -4.539541555377037,
                        "count": 0
                      },
                      {
                        "bin_start": -4.539541555377037,
                        "bin_end": -3.970870897968371,
                        "count": 0
                      },
                      {
                        "bin_start": -3.970870897968371,
                        "bin_end": -3.402200240559705,
                        "count": 0
                      },
                      {
                        "bin_start": -3.402200240559705,
                        "bin_end": -2.8335295831510394,
                        "count": 0
                      },
                      {
                        "bin_start": -2.8335295831510394,
                        "bin_end": -2.2648589257423737,
                        "count": 0
                      },
                      {
                        "bin_start": -2.2648589257423737,
                        "bin_end": -1.696188268333708,
                        "count": 0
                      },
                      {
                        "bin_start": -1.696188268333708,
                        "bin_end": -1.1275176109250422,
                        "count": 0
                      },
                      {
                        "bin_start": -1.1275176109250422,
                        "bin_end": -0.5588469535163769,
                        "count": 0
                      },
                      {
                        "bin_start": -0.5588469535163769,
                        "bin_end": 0.009823703892289417,
                        "count": 1
                      }
                    ]
                  }
                },
                {
                  "name": "V11",
                  "dtype": "float64",
                  "stats": {
                    "unique_count": 2,
                    "nan_count": 0,
                    "min": "-0.0065761042238215465",
                    "max": "3.800172911374607",
                    "histogram": [
                      {
                        "bin_start": -0.0065761042238215465,
                        "bin_end": 0.3740987973360213,
                        "count": 1
                      },
                      {
                        "bin_start": 0.3740987973360213,
                        "bin_end": 0.7547736988958641,
                        "count": 0
                      },
                      {
                        "bin_start": 0.7547736988958641,
                        "bin_end": 1.1354486004557072,
                        "count": 0
                      },
                      {
                        "bin_start": 1.1354486004557072,
                        "bin_end": 1.51612350201555,
                        "count": 0
                      },
                      {
                        "bin_start": 1.51612350201555,
                        "bin_end": 1.8967984035753926,
                        "count": 0
                      },
                      {
                        "bin_start": 1.8967984035753926,
                        "bin_end": 2.277473305135236,
                        "count": 0
                      },
                      {
                        "bin_start": 2.277473305135236,
                        "bin_end": 2.6581482066950786,
                        "count": 0
                      },
                      {
                        "bin_start": 2.6581482066950786,
                        "bin_end": 3.0388231082549213,
                        "count": 0
                      },
                      {
                        "bin_start": 3.0388231082549213,
                        "bin_end": 3.419498009814764,
                        "count": 0
                      },
                      {
                        "bin_start": 3.419498009814764,
                        "bin_end": 3.800172911374607,
                        "count": 1
                      }
                    ]
                  }
                },
                {
                  "name": "V12",
                  "dtype": "float64",
                  "stats": {
                    "unique_count": 2,
                    "nan_count": 0,
                    "min": "-6.259393036190131",
                    "max": "0.010831723172555756",
                    "histogram": [
                      {
                        "bin_start": -6.259393036190131,
                        "bin_end": -5.632370560253863,
                        "count": 1
                      },
                      {
                        "bin_start": -5.632370560253863,
                        "bin_end": -5.0053480843175935,
                        "count": 0
                      },
                      {
                        "bin_start": -5.0053480843175935,
                        "bin_end": -4.378325608381325,
                        "count": 0
                      },
                      {
                        "bin_start": -4.378325608381325,
                        "bin_end": -3.7513031324450563,
                        "count": 0
                      },
                      {
                        "bin_start": -3.7513031324450563,
                        "bin_end": -3.1242806565087875,
                        "count": 0
                      },
                      {
                        "bin_start": -3.1242806565087875,
                        "bin_end": -2.497258180572519,
                        "count": 0
                      },
                      {
                        "bin_start": -2.497258180572519,
                        "bin_end": -1.8702357046362499,
                        "count": 0
                      },
                      {
                        "bin_start": -1.8702357046362499,
                        "bin_end": -1.2432132286999815,
                        "count": 0
                      },
                      {
                        "bin_start": -1.2432132286999815,
                        "bin_end": -0.6161907527637132,
                        "count": 0
                      },
                      {
                        "bin_start": -0.6161907527637132,
                        "bin_end": 0.010831723172555756,
                        "count": 1
                      }
                    ]
                  }
                },
                {
                  "name": "V13",
                  "dtype": "float64",
                  "stats": {
                    "unique_count": 2,
                    "nan_count": 0,
                    "min": "-0.10933381708278404",
                    "max": "0.00018919943726136392",
                    "histogram": [
                      {
                        "bin_start": -0.10933381708278404,
                        "bin_end": -0.0983815154307795,
                        "count": 1
                      },
                      {
                        "bin_start": -0.0983815154307795,
                        "bin_end": -0.08742921377877497,
                        "count": 0
                      },
                      {
                        "bin_start": -0.08742921377877497,
                        "bin_end": -0.07647691212677042,
                        "count": 0
                      },
                      {
                        "bin_start": -0.07647691212677042,
                        "bin_end": -0.06552461047476588,
                        "count": 0
                      },
                      {
                        "bin_start": -0.06552461047476588,
                        "bin_end": -0.05457230882276133,
                        "count": 0
                      },
                      {
                        "bin_start": -0.05457230882276133,
                        "bin_end": -0.0436200071707568,
                        "count": 0
                      },
                      {
                        "bin_start": -0.0436200071707568,
                        "bin_end": -0.032667705518752255,
                        "count": 0
                      },
                      {
                        "bin_start": -0.032667705518752255,
                        "bin_end": -0.02171540386674771,
                        "count": 0
                      },
                      {
                        "bin_start": -0.02171540386674771,
                        "bin_end": -0.010763102214743164,
                        "count": 0
                      },
                      {
                        "bin_start": -0.010763102214743164,
                        "bin_end": 0.00018919943726136392,
                        "count": 1
                      }
                    ]
                  }
                },
                {
                  "name": "V14",
                  "dtype": "float64",
                  "stats": {
                    "unique_count": 2,
                    "nan_count": 0,
                    "min": "-6.971722894107602",
                    "max": "0.012064392184377487",
                    "histogram": [
                      {
                        "bin_start": -6.971722894107602,
                        "bin_end": -6.273344165478404,
                        "count": 1
                      },
                      {
                        "bin_start": -6.273344165478404,
                        "bin_end": -5.574965436849206,
                        "count": 0
                      },
                      {
                        "bin_start": -5.574965436849206,
                        "bin_end": -4.8765867082200085,
                        "count": 0
                      },
                      {
                        "bin_start": -4.8765867082200085,
                        "bin_end": -4.178207979590811,
                        "count": 0
                      },
                      {
                        "bin_start": -4.178207979590811,
                        "bin_end": -3.4798292509616124,
                        "count": 0
                      },
                      {
                        "bin_start": -3.4798292509616124,
                        "bin_end": -2.781450522332414,
                        "count": 0
                      },
                      {
                        "bin_start": -2.781450522332414,
                        "bin_end": -2.0830717937032164,
                        "count": 0
                      },
                      {
                        "bin_start": -2.0830717937032164,
                        "bin_end": -1.3846930650740186,
                        "count": 0
                      },
                      {
                        "bin_start": -1.3846930650740186,
                        "bin_end": -0.6863143364448208,
                        "count": 0
                      },
                      {
                        "bin_start": -0.6863143364448208,
                        "bin_end": 0.012064392184377487,
                        "count": 1
                      }
                    ]
                  }
                },
                {
                  "name": "V15",
                  "dtype": "float64",
                  "stats": {
                    "unique_count": 2,
                    "nan_count": 0,
                    "min": "-0.09292874691208504",
                    "max": "0.00016081087344015633",
                    "histogram": [
                      {
                        "bin_start": -0.09292874691208504,
                        "bin_end": -0.08361979113353252,
                        "count": 1
                      },
                      {
                        "bin_start": -0.08361979113353252,
                        "bin_end": -0.07431083535498001,
                        "count": 0
                      },
                      {
                        "bin_start": -0.07431083535498001,
                        "bin_end": -0.06500187957642749,
                        "count": 0
                      },
                      {
                        "bin_start": -0.06500187957642749,
                        "bin_end": -0.055692923797874966,
                        "count": 0
                      },
                      {
                        "bin_start": -0.055692923797874966,
                        "bin_end": -0.046383968019322444,
                        "count": 0
                      },
                      {
                        "bin_start": -0.046383968019322444,
                        "bin_end": -0.03707501224076993,
                        "count": 0
                      },
                      {
                        "bin_start": -0.03707501224076993,
                        "bin_end": -0.027766056462217414,
                        "count": 0
                      },
                      {
                        "bin_start": -0.027766056462217414,
                        "bin_end": -0.018457100683664893,
                        "count": 0
                      },
                      {
                        "bin_start": -0.018457100683664893,
                        "bin_end": -0.009148144905112371,
                        "count": 0
                      },
                      {
                        "bin_start": -0.009148144905112371,
                        "bin_end": 0.00016081087344015633,
                        "count": 1
                      }
                    ]
                  }
                },
                {
                  "name": "V16",
                  "dtype": "float64",
                  "stats": {
                    "unique_count": 2,
                    "nan_count": 0,
                    "min": "-4.139945699092808",
                    "max": "0.007164072539099487",
                    "histogram": [
                      {
                        "bin_start": -4.139945699092808,
                        "bin_end": -3.725234721929617,
                        "count": 1
                      },
                      {
                        "bin_start": -3.725234721929617,
                        "bin_end": -3.310523744766426,
                        "count": 0
                      },
                      {
                        "bin_start": -3.310523744766426,
                        "bin_end": -2.8958127676032355,
                        "count": 0
                      },
                      {
                        "bin_start": -2.8958127676032355,
                        "bin_end": -2.4811017904400448,
                        "count": 0
                      },
                      {
                        "bin_start": -2.4811017904400448,
                        "bin_end": -2.066390813276854,
                        "count": 0
                      },
                      {
                        "bin_start": -2.066390813276854,
                        "bin_end": -1.6516798361136633,
                        "count": 0
                      },
                      {
                        "bin_start": -1.6516798361136633,
                        "bin_end": -1.2369688589504726,
                        "count": 0
                      },
                      {
                        "bin_start": -1.2369688589504726,
                        "bin_end": -0.8222578817872819,
                        "count": 0
                      },
                      {
                        "bin_start": -0.8222578817872819,
                        "bin_end": -0.40754690462409116,
                        "count": 0
                      },
                      {
                        "bin_start": -0.40754690462409116,
                        "bin_end": 0.007164072539099487,
                        "count": 1
                      }
                    ]
                  }
                },
                {
                  "name": "V17",
                  "dtype": "float64",
                  "stats": {
                    "unique_count": 2,
                    "nan_count": 0,
                    "min": "-6.665836399449663",
                    "max": "0.011535063252129248",
                    "histogram": [
                      {
                        "bin_start": -6.665836399449663,
                        "bin_end": -5.998099253179484,
                        "count": 1
                      },
                      {
                        "bin_start": -5.998099253179484,
                        "bin_end": -5.330362106909305,
                        "count": 0
                      },
                      {
                        "bin_start": -5.330362106909305,
                        "bin_end": -4.662624960639126,
                        "count": 0
                      },
                      {
                        "bin_start": -4.662624960639126,
                        "bin_end": -3.9948878143689464,
                        "count": 0
                      },
                      {
                        "bin_start": -3.9948878143689464,
                        "bin_end": -3.327150668098767,
                        "count": 0
                      },
                      {
                        "bin_start": -3.327150668098767,
                        "bin_end": -2.659413521828588,
                        "count": 0
                      },
                      {
                        "bin_start": -2.659413521828588,
                        "bin_end": -1.9916763755584084,
                        "count": 0
                      },
                      {
                        "bin_start": -1.9916763755584084,
                        "bin_end": -1.3239392292882295,
                        "count": 0
                      },
                      {
                        "bin_start": -1.3239392292882295,
                        "bin_end": -0.6562020830180506,
                        "count": 0
                      },
                      {
                        "bin_start": -0.6562020830180506,
                        "bin_end": 0.011535063252129248,
                        "count": 1
                      }
                    ]
                  }
                },
                {
                  "name": "V18",
                  "dtype": "float64",
                  "stats": {
                    "unique_count": 2,
                    "nan_count": 0,
                    "min": "-2.2463081339714064",
                    "max": "0.0038871800710979306",
                    "histogram": [
                      {
                        "bin_start": -2.2463081339714064,
                        "bin_end": -2.021288602567156,
                        "count": 1
                      },
                      {
                        "bin_start": -2.021288602567156,
                        "bin_end": -1.7962690711629055,
                        "count": 0
                      },
                      {
                        "bin_start": -1.7962690711629055,
                        "bin_end": -1.5712495397586552,
                        "count": 0
                      },
                      {
                        "bin_start": -1.5712495397586552,
                        "bin_end": -1.3462300083544048,
                        "count": 0
                      },
                      {
                        "bin_start": -1.3462300083544048,
                        "bin_end": -1.1212104769501543,
                        "count": 0
                      },
                      {
                        "bin_start": -1.1212104769501543,
                        "bin_end": -0.8961909455459041,
                        "count": 0
                      },
                      {
                        "bin_start": -0.8961909455459041,
                        "bin_end": -0.6711714141416536,
                        "count": 0
                      },
                      {
                        "bin_start": -0.6711714141416536,
                        "bin_end": -0.44615188273740314,
                        "count": 0
                      },
                      {
                        "bin_start": -0.44615188273740314,
                        "bin_end": -0.22113235133315268,
                        "count": 0
                      },
                      {
                        "bin_start": -0.22113235133315268,
                        "bin_end": 0.0038871800710979306,
                        "count": 1
                      }
                    ]
                  }
                },
                {
                  "name": "V19",
                  "dtype": "float64",
                  "stats": {
                    "unique_count": 2,
                    "nan_count": 0,
                    "min": "-0.0011778639090783659",
                    "max": "0.680659303475429",
                    "histogram": [
                      {
                        "bin_start": -0.0011778639090783659,
                        "bin_end": 0.06700585282937237,
                        "count": 1
                      },
                      {
                        "bin_start": 0.06700585282937237,
                        "bin_end": 0.1351895695678231,
                        "count": 0
                      },
                      {
                        "bin_start": 0.1351895695678231,
                        "bin_end": 0.20337328630627383,
                        "count": 0
                      },
                      {
                        "bin_start": 0.20337328630627383,
                        "bin_end": 0.2715570030447246,
                        "count": 0
                      },
                      {
                        "bin_start": 0.2715570030447246,
                        "bin_end": 0.3397407197831753,
                        "count": 0
                      },
                      {
                        "bin_start": 0.3397407197831753,
                        "bin_end": 0.407924436521626,
                        "count": 0
                      },
                      {
                        "bin_start": 0.407924436521626,
                        "bin_end": 0.47610815326007677,
                        "count": 0
                      },
                      {
                        "bin_start": 0.47610815326007677,
                        "bin_end": 0.5442918699985275,
                        "count": 0
                      },
                      {
                        "bin_start": 0.5442918699985275,
                        "bin_end": 0.6124755867369782,
                        "count": 0
                      },
                      {
                        "bin_start": 0.6124755867369782,
                        "bin_end": 0.680659303475429,
                        "count": 1
                      }
                    ]
                  }
                },
                {
                  "name": "V20",
                  "dtype": "float64",
                  "stats": {
                    "unique_count": 2,
                    "nan_count": 0,
                    "min": "-0.0006442894068880699",
                    "max": "0.37231939577147166",
                    "histogram": [
                      {
                        "bin_start": -0.0006442894068880699,
                        "bin_end": 0.0366520791109479,
                        "count": 1
                      },
                      {
                        "bin_start": 0.0366520791109479,
                        "bin_end": 0.07394844762878387,
                        "count": 0
                      },
                      {
                        "bin_start": 0.07394844762878387,
                        "bin_end": 0.11124481614661985,
                        "count": 0
                      },
                      {
                        "bin_start": 0.11124481614661985,
                        "bin_end": 0.14854118466445582,
                        "count": 0
                      },
                      {
                        "bin_start": 0.14854118466445582,
                        "bin_end": 0.18583755318229178,
                        "count": 0
                      },
                      {
                        "bin_start": 0.18583755318229178,
                        "bin_end": 0.22313392170012777,
                        "count": 0
                      },
                      {
                        "bin_start": 0.22313392170012777,
                        "bin_end": 0.26043029021796377,
                        "count": 0
                      },
                      {
                        "bin_start": 0.26043029021796377,
                        "bin_end": 0.29772665873579973,
                        "count": 0
                      },
                      {
                        "bin_start": 0.29772665873579973,
                        "bin_end": 0.3350230272536357,
                        "count": 0
                      },
                      {
                        "bin_start": 0.3350230272536357,
                        "bin_end": 0.37231939577147166,
                        "count": 1
                      }
                    ]
                  }
                },
                {
                  "name": "V21",
                  "dtype": "float64",
                  "stats": {
                    "unique_count": 2,
                    "nan_count": 0,
                    "min": "-0.0012348468055254022",
                    "max": "0.7135883526687006",
                    "histogram": [
                      {
                        "bin_start": -0.0012348468055254022,
                        "bin_end": 0.0702474731418972,
                        "count": 1
                      },
                      {
                        "bin_start": 0.0702474731418972,
                        "bin_end": 0.1417297930893198,
                        "count": 0
                      },
                      {
                        "bin_start": 0.1417297930893198,
                        "bin_end": 0.2132121130367424,
                        "count": 0
                      },
                      {
                        "bin_start": 0.2132121130367424,
                        "bin_end": 0.284694432984165,
                        "count": 0
                      },
                      {
                        "bin_start": 0.284694432984165,
                        "bin_end": 0.3561767529315876,
                        "count": 0
                      },
                      {
                        "bin_start": 0.3561767529315876,
                        "bin_end": 0.4276590728790102,
                        "count": 0
                      },
                      {
                        "bin_start": 0.4276590728790102,
                        "bin_end": 0.49914139282643283,
                        "count": 0
                      },
                      {
                        "bin_start": 0.49914139282643283,
                        "bin_end": 0.5706237127738554,
                        "count": 0
                      },
                      {
                        "bin_start": 0.5706237127738554,
                        "bin_end": 0.642106032721278,
                        "count": 0
                      },
                      {
                        "bin_start": 0.642106032721278,
                        "bin_end": 0.7135883526687006,
                        "count": 1
                      }
                    ]
                  }
                },
                {
                  "name": "V22",
                  "dtype": "float64",
                  "stats": {
                    "unique_count": 2,
                    "nan_count": 0,
                    "min": "-2.4311239340307784e-05",
                    "max": "0.01404888214012134",
                    "histogram": [
                      {
                        "bin_start": -0.000024311239340307784,
                        "bin_end": 0.001383008098605857,
                        "count": 1
                      },
                      {
                        "bin_start": 0.001383008098605857,
                        "bin_end": 0.0027903274365520215,
                        "count": 0
                      },
                      {
                        "bin_start": 0.0027903274365520215,
                        "bin_end": 0.004197646774498186,
                        "count": 0
                      },
                      {
                        "bin_start": 0.004197646774498186,
                        "bin_end": 0.005604966112444351,
                        "count": 0
                      },
                      {
                        "bin_start": 0.005604966112444351,
                        "bin_end": 0.007012285450390516,
                        "count": 0
                      },
                      {
                        "bin_start": 0.007012285450390516,
                        "bin_end": 0.008419604788336681,
                        "count": 0
                      },
                      {
                        "bin_start": 0.008419604788336681,
                        "bin_end": 0.009826924126282846,
                        "count": 0
                      },
                      {
                        "bin_start": 0.009826924126282846,
                        "bin_end": 0.01123424346422901,
                        "count": 0
                      },
                      {
                        "bin_start": 0.01123424346422901,
                        "bin_end": 0.012641562802175176,
                        "count": 0
                      },
                      {
                        "bin_start": 0.012641562802175176,
                        "bin_end": 0.01404888214012134,
                        "count": 1
                      }
                    ]
                  }
                },
                {
                  "name": "V23",
                  "dtype": "float64",
                  "stats": {
                    "unique_count": 2,
                    "nan_count": 0,
                    "min": "-0.04030796594836945",
                    "max": "6.975192742793267e-05",
                    "histogram": [
                      {
                        "bin_start": -0.04030796594836945,
                        "bin_end": -0.03627019416078971,
                        "count": 1
                      },
                      {
                        "bin_start": -0.03627019416078971,
                        "bin_end": -0.032232422373209973,
                        "count": 0
                      },
                      {
                        "bin_start": -0.032232422373209973,
                        "bin_end": -0.028194650585630233,
                        "count": 0
                      },
                      {
                        "bin_start": -0.028194650585630233,
                        "bin_end": -0.024156878798050493,
                        "count": 0
                      },
                      {
                        "bin_start": -0.024156878798050493,
                        "bin_end": -0.020119107010470753,
                        "count": 0
                      },
                      {
                        "bin_start": -0.020119107010470753,
                        "bin_end": -0.016081335222891017,
                        "count": 0
                      },
                      {
                        "bin_start": -0.016081335222891017,
                        "bin_end": -0.01204356343531128,
                        "count": 0
                      },
                      {
                        "bin_start": -0.01204356343531128,
                        "bin_end": -0.00800579164773154,
                        "count": 0
                      },
                      {
                        "bin_start": -0.00800579164773154,
                        "bin_end": -0.0039680198601518,
                        "count": 0
                      },
                      {
                        "bin_start": -0.0039680198601518,
                        "bin_end": 0.00006975192742793267,
                        "count": 1
                      }
                    ]
                  }
                },
                {
                  "name": "V24",
                  "dtype": "float64",
                  "stats": {
                    "unique_count": 2,
                    "nan_count": 0,
                    "min": "-0.1051303054394829",
                    "max": "0.00018192536544853248",
                    "histogram": [
                      {
                        "bin_start": -0.1051303054394829,
                        "bin_end": -0.09459908235898976,
                        "count": 1
                      },
                      {
                        "bin_start": -0.09459908235898976,
                        "bin_end": -0.08406785927849661,
                        "count": 0
                      },
                      {
                        "bin_start": -0.08406785927849661,
                        "bin_end": -0.07353663619800348,
                        "count": 0
                      },
                      {
                        "bin_start": -0.07353663619800348,
                        "bin_end": -0.06300541311751033,
                        "count": 0
                      },
                      {
                        "bin_start": -0.06300541311751033,
                        "bin_end": -0.052474190037017185,
                        "count": 0
                      },
                      {
                        "bin_start": -0.052474190037017185,
                        "bin_end": -0.04194296695652405,
                        "count": 0
                      },
                      {
                        "bin_start": -0.04194296695652405,
                        "bin_end": -0.031411743876030906,
                        "count": 0
                      },
                      {
                        "bin_start": -0.031411743876030906,
                        "bin_end": -0.02088052079553776,
                        "count": 0
                      },
                      {
                        "bin_start": -0.02088052079553776,
                        "bin_end": -0.010349297715044614,
                        "count": 0
                      },
                      {
                        "bin_start": -0.010349297715044614,
                        "bin_end": 0.00018192536544853248,
                        "count": 1
                      }
                    ]
                  }
                },
                {
                  "name": "V25",
                  "dtype": "float64",
                  "stats": {
                    "unique_count": 2,
                    "nan_count": 0,
                    "min": "-7.17262632402943e-05",
                    "max": "0.04144888726282707",
                    "histogram": [
                      {
                        "bin_start": -0.0000717262632402943,
                        "bin_end": 0.004080335089366441,
                        "count": 1
                      },
                      {
                        "bin_start": 0.004080335089366441,
                        "bin_end": 0.008232396441973178,
                        "count": 0
                      },
                      {
                        "bin_start": 0.008232396441973178,
                        "bin_end": 0.012384457794579914,
                        "count": 0
                      },
                      {
                        "bin_start": 0.012384457794579914,
                        "bin_end": 0.016536519147186648,
                        "count": 0
                      },
                      {
                        "bin_start": 0.016536519147186648,
                        "bin_end": 0.020688580499793382,
                        "count": 0
                      },
                      {
                        "bin_start": 0.020688580499793382,
                        "bin_end": 0.02484064185240012,
                        "count": 0
                      },
                      {
                        "bin_start": 0.02484064185240012,
                        "bin_end": 0.028992703205006857,
                        "count": 0
                      },
                      {
                        "bin_start": 0.028992703205006857,
                        "bin_end": 0.033144764557613594,
                        "count": 0
                      },
                      {
                        "bin_start": 0.033144764557613594,
                        "bin_end": 0.03729682591022033,
                        "count": 0
                      },
                      {
                        "bin_start": 0.03729682591022033,
                        "bin_end": 0.04144888726282707,
                        "count": 1
                      }
                    ]
                  }
                },
                {
                  "name": "V26",
                  "dtype": "float64",
                  "stats": {
                    "unique_count": 2,
                    "nan_count": 0,
                    "min": "-8.937579014912044e-05",
                    "max": "0.05164812556245366",
                    "histogram": [
                      {
                        "bin_start": -0.00008937579014912044,
                        "bin_end": 0.0050843743451111575,
                        "count": 1
                      },
                      {
                        "bin_start": 0.0050843743451111575,
                        "bin_end": 0.010258124480371436,
                        "count": 0
                      },
                      {
                        "bin_start": 0.010258124480371436,
                        "bin_end": 0.015431874615631714,
                        "count": 0
                      },
                      {
                        "bin_start": 0.015431874615631714,
                        "bin_end": 0.020605624750891994,
                        "count": 0
                      },
                      {
                        "bin_start": 0.020605624750891994,
                        "bin_end": 0.025779374886152274,
                        "count": 0
                      },
                      {
                        "bin_start": 0.025779374886152274,
                        "bin_end": 0.03095312502141255,
                        "count": 0
                      },
                      {
                        "bin_start": 0.03095312502141255,
                        "bin_end": 0.03612687515667282,
                        "count": 0
                      },
                      {
                        "bin_start": 0.03612687515667282,
                        "bin_end": 0.0413006252919331,
                        "count": 0
                      },
                      {
                        "bin_start": 0.0413006252919331,
                        "bin_end": 0.04647437542719338,
                        "count": 0
                      },
                      {
                        "bin_start": 0.04647437542719338,
                        "bin_end": 0.05164812556245366,
                        "count": 1
                      }
                    ]
                  }
                },
                {
                  "name": "V27",
                  "dtype": "float64",
                  "stats": {
                    "unique_count": 2,
                    "nan_count": 0,
                    "min": "-0.00029517541383410544",
                    "max": "0.17057479224418595",
                    "histogram": [
                      {
                        "bin_start": -0.00029517541383410544,
                        "bin_end": 0.0167918213519679,
                        "count": 1
                      },
                      {
                        "bin_start": 0.0167918213519679,
                        "bin_end": 0.0338788181177699,
                        "count": 0
                      },
                      {
                        "bin_start": 0.0338788181177699,
                        "bin_end": 0.05096581488357191,
                        "count": 0
                      },
                      {
                        "bin_start": 0.05096581488357191,
                        "bin_end": 0.06805281164937392,
                        "count": 0
                      },
                      {
                        "bin_start": 0.06805281164937392,
                        "bin_end": 0.08513980841517592,
                        "count": 0
                      },
                      {
                        "bin_start": 0.08513980841517592,
                        "bin_end": 0.10222680518097793,
                        "count": 0
                      },
                      {
                        "bin_start": 0.10222680518097793,
                        "bin_end": 0.11931380194677994,
                        "count": 0
                      },
                      {
                        "bin_start": 0.11931380194677994,
                        "bin_end": 0.13640079871258193,
                        "count": 0
                      },
                      {
                        "bin_start": 0.13640079871258193,
                        "bin_end": 0.15348779547838393,
                        "count": 0
                      },
                      {
                        "bin_start": 0.15348779547838393,
                        "bin_end": 0.17057479224418595,
                        "count": 1
                      }
                    ]
                  }
                },
                {
                  "name": "V28",
                  "dtype": "float64",
                  "stats": {
                    "unique_count": 2,
                    "nan_count": 0,
                    "min": "-0.00013094035488017165",
                    "max": "0.0756672906457746",
                    "histogram": [
                      {
                        "bin_start": -0.00013094035488017165,
                        "bin_end": 0.007448882745185306,
                        "count": 1
                      },
                      {
                        "bin_start": 0.007448882745185306,
                        "bin_end": 0.015028705845250784,
                        "count": 0
                      },
                      {
                        "bin_start": 0.015028705845250784,
                        "bin_end": 0.022608528945316266,
                        "count": 0
                      },
                      {
                        "bin_start": 0.022608528945316266,
                        "bin_end": 0.03018835204538174,
                        "count": 0
                      },
                      {
                        "bin_start": 0.03018835204538174,
                        "bin_end": 0.03776817514544722,
                        "count": 0
                      },
                      {
                        "bin_start": 0.03776817514544722,
                        "bin_end": 0.0453479982455127,
                        "count": 0
                      },
                      {
                        "bin_start": 0.0453479982455127,
                        "bin_end": 0.05292782134557818,
                        "count": 0
                      },
                      {
                        "bin_start": 0.05292782134557818,
                        "bin_end": 0.06050764444564365,
                        "count": 0
                      },
                      {
                        "bin_start": 0.06050764444564365,
                        "bin_end": 0.06808746754570913,
                        "count": 0
                      },
                      {
                        "bin_start": 0.06808746754570913,
                        "bin_end": 0.0756672906457746,
                        "count": 1
                      }
                    ]
                  }
                },
                {
                  "name": "Amount",
                  "dtype": "float64",
                  "stats": {
                    "unique_count": 2,
                    "nan_count": 0,
                    "min": "88.29102242231328",
                    "max": "122.21132113821139",
                    "histogram": [
                      {
                        "bin_start": 88.29102242231328,
                        "bin_end": 91.68305229390309,
                        "count": 1
                      },
                      {
                        "bin_start": 91.68305229390309,
                        "bin_end": 95.0750821654929,
                        "count": 0
                      },
                      {
                        "bin_start": 95.0750821654929,
                        "bin_end": 98.46711203708271,
                        "count": 0
                      },
                      {
                        "bin_start": 98.46711203708271,
                        "bin_end": 101.85914190867253,
                        "count": 0
                      },
                      {
                        "bin_start": 101.85914190867253,
                        "bin_end": 105.25117178026233,
                        "count": 0
                      },
                      {
                        "bin_start": 105.25117178026233,
                        "bin_end": 108.64320165185214,
                        "count": 0
                      },
                      {
                        "bin_start": 108.64320165185214,
                        "bin_end": 112.03523152344195,
                        "count": 0
                      },
                      {
                        "bin_start": 112.03523152344195,
                        "bin_end": 115.42726139503176,
                        "count": 0
                      },
                      {
                        "bin_start": 115.42726139503176,
                        "bin_end": 118.81929126662158,
                        "count": 0
                      },
                      {
                        "bin_start": 118.81929126662158,
                        "bin_end": 122.21132113821139,
                        "count": 1
                      }
                    ]
                  }
                },
                {
                  "name": "_deepnote_index_column",
                  "dtype": "int64"
                }
              ],
              "rows": [
                {
                  "Time": 94838.20225805884,
                  "V1": 0.008257737485563701,
                  "V2": -0.0062708574158070645,
                  "V3": 0.012170917031845342,
                  "V4": -0.007859867820465206,
                  "V5": 0.005453115888647453,
                  "V6": 0.002418748436107356,
                  "V7": 0.009636549929484083,
                  "V8": -0.000987471151665288,
                  "V9": 0.004466568691335972,
                  "V10": 0.009823703892289417,
                  "V11": -0.0065761042238215465,
                  "V12": 0.010831723172555756,
                  "V13": 0.00018919943726136392,
                  "V14": 0.012064392184377487,
                  "V15": 0.00016081087344015633,
                  "V16": 0.007164072539099487,
                  "V17": 0.011535063252129248,
                  "V18": 0.0038871800710979306,
                  "V19": -0.0011778639090783659,
                  "V20": -0.0006442894068880699,
                  "V21": -0.0012348468055254022,
                  "V22": -0.000024311239340307784,
                  "V23": 0.00006975192742793267,
                  "V24": 0.00018192536544853248,
                  "V25": -0.0000717262632402943,
                  "V26": -0.00008937579014912044,
                  "V27": -0.00029517541383410544,
                  "V28": -0.00013094035488017165,
                  "Amount": 88.29102242231328,
                  "_deepnote_index_column": 0
                },
                {
                  "Time": 80746.80691056911,
                  "V1": -4.771948441479082,
                  "V2": 3.6237781019822806,
                  "V3": -7.0332810485965584,
                  "V4": 4.542029104423093,
                  "V5": -3.1512248859360046,
                  "V6": -1.3977367105923515,
                  "V7": -5.5687310837427395,
                  "V8": 0.5706358952962378,
                  "V9": -2.5811229217029954,
                  "V10": -5.676882870194368,
                  "V11": 3.800172911374607,
                  "V12": -6.259393036190131,
                  "V13": -0.10933381708278404,
                  "V14": -6.971722894107602,
                  "V15": -0.09292874691208504,
                  "V16": -4.139945699092808,
                  "V17": -6.665836399449663,
                  "V18": -2.2463081339714064,
                  "V19": 0.680659303475429,
                  "V20": 0.37231939577147166,
                  "V21": 0.7135883526687006,
                  "V22": 0.01404888214012134,
                  "V23": -0.04030796594836945,
                  "V24": -0.1051303054394829,
                  "V25": 0.04144888726282707,
                  "V26": 0.05164812556245366,
                  "V27": 0.17057479224418595,
                  "V28": 0.0756672906457746,
                  "Amount": 122.21132113821139,
                  "_deepnote_index_column": 1
                }
              ]
            },
            "text/plain": "               Time        V1        V2        V3        V4        V5  \\\nClass                                                                   \n0      94838.202258  0.008258 -0.006271  0.012171 -0.007860  0.005453   \n1      80746.806911 -4.771948  3.623778 -7.033281  4.542029 -3.151225   \n\n             V6        V7        V8        V9  ...       V20       V21  \\\nClass                                          ...                       \n0      0.002419  0.009637 -0.000987  0.004467  ... -0.000644 -0.001235   \n1     -1.397737 -5.568731  0.570636 -2.581123  ...  0.372319  0.713588   \n\n            V22       V23       V24       V25       V26       V27       V28  \\\nClass                                                                         \n0     -0.000024  0.000070  0.000182 -0.000072 -0.000089 -0.000295 -0.000131   \n1      0.014049 -0.040308 -0.105130  0.041449  0.051648  0.170575  0.075667   \n\n           Amount  \nClass              \n0       88.291022  \n1      122.211321  \n\n[2 rows x 30 columns]",
            "text/html": "<div>\n<style scoped>\n    .dataframe tbody tr th:only-of-type {\n        vertical-align: middle;\n    }\n\n    .dataframe tbody tr th {\n        vertical-align: top;\n    }\n\n    .dataframe thead th {\n        text-align: right;\n    }\n</style>\n<table border=\"1\" class=\"dataframe\">\n  <thead>\n    <tr style=\"text-align: right;\">\n      <th></th>\n      <th>Time</th>\n      <th>V1</th>\n      <th>V2</th>\n      <th>V3</th>\n      <th>V4</th>\n      <th>V5</th>\n      <th>V6</th>\n      <th>V7</th>\n      <th>V8</th>\n      <th>V9</th>\n      <th>...</th>\n      <th>V20</th>\n      <th>V21</th>\n      <th>V22</th>\n      <th>V23</th>\n      <th>V24</th>\n      <th>V25</th>\n      <th>V26</th>\n      <th>V27</th>\n      <th>V28</th>\n      <th>Amount</th>\n    </tr>\n    <tr>\n      <th>Class</th>\n      <th></th>\n      <th></th>\n      <th></th>\n      <th></th>\n      <th></th>\n      <th></th>\n      <th></th>\n      <th></th>\n      <th></th>\n      <th></th>\n      <th></th>\n      <th></th>\n      <th></th>\n      <th></th>\n      <th></th>\n      <th></th>\n      <th></th>\n      <th></th>\n      <th></th>\n      <th></th>\n      <th></th>\n    </tr>\n  </thead>\n  <tbody>\n    <tr>\n      <th>0</th>\n      <td>94838.202258</td>\n      <td>0.008258</td>\n      <td>-0.006271</td>\n      <td>0.012171</td>\n      <td>-0.007860</td>\n      <td>0.005453</td>\n      <td>0.002419</td>\n      <td>0.009637</td>\n      <td>-0.000987</td>\n      <td>0.004467</td>\n      <td>...</td>\n      <td>-0.000644</td>\n      <td>-0.001235</td>\n      <td>-0.000024</td>\n      <td>0.000070</td>\n      <td>0.000182</td>\n      <td>-0.000072</td>\n      <td>-0.000089</td>\n      <td>-0.000295</td>\n      <td>-0.000131</td>\n      <td>88.291022</td>\n    </tr>\n    <tr>\n      <th>1</th>\n      <td>80746.806911</td>\n      <td>-4.771948</td>\n      <td>3.623778</td>\n      <td>-7.033281</td>\n      <td>4.542029</td>\n      <td>-3.151225</td>\n      <td>-1.397737</td>\n      <td>-5.568731</td>\n      <td>0.570636</td>\n      <td>-2.581123</td>\n      <td>...</td>\n      <td>0.372319</td>\n      <td>0.713588</td>\n      <td>0.014049</td>\n      <td>-0.040308</td>\n      <td>-0.105130</td>\n      <td>0.041449</td>\n      <td>0.051648</td>\n      <td>0.170575</td>\n      <td>0.075667</td>\n      <td>122.211321</td>\n    </tr>\n  </tbody>\n</table>\n<p>2 rows × 30 columns</p>\n</div>"
          },
          "metadata": {}
        }
      ],
      "outputs_reference": null,
      "execution_count": 12,
      "block_group": "b514d377221f47fdb6378a553ae57c3d",
      "content_dependencies": null
    },
    {
      "cell_type": "markdown",
      "source": "### Under-Sampling",
      "metadata": {
        "cell_id": "9c798bc803c8433c89a3a2a95c4c813b",
        "deepnote_cell_type": "markdown"
      },
      "block_group": "c58a450ddc504b56925719ae303258d7"
    },
    {
      "cell_type": "markdown",
      "source": "Build a sample dataset containing similar distributions of normal and fraud transactions",
      "metadata": {
        "formattedRanges": [],
        "cell_id": "dd487e69a1da4e38aa718698cb6a6145",
        "deepnote_cell_type": "text-cell-p"
      },
      "block_group": "350d8206908f46448b1daf8b2f392523"
    },
    {
      "cell_type": "code",
      "source": "legit_sample = legit.sample(n=492)",
      "metadata": {
        "cell_id": "1ac863f2526f432db942acf346e233cb",
        "deepnote_cell_type": "code"
      },
      "outputs": [],
      "outputs_reference": null,
      "execution_count": null,
      "block_group": "e363d522af5d4c71b4d0987910ad8164",
      "content_dependencies": null
    },
    {
      "cell_type": "markdown",
      "source": "### Linking 2 Dataframes",
      "metadata": {
        "cell_id": "3d9b283bdafa41efabfe486c4c8b68d5",
        "deepnote_cell_type": "markdown"
      },
      "block_group": "b35e3c72336a4a7a95003f00a82f2634"
    },
    {
      "cell_type": "code",
      "source": "new_dataset = pd.concat([legit_sample, fraud], axis=0)\n\nnew_dataset.head()\n\nnew_dataset.tail()\n\nnew_dataset['Class'].value_counts()\n\nnew_dataset.groupby('Class').mean()\n\nnew_dataset.info()",
      "metadata": {
        "cell_id": "56e31622ec3441349bba21b078ae9c0e",
        "deepnote_cell_type": "code"
      },
      "outputs": [],
      "outputs_reference": null,
      "execution_count": null,
      "block_group": "d65b4df51ad14310a3e7854b301b6892",
      "content_dependencies": null
    },
    {
      "cell_type": "markdown",
      "source": "<a style='text-decoration:none;line-height:16px;display:flex;color:#5B5B62;padding:10px;justify-content:end;' href='https://deepnote.com?utm_source=created-in-deepnote-cell&projectId=0e222dd4-00a3-4786-aa8b-a269f7a7f431' target=\"_blank\">\n<img alt='Created in deepnote.com' style='display:inline;max-height:16px;margin:0px;margin-right:7.5px;' src='data:image/svg+xml;base64,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' > </img>\nCreated in <span style='font-weight:600;margin-left:4px;'>Deepnote</span></a>",
      "metadata": {
        "created_in_deepnote_cell": true,
        "deepnote_cell_type": "markdown"
      }
    }
  ],
  "nbformat": 4,
  "nbformat_minor": 0,
  "metadata": {
    "deepnote_notebook_id": "602660e972ad4c99a177b4217ccb4bd2",
    "deepnote_execution_queue": []
  }
}